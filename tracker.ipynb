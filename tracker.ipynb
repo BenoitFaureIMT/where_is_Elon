{
 "cells": [
  {
   "attachments": {},
   "cell_type": "markdown",
   "metadata": {},
   "source": [
    "<center><h1>Where is Elon?!</h1></center>\n",
    "\n",
    "Elon musk tracker, will include:\n",
    "- Data scraping\n",
    "- Data visualization\n",
    "\n",
    "Jet information\n",
    "- Registration: N628TS\n",
    "- ICON hex number: A835AF\n",
    "\n",
    "other info (temporary)\n",
    "ads-b exchange replay function\n",
    "https://globe.adsbexchange.com/?replay=2023-02-16-11:46&lat=40.560&lon=-73.660&zoom=9.0\n",
    "\n",
    "\n",
    "maybe:\n",
    "https://globe.adsbexchange.com/?replay=2023-03-01&icao=a835af\n",
    "\n",
    "\n",
    "https://globe.adsbexchange.com/?icao=a835af&lat=37.731&lon=-122.215&zoom=1.0&showTrace=2023-02-08 <- we got a winner!!!!!\n",
    "\n",
    "console:\n",
    "selectedPlanes()\n",
    "-> fullTrace\n",
    "-> trace"
   ]
  },
  {
   "cell_type": "code",
   "execution_count": null,
   "metadata": {},
   "outputs": [],
   "source": []
  }
 ],
 "metadata": {
  "language_info": {
   "name": "python"
  },
  "orig_nbformat": 4
 },
 "nbformat": 4,
 "nbformat_minor": 2
}
