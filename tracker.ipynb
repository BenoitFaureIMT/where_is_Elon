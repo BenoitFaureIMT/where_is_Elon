{
 "cells": [
  {
   "attachments": {},
   "cell_type": "markdown",
   "metadata": {},
   "source": [
    "<center><h1>Where is Elon?!</h1></center>\n",
    "\n",
    "Elon musk's plane tracker, will include:\n",
    "- Data scraping\n",
    "- Data visualization\n",
    "\n",
    "Jet information\n",
    "- Registration: N628TS\n",
    "- ICAO hex number: A835AF\n",
    "- Category: A3 Large (75000 to 300000 lb)\n",
    "- Bought in 2006\n",
    "\n",
    "Source is ADS-B exchange (All proper APIs are priced)\n",
    "- https://globe.adsbexchange.com\n",
    "- https://globe.adsbexchange.com/?icao=a835af&lat=37.731&lon=-122.215&zoom=1.0&showTrace=2023-02-08 Using their replay function for day -> showTrace=YYYY-MM-DD\n",
    "- https://globe.adsbexchange.com/?replay=2023-02-16-11:46&lat=40.560&lon=-73.660&zoom=9.0 (Deprecated) Using their replay function -> replay=YYYY-MM-DD-HH:MM\n",
    "\n",
    "- Beginning of data seems to be on 2020-01-19\n",
    "\n",
    "Settings:\n",
    "- replay=YYYY-MM-DD-HH:MM\n",
    "- icao=a835af\n",
    "- lat=0\n",
    "- lon=0\n",
    "- zoom=2.0\n",
    "\n",
    "Javascript variable:\n",
    "- selectedPlanes\n",
    "    - fullTrace\n",
    "\n",
    "<!-- \n",
    "other info (temporary)\n",
    "ads-b exchange replay function\n",
    "https://globe.adsbexchange.com/?replay=2023-02-16-11:46&lat=40.560&lon=-73.660&zoom=9.0\n",
    "\n",
    "\n",
    "maybe:\n",
    "https://globe.adsbexchange.com/?replay=2023-03-01&icao=a835af\n",
    "\n",
    "\n",
    "https://globe.adsbexchange.com/?icao=a835af&lat=37.731&lon=-122.215&zoom=1.0&showTrace=2023-02-08 <- we got a winner!!!!!\n",
    "\n",
    "console:\n",
    "selectedPlanes()\n",
    "-> fullTrace\n",
    "-> trace -->"
   ]
  },
  {
   "attachments": {},
   "cell_type": "markdown",
   "metadata": {},
   "source": [
    "<h2>Imports and settings</h2>"
   ]
  },
  {
   "cell_type": "code",
   "execution_count": 1,
   "metadata": {},
   "outputs": [],
   "source": [
    "from selenium import webdriver\n",
    "\n",
    "import json\n",
    "import pandas as pd\n",
    "\n",
    "from time import sleep\n",
    "import sys\n",
    "\n",
    "from datetime import datetime, timedelta\n",
    "from math import floor"
   ]
  },
  {
   "cell_type": "code",
   "execution_count": 7,
   "metadata": {},
   "outputs": [],
   "source": [
    "#Scraper settings\n",
    "targetIcao = \"a835af\"\n",
    "startDate = datetime.strptime(\"2020/01/19\", '%Y/%m/%d').date()\n",
    "endDate = datetime.now().date() # datetime.strptime(\"2023/02/08\", '%Y/%m/%d').date()\n",
    "\n",
    "lat = \"0.000\"\n",
    "lon = \"0.000\"\n",
    "zoom = \"2.0\"\n",
    "\n",
    "#Saving settings\n",
    "save_file = \"tracking_data.json\""
   ]
  },
  {
   "cell_type": "code",
   "execution_count": 11,
   "metadata": {},
   "outputs": [],
   "source": [
    "#Other data\n",
    "javaScript_start_time = datetime.strptime(\"1970/01/01\", '%Y/%m/%d') #Time delta in seconds"
   ]
  },
  {
   "attachments": {},
   "cell_type": "markdown",
   "metadata": {},
   "source": [
    "<h2>Scrap data</h2>\n",
    "\n",
    "Data from - Selected Planes() -> showTrace\n",
    "\n",
    "Problem -> Circular reference in javascript object so can't return it </n>\n",
    "Solution -> https://stackoverflow.com/a/10455320/454773 get rid of circular reference + parse to json\n",
    "\n",
    "Trace data as:\n",
    "- list of values + dict\n",
    "    - [<b>time</b> (javscript time), <b>latitude</b>, <b>longitude</b>, <b>altitude/'ground'</b>, <b>ground speed (kt)</b>, ground track, ?, ?, <b>dict</b>, transponder type (I think), geometric altitude, ?, indicated speed, ?]\n",
    "    - dict -> keys depend on ground or air + sometimes no info\n",
    "        - Gonna take: 'flight' (flight number), 'alt_geom' (geometric altitude), 'ias' (indicated speed), 'tas' (true speed), 'mach', 'wd' (wind direction), 'ws' (wind speed), 'track' (ground track), 'mag_heading' (magnetic heading), 'true_heading', 'baro_rate' (barometric climb (ft/min)), 'geom_rate' (rate of climb or decent ft/min)\n",
    "\n",
    "ground track -> aircraft direction above ground (?)\n",
    "geometric altitude -> The geometric GPS derived altitude referenced to WGS84 ellipsoid <!-- (or reference EGM96 when enabled in the settings) -->\n",
    "\n",
    "Data Storage -> Saved in dictionary\n",
    "- key -> date time information\n",
    "- value -> dict {lat, lon, baro_alt, grd_speed, extra : dict2}\n",
    "    - dict2 -> dict {flight_num, geom_alt, geom_rate, baro_rate, indicated_spd, true_spd, mach, wind_dir, wind_spd, grd_track, mag_heading, true_heading} (Not always complete)"
   ]
  },
  {
   "cell_type": "code",
   "execution_count": 12,
   "metadata": {},
   "outputs": [],
   "source": [
    "#Utility functions\n",
    "util_bld_dict2_ins = [\"flight\", \"alt_geom\", \"geom_rate\", \"baro_rate\", \"ias\", \"tas\", \"mach\", \"wd\", \"ws\", \"track\", \"mag_heading\", \"true_heading\"]\n",
    "util_bld_dict2_outs = [\"flight_num\", \"geom_alt\", \"geom_rate\", \"baro_rate\", \"indicated_spd\", \"true_spd\", \"mach\", \"wind_dir\", \"wind_spd\", \"grd_track\", \"mag_heading\", \"true_heading\"]\n",
    "\n",
    "def build_dict(lin):\n",
    "    info = {}\n",
    "    info[\"lat\"] = lin[1] if len(lin) > 1 else None\n",
    "    info[\"lon\"] = lin[2] if len(lin) > 2 else None\n",
    "    info[\"baro_alt\"] = lin[3] if len(lin) > 3 else None\n",
    "    info[\"grd_speed\"] = lin[4] if len(lin) > 4 else None\n",
    "    if len(lin) < 9 or lin[8] == None:\n",
    "        info[\"extra\"] = None\n",
    "    else:\n",
    "        extra = {}\n",
    "        for i in range(len(util_bld_dict2_ins)):\n",
    "            v = lin[8].get(util_bld_dict2_ins[i])\n",
    "            if v != None:\n",
    "                extra[util_bld_dict2_outs[i]] = v\n",
    "        info[\"extra\"] = extra\n",
    "    return info\n",
    "\n",
    "def get_java_time(dt):\n",
    "    return datetime.strptime(\"1970/01/01\", '%Y/%m/%d') + timedelta(seconds=floor(dt))\n",
    "\n",
    "def has_trace(obj):\n",
    "    return len(obj) > 0 and obj[0].get(\"fullTrace\") != None and obj[0][\"fullTrace\"].get(\"trace\") != None"
   ]
  },
  {
   "cell_type": "code",
   "execution_count": 13,
   "metadata": {},
   "outputs": [],
   "source": [
    "def progressbar(p, prefix=\"\", size=60, out=sys.stdout): # Python3.3+\n",
    "    x = int(size*p)\n",
    "    print(\"{}[{}{}] {}%\".format(prefix, \"#\"*x, \".\"*(size-x), int(p*100)), end='\\r', file=out, flush=True)"
   ]
  },
  {
   "cell_type": "code",
   "execution_count": null,
   "metadata": {},
   "outputs": [],
   "source": [
    "driver = webdriver.Chrome()\n",
    "\n",
    "jss = '''const getCircularReplacer = () => {\n",
    "  const seen = new WeakSet();\n",
    "  return (key, value) => {\n",
    "    if (typeof value === \"object\" && value !== null) {\n",
    "      if (seen.has(value)) {\n",
    "        return;\n",
    "      }\n",
    "      seen.add(value);\n",
    "    }\n",
    "    return value;\n",
    "  };\n",
    "};\n",
    "\n",
    "return JSON.stringify(selectedPlanes(), getCircularReplacer());\n",
    "'''\n",
    "\n",
    "#Declare data storage\n",
    "data = {}\n",
    "\n",
    "delta = endDate - startDate\n",
    "for i in range(delta.days + 1):\n",
    "    #Get webpage\n",
    "    driver.get(\"https://globe.adsbexchange.com/?icao={}&lat={}&lon={}&zoom={}&showTrace={}\".format(targetIcao, lat, lon, zoom, startDate + timedelta(days=i)))\n",
    "\n",
    "    #Give enough time for javascript execution + information return\n",
    "    c = 0\n",
    "    while (c < 5):\n",
    "      sleep(1)\n",
    "      js_data = json.loads(driver.execute_script(jss))\n",
    "      c += 10 if has_trace(js_data) else 1\n",
    "\n",
    "    if(has_trace(js_data)):\n",
    "\n",
    "        for l in js_data[0]['fullTrace']['trace']:\n",
    "            t = get_java_time(l[0])\n",
    "            data[str(t)] = build_dict(l)\n",
    "    \n",
    "driver.close()"
   ]
  },
  {
   "attachments": {},
   "cell_type": "markdown",
   "metadata": {},
   "source": [
    "<h2>Save data</h2>\n",
    "\n",
    "Data saved in json file"
   ]
  },
  {
   "cell_type": "code",
   "execution_count": null,
   "metadata": {},
   "outputs": [],
   "source": [
    "json_data = json.dumps(data, indent=4)\n",
    " \n",
    "# Writing to sample.json\n",
    "with open(targetIcao + \"_\" + save_file, \"w\") as target_file:\n",
    "    target_file.write(json_data)"
   ]
  },
  {
   "attachments": {},
   "cell_type": "markdown",
   "metadata": {},
   "source": [
    "<h2>Load data</h2>\n",
    "\n",
    "Load data from JSON file - <b>Important for visualizations</b>"
   ]
  },
  {
   "cell_type": "code",
   "execution_count": 2,
   "metadata": {},
   "outputs": [],
   "source": [
    "#Parameters\n",
    "load_location = \"./a835af_tracking_data_2020-01-19_2023-02-26.json\"\n",
    "\n",
    "with open(load_location, 'r') as f:\n",
    "    json_data = json.load(f)"
   ]
  },
  {
   "attachments": {},
   "cell_type": "markdown",
   "metadata": {},
   "source": [
    "<h2>Clean Data</h2>\n",
    "\n",
    "1. Get succeding locations where plane stopped\n",
    "2. Save cleaned data\n",
    "3. Load from"
   ]
  },
  {
   "cell_type": "code",
   "execution_count": 3,
   "metadata": {},
   "outputs": [],
   "source": [
    "#Dependencies\n",
    "from geopy.geocoders import Nominatim\n",
    "from geopy.extra.rate_limiter import RateLimiter\n",
    "from math import sin, cos, acos, radians"
   ]
  },
  {
   "cell_type": "code",
   "execution_count": 4,
   "metadata": {},
   "outputs": [],
   "source": [
    "def getDist(p1, p2):\n",
    "    if p1 == None:\n",
    "        return 6371\n",
    "    l1, l2 = radians(p1[0]), radians(p2[0])\n",
    "    return acos(sin(l1) * sin(l2) + cos(l1) * cos(l2) * cos(radians(p2[1]) - radians(p1[1]))) * 6371"
   ]
  },
  {
   "cell_type": "code",
   "execution_count": 5,
   "metadata": {},
   "outputs": [
    {
     "name": "stdout",
     "output_type": "stream",
     "text": [
      "Isolating locations\n",
      "[■■■■■■■■■■■■■■■■■■■■■■■■■■■■■■■■■■■■■■■■] 100%\n",
      "\n",
      "Getting associated addresses - 565 instances to check\n",
      "[■■■■■■■■■■■■■■■■■■■■■■■■■■■■■■■■■■■■■■■■] 100%\n"
     ]
    }
   ],
   "source": [
    "#1. Get locations of plane\n",
    "destinations_list = []\n",
    "\n",
    "# Initialize Nominatim API\n",
    "geolocator = Nominatim(user_agent=\"geoapiExercises\")\n",
    "# reverse_f = RateLimiter(geolocator.reverse)\n",
    "\n",
    "# Initialize progress bar\n",
    "n = len(json_data)\n",
    "c = 0\n",
    "l_c = -1\n",
    "\n",
    "toolbar_width = 40\n",
    "\n",
    "#Run through data\n",
    "print(\"Isolating locations\")\n",
    "\n",
    "last_loc = None\n",
    "\n",
    "for date in json_data:\n",
    "    entry = json_data[date]\n",
    "    \n",
    "    if (entry[\"baro_alt\"] == \"ground\"):\n",
    "        location = (entry[\"lat\"] , entry[\"lon\"])\n",
    "\n",
    "        if getDist(last_loc, location) > 10: #location != last_loc:\n",
    "            destinations_list.append([date, location])\n",
    "            last_loc = location\n",
    "    \n",
    "    if ((c * 100) % n < 100):\n",
    "        a = (c * toolbar_width) // n\n",
    "        print(\"[{}{}] {}%\".format('■'*a, ' '*(toolbar_width - a), (c * 100) // n), end='\\r', file = sys.stdout, flush=True)\n",
    "\n",
    "    c += 1\n",
    "\n",
    "a = (c * toolbar_width) // n\n",
    "print(\"[{}{}] {}%\".format('■'*a, ' '*(toolbar_width - a), (c * 100) // n), end='\\n', file = sys.stdout, flush=True)\n",
    "\n",
    "print(\"\\nGetting associated addresses - {} instances to check\".format(len(destinations_list)))\n",
    "n = len(destinations_list)\n",
    "c = 0\n",
    "\n",
    "hold = []\n",
    "last_loc = None\n",
    "\n",
    "for point in destinations_list:\n",
    "    location = geolocator.reverse( point[1] )\n",
    "    \n",
    "    if(location != None):\n",
    "            location = location.raw['address']\n",
    "            road = location.get('road', '')\n",
    "            city = location.get('city', '')\n",
    "            if (len(city) < 1):\n",
    "                city = location.get('town', '')\n",
    "                if (len(city) < 1):\n",
    "                    city = location.get('village', '')\n",
    "            state = location.get('state', '')\n",
    "            country = location.get('country', '')\n",
    "            postcode = location.get('postcode', '')\n",
    "\n",
    "            \n",
    "            if(len(country) > 0):\n",
    "                location_str = \"{}, {}, {}, {}, {}\".format(road, city, state, country, postcode)\n",
    "\n",
    "                if location_str != last_loc:\n",
    "                    hold.append([point[0], location_str])\n",
    "                    last_loc = location_str\n",
    "            else:\n",
    "                print(location)\n",
    "    \n",
    "    if ((c * 100) % n < 100):\n",
    "        a = (c * toolbar_width) // n\n",
    "        print(\"[{}{}] {}%\".format('■'*a, ' '*(toolbar_width - a), (c * 100) // n), end='\\r', file = sys.stdout, flush=True)\n",
    "\n",
    "    c += 1\n",
    "\n",
    "a = (c * toolbar_width) // n\n",
    "print(\"[{}{}] {}%\".format('■'*a, ' '*(toolbar_width - a), (c * 100) // n), end='\\n', file = sys.stdout, flush=True)\n",
    "\n",
    "destinations_list = hold"
   ]
  },
  {
   "cell_type": "code",
   "execution_count": 18,
   "metadata": {},
   "outputs": [
    {
     "name": "stdout",
     "output_type": "stream",
     "text": [
      "Saved to landing_locations_a835af_tracking_data_2020-01-19_2023-02-26.csv\n"
     ]
    }
   ],
   "source": [
    "#Save landing locations to csv file\n",
    "ext = load_location.split(\"/\")[1].split(\".\")[0]\n",
    "save_path = \"landing_locations_{}.csv\".format(ext)\n",
    "\n",
    "with open(save_path, \"w\") as f:\n",
    "    f.writelines([\"{}, {}\\n\".format(v[0], v[1]) for v in destinations_list])\n",
    "\n",
    "print(\"Saved to {}\".format(save_path))"
   ]
  },
  {
   "attachments": {},
   "cell_type": "markdown",
   "metadata": {},
   "source": [
    "<h4>Load Cleaned data</h4>\n",
    "\n",
    "<b>Important for visualization and stats</b>"
   ]
  },
  {
   "cell_type": "code",
   "execution_count": 3,
   "metadata": {},
   "outputs": [],
   "source": [
    "#Load landing data\n",
    "load_path = \"landing_locations_a835af_tracking_data_2020-01-19_2023-02-26.csv\"\n",
    "\n",
    "destinations_list = []\n",
    "with open(load_path, \"r\") as f:\n",
    "    ls = f.readlines()\n",
    "    for l in ls:\n",
    "        l = l.split(\"\\n\")[0]\n",
    "        l = l.split(\",\")\n",
    "        destinations_list.append([l[0], \"{}, {}, {}, {}, {}\".format(l[1], l[2], l[3], l[4], l[5])])"
   ]
  },
  {
   "attachments": {},
   "cell_type": "markdown",
   "metadata": {},
   "source": [
    "<h2>Preprocessing</h2>\n",
    "\n",
    "<b>Important for visualization and stats</b>"
   ]
  },
  {
   "cell_type": "code",
   "execution_count": 4,
   "metadata": {},
   "outputs": [],
   "source": [
    "#Get unique locations\n",
    "unique_locs = {}\n",
    "\n",
    "for data_point in destinations_list:\n",
    "    point_str = data_point[1]\n",
    "\n",
    "    if not point_str in unique_locs:\n",
    "        entry = json_data[data_point[0]]\n",
    "        unique_locs[point_str] = [1, [entry[\"lat\"], entry[\"lon\"]]]\n",
    "    else:\n",
    "        unique_locs[point_str][0] += 1"
   ]
  },
  {
   "attachments": {},
   "cell_type": "markdown",
   "metadata": {},
   "source": [
    "<h2>Display data</h2>\n",
    "\n",
    "1. Display trace of plane"
   ]
  },
  {
   "cell_type": "code",
   "execution_count": 5,
   "metadata": {},
   "outputs": [],
   "source": [
    "import plotly.express as px\n",
    "import plotly.graph_objects as go"
   ]
  },
  {
   "cell_type": "code",
   "execution_count": 6,
   "metadata": {},
   "outputs": [
    {
     "data": {
      "application/vnd.plotly.v1+json": {
       "config": {
        "plotlyServerURL": "https://plot.ly"
       },
       "data": [
        {
         "hoverinfo": "text",
         "lat": [
          28.511867,
          34.212077,
          33.922545,
          28.512198,
          33.922737,
          28.512428,
          34.208632,
          33.95074,
          34.203117,
          37.363311,
          33.92272,
          37.364822,
          34.20671,
          33.922771,
          34.208911,
          33.922782,
          25.804673,
          33.922657,
          30.18988,
          33.922522,
          37.36576,
          33.922714,
          37.362663,
          34.199101,
          33.92258,
          37.364192,
          33.922828,
          37.357051,
          34.202615,
          33.92286,
          34.204994,
          39.907997,
          34.20235,
          33.922557,
          34.199111,
          33.922702,
          34.203243,
          33.922565,
          34.199077,
          33.922766,
          37.364398,
          33.922771,
          37.363952,
          28.43082,
          33.922588,
          33.818583,
          37.365956,
          33.922851,
          37.361545,
          34.205758,
          33.922805,
          34.201606,
          38.956541,
          33.950744,
          38.942687,
          30.187786,
          34.201091,
          33.935801,
          34.205886,
          33.935789,
          37.363265,
          34.202705,
          28.512361,
          33.922782,
          28.512233,
          34.20606,
          37.35909,
          34.2033,
          33.935755,
          28.512245,
          34.209285,
          33.922691,
          34.203826,
          33.820632,
          33.922771,
          37.658817,
          33.922709,
          37.364711,
          33.92272,
          37.365292,
          39.908375,
          30.190865,
          36.085602,
          37.364754,
          33.922674,
          37.361616,
          33.922657,
          28.51609,
          33.922657,
          28.515804,
          33.922726,
          28.509716,
          28.102375,
          33.922829,
          28.516842,
          33.922779,
          51.876183,
          37.622269,
          33.922767,
          37.365212,
          33.922767,
          31.61878,
          33.922779,
          37.36584,
          33.922767,
          37.621563,
          34.210774,
          37.364365,
          33.922737,
          37.365945,
          33.922794,
          37.365805,
          33.922546,
          37.362442,
          33.948406,
          37.3652,
          33.922418,
          30.194026,
          33.922668,
          31.611576,
          37.364937,
          33.922783,
          37.364113,
          33.935886,
          31.613299,
          33.922755,
          29.604384,
          31.616627,
          37.363536,
          33.922668,
          37.364362,
          33.922814,
          37.365955,
          33.922783,
          37.365084,
          33.948394,
          37.364723,
          33.922771,
          30.188702,
          37.367609,
          33.948704,
          53.480386,
          48.692219,
          52.372513,
          52.319036,
          47.453792,
          33.948708,
          47.528973,
          47.776178,
          33.922726,
          30.398472,
          37.364176,
          33.922779,
          30.399662,
          37.367512,
          34.204788,
          33.92279,
          30.191082,
          31.612656,
          33.922779,
          28.516888,
          37.366802,
          33.935921,
          28.511977,
          25.900875,
          33.922623,
          25.904097,
          37.366081,
          33.948418,
          30.188719,
          37.365712,
          33.922686,
          30.39661,
          33.935871,
          37.367155,
          33.935813,
          30.198521,
          52.373258,
          30.194049,
          33.922714,
          37.366364,
          33.922703,
          39.906601,
          30.194252,
          25.904068,
          33.922755,
          25.903736,
          30.191477,
          33.922686,
          30.194103,
          52.373071,
          37.619643,
          37.364746,
          33.922686,
          25.906798,
          30.191391,
          25.904217,
          33.922737,
          30.190569,
          33.922806,
          30.193176,
          25.903645,
          30.191535,
          33.922726,
          30.191483,
          39.907871,
          20.897713,
          37.364914,
          33.922744,
          30.190613,
          37.364685,
          33.948301,
          30.192106,
          37.365681,
          33.92272,
          34.585625,
          36.085549,
          33.93579,
          25.905521,
          30.191448,
          33.922732,
          39.500816,
          25.903667,
          30.189906,
          37.365589,
          33.922668,
          37.366131,
          30.190988,
          25.907961,
          33.92268,
          37.364781,
          33.937592,
          37.366608,
          33.816845,
          33.922604,
          30.19154,
          33.948394,
          37.364159,
          33.922767,
          30.19186,
          47.5299,
          37.365864,
          33.922771,
          30.193653,
          33.922726,
          37.364967,
          33.922646,
          37.365314,
          33.922662,
          28.102061,
          28.515015,
          28.102189,
          25.803545,
          33.922852,
          25.801403,
          40.854919,
          33.935726,
          37.366446,
          51.875056,
          52.373108,
          37.617416,
          33.922732,
          37.364967,
          33.922744,
          37.366027,
          33.922714,
          30.191431,
          37.365177,
          33.922794,
          37.364781,
          33.922714,
          37.364351,
          33.922817,
          30.191185,
          33.922806,
          37.364719,
          30.191,
          33.935795,
          37.364816,
          33.922814,
          37.364914,
          25.903097,
          32.289093,
          39.879295,
          25.905994,
          33.922569,
          37.363037,
          25.902875,
          33.935837,
          25.905052,
          30.191208,
          28.51363,
          25.904766,
          28.516981,
          25.905261,
          28.51413,
          25.90274,
          28.5137,
          25.903976,
          30.191163,
          25.904148,
          28.512165,
          25.903542,
          28.513688,
          25.905843,
          33.922755,
          25.904458,
          33.922639,
          25.904877,
          28.518192,
          25.902832,
          30.191966,
          25.904074,
          33.922794,
          25.906311,
          33.922829,
          25.905899,
          28.51228,
          25.906239,
          37.363804,
          33.922806,
          37.365282,
          33.950768,
          52.352921,
          33.922657,
          25.902958,
          37.361847,
          33.922806,
          25.90383,
          30.193748,
          33.922668,
          37.365049,
          33.935806,
          30.19242,
          33.922703,
          30.191288,
          25.90383,
          40.85024,
          25.903388,
          40.853604,
          25.90291,
          28.432326,
          25.905017,
          30.192292,
          33.92276,
          37.365372,
          30.191597,
          25.904915,
          30.19202,
          25.90646,
          30.191757,
          52.350552,
          25.906926,
          33.922558,
          37.365759,
          30.191931,
          25.904947,
          30.191483,
          25.906204,
          33.951084,
          25.905564,
          30.192146,
          33.819317,
          30.192513,
          25.903853,
          25.985843,
          30.190767,
          25.905499,
          30.188667,
          25.902912,
          39.881442,
          25.903667,
          40.850601,
          25.906379,
          30.192364,
          25.909012,
          30.19241,
          25.909765,
          30.192047,
          33.922794,
          30.192431,
          33.922802,
          30.191242,
          25.80351,
          25.90329,
          30.191931,
          25.904563,
          30.192398,
          33.92272,
          30.191551,
          25.905945,
          30.192303,
          25.90591,
          30.191895,
          25.903301,
          30.191334,
          33.922726,
          30.19091,
          37.364618,
          33.922829,
          30.190558,
          20.898428,
          30.192455,
          33.922737,
          25.905913,
          30.191163,
          33.922726,
          30.190899,
          37.363268,
          30.191861,
          25.898686,
          30.192055,
          34.211391,
          30.189545,
          49.187782,
          47.529167,
          30.190876,
          33.923092,
          30.1942,
          25.9021,
          29.640301,
          30.19299,
          33.922829,
          30.190006,
          33.922732,
          29.639683,
          30.190029,
          25.906181,
          30.192292,
          33.922779,
          37.365246,
          30.192024,
          25.906345,
          30.19257,
          33.922794,
          30.192769,
          41.795689,
          45.505976,
          25.906669,
          30.191849,
          33.922817,
          30.191256,
          25.905797,
          37.363536,
          33.922744,
          30.191105,
          33.819065,
          25.905888,
          30.189629,
          37.363745,
          30.191998,
          25.905693,
          30.192012,
          25.904652,
          33.922691,
          37.365875,
          30.191221,
          25.905866,
          37.36548,
          25.904434,
          30.19202,
          25.903027,
          40.843106,
          30.190498,
          37.364582,
          33.922714,
          25.904789,
          30.191597,
          33.935806,
          58.879005,
          52.372804,
          33.935813,
          41.721394,
          40.853428,
          30.191872,
          25.903416,
          33.948349,
          30.192059,
          37.364816,
          33.922794,
          30.192315,
          25.90448,
          30.191524,
          39.907662,
          30.198978,
          37.364651,
          33.92272,
          37.365234,
          32.847713,
          30.191551,
          25.901585,
          30.193119,
          25.9039,
          30.19289,
          37.365445,
          30.191163,
          37.364285,
          33.92279,
          37.364399,
          33.92272,
          40.850206,
          38.941529,
          37.620202,
          37.367004,
          40.848844,
          30.188473,
          37.621754,
          30.190686,
          37.620819,
          33.922714,
          37.728296,
          30.190201,
          37.728796,
          30.193758,
          37.728321,
          39.496582,
          37.709326,
          29.993514,
          37.729111,
          38.935352,
          37.729168,
          33.935818,
          30.191279,
          37.36425,
          51.874613,
          25.268822,
          51.873729,
          30.189686,
          37.726776,
          38.694466,
          33.950151,
          38.690998,
          39.908764,
          30.19154,
          38.691948,
          30.188463,
          33.93576,
          33.818851,
          33.922806,
          30.192822,
          37.709358,
          30.190953,
          37.728075,
          30.191943,
          37.728343,
          34.19775,
          41.720352,
          37.725992,
          39.502167,
          37.726248,
          38.936062,
          37.726678,
          30.192284,
          25.899582,
          37.72861,
          30.190178,
          37.72776,
          33.922749,
          37.728343,
          33.421923,
          37.728587,
          30.200834,
          37.709667,
          30.190968
         ],
         "locationmode": "USA-states",
         "lon": [
          -80.796692,
          -118.490567,
          -118.341479,
          -80.797011,
          -118.337509,
          -80.796824,
          -118.490281,
          -118.415451,
          -118.489748,
          -121.930593,
          -118.337702,
          -121.93223,
          -118.490099,
          -118.336823,
          -118.490309,
          -118.336668,
          -80.291946,
          -118.339345,
          -97.657538,
          -118.341808,
          -121.933267,
          -118.338294,
          -121.929837,
          -118.489379,
          -118.340821,
          -121.931572,
          -118.335898,
          -121.928256,
          -118.489723,
          -118.335041,
          -118.490225,
          -105.114515,
          -118.489706,
          -118.341221,
          -118.48937,
          -118.338308,
          -118.489776,
          -118.341111,
          -118.48937,
          -118.336887,
          -121.931733,
          -118.337033,
          -121.931295,
          -81.282467,
          -118.34062,
          -118.152308,
          -121.933509,
          -118.335029,
          -121.928642,
          -118.491182,
          -118.33608,
          -118.489636,
          -77.459487,
          -118.415365,
          -77.436178,
          -97.657524,
          -118.48988,
          -118.397941,
          -118.491178,
          -118.398041,
          -121.930579,
          -118.490057,
          -80.796849,
          -118.336809,
          -80.796969,
          -118.490052,
          -121.925956,
          -118.48979,
          -118.398413,
          -80.796692,
          -118.490351,
          -118.338616,
          -118.489818,
          -118.154763,
          -118.336823,
          -122.12274,
          -118.338175,
          -121.932106,
          -118.337789,
          -121.932742,
          -105.115247,
          -97.657578,
          -115.164571,
          -121.932157,
          -118.338919,
          -121.928777,
          -118.338687,
          -80.7952,
          -118.33964,
          -80.7952,
          -118.337902,
          -80.796824,
          -80.640124,
          -118.33758,
          -80.796756,
          -118.336816,
          -0.359654,
          -122.377951,
          -118.336887,
          -121.932658,
          -118.338447,
          -97.225447,
          -118.336673,
          -121.93339,
          -118.336873,
          -122.376291,
          -118.490481,
          -121.931704,
          -118.337734,
          -121.93027,
          -118.336501,
          -121.93333,
          -118.341508,
          -121.929644,
          -118.419385,
          -121.932673,
          -118.34188,
          -97.673511,
          -118.338897,
          -97.227576,
          -121.932362,
          -118.336655,
          -121.9315,
          -118.397122,
          -97.227068,
          -118.336945,
          -95.164086,
          -97.226093,
          -121.930837,
          -118.339135,
          -121.931733,
          -118.336101,
          -121.933501,
          -118.336431,
          -121.932509,
          -118.419414,
          -121.932121,
          -118.336837,
          -97.658777,
          -121.93533,
          -118.416376,
          -1.001392,
          9.230347,
          13.505402,
          10.552917,
          -122.317957,
          -118.416367,
          -122.301573,
          -116.819687,
          -118.337804,
          -97.566765,
          -121.931539,
          -118.336544,
          -97.568314,
          -121.935196,
          -118.489903,
          -118.336501,
          -97.659679,
          -97.227281,
          -118.336716,
          -80.796783,
          -121.934436,
          -118.396715,
          -80.796688,
          -97.418285,
          -118.339682,
          -97.421806,
          -121.933633,
          -118.419235,
          -97.659627,
          -121.933226,
          -118.338618,
          -97.564293,
          -118.397341,
          -121.934823,
          -118.397899,
          -97.659032,
          13.508377,
          -97.673483,
          -118.338154,
          -121.933927,
          -118.338168,
          -105.111873,
          -97.658952,
          -97.421731,
          -118.337045,
          -97.421394,
          -97.659695,
          -118.338718,
          -97.658911,
          13.50769,
          -122.377261,
          -121.932151,
          -118.338704,
          -97.424737,
          -97.657578,
          -97.421938,
          -118.337678,
          -97.657553,
          -118.336193,
          -97.657619,
          -97.421304,
          -97.657594,
          -118.337762,
          -97.657578,
          -105.114277,
          -156.431334,
          -121.932289,
          -118.337646,
          -97.657578,
          -121.932084,
          -118.420358,
          -97.657581,
          -121.933165,
          -118.337932,
          -117.384095,
          -115.164535,
          -118.398199,
          -97.423325,
          -97.657578,
          -118.337703,
          -119.766814,
          -97.421317,
          -97.657512,
          -121.933063,
          -118.338855,
          -121.933688,
          -97.657581,
          -97.429161,
          -118.338673,
          -121.932211,
          -118.402125,
          -121.934226,
          -118.150238,
          -118.339949,
          -97.657592,
          -118.419342,
          -121.9315,
          -118.337045,
          -97.657592,
          -122.302362,
          -121.933405,
          -118.336865,
          -97.657635,
          -118.337762,
          -121.932419,
          -118.339486,
          -121.932815,
          -118.339005,
          -80.645465,
          -80.796742,
          -80.642664,
          -80.286479,
          -118.335029,
          -80.28442,
          -74.05826,
          -118.398761,
          -121.934002,
          -0.366058,
          13.507996,
          -122.371976,
          -118.337574,
          -121.93239,
          -118.337159,
          -121.933569,
          -118.338056,
          -97.657594,
          -121.932643,
          -118.336347,
          -121.932181,
          -118.337888,
          -121.931703,
          -118.33587,
          -97.657578,
          -118.336347,
          -121.932128,
          -97.657581,
          -118.398075,
          -121.932225,
          -118.336,
          -121.932332,
          -97.420697,
          -106.918066,
          -75.231927,
          -97.423853,
          -118.34105,
          -121.930287,
          -97.420472,
          -118.397713,
          -97.422823,
          -97.659679,
          -80.796732,
          -97.422521,
          -80.796769,
          -97.42306,
          -80.796729,
          -97.420306,
          -80.795355,
          -97.421679,
          -97.657581,
          -97.421861,
          -80.796679,
          -97.421187,
          -80.796715,
          -97.423694,
          -118.337188,
          -97.422189,
          -118.339434,
          -97.422638,
          -80.796796,
          -97.420423,
          -97.657608,
          -97.42178,
          -118.336501,
          -97.424206,
          -118.335674,
          -97.423765,
          -80.796917,
          -97.424117,
          -121.931121,
          -118.336038,
          -121.932733,
          -118.415151,
          13.499908,
          -118.338729,
          -97.431176,
          -121.928972,
          -118.336165,
          -97.421502,
          -97.657646,
          -118.338953,
          -121.932494,
          -118.398131,
          -97.657608,
          -118.338252,
          -97.657578,
          -97.421489,
          -74.061709,
          -97.421014,
          -74.060196,
          -97.429359,
          -81.326806,
          -97.422796,
          -97.657594,
          -118.337159,
          -121.932829,
          -97.657592,
          -97.422677,
          -97.657605,
          -97.424322,
          -97.657578,
          13.48999,
          -97.42487,
          -118.341365,
          -121.930076,
          -97.657594,
          -97.422704,
          -97.657605,
          -97.42409,
          -118.411682,
          -97.423391,
          -97.657605,
          -118.153209,
          -97.657608,
          -97.421529,
          -97.368773,
          -97.657539,
          -97.423325,
          -97.657511,
          -97.420513,
          -75.233017,
          -97.421329,
          -74.060944,
          -97.424262,
          -97.657605,
          -97.429116,
          -97.657605,
          -97.429082,
          -97.657594,
          -118.336417,
          -97.657608,
          -118.336158,
          -97.657551,
          -80.287335,
          -97.420902,
          -97.657608,
          -97.422295,
          -97.657592,
          -118.33806,
          -97.657592,
          -97.423791,
          -97.657622,
          -97.423778,
          -97.657578,
          -97.429349,
          -97.657578,
          -118.337888,
          -97.657551,
          -121.932031,
          -118.335772,
          -97.657539,
          -156.429457,
          -97.657605,
          -118.33765,
          -97.42376,
          -97.657581,
          -118.337776,
          -97.657592,
          -121.930539,
          -97.657594,
          -97.429716,
          -97.657592,
          -118.490548,
          -97.661275,
          -123.187585,
          -122.301744,
          -97.657605,
          -118.340312,
          -97.657635,
          -97.419606,
          -95.272883,
          -97.657622,
          -118.33573,
          -97.657551,
          -118.337145,
          -95.272157,
          -97.657525,
          -97.424064,
          -97.657608,
          -118.336916,
          -121.932698,
          -97.657608,
          -97.424231,
          -97.657605,
          -118.336417,
          -97.657594,
          12.59737,
          12.344647,
          -97.424592,
          -97.657578,
          -118.336052,
          -97.657594,
          -97.423628,
          -121.930822,
          -118.337388,
          -97.657578,
          -118.152914,
          -97.423726,
          -97.657538,
          -121.931061,
          -97.657592,
          -97.423532,
          -97.657594,
          -97.422392,
          -118.338631,
          -121.933384,
          -97.657567,
          -97.423721,
          -121.932942,
          -97.422159,
          -97.657578,
          -97.431215,
          -72.63074,
          -97.657605,
          -121.931982,
          -118.338056,
          -97.42256,
          -97.657592,
          -118.397893,
          5.637749,
          13.506513,
          -118.398013,
          -71.428627,
          -74.05928,
          -97.657605,
          -97.421057,
          -118.419809,
          -97.657608,
          -121.93224,
          -118.336627,
          -97.657608,
          -97.422223,
          -97.657594,
          -105.113892,
          -97.678972,
          -121.93204,
          -118.338017,
          -121.932683,
          -96.845702,
          -97.657578,
          -97.419049,
          -97.657619,
          -97.421582,
          -97.657605,
          -121.932912,
          -97.657567,
          -121.93166,
          -118.336544,
          -121.931763,
          -118.337817,
          -74.060976,
          -77.436188,
          -122.373037,
          -121.931449,
          -74.061069,
          -97.657498,
          -122.376724,
          -97.657581,
          -122.374455,
          -118.337972,
          -122.215452,
          -97.657525,
          -122.217004,
          -97.657635,
          -122.215523,
          -119.769262,
          -122.22602,
          -90.268739,
          -122.218004,
          -77.436283,
          -122.218196,
          -118.397935,
          -97.657581,
          -121.931617,
          -0.368595,
          51.601527,
          -0.373688,
          -97.657538,
          -122.219949,
          -121.58029,
          -118.42093,
          -121.601367,
          -105.115963,
          -97.657578,
          -121.601352,
          -97.657484,
          -118.398397,
          -118.152637,
          -118.336263,
          -97.657592,
          -122.226041,
          -97.657553,
          -122.21478,
          -97.657608,
          -122.215616,
          -118.357296,
          -71.429501,
          -122.217497,
          -119.766754,
          -122.218303,
          -77.436283,
          -122.219631,
          -97.657619,
          -97.419099,
          -122.216422,
          -97.657551,
          -122.213784,
          -118.338098,
          -122.215616,
          -112.376656,
          -122.216347,
          -97.678976,
          -122.225822,
          -97.657578
         ],
         "marker": {
          "color": "rgb(255, 0, 0)",
          "line": {
           "color": "rgba(68, 68, 68, 0)",
           "width": 3
          },
          "size": 2
         },
         "mode": "markers",
         "text": [
          " Center Lane,  Titusville,  Florida,  United States,  32780",
          " Sophia Avenue,  Los Angeles,  California,  United States,  91406",
          " SpaceX Starlink Entrance,  Hawthorne,  California,  United States,  90250",
          " Center Lane,  Titusville,  Florida,  United States,  32780",
          " Boring Test Tunnel,  Hawthorne,  California,  United States,  90250",
          " Center Lane,  Titusville,  Florida,  United States,  32780",
          " Sophia Avenue,  Los Angeles,  California,  United States,  91406",
          " Northside Parkway,  Los Angeles,  California,  United States,  90045",
          " Sophia Avenue,  Los Angeles,  California,  United States,  91406",
          " Airport Boulevard,  San Jose,  California,  United States,  95110",
          " Boring Test Tunnel,  Hawthorne,  California,  United States,  90250",
          " Airport Boulevard,  San Jose,  California,  United States,  95110",
          " Sophia Avenue,  Los Angeles,  California,  United States,  91406",
          " Boring Test Tunnel,  Hawthorne,  California,  United States,  90250",
          " Sophia Avenue,  Los Angeles,  California,  United States,  91406",
          " Boring Test Tunnel,  Hawthorne,  California,  United States,  90250",
          " Perimeter Drive,  ,  Florida,  United States,  33142",
          " Boring Test Tunnel,  Hawthorne,  California,  United States,  90250",
          " Presidential Boulevard,  Austin,  Texas,  United States,  78719",
          " SpaceX Starlink Entrance,  Hawthorne,  California,  United States,  90250",
          " Mathew Street,  Santa Clara,  California,  United States,  95053",
          " Boring Test Tunnel,  Hawthorne,  California,  United States,  90250",
          " Airport Boulevard,  San Jose,  California,  United States,  95110",
          " Sherman Way,  Los Angeles,  California,  United States,  91406",
          " Boring Test Tunnel,  Hawthorne,  California,  United States,  90250",
          " Airport Boulevard,  San Jose,  California,  United States,  95110",
          " Boring Test Tunnel,  Hawthorne,  California,  United States,  90250",
          " Aviation Avenue,  San Jose,  California,  United States,  95110",
          " Sophia Avenue,  Los Angeles,  California,  United States,  91406",
          " Boring Test Tunnel,  Hawthorne,  California,  United States,  90250",
          " Sophia Avenue,  Los Angeles,  California,  United States,  91406",
          " West 119th Drive,  Broomfield,  Colorado,  United States,  80020",
          " Sophia Avenue,  Los Angeles,  California,  United States,  91406",
          " SpaceX Starlink Entrance,  Hawthorne,  California,  United States,  90250",
          " Sherman Way,  Los Angeles,  California,  United States,  91406",
          " Boring Test Tunnel,  Hawthorne,  California,  United States,  90250",
          " Sophia Avenue,  Los Angeles,  California,  United States,  91406",
          " Boring Test Tunnel,  Hawthorne,  California,  United States,  90250",
          " Sherman Way,  Los Angeles,  California,  United States,  91406",
          " Boring Test Tunnel,  Hawthorne,  California,  United States,  90250",
          " Airport Boulevard,  San Jose,  California,  United States,  95110",
          " Boring Test Tunnel,  Hawthorne,  California,  United States,  90250",
          " Airport Boulevard,  San Jose,  California,  United States,  95110",
          " ,  Orlando,  Florida,  United States,  32827",
          " Boring Test Tunnel,  Hawthorne,  California,  United States,  90250",
          " East Willow Street,  Long Beach,  California,  United States,  90815",
          " Mathew Street,  Santa Clara,  California,  United States,  95053",
          " Boring Test Tunnel,  Hawthorne,  California,  United States,  90250",
          " Airport Boulevard,  San Jose,  California,  United States,  95110",
          " Sophia Avenue,  Los Angeles,  California,  United States,  91406",
          " Boring Test Tunnel,  Hawthorne,  California,  United States,  90250",
          " Sophia Avenue,  Los Angeles,  California,  United States,  91406",
          " Radar Road,  ,  Virginia,  United States,  20102",
          " Northside Parkway,  Los Angeles,  California,  United States,  90045",
          " Edge Light Road,  ,  Virginia,  United States,  24965",
          " Presidential Boulevard,  Austin,  Texas,  United States,  78719",
          " Sherman Way,  Los Angeles,  California,  United States,  91406",
          " Sepulveda Boulevard,  Los Angeles,  California,  United States,  90009",
          " Sophia Avenue,  Los Angeles,  California,  United States,  91406",
          " Sepulveda Boulevard,  Los Angeles,  California,  United States,  90009",
          " Airport Boulevard,  San Jose,  California,  United States,  95110",
          " Sophia Avenue,  Los Angeles,  California,  United States,  91406",
          " Center Lane,  Titusville,  Florida,  United States,  32780",
          " Boring Test Tunnel,  Hawthorne,  California,  United States,  90250",
          " Center Lane,  Titusville,  Florida,  United States,  32780",
          " Sophia Avenue,  Los Angeles,  California,  United States,  91406",
          " Airport Boulevard,  San Jose,  California,  United States,  95110",
          " Sophia Avenue,  Los Angeles,  California,  United States,  91406",
          " Sepulveda Boulevard,  Los Angeles,  California,  United States,  90009",
          " Center Lane,  Titusville,  Florida,  United States,  32780",
          " Sophia Avenue,  Los Angeles,  California,  United States,  91406",
          " Boring Test Tunnel,  Hawthorne,  California,  United States,  90250",
          " Sophia Avenue,  Los Angeles,  California,  United States,  91406",
          " East Willow Street,  Long Beach,  California,  United States,  90815",
          " Boring Test Tunnel,  Hawthorne,  California,  United States,  90250",
          " Mack Street,  Hayward,  California,  United States,  94545",
          " Boring Test Tunnel,  Hawthorne,  California,  United States,  90250",
          " Airport Boulevard,  San Jose,  California,  United States,  95110",
          " Boring Test Tunnel,  Hawthorne,  California,  United States,  90250",
          " Airport Boulevard,  San Jose,  California,  United States,  95110",
          " West 119th Drive,  Broomfield,  Colorado,  United States,  80020",
          " Presidential Boulevard,  Austin,  Texas,  United States,  78719",
          " Wayne Newton Boulevard,  Las Vegas,  Nevada,  United States,  89119",
          " Airport Boulevard,  San Jose,  California,  United States,  95110",
          " Boring Test Tunnel,  Hawthorne,  California,  United States,  90250",
          " Airport Boulevard,  San Jose,  California,  United States,  95110",
          " Boring Test Tunnel,  Hawthorne,  California,  United States,  90250",
          " Tico Road,  Titusville,  Florida,  United States,  32927",
          " Boring Test Tunnel,  Hawthorne,  California,  United States,  90250",
          " Tico Road,  Titusville,  Florida,  United States,  32927",
          " Boring Test Tunnel,  Hawthorne,  California,  United States,  90250",
          " Center Lane,  Titusville,  Florida,  United States,  32780",
          " Tower Access Road,  Melbourne,  Florida,  United States,  32901",
          " Boring Test Tunnel,  Hawthorne,  California,  United States,  90250",
          " Tico Road,  Titusville,  Florida,  United States,  32927",
          " Boring Test Tunnel,  Hawthorne,  California,  United States,  90250",
          " Dane Street,  North Hertfordshire,  England,  United Kingdom,  LU2 8PE",
          " Departures,  South San Francisco,  California,  United States,  94128",
          " Boring Test Tunnel,  Hawthorne,  California,  United States,  90250",
          " Airport Boulevard,  San Jose,  California,  United States,  95110",
          " Boring Test Tunnel,  Hawthorne,  California,  United States,  90250",
          " ,  Waco,  Texas,  United States,  ",
          " Boring Test Tunnel,  Hawthorne,  California,  United States,  90250",
          " Mathew Street,  Santa Clara,  California,  United States,  95053",
          " Boring Test Tunnel,  Hawthorne,  California,  United States,  90250",
          " North Access Road,  South San Francisco,  California,  United States,  94128",
          " Sophia Avenue,  Los Angeles,  California,  United States,  91406",
          " Airport Boulevard,  San Jose,  California,  United States,  95110",
          " Boring Test Tunnel,  Hawthorne,  California,  United States,  90250",
          " Airport Boulevard,  San Jose,  California,  United States,  95110",
          " Boring Test Tunnel,  Hawthorne,  California,  United States,  90250",
          " Mathew Street,  Santa Clara,  California,  United States,  95053",
          " SpaceX Starlink Entrance,  Hawthorne,  California,  United States,  90250",
          " Airport Boulevard,  San Jose,  California,  United States,  95110",
          " Westchester Parkway,  Los Angeles,  California,  United States,  90293",
          " Airport Boulevard,  San Jose,  California,  United States,  95110",
          " SpaceX Starlink Entrance,  Hawthorne,  California,  United States,  90250",
          " Presidential Boulevard,  Austin,  Texas,  United States,  78719",
          " Boring Test Tunnel,  Hawthorne,  California,  United States,  90250",
          " Airport Road,  Waco,  Texas,  United States,  76708",
          " Airport Boulevard,  San Jose,  California,  United States,  95110",
          " Boring Test Tunnel,  Hawthorne,  California,  United States,  90250",
          " Airport Boulevard,  San Jose,  California,  United States,  95110",
          " Sepulveda Boulevard,  Los Angeles,  California,  United States,  90009",
          " Airport Road,  Waco,  Texas,  United States,  76708",
          " Boring Test Tunnel,  Hawthorne,  California,  United States,  90250",
          " Clear Lake City Boulevard,  Houston,  Texas,  United States,  77062",
          " Airport Road,  Waco,  Texas,  United States,  76708",
          " Airport Boulevard,  San Jose,  California,  United States,  95110",
          " Boring Test Tunnel,  Hawthorne,  California,  United States,  90250",
          " Airport Boulevard,  San Jose,  California,  United States,  95110",
          " Boring Test Tunnel,  Hawthorne,  California,  United States,  90250",
          " Mathew Street,  Santa Clara,  California,  United States,  95053",
          " Boring Test Tunnel,  Hawthorne,  California,  United States,  90250",
          " Airport Boulevard,  San Jose,  California,  United States,  95110",
          " Westchester Parkway,  Los Angeles,  California,  United States,  90293",
          " Airport Boulevard,  San Jose,  California,  United States,  95110",
          " Boring Test Tunnel,  Hawthorne,  California,  United States,  90250",
          " Presidential Boulevard,  Austin,  Texas,  United States,  78719",
          " Airport Boulevard,  San Jose,  California,  United States,  95110",
          " Sterile/Lounges Level 5,  Los Angeles,  California,  United States,  90245",
          " Old Bawtry Road,  Doncaster,  England,  United Kingdom,  DN9 3BT",
          " A 8,  Stuttgart,  Baden-Württemberg,  Deutschland,  70599",
          " Melli-Beese-Ring,  ,  Brandenburg,  Deutschland,  12529",
          " Waggumer Straße,  Braunschweig,  Niedersachsen,  Deutschland,  38110",
          " South 170th Street,  SeaTac,  Washington,  United States,  98148",
          " Sterile/Lounges Level 5,  Los Angeles,  California,  United States,  90245",
          " Perimeter Road South,  Seattle,  Washington,  United States,  98108",
          " ,  ,  Idaho,  United States,  ",
          " Boring Test Tunnel,  Hawthorne,  California,  United States,  90250",
          " Aviation Drive,  Pflugerville,  Texas,  United States,  78660",
          " Airport Boulevard,  San Jose,  California,  United States,  95110",
          " Boring Test Tunnel,  Hawthorne,  California,  United States,  90250",
          " Aviation Drive,  Pflugerville,  Texas,  United States,  78660",
          " Airport Boulevard,  San Jose,  California,  United States,  95110",
          " Sophia Avenue,  Los Angeles,  California,  United States,  91406",
          " Boring Test Tunnel,  Hawthorne,  California,  United States,  90250",
          " Presidential Boulevard,  Austin,  Texas,  United States,  78719",
          " Airport Road,  Waco,  Texas,  United States,  76708",
          " Boring Test Tunnel,  Hawthorne,  California,  United States,  90250",
          " Tico Road,  Titusville,  Florida,  United States,  32927",
          " Airport Boulevard,  San Jose,  California,  United States,  95110",
          " Sepulveda Boulevard,  Los Angeles,  California,  United States,  90009",
          " Center Lane,  Titusville,  Florida,  United States,  32780",
          " South Vermillion Avenue,  Brownsville,  Texas,  United States,  ",
          " Boring Test Tunnel,  Hawthorne,  California,  United States,  90250",
          " South Vermillion Avenue,  Brownsville,  Texas,  United States,  ",
          " Mathew Street,  Santa Clara,  California,  United States,  95053",
          " Concourse Level 4,  Los Angeles,  California,  United States,  90245",
          " Presidential Boulevard,  Austin,  Texas,  United States,  78719",
          " Mathew Street,  Santa Clara,  California,  United States,  95053",
          " Boring Test Tunnel,  Hawthorne,  California,  United States,  90250",
          " Aviation Drive,  Pflugerville,  Texas,  United States,  78660",
          " Sepulveda Boulevard,  Los Angeles,  California,  United States,  90009",
          " Airport Boulevard,  San Jose,  California,  United States,  95110",
          " Sepulveda Boulevard,  Los Angeles,  California,  United States,  90009",
          " Presidential Boulevard,  Austin,  Texas,  United States,  78719",
          " Melli-Beese-Ring,  ,  Brandenburg,  Deutschland,  12529",
          " Presidential Boulevard,  Austin,  Texas,  United States,  78719",
          " Boring Test Tunnel,  Hawthorne,  California,  United States,  90250",
          " Mathew Street,  Santa Clara,  California,  United States,  95053",
          " Boring Test Tunnel,  Hawthorne,  California,  United States,  90250",
          " West 119th Drive,  Broomfield,  Colorado,  United States,  80020",
          " Presidential Boulevard,  Austin,  Texas,  United States,  78719",
          " South Vermillion Avenue,  Brownsville,  Texas,  United States,  ",
          " Boring Test Tunnel,  Hawthorne,  California,  United States,  90250",
          " South Vermillion Avenue,  Brownsville,  Texas,  United States,  ",
          " Presidential Boulevard,  Austin,  Texas,  United States,  78719",
          " Boring Test Tunnel,  Hawthorne,  California,  United States,  90250",
          " Presidential Boulevard,  Austin,  Texas,  United States,  78719",
          " Melli-Beese-Ring,  ,  Brandenburg,  Deutschland,  12529",
          " Departures,  South San Francisco,  California,  United States,  94128",
          " Airport Boulevard,  San Jose,  California,  United States,  95110",
          " Boring Test Tunnel,  Hawthorne,  California,  United States,  90250",
          " South Vermillion Avenue,  Brownsville,  Texas,  United States,  ",
          " Presidential Boulevard,  Austin,  Texas,  United States,  78719",
          " South Vermillion Avenue,  Brownsville,  Texas,  United States,  ",
          " Boring Test Tunnel,  Hawthorne,  California,  United States,  90250",
          " Presidential Boulevard,  Austin,  Texas,  United States,  78719",
          " Boring Test Tunnel,  Hawthorne,  California,  United States,  90250",
          " Presidential Boulevard,  Austin,  Texas,  United States,  78719",
          " South Vermillion Avenue,  Brownsville,  Texas,  United States,  ",
          " Presidential Boulevard,  Austin,  Texas,  United States,  78719",
          " Boring Test Tunnel,  Hawthorne,  California,  United States,  90250",
          " Presidential Boulevard,  Austin,  Texas,  United States,  78719",
          " West 119th Drive,  Broomfield,  Colorado,  United States,  80020",
          " Lanui Circle,  ,  Hawaii,  United States,  96784",
          " Airport Boulevard,  San Jose,  California,  United States,  95110",
          " Boring Test Tunnel,  Hawthorne,  California,  United States,  90250",
          " Presidential Boulevard,  Austin,  Texas,  United States,  78719",
          " Airport Boulevard,  San Jose,  California,  United States,  95110",
          " Westchester Parkway,  Los Angeles,  California,  United States,  90293",
          " Presidential Boulevard,  Austin,  Texas,  United States,  78719",
          " Mathew Street,  Santa Clara,  California,  United States,  95053",
          " Boring Test Tunnel,  Hawthorne,  California,  United States,  90250",
          " Cargo Lane,  Victorville,  California,  United States,  92301",
          " Wayne Newton Boulevard,  Las Vegas,  Nevada,  United States,  89119",
          " Sepulveda Boulevard,  Los Angeles,  California,  United States,  90009",
          " South Vermillion Avenue,  Brownsville,  Texas,  United States,  ",
          " Presidential Boulevard,  Austin,  Texas,  United States,  78719",
          " Boring Test Tunnel,  Hawthorne,  California,  United States,  90250",
          " South Rock Boulevard,  Reno,  Nevada,  United States,  89510",
          " South Vermillion Avenue,  Brownsville,  Texas,  United States,  ",
          " Presidential Boulevard,  Austin,  Texas,  United States,  78719",
          " Mathew Street,  Santa Clara,  California,  United States,  95053",
          " Boring Test Tunnel,  Hawthorne,  California,  United States,  90250",
          " Mathew Street,  Santa Clara,  California,  United States,  95053",
          " Presidential Boulevard,  Austin,  Texas,  United States,  78719",
          " South Vermillion Avenue,  Brownsville,  Texas,  United States,  ",
          " Boring Test Tunnel,  Hawthorne,  California,  United States,  90250",
          " Airport Boulevard,  San Jose,  California,  United States,  95110",
          " World Way,  Los Angeles,  California,  United States,  90009",
          " Airport Boulevard,  San Jose,  California,  United States,  95110",
          " East Willow Street,  Long Beach,  California,  United States,  90815",
          " Boring Test Tunnel,  Hawthorne,  California,  United States,  90250",
          " Presidential Boulevard,  Austin,  Texas,  United States,  78719",
          " Concourse Level 4,  Los Angeles,  California,  United States,  90245",
          " Airport Boulevard,  San Jose,  California,  United States,  95110",
          " Boring Test Tunnel,  Hawthorne,  California,  United States,  90250",
          " Presidential Boulevard,  Austin,  Texas,  United States,  78719",
          " Perimeter Road South,  Seattle,  Washington,  United States,  98108",
          " Mathew Street,  Santa Clara,  California,  United States,  95053",
          " Boring Test Tunnel,  Hawthorne,  California,  United States,  90250",
          " Presidential Boulevard,  Austin,  Texas,  United States,  78719",
          " Boring Test Tunnel,  Hawthorne,  California,  United States,  90250",
          " Airport Boulevard,  San Jose,  California,  United States,  95110",
          " Boring Test Tunnel,  Hawthorne,  California,  United States,  90250",
          " Airport Boulevard,  San Jose,  California,  United States,  95110",
          " Boring Test Tunnel,  Hawthorne,  California,  United States,  90250",
          " Bridle Path,  Melbourne,  Florida,  United States,  32935",
          " Center Lane,  Titusville,  Florida,  United States,  32780",
          " Bridle Path,  Melbourne,  Florida,  United States,  32935",
          " Northwest 36th Street,  ,  Florida,  United States,  33142",
          " Boring Test Tunnel,  Hawthorne,  California,  United States,  90250",
          " Northwest 57th Avenue,  ,  Florida,  United States,  33142",
          " Fred Wehran Drive,  Teterboro,  New Jersey,  United States,  07608",
          " Sepulveda Boulevard,  Los Angeles,  California,  United States,  90009",
          " Airport Boulevard,  San Jose,  California,  United States,  95110",
          " Provost Way,  Luton,  England,  United Kingdom,  LU2 9LY",
          " Melli-Beese-Ring,  ,  Brandenburg,  Deutschland,  12529",
          " North Access Road,  South San Francisco,  California,  United States,  94128",
          " Boring Test Tunnel,  Hawthorne,  California,  United States,  90250",
          " Airport Boulevard,  San Jose,  California,  United States,  95110",
          " Boring Test Tunnel,  Hawthorne,  California,  United States,  90250",
          " Mathew Street,  Santa Clara,  California,  United States,  95053",
          " Boring Test Tunnel,  Hawthorne,  California,  United States,  90250",
          " Presidential Boulevard,  Austin,  Texas,  United States,  78719",
          " Airport Boulevard,  San Jose,  California,  United States,  95110",
          " Boring Test Tunnel,  Hawthorne,  California,  United States,  90250",
          " Airport Boulevard,  San Jose,  California,  United States,  95110",
          " Boring Test Tunnel,  Hawthorne,  California,  United States,  90250",
          " Airport Boulevard,  San Jose,  California,  United States,  95110",
          " Boring Test Tunnel,  Hawthorne,  California,  United States,  90250",
          " Presidential Boulevard,  Austin,  Texas,  United States,  78719",
          " Boring Test Tunnel,  Hawthorne,  California,  United States,  90250",
          " Airport Boulevard,  San Jose,  California,  United States,  95110",
          " Presidential Boulevard,  Austin,  Texas,  United States,  78719",
          " Sepulveda Boulevard,  Los Angeles,  California,  United States,  90009",
          " Airport Boulevard,  San Jose,  California,  United States,  95110",
          " Boring Test Tunnel,  Hawthorne,  California,  United States,  90250",
          " Airport Boulevard,  San Jose,  California,  United States,  95110",
          " South Vermillion Avenue,  Brownsville,  Texas,  United States,  ",
          " Harry Burrell Boulevard,  Las Cruces,  New Mexico,  United States,  ",
          " Hog Island Road,  Philadelphia,  Pennsylvania,  United States,  19153",
          " South Vermillion Avenue,  Brownsville,  Texas,  United States,  ",
          " Boring Test Tunnel,  Hawthorne,  California,  United States,  90250",
          " Mathew Street,  Santa Clara,  California,  United States,  95053",
          " South Vermillion Avenue,  Brownsville,  Texas,  United States,  ",
          " Sepulveda Boulevard,  Los Angeles,  California,  United States,  90009",
          " South Vermillion Avenue,  Brownsville,  Texas,  United States,  ",
          " Presidential Boulevard,  Austin,  Texas,  United States,  78719",
          " Center Lane,  Titusville,  Florida,  United States,  32780",
          " South Vermillion Avenue,  Brownsville,  Texas,  United States,  ",
          " Tico Road,  Titusville,  Florida,  United States,  32927",
          " South Vermillion Avenue,  Brownsville,  Texas,  United States,  ",
          " Center Lane,  Titusville,  Florida,  United States,  32780",
          " South Vermillion Avenue,  Brownsville,  Texas,  United States,  ",
          " Golden Knights Boulevard,  Titusville,  Florida,  United States,  32927",
          " South Vermillion Avenue,  Brownsville,  Texas,  United States,  ",
          " Presidential Boulevard,  Austin,  Texas,  United States,  78719",
          " South Vermillion Avenue,  Brownsville,  Texas,  United States,  ",
          " Center Lane,  Titusville,  Florida,  United States,  32780",
          " South Vermillion Avenue,  Brownsville,  Texas,  United States,  ",
          " Center Lane,  Titusville,  Florida,  United States,  32780",
          " South Vermillion Avenue,  Brownsville,  Texas,  United States,  ",
          " Boring Test Tunnel,  Hawthorne,  California,  United States,  90250",
          " South Vermillion Avenue,  Brownsville,  Texas,  United States,  ",
          " Boring Test Tunnel,  Hawthorne,  California,  United States,  90250",
          " South Vermillion Avenue,  Brownsville,  Texas,  United States,  ",
          " Tico Road,  Titusville,  Florida,  United States,  32927",
          " South Vermillion Avenue,  Brownsville,  Texas,  United States,  ",
          " Presidential Boulevard,  Austin,  Texas,  United States,  78719",
          " South Vermillion Avenue,  Brownsville,  Texas,  United States,  ",
          " Boring Test Tunnel,  Hawthorne,  California,  United States,  90250",
          " South Vermillion Avenue,  Brownsville,  Texas,  United States,  ",
          " Boring Test Tunnel,  Hawthorne,  California,  United States,  90250",
          " South Vermillion Avenue,  Brownsville,  Texas,  United States,  ",
          " Center Lane,  Titusville,  Florida,  United States,  32780",
          " South Vermillion Avenue,  Brownsville,  Texas,  United States,  ",
          " Mathew Street,  Santa Clara,  California,  United States,  95053",
          " Boring Test Tunnel,  Hawthorne,  California,  United States,  90250",
          " Airport Boulevard,  San Jose,  California,  United States,  95110",
          " Northside Parkway,  Los Angeles,  California,  United States,  90045",
          " Zaunstraße 1,  Rotberg,  Brandenburg,  Deutschland,  12529",
          " Boring Test Tunnel,  Hawthorne,  California,  United States,  90250",
          " South Minnesota Avenue,  Brownsville,  Texas,  United States,  ",
          " Airport Boulevard,  San Jose,  California,  United States,  95110",
          " Boring Test Tunnel,  Hawthorne,  California,  United States,  90250",
          " South Vermillion Avenue,  Brownsville,  Texas,  United States,  ",
          " Presidential Boulevard,  Austin,  Texas,  United States,  78719",
          " Boring Test Tunnel,  Hawthorne,  California,  United States,  90250",
          " Airport Boulevard,  San Jose,  California,  United States,  95110",
          " Sepulveda Boulevard,  Los Angeles,  California,  United States,  90009",
          " Presidential Boulevard,  Austin,  Texas,  United States,  78719",
          " Boring Test Tunnel,  Hawthorne,  California,  United States,  90250",
          " Presidential Boulevard,  Austin,  Texas,  United States,  78719",
          " South Vermillion Avenue,  Brownsville,  Texas,  United States,  ",
          " Malcolm Avenue,  Teterboro,  New Jersey,  United States,  07604",
          " South Vermillion Avenue,  Brownsville,  Texas,  United States,  ",
          " Malcolm Avenue,  Teterboro,  New Jersey,  United States,  07604",
          " South Vermillion Avenue,  Brownsville,  Texas,  United States,  ",
          " West Apron Road,  Orlando,  Florida,  United States,  32862",
          " South Vermillion Avenue,  Brownsville,  Texas,  United States,  ",
          " Presidential Boulevard,  Austin,  Texas,  United States,  78719",
          " Boring Test Tunnel,  Hawthorne,  California,  United States,  90250",
          " Airport Boulevard,  San Jose,  California,  United States,  95110",
          " Presidential Boulevard,  Austin,  Texas,  United States,  78719",
          " South Vermillion Avenue,  Brownsville,  Texas,  United States,  ",
          " Presidential Boulevard,  Austin,  Texas,  United States,  78719",
          " South Vermillion Avenue,  Brownsville,  Texas,  United States,  ",
          " Presidential Boulevard,  Austin,  Texas,  United States,  78719",
          " Zaunstraße 1,  Selchow,  Brandenburg,  Deutschland,  12529",
          " South Vermillion Avenue,  Brownsville,  Texas,  United States,  ",
          " SpaceX Starlink Entrance,  Hawthorne,  California,  United States,  90250",
          " Airport Boulevard,  San Jose,  California,  United States,  95110",
          " Presidential Boulevard,  Austin,  Texas,  United States,  78719",
          " South Vermillion Avenue,  Brownsville,  Texas,  United States,  ",
          " Presidential Boulevard,  Austin,  Texas,  United States,  78719",
          " South Vermillion Avenue,  Brownsville,  Texas,  United States,  ",
          " Northside Parkway,  Los Angeles,  California,  United States,  90045",
          " South Vermillion Avenue,  Brownsville,  Texas,  United States,  ",
          " Presidential Boulevard,  Austin,  Texas,  United States,  78719",
          " East Willow Street,  Long Beach,  California,  United States,  90815",
          " Presidential Boulevard,  Austin,  Texas,  United States,  78719",
          " South Vermillion Avenue,  Brownsville,  Texas,  United States,  ",
          " ,  ,  Texas,  United States,  ",
          " Presidential Boulevard,  Austin,  Texas,  United States,  78719",
          " South Vermillion Avenue,  Brownsville,  Texas,  United States,  ",
          " Presidential Boulevard,  Austin,  Texas,  United States,  78719",
          " South Vermillion Avenue,  Brownsville,  Texas,  United States,  ",
          " Island Avenue,  Philadelphia,  Pennsylvania,  United States,  19153",
          " South Vermillion Avenue,  Brownsville,  Texas,  United States,  ",
          " Malcolm Avenue,  Teterboro,  New Jersey,  United States,  07604",
          " South Vermillion Avenue,  Brownsville,  Texas,  United States,  ",
          " Presidential Boulevard,  Austin,  Texas,  United States,  78719",
          " South Vermillion Avenue,  Brownsville,  Texas,  United States,  ",
          " Presidential Boulevard,  Austin,  Texas,  United States,  78719",
          " South Vermillion Avenue,  Brownsville,  Texas,  United States,  ",
          " Presidential Boulevard,  Austin,  Texas,  United States,  78719",
          " Boring Test Tunnel,  Hawthorne,  California,  United States,  90250",
          " Presidential Boulevard,  Austin,  Texas,  United States,  78719",
          " Boring Test Tunnel,  Hawthorne,  California,  United States,  90250",
          " Presidential Boulevard,  Austin,  Texas,  United States,  78719",
          " Northwest 57th Avenue,  ,  Florida,  United States,  33142",
          " South Vermillion Avenue,  Brownsville,  Texas,  United States,  ",
          " Presidential Boulevard,  Austin,  Texas,  United States,  78719",
          " South Vermillion Avenue,  Brownsville,  Texas,  United States,  ",
          " Presidential Boulevard,  Austin,  Texas,  United States,  78719",
          " Boring Test Tunnel,  Hawthorne,  California,  United States,  90250",
          " Presidential Boulevard,  Austin,  Texas,  United States,  78719",
          " South Vermillion Avenue,  Brownsville,  Texas,  United States,  ",
          " Presidential Boulevard,  Austin,  Texas,  United States,  78719",
          " South Vermillion Avenue,  Brownsville,  Texas,  United States,  ",
          " Presidential Boulevard,  Austin,  Texas,  United States,  78719",
          " South Vermillion Avenue,  Brownsville,  Texas,  United States,  ",
          " Presidential Boulevard,  Austin,  Texas,  United States,  78719",
          " Boring Test Tunnel,  Hawthorne,  California,  United States,  90250",
          " Presidential Boulevard,  Austin,  Texas,  United States,  78719",
          " Airport Boulevard,  San Jose,  California,  United States,  95110",
          " Boring Test Tunnel,  Hawthorne,  California,  United States,  90250",
          " Presidential Boulevard,  Austin,  Texas,  United States,  78719",
          " Lanui Circle,  ,  Hawaii,  United States,  96784",
          " Presidential Boulevard,  Austin,  Texas,  United States,  78719",
          " Boring Test Tunnel,  Hawthorne,  California,  United States,  90250",
          " South Vermillion Avenue,  Brownsville,  Texas,  United States,  ",
          " Presidential Boulevard,  Austin,  Texas,  United States,  78719",
          " Boring Test Tunnel,  Hawthorne,  California,  United States,  90250",
          " Presidential Boulevard,  Austin,  Texas,  United States,  78719",
          " Airport Boulevard,  San Jose,  California,  United States,  95110",
          " Presidential Boulevard,  Austin,  Texas,  United States,  78719",
          " South Minnesota Avenue,  Brownsville,  Texas,  United States,  ",
          " Presidential Boulevard,  Austin,  Texas,  United States,  78719",
          " Sophia Avenue,  Los Angeles,  California,  United States,  91406",
          " Presidential Boulevard,  Austin,  Texas,  United States,  78719",
          " Grant McConachie Way,  Richmond,  British Columbia,  Canada,  V7B 1W0",
          " Perimeter Road South,  Seattle,  Washington,  United States,  98108",
          " Presidential Boulevard,  Austin,  Texas,  United States,  78719",
          " Boring Test Tunnel,  Hawthorne,  California,  United States,  90250",
          " Presidential Boulevard,  Austin,  Texas,  United States,  78719",
          " South Vermillion Avenue,  Brownsville,  Texas,  United States,  ",
          " A Avenue,  Houston,  Texas,  United States,  77061",
          " Presidential Boulevard,  Austin,  Texas,  United States,  78719",
          " Boring Test Tunnel,  Hawthorne,  California,  United States,  90250",
          " Presidential Boulevard,  Austin,  Texas,  United States,  78719",
          " Boring Test Tunnel,  Hawthorne,  California,  United States,  90250",
          " A Avenue,  Houston,  Texas,  United States,  77061",
          " Presidential Boulevard,  Austin,  Texas,  United States,  78719",
          " South Vermillion Avenue,  Brownsville,  Texas,  United States,  ",
          " Presidential Boulevard,  Austin,  Texas,  United States,  78719",
          " Boring Test Tunnel,  Hawthorne,  California,  United States,  90250",
          " Airport Boulevard,  San Jose,  California,  United States,  95110",
          " Presidential Boulevard,  Austin,  Texas,  United States,  78719",
          " South Vermillion Avenue,  Brownsville,  Texas,  United States,  ",
          " Presidential Boulevard,  Austin,  Texas,  United States,  78719",
          " Boring Test Tunnel,  Hawthorne,  California,  United States,  90250",
          " Presidential Boulevard,  Austin,  Texas,  United States,  78719",
          " Via Dalmazia,  Ciampino,  Lazio,  Italia,  00043",
          " Partenze,  Venezia,  Veneto,  Italia,  ",
          " South Vermillion Avenue,  Brownsville,  Texas,  United States,  ",
          " Presidential Boulevard,  Austin,  Texas,  United States,  78719",
          " Boring Test Tunnel,  Hawthorne,  California,  United States,  90250",
          " Presidential Boulevard,  Austin,  Texas,  United States,  78719",
          " South Vermillion Avenue,  Brownsville,  Texas,  United States,  ",
          " Airport Boulevard,  San Jose,  California,  United States,  95110",
          " Boring Test Tunnel,  Hawthorne,  California,  United States,  90250",
          " Presidential Boulevard,  Austin,  Texas,  United States,  78719",
          " East Willow Street,  Long Beach,  California,  United States,  90815",
          " South Vermillion Avenue,  Brownsville,  Texas,  United States,  ",
          " Presidential Boulevard,  Austin,  Texas,  United States,  78719",
          " Mathew Street,  Santa Clara,  California,  United States,  95053",
          " Presidential Boulevard,  Austin,  Texas,  United States,  78719",
          " South Vermillion Avenue,  Brownsville,  Texas,  United States,  ",
          " Presidential Boulevard,  Austin,  Texas,  United States,  78719",
          " South Vermillion Avenue,  Brownsville,  Texas,  United States,  ",
          " Boring Test Tunnel,  Hawthorne,  California,  United States,  90250",
          " Mathew Street,  Santa Clara,  California,  United States,  95053",
          " Presidential Boulevard,  Austin,  Texas,  United States,  78719",
          " South Vermillion Avenue,  Brownsville,  Texas,  United States,  ",
          " Mathew Street,  Santa Clara,  California,  United States,  95053",
          " South Vermillion Avenue,  Brownsville,  Texas,  United States,  ",
          " Presidential Boulevard,  Austin,  Texas,  United States,  78719",
          " South Minnesota Avenue,  Brownsville,  Texas,  United States,  ",
          " Rust Avenue,  Westhampton,  New York,  United States,  11978",
          " Presidential Boulevard,  Austin,  Texas,  United States,  78719",
          " Airport Boulevard,  San Jose,  California,  United States,  95110",
          " Boring Test Tunnel,  Hawthorne,  California,  United States,  90250",
          " South Vermillion Avenue,  Brownsville,  Texas,  United States,  ",
          " Presidential Boulevard,  Austin,  Texas,  United States,  78719",
          " Sepulveda Boulevard,  Los Angeles,  California,  United States,  90009",
          " Ljosheimvegen,  Sola,  ,  Norge,  4050",
          " Melli-Beese-Ring,  ,  Brandenburg,  Deutschland,  12529",
          " Sepulveda Boulevard,  Los Angeles,  California,  United States,  90009",
          " Post Road,  ,  Rhode Island,  United States,  02886",
          " Malcolm Avenue,  Teterboro,  New Jersey,  United States,  07604",
          " Presidential Boulevard,  Austin,  Texas,  United States,  78719",
          " South Vermillion Avenue,  Brownsville,  Texas,  United States,  ",
          " Westchester Parkway,  Los Angeles,  California,  United States,  90293",
          " Presidential Boulevard,  Austin,  Texas,  United States,  78719",
          " Airport Boulevard,  San Jose,  California,  United States,  95110",
          " Boring Test Tunnel,  Hawthorne,  California,  United States,  90250",
          " Presidential Boulevard,  Austin,  Texas,  United States,  78719",
          " South Vermillion Avenue,  Brownsville,  Texas,  United States,  ",
          " Presidential Boulevard,  Austin,  Texas,  United States,  78719",
          " West 119th Drive,  Broomfield,  Colorado,  United States,  80020",
          " Presidential Boulevard,  Austin,  Texas,  United States,  78719",
          " Airport Boulevard,  San Jose,  California,  United States,  95110",
          " Boring Test Tunnel,  Hawthorne,  California,  United States,  90250",
          " Airport Boulevard,  San Jose,  California,  United States,  95110",
          " Herb Kelleher Way,  Dallas,  Texas,  United States,  75235",
          " Presidential Boulevard,  Austin,  Texas,  United States,  78719",
          " South Vermillion Avenue,  Brownsville,  Texas,  United States,  ",
          " Presidential Boulevard,  Austin,  Texas,  United States,  78719",
          " South Vermillion Avenue,  Brownsville,  Texas,  United States,  ",
          " Presidential Boulevard,  Austin,  Texas,  United States,  78719",
          " Airport Boulevard,  San Jose,  California,  United States,  95110",
          " Presidential Boulevard,  Austin,  Texas,  United States,  78719",
          " Airport Boulevard,  San Jose,  California,  United States,  95110",
          " Boring Test Tunnel,  Hawthorne,  California,  United States,  90250",
          " Airport Boulevard,  San Jose,  California,  United States,  95110",
          " Boring Test Tunnel,  Hawthorne,  California,  United States,  90250",
          " Malcolm Avenue,  Teterboro,  New Jersey,  United States,  07604",
          " Edge Light Road,  ,  Virginia,  United States,  24965",
          " North Access Road,  ,  California,  United States,  94128",
          " Mathew Street,  Santa Clara,  California,  United States,  95053",
          " Malcolm Avenue,  Teterboro,  New Jersey,  United States,  07604",
          " Presidential Boulevard,  Austin,  Texas,  United States,  78719",
          " North Access Road,  South San Francisco,  California,  United States,  94128",
          " Presidential Boulevard,  Austin,  Texas,  United States,  78719",
          " North Access Road,  ,  California,  United States,  94128",
          " Boring Test Tunnel,  Hawthorne,  California,  United States,  90250",
          " Earhart Road,  Oakland,  California,  United States,  94614",
          " Presidential Boulevard,  Austin,  Texas,  United States,  78719",
          " Earhart Road,  Oakland,  California,  United States,  94614",
          " Presidential Boulevard,  Austin,  Texas,  United States,  78719",
          " Earhart Road,  Oakland,  California,  United States,  94614",
          " Vassar Street,  Reno,  Nevada,  United States,  89510",
          " ,  Oakland,  California,  United States,  ",
          " Loyola Drive,  Kenner,  Louisiana,  United States,  70062",
          " Earhart Road,  Oakland,  California,  United States,  94614",
          " Edge Light Road,  Dulles Town Center,  Virginia,  United States,  20166",
          " Earhart Road,  Oakland,  California,  United States,  94614",
          " Sepulveda Boulevard,  Los Angeles,  California,  United States,  90009",
          " Presidential Boulevard,  Austin,  Texas,  United States,  78719",
          " Airport Boulevard,  San Jose,  California,  United States,  95110",
          " Provost Way,  Luton,  England,  United Kingdom,  LU2 9LY",
          " خور العديد,  الدوحة,  ,  قطر,  ",
          " Airport Way,  Luton,  England,  United Kingdom,  LU2 9NE",
          " Presidential Boulevard,  Austin,  Texas,  United States,  78719",
          " Edward White Way,  Oakland,  California,  United States,  94614",
          " Airport Boulevard,  ,  California,  United States,  95837",
          " Westchester Parkway,  Los Angeles,  California,  United States,  90293",
          " Reservoir Road,  ,  California,  United States,  95837",
          " West 119th Drive,  Broomfield,  Colorado,  United States,  80020",
          " Presidential Boulevard,  Austin,  Texas,  United States,  78719",
          " Reservoir Road,  ,  California,  United States,  95837",
          " Presidential Boulevard,  Austin,  Texas,  United States,  78719",
          " Sepulveda Boulevard,  Los Angeles,  California,  United States,  90009",
          " East Willow Street,  Long Beach,  California,  United States,  90815",
          " Boring Test Tunnel,  Hawthorne,  California,  United States,  90250",
          " Presidential Boulevard,  Austin,  Texas,  United States,  78719",
          " ,  Oakland,  California,  United States,  ",
          " Presidential Boulevard,  Austin,  Texas,  United States,  78719",
          " Earhart Road,  Oakland,  California,  United States,  94614",
          " Presidential Boulevard,  Austin,  Texas,  United States,  78719",
          " Earhart Road,  Oakland,  California,  United States,  94614",
          " Vanowen Street,  Los Angeles,  California,  United States,  91515",
          " Post Road,  ,  Rhode Island,  United States,  02886",
          " Edward White Way,  Oakland,  California,  United States,  94614",
          " South Rock Boulevard,  Reno,  Nevada,  United States,  89510",
          " Edward White Way,  Oakland,  California,  United States,  94614",
          " Edge Light Road,  Dulles Town Center,  Virginia,  United States,  20166",
          " Edward White Way,  Oakland,  California,  United States,  94614",
          " Presidential Boulevard,  Austin,  Texas,  United States,  78719",
          " California Road,  Brownsville,  Texas,  United States,  78521",
          " Earhart Road,  Oakland,  California,  United States,  94614",
          " Presidential Boulevard,  Austin,  Texas,  United States,  78719",
          " Earhart Road,  Oakland,  California,  United States,  94614",
          " Boring Test Tunnel,  Hawthorne,  California,  United States,  90250",
          " Earhart Road,  Oakland,  California,  United States,  94614",
          " South Bullard Avenue,  Goodyear,  Arizona,  United States,  85395",
          " Earhart Road,  Oakland,  California,  United States,  94614",
          " Presidential Boulevard,  Austin,  Texas,  United States,  78719",
          " Air Cargo Way,  Oakland,  California,  United States,  94614",
          " Presidential Boulevard,  Austin,  Texas,  United States,  78719"
         ],
         "type": "scattergeo"
        },
        {
         "lat": [
          28.511867,
          34.212077
         ],
         "line": {
          "color": "red",
          "width": 1
         },
         "locationmode": "USA-states",
         "lon": [
          -80.796692,
          -118.490567
         ],
         "mode": "lines",
         "opacity": 1,
         "type": "scattergeo"
        },
        {
         "lat": [
          34.212077,
          33.922545
         ],
         "line": {
          "color": "red",
          "width": 1
         },
         "locationmode": "USA-states",
         "lon": [
          -118.490567,
          -118.341479
         ],
         "mode": "lines",
         "opacity": 1,
         "type": "scattergeo"
        },
        {
         "lat": [
          33.922545,
          28.512198
         ],
         "line": {
          "color": "red",
          "width": 1
         },
         "locationmode": "USA-states",
         "lon": [
          -118.341479,
          -80.797011
         ],
         "mode": "lines",
         "opacity": 1,
         "type": "scattergeo"
        },
        {
         "lat": [
          28.512198,
          33.922737
         ],
         "line": {
          "color": "red",
          "width": 1
         },
         "locationmode": "USA-states",
         "lon": [
          -80.797011,
          -118.337509
         ],
         "mode": "lines",
         "opacity": 1,
         "type": "scattergeo"
        },
        {
         "lat": [
          33.922737,
          28.512428
         ],
         "line": {
          "color": "red",
          "width": 1
         },
         "locationmode": "USA-states",
         "lon": [
          -118.337509,
          -80.796824
         ],
         "mode": "lines",
         "opacity": 1,
         "type": "scattergeo"
        },
        {
         "lat": [
          28.512428,
          34.208632
         ],
         "line": {
          "color": "red",
          "width": 1
         },
         "locationmode": "USA-states",
         "lon": [
          -80.796824,
          -118.490281
         ],
         "mode": "lines",
         "opacity": 1,
         "type": "scattergeo"
        },
        {
         "lat": [
          34.208632,
          33.95074
         ],
         "line": {
          "color": "red",
          "width": 1
         },
         "locationmode": "USA-states",
         "lon": [
          -118.490281,
          -118.415451
         ],
         "mode": "lines",
         "opacity": 1,
         "type": "scattergeo"
        },
        {
         "lat": [
          33.95074,
          34.203117
         ],
         "line": {
          "color": "red",
          "width": 1
         },
         "locationmode": "USA-states",
         "lon": [
          -118.415451,
          -118.489748
         ],
         "mode": "lines",
         "opacity": 1,
         "type": "scattergeo"
        },
        {
         "lat": [
          34.203117,
          37.363311
         ],
         "line": {
          "color": "red",
          "width": 1
         },
         "locationmode": "USA-states",
         "lon": [
          -118.489748,
          -121.930593
         ],
         "mode": "lines",
         "opacity": 1,
         "type": "scattergeo"
        },
        {
         "lat": [
          37.363311,
          33.92272
         ],
         "line": {
          "color": "red",
          "width": 1
         },
         "locationmode": "USA-states",
         "lon": [
          -121.930593,
          -118.337702
         ],
         "mode": "lines",
         "opacity": 1,
         "type": "scattergeo"
        },
        {
         "lat": [
          33.92272,
          37.364822
         ],
         "line": {
          "color": "red",
          "width": 1
         },
         "locationmode": "USA-states",
         "lon": [
          -118.337702,
          -121.93223
         ],
         "mode": "lines",
         "opacity": 1,
         "type": "scattergeo"
        },
        {
         "lat": [
          37.364822,
          34.20671
         ],
         "line": {
          "color": "red",
          "width": 1
         },
         "locationmode": "USA-states",
         "lon": [
          -121.93223,
          -118.490099
         ],
         "mode": "lines",
         "opacity": 1,
         "type": "scattergeo"
        },
        {
         "lat": [
          34.20671,
          33.922771
         ],
         "line": {
          "color": "red",
          "width": 1
         },
         "locationmode": "USA-states",
         "lon": [
          -118.490099,
          -118.336823
         ],
         "mode": "lines",
         "opacity": 1,
         "type": "scattergeo"
        },
        {
         "lat": [
          33.922771,
          34.208911
         ],
         "line": {
          "color": "red",
          "width": 1
         },
         "locationmode": "USA-states",
         "lon": [
          -118.336823,
          -118.490309
         ],
         "mode": "lines",
         "opacity": 1,
         "type": "scattergeo"
        },
        {
         "lat": [
          34.208911,
          33.922782
         ],
         "line": {
          "color": "red",
          "width": 1
         },
         "locationmode": "USA-states",
         "lon": [
          -118.490309,
          -118.336668
         ],
         "mode": "lines",
         "opacity": 1,
         "type": "scattergeo"
        },
        {
         "lat": [
          33.922782,
          25.804673
         ],
         "line": {
          "color": "red",
          "width": 1
         },
         "locationmode": "USA-states",
         "lon": [
          -118.336668,
          -80.291946
         ],
         "mode": "lines",
         "opacity": 1,
         "type": "scattergeo"
        },
        {
         "lat": [
          25.804673,
          33.922657
         ],
         "line": {
          "color": "red",
          "width": 1
         },
         "locationmode": "USA-states",
         "lon": [
          -80.291946,
          -118.339345
         ],
         "mode": "lines",
         "opacity": 1,
         "type": "scattergeo"
        },
        {
         "lat": [
          33.922657,
          30.18988
         ],
         "line": {
          "color": "red",
          "width": 1
         },
         "locationmode": "USA-states",
         "lon": [
          -118.339345,
          -97.657538
         ],
         "mode": "lines",
         "opacity": 1,
         "type": "scattergeo"
        },
        {
         "lat": [
          30.18988,
          33.922522
         ],
         "line": {
          "color": "red",
          "width": 1
         },
         "locationmode": "USA-states",
         "lon": [
          -97.657538,
          -118.341808
         ],
         "mode": "lines",
         "opacity": 1,
         "type": "scattergeo"
        },
        {
         "lat": [
          33.922522,
          37.36576
         ],
         "line": {
          "color": "red",
          "width": 1
         },
         "locationmode": "USA-states",
         "lon": [
          -118.341808,
          -121.933267
         ],
         "mode": "lines",
         "opacity": 1,
         "type": "scattergeo"
        },
        {
         "lat": [
          37.36576,
          33.922714
         ],
         "line": {
          "color": "red",
          "width": 1
         },
         "locationmode": "USA-states",
         "lon": [
          -121.933267,
          -118.338294
         ],
         "mode": "lines",
         "opacity": 1,
         "type": "scattergeo"
        },
        {
         "lat": [
          33.922714,
          37.362663
         ],
         "line": {
          "color": "red",
          "width": 1
         },
         "locationmode": "USA-states",
         "lon": [
          -118.338294,
          -121.929837
         ],
         "mode": "lines",
         "opacity": 1,
         "type": "scattergeo"
        },
        {
         "lat": [
          37.362663,
          34.199101
         ],
         "line": {
          "color": "red",
          "width": 1
         },
         "locationmode": "USA-states",
         "lon": [
          -121.929837,
          -118.489379
         ],
         "mode": "lines",
         "opacity": 1,
         "type": "scattergeo"
        },
        {
         "lat": [
          34.199101,
          33.92258
         ],
         "line": {
          "color": "red",
          "width": 1
         },
         "locationmode": "USA-states",
         "lon": [
          -118.489379,
          -118.340821
         ],
         "mode": "lines",
         "opacity": 1,
         "type": "scattergeo"
        },
        {
         "lat": [
          33.92258,
          37.364192
         ],
         "line": {
          "color": "red",
          "width": 1
         },
         "locationmode": "USA-states",
         "lon": [
          -118.340821,
          -121.931572
         ],
         "mode": "lines",
         "opacity": 1,
         "type": "scattergeo"
        },
        {
         "lat": [
          37.364192,
          33.922828
         ],
         "line": {
          "color": "red",
          "width": 1
         },
         "locationmode": "USA-states",
         "lon": [
          -121.931572,
          -118.335898
         ],
         "mode": "lines",
         "opacity": 1,
         "type": "scattergeo"
        },
        {
         "lat": [
          33.922828,
          37.357051
         ],
         "line": {
          "color": "red",
          "width": 1
         },
         "locationmode": "USA-states",
         "lon": [
          -118.335898,
          -121.928256
         ],
         "mode": "lines",
         "opacity": 1,
         "type": "scattergeo"
        },
        {
         "lat": [
          37.357051,
          34.202615
         ],
         "line": {
          "color": "red",
          "width": 1
         },
         "locationmode": "USA-states",
         "lon": [
          -121.928256,
          -118.489723
         ],
         "mode": "lines",
         "opacity": 1,
         "type": "scattergeo"
        },
        {
         "lat": [
          34.202615,
          33.92286
         ],
         "line": {
          "color": "red",
          "width": 1
         },
         "locationmode": "USA-states",
         "lon": [
          -118.489723,
          -118.335041
         ],
         "mode": "lines",
         "opacity": 1,
         "type": "scattergeo"
        },
        {
         "lat": [
          33.92286,
          34.204994
         ],
         "line": {
          "color": "red",
          "width": 1
         },
         "locationmode": "USA-states",
         "lon": [
          -118.335041,
          -118.490225
         ],
         "mode": "lines",
         "opacity": 1,
         "type": "scattergeo"
        },
        {
         "lat": [
          34.204994,
          39.907997
         ],
         "line": {
          "color": "red",
          "width": 1
         },
         "locationmode": "USA-states",
         "lon": [
          -118.490225,
          -105.114515
         ],
         "mode": "lines",
         "opacity": 1,
         "type": "scattergeo"
        },
        {
         "lat": [
          39.907997,
          34.20235
         ],
         "line": {
          "color": "red",
          "width": 1
         },
         "locationmode": "USA-states",
         "lon": [
          -105.114515,
          -118.489706
         ],
         "mode": "lines",
         "opacity": 1,
         "type": "scattergeo"
        },
        {
         "lat": [
          34.20235,
          33.922557
         ],
         "line": {
          "color": "red",
          "width": 1
         },
         "locationmode": "USA-states",
         "lon": [
          -118.489706,
          -118.341221
         ],
         "mode": "lines",
         "opacity": 1,
         "type": "scattergeo"
        },
        {
         "lat": [
          33.922557,
          34.199111
         ],
         "line": {
          "color": "red",
          "width": 1
         },
         "locationmode": "USA-states",
         "lon": [
          -118.341221,
          -118.48937
         ],
         "mode": "lines",
         "opacity": 1,
         "type": "scattergeo"
        },
        {
         "lat": [
          34.199111,
          33.922702
         ],
         "line": {
          "color": "red",
          "width": 1
         },
         "locationmode": "USA-states",
         "lon": [
          -118.48937,
          -118.338308
         ],
         "mode": "lines",
         "opacity": 1,
         "type": "scattergeo"
        },
        {
         "lat": [
          33.922702,
          34.203243
         ],
         "line": {
          "color": "red",
          "width": 1
         },
         "locationmode": "USA-states",
         "lon": [
          -118.338308,
          -118.489776
         ],
         "mode": "lines",
         "opacity": 1,
         "type": "scattergeo"
        },
        {
         "lat": [
          34.203243,
          33.922565
         ],
         "line": {
          "color": "red",
          "width": 1
         },
         "locationmode": "USA-states",
         "lon": [
          -118.489776,
          -118.341111
         ],
         "mode": "lines",
         "opacity": 1,
         "type": "scattergeo"
        },
        {
         "lat": [
          33.922565,
          34.199077
         ],
         "line": {
          "color": "red",
          "width": 1
         },
         "locationmode": "USA-states",
         "lon": [
          -118.341111,
          -118.48937
         ],
         "mode": "lines",
         "opacity": 1,
         "type": "scattergeo"
        },
        {
         "lat": [
          34.199077,
          33.922766
         ],
         "line": {
          "color": "red",
          "width": 1
         },
         "locationmode": "USA-states",
         "lon": [
          -118.48937,
          -118.336887
         ],
         "mode": "lines",
         "opacity": 1,
         "type": "scattergeo"
        },
        {
         "lat": [
          33.922766,
          37.364398
         ],
         "line": {
          "color": "red",
          "width": 1
         },
         "locationmode": "USA-states",
         "lon": [
          -118.336887,
          -121.931733
         ],
         "mode": "lines",
         "opacity": 1,
         "type": "scattergeo"
        },
        {
         "lat": [
          37.364398,
          33.922771
         ],
         "line": {
          "color": "red",
          "width": 1
         },
         "locationmode": "USA-states",
         "lon": [
          -121.931733,
          -118.337033
         ],
         "mode": "lines",
         "opacity": 1,
         "type": "scattergeo"
        },
        {
         "lat": [
          33.922771,
          37.363952
         ],
         "line": {
          "color": "red",
          "width": 1
         },
         "locationmode": "USA-states",
         "lon": [
          -118.337033,
          -121.931295
         ],
         "mode": "lines",
         "opacity": 1,
         "type": "scattergeo"
        },
        {
         "lat": [
          37.363952,
          28.43082
         ],
         "line": {
          "color": "red",
          "width": 1
         },
         "locationmode": "USA-states",
         "lon": [
          -121.931295,
          -81.282467
         ],
         "mode": "lines",
         "opacity": 1,
         "type": "scattergeo"
        },
        {
         "lat": [
          28.43082,
          33.922588
         ],
         "line": {
          "color": "red",
          "width": 1
         },
         "locationmode": "USA-states",
         "lon": [
          -81.282467,
          -118.34062
         ],
         "mode": "lines",
         "opacity": 1,
         "type": "scattergeo"
        },
        {
         "lat": [
          33.922588,
          33.818583
         ],
         "line": {
          "color": "red",
          "width": 1
         },
         "locationmode": "USA-states",
         "lon": [
          -118.34062,
          -118.152308
         ],
         "mode": "lines",
         "opacity": 1,
         "type": "scattergeo"
        },
        {
         "lat": [
          33.818583,
          37.365956
         ],
         "line": {
          "color": "red",
          "width": 1
         },
         "locationmode": "USA-states",
         "lon": [
          -118.152308,
          -121.933509
         ],
         "mode": "lines",
         "opacity": 1,
         "type": "scattergeo"
        },
        {
         "lat": [
          37.365956,
          33.922851
         ],
         "line": {
          "color": "red",
          "width": 1
         },
         "locationmode": "USA-states",
         "lon": [
          -121.933509,
          -118.335029
         ],
         "mode": "lines",
         "opacity": 1,
         "type": "scattergeo"
        },
        {
         "lat": [
          33.922851,
          37.361545
         ],
         "line": {
          "color": "red",
          "width": 1
         },
         "locationmode": "USA-states",
         "lon": [
          -118.335029,
          -121.928642
         ],
         "mode": "lines",
         "opacity": 1,
         "type": "scattergeo"
        },
        {
         "lat": [
          37.361545,
          34.205758
         ],
         "line": {
          "color": "red",
          "width": 1
         },
         "locationmode": "USA-states",
         "lon": [
          -121.928642,
          -118.491182
         ],
         "mode": "lines",
         "opacity": 1,
         "type": "scattergeo"
        },
        {
         "lat": [
          34.205758,
          33.922805
         ],
         "line": {
          "color": "red",
          "width": 1
         },
         "locationmode": "USA-states",
         "lon": [
          -118.491182,
          -118.33608
         ],
         "mode": "lines",
         "opacity": 1,
         "type": "scattergeo"
        },
        {
         "lat": [
          33.922805,
          34.201606
         ],
         "line": {
          "color": "red",
          "width": 1
         },
         "locationmode": "USA-states",
         "lon": [
          -118.33608,
          -118.489636
         ],
         "mode": "lines",
         "opacity": 1,
         "type": "scattergeo"
        },
        {
         "lat": [
          34.201606,
          38.956541
         ],
         "line": {
          "color": "red",
          "width": 1
         },
         "locationmode": "USA-states",
         "lon": [
          -118.489636,
          -77.459487
         ],
         "mode": "lines",
         "opacity": 1,
         "type": "scattergeo"
        },
        {
         "lat": [
          38.956541,
          33.950744
         ],
         "line": {
          "color": "red",
          "width": 1
         },
         "locationmode": "USA-states",
         "lon": [
          -77.459487,
          -118.415365
         ],
         "mode": "lines",
         "opacity": 1,
         "type": "scattergeo"
        },
        {
         "lat": [
          33.950744,
          38.942687
         ],
         "line": {
          "color": "red",
          "width": 1
         },
         "locationmode": "USA-states",
         "lon": [
          -118.415365,
          -77.436178
         ],
         "mode": "lines",
         "opacity": 1,
         "type": "scattergeo"
        },
        {
         "lat": [
          38.942687,
          30.187786
         ],
         "line": {
          "color": "red",
          "width": 1
         },
         "locationmode": "USA-states",
         "lon": [
          -77.436178,
          -97.657524
         ],
         "mode": "lines",
         "opacity": 1,
         "type": "scattergeo"
        },
        {
         "lat": [
          30.187786,
          34.201091
         ],
         "line": {
          "color": "red",
          "width": 1
         },
         "locationmode": "USA-states",
         "lon": [
          -97.657524,
          -118.48988
         ],
         "mode": "lines",
         "opacity": 1,
         "type": "scattergeo"
        },
        {
         "lat": [
          34.201091,
          33.935801
         ],
         "line": {
          "color": "red",
          "width": 1
         },
         "locationmode": "USA-states",
         "lon": [
          -118.48988,
          -118.397941
         ],
         "mode": "lines",
         "opacity": 1,
         "type": "scattergeo"
        },
        {
         "lat": [
          33.935801,
          34.205886
         ],
         "line": {
          "color": "red",
          "width": 1
         },
         "locationmode": "USA-states",
         "lon": [
          -118.397941,
          -118.491178
         ],
         "mode": "lines",
         "opacity": 1,
         "type": "scattergeo"
        },
        {
         "lat": [
          34.205886,
          33.935789
         ],
         "line": {
          "color": "red",
          "width": 1
         },
         "locationmode": "USA-states",
         "lon": [
          -118.491178,
          -118.398041
         ],
         "mode": "lines",
         "opacity": 1,
         "type": "scattergeo"
        },
        {
         "lat": [
          33.935789,
          37.363265
         ],
         "line": {
          "color": "red",
          "width": 1
         },
         "locationmode": "USA-states",
         "lon": [
          -118.398041,
          -121.930579
         ],
         "mode": "lines",
         "opacity": 1,
         "type": "scattergeo"
        },
        {
         "lat": [
          37.363265,
          34.202705
         ],
         "line": {
          "color": "red",
          "width": 1
         },
         "locationmode": "USA-states",
         "lon": [
          -121.930579,
          -118.490057
         ],
         "mode": "lines",
         "opacity": 1,
         "type": "scattergeo"
        },
        {
         "lat": [
          34.202705,
          28.512361
         ],
         "line": {
          "color": "red",
          "width": 1
         },
         "locationmode": "USA-states",
         "lon": [
          -118.490057,
          -80.796849
         ],
         "mode": "lines",
         "opacity": 1,
         "type": "scattergeo"
        },
        {
         "lat": [
          28.512361,
          33.922782
         ],
         "line": {
          "color": "red",
          "width": 1
         },
         "locationmode": "USA-states",
         "lon": [
          -80.796849,
          -118.336809
         ],
         "mode": "lines",
         "opacity": 1,
         "type": "scattergeo"
        },
        {
         "lat": [
          33.922782,
          28.512233
         ],
         "line": {
          "color": "red",
          "width": 1
         },
         "locationmode": "USA-states",
         "lon": [
          -118.336809,
          -80.796969
         ],
         "mode": "lines",
         "opacity": 1,
         "type": "scattergeo"
        },
        {
         "lat": [
          28.512233,
          34.20606
         ],
         "line": {
          "color": "red",
          "width": 1
         },
         "locationmode": "USA-states",
         "lon": [
          -80.796969,
          -118.490052
         ],
         "mode": "lines",
         "opacity": 1,
         "type": "scattergeo"
        },
        {
         "lat": [
          34.20606,
          37.35909
         ],
         "line": {
          "color": "red",
          "width": 1
         },
         "locationmode": "USA-states",
         "lon": [
          -118.490052,
          -121.925956
         ],
         "mode": "lines",
         "opacity": 1,
         "type": "scattergeo"
        },
        {
         "lat": [
          37.35909,
          34.2033
         ],
         "line": {
          "color": "red",
          "width": 1
         },
         "locationmode": "USA-states",
         "lon": [
          -121.925956,
          -118.48979
         ],
         "mode": "lines",
         "opacity": 1,
         "type": "scattergeo"
        },
        {
         "lat": [
          34.2033,
          33.935755
         ],
         "line": {
          "color": "red",
          "width": 1
         },
         "locationmode": "USA-states",
         "lon": [
          -118.48979,
          -118.398413
         ],
         "mode": "lines",
         "opacity": 1,
         "type": "scattergeo"
        },
        {
         "lat": [
          33.935755,
          28.512245
         ],
         "line": {
          "color": "red",
          "width": 1
         },
         "locationmode": "USA-states",
         "lon": [
          -118.398413,
          -80.796692
         ],
         "mode": "lines",
         "opacity": 1,
         "type": "scattergeo"
        },
        {
         "lat": [
          28.512245,
          34.209285
         ],
         "line": {
          "color": "red",
          "width": 1
         },
         "locationmode": "USA-states",
         "lon": [
          -80.796692,
          -118.490351
         ],
         "mode": "lines",
         "opacity": 1,
         "type": "scattergeo"
        },
        {
         "lat": [
          34.209285,
          33.922691
         ],
         "line": {
          "color": "red",
          "width": 1
         },
         "locationmode": "USA-states",
         "lon": [
          -118.490351,
          -118.338616
         ],
         "mode": "lines",
         "opacity": 1,
         "type": "scattergeo"
        },
        {
         "lat": [
          33.922691,
          34.203826
         ],
         "line": {
          "color": "red",
          "width": 1
         },
         "locationmode": "USA-states",
         "lon": [
          -118.338616,
          -118.489818
         ],
         "mode": "lines",
         "opacity": 1,
         "type": "scattergeo"
        },
        {
         "lat": [
          34.203826,
          33.820632
         ],
         "line": {
          "color": "red",
          "width": 1
         },
         "locationmode": "USA-states",
         "lon": [
          -118.489818,
          -118.154763
         ],
         "mode": "lines",
         "opacity": 1,
         "type": "scattergeo"
        },
        {
         "lat": [
          33.820632,
          33.922771
         ],
         "line": {
          "color": "red",
          "width": 1
         },
         "locationmode": "USA-states",
         "lon": [
          -118.154763,
          -118.336823
         ],
         "mode": "lines",
         "opacity": 1,
         "type": "scattergeo"
        },
        {
         "lat": [
          33.922771,
          37.658817
         ],
         "line": {
          "color": "red",
          "width": 1
         },
         "locationmode": "USA-states",
         "lon": [
          -118.336823,
          -122.12274
         ],
         "mode": "lines",
         "opacity": 1,
         "type": "scattergeo"
        },
        {
         "lat": [
          37.658817,
          33.922709
         ],
         "line": {
          "color": "red",
          "width": 1
         },
         "locationmode": "USA-states",
         "lon": [
          -122.12274,
          -118.338175
         ],
         "mode": "lines",
         "opacity": 1,
         "type": "scattergeo"
        },
        {
         "lat": [
          33.922709,
          37.364711
         ],
         "line": {
          "color": "red",
          "width": 1
         },
         "locationmode": "USA-states",
         "lon": [
          -118.338175,
          -121.932106
         ],
         "mode": "lines",
         "opacity": 1,
         "type": "scattergeo"
        },
        {
         "lat": [
          37.364711,
          33.92272
         ],
         "line": {
          "color": "red",
          "width": 1
         },
         "locationmode": "USA-states",
         "lon": [
          -121.932106,
          -118.337789
         ],
         "mode": "lines",
         "opacity": 1,
         "type": "scattergeo"
        },
        {
         "lat": [
          33.92272,
          37.365292
         ],
         "line": {
          "color": "red",
          "width": 1
         },
         "locationmode": "USA-states",
         "lon": [
          -118.337789,
          -121.932742
         ],
         "mode": "lines",
         "opacity": 1,
         "type": "scattergeo"
        },
        {
         "lat": [
          37.365292,
          39.908375
         ],
         "line": {
          "color": "red",
          "width": 1
         },
         "locationmode": "USA-states",
         "lon": [
          -121.932742,
          -105.115247
         ],
         "mode": "lines",
         "opacity": 1,
         "type": "scattergeo"
        },
        {
         "lat": [
          39.908375,
          30.190865
         ],
         "line": {
          "color": "red",
          "width": 1
         },
         "locationmode": "USA-states",
         "lon": [
          -105.115247,
          -97.657578
         ],
         "mode": "lines",
         "opacity": 1,
         "type": "scattergeo"
        },
        {
         "lat": [
          30.190865,
          36.085602
         ],
         "line": {
          "color": "red",
          "width": 1
         },
         "locationmode": "USA-states",
         "lon": [
          -97.657578,
          -115.164571
         ],
         "mode": "lines",
         "opacity": 1,
         "type": "scattergeo"
        },
        {
         "lat": [
          36.085602,
          37.364754
         ],
         "line": {
          "color": "red",
          "width": 1
         },
         "locationmode": "USA-states",
         "lon": [
          -115.164571,
          -121.932157
         ],
         "mode": "lines",
         "opacity": 1,
         "type": "scattergeo"
        },
        {
         "lat": [
          37.364754,
          33.922674
         ],
         "line": {
          "color": "red",
          "width": 1
         },
         "locationmode": "USA-states",
         "lon": [
          -121.932157,
          -118.338919
         ],
         "mode": "lines",
         "opacity": 1,
         "type": "scattergeo"
        },
        {
         "lat": [
          33.922674,
          37.361616
         ],
         "line": {
          "color": "red",
          "width": 1
         },
         "locationmode": "USA-states",
         "lon": [
          -118.338919,
          -121.928777
         ],
         "mode": "lines",
         "opacity": 1,
         "type": "scattergeo"
        },
        {
         "lat": [
          37.361616,
          33.922657
         ],
         "line": {
          "color": "red",
          "width": 1
         },
         "locationmode": "USA-states",
         "lon": [
          -121.928777,
          -118.338687
         ],
         "mode": "lines",
         "opacity": 1,
         "type": "scattergeo"
        },
        {
         "lat": [
          33.922657,
          28.51609
         ],
         "line": {
          "color": "red",
          "width": 1
         },
         "locationmode": "USA-states",
         "lon": [
          -118.338687,
          -80.7952
         ],
         "mode": "lines",
         "opacity": 1,
         "type": "scattergeo"
        },
        {
         "lat": [
          28.51609,
          33.922657
         ],
         "line": {
          "color": "red",
          "width": 1
         },
         "locationmode": "USA-states",
         "lon": [
          -80.7952,
          -118.33964
         ],
         "mode": "lines",
         "opacity": 1,
         "type": "scattergeo"
        },
        {
         "lat": [
          33.922657,
          28.515804
         ],
         "line": {
          "color": "red",
          "width": 1
         },
         "locationmode": "USA-states",
         "lon": [
          -118.33964,
          -80.7952
         ],
         "mode": "lines",
         "opacity": 1,
         "type": "scattergeo"
        },
        {
         "lat": [
          28.515804,
          33.922726
         ],
         "line": {
          "color": "red",
          "width": 1
         },
         "locationmode": "USA-states",
         "lon": [
          -80.7952,
          -118.337902
         ],
         "mode": "lines",
         "opacity": 1,
         "type": "scattergeo"
        },
        {
         "lat": [
          33.922726,
          28.509716
         ],
         "line": {
          "color": "red",
          "width": 1
         },
         "locationmode": "USA-states",
         "lon": [
          -118.337902,
          -80.796824
         ],
         "mode": "lines",
         "opacity": 1,
         "type": "scattergeo"
        },
        {
         "lat": [
          28.509716,
          28.102375
         ],
         "line": {
          "color": "red",
          "width": 1
         },
         "locationmode": "USA-states",
         "lon": [
          -80.796824,
          -80.640124
         ],
         "mode": "lines",
         "opacity": 1,
         "type": "scattergeo"
        },
        {
         "lat": [
          28.102375,
          33.922829
         ],
         "line": {
          "color": "red",
          "width": 1
         },
         "locationmode": "USA-states",
         "lon": [
          -80.640124,
          -118.33758
         ],
         "mode": "lines",
         "opacity": 1,
         "type": "scattergeo"
        },
        {
         "lat": [
          33.922829,
          28.516842
         ],
         "line": {
          "color": "red",
          "width": 1
         },
         "locationmode": "USA-states",
         "lon": [
          -118.33758,
          -80.796756
         ],
         "mode": "lines",
         "opacity": 1,
         "type": "scattergeo"
        },
        {
         "lat": [
          28.516842,
          33.922779
         ],
         "line": {
          "color": "red",
          "width": 1
         },
         "locationmode": "USA-states",
         "lon": [
          -80.796756,
          -118.336816
         ],
         "mode": "lines",
         "opacity": 1,
         "type": "scattergeo"
        },
        {
         "lat": [
          33.922779,
          51.876183
         ],
         "line": {
          "color": "red",
          "width": 1
         },
         "locationmode": "USA-states",
         "lon": [
          -118.336816,
          -0.359654
         ],
         "mode": "lines",
         "opacity": 1,
         "type": "scattergeo"
        },
        {
         "lat": [
          51.876183,
          37.622269
         ],
         "line": {
          "color": "red",
          "width": 1
         },
         "locationmode": "USA-states",
         "lon": [
          -0.359654,
          -122.377951
         ],
         "mode": "lines",
         "opacity": 1,
         "type": "scattergeo"
        },
        {
         "lat": [
          37.622269,
          33.922767
         ],
         "line": {
          "color": "red",
          "width": 1
         },
         "locationmode": "USA-states",
         "lon": [
          -122.377951,
          -118.336887
         ],
         "mode": "lines",
         "opacity": 1,
         "type": "scattergeo"
        },
        {
         "lat": [
          33.922767,
          37.365212
         ],
         "line": {
          "color": "red",
          "width": 1
         },
         "locationmode": "USA-states",
         "lon": [
          -118.336887,
          -121.932658
         ],
         "mode": "lines",
         "opacity": 1,
         "type": "scattergeo"
        },
        {
         "lat": [
          37.365212,
          33.922767
         ],
         "line": {
          "color": "red",
          "width": 1
         },
         "locationmode": "USA-states",
         "lon": [
          -121.932658,
          -118.338447
         ],
         "mode": "lines",
         "opacity": 1,
         "type": "scattergeo"
        },
        {
         "lat": [
          33.922767,
          31.61878
         ],
         "line": {
          "color": "red",
          "width": 1
         },
         "locationmode": "USA-states",
         "lon": [
          -118.338447,
          -97.225447
         ],
         "mode": "lines",
         "opacity": 1,
         "type": "scattergeo"
        },
        {
         "lat": [
          31.61878,
          33.922779
         ],
         "line": {
          "color": "red",
          "width": 1
         },
         "locationmode": "USA-states",
         "lon": [
          -97.225447,
          -118.336673
         ],
         "mode": "lines",
         "opacity": 1,
         "type": "scattergeo"
        },
        {
         "lat": [
          33.922779,
          37.36584
         ],
         "line": {
          "color": "red",
          "width": 1
         },
         "locationmode": "USA-states",
         "lon": [
          -118.336673,
          -121.93339
         ],
         "mode": "lines",
         "opacity": 1,
         "type": "scattergeo"
        },
        {
         "lat": [
          37.36584,
          33.922767
         ],
         "line": {
          "color": "red",
          "width": 1
         },
         "locationmode": "USA-states",
         "lon": [
          -121.93339,
          -118.336873
         ],
         "mode": "lines",
         "opacity": 1,
         "type": "scattergeo"
        },
        {
         "lat": [
          33.922767,
          37.621563
         ],
         "line": {
          "color": "red",
          "width": 1
         },
         "locationmode": "USA-states",
         "lon": [
          -118.336873,
          -122.376291
         ],
         "mode": "lines",
         "opacity": 1,
         "type": "scattergeo"
        },
        {
         "lat": [
          37.621563,
          34.210774
         ],
         "line": {
          "color": "red",
          "width": 1
         },
         "locationmode": "USA-states",
         "lon": [
          -122.376291,
          -118.490481
         ],
         "mode": "lines",
         "opacity": 1,
         "type": "scattergeo"
        },
        {
         "lat": [
          34.210774,
          37.364365
         ],
         "line": {
          "color": "red",
          "width": 1
         },
         "locationmode": "USA-states",
         "lon": [
          -118.490481,
          -121.931704
         ],
         "mode": "lines",
         "opacity": 1,
         "type": "scattergeo"
        },
        {
         "lat": [
          37.364365,
          33.922737
         ],
         "line": {
          "color": "red",
          "width": 1
         },
         "locationmode": "USA-states",
         "lon": [
          -121.931704,
          -118.337734
         ],
         "mode": "lines",
         "opacity": 1,
         "type": "scattergeo"
        },
        {
         "lat": [
          33.922737,
          37.365945
         ],
         "line": {
          "color": "red",
          "width": 1
         },
         "locationmode": "USA-states",
         "lon": [
          -118.337734,
          -121.93027
         ],
         "mode": "lines",
         "opacity": 1,
         "type": "scattergeo"
        },
        {
         "lat": [
          37.365945,
          33.922794
         ],
         "line": {
          "color": "red",
          "width": 1
         },
         "locationmode": "USA-states",
         "lon": [
          -121.93027,
          -118.336501
         ],
         "mode": "lines",
         "opacity": 1,
         "type": "scattergeo"
        },
        {
         "lat": [
          33.922794,
          37.365805
         ],
         "line": {
          "color": "red",
          "width": 1
         },
         "locationmode": "USA-states",
         "lon": [
          -118.336501,
          -121.93333
         ],
         "mode": "lines",
         "opacity": 1,
         "type": "scattergeo"
        },
        {
         "lat": [
          37.365805,
          33.922546
         ],
         "line": {
          "color": "red",
          "width": 1
         },
         "locationmode": "USA-states",
         "lon": [
          -121.93333,
          -118.341508
         ],
         "mode": "lines",
         "opacity": 1,
         "type": "scattergeo"
        },
        {
         "lat": [
          33.922546,
          37.362442
         ],
         "line": {
          "color": "red",
          "width": 1
         },
         "locationmode": "USA-states",
         "lon": [
          -118.341508,
          -121.929644
         ],
         "mode": "lines",
         "opacity": 1,
         "type": "scattergeo"
        },
        {
         "lat": [
          37.362442,
          33.948406
         ],
         "line": {
          "color": "red",
          "width": 1
         },
         "locationmode": "USA-states",
         "lon": [
          -121.929644,
          -118.419385
         ],
         "mode": "lines",
         "opacity": 1,
         "type": "scattergeo"
        },
        {
         "lat": [
          33.948406,
          37.3652
         ],
         "line": {
          "color": "red",
          "width": 1
         },
         "locationmode": "USA-states",
         "lon": [
          -118.419385,
          -121.932673
         ],
         "mode": "lines",
         "opacity": 1,
         "type": "scattergeo"
        },
        {
         "lat": [
          37.3652,
          33.922418
         ],
         "line": {
          "color": "red",
          "width": 1
         },
         "locationmode": "USA-states",
         "lon": [
          -121.932673,
          -118.34188
         ],
         "mode": "lines",
         "opacity": 1,
         "type": "scattergeo"
        },
        {
         "lat": [
          33.922418,
          30.194026
         ],
         "line": {
          "color": "red",
          "width": 1
         },
         "locationmode": "USA-states",
         "lon": [
          -118.34188,
          -97.673511
         ],
         "mode": "lines",
         "opacity": 1,
         "type": "scattergeo"
        },
        {
         "lat": [
          30.194026,
          33.922668
         ],
         "line": {
          "color": "red",
          "width": 1
         },
         "locationmode": "USA-states",
         "lon": [
          -97.673511,
          -118.338897
         ],
         "mode": "lines",
         "opacity": 1,
         "type": "scattergeo"
        },
        {
         "lat": [
          33.922668,
          31.611576
         ],
         "line": {
          "color": "red",
          "width": 1
         },
         "locationmode": "USA-states",
         "lon": [
          -118.338897,
          -97.227576
         ],
         "mode": "lines",
         "opacity": 1,
         "type": "scattergeo"
        },
        {
         "lat": [
          31.611576,
          37.364937
         ],
         "line": {
          "color": "red",
          "width": 1
         },
         "locationmode": "USA-states",
         "lon": [
          -97.227576,
          -121.932362
         ],
         "mode": "lines",
         "opacity": 1,
         "type": "scattergeo"
        },
        {
         "lat": [
          37.364937,
          33.922783
         ],
         "line": {
          "color": "red",
          "width": 1
         },
         "locationmode": "USA-states",
         "lon": [
          -121.932362,
          -118.336655
         ],
         "mode": "lines",
         "opacity": 1,
         "type": "scattergeo"
        },
        {
         "lat": [
          33.922783,
          37.364113
         ],
         "line": {
          "color": "red",
          "width": 1
         },
         "locationmode": "USA-states",
         "lon": [
          -118.336655,
          -121.9315
         ],
         "mode": "lines",
         "opacity": 1,
         "type": "scattergeo"
        },
        {
         "lat": [
          37.364113,
          33.935886
         ],
         "line": {
          "color": "red",
          "width": 1
         },
         "locationmode": "USA-states",
         "lon": [
          -121.9315,
          -118.397122
         ],
         "mode": "lines",
         "opacity": 1,
         "type": "scattergeo"
        },
        {
         "lat": [
          33.935886,
          31.613299
         ],
         "line": {
          "color": "red",
          "width": 1
         },
         "locationmode": "USA-states",
         "lon": [
          -118.397122,
          -97.227068
         ],
         "mode": "lines",
         "opacity": 1,
         "type": "scattergeo"
        },
        {
         "lat": [
          31.613299,
          33.922755
         ],
         "line": {
          "color": "red",
          "width": 1
         },
         "locationmode": "USA-states",
         "lon": [
          -97.227068,
          -118.336945
         ],
         "mode": "lines",
         "opacity": 1,
         "type": "scattergeo"
        },
        {
         "lat": [
          33.922755,
          29.604384
         ],
         "line": {
          "color": "red",
          "width": 1
         },
         "locationmode": "USA-states",
         "lon": [
          -118.336945,
          -95.164086
         ],
         "mode": "lines",
         "opacity": 1,
         "type": "scattergeo"
        },
        {
         "lat": [
          29.604384,
          31.616627
         ],
         "line": {
          "color": "red",
          "width": 1
         },
         "locationmode": "USA-states",
         "lon": [
          -95.164086,
          -97.226093
         ],
         "mode": "lines",
         "opacity": 1,
         "type": "scattergeo"
        },
        {
         "lat": [
          31.616627,
          37.363536
         ],
         "line": {
          "color": "red",
          "width": 1
         },
         "locationmode": "USA-states",
         "lon": [
          -97.226093,
          -121.930837
         ],
         "mode": "lines",
         "opacity": 1,
         "type": "scattergeo"
        },
        {
         "lat": [
          37.363536,
          33.922668
         ],
         "line": {
          "color": "red",
          "width": 1
         },
         "locationmode": "USA-states",
         "lon": [
          -121.930837,
          -118.339135
         ],
         "mode": "lines",
         "opacity": 1,
         "type": "scattergeo"
        },
        {
         "lat": [
          33.922668,
          37.364362
         ],
         "line": {
          "color": "red",
          "width": 1
         },
         "locationmode": "USA-states",
         "lon": [
          -118.339135,
          -121.931733
         ],
         "mode": "lines",
         "opacity": 1,
         "type": "scattergeo"
        },
        {
         "lat": [
          37.364362,
          33.922814
         ],
         "line": {
          "color": "red",
          "width": 1
         },
         "locationmode": "USA-states",
         "lon": [
          -121.931733,
          -118.336101
         ],
         "mode": "lines",
         "opacity": 1,
         "type": "scattergeo"
        },
        {
         "lat": [
          33.922814,
          37.365955
         ],
         "line": {
          "color": "red",
          "width": 1
         },
         "locationmode": "USA-states",
         "lon": [
          -118.336101,
          -121.933501
         ],
         "mode": "lines",
         "opacity": 1,
         "type": "scattergeo"
        },
        {
         "lat": [
          37.365955,
          33.922783
         ],
         "line": {
          "color": "red",
          "width": 1
         },
         "locationmode": "USA-states",
         "lon": [
          -121.933501,
          -118.336431
         ],
         "mode": "lines",
         "opacity": 1,
         "type": "scattergeo"
        },
        {
         "lat": [
          33.922783,
          37.365084
         ],
         "line": {
          "color": "red",
          "width": 1
         },
         "locationmode": "USA-states",
         "lon": [
          -118.336431,
          -121.932509
         ],
         "mode": "lines",
         "opacity": 1,
         "type": "scattergeo"
        },
        {
         "lat": [
          37.365084,
          33.948394
         ],
         "line": {
          "color": "red",
          "width": 1
         },
         "locationmode": "USA-states",
         "lon": [
          -121.932509,
          -118.419414
         ],
         "mode": "lines",
         "opacity": 1,
         "type": "scattergeo"
        },
        {
         "lat": [
          33.948394,
          37.364723
         ],
         "line": {
          "color": "red",
          "width": 1
         },
         "locationmode": "USA-states",
         "lon": [
          -118.419414,
          -121.932121
         ],
         "mode": "lines",
         "opacity": 1,
         "type": "scattergeo"
        },
        {
         "lat": [
          37.364723,
          33.922771
         ],
         "line": {
          "color": "red",
          "width": 1
         },
         "locationmode": "USA-states",
         "lon": [
          -121.932121,
          -118.336837
         ],
         "mode": "lines",
         "opacity": 1,
         "type": "scattergeo"
        },
        {
         "lat": [
          33.922771,
          30.188702
         ],
         "line": {
          "color": "red",
          "width": 1
         },
         "locationmode": "USA-states",
         "lon": [
          -118.336837,
          -97.658777
         ],
         "mode": "lines",
         "opacity": 1,
         "type": "scattergeo"
        },
        {
         "lat": [
          30.188702,
          37.367609
         ],
         "line": {
          "color": "red",
          "width": 1
         },
         "locationmode": "USA-states",
         "lon": [
          -97.658777,
          -121.93533
         ],
         "mode": "lines",
         "opacity": 1,
         "type": "scattergeo"
        },
        {
         "lat": [
          37.367609,
          33.948704
         ],
         "line": {
          "color": "red",
          "width": 1
         },
         "locationmode": "USA-states",
         "lon": [
          -121.93533,
          -118.416376
         ],
         "mode": "lines",
         "opacity": 1,
         "type": "scattergeo"
        },
        {
         "lat": [
          33.948704,
          53.480386
         ],
         "line": {
          "color": "red",
          "width": 1
         },
         "locationmode": "USA-states",
         "lon": [
          -118.416376,
          -1.001392
         ],
         "mode": "lines",
         "opacity": 1,
         "type": "scattergeo"
        },
        {
         "lat": [
          53.480386,
          48.692219
         ],
         "line": {
          "color": "red",
          "width": 1
         },
         "locationmode": "USA-states",
         "lon": [
          -1.001392,
          9.230347
         ],
         "mode": "lines",
         "opacity": 1,
         "type": "scattergeo"
        },
        {
         "lat": [
          48.692219,
          52.372513
         ],
         "line": {
          "color": "red",
          "width": 1
         },
         "locationmode": "USA-states",
         "lon": [
          9.230347,
          13.505402
         ],
         "mode": "lines",
         "opacity": 1,
         "type": "scattergeo"
        },
        {
         "lat": [
          52.372513,
          52.319036
         ],
         "line": {
          "color": "red",
          "width": 1
         },
         "locationmode": "USA-states",
         "lon": [
          13.505402,
          10.552917
         ],
         "mode": "lines",
         "opacity": 1,
         "type": "scattergeo"
        },
        {
         "lat": [
          52.319036,
          47.453792
         ],
         "line": {
          "color": "red",
          "width": 1
         },
         "locationmode": "USA-states",
         "lon": [
          10.552917,
          -122.317957
         ],
         "mode": "lines",
         "opacity": 1,
         "type": "scattergeo"
        },
        {
         "lat": [
          47.453792,
          33.948708
         ],
         "line": {
          "color": "red",
          "width": 1
         },
         "locationmode": "USA-states",
         "lon": [
          -122.317957,
          -118.416367
         ],
         "mode": "lines",
         "opacity": 1,
         "type": "scattergeo"
        },
        {
         "lat": [
          33.948708,
          47.528973
         ],
         "line": {
          "color": "red",
          "width": 1
         },
         "locationmode": "USA-states",
         "lon": [
          -118.416367,
          -122.301573
         ],
         "mode": "lines",
         "opacity": 1,
         "type": "scattergeo"
        },
        {
         "lat": [
          47.528973,
          47.776178
         ],
         "line": {
          "color": "red",
          "width": 1
         },
         "locationmode": "USA-states",
         "lon": [
          -122.301573,
          -116.819687
         ],
         "mode": "lines",
         "opacity": 1,
         "type": "scattergeo"
        },
        {
         "lat": [
          47.776178,
          33.922726
         ],
         "line": {
          "color": "red",
          "width": 1
         },
         "locationmode": "USA-states",
         "lon": [
          -116.819687,
          -118.337804
         ],
         "mode": "lines",
         "opacity": 1,
         "type": "scattergeo"
        },
        {
         "lat": [
          33.922726,
          30.398472
         ],
         "line": {
          "color": "red",
          "width": 1
         },
         "locationmode": "USA-states",
         "lon": [
          -118.337804,
          -97.566765
         ],
         "mode": "lines",
         "opacity": 1,
         "type": "scattergeo"
        },
        {
         "lat": [
          30.398472,
          37.364176
         ],
         "line": {
          "color": "red",
          "width": 1
         },
         "locationmode": "USA-states",
         "lon": [
          -97.566765,
          -121.931539
         ],
         "mode": "lines",
         "opacity": 1,
         "type": "scattergeo"
        },
        {
         "lat": [
          37.364176,
          33.922779
         ],
         "line": {
          "color": "red",
          "width": 1
         },
         "locationmode": "USA-states",
         "lon": [
          -121.931539,
          -118.336544
         ],
         "mode": "lines",
         "opacity": 1,
         "type": "scattergeo"
        },
        {
         "lat": [
          33.922779,
          30.399662
         ],
         "line": {
          "color": "red",
          "width": 1
         },
         "locationmode": "USA-states",
         "lon": [
          -118.336544,
          -97.568314
         ],
         "mode": "lines",
         "opacity": 1,
         "type": "scattergeo"
        },
        {
         "lat": [
          30.399662,
          37.367512
         ],
         "line": {
          "color": "red",
          "width": 1
         },
         "locationmode": "USA-states",
         "lon": [
          -97.568314,
          -121.935196
         ],
         "mode": "lines",
         "opacity": 1,
         "type": "scattergeo"
        },
        {
         "lat": [
          37.367512,
          34.204788
         ],
         "line": {
          "color": "red",
          "width": 1
         },
         "locationmode": "USA-states",
         "lon": [
          -121.935196,
          -118.489903
         ],
         "mode": "lines",
         "opacity": 1,
         "type": "scattergeo"
        },
        {
         "lat": [
          34.204788,
          33.92279
         ],
         "line": {
          "color": "red",
          "width": 1
         },
         "locationmode": "USA-states",
         "lon": [
          -118.489903,
          -118.336501
         ],
         "mode": "lines",
         "opacity": 1,
         "type": "scattergeo"
        },
        {
         "lat": [
          33.92279,
          30.191082
         ],
         "line": {
          "color": "red",
          "width": 1
         },
         "locationmode": "USA-states",
         "lon": [
          -118.336501,
          -97.659679
         ],
         "mode": "lines",
         "opacity": 1,
         "type": "scattergeo"
        },
        {
         "lat": [
          30.191082,
          31.612656
         ],
         "line": {
          "color": "red",
          "width": 1
         },
         "locationmode": "USA-states",
         "lon": [
          -97.659679,
          -97.227281
         ],
         "mode": "lines",
         "opacity": 1,
         "type": "scattergeo"
        },
        {
         "lat": [
          31.612656,
          33.922779
         ],
         "line": {
          "color": "red",
          "width": 1
         },
         "locationmode": "USA-states",
         "lon": [
          -97.227281,
          -118.336716
         ],
         "mode": "lines",
         "opacity": 1,
         "type": "scattergeo"
        },
        {
         "lat": [
          33.922779,
          28.516888
         ],
         "line": {
          "color": "red",
          "width": 1
         },
         "locationmode": "USA-states",
         "lon": [
          -118.336716,
          -80.796783
         ],
         "mode": "lines",
         "opacity": 1,
         "type": "scattergeo"
        },
        {
         "lat": [
          28.516888,
          37.366802
         ],
         "line": {
          "color": "red",
          "width": 1
         },
         "locationmode": "USA-states",
         "lon": [
          -80.796783,
          -121.934436
         ],
         "mode": "lines",
         "opacity": 1,
         "type": "scattergeo"
        },
        {
         "lat": [
          37.366802,
          33.935921
         ],
         "line": {
          "color": "red",
          "width": 1
         },
         "locationmode": "USA-states",
         "lon": [
          -121.934436,
          -118.396715
         ],
         "mode": "lines",
         "opacity": 1,
         "type": "scattergeo"
        },
        {
         "lat": [
          33.935921,
          28.511977
         ],
         "line": {
          "color": "red",
          "width": 1
         },
         "locationmode": "USA-states",
         "lon": [
          -118.396715,
          -80.796688
         ],
         "mode": "lines",
         "opacity": 1,
         "type": "scattergeo"
        },
        {
         "lat": [
          28.511977,
          25.900875
         ],
         "line": {
          "color": "red",
          "width": 1
         },
         "locationmode": "USA-states",
         "lon": [
          -80.796688,
          -97.418285
         ],
         "mode": "lines",
         "opacity": 1,
         "type": "scattergeo"
        },
        {
         "lat": [
          25.900875,
          33.922623
         ],
         "line": {
          "color": "red",
          "width": 1
         },
         "locationmode": "USA-states",
         "lon": [
          -97.418285,
          -118.339682
         ],
         "mode": "lines",
         "opacity": 1,
         "type": "scattergeo"
        },
        {
         "lat": [
          33.922623,
          25.904097
         ],
         "line": {
          "color": "red",
          "width": 1
         },
         "locationmode": "USA-states",
         "lon": [
          -118.339682,
          -97.421806
         ],
         "mode": "lines",
         "opacity": 1,
         "type": "scattergeo"
        },
        {
         "lat": [
          25.904097,
          37.366081
         ],
         "line": {
          "color": "red",
          "width": 1
         },
         "locationmode": "USA-states",
         "lon": [
          -97.421806,
          -121.933633
         ],
         "mode": "lines",
         "opacity": 1,
         "type": "scattergeo"
        },
        {
         "lat": [
          37.366081,
          33.948418
         ],
         "line": {
          "color": "red",
          "width": 1
         },
         "locationmode": "USA-states",
         "lon": [
          -121.933633,
          -118.419235
         ],
         "mode": "lines",
         "opacity": 1,
         "type": "scattergeo"
        },
        {
         "lat": [
          33.948418,
          30.188719
         ],
         "line": {
          "color": "red",
          "width": 1
         },
         "locationmode": "USA-states",
         "lon": [
          -118.419235,
          -97.659627
         ],
         "mode": "lines",
         "opacity": 1,
         "type": "scattergeo"
        },
        {
         "lat": [
          30.188719,
          37.365712
         ],
         "line": {
          "color": "red",
          "width": 1
         },
         "locationmode": "USA-states",
         "lon": [
          -97.659627,
          -121.933226
         ],
         "mode": "lines",
         "opacity": 1,
         "type": "scattergeo"
        },
        {
         "lat": [
          37.365712,
          33.922686
         ],
         "line": {
          "color": "red",
          "width": 1
         },
         "locationmode": "USA-states",
         "lon": [
          -121.933226,
          -118.338618
         ],
         "mode": "lines",
         "opacity": 1,
         "type": "scattergeo"
        },
        {
         "lat": [
          33.922686,
          30.39661
         ],
         "line": {
          "color": "red",
          "width": 1
         },
         "locationmode": "USA-states",
         "lon": [
          -118.338618,
          -97.564293
         ],
         "mode": "lines",
         "opacity": 1,
         "type": "scattergeo"
        },
        {
         "lat": [
          30.39661,
          33.935871
         ],
         "line": {
          "color": "red",
          "width": 1
         },
         "locationmode": "USA-states",
         "lon": [
          -97.564293,
          -118.397341
         ],
         "mode": "lines",
         "opacity": 1,
         "type": "scattergeo"
        },
        {
         "lat": [
          33.935871,
          37.367155
         ],
         "line": {
          "color": "red",
          "width": 1
         },
         "locationmode": "USA-states",
         "lon": [
          -118.397341,
          -121.934823
         ],
         "mode": "lines",
         "opacity": 1,
         "type": "scattergeo"
        },
        {
         "lat": [
          37.367155,
          33.935813
         ],
         "line": {
          "color": "red",
          "width": 1
         },
         "locationmode": "USA-states",
         "lon": [
          -121.934823,
          -118.397899
         ],
         "mode": "lines",
         "opacity": 1,
         "type": "scattergeo"
        },
        {
         "lat": [
          33.935813,
          30.198521
         ],
         "line": {
          "color": "red",
          "width": 1
         },
         "locationmode": "USA-states",
         "lon": [
          -118.397899,
          -97.659032
         ],
         "mode": "lines",
         "opacity": 1,
         "type": "scattergeo"
        },
        {
         "lat": [
          30.198521,
          52.373258
         ],
         "line": {
          "color": "red",
          "width": 1
         },
         "locationmode": "USA-states",
         "lon": [
          -97.659032,
          13.508377
         ],
         "mode": "lines",
         "opacity": 1,
         "type": "scattergeo"
        },
        {
         "lat": [
          52.373258,
          30.194049
         ],
         "line": {
          "color": "red",
          "width": 1
         },
         "locationmode": "USA-states",
         "lon": [
          13.508377,
          -97.673483
         ],
         "mode": "lines",
         "opacity": 1,
         "type": "scattergeo"
        },
        {
         "lat": [
          30.194049,
          33.922714
         ],
         "line": {
          "color": "red",
          "width": 1
         },
         "locationmode": "USA-states",
         "lon": [
          -97.673483,
          -118.338154
         ],
         "mode": "lines",
         "opacity": 1,
         "type": "scattergeo"
        },
        {
         "lat": [
          33.922714,
          37.366364
         ],
         "line": {
          "color": "red",
          "width": 1
         },
         "locationmode": "USA-states",
         "lon": [
          -118.338154,
          -121.933927
         ],
         "mode": "lines",
         "opacity": 1,
         "type": "scattergeo"
        },
        {
         "lat": [
          37.366364,
          33.922703
         ],
         "line": {
          "color": "red",
          "width": 1
         },
         "locationmode": "USA-states",
         "lon": [
          -121.933927,
          -118.338168
         ],
         "mode": "lines",
         "opacity": 1,
         "type": "scattergeo"
        },
        {
         "lat": [
          33.922703,
          39.906601
         ],
         "line": {
          "color": "red",
          "width": 1
         },
         "locationmode": "USA-states",
         "lon": [
          -118.338168,
          -105.111873
         ],
         "mode": "lines",
         "opacity": 1,
         "type": "scattergeo"
        },
        {
         "lat": [
          39.906601,
          30.194252
         ],
         "line": {
          "color": "red",
          "width": 1
         },
         "locationmode": "USA-states",
         "lon": [
          -105.111873,
          -97.658952
         ],
         "mode": "lines",
         "opacity": 1,
         "type": "scattergeo"
        },
        {
         "lat": [
          30.194252,
          25.904068
         ],
         "line": {
          "color": "red",
          "width": 1
         },
         "locationmode": "USA-states",
         "lon": [
          -97.658952,
          -97.421731
         ],
         "mode": "lines",
         "opacity": 1,
         "type": "scattergeo"
        },
        {
         "lat": [
          25.904068,
          33.922755
         ],
         "line": {
          "color": "red",
          "width": 1
         },
         "locationmode": "USA-states",
         "lon": [
          -97.421731,
          -118.337045
         ],
         "mode": "lines",
         "opacity": 1,
         "type": "scattergeo"
        },
        {
         "lat": [
          33.922755,
          25.903736
         ],
         "line": {
          "color": "red",
          "width": 1
         },
         "locationmode": "USA-states",
         "lon": [
          -118.337045,
          -97.421394
         ],
         "mode": "lines",
         "opacity": 1,
         "type": "scattergeo"
        },
        {
         "lat": [
          25.903736,
          30.191477
         ],
         "line": {
          "color": "red",
          "width": 1
         },
         "locationmode": "USA-states",
         "lon": [
          -97.421394,
          -97.659695
         ],
         "mode": "lines",
         "opacity": 1,
         "type": "scattergeo"
        },
        {
         "lat": [
          30.191477,
          33.922686
         ],
         "line": {
          "color": "red",
          "width": 1
         },
         "locationmode": "USA-states",
         "lon": [
          -97.659695,
          -118.338718
         ],
         "mode": "lines",
         "opacity": 1,
         "type": "scattergeo"
        },
        {
         "lat": [
          33.922686,
          30.194103
         ],
         "line": {
          "color": "red",
          "width": 1
         },
         "locationmode": "USA-states",
         "lon": [
          -118.338718,
          -97.658911
         ],
         "mode": "lines",
         "opacity": 1,
         "type": "scattergeo"
        },
        {
         "lat": [
          30.194103,
          52.373071
         ],
         "line": {
          "color": "red",
          "width": 1
         },
         "locationmode": "USA-states",
         "lon": [
          -97.658911,
          13.50769
         ],
         "mode": "lines",
         "opacity": 1,
         "type": "scattergeo"
        },
        {
         "lat": [
          52.373071,
          37.619643
         ],
         "line": {
          "color": "red",
          "width": 1
         },
         "locationmode": "USA-states",
         "lon": [
          13.50769,
          -122.377261
         ],
         "mode": "lines",
         "opacity": 1,
         "type": "scattergeo"
        },
        {
         "lat": [
          37.619643,
          37.364746
         ],
         "line": {
          "color": "red",
          "width": 1
         },
         "locationmode": "USA-states",
         "lon": [
          -122.377261,
          -121.932151
         ],
         "mode": "lines",
         "opacity": 1,
         "type": "scattergeo"
        },
        {
         "lat": [
          37.364746,
          33.922686
         ],
         "line": {
          "color": "red",
          "width": 1
         },
         "locationmode": "USA-states",
         "lon": [
          -121.932151,
          -118.338704
         ],
         "mode": "lines",
         "opacity": 1,
         "type": "scattergeo"
        },
        {
         "lat": [
          33.922686,
          25.906798
         ],
         "line": {
          "color": "red",
          "width": 1
         },
         "locationmode": "USA-states",
         "lon": [
          -118.338704,
          -97.424737
         ],
         "mode": "lines",
         "opacity": 1,
         "type": "scattergeo"
        },
        {
         "lat": [
          25.906798,
          30.191391
         ],
         "line": {
          "color": "red",
          "width": 1
         },
         "locationmode": "USA-states",
         "lon": [
          -97.424737,
          -97.657578
         ],
         "mode": "lines",
         "opacity": 1,
         "type": "scattergeo"
        },
        {
         "lat": [
          30.191391,
          25.904217
         ],
         "line": {
          "color": "red",
          "width": 1
         },
         "locationmode": "USA-states",
         "lon": [
          -97.657578,
          -97.421938
         ],
         "mode": "lines",
         "opacity": 1,
         "type": "scattergeo"
        },
        {
         "lat": [
          25.904217,
          33.922737
         ],
         "line": {
          "color": "red",
          "width": 1
         },
         "locationmode": "USA-states",
         "lon": [
          -97.421938,
          -118.337678
         ],
         "mode": "lines",
         "opacity": 1,
         "type": "scattergeo"
        },
        {
         "lat": [
          33.922737,
          30.190569
         ],
         "line": {
          "color": "red",
          "width": 1
         },
         "locationmode": "USA-states",
         "lon": [
          -118.337678,
          -97.657553
         ],
         "mode": "lines",
         "opacity": 1,
         "type": "scattergeo"
        },
        {
         "lat": [
          30.190569,
          33.922806
         ],
         "line": {
          "color": "red",
          "width": 1
         },
         "locationmode": "USA-states",
         "lon": [
          -97.657553,
          -118.336193
         ],
         "mode": "lines",
         "opacity": 1,
         "type": "scattergeo"
        },
        {
         "lat": [
          33.922806,
          30.193176
         ],
         "line": {
          "color": "red",
          "width": 1
         },
         "locationmode": "USA-states",
         "lon": [
          -118.336193,
          -97.657619
         ],
         "mode": "lines",
         "opacity": 1,
         "type": "scattergeo"
        },
        {
         "lat": [
          30.193176,
          25.903645
         ],
         "line": {
          "color": "red",
          "width": 1
         },
         "locationmode": "USA-states",
         "lon": [
          -97.657619,
          -97.421304
         ],
         "mode": "lines",
         "opacity": 1,
         "type": "scattergeo"
        },
        {
         "lat": [
          25.903645,
          30.191535
         ],
         "line": {
          "color": "red",
          "width": 1
         },
         "locationmode": "USA-states",
         "lon": [
          -97.421304,
          -97.657594
         ],
         "mode": "lines",
         "opacity": 1,
         "type": "scattergeo"
        },
        {
         "lat": [
          30.191535,
          33.922726
         ],
         "line": {
          "color": "red",
          "width": 1
         },
         "locationmode": "USA-states",
         "lon": [
          -97.657594,
          -118.337762
         ],
         "mode": "lines",
         "opacity": 1,
         "type": "scattergeo"
        },
        {
         "lat": [
          33.922726,
          30.191483
         ],
         "line": {
          "color": "red",
          "width": 1
         },
         "locationmode": "USA-states",
         "lon": [
          -118.337762,
          -97.657578
         ],
         "mode": "lines",
         "opacity": 1,
         "type": "scattergeo"
        },
        {
         "lat": [
          30.191483,
          39.907871
         ],
         "line": {
          "color": "red",
          "width": 1
         },
         "locationmode": "USA-states",
         "lon": [
          -97.657578,
          -105.114277
         ],
         "mode": "lines",
         "opacity": 1,
         "type": "scattergeo"
        },
        {
         "lat": [
          39.907871,
          20.897713
         ],
         "line": {
          "color": "red",
          "width": 1
         },
         "locationmode": "USA-states",
         "lon": [
          -105.114277,
          -156.431334
         ],
         "mode": "lines",
         "opacity": 1,
         "type": "scattergeo"
        },
        {
         "lat": [
          20.897713,
          37.364914
         ],
         "line": {
          "color": "red",
          "width": 1
         },
         "locationmode": "USA-states",
         "lon": [
          -156.431334,
          -121.932289
         ],
         "mode": "lines",
         "opacity": 1,
         "type": "scattergeo"
        },
        {
         "lat": [
          37.364914,
          33.922744
         ],
         "line": {
          "color": "red",
          "width": 1
         },
         "locationmode": "USA-states",
         "lon": [
          -121.932289,
          -118.337646
         ],
         "mode": "lines",
         "opacity": 1,
         "type": "scattergeo"
        },
        {
         "lat": [
          33.922744,
          30.190613
         ],
         "line": {
          "color": "red",
          "width": 1
         },
         "locationmode": "USA-states",
         "lon": [
          -118.337646,
          -97.657578
         ],
         "mode": "lines",
         "opacity": 1,
         "type": "scattergeo"
        },
        {
         "lat": [
          30.190613,
          37.364685
         ],
         "line": {
          "color": "red",
          "width": 1
         },
         "locationmode": "USA-states",
         "lon": [
          -97.657578,
          -121.932084
         ],
         "mode": "lines",
         "opacity": 1,
         "type": "scattergeo"
        },
        {
         "lat": [
          37.364685,
          33.948301
         ],
         "line": {
          "color": "red",
          "width": 1
         },
         "locationmode": "USA-states",
         "lon": [
          -121.932084,
          -118.420358
         ],
         "mode": "lines",
         "opacity": 1,
         "type": "scattergeo"
        },
        {
         "lat": [
          33.948301,
          30.192106
         ],
         "line": {
          "color": "red",
          "width": 1
         },
         "locationmode": "USA-states",
         "lon": [
          -118.420358,
          -97.657581
         ],
         "mode": "lines",
         "opacity": 1,
         "type": "scattergeo"
        },
        {
         "lat": [
          30.192106,
          37.365681
         ],
         "line": {
          "color": "red",
          "width": 1
         },
         "locationmode": "USA-states",
         "lon": [
          -97.657581,
          -121.933165
         ],
         "mode": "lines",
         "opacity": 1,
         "type": "scattergeo"
        },
        {
         "lat": [
          37.365681,
          33.92272
         ],
         "line": {
          "color": "red",
          "width": 1
         },
         "locationmode": "USA-states",
         "lon": [
          -121.933165,
          -118.337932
         ],
         "mode": "lines",
         "opacity": 1,
         "type": "scattergeo"
        },
        {
         "lat": [
          33.92272,
          34.585625
         ],
         "line": {
          "color": "red",
          "width": 1
         },
         "locationmode": "USA-states",
         "lon": [
          -118.337932,
          -117.384095
         ],
         "mode": "lines",
         "opacity": 1,
         "type": "scattergeo"
        },
        {
         "lat": [
          34.585625,
          36.085549
         ],
         "line": {
          "color": "red",
          "width": 1
         },
         "locationmode": "USA-states",
         "lon": [
          -117.384095,
          -115.164535
         ],
         "mode": "lines",
         "opacity": 1,
         "type": "scattergeo"
        },
        {
         "lat": [
          36.085549,
          33.93579
         ],
         "line": {
          "color": "red",
          "width": 1
         },
         "locationmode": "USA-states",
         "lon": [
          -115.164535,
          -118.398199
         ],
         "mode": "lines",
         "opacity": 1,
         "type": "scattergeo"
        },
        {
         "lat": [
          33.93579,
          25.905521
         ],
         "line": {
          "color": "red",
          "width": 1
         },
         "locationmode": "USA-states",
         "lon": [
          -118.398199,
          -97.423325
         ],
         "mode": "lines",
         "opacity": 1,
         "type": "scattergeo"
        },
        {
         "lat": [
          25.905521,
          30.191448
         ],
         "line": {
          "color": "red",
          "width": 1
         },
         "locationmode": "USA-states",
         "lon": [
          -97.423325,
          -97.657578
         ],
         "mode": "lines",
         "opacity": 1,
         "type": "scattergeo"
        },
        {
         "lat": [
          30.191448,
          33.922732
         ],
         "line": {
          "color": "red",
          "width": 1
         },
         "locationmode": "USA-states",
         "lon": [
          -97.657578,
          -118.337703
         ],
         "mode": "lines",
         "opacity": 1,
         "type": "scattergeo"
        },
        {
         "lat": [
          33.922732,
          39.500816
         ],
         "line": {
          "color": "red",
          "width": 1
         },
         "locationmode": "USA-states",
         "lon": [
          -118.337703,
          -119.766814
         ],
         "mode": "lines",
         "opacity": 1,
         "type": "scattergeo"
        },
        {
         "lat": [
          39.500816,
          25.903667
         ],
         "line": {
          "color": "red",
          "width": 1
         },
         "locationmode": "USA-states",
         "lon": [
          -119.766814,
          -97.421317
         ],
         "mode": "lines",
         "opacity": 1,
         "type": "scattergeo"
        },
        {
         "lat": [
          25.903667,
          30.189906
         ],
         "line": {
          "color": "red",
          "width": 1
         },
         "locationmode": "USA-states",
         "lon": [
          -97.421317,
          -97.657512
         ],
         "mode": "lines",
         "opacity": 1,
         "type": "scattergeo"
        },
        {
         "lat": [
          30.189906,
          37.365589
         ],
         "line": {
          "color": "red",
          "width": 1
         },
         "locationmode": "USA-states",
         "lon": [
          -97.657512,
          -121.933063
         ],
         "mode": "lines",
         "opacity": 1,
         "type": "scattergeo"
        },
        {
         "lat": [
          37.365589,
          33.922668
         ],
         "line": {
          "color": "red",
          "width": 1
         },
         "locationmode": "USA-states",
         "lon": [
          -121.933063,
          -118.338855
         ],
         "mode": "lines",
         "opacity": 1,
         "type": "scattergeo"
        },
        {
         "lat": [
          33.922668,
          37.366131
         ],
         "line": {
          "color": "red",
          "width": 1
         },
         "locationmode": "USA-states",
         "lon": [
          -118.338855,
          -121.933688
         ],
         "mode": "lines",
         "opacity": 1,
         "type": "scattergeo"
        },
        {
         "lat": [
          37.366131,
          30.190988
         ],
         "line": {
          "color": "red",
          "width": 1
         },
         "locationmode": "USA-states",
         "lon": [
          -121.933688,
          -97.657581
         ],
         "mode": "lines",
         "opacity": 1,
         "type": "scattergeo"
        },
        {
         "lat": [
          30.190988,
          25.907961
         ],
         "line": {
          "color": "red",
          "width": 1
         },
         "locationmode": "USA-states",
         "lon": [
          -97.657581,
          -97.429161
         ],
         "mode": "lines",
         "opacity": 1,
         "type": "scattergeo"
        },
        {
         "lat": [
          25.907961,
          33.92268
         ],
         "line": {
          "color": "red",
          "width": 1
         },
         "locationmode": "USA-states",
         "lon": [
          -97.429161,
          -118.338673
         ],
         "mode": "lines",
         "opacity": 1,
         "type": "scattergeo"
        },
        {
         "lat": [
          33.92268,
          37.364781
         ],
         "line": {
          "color": "red",
          "width": 1
         },
         "locationmode": "USA-states",
         "lon": [
          -118.338673,
          -121.932211
         ],
         "mode": "lines",
         "opacity": 1,
         "type": "scattergeo"
        },
        {
         "lat": [
          37.364781,
          33.937592
         ],
         "line": {
          "color": "red",
          "width": 1
         },
         "locationmode": "USA-states",
         "lon": [
          -121.932211,
          -118.402125
         ],
         "mode": "lines",
         "opacity": 1,
         "type": "scattergeo"
        },
        {
         "lat": [
          33.937592,
          37.366608
         ],
         "line": {
          "color": "red",
          "width": 1
         },
         "locationmode": "USA-states",
         "lon": [
          -118.402125,
          -121.934226
         ],
         "mode": "lines",
         "opacity": 1,
         "type": "scattergeo"
        },
        {
         "lat": [
          37.366608,
          33.816845
         ],
         "line": {
          "color": "red",
          "width": 1
         },
         "locationmode": "USA-states",
         "lon": [
          -121.934226,
          -118.150238
         ],
         "mode": "lines",
         "opacity": 1,
         "type": "scattergeo"
        },
        {
         "lat": [
          33.816845,
          33.922604
         ],
         "line": {
          "color": "red",
          "width": 1
         },
         "locationmode": "USA-states",
         "lon": [
          -118.150238,
          -118.339949
         ],
         "mode": "lines",
         "opacity": 1,
         "type": "scattergeo"
        },
        {
         "lat": [
          33.922604,
          30.19154
         ],
         "line": {
          "color": "red",
          "width": 1
         },
         "locationmode": "USA-states",
         "lon": [
          -118.339949,
          -97.657592
         ],
         "mode": "lines",
         "opacity": 1,
         "type": "scattergeo"
        },
        {
         "lat": [
          30.19154,
          33.948394
         ],
         "line": {
          "color": "red",
          "width": 1
         },
         "locationmode": "USA-states",
         "lon": [
          -97.657592,
          -118.419342
         ],
         "mode": "lines",
         "opacity": 1,
         "type": "scattergeo"
        },
        {
         "lat": [
          33.948394,
          37.364159
         ],
         "line": {
          "color": "red",
          "width": 1
         },
         "locationmode": "USA-states",
         "lon": [
          -118.419342,
          -121.9315
         ],
         "mode": "lines",
         "opacity": 1,
         "type": "scattergeo"
        },
        {
         "lat": [
          37.364159,
          33.922767
         ],
         "line": {
          "color": "red",
          "width": 1
         },
         "locationmode": "USA-states",
         "lon": [
          -121.9315,
          -118.337045
         ],
         "mode": "lines",
         "opacity": 1,
         "type": "scattergeo"
        },
        {
         "lat": [
          33.922767,
          30.19186
         ],
         "line": {
          "color": "red",
          "width": 1
         },
         "locationmode": "USA-states",
         "lon": [
          -118.337045,
          -97.657592
         ],
         "mode": "lines",
         "opacity": 1,
         "type": "scattergeo"
        },
        {
         "lat": [
          30.19186,
          47.5299
         ],
         "line": {
          "color": "red",
          "width": 1
         },
         "locationmode": "USA-states",
         "lon": [
          -97.657592,
          -122.302362
         ],
         "mode": "lines",
         "opacity": 1,
         "type": "scattergeo"
        },
        {
         "lat": [
          47.5299,
          37.365864
         ],
         "line": {
          "color": "red",
          "width": 1
         },
         "locationmode": "USA-states",
         "lon": [
          -122.302362,
          -121.933405
         ],
         "mode": "lines",
         "opacity": 1,
         "type": "scattergeo"
        },
        {
         "lat": [
          37.365864,
          33.922771
         ],
         "line": {
          "color": "red",
          "width": 1
         },
         "locationmode": "USA-states",
         "lon": [
          -121.933405,
          -118.336865
         ],
         "mode": "lines",
         "opacity": 1,
         "type": "scattergeo"
        },
        {
         "lat": [
          33.922771,
          30.193653
         ],
         "line": {
          "color": "red",
          "width": 1
         },
         "locationmode": "USA-states",
         "lon": [
          -118.336865,
          -97.657635
         ],
         "mode": "lines",
         "opacity": 1,
         "type": "scattergeo"
        },
        {
         "lat": [
          30.193653,
          33.922726
         ],
         "line": {
          "color": "red",
          "width": 1
         },
         "locationmode": "USA-states",
         "lon": [
          -97.657635,
          -118.337762
         ],
         "mode": "lines",
         "opacity": 1,
         "type": "scattergeo"
        },
        {
         "lat": [
          33.922726,
          37.364967
         ],
         "line": {
          "color": "red",
          "width": 1
         },
         "locationmode": "USA-states",
         "lon": [
          -118.337762,
          -121.932419
         ],
         "mode": "lines",
         "opacity": 1,
         "type": "scattergeo"
        },
        {
         "lat": [
          37.364967,
          33.922646
         ],
         "line": {
          "color": "red",
          "width": 1
         },
         "locationmode": "USA-states",
         "lon": [
          -121.932419,
          -118.339486
         ],
         "mode": "lines",
         "opacity": 1,
         "type": "scattergeo"
        },
        {
         "lat": [
          33.922646,
          37.365314
         ],
         "line": {
          "color": "red",
          "width": 1
         },
         "locationmode": "USA-states",
         "lon": [
          -118.339486,
          -121.932815
         ],
         "mode": "lines",
         "opacity": 1,
         "type": "scattergeo"
        },
        {
         "lat": [
          37.365314,
          33.922662
         ],
         "line": {
          "color": "red",
          "width": 1
         },
         "locationmode": "USA-states",
         "lon": [
          -121.932815,
          -118.339005
         ],
         "mode": "lines",
         "opacity": 1,
         "type": "scattergeo"
        },
        {
         "lat": [
          33.922662,
          28.102061
         ],
         "line": {
          "color": "red",
          "width": 1
         },
         "locationmode": "USA-states",
         "lon": [
          -118.339005,
          -80.645465
         ],
         "mode": "lines",
         "opacity": 1,
         "type": "scattergeo"
        },
        {
         "lat": [
          28.102061,
          28.515015
         ],
         "line": {
          "color": "red",
          "width": 1
         },
         "locationmode": "USA-states",
         "lon": [
          -80.645465,
          -80.796742
         ],
         "mode": "lines",
         "opacity": 1,
         "type": "scattergeo"
        },
        {
         "lat": [
          28.515015,
          28.102189
         ],
         "line": {
          "color": "red",
          "width": 1
         },
         "locationmode": "USA-states",
         "lon": [
          -80.796742,
          -80.642664
         ],
         "mode": "lines",
         "opacity": 1,
         "type": "scattergeo"
        },
        {
         "lat": [
          28.102189,
          25.803545
         ],
         "line": {
          "color": "red",
          "width": 1
         },
         "locationmode": "USA-states",
         "lon": [
          -80.642664,
          -80.286479
         ],
         "mode": "lines",
         "opacity": 1,
         "type": "scattergeo"
        },
        {
         "lat": [
          25.803545,
          33.922852
         ],
         "line": {
          "color": "red",
          "width": 1
         },
         "locationmode": "USA-states",
         "lon": [
          -80.286479,
          -118.335029
         ],
         "mode": "lines",
         "opacity": 1,
         "type": "scattergeo"
        },
        {
         "lat": [
          33.922852,
          25.801403
         ],
         "line": {
          "color": "red",
          "width": 1
         },
         "locationmode": "USA-states",
         "lon": [
          -118.335029,
          -80.28442
         ],
         "mode": "lines",
         "opacity": 1,
         "type": "scattergeo"
        },
        {
         "lat": [
          25.801403,
          40.854919
         ],
         "line": {
          "color": "red",
          "width": 1
         },
         "locationmode": "USA-states",
         "lon": [
          -80.28442,
          -74.05826
         ],
         "mode": "lines",
         "opacity": 1,
         "type": "scattergeo"
        },
        {
         "lat": [
          40.854919,
          33.935726
         ],
         "line": {
          "color": "red",
          "width": 1
         },
         "locationmode": "USA-states",
         "lon": [
          -74.05826,
          -118.398761
         ],
         "mode": "lines",
         "opacity": 1,
         "type": "scattergeo"
        },
        {
         "lat": [
          33.935726,
          37.366446
         ],
         "line": {
          "color": "red",
          "width": 1
         },
         "locationmode": "USA-states",
         "lon": [
          -118.398761,
          -121.934002
         ],
         "mode": "lines",
         "opacity": 1,
         "type": "scattergeo"
        },
        {
         "lat": [
          37.366446,
          51.875056
         ],
         "line": {
          "color": "red",
          "width": 1
         },
         "locationmode": "USA-states",
         "lon": [
          -121.934002,
          -0.366058
         ],
         "mode": "lines",
         "opacity": 1,
         "type": "scattergeo"
        },
        {
         "lat": [
          51.875056,
          52.373108
         ],
         "line": {
          "color": "red",
          "width": 1
         },
         "locationmode": "USA-states",
         "lon": [
          -0.366058,
          13.507996
         ],
         "mode": "lines",
         "opacity": 1,
         "type": "scattergeo"
        },
        {
         "lat": [
          52.373108,
          37.617416
         ],
         "line": {
          "color": "red",
          "width": 1
         },
         "locationmode": "USA-states",
         "lon": [
          13.507996,
          -122.371976
         ],
         "mode": "lines",
         "opacity": 1,
         "type": "scattergeo"
        },
        {
         "lat": [
          37.617416,
          33.922732
         ],
         "line": {
          "color": "red",
          "width": 1
         },
         "locationmode": "USA-states",
         "lon": [
          -122.371976,
          -118.337574
         ],
         "mode": "lines",
         "opacity": 1,
         "type": "scattergeo"
        },
        {
         "lat": [
          33.922732,
          37.364967
         ],
         "line": {
          "color": "red",
          "width": 1
         },
         "locationmode": "USA-states",
         "lon": [
          -118.337574,
          -121.93239
         ],
         "mode": "lines",
         "opacity": 1,
         "type": "scattergeo"
        },
        {
         "lat": [
          37.364967,
          33.922744
         ],
         "line": {
          "color": "red",
          "width": 1
         },
         "locationmode": "USA-states",
         "lon": [
          -121.93239,
          -118.337159
         ],
         "mode": "lines",
         "opacity": 1,
         "type": "scattergeo"
        },
        {
         "lat": [
          33.922744,
          37.366027
         ],
         "line": {
          "color": "red",
          "width": 1
         },
         "locationmode": "USA-states",
         "lon": [
          -118.337159,
          -121.933569
         ],
         "mode": "lines",
         "opacity": 1,
         "type": "scattergeo"
        },
        {
         "lat": [
          37.366027,
          33.922714
         ],
         "line": {
          "color": "red",
          "width": 1
         },
         "locationmode": "USA-states",
         "lon": [
          -121.933569,
          -118.338056
         ],
         "mode": "lines",
         "opacity": 1,
         "type": "scattergeo"
        },
        {
         "lat": [
          33.922714,
          30.191431
         ],
         "line": {
          "color": "red",
          "width": 1
         },
         "locationmode": "USA-states",
         "lon": [
          -118.338056,
          -97.657594
         ],
         "mode": "lines",
         "opacity": 1,
         "type": "scattergeo"
        },
        {
         "lat": [
          30.191431,
          37.365177
         ],
         "line": {
          "color": "red",
          "width": 1
         },
         "locationmode": "USA-states",
         "lon": [
          -97.657594,
          -121.932643
         ],
         "mode": "lines",
         "opacity": 1,
         "type": "scattergeo"
        },
        {
         "lat": [
          37.365177,
          33.922794
         ],
         "line": {
          "color": "red",
          "width": 1
         },
         "locationmode": "USA-states",
         "lon": [
          -121.932643,
          -118.336347
         ],
         "mode": "lines",
         "opacity": 1,
         "type": "scattergeo"
        },
        {
         "lat": [
          33.922794,
          37.364781
         ],
         "line": {
          "color": "red",
          "width": 1
         },
         "locationmode": "USA-states",
         "lon": [
          -118.336347,
          -121.932181
         ],
         "mode": "lines",
         "opacity": 1,
         "type": "scattergeo"
        },
        {
         "lat": [
          37.364781,
          33.922714
         ],
         "line": {
          "color": "red",
          "width": 1
         },
         "locationmode": "USA-states",
         "lon": [
          -121.932181,
          -118.337888
         ],
         "mode": "lines",
         "opacity": 1,
         "type": "scattergeo"
        },
        {
         "lat": [
          33.922714,
          37.364351
         ],
         "line": {
          "color": "red",
          "width": 1
         },
         "locationmode": "USA-states",
         "lon": [
          -118.337888,
          -121.931703
         ],
         "mode": "lines",
         "opacity": 1,
         "type": "scattergeo"
        },
        {
         "lat": [
          37.364351,
          33.922817
         ],
         "line": {
          "color": "red",
          "width": 1
         },
         "locationmode": "USA-states",
         "lon": [
          -121.931703,
          -118.33587
         ],
         "mode": "lines",
         "opacity": 1,
         "type": "scattergeo"
        },
        {
         "lat": [
          33.922817,
          30.191185
         ],
         "line": {
          "color": "red",
          "width": 1
         },
         "locationmode": "USA-states",
         "lon": [
          -118.33587,
          -97.657578
         ],
         "mode": "lines",
         "opacity": 1,
         "type": "scattergeo"
        },
        {
         "lat": [
          30.191185,
          33.922806
         ],
         "line": {
          "color": "red",
          "width": 1
         },
         "locationmode": "USA-states",
         "lon": [
          -97.657578,
          -118.336347
         ],
         "mode": "lines",
         "opacity": 1,
         "type": "scattergeo"
        },
        {
         "lat": [
          33.922806,
          37.364719
         ],
         "line": {
          "color": "red",
          "width": 1
         },
         "locationmode": "USA-states",
         "lon": [
          -118.336347,
          -121.932128
         ],
         "mode": "lines",
         "opacity": 1,
         "type": "scattergeo"
        },
        {
         "lat": [
          37.364719,
          30.191
         ],
         "line": {
          "color": "red",
          "width": 1
         },
         "locationmode": "USA-states",
         "lon": [
          -121.932128,
          -97.657581
         ],
         "mode": "lines",
         "opacity": 1,
         "type": "scattergeo"
        },
        {
         "lat": [
          30.191,
          33.935795
         ],
         "line": {
          "color": "red",
          "width": 1
         },
         "locationmode": "USA-states",
         "lon": [
          -97.657581,
          -118.398075
         ],
         "mode": "lines",
         "opacity": 1,
         "type": "scattergeo"
        },
        {
         "lat": [
          33.935795,
          37.364816
         ],
         "line": {
          "color": "red",
          "width": 1
         },
         "locationmode": "USA-states",
         "lon": [
          -118.398075,
          -121.932225
         ],
         "mode": "lines",
         "opacity": 1,
         "type": "scattergeo"
        },
        {
         "lat": [
          37.364816,
          33.922814
         ],
         "line": {
          "color": "red",
          "width": 1
         },
         "locationmode": "USA-states",
         "lon": [
          -121.932225,
          -118.336
         ],
         "mode": "lines",
         "opacity": 1,
         "type": "scattergeo"
        },
        {
         "lat": [
          33.922814,
          37.364914
         ],
         "line": {
          "color": "red",
          "width": 1
         },
         "locationmode": "USA-states",
         "lon": [
          -118.336,
          -121.932332
         ],
         "mode": "lines",
         "opacity": 1,
         "type": "scattergeo"
        },
        {
         "lat": [
          37.364914,
          25.903097
         ],
         "line": {
          "color": "red",
          "width": 1
         },
         "locationmode": "USA-states",
         "lon": [
          -121.932332,
          -97.420697
         ],
         "mode": "lines",
         "opacity": 1,
         "type": "scattergeo"
        },
        {
         "lat": [
          25.903097,
          32.289093
         ],
         "line": {
          "color": "red",
          "width": 1
         },
         "locationmode": "USA-states",
         "lon": [
          -97.420697,
          -106.918066
         ],
         "mode": "lines",
         "opacity": 1,
         "type": "scattergeo"
        },
        {
         "lat": [
          32.289093,
          39.879295
         ],
         "line": {
          "color": "red",
          "width": 1
         },
         "locationmode": "USA-states",
         "lon": [
          -106.918066,
          -75.231927
         ],
         "mode": "lines",
         "opacity": 1,
         "type": "scattergeo"
        },
        {
         "lat": [
          39.879295,
          25.905994
         ],
         "line": {
          "color": "red",
          "width": 1
         },
         "locationmode": "USA-states",
         "lon": [
          -75.231927,
          -97.423853
         ],
         "mode": "lines",
         "opacity": 1,
         "type": "scattergeo"
        },
        {
         "lat": [
          25.905994,
          33.922569
         ],
         "line": {
          "color": "red",
          "width": 1
         },
         "locationmode": "USA-states",
         "lon": [
          -97.423853,
          -118.34105
         ],
         "mode": "lines",
         "opacity": 1,
         "type": "scattergeo"
        },
        {
         "lat": [
          33.922569,
          37.363037
         ],
         "line": {
          "color": "red",
          "width": 1
         },
         "locationmode": "USA-states",
         "lon": [
          -118.34105,
          -121.930287
         ],
         "mode": "lines",
         "opacity": 1,
         "type": "scattergeo"
        },
        {
         "lat": [
          37.363037,
          25.902875
         ],
         "line": {
          "color": "red",
          "width": 1
         },
         "locationmode": "USA-states",
         "lon": [
          -121.930287,
          -97.420472
         ],
         "mode": "lines",
         "opacity": 1,
         "type": "scattergeo"
        },
        {
         "lat": [
          25.902875,
          33.935837
         ],
         "line": {
          "color": "red",
          "width": 1
         },
         "locationmode": "USA-states",
         "lon": [
          -97.420472,
          -118.397713
         ],
         "mode": "lines",
         "opacity": 1,
         "type": "scattergeo"
        },
        {
         "lat": [
          33.935837,
          25.905052
         ],
         "line": {
          "color": "red",
          "width": 1
         },
         "locationmode": "USA-states",
         "lon": [
          -118.397713,
          -97.422823
         ],
         "mode": "lines",
         "opacity": 1,
         "type": "scattergeo"
        },
        {
         "lat": [
          25.905052,
          30.191208
         ],
         "line": {
          "color": "red",
          "width": 1
         },
         "locationmode": "USA-states",
         "lon": [
          -97.422823,
          -97.659679
         ],
         "mode": "lines",
         "opacity": 1,
         "type": "scattergeo"
        },
        {
         "lat": [
          30.191208,
          28.51363
         ],
         "line": {
          "color": "red",
          "width": 1
         },
         "locationmode": "USA-states",
         "lon": [
          -97.659679,
          -80.796732
         ],
         "mode": "lines",
         "opacity": 1,
         "type": "scattergeo"
        },
        {
         "lat": [
          28.51363,
          25.904766
         ],
         "line": {
          "color": "red",
          "width": 1
         },
         "locationmode": "USA-states",
         "lon": [
          -80.796732,
          -97.422521
         ],
         "mode": "lines",
         "opacity": 1,
         "type": "scattergeo"
        },
        {
         "lat": [
          25.904766,
          28.516981
         ],
         "line": {
          "color": "red",
          "width": 1
         },
         "locationmode": "USA-states",
         "lon": [
          -97.422521,
          -80.796769
         ],
         "mode": "lines",
         "opacity": 1,
         "type": "scattergeo"
        },
        {
         "lat": [
          28.516981,
          25.905261
         ],
         "line": {
          "color": "red",
          "width": 1
         },
         "locationmode": "USA-states",
         "lon": [
          -80.796769,
          -97.42306
         ],
         "mode": "lines",
         "opacity": 1,
         "type": "scattergeo"
        },
        {
         "lat": [
          25.905261,
          28.51413
         ],
         "line": {
          "color": "red",
          "width": 1
         },
         "locationmode": "USA-states",
         "lon": [
          -97.42306,
          -80.796729
         ],
         "mode": "lines",
         "opacity": 1,
         "type": "scattergeo"
        },
        {
         "lat": [
          28.51413,
          25.90274
         ],
         "line": {
          "color": "red",
          "width": 1
         },
         "locationmode": "USA-states",
         "lon": [
          -80.796729,
          -97.420306
         ],
         "mode": "lines",
         "opacity": 1,
         "type": "scattergeo"
        },
        {
         "lat": [
          25.90274,
          28.5137
         ],
         "line": {
          "color": "red",
          "width": 1
         },
         "locationmode": "USA-states",
         "lon": [
          -97.420306,
          -80.795355
         ],
         "mode": "lines",
         "opacity": 1,
         "type": "scattergeo"
        },
        {
         "lat": [
          28.5137,
          25.903976
         ],
         "line": {
          "color": "red",
          "width": 1
         },
         "locationmode": "USA-states",
         "lon": [
          -80.795355,
          -97.421679
         ],
         "mode": "lines",
         "opacity": 1,
         "type": "scattergeo"
        },
        {
         "lat": [
          25.903976,
          30.191163
         ],
         "line": {
          "color": "red",
          "width": 1
         },
         "locationmode": "USA-states",
         "lon": [
          -97.421679,
          -97.657581
         ],
         "mode": "lines",
         "opacity": 1,
         "type": "scattergeo"
        },
        {
         "lat": [
          30.191163,
          25.904148
         ],
         "line": {
          "color": "red",
          "width": 1
         },
         "locationmode": "USA-states",
         "lon": [
          -97.657581,
          -97.421861
         ],
         "mode": "lines",
         "opacity": 1,
         "type": "scattergeo"
        },
        {
         "lat": [
          25.904148,
          28.512165
         ],
         "line": {
          "color": "red",
          "width": 1
         },
         "locationmode": "USA-states",
         "lon": [
          -97.421861,
          -80.796679
         ],
         "mode": "lines",
         "opacity": 1,
         "type": "scattergeo"
        },
        {
         "lat": [
          28.512165,
          25.903542
         ],
         "line": {
          "color": "red",
          "width": 1
         },
         "locationmode": "USA-states",
         "lon": [
          -80.796679,
          -97.421187
         ],
         "mode": "lines",
         "opacity": 1,
         "type": "scattergeo"
        },
        {
         "lat": [
          25.903542,
          28.513688
         ],
         "line": {
          "color": "red",
          "width": 1
         },
         "locationmode": "USA-states",
         "lon": [
          -97.421187,
          -80.796715
         ],
         "mode": "lines",
         "opacity": 1,
         "type": "scattergeo"
        },
        {
         "lat": [
          28.513688,
          25.905843
         ],
         "line": {
          "color": "red",
          "width": 1
         },
         "locationmode": "USA-states",
         "lon": [
          -80.796715,
          -97.423694
         ],
         "mode": "lines",
         "opacity": 1,
         "type": "scattergeo"
        },
        {
         "lat": [
          25.905843,
          33.922755
         ],
         "line": {
          "color": "red",
          "width": 1
         },
         "locationmode": "USA-states",
         "lon": [
          -97.423694,
          -118.337188
         ],
         "mode": "lines",
         "opacity": 1,
         "type": "scattergeo"
        },
        {
         "lat": [
          33.922755,
          25.904458
         ],
         "line": {
          "color": "red",
          "width": 1
         },
         "locationmode": "USA-states",
         "lon": [
          -118.337188,
          -97.422189
         ],
         "mode": "lines",
         "opacity": 1,
         "type": "scattergeo"
        },
        {
         "lat": [
          25.904458,
          33.922639
         ],
         "line": {
          "color": "red",
          "width": 1
         },
         "locationmode": "USA-states",
         "lon": [
          -97.422189,
          -118.339434
         ],
         "mode": "lines",
         "opacity": 1,
         "type": "scattergeo"
        },
        {
         "lat": [
          33.922639,
          25.904877
         ],
         "line": {
          "color": "red",
          "width": 1
         },
         "locationmode": "USA-states",
         "lon": [
          -118.339434,
          -97.422638
         ],
         "mode": "lines",
         "opacity": 1,
         "type": "scattergeo"
        },
        {
         "lat": [
          25.904877,
          28.518192
         ],
         "line": {
          "color": "red",
          "width": 1
         },
         "locationmode": "USA-states",
         "lon": [
          -97.422638,
          -80.796796
         ],
         "mode": "lines",
         "opacity": 1,
         "type": "scattergeo"
        },
        {
         "lat": [
          28.518192,
          25.902832
         ],
         "line": {
          "color": "red",
          "width": 1
         },
         "locationmode": "USA-states",
         "lon": [
          -80.796796,
          -97.420423
         ],
         "mode": "lines",
         "opacity": 1,
         "type": "scattergeo"
        },
        {
         "lat": [
          25.902832,
          30.191966
         ],
         "line": {
          "color": "red",
          "width": 1
         },
         "locationmode": "USA-states",
         "lon": [
          -97.420423,
          -97.657608
         ],
         "mode": "lines",
         "opacity": 1,
         "type": "scattergeo"
        },
        {
         "lat": [
          30.191966,
          25.904074
         ],
         "line": {
          "color": "red",
          "width": 1
         },
         "locationmode": "USA-states",
         "lon": [
          -97.657608,
          -97.42178
         ],
         "mode": "lines",
         "opacity": 1,
         "type": "scattergeo"
        },
        {
         "lat": [
          25.904074,
          33.922794
         ],
         "line": {
          "color": "red",
          "width": 1
         },
         "locationmode": "USA-states",
         "lon": [
          -97.42178,
          -118.336501
         ],
         "mode": "lines",
         "opacity": 1,
         "type": "scattergeo"
        },
        {
         "lat": [
          33.922794,
          25.906311
         ],
         "line": {
          "color": "red",
          "width": 1
         },
         "locationmode": "USA-states",
         "lon": [
          -118.336501,
          -97.424206
         ],
         "mode": "lines",
         "opacity": 1,
         "type": "scattergeo"
        },
        {
         "lat": [
          25.906311,
          33.922829
         ],
         "line": {
          "color": "red",
          "width": 1
         },
         "locationmode": "USA-states",
         "lon": [
          -97.424206,
          -118.335674
         ],
         "mode": "lines",
         "opacity": 1,
         "type": "scattergeo"
        },
        {
         "lat": [
          33.922829,
          25.905899
         ],
         "line": {
          "color": "red",
          "width": 1
         },
         "locationmode": "USA-states",
         "lon": [
          -118.335674,
          -97.423765
         ],
         "mode": "lines",
         "opacity": 1,
         "type": "scattergeo"
        },
        {
         "lat": [
          25.905899,
          28.51228
         ],
         "line": {
          "color": "red",
          "width": 1
         },
         "locationmode": "USA-states",
         "lon": [
          -97.423765,
          -80.796917
         ],
         "mode": "lines",
         "opacity": 1,
         "type": "scattergeo"
        },
        {
         "lat": [
          28.51228,
          25.906239
         ],
         "line": {
          "color": "red",
          "width": 1
         },
         "locationmode": "USA-states",
         "lon": [
          -80.796917,
          -97.424117
         ],
         "mode": "lines",
         "opacity": 1,
         "type": "scattergeo"
        },
        {
         "lat": [
          25.906239,
          37.363804
         ],
         "line": {
          "color": "red",
          "width": 1
         },
         "locationmode": "USA-states",
         "lon": [
          -97.424117,
          -121.931121
         ],
         "mode": "lines",
         "opacity": 1,
         "type": "scattergeo"
        },
        {
         "lat": [
          37.363804,
          33.922806
         ],
         "line": {
          "color": "red",
          "width": 1
         },
         "locationmode": "USA-states",
         "lon": [
          -121.931121,
          -118.336038
         ],
         "mode": "lines",
         "opacity": 1,
         "type": "scattergeo"
        },
        {
         "lat": [
          33.922806,
          37.365282
         ],
         "line": {
          "color": "red",
          "width": 1
         },
         "locationmode": "USA-states",
         "lon": [
          -118.336038,
          -121.932733
         ],
         "mode": "lines",
         "opacity": 1,
         "type": "scattergeo"
        },
        {
         "lat": [
          37.365282,
          33.950768
         ],
         "line": {
          "color": "red",
          "width": 1
         },
         "locationmode": "USA-states",
         "lon": [
          -121.932733,
          -118.415151
         ],
         "mode": "lines",
         "opacity": 1,
         "type": "scattergeo"
        },
        {
         "lat": [
          33.950768,
          52.352921
         ],
         "line": {
          "color": "red",
          "width": 1
         },
         "locationmode": "USA-states",
         "lon": [
          -118.415151,
          13.499908
         ],
         "mode": "lines",
         "opacity": 1,
         "type": "scattergeo"
        },
        {
         "lat": [
          52.352921,
          33.922657
         ],
         "line": {
          "color": "red",
          "width": 1
         },
         "locationmode": "USA-states",
         "lon": [
          13.499908,
          -118.338729
         ],
         "mode": "lines",
         "opacity": 1,
         "type": "scattergeo"
        },
        {
         "lat": [
          33.922657,
          25.902958
         ],
         "line": {
          "color": "red",
          "width": 1
         },
         "locationmode": "USA-states",
         "lon": [
          -118.338729,
          -97.431176
         ],
         "mode": "lines",
         "opacity": 1,
         "type": "scattergeo"
        },
        {
         "lat": [
          25.902958,
          37.361847
         ],
         "line": {
          "color": "red",
          "width": 1
         },
         "locationmode": "USA-states",
         "lon": [
          -97.431176,
          -121.928972
         ],
         "mode": "lines",
         "opacity": 1,
         "type": "scattergeo"
        },
        {
         "lat": [
          37.361847,
          33.922806
         ],
         "line": {
          "color": "red",
          "width": 1
         },
         "locationmode": "USA-states",
         "lon": [
          -121.928972,
          -118.336165
         ],
         "mode": "lines",
         "opacity": 1,
         "type": "scattergeo"
        },
        {
         "lat": [
          33.922806,
          25.90383
         ],
         "line": {
          "color": "red",
          "width": 1
         },
         "locationmode": "USA-states",
         "lon": [
          -118.336165,
          -97.421502
         ],
         "mode": "lines",
         "opacity": 1,
         "type": "scattergeo"
        },
        {
         "lat": [
          25.90383,
          30.193748
         ],
         "line": {
          "color": "red",
          "width": 1
         },
         "locationmode": "USA-states",
         "lon": [
          -97.421502,
          -97.657646
         ],
         "mode": "lines",
         "opacity": 1,
         "type": "scattergeo"
        },
        {
         "lat": [
          30.193748,
          33.922668
         ],
         "line": {
          "color": "red",
          "width": 1
         },
         "locationmode": "USA-states",
         "lon": [
          -97.657646,
          -118.338953
         ],
         "mode": "lines",
         "opacity": 1,
         "type": "scattergeo"
        },
        {
         "lat": [
          33.922668,
          37.365049
         ],
         "line": {
          "color": "red",
          "width": 1
         },
         "locationmode": "USA-states",
         "lon": [
          -118.338953,
          -121.932494
         ],
         "mode": "lines",
         "opacity": 1,
         "type": "scattergeo"
        },
        {
         "lat": [
          37.365049,
          33.935806
         ],
         "line": {
          "color": "red",
          "width": 1
         },
         "locationmode": "USA-states",
         "lon": [
          -121.932494,
          -118.398131
         ],
         "mode": "lines",
         "opacity": 1,
         "type": "scattergeo"
        },
        {
         "lat": [
          33.935806,
          30.19242
         ],
         "line": {
          "color": "red",
          "width": 1
         },
         "locationmode": "USA-states",
         "lon": [
          -118.398131,
          -97.657608
         ],
         "mode": "lines",
         "opacity": 1,
         "type": "scattergeo"
        },
        {
         "lat": [
          30.19242,
          33.922703
         ],
         "line": {
          "color": "red",
          "width": 1
         },
         "locationmode": "USA-states",
         "lon": [
          -97.657608,
          -118.338252
         ],
         "mode": "lines",
         "opacity": 1,
         "type": "scattergeo"
        },
        {
         "lat": [
          33.922703,
          30.191288
         ],
         "line": {
          "color": "red",
          "width": 1
         },
         "locationmode": "USA-states",
         "lon": [
          -118.338252,
          -97.657578
         ],
         "mode": "lines",
         "opacity": 1,
         "type": "scattergeo"
        },
        {
         "lat": [
          30.191288,
          25.90383
         ],
         "line": {
          "color": "red",
          "width": 1
         },
         "locationmode": "USA-states",
         "lon": [
          -97.657578,
          -97.421489
         ],
         "mode": "lines",
         "opacity": 1,
         "type": "scattergeo"
        },
        {
         "lat": [
          25.90383,
          40.85024
         ],
         "line": {
          "color": "red",
          "width": 1
         },
         "locationmode": "USA-states",
         "lon": [
          -97.421489,
          -74.061709
         ],
         "mode": "lines",
         "opacity": 1,
         "type": "scattergeo"
        },
        {
         "lat": [
          40.85024,
          25.903388
         ],
         "line": {
          "color": "red",
          "width": 1
         },
         "locationmode": "USA-states",
         "lon": [
          -74.061709,
          -97.421014
         ],
         "mode": "lines",
         "opacity": 1,
         "type": "scattergeo"
        },
        {
         "lat": [
          25.903388,
          40.853604
         ],
         "line": {
          "color": "red",
          "width": 1
         },
         "locationmode": "USA-states",
         "lon": [
          -97.421014,
          -74.060196
         ],
         "mode": "lines",
         "opacity": 1,
         "type": "scattergeo"
        },
        {
         "lat": [
          40.853604,
          25.90291
         ],
         "line": {
          "color": "red",
          "width": 1
         },
         "locationmode": "USA-states",
         "lon": [
          -74.060196,
          -97.429359
         ],
         "mode": "lines",
         "opacity": 1,
         "type": "scattergeo"
        },
        {
         "lat": [
          25.90291,
          28.432326
         ],
         "line": {
          "color": "red",
          "width": 1
         },
         "locationmode": "USA-states",
         "lon": [
          -97.429359,
          -81.326806
         ],
         "mode": "lines",
         "opacity": 1,
         "type": "scattergeo"
        },
        {
         "lat": [
          28.432326,
          25.905017
         ],
         "line": {
          "color": "red",
          "width": 1
         },
         "locationmode": "USA-states",
         "lon": [
          -81.326806,
          -97.422796
         ],
         "mode": "lines",
         "opacity": 1,
         "type": "scattergeo"
        },
        {
         "lat": [
          25.905017,
          30.192292
         ],
         "line": {
          "color": "red",
          "width": 1
         },
         "locationmode": "USA-states",
         "lon": [
          -97.422796,
          -97.657594
         ],
         "mode": "lines",
         "opacity": 1,
         "type": "scattergeo"
        },
        {
         "lat": [
          30.192292,
          33.92276
         ],
         "line": {
          "color": "red",
          "width": 1
         },
         "locationmode": "USA-states",
         "lon": [
          -97.657594,
          -118.337159
         ],
         "mode": "lines",
         "opacity": 1,
         "type": "scattergeo"
        },
        {
         "lat": [
          33.92276,
          37.365372
         ],
         "line": {
          "color": "red",
          "width": 1
         },
         "locationmode": "USA-states",
         "lon": [
          -118.337159,
          -121.932829
         ],
         "mode": "lines",
         "opacity": 1,
         "type": "scattergeo"
        },
        {
         "lat": [
          37.365372,
          30.191597
         ],
         "line": {
          "color": "red",
          "width": 1
         },
         "locationmode": "USA-states",
         "lon": [
          -121.932829,
          -97.657592
         ],
         "mode": "lines",
         "opacity": 1,
         "type": "scattergeo"
        },
        {
         "lat": [
          30.191597,
          25.904915
         ],
         "line": {
          "color": "red",
          "width": 1
         },
         "locationmode": "USA-states",
         "lon": [
          -97.657592,
          -97.422677
         ],
         "mode": "lines",
         "opacity": 1,
         "type": "scattergeo"
        },
        {
         "lat": [
          25.904915,
          30.19202
         ],
         "line": {
          "color": "red",
          "width": 1
         },
         "locationmode": "USA-states",
         "lon": [
          -97.422677,
          -97.657605
         ],
         "mode": "lines",
         "opacity": 1,
         "type": "scattergeo"
        },
        {
         "lat": [
          30.19202,
          25.90646
         ],
         "line": {
          "color": "red",
          "width": 1
         },
         "locationmode": "USA-states",
         "lon": [
          -97.657605,
          -97.424322
         ],
         "mode": "lines",
         "opacity": 1,
         "type": "scattergeo"
        },
        {
         "lat": [
          25.90646,
          30.191757
         ],
         "line": {
          "color": "red",
          "width": 1
         },
         "locationmode": "USA-states",
         "lon": [
          -97.424322,
          -97.657578
         ],
         "mode": "lines",
         "opacity": 1,
         "type": "scattergeo"
        },
        {
         "lat": [
          30.191757,
          52.350552
         ],
         "line": {
          "color": "red",
          "width": 1
         },
         "locationmode": "USA-states",
         "lon": [
          -97.657578,
          13.48999
         ],
         "mode": "lines",
         "opacity": 1,
         "type": "scattergeo"
        },
        {
         "lat": [
          52.350552,
          25.906926
         ],
         "line": {
          "color": "red",
          "width": 1
         },
         "locationmode": "USA-states",
         "lon": [
          13.48999,
          -97.42487
         ],
         "mode": "lines",
         "opacity": 1,
         "type": "scattergeo"
        },
        {
         "lat": [
          25.906926,
          33.922558
         ],
         "line": {
          "color": "red",
          "width": 1
         },
         "locationmode": "USA-states",
         "lon": [
          -97.42487,
          -118.341365
         ],
         "mode": "lines",
         "opacity": 1,
         "type": "scattergeo"
        },
        {
         "lat": [
          33.922558,
          37.365759
         ],
         "line": {
          "color": "red",
          "width": 1
         },
         "locationmode": "USA-states",
         "lon": [
          -118.341365,
          -121.930076
         ],
         "mode": "lines",
         "opacity": 1,
         "type": "scattergeo"
        },
        {
         "lat": [
          37.365759,
          30.191931
         ],
         "line": {
          "color": "red",
          "width": 1
         },
         "locationmode": "USA-states",
         "lon": [
          -121.930076,
          -97.657594
         ],
         "mode": "lines",
         "opacity": 1,
         "type": "scattergeo"
        },
        {
         "lat": [
          30.191931,
          25.904947
         ],
         "line": {
          "color": "red",
          "width": 1
         },
         "locationmode": "USA-states",
         "lon": [
          -97.657594,
          -97.422704
         ],
         "mode": "lines",
         "opacity": 1,
         "type": "scattergeo"
        },
        {
         "lat": [
          25.904947,
          30.191483
         ],
         "line": {
          "color": "red",
          "width": 1
         },
         "locationmode": "USA-states",
         "lon": [
          -97.422704,
          -97.657605
         ],
         "mode": "lines",
         "opacity": 1,
         "type": "scattergeo"
        },
        {
         "lat": [
          30.191483,
          25.906204
         ],
         "line": {
          "color": "red",
          "width": 1
         },
         "locationmode": "USA-states",
         "lon": [
          -97.657605,
          -97.42409
         ],
         "mode": "lines",
         "opacity": 1,
         "type": "scattergeo"
        },
        {
         "lat": [
          25.906204,
          33.951084
         ],
         "line": {
          "color": "red",
          "width": 1
         },
         "locationmode": "USA-states",
         "lon": [
          -97.42409,
          -118.411682
         ],
         "mode": "lines",
         "opacity": 1,
         "type": "scattergeo"
        },
        {
         "lat": [
          33.951084,
          25.905564
         ],
         "line": {
          "color": "red",
          "width": 1
         },
         "locationmode": "USA-states",
         "lon": [
          -118.411682,
          -97.423391
         ],
         "mode": "lines",
         "opacity": 1,
         "type": "scattergeo"
        },
        {
         "lat": [
          25.905564,
          30.192146
         ],
         "line": {
          "color": "red",
          "width": 1
         },
         "locationmode": "USA-states",
         "lon": [
          -97.423391,
          -97.657605
         ],
         "mode": "lines",
         "opacity": 1,
         "type": "scattergeo"
        },
        {
         "lat": [
          30.192146,
          33.819317
         ],
         "line": {
          "color": "red",
          "width": 1
         },
         "locationmode": "USA-states",
         "lon": [
          -97.657605,
          -118.153209
         ],
         "mode": "lines",
         "opacity": 1,
         "type": "scattergeo"
        },
        {
         "lat": [
          33.819317,
          30.192513
         ],
         "line": {
          "color": "red",
          "width": 1
         },
         "locationmode": "USA-states",
         "lon": [
          -118.153209,
          -97.657608
         ],
         "mode": "lines",
         "opacity": 1,
         "type": "scattergeo"
        },
        {
         "lat": [
          30.192513,
          25.903853
         ],
         "line": {
          "color": "red",
          "width": 1
         },
         "locationmode": "USA-states",
         "lon": [
          -97.657608,
          -97.421529
         ],
         "mode": "lines",
         "opacity": 1,
         "type": "scattergeo"
        },
        {
         "lat": [
          25.903853,
          25.985843
         ],
         "line": {
          "color": "red",
          "width": 1
         },
         "locationmode": "USA-states",
         "lon": [
          -97.421529,
          -97.368773
         ],
         "mode": "lines",
         "opacity": 1,
         "type": "scattergeo"
        },
        {
         "lat": [
          25.985843,
          30.190767
         ],
         "line": {
          "color": "red",
          "width": 1
         },
         "locationmode": "USA-states",
         "lon": [
          -97.368773,
          -97.657539
         ],
         "mode": "lines",
         "opacity": 1,
         "type": "scattergeo"
        },
        {
         "lat": [
          30.190767,
          25.905499
         ],
         "line": {
          "color": "red",
          "width": 1
         },
         "locationmode": "USA-states",
         "lon": [
          -97.657539,
          -97.423325
         ],
         "mode": "lines",
         "opacity": 1,
         "type": "scattergeo"
        },
        {
         "lat": [
          25.905499,
          30.188667
         ],
         "line": {
          "color": "red",
          "width": 1
         },
         "locationmode": "USA-states",
         "lon": [
          -97.423325,
          -97.657511
         ],
         "mode": "lines",
         "opacity": 1,
         "type": "scattergeo"
        },
        {
         "lat": [
          30.188667,
          25.902912
         ],
         "line": {
          "color": "red",
          "width": 1
         },
         "locationmode": "USA-states",
         "lon": [
          -97.657511,
          -97.420513
         ],
         "mode": "lines",
         "opacity": 1,
         "type": "scattergeo"
        },
        {
         "lat": [
          25.902912,
          39.881442
         ],
         "line": {
          "color": "red",
          "width": 1
         },
         "locationmode": "USA-states",
         "lon": [
          -97.420513,
          -75.233017
         ],
         "mode": "lines",
         "opacity": 1,
         "type": "scattergeo"
        },
        {
         "lat": [
          39.881442,
          25.903667
         ],
         "line": {
          "color": "red",
          "width": 1
         },
         "locationmode": "USA-states",
         "lon": [
          -75.233017,
          -97.421329
         ],
         "mode": "lines",
         "opacity": 1,
         "type": "scattergeo"
        },
        {
         "lat": [
          25.903667,
          40.850601
         ],
         "line": {
          "color": "red",
          "width": 1
         },
         "locationmode": "USA-states",
         "lon": [
          -97.421329,
          -74.060944
         ],
         "mode": "lines",
         "opacity": 1,
         "type": "scattergeo"
        },
        {
         "lat": [
          40.850601,
          25.906379
         ],
         "line": {
          "color": "red",
          "width": 1
         },
         "locationmode": "USA-states",
         "lon": [
          -74.060944,
          -97.424262
         ],
         "mode": "lines",
         "opacity": 1,
         "type": "scattergeo"
        },
        {
         "lat": [
          25.906379,
          30.192364
         ],
         "line": {
          "color": "red",
          "width": 1
         },
         "locationmode": "USA-states",
         "lon": [
          -97.424262,
          -97.657605
         ],
         "mode": "lines",
         "opacity": 1,
         "type": "scattergeo"
        },
        {
         "lat": [
          30.192364,
          25.909012
         ],
         "line": {
          "color": "red",
          "width": 1
         },
         "locationmode": "USA-states",
         "lon": [
          -97.657605,
          -97.429116
         ],
         "mode": "lines",
         "opacity": 1,
         "type": "scattergeo"
        },
        {
         "lat": [
          25.909012,
          30.19241
         ],
         "line": {
          "color": "red",
          "width": 1
         },
         "locationmode": "USA-states",
         "lon": [
          -97.429116,
          -97.657605
         ],
         "mode": "lines",
         "opacity": 1,
         "type": "scattergeo"
        },
        {
         "lat": [
          30.19241,
          25.909765
         ],
         "line": {
          "color": "red",
          "width": 1
         },
         "locationmode": "USA-states",
         "lon": [
          -97.657605,
          -97.429082
         ],
         "mode": "lines",
         "opacity": 1,
         "type": "scattergeo"
        },
        {
         "lat": [
          25.909765,
          30.192047
         ],
         "line": {
          "color": "red",
          "width": 1
         },
         "locationmode": "USA-states",
         "lon": [
          -97.429082,
          -97.657594
         ],
         "mode": "lines",
         "opacity": 1,
         "type": "scattergeo"
        },
        {
         "lat": [
          30.192047,
          33.922794
         ],
         "line": {
          "color": "red",
          "width": 1
         },
         "locationmode": "USA-states",
         "lon": [
          -97.657594,
          -118.336417
         ],
         "mode": "lines",
         "opacity": 1,
         "type": "scattergeo"
        },
        {
         "lat": [
          33.922794,
          30.192431
         ],
         "line": {
          "color": "red",
          "width": 1
         },
         "locationmode": "USA-states",
         "lon": [
          -118.336417,
          -97.657608
         ],
         "mode": "lines",
         "opacity": 1,
         "type": "scattergeo"
        },
        {
         "lat": [
          30.192431,
          33.922802
         ],
         "line": {
          "color": "red",
          "width": 1
         },
         "locationmode": "USA-states",
         "lon": [
          -97.657608,
          -118.336158
         ],
         "mode": "lines",
         "opacity": 1,
         "type": "scattergeo"
        },
        {
         "lat": [
          33.922802,
          30.191242
         ],
         "line": {
          "color": "red",
          "width": 1
         },
         "locationmode": "USA-states",
         "lon": [
          -118.336158,
          -97.657551
         ],
         "mode": "lines",
         "opacity": 1,
         "type": "scattergeo"
        },
        {
         "lat": [
          30.191242,
          25.80351
         ],
         "line": {
          "color": "red",
          "width": 1
         },
         "locationmode": "USA-states",
         "lon": [
          -97.657551,
          -80.287335
         ],
         "mode": "lines",
         "opacity": 1,
         "type": "scattergeo"
        },
        {
         "lat": [
          25.80351,
          25.90329
         ],
         "line": {
          "color": "red",
          "width": 1
         },
         "locationmode": "USA-states",
         "lon": [
          -80.287335,
          -97.420902
         ],
         "mode": "lines",
         "opacity": 1,
         "type": "scattergeo"
        },
        {
         "lat": [
          25.90329,
          30.191931
         ],
         "line": {
          "color": "red",
          "width": 1
         },
         "locationmode": "USA-states",
         "lon": [
          -97.420902,
          -97.657608
         ],
         "mode": "lines",
         "opacity": 1,
         "type": "scattergeo"
        },
        {
         "lat": [
          30.191931,
          25.904563
         ],
         "line": {
          "color": "red",
          "width": 1
         },
         "locationmode": "USA-states",
         "lon": [
          -97.657608,
          -97.422295
         ],
         "mode": "lines",
         "opacity": 1,
         "type": "scattergeo"
        },
        {
         "lat": [
          25.904563,
          30.192398
         ],
         "line": {
          "color": "red",
          "width": 1
         },
         "locationmode": "USA-states",
         "lon": [
          -97.422295,
          -97.657592
         ],
         "mode": "lines",
         "opacity": 1,
         "type": "scattergeo"
        },
        {
         "lat": [
          30.192398,
          33.92272
         ],
         "line": {
          "color": "red",
          "width": 1
         },
         "locationmode": "USA-states",
         "lon": [
          -97.657592,
          -118.33806
         ],
         "mode": "lines",
         "opacity": 1,
         "type": "scattergeo"
        },
        {
         "lat": [
          33.92272,
          30.191551
         ],
         "line": {
          "color": "red",
          "width": 1
         },
         "locationmode": "USA-states",
         "lon": [
          -118.33806,
          -97.657592
         ],
         "mode": "lines",
         "opacity": 1,
         "type": "scattergeo"
        },
        {
         "lat": [
          30.191551,
          25.905945
         ],
         "line": {
          "color": "red",
          "width": 1
         },
         "locationmode": "USA-states",
         "lon": [
          -97.657592,
          -97.423791
         ],
         "mode": "lines",
         "opacity": 1,
         "type": "scattergeo"
        },
        {
         "lat": [
          25.905945,
          30.192303
         ],
         "line": {
          "color": "red",
          "width": 1
         },
         "locationmode": "USA-states",
         "lon": [
          -97.423791,
          -97.657622
         ],
         "mode": "lines",
         "opacity": 1,
         "type": "scattergeo"
        },
        {
         "lat": [
          30.192303,
          25.90591
         ],
         "line": {
          "color": "red",
          "width": 1
         },
         "locationmode": "USA-states",
         "lon": [
          -97.657622,
          -97.423778
         ],
         "mode": "lines",
         "opacity": 1,
         "type": "scattergeo"
        },
        {
         "lat": [
          25.90591,
          30.191895
         ],
         "line": {
          "color": "red",
          "width": 1
         },
         "locationmode": "USA-states",
         "lon": [
          -97.423778,
          -97.657578
         ],
         "mode": "lines",
         "opacity": 1,
         "type": "scattergeo"
        },
        {
         "lat": [
          30.191895,
          25.903301
         ],
         "line": {
          "color": "red",
          "width": 1
         },
         "locationmode": "USA-states",
         "lon": [
          -97.657578,
          -97.429349
         ],
         "mode": "lines",
         "opacity": 1,
         "type": "scattergeo"
        },
        {
         "lat": [
          25.903301,
          30.191334
         ],
         "line": {
          "color": "red",
          "width": 1
         },
         "locationmode": "USA-states",
         "lon": [
          -97.429349,
          -97.657578
         ],
         "mode": "lines",
         "opacity": 1,
         "type": "scattergeo"
        },
        {
         "lat": [
          30.191334,
          33.922726
         ],
         "line": {
          "color": "red",
          "width": 1
         },
         "locationmode": "USA-states",
         "lon": [
          -97.657578,
          -118.337888
         ],
         "mode": "lines",
         "opacity": 1,
         "type": "scattergeo"
        },
        {
         "lat": [
          33.922726,
          30.19091
         ],
         "line": {
          "color": "red",
          "width": 1
         },
         "locationmode": "USA-states",
         "lon": [
          -118.337888,
          -97.657551
         ],
         "mode": "lines",
         "opacity": 1,
         "type": "scattergeo"
        },
        {
         "lat": [
          30.19091,
          37.364618
         ],
         "line": {
          "color": "red",
          "width": 1
         },
         "locationmode": "USA-states",
         "lon": [
          -97.657551,
          -121.932031
         ],
         "mode": "lines",
         "opacity": 1,
         "type": "scattergeo"
        },
        {
         "lat": [
          37.364618,
          33.922829
         ],
         "line": {
          "color": "red",
          "width": 1
         },
         "locationmode": "USA-states",
         "lon": [
          -121.932031,
          -118.335772
         ],
         "mode": "lines",
         "opacity": 1,
         "type": "scattergeo"
        },
        {
         "lat": [
          33.922829,
          30.190558
         ],
         "line": {
          "color": "red",
          "width": 1
         },
         "locationmode": "USA-states",
         "lon": [
          -118.335772,
          -97.657539
         ],
         "mode": "lines",
         "opacity": 1,
         "type": "scattergeo"
        },
        {
         "lat": [
          30.190558,
          20.898428
         ],
         "line": {
          "color": "red",
          "width": 1
         },
         "locationmode": "USA-states",
         "lon": [
          -97.657539,
          -156.429457
         ],
         "mode": "lines",
         "opacity": 1,
         "type": "scattergeo"
        },
        {
         "lat": [
          20.898428,
          30.192455
         ],
         "line": {
          "color": "red",
          "width": 1
         },
         "locationmode": "USA-states",
         "lon": [
          -156.429457,
          -97.657605
         ],
         "mode": "lines",
         "opacity": 1,
         "type": "scattergeo"
        },
        {
         "lat": [
          30.192455,
          33.922737
         ],
         "line": {
          "color": "red",
          "width": 1
         },
         "locationmode": "USA-states",
         "lon": [
          -97.657605,
          -118.33765
         ],
         "mode": "lines",
         "opacity": 1,
         "type": "scattergeo"
        },
        {
         "lat": [
          33.922737,
          25.905913
         ],
         "line": {
          "color": "red",
          "width": 1
         },
         "locationmode": "USA-states",
         "lon": [
          -118.33765,
          -97.42376
         ],
         "mode": "lines",
         "opacity": 1,
         "type": "scattergeo"
        },
        {
         "lat": [
          25.905913,
          30.191163
         ],
         "line": {
          "color": "red",
          "width": 1
         },
         "locationmode": "USA-states",
         "lon": [
          -97.42376,
          -97.657581
         ],
         "mode": "lines",
         "opacity": 1,
         "type": "scattergeo"
        },
        {
         "lat": [
          30.191163,
          33.922726
         ],
         "line": {
          "color": "red",
          "width": 1
         },
         "locationmode": "USA-states",
         "lon": [
          -97.657581,
          -118.337776
         ],
         "mode": "lines",
         "opacity": 1,
         "type": "scattergeo"
        },
        {
         "lat": [
          33.922726,
          30.190899
         ],
         "line": {
          "color": "red",
          "width": 1
         },
         "locationmode": "USA-states",
         "lon": [
          -118.337776,
          -97.657592
         ],
         "mode": "lines",
         "opacity": 1,
         "type": "scattergeo"
        },
        {
         "lat": [
          30.190899,
          37.363268
         ],
         "line": {
          "color": "red",
          "width": 1
         },
         "locationmode": "USA-states",
         "lon": [
          -97.657592,
          -121.930539
         ],
         "mode": "lines",
         "opacity": 1,
         "type": "scattergeo"
        },
        {
         "lat": [
          37.363268,
          30.191861
         ],
         "line": {
          "color": "red",
          "width": 1
         },
         "locationmode": "USA-states",
         "lon": [
          -121.930539,
          -97.657594
         ],
         "mode": "lines",
         "opacity": 1,
         "type": "scattergeo"
        },
        {
         "lat": [
          30.191861,
          25.898686
         ],
         "line": {
          "color": "red",
          "width": 1
         },
         "locationmode": "USA-states",
         "lon": [
          -97.657594,
          -97.429716
         ],
         "mode": "lines",
         "opacity": 1,
         "type": "scattergeo"
        },
        {
         "lat": [
          25.898686,
          30.192055
         ],
         "line": {
          "color": "red",
          "width": 1
         },
         "locationmode": "USA-states",
         "lon": [
          -97.429716,
          -97.657592
         ],
         "mode": "lines",
         "opacity": 1,
         "type": "scattergeo"
        },
        {
         "lat": [
          30.192055,
          34.211391
         ],
         "line": {
          "color": "red",
          "width": 1
         },
         "locationmode": "USA-states",
         "lon": [
          -97.657592,
          -118.490548
         ],
         "mode": "lines",
         "opacity": 1,
         "type": "scattergeo"
        },
        {
         "lat": [
          34.211391,
          30.189545
         ],
         "line": {
          "color": "red",
          "width": 1
         },
         "locationmode": "USA-states",
         "lon": [
          -118.490548,
          -97.661275
         ],
         "mode": "lines",
         "opacity": 1,
         "type": "scattergeo"
        },
        {
         "lat": [
          30.189545,
          49.187782
         ],
         "line": {
          "color": "red",
          "width": 1
         },
         "locationmode": "USA-states",
         "lon": [
          -97.661275,
          -123.187585
         ],
         "mode": "lines",
         "opacity": 1,
         "type": "scattergeo"
        },
        {
         "lat": [
          49.187782,
          47.529167
         ],
         "line": {
          "color": "red",
          "width": 1
         },
         "locationmode": "USA-states",
         "lon": [
          -123.187585,
          -122.301744
         ],
         "mode": "lines",
         "opacity": 1,
         "type": "scattergeo"
        },
        {
         "lat": [
          47.529167,
          30.190876
         ],
         "line": {
          "color": "red",
          "width": 1
         },
         "locationmode": "USA-states",
         "lon": [
          -122.301744,
          -97.657605
         ],
         "mode": "lines",
         "opacity": 1,
         "type": "scattergeo"
        },
        {
         "lat": [
          30.190876,
          33.923092
         ],
         "line": {
          "color": "red",
          "width": 1
         },
         "locationmode": "USA-states",
         "lon": [
          -97.657605,
          -118.340312
         ],
         "mode": "lines",
         "opacity": 1,
         "type": "scattergeo"
        },
        {
         "lat": [
          33.923092,
          30.1942
         ],
         "line": {
          "color": "red",
          "width": 1
         },
         "locationmode": "USA-states",
         "lon": [
          -118.340312,
          -97.657635
         ],
         "mode": "lines",
         "opacity": 1,
         "type": "scattergeo"
        },
        {
         "lat": [
          30.1942,
          25.9021
         ],
         "line": {
          "color": "red",
          "width": 1
         },
         "locationmode": "USA-states",
         "lon": [
          -97.657635,
          -97.419606
         ],
         "mode": "lines",
         "opacity": 1,
         "type": "scattergeo"
        },
        {
         "lat": [
          25.9021,
          29.640301
         ],
         "line": {
          "color": "red",
          "width": 1
         },
         "locationmode": "USA-states",
         "lon": [
          -97.419606,
          -95.272883
         ],
         "mode": "lines",
         "opacity": 1,
         "type": "scattergeo"
        },
        {
         "lat": [
          29.640301,
          30.19299
         ],
         "line": {
          "color": "red",
          "width": 1
         },
         "locationmode": "USA-states",
         "lon": [
          -95.272883,
          -97.657622
         ],
         "mode": "lines",
         "opacity": 1,
         "type": "scattergeo"
        },
        {
         "lat": [
          30.19299,
          33.922829
         ],
         "line": {
          "color": "red",
          "width": 1
         },
         "locationmode": "USA-states",
         "lon": [
          -97.657622,
          -118.33573
         ],
         "mode": "lines",
         "opacity": 1,
         "type": "scattergeo"
        },
        {
         "lat": [
          33.922829,
          30.190006
         ],
         "line": {
          "color": "red",
          "width": 1
         },
         "locationmode": "USA-states",
         "lon": [
          -118.33573,
          -97.657551
         ],
         "mode": "lines",
         "opacity": 1,
         "type": "scattergeo"
        },
        {
         "lat": [
          30.190006,
          33.922732
         ],
         "line": {
          "color": "red",
          "width": 1
         },
         "locationmode": "USA-states",
         "lon": [
          -97.657551,
          -118.337145
         ],
         "mode": "lines",
         "opacity": 1,
         "type": "scattergeo"
        },
        {
         "lat": [
          33.922732,
          29.639683
         ],
         "line": {
          "color": "red",
          "width": 1
         },
         "locationmode": "USA-states",
         "lon": [
          -118.337145,
          -95.272157
         ],
         "mode": "lines",
         "opacity": 1,
         "type": "scattergeo"
        },
        {
         "lat": [
          29.639683,
          30.190029
         ],
         "line": {
          "color": "red",
          "width": 1
         },
         "locationmode": "USA-states",
         "lon": [
          -95.272157,
          -97.657525
         ],
         "mode": "lines",
         "opacity": 1,
         "type": "scattergeo"
        },
        {
         "lat": [
          30.190029,
          25.906181
         ],
         "line": {
          "color": "red",
          "width": 1
         },
         "locationmode": "USA-states",
         "lon": [
          -97.657525,
          -97.424064
         ],
         "mode": "lines",
         "opacity": 1,
         "type": "scattergeo"
        },
        {
         "lat": [
          25.906181,
          30.192292
         ],
         "line": {
          "color": "red",
          "width": 1
         },
         "locationmode": "USA-states",
         "lon": [
          -97.424064,
          -97.657608
         ],
         "mode": "lines",
         "opacity": 1,
         "type": "scattergeo"
        },
        {
         "lat": [
          30.192292,
          33.922779
         ],
         "line": {
          "color": "red",
          "width": 1
         },
         "locationmode": "USA-states",
         "lon": [
          -97.657608,
          -118.336916
         ],
         "mode": "lines",
         "opacity": 1,
         "type": "scattergeo"
        },
        {
         "lat": [
          33.922779,
          37.365246
         ],
         "line": {
          "color": "red",
          "width": 1
         },
         "locationmode": "USA-states",
         "lon": [
          -118.336916,
          -121.932698
         ],
         "mode": "lines",
         "opacity": 1,
         "type": "scattergeo"
        },
        {
         "lat": [
          37.365246,
          30.192024
         ],
         "line": {
          "color": "red",
          "width": 1
         },
         "locationmode": "USA-states",
         "lon": [
          -121.932698,
          -97.657608
         ],
         "mode": "lines",
         "opacity": 1,
         "type": "scattergeo"
        },
        {
         "lat": [
          30.192024,
          25.906345
         ],
         "line": {
          "color": "red",
          "width": 1
         },
         "locationmode": "USA-states",
         "lon": [
          -97.657608,
          -97.424231
         ],
         "mode": "lines",
         "opacity": 1,
         "type": "scattergeo"
        },
        {
         "lat": [
          25.906345,
          30.19257
         ],
         "line": {
          "color": "red",
          "width": 1
         },
         "locationmode": "USA-states",
         "lon": [
          -97.424231,
          -97.657605
         ],
         "mode": "lines",
         "opacity": 1,
         "type": "scattergeo"
        },
        {
         "lat": [
          30.19257,
          33.922794
         ],
         "line": {
          "color": "red",
          "width": 1
         },
         "locationmode": "USA-states",
         "lon": [
          -97.657605,
          -118.336417
         ],
         "mode": "lines",
         "opacity": 1,
         "type": "scattergeo"
        },
        {
         "lat": [
          33.922794,
          30.192769
         ],
         "line": {
          "color": "red",
          "width": 1
         },
         "locationmode": "USA-states",
         "lon": [
          -118.336417,
          -97.657594
         ],
         "mode": "lines",
         "opacity": 1,
         "type": "scattergeo"
        },
        {
         "lat": [
          30.192769,
          41.795689
         ],
         "line": {
          "color": "red",
          "width": 1
         },
         "locationmode": "USA-states",
         "lon": [
          -97.657594,
          12.59737
         ],
         "mode": "lines",
         "opacity": 1,
         "type": "scattergeo"
        },
        {
         "lat": [
          41.795689,
          45.505976
         ],
         "line": {
          "color": "red",
          "width": 1
         },
         "locationmode": "USA-states",
         "lon": [
          12.59737,
          12.344647
         ],
         "mode": "lines",
         "opacity": 1,
         "type": "scattergeo"
        },
        {
         "lat": [
          45.505976,
          25.906669
         ],
         "line": {
          "color": "red",
          "width": 1
         },
         "locationmode": "USA-states",
         "lon": [
          12.344647,
          -97.424592
         ],
         "mode": "lines",
         "opacity": 1,
         "type": "scattergeo"
        },
        {
         "lat": [
          25.906669,
          30.191849
         ],
         "line": {
          "color": "red",
          "width": 1
         },
         "locationmode": "USA-states",
         "lon": [
          -97.424592,
          -97.657578
         ],
         "mode": "lines",
         "opacity": 1,
         "type": "scattergeo"
        },
        {
         "lat": [
          30.191849,
          33.922817
         ],
         "line": {
          "color": "red",
          "width": 1
         },
         "locationmode": "USA-states",
         "lon": [
          -97.657578,
          -118.336052
         ],
         "mode": "lines",
         "opacity": 1,
         "type": "scattergeo"
        },
        {
         "lat": [
          33.922817,
          30.191256
         ],
         "line": {
          "color": "red",
          "width": 1
         },
         "locationmode": "USA-states",
         "lon": [
          -118.336052,
          -97.657594
         ],
         "mode": "lines",
         "opacity": 1,
         "type": "scattergeo"
        },
        {
         "lat": [
          30.191256,
          25.905797
         ],
         "line": {
          "color": "red",
          "width": 1
         },
         "locationmode": "USA-states",
         "lon": [
          -97.657594,
          -97.423628
         ],
         "mode": "lines",
         "opacity": 1,
         "type": "scattergeo"
        },
        {
         "lat": [
          25.905797,
          37.363536
         ],
         "line": {
          "color": "red",
          "width": 1
         },
         "locationmode": "USA-states",
         "lon": [
          -97.423628,
          -121.930822
         ],
         "mode": "lines",
         "opacity": 1,
         "type": "scattergeo"
        },
        {
         "lat": [
          37.363536,
          33.922744
         ],
         "line": {
          "color": "red",
          "width": 1
         },
         "locationmode": "USA-states",
         "lon": [
          -121.930822,
          -118.337388
         ],
         "mode": "lines",
         "opacity": 1,
         "type": "scattergeo"
        },
        {
         "lat": [
          33.922744,
          30.191105
         ],
         "line": {
          "color": "red",
          "width": 1
         },
         "locationmode": "USA-states",
         "lon": [
          -118.337388,
          -97.657578
         ],
         "mode": "lines",
         "opacity": 1,
         "type": "scattergeo"
        },
        {
         "lat": [
          30.191105,
          33.819065
         ],
         "line": {
          "color": "red",
          "width": 1
         },
         "locationmode": "USA-states",
         "lon": [
          -97.657578,
          -118.152914
         ],
         "mode": "lines",
         "opacity": 1,
         "type": "scattergeo"
        },
        {
         "lat": [
          33.819065,
          25.905888
         ],
         "line": {
          "color": "red",
          "width": 1
         },
         "locationmode": "USA-states",
         "lon": [
          -118.152914,
          -97.423726
         ],
         "mode": "lines",
         "opacity": 1,
         "type": "scattergeo"
        },
        {
         "lat": [
          25.905888,
          30.189629
         ],
         "line": {
          "color": "red",
          "width": 1
         },
         "locationmode": "USA-states",
         "lon": [
          -97.423726,
          -97.657538
         ],
         "mode": "lines",
         "opacity": 1,
         "type": "scattergeo"
        },
        {
         "lat": [
          30.189629,
          37.363745
         ],
         "line": {
          "color": "red",
          "width": 1
         },
         "locationmode": "USA-states",
         "lon": [
          -97.657538,
          -121.931061
         ],
         "mode": "lines",
         "opacity": 1,
         "type": "scattergeo"
        },
        {
         "lat": [
          37.363745,
          30.191998
         ],
         "line": {
          "color": "red",
          "width": 1
         },
         "locationmode": "USA-states",
         "lon": [
          -121.931061,
          -97.657592
         ],
         "mode": "lines",
         "opacity": 1,
         "type": "scattergeo"
        },
        {
         "lat": [
          30.191998,
          25.905693
         ],
         "line": {
          "color": "red",
          "width": 1
         },
         "locationmode": "USA-states",
         "lon": [
          -97.657592,
          -97.423532
         ],
         "mode": "lines",
         "opacity": 1,
         "type": "scattergeo"
        },
        {
         "lat": [
          25.905693,
          30.192012
         ],
         "line": {
          "color": "red",
          "width": 1
         },
         "locationmode": "USA-states",
         "lon": [
          -97.423532,
          -97.657594
         ],
         "mode": "lines",
         "opacity": 1,
         "type": "scattergeo"
        },
        {
         "lat": [
          30.192012,
          25.904652
         ],
         "line": {
          "color": "red",
          "width": 1
         },
         "locationmode": "USA-states",
         "lon": [
          -97.657594,
          -97.422392
         ],
         "mode": "lines",
         "opacity": 1,
         "type": "scattergeo"
        },
        {
         "lat": [
          25.904652,
          33.922691
         ],
         "line": {
          "color": "red",
          "width": 1
         },
         "locationmode": "USA-states",
         "lon": [
          -97.422392,
          -118.338631
         ],
         "mode": "lines",
         "opacity": 1,
         "type": "scattergeo"
        },
        {
         "lat": [
          33.922691,
          37.365875
         ],
         "line": {
          "color": "red",
          "width": 1
         },
         "locationmode": "USA-states",
         "lon": [
          -118.338631,
          -121.933384
         ],
         "mode": "lines",
         "opacity": 1,
         "type": "scattergeo"
        },
        {
         "lat": [
          37.365875,
          30.191221
         ],
         "line": {
          "color": "red",
          "width": 1
         },
         "locationmode": "USA-states",
         "lon": [
          -121.933384,
          -97.657567
         ],
         "mode": "lines",
         "opacity": 1,
         "type": "scattergeo"
        },
        {
         "lat": [
          30.191221,
          25.905866
         ],
         "line": {
          "color": "red",
          "width": 1
         },
         "locationmode": "USA-states",
         "lon": [
          -97.657567,
          -97.423721
         ],
         "mode": "lines",
         "opacity": 1,
         "type": "scattergeo"
        },
        {
         "lat": [
          25.905866,
          37.36548
         ],
         "line": {
          "color": "red",
          "width": 1
         },
         "locationmode": "USA-states",
         "lon": [
          -97.423721,
          -121.932942
         ],
         "mode": "lines",
         "opacity": 1,
         "type": "scattergeo"
        },
        {
         "lat": [
          37.36548,
          25.904434
         ],
         "line": {
          "color": "red",
          "width": 1
         },
         "locationmode": "USA-states",
         "lon": [
          -121.932942,
          -97.422159
         ],
         "mode": "lines",
         "opacity": 1,
         "type": "scattergeo"
        },
        {
         "lat": [
          25.904434,
          30.19202
         ],
         "line": {
          "color": "red",
          "width": 1
         },
         "locationmode": "USA-states",
         "lon": [
          -97.422159,
          -97.657578
         ],
         "mode": "lines",
         "opacity": 1,
         "type": "scattergeo"
        },
        {
         "lat": [
          30.19202,
          25.903027
         ],
         "line": {
          "color": "red",
          "width": 1
         },
         "locationmode": "USA-states",
         "lon": [
          -97.657578,
          -97.431215
         ],
         "mode": "lines",
         "opacity": 1,
         "type": "scattergeo"
        },
        {
         "lat": [
          25.903027,
          40.843106
         ],
         "line": {
          "color": "red",
          "width": 1
         },
         "locationmode": "USA-states",
         "lon": [
          -97.431215,
          -72.63074
         ],
         "mode": "lines",
         "opacity": 1,
         "type": "scattergeo"
        },
        {
         "lat": [
          40.843106,
          30.190498
         ],
         "line": {
          "color": "red",
          "width": 1
         },
         "locationmode": "USA-states",
         "lon": [
          -72.63074,
          -97.657605
         ],
         "mode": "lines",
         "opacity": 1,
         "type": "scattergeo"
        },
        {
         "lat": [
          30.190498,
          37.364582
         ],
         "line": {
          "color": "red",
          "width": 1
         },
         "locationmode": "USA-states",
         "lon": [
          -97.657605,
          -121.931982
         ],
         "mode": "lines",
         "opacity": 1,
         "type": "scattergeo"
        },
        {
         "lat": [
          37.364582,
          33.922714
         ],
         "line": {
          "color": "red",
          "width": 1
         },
         "locationmode": "USA-states",
         "lon": [
          -121.931982,
          -118.338056
         ],
         "mode": "lines",
         "opacity": 1,
         "type": "scattergeo"
        },
        {
         "lat": [
          33.922714,
          25.904789
         ],
         "line": {
          "color": "red",
          "width": 1
         },
         "locationmode": "USA-states",
         "lon": [
          -118.338056,
          -97.42256
         ],
         "mode": "lines",
         "opacity": 1,
         "type": "scattergeo"
        },
        {
         "lat": [
          25.904789,
          30.191597
         ],
         "line": {
          "color": "red",
          "width": 1
         },
         "locationmode": "USA-states",
         "lon": [
          -97.42256,
          -97.657592
         ],
         "mode": "lines",
         "opacity": 1,
         "type": "scattergeo"
        },
        {
         "lat": [
          30.191597,
          33.935806
         ],
         "line": {
          "color": "red",
          "width": 1
         },
         "locationmode": "USA-states",
         "lon": [
          -97.657592,
          -118.397893
         ],
         "mode": "lines",
         "opacity": 1,
         "type": "scattergeo"
        },
        {
         "lat": [
          33.935806,
          58.879005
         ],
         "line": {
          "color": "red",
          "width": 1
         },
         "locationmode": "USA-states",
         "lon": [
          -118.397893,
          5.637749
         ],
         "mode": "lines",
         "opacity": 1,
         "type": "scattergeo"
        },
        {
         "lat": [
          58.879005,
          52.372804
         ],
         "line": {
          "color": "red",
          "width": 1
         },
         "locationmode": "USA-states",
         "lon": [
          5.637749,
          13.506513
         ],
         "mode": "lines",
         "opacity": 1,
         "type": "scattergeo"
        },
        {
         "lat": [
          52.372804,
          33.935813
         ],
         "line": {
          "color": "red",
          "width": 1
         },
         "locationmode": "USA-states",
         "lon": [
          13.506513,
          -118.398013
         ],
         "mode": "lines",
         "opacity": 1,
         "type": "scattergeo"
        },
        {
         "lat": [
          33.935813,
          41.721394
         ],
         "line": {
          "color": "red",
          "width": 1
         },
         "locationmode": "USA-states",
         "lon": [
          -118.398013,
          -71.428627
         ],
         "mode": "lines",
         "opacity": 1,
         "type": "scattergeo"
        },
        {
         "lat": [
          41.721394,
          40.853428
         ],
         "line": {
          "color": "red",
          "width": 1
         },
         "locationmode": "USA-states",
         "lon": [
          -71.428627,
          -74.05928
         ],
         "mode": "lines",
         "opacity": 1,
         "type": "scattergeo"
        },
        {
         "lat": [
          40.853428,
          30.191872
         ],
         "line": {
          "color": "red",
          "width": 1
         },
         "locationmode": "USA-states",
         "lon": [
          -74.05928,
          -97.657605
         ],
         "mode": "lines",
         "opacity": 1,
         "type": "scattergeo"
        },
        {
         "lat": [
          30.191872,
          25.903416
         ],
         "line": {
          "color": "red",
          "width": 1
         },
         "locationmode": "USA-states",
         "lon": [
          -97.657605,
          -97.421057
         ],
         "mode": "lines",
         "opacity": 1,
         "type": "scattergeo"
        },
        {
         "lat": [
          25.903416,
          33.948349
         ],
         "line": {
          "color": "red",
          "width": 1
         },
         "locationmode": "USA-states",
         "lon": [
          -97.421057,
          -118.419809
         ],
         "mode": "lines",
         "opacity": 1,
         "type": "scattergeo"
        },
        {
         "lat": [
          33.948349,
          30.192059
         ],
         "line": {
          "color": "red",
          "width": 1
         },
         "locationmode": "USA-states",
         "lon": [
          -118.419809,
          -97.657608
         ],
         "mode": "lines",
         "opacity": 1,
         "type": "scattergeo"
        },
        {
         "lat": [
          30.192059,
          37.364816
         ],
         "line": {
          "color": "red",
          "width": 1
         },
         "locationmode": "USA-states",
         "lon": [
          -97.657608,
          -121.93224
         ],
         "mode": "lines",
         "opacity": 1,
         "type": "scattergeo"
        },
        {
         "lat": [
          37.364816,
          33.922794
         ],
         "line": {
          "color": "red",
          "width": 1
         },
         "locationmode": "USA-states",
         "lon": [
          -121.93224,
          -118.336627
         ],
         "mode": "lines",
         "opacity": 1,
         "type": "scattergeo"
        },
        {
         "lat": [
          33.922794,
          30.192315
         ],
         "line": {
          "color": "red",
          "width": 1
         },
         "locationmode": "USA-states",
         "lon": [
          -118.336627,
          -97.657608
         ],
         "mode": "lines",
         "opacity": 1,
         "type": "scattergeo"
        },
        {
         "lat": [
          30.192315,
          25.90448
         ],
         "line": {
          "color": "red",
          "width": 1
         },
         "locationmode": "USA-states",
         "lon": [
          -97.657608,
          -97.422223
         ],
         "mode": "lines",
         "opacity": 1,
         "type": "scattergeo"
        },
        {
         "lat": [
          25.90448,
          30.191524
         ],
         "line": {
          "color": "red",
          "width": 1
         },
         "locationmode": "USA-states",
         "lon": [
          -97.422223,
          -97.657594
         ],
         "mode": "lines",
         "opacity": 1,
         "type": "scattergeo"
        },
        {
         "lat": [
          30.191524,
          39.907662
         ],
         "line": {
          "color": "red",
          "width": 1
         },
         "locationmode": "USA-states",
         "lon": [
          -97.657594,
          -105.113892
         ],
         "mode": "lines",
         "opacity": 1,
         "type": "scattergeo"
        },
        {
         "lat": [
          39.907662,
          30.198978
         ],
         "line": {
          "color": "red",
          "width": 1
         },
         "locationmode": "USA-states",
         "lon": [
          -105.113892,
          -97.678972
         ],
         "mode": "lines",
         "opacity": 1,
         "type": "scattergeo"
        },
        {
         "lat": [
          30.198978,
          37.364651
         ],
         "line": {
          "color": "red",
          "width": 1
         },
         "locationmode": "USA-states",
         "lon": [
          -97.678972,
          -121.93204
         ],
         "mode": "lines",
         "opacity": 1,
         "type": "scattergeo"
        },
        {
         "lat": [
          37.364651,
          33.92272
         ],
         "line": {
          "color": "red",
          "width": 1
         },
         "locationmode": "USA-states",
         "lon": [
          -121.93204,
          -118.338017
         ],
         "mode": "lines",
         "opacity": 1,
         "type": "scattergeo"
        },
        {
         "lat": [
          33.92272,
          37.365234
         ],
         "line": {
          "color": "red",
          "width": 1
         },
         "locationmode": "USA-states",
         "lon": [
          -118.338017,
          -121.932683
         ],
         "mode": "lines",
         "opacity": 1,
         "type": "scattergeo"
        },
        {
         "lat": [
          37.365234,
          32.847713
         ],
         "line": {
          "color": "red",
          "width": 1
         },
         "locationmode": "USA-states",
         "lon": [
          -121.932683,
          -96.845702
         ],
         "mode": "lines",
         "opacity": 1,
         "type": "scattergeo"
        },
        {
         "lat": [
          32.847713,
          30.191551
         ],
         "line": {
          "color": "red",
          "width": 1
         },
         "locationmode": "USA-states",
         "lon": [
          -96.845702,
          -97.657578
         ],
         "mode": "lines",
         "opacity": 1,
         "type": "scattergeo"
        },
        {
         "lat": [
          30.191551,
          25.901585
         ],
         "line": {
          "color": "red",
          "width": 1
         },
         "locationmode": "USA-states",
         "lon": [
          -97.657578,
          -97.419049
         ],
         "mode": "lines",
         "opacity": 1,
         "type": "scattergeo"
        },
        {
         "lat": [
          25.901585,
          30.193119
         ],
         "line": {
          "color": "red",
          "width": 1
         },
         "locationmode": "USA-states",
         "lon": [
          -97.419049,
          -97.657619
         ],
         "mode": "lines",
         "opacity": 1,
         "type": "scattergeo"
        },
        {
         "lat": [
          30.193119,
          25.9039
         ],
         "line": {
          "color": "red",
          "width": 1
         },
         "locationmode": "USA-states",
         "lon": [
          -97.657619,
          -97.421582
         ],
         "mode": "lines",
         "opacity": 1,
         "type": "scattergeo"
        },
        {
         "lat": [
          25.9039,
          30.19289
         ],
         "line": {
          "color": "red",
          "width": 1
         },
         "locationmode": "USA-states",
         "lon": [
          -97.421582,
          -97.657605
         ],
         "mode": "lines",
         "opacity": 1,
         "type": "scattergeo"
        },
        {
         "lat": [
          30.19289,
          37.365445
         ],
         "line": {
          "color": "red",
          "width": 1
         },
         "locationmode": "USA-states",
         "lon": [
          -97.657605,
          -121.932912
         ],
         "mode": "lines",
         "opacity": 1,
         "type": "scattergeo"
        },
        {
         "lat": [
          37.365445,
          30.191163
         ],
         "line": {
          "color": "red",
          "width": 1
         },
         "locationmode": "USA-states",
         "lon": [
          -121.932912,
          -97.657567
         ],
         "mode": "lines",
         "opacity": 1,
         "type": "scattergeo"
        },
        {
         "lat": [
          30.191163,
          37.364285
         ],
         "line": {
          "color": "red",
          "width": 1
         },
         "locationmode": "USA-states",
         "lon": [
          -97.657567,
          -121.93166
         ],
         "mode": "lines",
         "opacity": 1,
         "type": "scattergeo"
        },
        {
         "lat": [
          37.364285,
          33.92279
         ],
         "line": {
          "color": "red",
          "width": 1
         },
         "locationmode": "USA-states",
         "lon": [
          -121.93166,
          -118.336544
         ],
         "mode": "lines",
         "opacity": 1,
         "type": "scattergeo"
        },
        {
         "lat": [
          33.92279,
          37.364399
         ],
         "line": {
          "color": "red",
          "width": 1
         },
         "locationmode": "USA-states",
         "lon": [
          -118.336544,
          -121.931763
         ],
         "mode": "lines",
         "opacity": 1,
         "type": "scattergeo"
        },
        {
         "lat": [
          37.364399,
          33.92272
         ],
         "line": {
          "color": "red",
          "width": 1
         },
         "locationmode": "USA-states",
         "lon": [
          -121.931763,
          -118.337817
         ],
         "mode": "lines",
         "opacity": 1,
         "type": "scattergeo"
        },
        {
         "lat": [
          33.92272,
          40.850206
         ],
         "line": {
          "color": "red",
          "width": 1
         },
         "locationmode": "USA-states",
         "lon": [
          -118.337817,
          -74.060976
         ],
         "mode": "lines",
         "opacity": 1,
         "type": "scattergeo"
        },
        {
         "lat": [
          40.850206,
          38.941529
         ],
         "line": {
          "color": "red",
          "width": 1
         },
         "locationmode": "USA-states",
         "lon": [
          -74.060976,
          -77.436188
         ],
         "mode": "lines",
         "opacity": 1,
         "type": "scattergeo"
        },
        {
         "lat": [
          38.941529,
          37.620202
         ],
         "line": {
          "color": "red",
          "width": 1
         },
         "locationmode": "USA-states",
         "lon": [
          -77.436188,
          -122.373037
         ],
         "mode": "lines",
         "opacity": 1,
         "type": "scattergeo"
        },
        {
         "lat": [
          37.620202,
          37.367004
         ],
         "line": {
          "color": "red",
          "width": 1
         },
         "locationmode": "USA-states",
         "lon": [
          -122.373037,
          -121.931449
         ],
         "mode": "lines",
         "opacity": 1,
         "type": "scattergeo"
        },
        {
         "lat": [
          37.367004,
          40.848844
         ],
         "line": {
          "color": "red",
          "width": 1
         },
         "locationmode": "USA-states",
         "lon": [
          -121.931449,
          -74.061069
         ],
         "mode": "lines",
         "opacity": 1,
         "type": "scattergeo"
        },
        {
         "lat": [
          40.848844,
          30.188473
         ],
         "line": {
          "color": "red",
          "width": 1
         },
         "locationmode": "USA-states",
         "lon": [
          -74.061069,
          -97.657498
         ],
         "mode": "lines",
         "opacity": 1,
         "type": "scattergeo"
        },
        {
         "lat": [
          30.188473,
          37.621754
         ],
         "line": {
          "color": "red",
          "width": 1
         },
         "locationmode": "USA-states",
         "lon": [
          -97.657498,
          -122.376724
         ],
         "mode": "lines",
         "opacity": 1,
         "type": "scattergeo"
        },
        {
         "lat": [
          37.621754,
          30.190686
         ],
         "line": {
          "color": "red",
          "width": 1
         },
         "locationmode": "USA-states",
         "lon": [
          -122.376724,
          -97.657581
         ],
         "mode": "lines",
         "opacity": 1,
         "type": "scattergeo"
        },
        {
         "lat": [
          30.190686,
          37.620819
         ],
         "line": {
          "color": "red",
          "width": 1
         },
         "locationmode": "USA-states",
         "lon": [
          -97.657581,
          -122.374455
         ],
         "mode": "lines",
         "opacity": 1,
         "type": "scattergeo"
        },
        {
         "lat": [
          37.620819,
          33.922714
         ],
         "line": {
          "color": "red",
          "width": 1
         },
         "locationmode": "USA-states",
         "lon": [
          -122.374455,
          -118.337972
         ],
         "mode": "lines",
         "opacity": 1,
         "type": "scattergeo"
        },
        {
         "lat": [
          33.922714,
          37.728296
         ],
         "line": {
          "color": "red",
          "width": 1
         },
         "locationmode": "USA-states",
         "lon": [
          -118.337972,
          -122.215452
         ],
         "mode": "lines",
         "opacity": 1,
         "type": "scattergeo"
        },
        {
         "lat": [
          37.728296,
          30.190201
         ],
         "line": {
          "color": "red",
          "width": 1
         },
         "locationmode": "USA-states",
         "lon": [
          -122.215452,
          -97.657525
         ],
         "mode": "lines",
         "opacity": 1,
         "type": "scattergeo"
        },
        {
         "lat": [
          30.190201,
          37.728796
         ],
         "line": {
          "color": "red",
          "width": 1
         },
         "locationmode": "USA-states",
         "lon": [
          -97.657525,
          -122.217004
         ],
         "mode": "lines",
         "opacity": 1,
         "type": "scattergeo"
        },
        {
         "lat": [
          37.728796,
          30.193758
         ],
         "line": {
          "color": "red",
          "width": 1
         },
         "locationmode": "USA-states",
         "lon": [
          -122.217004,
          -97.657635
         ],
         "mode": "lines",
         "opacity": 1,
         "type": "scattergeo"
        },
        {
         "lat": [
          30.193758,
          37.728321
         ],
         "line": {
          "color": "red",
          "width": 1
         },
         "locationmode": "USA-states",
         "lon": [
          -97.657635,
          -122.215523
         ],
         "mode": "lines",
         "opacity": 1,
         "type": "scattergeo"
        },
        {
         "lat": [
          37.728321,
          39.496582
         ],
         "line": {
          "color": "red",
          "width": 1
         },
         "locationmode": "USA-states",
         "lon": [
          -122.215523,
          -119.769262
         ],
         "mode": "lines",
         "opacity": 1,
         "type": "scattergeo"
        },
        {
         "lat": [
          39.496582,
          37.709326
         ],
         "line": {
          "color": "red",
          "width": 1
         },
         "locationmode": "USA-states",
         "lon": [
          -119.769262,
          -122.22602
         ],
         "mode": "lines",
         "opacity": 1,
         "type": "scattergeo"
        },
        {
         "lat": [
          37.709326,
          29.993514
         ],
         "line": {
          "color": "red",
          "width": 1
         },
         "locationmode": "USA-states",
         "lon": [
          -122.22602,
          -90.268739
         ],
         "mode": "lines",
         "opacity": 1,
         "type": "scattergeo"
        },
        {
         "lat": [
          29.993514,
          37.729111
         ],
         "line": {
          "color": "red",
          "width": 1
         },
         "locationmode": "USA-states",
         "lon": [
          -90.268739,
          -122.218004
         ],
         "mode": "lines",
         "opacity": 1,
         "type": "scattergeo"
        },
        {
         "lat": [
          37.729111,
          38.935352
         ],
         "line": {
          "color": "red",
          "width": 1
         },
         "locationmode": "USA-states",
         "lon": [
          -122.218004,
          -77.436283
         ],
         "mode": "lines",
         "opacity": 1,
         "type": "scattergeo"
        },
        {
         "lat": [
          38.935352,
          37.729168
         ],
         "line": {
          "color": "red",
          "width": 1
         },
         "locationmode": "USA-states",
         "lon": [
          -77.436283,
          -122.218196
         ],
         "mode": "lines",
         "opacity": 1,
         "type": "scattergeo"
        },
        {
         "lat": [
          37.729168,
          33.935818
         ],
         "line": {
          "color": "red",
          "width": 1
         },
         "locationmode": "USA-states",
         "lon": [
          -122.218196,
          -118.397935
         ],
         "mode": "lines",
         "opacity": 1,
         "type": "scattergeo"
        },
        {
         "lat": [
          33.935818,
          30.191279
         ],
         "line": {
          "color": "red",
          "width": 1
         },
         "locationmode": "USA-states",
         "lon": [
          -118.397935,
          -97.657581
         ],
         "mode": "lines",
         "opacity": 1,
         "type": "scattergeo"
        },
        {
         "lat": [
          30.191279,
          37.36425
         ],
         "line": {
          "color": "red",
          "width": 1
         },
         "locationmode": "USA-states",
         "lon": [
          -97.657581,
          -121.931617
         ],
         "mode": "lines",
         "opacity": 1,
         "type": "scattergeo"
        },
        {
         "lat": [
          37.36425,
          51.874613
         ],
         "line": {
          "color": "red",
          "width": 1
         },
         "locationmode": "USA-states",
         "lon": [
          -121.931617,
          -0.368595
         ],
         "mode": "lines",
         "opacity": 1,
         "type": "scattergeo"
        },
        {
         "lat": [
          51.874613,
          25.268822
         ],
         "line": {
          "color": "red",
          "width": 1
         },
         "locationmode": "USA-states",
         "lon": [
          -0.368595,
          51.601527
         ],
         "mode": "lines",
         "opacity": 1,
         "type": "scattergeo"
        },
        {
         "lat": [
          25.268822,
          51.873729
         ],
         "line": {
          "color": "red",
          "width": 1
         },
         "locationmode": "USA-states",
         "lon": [
          51.601527,
          -0.373688
         ],
         "mode": "lines",
         "opacity": 1,
         "type": "scattergeo"
        },
        {
         "lat": [
          51.873729,
          30.189686
         ],
         "line": {
          "color": "red",
          "width": 1
         },
         "locationmode": "USA-states",
         "lon": [
          -0.373688,
          -97.657538
         ],
         "mode": "lines",
         "opacity": 1,
         "type": "scattergeo"
        },
        {
         "lat": [
          30.189686,
          37.726776
         ],
         "line": {
          "color": "red",
          "width": 1
         },
         "locationmode": "USA-states",
         "lon": [
          -97.657538,
          -122.219949
         ],
         "mode": "lines",
         "opacity": 1,
         "type": "scattergeo"
        },
        {
         "lat": [
          37.726776,
          38.694466
         ],
         "line": {
          "color": "red",
          "width": 1
         },
         "locationmode": "USA-states",
         "lon": [
          -122.219949,
          -121.58029
         ],
         "mode": "lines",
         "opacity": 1,
         "type": "scattergeo"
        },
        {
         "lat": [
          38.694466,
          33.950151
         ],
         "line": {
          "color": "red",
          "width": 1
         },
         "locationmode": "USA-states",
         "lon": [
          -121.58029,
          -118.42093
         ],
         "mode": "lines",
         "opacity": 1,
         "type": "scattergeo"
        },
        {
         "lat": [
          33.950151,
          38.690998
         ],
         "line": {
          "color": "red",
          "width": 1
         },
         "locationmode": "USA-states",
         "lon": [
          -118.42093,
          -121.601367
         ],
         "mode": "lines",
         "opacity": 1,
         "type": "scattergeo"
        },
        {
         "lat": [
          38.690998,
          39.908764
         ],
         "line": {
          "color": "red",
          "width": 1
         },
         "locationmode": "USA-states",
         "lon": [
          -121.601367,
          -105.115963
         ],
         "mode": "lines",
         "opacity": 1,
         "type": "scattergeo"
        },
        {
         "lat": [
          39.908764,
          30.19154
         ],
         "line": {
          "color": "red",
          "width": 1
         },
         "locationmode": "USA-states",
         "lon": [
          -105.115963,
          -97.657578
         ],
         "mode": "lines",
         "opacity": 1,
         "type": "scattergeo"
        },
        {
         "lat": [
          30.19154,
          38.691948
         ],
         "line": {
          "color": "red",
          "width": 1
         },
         "locationmode": "USA-states",
         "lon": [
          -97.657578,
          -121.601352
         ],
         "mode": "lines",
         "opacity": 1,
         "type": "scattergeo"
        },
        {
         "lat": [
          38.691948,
          30.188463
         ],
         "line": {
          "color": "red",
          "width": 1
         },
         "locationmode": "USA-states",
         "lon": [
          -121.601352,
          -97.657484
         ],
         "mode": "lines",
         "opacity": 1,
         "type": "scattergeo"
        },
        {
         "lat": [
          30.188463,
          33.93576
         ],
         "line": {
          "color": "red",
          "width": 1
         },
         "locationmode": "USA-states",
         "lon": [
          -97.657484,
          -118.398397
         ],
         "mode": "lines",
         "opacity": 1,
         "type": "scattergeo"
        },
        {
         "lat": [
          33.93576,
          33.818851
         ],
         "line": {
          "color": "red",
          "width": 1
         },
         "locationmode": "USA-states",
         "lon": [
          -118.398397,
          -118.152637
         ],
         "mode": "lines",
         "opacity": 1,
         "type": "scattergeo"
        },
        {
         "lat": [
          33.818851,
          33.922806
         ],
         "line": {
          "color": "red",
          "width": 1
         },
         "locationmode": "USA-states",
         "lon": [
          -118.152637,
          -118.336263
         ],
         "mode": "lines",
         "opacity": 1,
         "type": "scattergeo"
        },
        {
         "lat": [
          33.922806,
          30.192822
         ],
         "line": {
          "color": "red",
          "width": 1
         },
         "locationmode": "USA-states",
         "lon": [
          -118.336263,
          -97.657592
         ],
         "mode": "lines",
         "opacity": 1,
         "type": "scattergeo"
        },
        {
         "lat": [
          30.192822,
          37.709358
         ],
         "line": {
          "color": "red",
          "width": 1
         },
         "locationmode": "USA-states",
         "lon": [
          -97.657592,
          -122.226041
         ],
         "mode": "lines",
         "opacity": 1,
         "type": "scattergeo"
        },
        {
         "lat": [
          37.709358,
          30.190953
         ],
         "line": {
          "color": "red",
          "width": 1
         },
         "locationmode": "USA-states",
         "lon": [
          -122.226041,
          -97.657553
         ],
         "mode": "lines",
         "opacity": 1,
         "type": "scattergeo"
        },
        {
         "lat": [
          30.190953,
          37.728075
         ],
         "line": {
          "color": "red",
          "width": 1
         },
         "locationmode": "USA-states",
         "lon": [
          -97.657553,
          -122.21478
         ],
         "mode": "lines",
         "opacity": 1,
         "type": "scattergeo"
        },
        {
         "lat": [
          37.728075,
          30.191943
         ],
         "line": {
          "color": "red",
          "width": 1
         },
         "locationmode": "USA-states",
         "lon": [
          -122.21478,
          -97.657608
         ],
         "mode": "lines",
         "opacity": 1,
         "type": "scattergeo"
        },
        {
         "lat": [
          30.191943,
          37.728343
         ],
         "line": {
          "color": "red",
          "width": 1
         },
         "locationmode": "USA-states",
         "lon": [
          -97.657608,
          -122.215616
         ],
         "mode": "lines",
         "opacity": 1,
         "type": "scattergeo"
        },
        {
         "lat": [
          37.728343,
          34.19775
         ],
         "line": {
          "color": "red",
          "width": 1
         },
         "locationmode": "USA-states",
         "lon": [
          -122.215616,
          -118.357296
         ],
         "mode": "lines",
         "opacity": 1,
         "type": "scattergeo"
        },
        {
         "lat": [
          34.19775,
          41.720352
         ],
         "line": {
          "color": "red",
          "width": 1
         },
         "locationmode": "USA-states",
         "lon": [
          -118.357296,
          -71.429501
         ],
         "mode": "lines",
         "opacity": 1,
         "type": "scattergeo"
        },
        {
         "lat": [
          41.720352,
          37.725992
         ],
         "line": {
          "color": "red",
          "width": 1
         },
         "locationmode": "USA-states",
         "lon": [
          -71.429501,
          -122.217497
         ],
         "mode": "lines",
         "opacity": 1,
         "type": "scattergeo"
        },
        {
         "lat": [
          37.725992,
          39.502167
         ],
         "line": {
          "color": "red",
          "width": 1
         },
         "locationmode": "USA-states",
         "lon": [
          -122.217497,
          -119.766754
         ],
         "mode": "lines",
         "opacity": 1,
         "type": "scattergeo"
        },
        {
         "lat": [
          39.502167,
          37.726248
         ],
         "line": {
          "color": "red",
          "width": 1
         },
         "locationmode": "USA-states",
         "lon": [
          -119.766754,
          -122.218303
         ],
         "mode": "lines",
         "opacity": 1,
         "type": "scattergeo"
        },
        {
         "lat": [
          37.726248,
          38.936062
         ],
         "line": {
          "color": "red",
          "width": 1
         },
         "locationmode": "USA-states",
         "lon": [
          -122.218303,
          -77.436283
         ],
         "mode": "lines",
         "opacity": 1,
         "type": "scattergeo"
        },
        {
         "lat": [
          38.936062,
          37.726678
         ],
         "line": {
          "color": "red",
          "width": 1
         },
         "locationmode": "USA-states",
         "lon": [
          -77.436283,
          -122.219631
         ],
         "mode": "lines",
         "opacity": 1,
         "type": "scattergeo"
        },
        {
         "lat": [
          37.726678,
          30.192284
         ],
         "line": {
          "color": "red",
          "width": 1
         },
         "locationmode": "USA-states",
         "lon": [
          -122.219631,
          -97.657619
         ],
         "mode": "lines",
         "opacity": 1,
         "type": "scattergeo"
        },
        {
         "lat": [
          30.192284,
          25.899582
         ],
         "line": {
          "color": "red",
          "width": 1
         },
         "locationmode": "USA-states",
         "lon": [
          -97.657619,
          -97.419099
         ],
         "mode": "lines",
         "opacity": 1,
         "type": "scattergeo"
        },
        {
         "lat": [
          25.899582,
          37.72861
         ],
         "line": {
          "color": "red",
          "width": 1
         },
         "locationmode": "USA-states",
         "lon": [
          -97.419099,
          -122.216422
         ],
         "mode": "lines",
         "opacity": 1,
         "type": "scattergeo"
        },
        {
         "lat": [
          37.72861,
          30.190178
         ],
         "line": {
          "color": "red",
          "width": 1
         },
         "locationmode": "USA-states",
         "lon": [
          -122.216422,
          -97.657551
         ],
         "mode": "lines",
         "opacity": 1,
         "type": "scattergeo"
        },
        {
         "lat": [
          30.190178,
          37.72776
         ],
         "line": {
          "color": "red",
          "width": 1
         },
         "locationmode": "USA-states",
         "lon": [
          -97.657551,
          -122.213784
         ],
         "mode": "lines",
         "opacity": 1,
         "type": "scattergeo"
        },
        {
         "lat": [
          37.72776,
          33.922749
         ],
         "line": {
          "color": "red",
          "width": 1
         },
         "locationmode": "USA-states",
         "lon": [
          -122.213784,
          -118.338098
         ],
         "mode": "lines",
         "opacity": 1,
         "type": "scattergeo"
        },
        {
         "lat": [
          33.922749,
          37.728343
         ],
         "line": {
          "color": "red",
          "width": 1
         },
         "locationmode": "USA-states",
         "lon": [
          -118.338098,
          -122.215616
         ],
         "mode": "lines",
         "opacity": 1,
         "type": "scattergeo"
        },
        {
         "lat": [
          37.728343,
          33.421923
         ],
         "line": {
          "color": "red",
          "width": 1
         },
         "locationmode": "USA-states",
         "lon": [
          -122.215616,
          -112.376656
         ],
         "mode": "lines",
         "opacity": 1,
         "type": "scattergeo"
        },
        {
         "lat": [
          33.421923,
          37.728587
         ],
         "line": {
          "color": "red",
          "width": 1
         },
         "locationmode": "USA-states",
         "lon": [
          -112.376656,
          -122.216347
         ],
         "mode": "lines",
         "opacity": 1,
         "type": "scattergeo"
        },
        {
         "lat": [
          37.728587,
          30.200834
         ],
         "line": {
          "color": "red",
          "width": 1
         },
         "locationmode": "USA-states",
         "lon": [
          -122.216347,
          -97.678976
         ],
         "mode": "lines",
         "opacity": 1,
         "type": "scattergeo"
        },
        {
         "lat": [
          30.200834,
          37.709667
         ],
         "line": {
          "color": "red",
          "width": 1
         },
         "locationmode": "USA-states",
         "lon": [
          -97.678976,
          -122.225822
         ],
         "mode": "lines",
         "opacity": 1,
         "type": "scattergeo"
        },
        {
         "lat": [
          37.709667,
          30.190968
         ],
         "line": {
          "color": "red",
          "width": 1
         },
         "locationmode": "USA-states",
         "lon": [
          -122.225822,
          -97.657578
         ],
         "mode": "lines",
         "opacity": 1,
         "type": "scattergeo"
        }
       ],
       "layout": {
        "geo": {
         "countrycolor": "rgb(204, 204, 204)",
         "lakecolor": "rgb(255, 255, 255)",
         "landcolor": "rgb(243, 243, 243)",
         "projection": {
          "type": "equirectangular"
         },
         "showlakes": true,
         "showland": true
        },
        "showlegend": false,
        "template": {
         "data": {
          "bar": [
           {
            "error_x": {
             "color": "#2a3f5f"
            },
            "error_y": {
             "color": "#2a3f5f"
            },
            "marker": {
             "line": {
              "color": "#E5ECF6",
              "width": 0.5
             },
             "pattern": {
              "fillmode": "overlay",
              "size": 10,
              "solidity": 0.2
             }
            },
            "type": "bar"
           }
          ],
          "barpolar": [
           {
            "marker": {
             "line": {
              "color": "#E5ECF6",
              "width": 0.5
             },
             "pattern": {
              "fillmode": "overlay",
              "size": 10,
              "solidity": 0.2
             }
            },
            "type": "barpolar"
           }
          ],
          "carpet": [
           {
            "aaxis": {
             "endlinecolor": "#2a3f5f",
             "gridcolor": "white",
             "linecolor": "white",
             "minorgridcolor": "white",
             "startlinecolor": "#2a3f5f"
            },
            "baxis": {
             "endlinecolor": "#2a3f5f",
             "gridcolor": "white",
             "linecolor": "white",
             "minorgridcolor": "white",
             "startlinecolor": "#2a3f5f"
            },
            "type": "carpet"
           }
          ],
          "choropleth": [
           {
            "colorbar": {
             "outlinewidth": 0,
             "ticks": ""
            },
            "type": "choropleth"
           }
          ],
          "contour": [
           {
            "colorbar": {
             "outlinewidth": 0,
             "ticks": ""
            },
            "colorscale": [
             [
              0,
              "#0d0887"
             ],
             [
              0.1111111111111111,
              "#46039f"
             ],
             [
              0.2222222222222222,
              "#7201a8"
             ],
             [
              0.3333333333333333,
              "#9c179e"
             ],
             [
              0.4444444444444444,
              "#bd3786"
             ],
             [
              0.5555555555555556,
              "#d8576b"
             ],
             [
              0.6666666666666666,
              "#ed7953"
             ],
             [
              0.7777777777777778,
              "#fb9f3a"
             ],
             [
              0.8888888888888888,
              "#fdca26"
             ],
             [
              1,
              "#f0f921"
             ]
            ],
            "type": "contour"
           }
          ],
          "contourcarpet": [
           {
            "colorbar": {
             "outlinewidth": 0,
             "ticks": ""
            },
            "type": "contourcarpet"
           }
          ],
          "heatmap": [
           {
            "colorbar": {
             "outlinewidth": 0,
             "ticks": ""
            },
            "colorscale": [
             [
              0,
              "#0d0887"
             ],
             [
              0.1111111111111111,
              "#46039f"
             ],
             [
              0.2222222222222222,
              "#7201a8"
             ],
             [
              0.3333333333333333,
              "#9c179e"
             ],
             [
              0.4444444444444444,
              "#bd3786"
             ],
             [
              0.5555555555555556,
              "#d8576b"
             ],
             [
              0.6666666666666666,
              "#ed7953"
             ],
             [
              0.7777777777777778,
              "#fb9f3a"
             ],
             [
              0.8888888888888888,
              "#fdca26"
             ],
             [
              1,
              "#f0f921"
             ]
            ],
            "type": "heatmap"
           }
          ],
          "heatmapgl": [
           {
            "colorbar": {
             "outlinewidth": 0,
             "ticks": ""
            },
            "colorscale": [
             [
              0,
              "#0d0887"
             ],
             [
              0.1111111111111111,
              "#46039f"
             ],
             [
              0.2222222222222222,
              "#7201a8"
             ],
             [
              0.3333333333333333,
              "#9c179e"
             ],
             [
              0.4444444444444444,
              "#bd3786"
             ],
             [
              0.5555555555555556,
              "#d8576b"
             ],
             [
              0.6666666666666666,
              "#ed7953"
             ],
             [
              0.7777777777777778,
              "#fb9f3a"
             ],
             [
              0.8888888888888888,
              "#fdca26"
             ],
             [
              1,
              "#f0f921"
             ]
            ],
            "type": "heatmapgl"
           }
          ],
          "histogram": [
           {
            "marker": {
             "pattern": {
              "fillmode": "overlay",
              "size": 10,
              "solidity": 0.2
             }
            },
            "type": "histogram"
           }
          ],
          "histogram2d": [
           {
            "colorbar": {
             "outlinewidth": 0,
             "ticks": ""
            },
            "colorscale": [
             [
              0,
              "#0d0887"
             ],
             [
              0.1111111111111111,
              "#46039f"
             ],
             [
              0.2222222222222222,
              "#7201a8"
             ],
             [
              0.3333333333333333,
              "#9c179e"
             ],
             [
              0.4444444444444444,
              "#bd3786"
             ],
             [
              0.5555555555555556,
              "#d8576b"
             ],
             [
              0.6666666666666666,
              "#ed7953"
             ],
             [
              0.7777777777777778,
              "#fb9f3a"
             ],
             [
              0.8888888888888888,
              "#fdca26"
             ],
             [
              1,
              "#f0f921"
             ]
            ],
            "type": "histogram2d"
           }
          ],
          "histogram2dcontour": [
           {
            "colorbar": {
             "outlinewidth": 0,
             "ticks": ""
            },
            "colorscale": [
             [
              0,
              "#0d0887"
             ],
             [
              0.1111111111111111,
              "#46039f"
             ],
             [
              0.2222222222222222,
              "#7201a8"
             ],
             [
              0.3333333333333333,
              "#9c179e"
             ],
             [
              0.4444444444444444,
              "#bd3786"
             ],
             [
              0.5555555555555556,
              "#d8576b"
             ],
             [
              0.6666666666666666,
              "#ed7953"
             ],
             [
              0.7777777777777778,
              "#fb9f3a"
             ],
             [
              0.8888888888888888,
              "#fdca26"
             ],
             [
              1,
              "#f0f921"
             ]
            ],
            "type": "histogram2dcontour"
           }
          ],
          "mesh3d": [
           {
            "colorbar": {
             "outlinewidth": 0,
             "ticks": ""
            },
            "type": "mesh3d"
           }
          ],
          "parcoords": [
           {
            "line": {
             "colorbar": {
              "outlinewidth": 0,
              "ticks": ""
             }
            },
            "type": "parcoords"
           }
          ],
          "pie": [
           {
            "automargin": true,
            "type": "pie"
           }
          ],
          "scatter": [
           {
            "fillpattern": {
             "fillmode": "overlay",
             "size": 10,
             "solidity": 0.2
            },
            "type": "scatter"
           }
          ],
          "scatter3d": [
           {
            "line": {
             "colorbar": {
              "outlinewidth": 0,
              "ticks": ""
             }
            },
            "marker": {
             "colorbar": {
              "outlinewidth": 0,
              "ticks": ""
             }
            },
            "type": "scatter3d"
           }
          ],
          "scattercarpet": [
           {
            "marker": {
             "colorbar": {
              "outlinewidth": 0,
              "ticks": ""
             }
            },
            "type": "scattercarpet"
           }
          ],
          "scattergeo": [
           {
            "marker": {
             "colorbar": {
              "outlinewidth": 0,
              "ticks": ""
             }
            },
            "type": "scattergeo"
           }
          ],
          "scattergl": [
           {
            "marker": {
             "colorbar": {
              "outlinewidth": 0,
              "ticks": ""
             }
            },
            "type": "scattergl"
           }
          ],
          "scattermapbox": [
           {
            "marker": {
             "colorbar": {
              "outlinewidth": 0,
              "ticks": ""
             }
            },
            "type": "scattermapbox"
           }
          ],
          "scatterpolar": [
           {
            "marker": {
             "colorbar": {
              "outlinewidth": 0,
              "ticks": ""
             }
            },
            "type": "scatterpolar"
           }
          ],
          "scatterpolargl": [
           {
            "marker": {
             "colorbar": {
              "outlinewidth": 0,
              "ticks": ""
             }
            },
            "type": "scatterpolargl"
           }
          ],
          "scatterternary": [
           {
            "marker": {
             "colorbar": {
              "outlinewidth": 0,
              "ticks": ""
             }
            },
            "type": "scatterternary"
           }
          ],
          "surface": [
           {
            "colorbar": {
             "outlinewidth": 0,
             "ticks": ""
            },
            "colorscale": [
             [
              0,
              "#0d0887"
             ],
             [
              0.1111111111111111,
              "#46039f"
             ],
             [
              0.2222222222222222,
              "#7201a8"
             ],
             [
              0.3333333333333333,
              "#9c179e"
             ],
             [
              0.4444444444444444,
              "#bd3786"
             ],
             [
              0.5555555555555556,
              "#d8576b"
             ],
             [
              0.6666666666666666,
              "#ed7953"
             ],
             [
              0.7777777777777778,
              "#fb9f3a"
             ],
             [
              0.8888888888888888,
              "#fdca26"
             ],
             [
              1,
              "#f0f921"
             ]
            ],
            "type": "surface"
           }
          ],
          "table": [
           {
            "cells": {
             "fill": {
              "color": "#EBF0F8"
             },
             "line": {
              "color": "white"
             }
            },
            "header": {
             "fill": {
              "color": "#C8D4E3"
             },
             "line": {
              "color": "white"
             }
            },
            "type": "table"
           }
          ]
         },
         "layout": {
          "annotationdefaults": {
           "arrowcolor": "#2a3f5f",
           "arrowhead": 0,
           "arrowwidth": 1
          },
          "autotypenumbers": "strict",
          "coloraxis": {
           "colorbar": {
            "outlinewidth": 0,
            "ticks": ""
           }
          },
          "colorscale": {
           "diverging": [
            [
             0,
             "#8e0152"
            ],
            [
             0.1,
             "#c51b7d"
            ],
            [
             0.2,
             "#de77ae"
            ],
            [
             0.3,
             "#f1b6da"
            ],
            [
             0.4,
             "#fde0ef"
            ],
            [
             0.5,
             "#f7f7f7"
            ],
            [
             0.6,
             "#e6f5d0"
            ],
            [
             0.7,
             "#b8e186"
            ],
            [
             0.8,
             "#7fbc41"
            ],
            [
             0.9,
             "#4d9221"
            ],
            [
             1,
             "#276419"
            ]
           ],
           "sequential": [
            [
             0,
             "#0d0887"
            ],
            [
             0.1111111111111111,
             "#46039f"
            ],
            [
             0.2222222222222222,
             "#7201a8"
            ],
            [
             0.3333333333333333,
             "#9c179e"
            ],
            [
             0.4444444444444444,
             "#bd3786"
            ],
            [
             0.5555555555555556,
             "#d8576b"
            ],
            [
             0.6666666666666666,
             "#ed7953"
            ],
            [
             0.7777777777777778,
             "#fb9f3a"
            ],
            [
             0.8888888888888888,
             "#fdca26"
            ],
            [
             1,
             "#f0f921"
            ]
           ],
           "sequentialminus": [
            [
             0,
             "#0d0887"
            ],
            [
             0.1111111111111111,
             "#46039f"
            ],
            [
             0.2222222222222222,
             "#7201a8"
            ],
            [
             0.3333333333333333,
             "#9c179e"
            ],
            [
             0.4444444444444444,
             "#bd3786"
            ],
            [
             0.5555555555555556,
             "#d8576b"
            ],
            [
             0.6666666666666666,
             "#ed7953"
            ],
            [
             0.7777777777777778,
             "#fb9f3a"
            ],
            [
             0.8888888888888888,
             "#fdca26"
            ],
            [
             1,
             "#f0f921"
            ]
           ]
          },
          "colorway": [
           "#636efa",
           "#EF553B",
           "#00cc96",
           "#ab63fa",
           "#FFA15A",
           "#19d3f3",
           "#FF6692",
           "#B6E880",
           "#FF97FF",
           "#FECB52"
          ],
          "font": {
           "color": "#2a3f5f"
          },
          "geo": {
           "bgcolor": "white",
           "lakecolor": "white",
           "landcolor": "#E5ECF6",
           "showlakes": true,
           "showland": true,
           "subunitcolor": "white"
          },
          "hoverlabel": {
           "align": "left"
          },
          "hovermode": "closest",
          "mapbox": {
           "style": "light"
          },
          "paper_bgcolor": "white",
          "plot_bgcolor": "#E5ECF6",
          "polar": {
           "angularaxis": {
            "gridcolor": "white",
            "linecolor": "white",
            "ticks": ""
           },
           "bgcolor": "#E5ECF6",
           "radialaxis": {
            "gridcolor": "white",
            "linecolor": "white",
            "ticks": ""
           }
          },
          "scene": {
           "xaxis": {
            "backgroundcolor": "#E5ECF6",
            "gridcolor": "white",
            "gridwidth": 2,
            "linecolor": "white",
            "showbackground": true,
            "ticks": "",
            "zerolinecolor": "white"
           },
           "yaxis": {
            "backgroundcolor": "#E5ECF6",
            "gridcolor": "white",
            "gridwidth": 2,
            "linecolor": "white",
            "showbackground": true,
            "ticks": "",
            "zerolinecolor": "white"
           },
           "zaxis": {
            "backgroundcolor": "#E5ECF6",
            "gridcolor": "white",
            "gridwidth": 2,
            "linecolor": "white",
            "showbackground": true,
            "ticks": "",
            "zerolinecolor": "white"
           }
          },
          "shapedefaults": {
           "line": {
            "color": "#2a3f5f"
           }
          },
          "ternary": {
           "aaxis": {
            "gridcolor": "white",
            "linecolor": "white",
            "ticks": ""
           },
           "baxis": {
            "gridcolor": "white",
            "linecolor": "white",
            "ticks": ""
           },
           "bgcolor": "#E5ECF6",
           "caxis": {
            "gridcolor": "white",
            "linecolor": "white",
            "ticks": ""
           }
          },
          "title": {
           "x": 0.05
          },
          "xaxis": {
           "automargin": true,
           "gridcolor": "white",
           "linecolor": "white",
           "ticks": "",
           "title": {
            "standoff": 15
           },
           "zerolinecolor": "white",
           "zerolinewidth": 2
          },
          "yaxis": {
           "automargin": true,
           "gridcolor": "white",
           "linecolor": "white",
           "ticks": "",
           "title": {
            "standoff": 15
           },
           "zerolinecolor": "white",
           "zerolinewidth": 2
          }
         }
        }
       }
      }
     },
     "metadata": {},
     "output_type": "display_data"
    }
   ],
   "source": [
    "#Display trace on screen\n",
    "data_trace = {'lat':[], 'lon':[], 'timestamp':[], 'label':[]}\n",
    "\n",
    "for location in destinations_list:\n",
    "    entry = json_data[location[0]]\n",
    "    data_trace['lat'].append(entry[\"lat\"])\n",
    "    data_trace['lon'].append(entry[\"lon\"])\n",
    "    data_trace['timestamp'].append(location[0])\n",
    "    data_trace['label'].append(location[1])\n",
    "\n",
    "fig = go.Figure()\n",
    "fig.add_trace(go.Scattergeo(\n",
    "    locationmode = 'USA-states',\n",
    "    lon = data_trace['lon'],\n",
    "    lat = data_trace['lat'],\n",
    "    hoverinfo = 'text',\n",
    "    text = data_trace['label'],\n",
    "    mode = 'markers',\n",
    "    marker = dict(\n",
    "        size = 2,\n",
    "        color = 'rgb(255, 0, 0)',\n",
    "        line = dict(\n",
    "            width = 3,\n",
    "            color = 'rgba(68, 68, 68, 0)'\n",
    "        )\n",
    "    )))\n",
    "\n",
    "for i in range(len(data_trace['lon']) - 1):\n",
    "    fig.add_trace(\n",
    "        go.Scattergeo(\n",
    "            locationmode = 'USA-states',\n",
    "            lon = [data_trace['lon'][i], data_trace['lon'][i + 1]],\n",
    "            lat = [data_trace['lat'][i], data_trace['lat'][i + 1]],\n",
    "            mode = 'lines',\n",
    "            line = dict(width = 1,color = 'red'),\n",
    "            opacity = 1#float(df_flight_paths['cnt'][i]) / float(df_flight_paths['cnt'].max()),\n",
    "        )\n",
    "    )\n",
    "\n",
    "fig.update_layout(\n",
    "    showlegend = False,\n",
    "    geo = dict(\n",
    "        # scope = 'north america',\n",
    "        projection_type = 'equirectangular',\n",
    "\n",
    "        showland = True,\n",
    "        landcolor = 'rgb(243, 243, 243)',\n",
    "        countrycolor = 'rgb(204, 204, 204)',\n",
    "\n",
    "        showlakes = True,\n",
    "        lakecolor = 'rgb(255, 255, 255)'\n",
    "    ),\n",
    ")\n",
    "\n",
    "fig.show()"
   ]
  },
  {
   "attachments": {},
   "cell_type": "markdown",
   "metadata": {},
   "source": [
    "2. Display unique location where plane stoped"
   ]
  },
  {
   "cell_type": "code",
   "execution_count": 7,
   "metadata": {},
   "outputs": [
    {
     "data": {
      "application/vnd.plotly.v1+json": {
       "config": {
        "plotlyServerURL": "https://plot.ly"
       },
       "data": [
        {
         "hoverinfo": "text",
         "lat": [
          28.511867
         ],
         "lon": [
          -80.796692
         ],
         "marker": {
          "color": "rgb(0, 0, 255)",
          "size": 4.897196261682243
         },
         "showlegend": false,
         "text": [
          " Center Lane,  Titusville,  Florida,  United States,  32780"
         ],
         "textposition": "middle center",
         "type": "scattergeo"
        },
        {
         "hoverinfo": "text",
         "lat": [
          34.212077
         ],
         "lon": [
          -118.490567
         ],
         "marker": {
          "color": "rgb(0, 0, 255)",
          "size": 5.542056074766355
         },
         "showlegend": false,
         "text": [
          " Sophia Avenue,  Los Angeles,  California,  United States,  91406"
         ],
         "textposition": "middle center",
         "type": "scattergeo"
        },
        {
         "hoverinfo": "text",
         "lat": [
          33.922545
         ],
         "lon": [
          -118.341479
         ],
         "marker": {
          "color": "rgb(0, 0, 255)",
          "size": 4.037383177570094
         },
         "showlegend": false,
         "text": [
          " SpaceX Starlink Entrance,  Hawthorne,  California,  United States,  90250"
         ],
         "textposition": "middle center",
         "type": "scattergeo"
        },
        {
         "hoverinfo": "text",
         "lat": [
          33.922737
         ],
         "lon": [
          -118.337509
         ],
         "marker": {
          "color": "rgb(0, 0, 255)",
          "size": 15
         },
         "showlegend": false,
         "text": [
          " Boring Test Tunnel,  Hawthorne,  California,  United States,  90250"
         ],
         "textposition": "middle center",
         "type": "scattergeo"
        },
        {
         "hoverinfo": "text",
         "lat": [
          33.95074
         ],
         "lon": [
          -118.415451
         ],
         "marker": {
          "color": "rgb(0, 0, 255)",
          "size": 3.822429906542056
         },
         "showlegend": false,
         "text": [
          " Northside Parkway,  Los Angeles,  California,  United States,  90045"
         ],
         "textposition": "middle center",
         "type": "scattergeo"
        },
        {
         "hoverinfo": "text",
         "lat": [
          37.363311
         ],
         "lon": [
          -121.930593
         ],
         "marker": {
          "color": "rgb(0, 0, 255)",
          "size": 10.05607476635514
         },
         "showlegend": false,
         "text": [
          " Airport Boulevard,  San Jose,  California,  United States,  95110"
         ],
         "textposition": "middle center",
         "type": "scattergeo"
        },
        {
         "hoverinfo": "text",
         "lat": [
          25.804673
         ],
         "lon": [
          -80.291946
         ],
         "marker": {
          "color": "rgb(0, 0, 255)",
          "size": 3.5
         },
         "showlegend": false,
         "text": [
          " Perimeter Drive,  ,  Florida,  United States,  33142"
         ],
         "textposition": "middle center",
         "type": "scattergeo"
        },
        {
         "hoverinfo": "text",
         "lat": [
          30.18988
         ],
         "lon": [
          -97.657538
         ],
         "marker": {
          "color": "rgb(0, 0, 255)",
          "size": 14.785046728971963
         },
         "showlegend": false,
         "text": [
          " Presidential Boulevard,  Austin,  Texas,  United States,  78719"
         ],
         "textposition": "middle center",
         "type": "scattergeo"
        },
        {
         "hoverinfo": "text",
         "lat": [
          37.36576
         ],
         "lon": [
          -121.933267
         ],
         "marker": {
          "color": "rgb(0, 0, 255)",
          "size": 5.434579439252336
         },
         "showlegend": false,
         "text": [
          " Mathew Street,  Santa Clara,  California,  United States,  95053"
         ],
         "textposition": "middle center",
         "type": "scattergeo"
        },
        {
         "hoverinfo": "text",
         "lat": [
          34.199101
         ],
         "lon": [
          -118.489379
         ],
         "marker": {
          "color": "rgb(0, 0, 255)",
          "size": 3.822429906542056
         },
         "showlegend": false,
         "text": [
          " Sherman Way,  Los Angeles,  California,  United States,  91406"
         ],
         "textposition": "middle center",
         "type": "scattergeo"
        },
        {
         "hoverinfo": "text",
         "lat": [
          37.357051
         ],
         "lon": [
          -121.928256
         ],
         "marker": {
          "color": "rgb(0, 0, 255)",
          "size": 3.5
         },
         "showlegend": false,
         "text": [
          " Aviation Avenue,  San Jose,  California,  United States,  95110"
         ],
         "textposition": "middle center",
         "type": "scattergeo"
        },
        {
         "hoverinfo": "text",
         "lat": [
          39.907997
         ],
         "lon": [
          -105.114515
         ],
         "marker": {
          "color": "rgb(0, 0, 255)",
          "size": 4.037383177570094
         },
         "showlegend": false,
         "text": [
          " West 119th Drive,  Broomfield,  Colorado,  United States,  80020"
         ],
         "textposition": "middle center",
         "type": "scattergeo"
        },
        {
         "hoverinfo": "text",
         "lat": [
          28.43082
         ],
         "lon": [
          -81.282467
         ],
         "marker": {
          "color": "rgb(0, 0, 255)",
          "size": 3.5
         },
         "showlegend": false,
         "text": [
          " ,  Orlando,  Florida,  United States,  32827"
         ],
         "textposition": "middle center",
         "type": "scattergeo"
        },
        {
         "hoverinfo": "text",
         "lat": [
          33.818583
         ],
         "lon": [
          -118.152308
         ],
         "marker": {
          "color": "rgb(0, 0, 255)",
          "size": 4.037383177570094
         },
         "showlegend": false,
         "text": [
          " East Willow Street,  Long Beach,  California,  United States,  90815"
         ],
         "textposition": "middle center",
         "type": "scattergeo"
        },
        {
         "hoverinfo": "text",
         "lat": [
          38.956541
         ],
         "lon": [
          -77.459487
         ],
         "marker": {
          "color": "rgb(0, 0, 255)",
          "size": 3.5
         },
         "showlegend": false,
         "text": [
          " Radar Road,  ,  Virginia,  United States,  20102"
         ],
         "textposition": "middle center",
         "type": "scattergeo"
        },
        {
         "hoverinfo": "text",
         "lat": [
          38.942687
         ],
         "lon": [
          -77.436178
         ],
         "marker": {
          "color": "rgb(0, 0, 255)",
          "size": 3.607476635514019
         },
         "showlegend": false,
         "text": [
          " Edge Light Road,  ,  Virginia,  United States,  24965"
         ],
         "textposition": "middle center",
         "type": "scattergeo"
        },
        {
         "hoverinfo": "text",
         "lat": [
          33.935801
         ],
         "lon": [
          -118.397941
         ],
         "marker": {
          "color": "rgb(0, 0, 255)",
          "size": 5.11214953271028
         },
         "showlegend": false,
         "text": [
          " Sepulveda Boulevard,  Los Angeles,  California,  United States,  90009"
         ],
         "textposition": "middle center",
         "type": "scattergeo"
        },
        {
         "hoverinfo": "text",
         "lat": [
          37.658817
         ],
         "lon": [
          -122.12274
         ],
         "marker": {
          "color": "rgb(0, 0, 255)",
          "size": 3.5
         },
         "showlegend": false,
         "text": [
          " Mack Street,  Hayward,  California,  United States,  94545"
         ],
         "textposition": "middle center",
         "type": "scattergeo"
        },
        {
         "hoverinfo": "text",
         "lat": [
          36.085602
         ],
         "lon": [
          -115.164571
         ],
         "marker": {
          "color": "rgb(0, 0, 255)",
          "size": 3.607476635514019
         },
         "showlegend": false,
         "text": [
          " Wayne Newton Boulevard,  Las Vegas,  Nevada,  United States,  89119"
         ],
         "textposition": "middle center",
         "type": "scattergeo"
        },
        {
         "hoverinfo": "text",
         "lat": [
          28.51609
         ],
         "lon": [
          -80.7952
         ],
         "marker": {
          "color": "rgb(0, 0, 255)",
          "size": 4.037383177570094
         },
         "showlegend": false,
         "text": [
          " Tico Road,  Titusville,  Florida,  United States,  32927"
         ],
         "textposition": "middle center",
         "type": "scattergeo"
        },
        {
         "hoverinfo": "text",
         "lat": [
          28.102375
         ],
         "lon": [
          -80.640124
         ],
         "marker": {
          "color": "rgb(0, 0, 255)",
          "size": 3.5
         },
         "showlegend": false,
         "text": [
          " Tower Access Road,  Melbourne,  Florida,  United States,  32901"
         ],
         "textposition": "middle center",
         "type": "scattergeo"
        },
        {
         "hoverinfo": "text",
         "lat": [
          51.876183
         ],
         "lon": [
          -0.359654
         ],
         "marker": {
          "color": "rgb(0, 0, 255)",
          "size": 3.5
         },
         "showlegend": false,
         "text": [
          " Dane Street,  North Hertfordshire,  England,  United Kingdom,  LU2 8PE"
         ],
         "textposition": "middle center",
         "type": "scattergeo"
        },
        {
         "hoverinfo": "text",
         "lat": [
          37.622269
         ],
         "lon": [
          -122.377951
         ],
         "marker": {
          "color": "rgb(0, 0, 255)",
          "size": 3.607476635514019
         },
         "showlegend": false,
         "text": [
          " Departures,  South San Francisco,  California,  United States,  94128"
         ],
         "textposition": "middle center",
         "type": "scattergeo"
        },
        {
         "hoverinfo": "text",
         "lat": [
          31.61878
         ],
         "lon": [
          -97.225447
         ],
         "marker": {
          "color": "rgb(0, 0, 255)",
          "size": 3.5
         },
         "showlegend": false,
         "text": [
          " ,  Waco,  Texas,  United States,  "
         ],
         "textposition": "middle center",
         "type": "scattergeo"
        },
        {
         "hoverinfo": "text",
         "lat": [
          37.621563
         ],
         "lon": [
          -122.376291
         ],
         "marker": {
          "color": "rgb(0, 0, 255)",
          "size": 3.7149532710280373
         },
         "showlegend": false,
         "text": [
          " North Access Road,  South San Francisco,  California,  United States,  94128"
         ],
         "textposition": "middle center",
         "type": "scattergeo"
        },
        {
         "hoverinfo": "text",
         "lat": [
          33.948406
         ],
         "lon": [
          -118.419385
         ],
         "marker": {
          "color": "rgb(0, 0, 255)",
          "size": 3.9299065420560746
         },
         "showlegend": false,
         "text": [
          " Westchester Parkway,  Los Angeles,  California,  United States,  90293"
         ],
         "textposition": "middle center",
         "type": "scattergeo"
        },
        {
         "hoverinfo": "text",
         "lat": [
          31.611576
         ],
         "lon": [
          -97.227576
         ],
         "marker": {
          "color": "rgb(0, 0, 255)",
          "size": 3.822429906542056
         },
         "showlegend": false,
         "text": [
          " Airport Road,  Waco,  Texas,  United States,  76708"
         ],
         "textposition": "middle center",
         "type": "scattergeo"
        },
        {
         "hoverinfo": "text",
         "lat": [
          29.604384
         ],
         "lon": [
          -95.164086
         ],
         "marker": {
          "color": "rgb(0, 0, 255)",
          "size": 3.5
         },
         "showlegend": false,
         "text": [
          " Clear Lake City Boulevard,  Houston,  Texas,  United States,  77062"
         ],
         "textposition": "middle center",
         "type": "scattergeo"
        },
        {
         "hoverinfo": "text",
         "lat": [
          33.948704
         ],
         "lon": [
          -118.416376
         ],
         "marker": {
          "color": "rgb(0, 0, 255)",
          "size": 3.607476635514019
         },
         "showlegend": false,
         "text": [
          " Sterile/Lounges Level 5,  Los Angeles,  California,  United States,  90245"
         ],
         "textposition": "middle center",
         "type": "scattergeo"
        },
        {
         "hoverinfo": "text",
         "lat": [
          53.480386
         ],
         "lon": [
          -1.001392
         ],
         "marker": {
          "color": "rgb(0, 0, 255)",
          "size": 3.5
         },
         "showlegend": false,
         "text": [
          " Old Bawtry Road,  Doncaster,  England,  United Kingdom,  DN9 3BT"
         ],
         "textposition": "middle center",
         "type": "scattergeo"
        },
        {
         "hoverinfo": "text",
         "lat": [
          48.692219
         ],
         "lon": [
          9.230347
         ],
         "marker": {
          "color": "rgb(0, 0, 255)",
          "size": 3.5
         },
         "showlegend": false,
         "text": [
          " A 8,  Stuttgart,  Baden-Württemberg,  Deutschland,  70599"
         ],
         "textposition": "middle center",
         "type": "scattergeo"
        },
        {
         "hoverinfo": "text",
         "lat": [
          52.372513
         ],
         "lon": [
          13.505402
         ],
         "marker": {
          "color": "rgb(0, 0, 255)",
          "size": 3.9299065420560746
         },
         "showlegend": false,
         "text": [
          " Melli-Beese-Ring,  ,  Brandenburg,  Deutschland,  12529"
         ],
         "textposition": "middle center",
         "type": "scattergeo"
        },
        {
         "hoverinfo": "text",
         "lat": [
          52.319036
         ],
         "lon": [
          10.552917
         ],
         "marker": {
          "color": "rgb(0, 0, 255)",
          "size": 3.5
         },
         "showlegend": false,
         "text": [
          " Waggumer Straße,  Braunschweig,  Niedersachsen,  Deutschland,  38110"
         ],
         "textposition": "middle center",
         "type": "scattergeo"
        },
        {
         "hoverinfo": "text",
         "lat": [
          47.453792
         ],
         "lon": [
          -122.317957
         ],
         "marker": {
          "color": "rgb(0, 0, 255)",
          "size": 3.5
         },
         "showlegend": false,
         "text": [
          " South 170th Street,  SeaTac,  Washington,  United States,  98148"
         ],
         "textposition": "middle center",
         "type": "scattergeo"
        },
        {
         "hoverinfo": "text",
         "lat": [
          47.528973
         ],
         "lon": [
          -122.301573
         ],
         "marker": {
          "color": "rgb(0, 0, 255)",
          "size": 3.7149532710280373
         },
         "showlegend": false,
         "text": [
          " Perimeter Road South,  Seattle,  Washington,  United States,  98108"
         ],
         "textposition": "middle center",
         "type": "scattergeo"
        },
        {
         "hoverinfo": "text",
         "lat": [
          47.776178
         ],
         "lon": [
          -116.819687
         ],
         "marker": {
          "color": "rgb(0, 0, 255)",
          "size": 3.5
         },
         "showlegend": false,
         "text": [
          " ,  ,  Idaho,  United States,  "
         ],
         "textposition": "middle center",
         "type": "scattergeo"
        },
        {
         "hoverinfo": "text",
         "lat": [
          30.398472
         ],
         "lon": [
          -97.566765
         ],
         "marker": {
          "color": "rgb(0, 0, 255)",
          "size": 3.7149532710280373
         },
         "showlegend": false,
         "text": [
          " Aviation Drive,  Pflugerville,  Texas,  United States,  78660"
         ],
         "textposition": "middle center",
         "type": "scattergeo"
        },
        {
         "hoverinfo": "text",
         "lat": [
          25.900875
         ],
         "lon": [
          -97.418285
         ],
         "marker": {
          "color": "rgb(0, 0, 255)",
          "size": 10.593457943925234
         },
         "showlegend": false,
         "text": [
          " South Vermillion Avenue,  Brownsville,  Texas,  United States,  "
         ],
         "textposition": "middle center",
         "type": "scattergeo"
        },
        {
         "hoverinfo": "text",
         "lat": [
          33.948418
         ],
         "lon": [
          -118.419235
         ],
         "marker": {
          "color": "rgb(0, 0, 255)",
          "size": 3.607476635514019
         },
         "showlegend": false,
         "text": [
          " Concourse Level 4,  Los Angeles,  California,  United States,  90245"
         ],
         "textposition": "middle center",
         "type": "scattergeo"
        },
        {
         "hoverinfo": "text",
         "lat": [
          20.897713
         ],
         "lon": [
          -156.431334
         ],
         "marker": {
          "color": "rgb(0, 0, 255)",
          "size": 3.607476635514019
         },
         "showlegend": false,
         "text": [
          " Lanui Circle,  ,  Hawaii,  United States,  96784"
         ],
         "textposition": "middle center",
         "type": "scattergeo"
        },
        {
         "hoverinfo": "text",
         "lat": [
          34.585625
         ],
         "lon": [
          -117.384095
         ],
         "marker": {
          "color": "rgb(0, 0, 255)",
          "size": 3.5
         },
         "showlegend": false,
         "text": [
          " Cargo Lane,  Victorville,  California,  United States,  92301"
         ],
         "textposition": "middle center",
         "type": "scattergeo"
        },
        {
         "hoverinfo": "text",
         "lat": [
          39.500816
         ],
         "lon": [
          -119.766814
         ],
         "marker": {
          "color": "rgb(0, 0, 255)",
          "size": 3.607476635514019
         },
         "showlegend": false,
         "text": [
          " South Rock Boulevard,  Reno,  Nevada,  United States,  89510"
         ],
         "textposition": "middle center",
         "type": "scattergeo"
        },
        {
         "hoverinfo": "text",
         "lat": [
          33.937592
         ],
         "lon": [
          -118.402125
         ],
         "marker": {
          "color": "rgb(0, 0, 255)",
          "size": 3.5
         },
         "showlegend": false,
         "text": [
          " World Way,  Los Angeles,  California,  United States,  90009"
         ],
         "textposition": "middle center",
         "type": "scattergeo"
        },
        {
         "hoverinfo": "text",
         "lat": [
          28.102061
         ],
         "lon": [
          -80.645465
         ],
         "marker": {
          "color": "rgb(0, 0, 255)",
          "size": 3.607476635514019
         },
         "showlegend": false,
         "text": [
          " Bridle Path,  Melbourne,  Florida,  United States,  32935"
         ],
         "textposition": "middle center",
         "type": "scattergeo"
        },
        {
         "hoverinfo": "text",
         "lat": [
          25.803545
         ],
         "lon": [
          -80.286479
         ],
         "marker": {
          "color": "rgb(0, 0, 255)",
          "size": 3.5
         },
         "showlegend": false,
         "text": [
          " Northwest 36th Street,  ,  Florida,  United States,  33142"
         ],
         "textposition": "middle center",
         "type": "scattergeo"
        },
        {
         "hoverinfo": "text",
         "lat": [
          25.801403
         ],
         "lon": [
          -80.28442
         ],
         "marker": {
          "color": "rgb(0, 0, 255)",
          "size": 3.607476635514019
         },
         "showlegend": false,
         "text": [
          " Northwest 57th Avenue,  ,  Florida,  United States,  33142"
         ],
         "textposition": "middle center",
         "type": "scattergeo"
        },
        {
         "hoverinfo": "text",
         "lat": [
          40.854919
         ],
         "lon": [
          -74.05826
         ],
         "marker": {
          "color": "rgb(0, 0, 255)",
          "size": 3.5
         },
         "showlegend": false,
         "text": [
          " Fred Wehran Drive,  Teterboro,  New Jersey,  United States,  07608"
         ],
         "textposition": "middle center",
         "type": "scattergeo"
        },
        {
         "hoverinfo": "text",
         "lat": [
          51.875056
         ],
         "lon": [
          -0.366058
         ],
         "marker": {
          "color": "rgb(0, 0, 255)",
          "size": 3.607476635514019
         },
         "showlegend": false,
         "text": [
          " Provost Way,  Luton,  England,  United Kingdom,  LU2 9LY"
         ],
         "textposition": "middle center",
         "type": "scattergeo"
        },
        {
         "hoverinfo": "text",
         "lat": [
          32.289093
         ],
         "lon": [
          -106.918066
         ],
         "marker": {
          "color": "rgb(0, 0, 255)",
          "size": 3.5
         },
         "showlegend": false,
         "text": [
          " Harry Burrell Boulevard,  Las Cruces,  New Mexico,  United States,  "
         ],
         "textposition": "middle center",
         "type": "scattergeo"
        },
        {
         "hoverinfo": "text",
         "lat": [
          39.879295
         ],
         "lon": [
          -75.231927
         ],
         "marker": {
          "color": "rgb(0, 0, 255)",
          "size": 3.5
         },
         "showlegend": false,
         "text": [
          " Hog Island Road,  Philadelphia,  Pennsylvania,  United States,  19153"
         ],
         "textposition": "middle center",
         "type": "scattergeo"
        },
        {
         "hoverinfo": "text",
         "lat": [
          28.5137
         ],
         "lon": [
          -80.795355
         ],
         "marker": {
          "color": "rgb(0, 0, 255)",
          "size": 3.5
         },
         "showlegend": false,
         "text": [
          " Golden Knights Boulevard,  Titusville,  Florida,  United States,  32927"
         ],
         "textposition": "middle center",
         "type": "scattergeo"
        },
        {
         "hoverinfo": "text",
         "lat": [
          52.352921
         ],
         "lon": [
          13.499908
         ],
         "marker": {
          "color": "rgb(0, 0, 255)",
          "size": 3.5
         },
         "showlegend": false,
         "text": [
          " Zaunstraße 1,  Rotberg,  Brandenburg,  Deutschland,  12529"
         ],
         "textposition": "middle center",
         "type": "scattergeo"
        },
        {
         "hoverinfo": "text",
         "lat": [
          25.902958
         ],
         "lon": [
          -97.431176
         ],
         "marker": {
          "color": "rgb(0, 0, 255)",
          "size": 3.7149532710280373
         },
         "showlegend": false,
         "text": [
          " South Minnesota Avenue,  Brownsville,  Texas,  United States,  "
         ],
         "textposition": "middle center",
         "type": "scattergeo"
        },
        {
         "hoverinfo": "text",
         "lat": [
          40.85024
         ],
         "lon": [
          -74.061709
         ],
         "marker": {
          "color": "rgb(0, 0, 255)",
          "size": 4.037383177570094
         },
         "showlegend": false,
         "text": [
          " Malcolm Avenue,  Teterboro,  New Jersey,  United States,  07604"
         ],
         "textposition": "middle center",
         "type": "scattergeo"
        },
        {
         "hoverinfo": "text",
         "lat": [
          28.432326
         ],
         "lon": [
          -81.326806
         ],
         "marker": {
          "color": "rgb(0, 0, 255)",
          "size": 3.5
         },
         "showlegend": false,
         "text": [
          " West Apron Road,  Orlando,  Florida,  United States,  32862"
         ],
         "textposition": "middle center",
         "type": "scattergeo"
        },
        {
         "hoverinfo": "text",
         "lat": [
          52.350552
         ],
         "lon": [
          13.48999
         ],
         "marker": {
          "color": "rgb(0, 0, 255)",
          "size": 3.5
         },
         "showlegend": false,
         "text": [
          " Zaunstraße 1,  Selchow,  Brandenburg,  Deutschland,  12529"
         ],
         "textposition": "middle center",
         "type": "scattergeo"
        },
        {
         "hoverinfo": "text",
         "lat": [
          25.985843
         ],
         "lon": [
          -97.368773
         ],
         "marker": {
          "color": "rgb(0, 0, 255)",
          "size": 3.5
         },
         "showlegend": false,
         "text": [
          " ,  ,  Texas,  United States,  "
         ],
         "textposition": "middle center",
         "type": "scattergeo"
        },
        {
         "hoverinfo": "text",
         "lat": [
          39.881442
         ],
         "lon": [
          -75.233017
         ],
         "marker": {
          "color": "rgb(0, 0, 255)",
          "size": 3.5
         },
         "showlegend": false,
         "text": [
          " Island Avenue,  Philadelphia,  Pennsylvania,  United States,  19153"
         ],
         "textposition": "middle center",
         "type": "scattergeo"
        },
        {
         "hoverinfo": "text",
         "lat": [
          49.187782
         ],
         "lon": [
          -123.187585
         ],
         "marker": {
          "color": "rgb(0, 0, 255)",
          "size": 3.5
         },
         "showlegend": false,
         "text": [
          " Grant McConachie Way,  Richmond,  British Columbia,  Canada,  V7B 1W0"
         ],
         "textposition": "middle center",
         "type": "scattergeo"
        },
        {
         "hoverinfo": "text",
         "lat": [
          29.640301
         ],
         "lon": [
          -95.272883
         ],
         "marker": {
          "color": "rgb(0, 0, 255)",
          "size": 3.607476635514019
         },
         "showlegend": false,
         "text": [
          " A Avenue,  Houston,  Texas,  United States,  77061"
         ],
         "textposition": "middle center",
         "type": "scattergeo"
        },
        {
         "hoverinfo": "text",
         "lat": [
          41.795689
         ],
         "lon": [
          12.59737
         ],
         "marker": {
          "color": "rgb(0, 0, 255)",
          "size": 3.5
         },
         "showlegend": false,
         "text": [
          " Via Dalmazia,  Ciampino,  Lazio,  Italia,  00043"
         ],
         "textposition": "middle center",
         "type": "scattergeo"
        },
        {
         "hoverinfo": "text",
         "lat": [
          45.505976
         ],
         "lon": [
          12.344647
         ],
         "marker": {
          "color": "rgb(0, 0, 255)",
          "size": 3.5
         },
         "showlegend": false,
         "text": [
          " Partenze,  Venezia,  Veneto,  Italia,  "
         ],
         "textposition": "middle center",
         "type": "scattergeo"
        },
        {
         "hoverinfo": "text",
         "lat": [
          40.843106
         ],
         "lon": [
          -72.63074
         ],
         "marker": {
          "color": "rgb(0, 0, 255)",
          "size": 3.5
         },
         "showlegend": false,
         "text": [
          " Rust Avenue,  Westhampton,  New York,  United States,  11978"
         ],
         "textposition": "middle center",
         "type": "scattergeo"
        },
        {
         "hoverinfo": "text",
         "lat": [
          58.879005
         ],
         "lon": [
          5.637749
         ],
         "marker": {
          "color": "rgb(0, 0, 255)",
          "size": 3.5
         },
         "showlegend": false,
         "text": [
          " Ljosheimvegen,  Sola,  ,  Norge,  4050"
         ],
         "textposition": "middle center",
         "type": "scattergeo"
        },
        {
         "hoverinfo": "text",
         "lat": [
          41.721394
         ],
         "lon": [
          -71.428627
         ],
         "marker": {
          "color": "rgb(0, 0, 255)",
          "size": 3.607476635514019
         },
         "showlegend": false,
         "text": [
          " Post Road,  ,  Rhode Island,  United States,  02886"
         ],
         "textposition": "middle center",
         "type": "scattergeo"
        },
        {
         "hoverinfo": "text",
         "lat": [
          32.847713
         ],
         "lon": [
          -96.845702
         ],
         "marker": {
          "color": "rgb(0, 0, 255)",
          "size": 3.5
         },
         "showlegend": false,
         "text": [
          " Herb Kelleher Way,  Dallas,  Texas,  United States,  75235"
         ],
         "textposition": "middle center",
         "type": "scattergeo"
        },
        {
         "hoverinfo": "text",
         "lat": [
          37.620202
         ],
         "lon": [
          -122.373037
         ],
         "marker": {
          "color": "rgb(0, 0, 255)",
          "size": 3.607476635514019
         },
         "showlegend": false,
         "text": [
          " North Access Road,  ,  California,  United States,  94128"
         ],
         "textposition": "middle center",
         "type": "scattergeo"
        },
        {
         "hoverinfo": "text",
         "lat": [
          37.728296
         ],
         "lon": [
          -122.215452
         ],
         "marker": {
          "color": "rgb(0, 0, 255)",
          "size": 4.574766355140187
         },
         "showlegend": false,
         "text": [
          " Earhart Road,  Oakland,  California,  United States,  94614"
         ],
         "textposition": "middle center",
         "type": "scattergeo"
        },
        {
         "hoverinfo": "text",
         "lat": [
          39.496582
         ],
         "lon": [
          -119.769262
         ],
         "marker": {
          "color": "rgb(0, 0, 255)",
          "size": 3.5
         },
         "showlegend": false,
         "text": [
          " Vassar Street,  Reno,  Nevada,  United States,  89510"
         ],
         "textposition": "middle center",
         "type": "scattergeo"
        },
        {
         "hoverinfo": "text",
         "lat": [
          37.709326
         ],
         "lon": [
          -122.22602
         ],
         "marker": {
          "color": "rgb(0, 0, 255)",
          "size": 3.607476635514019
         },
         "showlegend": false,
         "text": [
          " ,  Oakland,  California,  United States,  "
         ],
         "textposition": "middle center",
         "type": "scattergeo"
        },
        {
         "hoverinfo": "text",
         "lat": [
          29.993514
         ],
         "lon": [
          -90.268739
         ],
         "marker": {
          "color": "rgb(0, 0, 255)",
          "size": 3.5
         },
         "showlegend": false,
         "text": [
          " Loyola Drive,  Kenner,  Louisiana,  United States,  70062"
         ],
         "textposition": "middle center",
         "type": "scattergeo"
        },
        {
         "hoverinfo": "text",
         "lat": [
          38.935352
         ],
         "lon": [
          -77.436283
         ],
         "marker": {
          "color": "rgb(0, 0, 255)",
          "size": 3.607476635514019
         },
         "showlegend": false,
         "text": [
          " Edge Light Road,  Dulles Town Center,  Virginia,  United States,  20166"
         ],
         "textposition": "middle center",
         "type": "scattergeo"
        },
        {
         "hoverinfo": "text",
         "lat": [
          25.268822
         ],
         "lon": [
          51.601527
         ],
         "marker": {
          "color": "rgb(0, 0, 255)",
          "size": 3.5
         },
         "showlegend": false,
         "text": [
          " خور العديد,  الدوحة,  ,  قطر,  "
         ],
         "textposition": "middle center",
         "type": "scattergeo"
        },
        {
         "hoverinfo": "text",
         "lat": [
          51.873729
         ],
         "lon": [
          -0.373688
         ],
         "marker": {
          "color": "rgb(0, 0, 255)",
          "size": 3.5
         },
         "showlegend": false,
         "text": [
          " Airport Way,  Luton,  England,  United Kingdom,  LU2 9NE"
         ],
         "textposition": "middle center",
         "type": "scattergeo"
        },
        {
         "hoverinfo": "text",
         "lat": [
          37.726776
         ],
         "lon": [
          -122.219949
         ],
         "marker": {
          "color": "rgb(0, 0, 255)",
          "size": 3.822429906542056
         },
         "showlegend": false,
         "text": [
          " Edward White Way,  Oakland,  California,  United States,  94614"
         ],
         "textposition": "middle center",
         "type": "scattergeo"
        },
        {
         "hoverinfo": "text",
         "lat": [
          38.694466
         ],
         "lon": [
          -121.58029
         ],
         "marker": {
          "color": "rgb(0, 0, 255)",
          "size": 3.5
         },
         "showlegend": false,
         "text": [
          " Airport Boulevard,  ,  California,  United States,  95837"
         ],
         "textposition": "middle center",
         "type": "scattergeo"
        },
        {
         "hoverinfo": "text",
         "lat": [
          38.690998
         ],
         "lon": [
          -121.601367
         ],
         "marker": {
          "color": "rgb(0, 0, 255)",
          "size": 3.607476635514019
         },
         "showlegend": false,
         "text": [
          " Reservoir Road,  ,  California,  United States,  95837"
         ],
         "textposition": "middle center",
         "type": "scattergeo"
        },
        {
         "hoverinfo": "text",
         "lat": [
          34.19775
         ],
         "lon": [
          -118.357296
         ],
         "marker": {
          "color": "rgb(0, 0, 255)",
          "size": 3.5
         },
         "showlegend": false,
         "text": [
          " Vanowen Street,  Los Angeles,  California,  United States,  91515"
         ],
         "textposition": "middle center",
         "type": "scattergeo"
        },
        {
         "hoverinfo": "text",
         "lat": [
          25.899582
         ],
         "lon": [
          -97.419099
         ],
         "marker": {
          "color": "rgb(0, 0, 255)",
          "size": 3.5
         },
         "showlegend": false,
         "text": [
          " California Road,  Brownsville,  Texas,  United States,  78521"
         ],
         "textposition": "middle center",
         "type": "scattergeo"
        },
        {
         "hoverinfo": "text",
         "lat": [
          33.421923
         ],
         "lon": [
          -112.376656
         ],
         "marker": {
          "color": "rgb(0, 0, 255)",
          "size": 3.5
         },
         "showlegend": false,
         "text": [
          " South Bullard Avenue,  Goodyear,  Arizona,  United States,  85395"
         ],
         "textposition": "middle center",
         "type": "scattergeo"
        },
        {
         "hoverinfo": "text",
         "lat": [
          37.709667
         ],
         "lon": [
          -122.225822
         ],
         "marker": {
          "color": "rgb(0, 0, 255)",
          "size": 3.5
         },
         "showlegend": false,
         "text": [
          " Air Cargo Way,  Oakland,  California,  United States,  94614"
         ],
         "textposition": "middle center",
         "type": "scattergeo"
        }
       ],
       "layout": {
        "geo": {
         "countrycolor": "rgb(204, 204, 204)",
         "lakecolor": "rgb(255, 255, 255)",
         "landcolor": "rgb(243, 243, 243)",
         "projection": {
          "type": "natural earth"
         },
         "showlakes": true,
         "showland": true
        },
        "margin": {
         "b": 0,
         "l": 0,
         "r": 0,
         "t": 0
        },
        "showlegend": false,
        "template": {
         "data": {
          "bar": [
           {
            "error_x": {
             "color": "#2a3f5f"
            },
            "error_y": {
             "color": "#2a3f5f"
            },
            "marker": {
             "line": {
              "color": "#E5ECF6",
              "width": 0.5
             },
             "pattern": {
              "fillmode": "overlay",
              "size": 10,
              "solidity": 0.2
             }
            },
            "type": "bar"
           }
          ],
          "barpolar": [
           {
            "marker": {
             "line": {
              "color": "#E5ECF6",
              "width": 0.5
             },
             "pattern": {
              "fillmode": "overlay",
              "size": 10,
              "solidity": 0.2
             }
            },
            "type": "barpolar"
           }
          ],
          "carpet": [
           {
            "aaxis": {
             "endlinecolor": "#2a3f5f",
             "gridcolor": "white",
             "linecolor": "white",
             "minorgridcolor": "white",
             "startlinecolor": "#2a3f5f"
            },
            "baxis": {
             "endlinecolor": "#2a3f5f",
             "gridcolor": "white",
             "linecolor": "white",
             "minorgridcolor": "white",
             "startlinecolor": "#2a3f5f"
            },
            "type": "carpet"
           }
          ],
          "choropleth": [
           {
            "colorbar": {
             "outlinewidth": 0,
             "ticks": ""
            },
            "type": "choropleth"
           }
          ],
          "contour": [
           {
            "colorbar": {
             "outlinewidth": 0,
             "ticks": ""
            },
            "colorscale": [
             [
              0,
              "#0d0887"
             ],
             [
              0.1111111111111111,
              "#46039f"
             ],
             [
              0.2222222222222222,
              "#7201a8"
             ],
             [
              0.3333333333333333,
              "#9c179e"
             ],
             [
              0.4444444444444444,
              "#bd3786"
             ],
             [
              0.5555555555555556,
              "#d8576b"
             ],
             [
              0.6666666666666666,
              "#ed7953"
             ],
             [
              0.7777777777777778,
              "#fb9f3a"
             ],
             [
              0.8888888888888888,
              "#fdca26"
             ],
             [
              1,
              "#f0f921"
             ]
            ],
            "type": "contour"
           }
          ],
          "contourcarpet": [
           {
            "colorbar": {
             "outlinewidth": 0,
             "ticks": ""
            },
            "type": "contourcarpet"
           }
          ],
          "heatmap": [
           {
            "colorbar": {
             "outlinewidth": 0,
             "ticks": ""
            },
            "colorscale": [
             [
              0,
              "#0d0887"
             ],
             [
              0.1111111111111111,
              "#46039f"
             ],
             [
              0.2222222222222222,
              "#7201a8"
             ],
             [
              0.3333333333333333,
              "#9c179e"
             ],
             [
              0.4444444444444444,
              "#bd3786"
             ],
             [
              0.5555555555555556,
              "#d8576b"
             ],
             [
              0.6666666666666666,
              "#ed7953"
             ],
             [
              0.7777777777777778,
              "#fb9f3a"
             ],
             [
              0.8888888888888888,
              "#fdca26"
             ],
             [
              1,
              "#f0f921"
             ]
            ],
            "type": "heatmap"
           }
          ],
          "heatmapgl": [
           {
            "colorbar": {
             "outlinewidth": 0,
             "ticks": ""
            },
            "colorscale": [
             [
              0,
              "#0d0887"
             ],
             [
              0.1111111111111111,
              "#46039f"
             ],
             [
              0.2222222222222222,
              "#7201a8"
             ],
             [
              0.3333333333333333,
              "#9c179e"
             ],
             [
              0.4444444444444444,
              "#bd3786"
             ],
             [
              0.5555555555555556,
              "#d8576b"
             ],
             [
              0.6666666666666666,
              "#ed7953"
             ],
             [
              0.7777777777777778,
              "#fb9f3a"
             ],
             [
              0.8888888888888888,
              "#fdca26"
             ],
             [
              1,
              "#f0f921"
             ]
            ],
            "type": "heatmapgl"
           }
          ],
          "histogram": [
           {
            "marker": {
             "pattern": {
              "fillmode": "overlay",
              "size": 10,
              "solidity": 0.2
             }
            },
            "type": "histogram"
           }
          ],
          "histogram2d": [
           {
            "colorbar": {
             "outlinewidth": 0,
             "ticks": ""
            },
            "colorscale": [
             [
              0,
              "#0d0887"
             ],
             [
              0.1111111111111111,
              "#46039f"
             ],
             [
              0.2222222222222222,
              "#7201a8"
             ],
             [
              0.3333333333333333,
              "#9c179e"
             ],
             [
              0.4444444444444444,
              "#bd3786"
             ],
             [
              0.5555555555555556,
              "#d8576b"
             ],
             [
              0.6666666666666666,
              "#ed7953"
             ],
             [
              0.7777777777777778,
              "#fb9f3a"
             ],
             [
              0.8888888888888888,
              "#fdca26"
             ],
             [
              1,
              "#f0f921"
             ]
            ],
            "type": "histogram2d"
           }
          ],
          "histogram2dcontour": [
           {
            "colorbar": {
             "outlinewidth": 0,
             "ticks": ""
            },
            "colorscale": [
             [
              0,
              "#0d0887"
             ],
             [
              0.1111111111111111,
              "#46039f"
             ],
             [
              0.2222222222222222,
              "#7201a8"
             ],
             [
              0.3333333333333333,
              "#9c179e"
             ],
             [
              0.4444444444444444,
              "#bd3786"
             ],
             [
              0.5555555555555556,
              "#d8576b"
             ],
             [
              0.6666666666666666,
              "#ed7953"
             ],
             [
              0.7777777777777778,
              "#fb9f3a"
             ],
             [
              0.8888888888888888,
              "#fdca26"
             ],
             [
              1,
              "#f0f921"
             ]
            ],
            "type": "histogram2dcontour"
           }
          ],
          "mesh3d": [
           {
            "colorbar": {
             "outlinewidth": 0,
             "ticks": ""
            },
            "type": "mesh3d"
           }
          ],
          "parcoords": [
           {
            "line": {
             "colorbar": {
              "outlinewidth": 0,
              "ticks": ""
             }
            },
            "type": "parcoords"
           }
          ],
          "pie": [
           {
            "automargin": true,
            "type": "pie"
           }
          ],
          "scatter": [
           {
            "fillpattern": {
             "fillmode": "overlay",
             "size": 10,
             "solidity": 0.2
            },
            "type": "scatter"
           }
          ],
          "scatter3d": [
           {
            "line": {
             "colorbar": {
              "outlinewidth": 0,
              "ticks": ""
             }
            },
            "marker": {
             "colorbar": {
              "outlinewidth": 0,
              "ticks": ""
             }
            },
            "type": "scatter3d"
           }
          ],
          "scattercarpet": [
           {
            "marker": {
             "colorbar": {
              "outlinewidth": 0,
              "ticks": ""
             }
            },
            "type": "scattercarpet"
           }
          ],
          "scattergeo": [
           {
            "marker": {
             "colorbar": {
              "outlinewidth": 0,
              "ticks": ""
             }
            },
            "type": "scattergeo"
           }
          ],
          "scattergl": [
           {
            "marker": {
             "colorbar": {
              "outlinewidth": 0,
              "ticks": ""
             }
            },
            "type": "scattergl"
           }
          ],
          "scattermapbox": [
           {
            "marker": {
             "colorbar": {
              "outlinewidth": 0,
              "ticks": ""
             }
            },
            "type": "scattermapbox"
           }
          ],
          "scatterpolar": [
           {
            "marker": {
             "colorbar": {
              "outlinewidth": 0,
              "ticks": ""
             }
            },
            "type": "scatterpolar"
           }
          ],
          "scatterpolargl": [
           {
            "marker": {
             "colorbar": {
              "outlinewidth": 0,
              "ticks": ""
             }
            },
            "type": "scatterpolargl"
           }
          ],
          "scatterternary": [
           {
            "marker": {
             "colorbar": {
              "outlinewidth": 0,
              "ticks": ""
             }
            },
            "type": "scatterternary"
           }
          ],
          "surface": [
           {
            "colorbar": {
             "outlinewidth": 0,
             "ticks": ""
            },
            "colorscale": [
             [
              0,
              "#0d0887"
             ],
             [
              0.1111111111111111,
              "#46039f"
             ],
             [
              0.2222222222222222,
              "#7201a8"
             ],
             [
              0.3333333333333333,
              "#9c179e"
             ],
             [
              0.4444444444444444,
              "#bd3786"
             ],
             [
              0.5555555555555556,
              "#d8576b"
             ],
             [
              0.6666666666666666,
              "#ed7953"
             ],
             [
              0.7777777777777778,
              "#fb9f3a"
             ],
             [
              0.8888888888888888,
              "#fdca26"
             ],
             [
              1,
              "#f0f921"
             ]
            ],
            "type": "surface"
           }
          ],
          "table": [
           {
            "cells": {
             "fill": {
              "color": "#EBF0F8"
             },
             "line": {
              "color": "white"
             }
            },
            "header": {
             "fill": {
              "color": "#C8D4E3"
             },
             "line": {
              "color": "white"
             }
            },
            "type": "table"
           }
          ]
         },
         "layout": {
          "annotationdefaults": {
           "arrowcolor": "#2a3f5f",
           "arrowhead": 0,
           "arrowwidth": 1
          },
          "autotypenumbers": "strict",
          "coloraxis": {
           "colorbar": {
            "outlinewidth": 0,
            "ticks": ""
           }
          },
          "colorscale": {
           "diverging": [
            [
             0,
             "#8e0152"
            ],
            [
             0.1,
             "#c51b7d"
            ],
            [
             0.2,
             "#de77ae"
            ],
            [
             0.3,
             "#f1b6da"
            ],
            [
             0.4,
             "#fde0ef"
            ],
            [
             0.5,
             "#f7f7f7"
            ],
            [
             0.6,
             "#e6f5d0"
            ],
            [
             0.7,
             "#b8e186"
            ],
            [
             0.8,
             "#7fbc41"
            ],
            [
             0.9,
             "#4d9221"
            ],
            [
             1,
             "#276419"
            ]
           ],
           "sequential": [
            [
             0,
             "#0d0887"
            ],
            [
             0.1111111111111111,
             "#46039f"
            ],
            [
             0.2222222222222222,
             "#7201a8"
            ],
            [
             0.3333333333333333,
             "#9c179e"
            ],
            [
             0.4444444444444444,
             "#bd3786"
            ],
            [
             0.5555555555555556,
             "#d8576b"
            ],
            [
             0.6666666666666666,
             "#ed7953"
            ],
            [
             0.7777777777777778,
             "#fb9f3a"
            ],
            [
             0.8888888888888888,
             "#fdca26"
            ],
            [
             1,
             "#f0f921"
            ]
           ],
           "sequentialminus": [
            [
             0,
             "#0d0887"
            ],
            [
             0.1111111111111111,
             "#46039f"
            ],
            [
             0.2222222222222222,
             "#7201a8"
            ],
            [
             0.3333333333333333,
             "#9c179e"
            ],
            [
             0.4444444444444444,
             "#bd3786"
            ],
            [
             0.5555555555555556,
             "#d8576b"
            ],
            [
             0.6666666666666666,
             "#ed7953"
            ],
            [
             0.7777777777777778,
             "#fb9f3a"
            ],
            [
             0.8888888888888888,
             "#fdca26"
            ],
            [
             1,
             "#f0f921"
            ]
           ]
          },
          "colorway": [
           "#636efa",
           "#EF553B",
           "#00cc96",
           "#ab63fa",
           "#FFA15A",
           "#19d3f3",
           "#FF6692",
           "#B6E880",
           "#FF97FF",
           "#FECB52"
          ],
          "font": {
           "color": "#2a3f5f"
          },
          "geo": {
           "bgcolor": "white",
           "lakecolor": "white",
           "landcolor": "#E5ECF6",
           "showlakes": true,
           "showland": true,
           "subunitcolor": "white"
          },
          "hoverlabel": {
           "align": "left"
          },
          "hovermode": "closest",
          "mapbox": {
           "style": "light"
          },
          "paper_bgcolor": "white",
          "plot_bgcolor": "#E5ECF6",
          "polar": {
           "angularaxis": {
            "gridcolor": "white",
            "linecolor": "white",
            "ticks": ""
           },
           "bgcolor": "#E5ECF6",
           "radialaxis": {
            "gridcolor": "white",
            "linecolor": "white",
            "ticks": ""
           }
          },
          "scene": {
           "xaxis": {
            "backgroundcolor": "#E5ECF6",
            "gridcolor": "white",
            "gridwidth": 2,
            "linecolor": "white",
            "showbackground": true,
            "ticks": "",
            "zerolinecolor": "white"
           },
           "yaxis": {
            "backgroundcolor": "#E5ECF6",
            "gridcolor": "white",
            "gridwidth": 2,
            "linecolor": "white",
            "showbackground": true,
            "ticks": "",
            "zerolinecolor": "white"
           },
           "zaxis": {
            "backgroundcolor": "#E5ECF6",
            "gridcolor": "white",
            "gridwidth": 2,
            "linecolor": "white",
            "showbackground": true,
            "ticks": "",
            "zerolinecolor": "white"
           }
          },
          "shapedefaults": {
           "line": {
            "color": "#2a3f5f"
           }
          },
          "ternary": {
           "aaxis": {
            "gridcolor": "white",
            "linecolor": "white",
            "ticks": ""
           },
           "baxis": {
            "gridcolor": "white",
            "linecolor": "white",
            "ticks": ""
           },
           "bgcolor": "#E5ECF6",
           "caxis": {
            "gridcolor": "white",
            "linecolor": "white",
            "ticks": ""
           }
          },
          "title": {
           "x": 0.05
          },
          "xaxis": {
           "automargin": true,
           "gridcolor": "white",
           "linecolor": "white",
           "ticks": "",
           "title": {
            "standoff": 15
           },
           "zerolinecolor": "white",
           "zerolinewidth": 2
          },
          "yaxis": {
           "automargin": true,
           "gridcolor": "white",
           "linecolor": "white",
           "ticks": "",
           "title": {
            "standoff": 15
           },
           "zerolinecolor": "white",
           "zerolinewidth": 2
          }
         }
        }
       }
      }
     },
     "metadata": {},
     "output_type": "display_data"
    }
   ],
   "source": [
    "#Display locations on screen\n",
    "data_unique = {'lat':[], 'lon':[], 'data':[], 'label':[]}\n",
    "\n",
    "for location in unique_locs:\n",
    "    entry = unique_locs[location]\n",
    "    data_unique['lat'].append(entry[1][0])\n",
    "    data_unique['lon'].append(entry[1][1])\n",
    "    data_unique['data'].append(entry[0])\n",
    "    data_unique['label'].append(location)\n",
    "\n",
    "#Make marker sizes\n",
    "min_d_s = min(data_unique['data'])\n",
    "max_d_s = max(data_unique['data'])\n",
    "min_p_s = 3.5\n",
    "max_p_s = 15\n",
    "marker_sizes = [(v - min_d_s)/(max_d_s - min_d_s) * (max_p_s - min_p_s) + min_p_s for v in data_unique['data']]\n",
    "\n",
    "df = pd.DataFrame(data_unique)\n",
    "\n",
    "# create the scatter plot on a map\n",
    "fig = go.Figure() #px.scatter_geo(df, lat='lat', lon='lon', size = 'data', projection=\"natural earth\", hover_data={'lon':False,'lat':False,'data':False})\n",
    "\n",
    "for i in range(len(data_unique[\"lon\"])):\n",
    "    fig.add_trace(go.Scattergeo(\n",
    "                lon=[data_unique[\"lon\"][i]],\n",
    "                lat=[data_unique[\"lat\"][i]],\n",
    "\n",
    "                text=[data_unique['label'][i]],\n",
    "                textposition=\"middle center\",\n",
    "                hoverinfo='text',\n",
    "\n",
    "                marker = dict(\n",
    "                size = marker_sizes[i],\n",
    "                color = 'rgb(0, 0, 255)'),\n",
    "\n",
    "                showlegend=False))\n",
    "\n",
    "fig.update_layout(\n",
    "    margin=dict(l=0, r=0, b=0, t=0),\n",
    "    showlegend = False,\n",
    "    geo = dict(\n",
    "        # scope = 'north america',\n",
    "        projection_type = 'natural earth',\n",
    "\n",
    "        showland = True,\n",
    "        landcolor = 'rgb(243, 243, 243)',\n",
    "        countrycolor = 'rgb(204, 204, 204)',\n",
    "\n",
    "        showlakes = True,\n",
    "        lakecolor = 'rgb(255, 255, 255)'\n",
    "    ),\n",
    ")\n",
    "\n",
    "# display the plot\n",
    "fig.show()\n"
   ]
  },
  {
   "cell_type": "code",
   "execution_count": 8,
   "metadata": {},
   "outputs": [],
   "source": [
    "#Save to html\n",
    "fig.write_html('elon_musk_landings.html')"
   ]
  },
  {
   "attachments": {},
   "cell_type": "markdown",
   "metadata": {},
   "source": [
    "3. Combine it all"
   ]
  },
  {
   "cell_type": "code",
   "execution_count": 9,
   "metadata": {},
   "outputs": [
    {
     "data": {
      "application/vnd.plotly.v1+json": {
       "config": {
        "plotlyServerURL": "https://plot.ly"
       },
       "data": [
        {
         "hoverinfo": "text",
         "lat": [
          28.511867,
          34.212077,
          33.922545,
          33.922737,
          33.95074,
          37.363311,
          25.804673,
          30.18988,
          37.36576,
          34.199101,
          37.357051,
          39.907997,
          28.43082,
          33.818583,
          38.956541,
          38.942687,
          33.935801,
          37.658817,
          36.085602,
          28.51609,
          28.102375,
          51.876183,
          37.622269,
          31.61878,
          37.621563,
          33.948406,
          31.611576,
          29.604384,
          33.948704,
          53.480386,
          48.692219,
          52.372513,
          52.319036,
          47.453792,
          47.528973,
          47.776178,
          30.398472,
          25.900875,
          33.948418,
          20.897713,
          34.585625,
          39.500816,
          33.937592,
          28.102061,
          25.803545,
          25.801403,
          40.854919,
          51.875056,
          32.289093,
          39.879295,
          28.5137,
          52.352921,
          25.902958,
          40.85024,
          28.432326,
          52.350552,
          25.985843,
          39.881442,
          49.187782,
          29.640301,
          41.795689,
          45.505976,
          40.843106,
          58.879005,
          41.721394,
          32.847713,
          37.620202,
          37.728296,
          39.496582,
          37.709326,
          29.993514,
          38.935352,
          25.268822,
          51.873729,
          37.726776,
          38.694466,
          38.690998,
          34.19775,
          25.899582,
          33.421923,
          37.709667
         ],
         "locationmode": "USA-states",
         "lon": [
          -80.796692,
          -118.490567,
          -118.341479,
          -118.337509,
          -118.415451,
          -121.930593,
          -80.291946,
          -97.657538,
          -121.933267,
          -118.489379,
          -121.928256,
          -105.114515,
          -81.282467,
          -118.152308,
          -77.459487,
          -77.436178,
          -118.397941,
          -122.12274,
          -115.164571,
          -80.7952,
          -80.640124,
          -0.359654,
          -122.377951,
          -97.225447,
          -122.376291,
          -118.419385,
          -97.227576,
          -95.164086,
          -118.416376,
          -1.001392,
          9.230347,
          13.505402,
          10.552917,
          -122.317957,
          -122.301573,
          -116.819687,
          -97.566765,
          -97.418285,
          -118.419235,
          -156.431334,
          -117.384095,
          -119.766814,
          -118.402125,
          -80.645465,
          -80.286479,
          -80.28442,
          -74.05826,
          -0.366058,
          -106.918066,
          -75.231927,
          -80.795355,
          13.499908,
          -97.431176,
          -74.061709,
          -81.326806,
          13.48999,
          -97.368773,
          -75.233017,
          -123.187585,
          -95.272883,
          12.59737,
          12.344647,
          -72.63074,
          5.637749,
          -71.428627,
          -96.845702,
          -122.373037,
          -122.215452,
          -119.769262,
          -122.22602,
          -90.268739,
          -77.436283,
          51.601527,
          -0.373688,
          -122.219949,
          -121.58029,
          -121.601367,
          -118.357296,
          -97.419099,
          -112.376656,
          -122.225822
         ],
         "marker": {
          "color": "rgb(0, 0, 255)",
          "line": {
           "color": "rgba(68, 68, 68, 0)",
           "width": 3
          },
          "size": [
           4.897196261682243,
           5.542056074766355,
           4.037383177570094,
           15,
           3.822429906542056,
           10.05607476635514,
           3.5,
           14.785046728971963,
           5.434579439252336,
           3.822429906542056,
           3.5,
           4.037383177570094,
           3.5,
           4.037383177570094,
           3.5,
           3.607476635514019,
           5.11214953271028,
           3.5,
           3.607476635514019,
           4.037383177570094,
           3.5,
           3.5,
           3.607476635514019,
           3.5,
           3.7149532710280373,
           3.9299065420560746,
           3.822429906542056,
           3.5,
           3.607476635514019,
           3.5,
           3.5,
           3.9299065420560746,
           3.5,
           3.5,
           3.7149532710280373,
           3.5,
           3.7149532710280373,
           10.593457943925234,
           3.607476635514019,
           3.607476635514019,
           3.5,
           3.607476635514019,
           3.5,
           3.607476635514019,
           3.5,
           3.607476635514019,
           3.5,
           3.607476635514019,
           3.5,
           3.5,
           3.5,
           3.5,
           3.7149532710280373,
           4.037383177570094,
           3.5,
           3.5,
           3.5,
           3.5,
           3.5,
           3.607476635514019,
           3.5,
           3.5,
           3.5,
           3.5,
           3.607476635514019,
           3.5,
           3.607476635514019,
           4.574766355140187,
           3.5,
           3.607476635514019,
           3.5,
           3.607476635514019,
           3.5,
           3.5,
           3.822429906542056,
           3.5,
           3.607476635514019,
           3.5,
           3.5,
           3.5,
           3.5
          ]
         },
         "mode": "markers",
         "text": [
          " Center Lane,  Titusville,  Florida,  United States,  32780",
          " Sophia Avenue,  Los Angeles,  California,  United States,  91406",
          " SpaceX Starlink Entrance,  Hawthorne,  California,  United States,  90250",
          " Boring Test Tunnel,  Hawthorne,  California,  United States,  90250",
          " Northside Parkway,  Los Angeles,  California,  United States,  90045",
          " Airport Boulevard,  San Jose,  California,  United States,  95110",
          " Perimeter Drive,  ,  Florida,  United States,  33142",
          " Presidential Boulevard,  Austin,  Texas,  United States,  78719",
          " Mathew Street,  Santa Clara,  California,  United States,  95053",
          " Sherman Way,  Los Angeles,  California,  United States,  91406",
          " Aviation Avenue,  San Jose,  California,  United States,  95110",
          " West 119th Drive,  Broomfield,  Colorado,  United States,  80020",
          " ,  Orlando,  Florida,  United States,  32827",
          " East Willow Street,  Long Beach,  California,  United States,  90815",
          " Radar Road,  ,  Virginia,  United States,  20102",
          " Edge Light Road,  ,  Virginia,  United States,  24965",
          " Sepulveda Boulevard,  Los Angeles,  California,  United States,  90009",
          " Mack Street,  Hayward,  California,  United States,  94545",
          " Wayne Newton Boulevard,  Las Vegas,  Nevada,  United States,  89119",
          " Tico Road,  Titusville,  Florida,  United States,  32927",
          " Tower Access Road,  Melbourne,  Florida,  United States,  32901",
          " Dane Street,  North Hertfordshire,  England,  United Kingdom,  LU2 8PE",
          " Departures,  South San Francisco,  California,  United States,  94128",
          " ,  Waco,  Texas,  United States,  ",
          " North Access Road,  South San Francisco,  California,  United States,  94128",
          " Westchester Parkway,  Los Angeles,  California,  United States,  90293",
          " Airport Road,  Waco,  Texas,  United States,  76708",
          " Clear Lake City Boulevard,  Houston,  Texas,  United States,  77062",
          " Sterile/Lounges Level 5,  Los Angeles,  California,  United States,  90245",
          " Old Bawtry Road,  Doncaster,  England,  United Kingdom,  DN9 3BT",
          " A 8,  Stuttgart,  Baden-Württemberg,  Deutschland,  70599",
          " Melli-Beese-Ring,  ,  Brandenburg,  Deutschland,  12529",
          " Waggumer Straße,  Braunschweig,  Niedersachsen,  Deutschland,  38110",
          " South 170th Street,  SeaTac,  Washington,  United States,  98148",
          " Perimeter Road South,  Seattle,  Washington,  United States,  98108",
          " ,  ,  Idaho,  United States,  ",
          " Aviation Drive,  Pflugerville,  Texas,  United States,  78660",
          " South Vermillion Avenue,  Brownsville,  Texas,  United States,  ",
          " Concourse Level 4,  Los Angeles,  California,  United States,  90245",
          " Lanui Circle,  ,  Hawaii,  United States,  96784",
          " Cargo Lane,  Victorville,  California,  United States,  92301",
          " South Rock Boulevard,  Reno,  Nevada,  United States,  89510",
          " World Way,  Los Angeles,  California,  United States,  90009",
          " Bridle Path,  Melbourne,  Florida,  United States,  32935",
          " Northwest 36th Street,  ,  Florida,  United States,  33142",
          " Northwest 57th Avenue,  ,  Florida,  United States,  33142",
          " Fred Wehran Drive,  Teterboro,  New Jersey,  United States,  07608",
          " Provost Way,  Luton,  England,  United Kingdom,  LU2 9LY",
          " Harry Burrell Boulevard,  Las Cruces,  New Mexico,  United States,  ",
          " Hog Island Road,  Philadelphia,  Pennsylvania,  United States,  19153",
          " Golden Knights Boulevard,  Titusville,  Florida,  United States,  32927",
          " Zaunstraße 1,  Rotberg,  Brandenburg,  Deutschland,  12529",
          " South Minnesota Avenue,  Brownsville,  Texas,  United States,  ",
          " Malcolm Avenue,  Teterboro,  New Jersey,  United States,  07604",
          " West Apron Road,  Orlando,  Florida,  United States,  32862",
          " Zaunstraße 1,  Selchow,  Brandenburg,  Deutschland,  12529",
          " ,  ,  Texas,  United States,  ",
          " Island Avenue,  Philadelphia,  Pennsylvania,  United States,  19153",
          " Grant McConachie Way,  Richmond,  British Columbia,  Canada,  V7B 1W0",
          " A Avenue,  Houston,  Texas,  United States,  77061",
          " Via Dalmazia,  Ciampino,  Lazio,  Italia,  00043",
          " Partenze,  Venezia,  Veneto,  Italia,  ",
          " Rust Avenue,  Westhampton,  New York,  United States,  11978",
          " Ljosheimvegen,  Sola,  ,  Norge,  4050",
          " Post Road,  ,  Rhode Island,  United States,  02886",
          " Herb Kelleher Way,  Dallas,  Texas,  United States,  75235",
          " North Access Road,  ,  California,  United States,  94128",
          " Earhart Road,  Oakland,  California,  United States,  94614",
          " Vassar Street,  Reno,  Nevada,  United States,  89510",
          " ,  Oakland,  California,  United States,  ",
          " Loyola Drive,  Kenner,  Louisiana,  United States,  70062",
          " Edge Light Road,  Dulles Town Center,  Virginia,  United States,  20166",
          " خور العديد,  الدوحة,  ,  قطر,  ",
          " Airport Way,  Luton,  England,  United Kingdom,  LU2 9NE",
          " Edward White Way,  Oakland,  California,  United States,  94614",
          " Airport Boulevard,  ,  California,  United States,  95837",
          " Reservoir Road,  ,  California,  United States,  95837",
          " Vanowen Street,  Los Angeles,  California,  United States,  91515",
          " California Road,  Brownsville,  Texas,  United States,  78521",
          " South Bullard Avenue,  Goodyear,  Arizona,  United States,  85395",
          " Air Cargo Way,  Oakland,  California,  United States,  94614"
         ],
         "type": "scattergeo"
        },
        {
         "hoverinfo": "skip",
         "lat": [
          28.511867,
          34.212077
         ],
         "line": {
          "color": "red",
          "width": 1
         },
         "lon": [
          -80.796692,
          -118.490567
         ],
         "mode": "lines",
         "opacity": 1,
         "type": "scattergeo"
        },
        {
         "hoverinfo": "skip",
         "lat": [
          34.212077,
          33.922545
         ],
         "line": {
          "color": "red",
          "width": 1
         },
         "lon": [
          -118.490567,
          -118.341479
         ],
         "mode": "lines",
         "opacity": 1,
         "type": "scattergeo"
        },
        {
         "hoverinfo": "skip",
         "lat": [
          33.922545,
          28.512198
         ],
         "line": {
          "color": "red",
          "width": 1
         },
         "lon": [
          -118.341479,
          -80.797011
         ],
         "mode": "lines",
         "opacity": 1,
         "type": "scattergeo"
        },
        {
         "hoverinfo": "skip",
         "lat": [
          28.512198,
          33.922737
         ],
         "line": {
          "color": "red",
          "width": 1
         },
         "lon": [
          -80.797011,
          -118.337509
         ],
         "mode": "lines",
         "opacity": 1,
         "type": "scattergeo"
        },
        {
         "hoverinfo": "skip",
         "lat": [
          33.922737,
          28.512428
         ],
         "line": {
          "color": "red",
          "width": 1
         },
         "lon": [
          -118.337509,
          -80.796824
         ],
         "mode": "lines",
         "opacity": 1,
         "type": "scattergeo"
        },
        {
         "hoverinfo": "skip",
         "lat": [
          28.512428,
          34.208632
         ],
         "line": {
          "color": "red",
          "width": 1
         },
         "lon": [
          -80.796824,
          -118.490281
         ],
         "mode": "lines",
         "opacity": 1,
         "type": "scattergeo"
        },
        {
         "hoverinfo": "skip",
         "lat": [
          34.208632,
          33.95074
         ],
         "line": {
          "color": "red",
          "width": 1
         },
         "lon": [
          -118.490281,
          -118.415451
         ],
         "mode": "lines",
         "opacity": 1,
         "type": "scattergeo"
        },
        {
         "hoverinfo": "skip",
         "lat": [
          33.95074,
          34.203117
         ],
         "line": {
          "color": "red",
          "width": 1
         },
         "lon": [
          -118.415451,
          -118.489748
         ],
         "mode": "lines",
         "opacity": 1,
         "type": "scattergeo"
        },
        {
         "hoverinfo": "skip",
         "lat": [
          34.203117,
          37.363311
         ],
         "line": {
          "color": "red",
          "width": 1
         },
         "lon": [
          -118.489748,
          -121.930593
         ],
         "mode": "lines",
         "opacity": 1,
         "type": "scattergeo"
        },
        {
         "hoverinfo": "skip",
         "lat": [
          37.363311,
          33.92272
         ],
         "line": {
          "color": "red",
          "width": 1
         },
         "lon": [
          -121.930593,
          -118.337702
         ],
         "mode": "lines",
         "opacity": 1,
         "type": "scattergeo"
        },
        {
         "hoverinfo": "skip",
         "lat": [
          33.92272,
          37.364822
         ],
         "line": {
          "color": "red",
          "width": 1
         },
         "lon": [
          -118.337702,
          -121.93223
         ],
         "mode": "lines",
         "opacity": 1,
         "type": "scattergeo"
        },
        {
         "hoverinfo": "skip",
         "lat": [
          37.364822,
          34.20671
         ],
         "line": {
          "color": "red",
          "width": 1
         },
         "lon": [
          -121.93223,
          -118.490099
         ],
         "mode": "lines",
         "opacity": 1,
         "type": "scattergeo"
        },
        {
         "hoverinfo": "skip",
         "lat": [
          34.20671,
          33.922771
         ],
         "line": {
          "color": "red",
          "width": 1
         },
         "lon": [
          -118.490099,
          -118.336823
         ],
         "mode": "lines",
         "opacity": 1,
         "type": "scattergeo"
        },
        {
         "hoverinfo": "skip",
         "lat": [
          33.922771,
          34.208911
         ],
         "line": {
          "color": "red",
          "width": 1
         },
         "lon": [
          -118.336823,
          -118.490309
         ],
         "mode": "lines",
         "opacity": 1,
         "type": "scattergeo"
        },
        {
         "hoverinfo": "skip",
         "lat": [
          34.208911,
          33.922782
         ],
         "line": {
          "color": "red",
          "width": 1
         },
         "lon": [
          -118.490309,
          -118.336668
         ],
         "mode": "lines",
         "opacity": 1,
         "type": "scattergeo"
        },
        {
         "hoverinfo": "skip",
         "lat": [
          33.922782,
          25.804673
         ],
         "line": {
          "color": "red",
          "width": 1
         },
         "lon": [
          -118.336668,
          -80.291946
         ],
         "mode": "lines",
         "opacity": 1,
         "type": "scattergeo"
        },
        {
         "hoverinfo": "skip",
         "lat": [
          25.804673,
          33.922657
         ],
         "line": {
          "color": "red",
          "width": 1
         },
         "lon": [
          -80.291946,
          -118.339345
         ],
         "mode": "lines",
         "opacity": 1,
         "type": "scattergeo"
        },
        {
         "hoverinfo": "skip",
         "lat": [
          33.922657,
          30.18988
         ],
         "line": {
          "color": "red",
          "width": 1
         },
         "lon": [
          -118.339345,
          -97.657538
         ],
         "mode": "lines",
         "opacity": 1,
         "type": "scattergeo"
        },
        {
         "hoverinfo": "skip",
         "lat": [
          30.18988,
          33.922522
         ],
         "line": {
          "color": "red",
          "width": 1
         },
         "lon": [
          -97.657538,
          -118.341808
         ],
         "mode": "lines",
         "opacity": 1,
         "type": "scattergeo"
        },
        {
         "hoverinfo": "skip",
         "lat": [
          33.922522,
          37.36576
         ],
         "line": {
          "color": "red",
          "width": 1
         },
         "lon": [
          -118.341808,
          -121.933267
         ],
         "mode": "lines",
         "opacity": 1,
         "type": "scattergeo"
        },
        {
         "hoverinfo": "skip",
         "lat": [
          37.36576,
          33.922714
         ],
         "line": {
          "color": "red",
          "width": 1
         },
         "lon": [
          -121.933267,
          -118.338294
         ],
         "mode": "lines",
         "opacity": 1,
         "type": "scattergeo"
        },
        {
         "hoverinfo": "skip",
         "lat": [
          33.922714,
          37.362663
         ],
         "line": {
          "color": "red",
          "width": 1
         },
         "lon": [
          -118.338294,
          -121.929837
         ],
         "mode": "lines",
         "opacity": 1,
         "type": "scattergeo"
        },
        {
         "hoverinfo": "skip",
         "lat": [
          37.362663,
          34.199101
         ],
         "line": {
          "color": "red",
          "width": 1
         },
         "lon": [
          -121.929837,
          -118.489379
         ],
         "mode": "lines",
         "opacity": 1,
         "type": "scattergeo"
        },
        {
         "hoverinfo": "skip",
         "lat": [
          34.199101,
          33.92258
         ],
         "line": {
          "color": "red",
          "width": 1
         },
         "lon": [
          -118.489379,
          -118.340821
         ],
         "mode": "lines",
         "opacity": 1,
         "type": "scattergeo"
        },
        {
         "hoverinfo": "skip",
         "lat": [
          33.92258,
          37.364192
         ],
         "line": {
          "color": "red",
          "width": 1
         },
         "lon": [
          -118.340821,
          -121.931572
         ],
         "mode": "lines",
         "opacity": 1,
         "type": "scattergeo"
        },
        {
         "hoverinfo": "skip",
         "lat": [
          37.364192,
          33.922828
         ],
         "line": {
          "color": "red",
          "width": 1
         },
         "lon": [
          -121.931572,
          -118.335898
         ],
         "mode": "lines",
         "opacity": 1,
         "type": "scattergeo"
        },
        {
         "hoverinfo": "skip",
         "lat": [
          33.922828,
          37.357051
         ],
         "line": {
          "color": "red",
          "width": 1
         },
         "lon": [
          -118.335898,
          -121.928256
         ],
         "mode": "lines",
         "opacity": 1,
         "type": "scattergeo"
        },
        {
         "hoverinfo": "skip",
         "lat": [
          37.357051,
          34.202615
         ],
         "line": {
          "color": "red",
          "width": 1
         },
         "lon": [
          -121.928256,
          -118.489723
         ],
         "mode": "lines",
         "opacity": 1,
         "type": "scattergeo"
        },
        {
         "hoverinfo": "skip",
         "lat": [
          34.202615,
          33.92286
         ],
         "line": {
          "color": "red",
          "width": 1
         },
         "lon": [
          -118.489723,
          -118.335041
         ],
         "mode": "lines",
         "opacity": 1,
         "type": "scattergeo"
        },
        {
         "hoverinfo": "skip",
         "lat": [
          33.92286,
          34.204994
         ],
         "line": {
          "color": "red",
          "width": 1
         },
         "lon": [
          -118.335041,
          -118.490225
         ],
         "mode": "lines",
         "opacity": 1,
         "type": "scattergeo"
        },
        {
         "hoverinfo": "skip",
         "lat": [
          34.204994,
          39.907997
         ],
         "line": {
          "color": "red",
          "width": 1
         },
         "lon": [
          -118.490225,
          -105.114515
         ],
         "mode": "lines",
         "opacity": 1,
         "type": "scattergeo"
        },
        {
         "hoverinfo": "skip",
         "lat": [
          39.907997,
          34.20235
         ],
         "line": {
          "color": "red",
          "width": 1
         },
         "lon": [
          -105.114515,
          -118.489706
         ],
         "mode": "lines",
         "opacity": 1,
         "type": "scattergeo"
        },
        {
         "hoverinfo": "skip",
         "lat": [
          34.20235,
          33.922557
         ],
         "line": {
          "color": "red",
          "width": 1
         },
         "lon": [
          -118.489706,
          -118.341221
         ],
         "mode": "lines",
         "opacity": 1,
         "type": "scattergeo"
        },
        {
         "hoverinfo": "skip",
         "lat": [
          33.922557,
          34.199111
         ],
         "line": {
          "color": "red",
          "width": 1
         },
         "lon": [
          -118.341221,
          -118.48937
         ],
         "mode": "lines",
         "opacity": 1,
         "type": "scattergeo"
        },
        {
         "hoverinfo": "skip",
         "lat": [
          34.199111,
          33.922702
         ],
         "line": {
          "color": "red",
          "width": 1
         },
         "lon": [
          -118.48937,
          -118.338308
         ],
         "mode": "lines",
         "opacity": 1,
         "type": "scattergeo"
        },
        {
         "hoverinfo": "skip",
         "lat": [
          33.922702,
          34.203243
         ],
         "line": {
          "color": "red",
          "width": 1
         },
         "lon": [
          -118.338308,
          -118.489776
         ],
         "mode": "lines",
         "opacity": 1,
         "type": "scattergeo"
        },
        {
         "hoverinfo": "skip",
         "lat": [
          34.203243,
          33.922565
         ],
         "line": {
          "color": "red",
          "width": 1
         },
         "lon": [
          -118.489776,
          -118.341111
         ],
         "mode": "lines",
         "opacity": 1,
         "type": "scattergeo"
        },
        {
         "hoverinfo": "skip",
         "lat": [
          33.922565,
          34.199077
         ],
         "line": {
          "color": "red",
          "width": 1
         },
         "lon": [
          -118.341111,
          -118.48937
         ],
         "mode": "lines",
         "opacity": 1,
         "type": "scattergeo"
        },
        {
         "hoverinfo": "skip",
         "lat": [
          34.199077,
          33.922766
         ],
         "line": {
          "color": "red",
          "width": 1
         },
         "lon": [
          -118.48937,
          -118.336887
         ],
         "mode": "lines",
         "opacity": 1,
         "type": "scattergeo"
        },
        {
         "hoverinfo": "skip",
         "lat": [
          33.922766,
          37.364398
         ],
         "line": {
          "color": "red",
          "width": 1
         },
         "lon": [
          -118.336887,
          -121.931733
         ],
         "mode": "lines",
         "opacity": 1,
         "type": "scattergeo"
        },
        {
         "hoverinfo": "skip",
         "lat": [
          37.364398,
          33.922771
         ],
         "line": {
          "color": "red",
          "width": 1
         },
         "lon": [
          -121.931733,
          -118.337033
         ],
         "mode": "lines",
         "opacity": 1,
         "type": "scattergeo"
        },
        {
         "hoverinfo": "skip",
         "lat": [
          33.922771,
          37.363952
         ],
         "line": {
          "color": "red",
          "width": 1
         },
         "lon": [
          -118.337033,
          -121.931295
         ],
         "mode": "lines",
         "opacity": 1,
         "type": "scattergeo"
        },
        {
         "hoverinfo": "skip",
         "lat": [
          37.363952,
          28.43082
         ],
         "line": {
          "color": "red",
          "width": 1
         },
         "lon": [
          -121.931295,
          -81.282467
         ],
         "mode": "lines",
         "opacity": 1,
         "type": "scattergeo"
        },
        {
         "hoverinfo": "skip",
         "lat": [
          28.43082,
          33.922588
         ],
         "line": {
          "color": "red",
          "width": 1
         },
         "lon": [
          -81.282467,
          -118.34062
         ],
         "mode": "lines",
         "opacity": 1,
         "type": "scattergeo"
        },
        {
         "hoverinfo": "skip",
         "lat": [
          33.922588,
          33.818583
         ],
         "line": {
          "color": "red",
          "width": 1
         },
         "lon": [
          -118.34062,
          -118.152308
         ],
         "mode": "lines",
         "opacity": 1,
         "type": "scattergeo"
        },
        {
         "hoverinfo": "skip",
         "lat": [
          33.818583,
          37.365956
         ],
         "line": {
          "color": "red",
          "width": 1
         },
         "lon": [
          -118.152308,
          -121.933509
         ],
         "mode": "lines",
         "opacity": 1,
         "type": "scattergeo"
        },
        {
         "hoverinfo": "skip",
         "lat": [
          37.365956,
          33.922851
         ],
         "line": {
          "color": "red",
          "width": 1
         },
         "lon": [
          -121.933509,
          -118.335029
         ],
         "mode": "lines",
         "opacity": 1,
         "type": "scattergeo"
        },
        {
         "hoverinfo": "skip",
         "lat": [
          33.922851,
          37.361545
         ],
         "line": {
          "color": "red",
          "width": 1
         },
         "lon": [
          -118.335029,
          -121.928642
         ],
         "mode": "lines",
         "opacity": 1,
         "type": "scattergeo"
        },
        {
         "hoverinfo": "skip",
         "lat": [
          37.361545,
          34.205758
         ],
         "line": {
          "color": "red",
          "width": 1
         },
         "lon": [
          -121.928642,
          -118.491182
         ],
         "mode": "lines",
         "opacity": 1,
         "type": "scattergeo"
        },
        {
         "hoverinfo": "skip",
         "lat": [
          34.205758,
          33.922805
         ],
         "line": {
          "color": "red",
          "width": 1
         },
         "lon": [
          -118.491182,
          -118.33608
         ],
         "mode": "lines",
         "opacity": 1,
         "type": "scattergeo"
        },
        {
         "hoverinfo": "skip",
         "lat": [
          33.922805,
          34.201606
         ],
         "line": {
          "color": "red",
          "width": 1
         },
         "lon": [
          -118.33608,
          -118.489636
         ],
         "mode": "lines",
         "opacity": 1,
         "type": "scattergeo"
        },
        {
         "hoverinfo": "skip",
         "lat": [
          34.201606,
          38.956541
         ],
         "line": {
          "color": "red",
          "width": 1
         },
         "lon": [
          -118.489636,
          -77.459487
         ],
         "mode": "lines",
         "opacity": 1,
         "type": "scattergeo"
        },
        {
         "hoverinfo": "skip",
         "lat": [
          38.956541,
          33.950744
         ],
         "line": {
          "color": "red",
          "width": 1
         },
         "lon": [
          -77.459487,
          -118.415365
         ],
         "mode": "lines",
         "opacity": 1,
         "type": "scattergeo"
        },
        {
         "hoverinfo": "skip",
         "lat": [
          33.950744,
          38.942687
         ],
         "line": {
          "color": "red",
          "width": 1
         },
         "lon": [
          -118.415365,
          -77.436178
         ],
         "mode": "lines",
         "opacity": 1,
         "type": "scattergeo"
        },
        {
         "hoverinfo": "skip",
         "lat": [
          38.942687,
          30.187786
         ],
         "line": {
          "color": "red",
          "width": 1
         },
         "lon": [
          -77.436178,
          -97.657524
         ],
         "mode": "lines",
         "opacity": 1,
         "type": "scattergeo"
        },
        {
         "hoverinfo": "skip",
         "lat": [
          30.187786,
          34.201091
         ],
         "line": {
          "color": "red",
          "width": 1
         },
         "lon": [
          -97.657524,
          -118.48988
         ],
         "mode": "lines",
         "opacity": 1,
         "type": "scattergeo"
        },
        {
         "hoverinfo": "skip",
         "lat": [
          34.201091,
          33.935801
         ],
         "line": {
          "color": "red",
          "width": 1
         },
         "lon": [
          -118.48988,
          -118.397941
         ],
         "mode": "lines",
         "opacity": 1,
         "type": "scattergeo"
        },
        {
         "hoverinfo": "skip",
         "lat": [
          33.935801,
          34.205886
         ],
         "line": {
          "color": "red",
          "width": 1
         },
         "lon": [
          -118.397941,
          -118.491178
         ],
         "mode": "lines",
         "opacity": 1,
         "type": "scattergeo"
        },
        {
         "hoverinfo": "skip",
         "lat": [
          34.205886,
          33.935789
         ],
         "line": {
          "color": "red",
          "width": 1
         },
         "lon": [
          -118.491178,
          -118.398041
         ],
         "mode": "lines",
         "opacity": 1,
         "type": "scattergeo"
        },
        {
         "hoverinfo": "skip",
         "lat": [
          33.935789,
          37.363265
         ],
         "line": {
          "color": "red",
          "width": 1
         },
         "lon": [
          -118.398041,
          -121.930579
         ],
         "mode": "lines",
         "opacity": 1,
         "type": "scattergeo"
        },
        {
         "hoverinfo": "skip",
         "lat": [
          37.363265,
          34.202705
         ],
         "line": {
          "color": "red",
          "width": 1
         },
         "lon": [
          -121.930579,
          -118.490057
         ],
         "mode": "lines",
         "opacity": 1,
         "type": "scattergeo"
        },
        {
         "hoverinfo": "skip",
         "lat": [
          34.202705,
          28.512361
         ],
         "line": {
          "color": "red",
          "width": 1
         },
         "lon": [
          -118.490057,
          -80.796849
         ],
         "mode": "lines",
         "opacity": 1,
         "type": "scattergeo"
        },
        {
         "hoverinfo": "skip",
         "lat": [
          28.512361,
          33.922782
         ],
         "line": {
          "color": "red",
          "width": 1
         },
         "lon": [
          -80.796849,
          -118.336809
         ],
         "mode": "lines",
         "opacity": 1,
         "type": "scattergeo"
        },
        {
         "hoverinfo": "skip",
         "lat": [
          33.922782,
          28.512233
         ],
         "line": {
          "color": "red",
          "width": 1
         },
         "lon": [
          -118.336809,
          -80.796969
         ],
         "mode": "lines",
         "opacity": 1,
         "type": "scattergeo"
        },
        {
         "hoverinfo": "skip",
         "lat": [
          28.512233,
          34.20606
         ],
         "line": {
          "color": "red",
          "width": 1
         },
         "lon": [
          -80.796969,
          -118.490052
         ],
         "mode": "lines",
         "opacity": 1,
         "type": "scattergeo"
        },
        {
         "hoverinfo": "skip",
         "lat": [
          34.20606,
          37.35909
         ],
         "line": {
          "color": "red",
          "width": 1
         },
         "lon": [
          -118.490052,
          -121.925956
         ],
         "mode": "lines",
         "opacity": 1,
         "type": "scattergeo"
        },
        {
         "hoverinfo": "skip",
         "lat": [
          37.35909,
          34.2033
         ],
         "line": {
          "color": "red",
          "width": 1
         },
         "lon": [
          -121.925956,
          -118.48979
         ],
         "mode": "lines",
         "opacity": 1,
         "type": "scattergeo"
        },
        {
         "hoverinfo": "skip",
         "lat": [
          34.2033,
          33.935755
         ],
         "line": {
          "color": "red",
          "width": 1
         },
         "lon": [
          -118.48979,
          -118.398413
         ],
         "mode": "lines",
         "opacity": 1,
         "type": "scattergeo"
        },
        {
         "hoverinfo": "skip",
         "lat": [
          33.935755,
          28.512245
         ],
         "line": {
          "color": "red",
          "width": 1
         },
         "lon": [
          -118.398413,
          -80.796692
         ],
         "mode": "lines",
         "opacity": 1,
         "type": "scattergeo"
        },
        {
         "hoverinfo": "skip",
         "lat": [
          28.512245,
          34.209285
         ],
         "line": {
          "color": "red",
          "width": 1
         },
         "lon": [
          -80.796692,
          -118.490351
         ],
         "mode": "lines",
         "opacity": 1,
         "type": "scattergeo"
        },
        {
         "hoverinfo": "skip",
         "lat": [
          34.209285,
          33.922691
         ],
         "line": {
          "color": "red",
          "width": 1
         },
         "lon": [
          -118.490351,
          -118.338616
         ],
         "mode": "lines",
         "opacity": 1,
         "type": "scattergeo"
        },
        {
         "hoverinfo": "skip",
         "lat": [
          33.922691,
          34.203826
         ],
         "line": {
          "color": "red",
          "width": 1
         },
         "lon": [
          -118.338616,
          -118.489818
         ],
         "mode": "lines",
         "opacity": 1,
         "type": "scattergeo"
        },
        {
         "hoverinfo": "skip",
         "lat": [
          34.203826,
          33.820632
         ],
         "line": {
          "color": "red",
          "width": 1
         },
         "lon": [
          -118.489818,
          -118.154763
         ],
         "mode": "lines",
         "opacity": 1,
         "type": "scattergeo"
        },
        {
         "hoverinfo": "skip",
         "lat": [
          33.820632,
          33.922771
         ],
         "line": {
          "color": "red",
          "width": 1
         },
         "lon": [
          -118.154763,
          -118.336823
         ],
         "mode": "lines",
         "opacity": 1,
         "type": "scattergeo"
        },
        {
         "hoverinfo": "skip",
         "lat": [
          33.922771,
          37.658817
         ],
         "line": {
          "color": "red",
          "width": 1
         },
         "lon": [
          -118.336823,
          -122.12274
         ],
         "mode": "lines",
         "opacity": 1,
         "type": "scattergeo"
        },
        {
         "hoverinfo": "skip",
         "lat": [
          37.658817,
          33.922709
         ],
         "line": {
          "color": "red",
          "width": 1
         },
         "lon": [
          -122.12274,
          -118.338175
         ],
         "mode": "lines",
         "opacity": 1,
         "type": "scattergeo"
        },
        {
         "hoverinfo": "skip",
         "lat": [
          33.922709,
          37.364711
         ],
         "line": {
          "color": "red",
          "width": 1
         },
         "lon": [
          -118.338175,
          -121.932106
         ],
         "mode": "lines",
         "opacity": 1,
         "type": "scattergeo"
        },
        {
         "hoverinfo": "skip",
         "lat": [
          37.364711,
          33.92272
         ],
         "line": {
          "color": "red",
          "width": 1
         },
         "lon": [
          -121.932106,
          -118.337789
         ],
         "mode": "lines",
         "opacity": 1,
         "type": "scattergeo"
        },
        {
         "hoverinfo": "skip",
         "lat": [
          33.92272,
          37.365292
         ],
         "line": {
          "color": "red",
          "width": 1
         },
         "lon": [
          -118.337789,
          -121.932742
         ],
         "mode": "lines",
         "opacity": 1,
         "type": "scattergeo"
        },
        {
         "hoverinfo": "skip",
         "lat": [
          37.365292,
          39.908375
         ],
         "line": {
          "color": "red",
          "width": 1
         },
         "lon": [
          -121.932742,
          -105.115247
         ],
         "mode": "lines",
         "opacity": 1,
         "type": "scattergeo"
        },
        {
         "hoverinfo": "skip",
         "lat": [
          39.908375,
          30.190865
         ],
         "line": {
          "color": "red",
          "width": 1
         },
         "lon": [
          -105.115247,
          -97.657578
         ],
         "mode": "lines",
         "opacity": 1,
         "type": "scattergeo"
        },
        {
         "hoverinfo": "skip",
         "lat": [
          30.190865,
          36.085602
         ],
         "line": {
          "color": "red",
          "width": 1
         },
         "lon": [
          -97.657578,
          -115.164571
         ],
         "mode": "lines",
         "opacity": 1,
         "type": "scattergeo"
        },
        {
         "hoverinfo": "skip",
         "lat": [
          36.085602,
          37.364754
         ],
         "line": {
          "color": "red",
          "width": 1
         },
         "lon": [
          -115.164571,
          -121.932157
         ],
         "mode": "lines",
         "opacity": 1,
         "type": "scattergeo"
        },
        {
         "hoverinfo": "skip",
         "lat": [
          37.364754,
          33.922674
         ],
         "line": {
          "color": "red",
          "width": 1
         },
         "lon": [
          -121.932157,
          -118.338919
         ],
         "mode": "lines",
         "opacity": 1,
         "type": "scattergeo"
        },
        {
         "hoverinfo": "skip",
         "lat": [
          33.922674,
          37.361616
         ],
         "line": {
          "color": "red",
          "width": 1
         },
         "lon": [
          -118.338919,
          -121.928777
         ],
         "mode": "lines",
         "opacity": 1,
         "type": "scattergeo"
        },
        {
         "hoverinfo": "skip",
         "lat": [
          37.361616,
          33.922657
         ],
         "line": {
          "color": "red",
          "width": 1
         },
         "lon": [
          -121.928777,
          -118.338687
         ],
         "mode": "lines",
         "opacity": 1,
         "type": "scattergeo"
        },
        {
         "hoverinfo": "skip",
         "lat": [
          33.922657,
          28.51609
         ],
         "line": {
          "color": "red",
          "width": 1
         },
         "lon": [
          -118.338687,
          -80.7952
         ],
         "mode": "lines",
         "opacity": 1,
         "type": "scattergeo"
        },
        {
         "hoverinfo": "skip",
         "lat": [
          28.51609,
          33.922657
         ],
         "line": {
          "color": "red",
          "width": 1
         },
         "lon": [
          -80.7952,
          -118.33964
         ],
         "mode": "lines",
         "opacity": 1,
         "type": "scattergeo"
        },
        {
         "hoverinfo": "skip",
         "lat": [
          33.922657,
          28.515804
         ],
         "line": {
          "color": "red",
          "width": 1
         },
         "lon": [
          -118.33964,
          -80.7952
         ],
         "mode": "lines",
         "opacity": 1,
         "type": "scattergeo"
        },
        {
         "hoverinfo": "skip",
         "lat": [
          28.515804,
          33.922726
         ],
         "line": {
          "color": "red",
          "width": 1
         },
         "lon": [
          -80.7952,
          -118.337902
         ],
         "mode": "lines",
         "opacity": 1,
         "type": "scattergeo"
        },
        {
         "hoverinfo": "skip",
         "lat": [
          33.922726,
          28.509716
         ],
         "line": {
          "color": "red",
          "width": 1
         },
         "lon": [
          -118.337902,
          -80.796824
         ],
         "mode": "lines",
         "opacity": 1,
         "type": "scattergeo"
        },
        {
         "hoverinfo": "skip",
         "lat": [
          28.509716,
          28.102375
         ],
         "line": {
          "color": "red",
          "width": 1
         },
         "lon": [
          -80.796824,
          -80.640124
         ],
         "mode": "lines",
         "opacity": 1,
         "type": "scattergeo"
        },
        {
         "hoverinfo": "skip",
         "lat": [
          28.102375,
          33.922829
         ],
         "line": {
          "color": "red",
          "width": 1
         },
         "lon": [
          -80.640124,
          -118.33758
         ],
         "mode": "lines",
         "opacity": 1,
         "type": "scattergeo"
        },
        {
         "hoverinfo": "skip",
         "lat": [
          33.922829,
          28.516842
         ],
         "line": {
          "color": "red",
          "width": 1
         },
         "lon": [
          -118.33758,
          -80.796756
         ],
         "mode": "lines",
         "opacity": 1,
         "type": "scattergeo"
        },
        {
         "hoverinfo": "skip",
         "lat": [
          28.516842,
          33.922779
         ],
         "line": {
          "color": "red",
          "width": 1
         },
         "lon": [
          -80.796756,
          -118.336816
         ],
         "mode": "lines",
         "opacity": 1,
         "type": "scattergeo"
        },
        {
         "hoverinfo": "skip",
         "lat": [
          33.922779,
          51.876183
         ],
         "line": {
          "color": "red",
          "width": 1
         },
         "lon": [
          -118.336816,
          -0.359654
         ],
         "mode": "lines",
         "opacity": 1,
         "type": "scattergeo"
        },
        {
         "hoverinfo": "skip",
         "lat": [
          51.876183,
          37.622269
         ],
         "line": {
          "color": "red",
          "width": 1
         },
         "lon": [
          -0.359654,
          -122.377951
         ],
         "mode": "lines",
         "opacity": 1,
         "type": "scattergeo"
        },
        {
         "hoverinfo": "skip",
         "lat": [
          37.622269,
          33.922767
         ],
         "line": {
          "color": "red",
          "width": 1
         },
         "lon": [
          -122.377951,
          -118.336887
         ],
         "mode": "lines",
         "opacity": 1,
         "type": "scattergeo"
        },
        {
         "hoverinfo": "skip",
         "lat": [
          33.922767,
          37.365212
         ],
         "line": {
          "color": "red",
          "width": 1
         },
         "lon": [
          -118.336887,
          -121.932658
         ],
         "mode": "lines",
         "opacity": 1,
         "type": "scattergeo"
        },
        {
         "hoverinfo": "skip",
         "lat": [
          37.365212,
          33.922767
         ],
         "line": {
          "color": "red",
          "width": 1
         },
         "lon": [
          -121.932658,
          -118.338447
         ],
         "mode": "lines",
         "opacity": 1,
         "type": "scattergeo"
        },
        {
         "hoverinfo": "skip",
         "lat": [
          33.922767,
          31.61878
         ],
         "line": {
          "color": "red",
          "width": 1
         },
         "lon": [
          -118.338447,
          -97.225447
         ],
         "mode": "lines",
         "opacity": 1,
         "type": "scattergeo"
        },
        {
         "hoverinfo": "skip",
         "lat": [
          31.61878,
          33.922779
         ],
         "line": {
          "color": "red",
          "width": 1
         },
         "lon": [
          -97.225447,
          -118.336673
         ],
         "mode": "lines",
         "opacity": 1,
         "type": "scattergeo"
        },
        {
         "hoverinfo": "skip",
         "lat": [
          33.922779,
          37.36584
         ],
         "line": {
          "color": "red",
          "width": 1
         },
         "lon": [
          -118.336673,
          -121.93339
         ],
         "mode": "lines",
         "opacity": 1,
         "type": "scattergeo"
        },
        {
         "hoverinfo": "skip",
         "lat": [
          37.36584,
          33.922767
         ],
         "line": {
          "color": "red",
          "width": 1
         },
         "lon": [
          -121.93339,
          -118.336873
         ],
         "mode": "lines",
         "opacity": 1,
         "type": "scattergeo"
        },
        {
         "hoverinfo": "skip",
         "lat": [
          33.922767,
          37.621563
         ],
         "line": {
          "color": "red",
          "width": 1
         },
         "lon": [
          -118.336873,
          -122.376291
         ],
         "mode": "lines",
         "opacity": 1,
         "type": "scattergeo"
        },
        {
         "hoverinfo": "skip",
         "lat": [
          37.621563,
          34.210774
         ],
         "line": {
          "color": "red",
          "width": 1
         },
         "lon": [
          -122.376291,
          -118.490481
         ],
         "mode": "lines",
         "opacity": 1,
         "type": "scattergeo"
        },
        {
         "hoverinfo": "skip",
         "lat": [
          34.210774,
          37.364365
         ],
         "line": {
          "color": "red",
          "width": 1
         },
         "lon": [
          -118.490481,
          -121.931704
         ],
         "mode": "lines",
         "opacity": 1,
         "type": "scattergeo"
        },
        {
         "hoverinfo": "skip",
         "lat": [
          37.364365,
          33.922737
         ],
         "line": {
          "color": "red",
          "width": 1
         },
         "lon": [
          -121.931704,
          -118.337734
         ],
         "mode": "lines",
         "opacity": 1,
         "type": "scattergeo"
        },
        {
         "hoverinfo": "skip",
         "lat": [
          33.922737,
          37.365945
         ],
         "line": {
          "color": "red",
          "width": 1
         },
         "lon": [
          -118.337734,
          -121.93027
         ],
         "mode": "lines",
         "opacity": 1,
         "type": "scattergeo"
        },
        {
         "hoverinfo": "skip",
         "lat": [
          37.365945,
          33.922794
         ],
         "line": {
          "color": "red",
          "width": 1
         },
         "lon": [
          -121.93027,
          -118.336501
         ],
         "mode": "lines",
         "opacity": 1,
         "type": "scattergeo"
        },
        {
         "hoverinfo": "skip",
         "lat": [
          33.922794,
          37.365805
         ],
         "line": {
          "color": "red",
          "width": 1
         },
         "lon": [
          -118.336501,
          -121.93333
         ],
         "mode": "lines",
         "opacity": 1,
         "type": "scattergeo"
        },
        {
         "hoverinfo": "skip",
         "lat": [
          37.365805,
          33.922546
         ],
         "line": {
          "color": "red",
          "width": 1
         },
         "lon": [
          -121.93333,
          -118.341508
         ],
         "mode": "lines",
         "opacity": 1,
         "type": "scattergeo"
        },
        {
         "hoverinfo": "skip",
         "lat": [
          33.922546,
          37.362442
         ],
         "line": {
          "color": "red",
          "width": 1
         },
         "lon": [
          -118.341508,
          -121.929644
         ],
         "mode": "lines",
         "opacity": 1,
         "type": "scattergeo"
        },
        {
         "hoverinfo": "skip",
         "lat": [
          37.362442,
          33.948406
         ],
         "line": {
          "color": "red",
          "width": 1
         },
         "lon": [
          -121.929644,
          -118.419385
         ],
         "mode": "lines",
         "opacity": 1,
         "type": "scattergeo"
        },
        {
         "hoverinfo": "skip",
         "lat": [
          33.948406,
          37.3652
         ],
         "line": {
          "color": "red",
          "width": 1
         },
         "lon": [
          -118.419385,
          -121.932673
         ],
         "mode": "lines",
         "opacity": 1,
         "type": "scattergeo"
        },
        {
         "hoverinfo": "skip",
         "lat": [
          37.3652,
          33.922418
         ],
         "line": {
          "color": "red",
          "width": 1
         },
         "lon": [
          -121.932673,
          -118.34188
         ],
         "mode": "lines",
         "opacity": 1,
         "type": "scattergeo"
        },
        {
         "hoverinfo": "skip",
         "lat": [
          33.922418,
          30.194026
         ],
         "line": {
          "color": "red",
          "width": 1
         },
         "lon": [
          -118.34188,
          -97.673511
         ],
         "mode": "lines",
         "opacity": 1,
         "type": "scattergeo"
        },
        {
         "hoverinfo": "skip",
         "lat": [
          30.194026,
          33.922668
         ],
         "line": {
          "color": "red",
          "width": 1
         },
         "lon": [
          -97.673511,
          -118.338897
         ],
         "mode": "lines",
         "opacity": 1,
         "type": "scattergeo"
        },
        {
         "hoverinfo": "skip",
         "lat": [
          33.922668,
          31.611576
         ],
         "line": {
          "color": "red",
          "width": 1
         },
         "lon": [
          -118.338897,
          -97.227576
         ],
         "mode": "lines",
         "opacity": 1,
         "type": "scattergeo"
        },
        {
         "hoverinfo": "skip",
         "lat": [
          31.611576,
          37.364937
         ],
         "line": {
          "color": "red",
          "width": 1
         },
         "lon": [
          -97.227576,
          -121.932362
         ],
         "mode": "lines",
         "opacity": 1,
         "type": "scattergeo"
        },
        {
         "hoverinfo": "skip",
         "lat": [
          37.364937,
          33.922783
         ],
         "line": {
          "color": "red",
          "width": 1
         },
         "lon": [
          -121.932362,
          -118.336655
         ],
         "mode": "lines",
         "opacity": 1,
         "type": "scattergeo"
        },
        {
         "hoverinfo": "skip",
         "lat": [
          33.922783,
          37.364113
         ],
         "line": {
          "color": "red",
          "width": 1
         },
         "lon": [
          -118.336655,
          -121.9315
         ],
         "mode": "lines",
         "opacity": 1,
         "type": "scattergeo"
        },
        {
         "hoverinfo": "skip",
         "lat": [
          37.364113,
          33.935886
         ],
         "line": {
          "color": "red",
          "width": 1
         },
         "lon": [
          -121.9315,
          -118.397122
         ],
         "mode": "lines",
         "opacity": 1,
         "type": "scattergeo"
        },
        {
         "hoverinfo": "skip",
         "lat": [
          33.935886,
          31.613299
         ],
         "line": {
          "color": "red",
          "width": 1
         },
         "lon": [
          -118.397122,
          -97.227068
         ],
         "mode": "lines",
         "opacity": 1,
         "type": "scattergeo"
        },
        {
         "hoverinfo": "skip",
         "lat": [
          31.613299,
          33.922755
         ],
         "line": {
          "color": "red",
          "width": 1
         },
         "lon": [
          -97.227068,
          -118.336945
         ],
         "mode": "lines",
         "opacity": 1,
         "type": "scattergeo"
        },
        {
         "hoverinfo": "skip",
         "lat": [
          33.922755,
          29.604384
         ],
         "line": {
          "color": "red",
          "width": 1
         },
         "lon": [
          -118.336945,
          -95.164086
         ],
         "mode": "lines",
         "opacity": 1,
         "type": "scattergeo"
        },
        {
         "hoverinfo": "skip",
         "lat": [
          29.604384,
          31.616627
         ],
         "line": {
          "color": "red",
          "width": 1
         },
         "lon": [
          -95.164086,
          -97.226093
         ],
         "mode": "lines",
         "opacity": 1,
         "type": "scattergeo"
        },
        {
         "hoverinfo": "skip",
         "lat": [
          31.616627,
          37.363536
         ],
         "line": {
          "color": "red",
          "width": 1
         },
         "lon": [
          -97.226093,
          -121.930837
         ],
         "mode": "lines",
         "opacity": 1,
         "type": "scattergeo"
        },
        {
         "hoverinfo": "skip",
         "lat": [
          37.363536,
          33.922668
         ],
         "line": {
          "color": "red",
          "width": 1
         },
         "lon": [
          -121.930837,
          -118.339135
         ],
         "mode": "lines",
         "opacity": 1,
         "type": "scattergeo"
        },
        {
         "hoverinfo": "skip",
         "lat": [
          33.922668,
          37.364362
         ],
         "line": {
          "color": "red",
          "width": 1
         },
         "lon": [
          -118.339135,
          -121.931733
         ],
         "mode": "lines",
         "opacity": 1,
         "type": "scattergeo"
        },
        {
         "hoverinfo": "skip",
         "lat": [
          37.364362,
          33.922814
         ],
         "line": {
          "color": "red",
          "width": 1
         },
         "lon": [
          -121.931733,
          -118.336101
         ],
         "mode": "lines",
         "opacity": 1,
         "type": "scattergeo"
        },
        {
         "hoverinfo": "skip",
         "lat": [
          33.922814,
          37.365955
         ],
         "line": {
          "color": "red",
          "width": 1
         },
         "lon": [
          -118.336101,
          -121.933501
         ],
         "mode": "lines",
         "opacity": 1,
         "type": "scattergeo"
        },
        {
         "hoverinfo": "skip",
         "lat": [
          37.365955,
          33.922783
         ],
         "line": {
          "color": "red",
          "width": 1
         },
         "lon": [
          -121.933501,
          -118.336431
         ],
         "mode": "lines",
         "opacity": 1,
         "type": "scattergeo"
        },
        {
         "hoverinfo": "skip",
         "lat": [
          33.922783,
          37.365084
         ],
         "line": {
          "color": "red",
          "width": 1
         },
         "lon": [
          -118.336431,
          -121.932509
         ],
         "mode": "lines",
         "opacity": 1,
         "type": "scattergeo"
        },
        {
         "hoverinfo": "skip",
         "lat": [
          37.365084,
          33.948394
         ],
         "line": {
          "color": "red",
          "width": 1
         },
         "lon": [
          -121.932509,
          -118.419414
         ],
         "mode": "lines",
         "opacity": 1,
         "type": "scattergeo"
        },
        {
         "hoverinfo": "skip",
         "lat": [
          33.948394,
          37.364723
         ],
         "line": {
          "color": "red",
          "width": 1
         },
         "lon": [
          -118.419414,
          -121.932121
         ],
         "mode": "lines",
         "opacity": 1,
         "type": "scattergeo"
        },
        {
         "hoverinfo": "skip",
         "lat": [
          37.364723,
          33.922771
         ],
         "line": {
          "color": "red",
          "width": 1
         },
         "lon": [
          -121.932121,
          -118.336837
         ],
         "mode": "lines",
         "opacity": 1,
         "type": "scattergeo"
        },
        {
         "hoverinfo": "skip",
         "lat": [
          33.922771,
          30.188702
         ],
         "line": {
          "color": "red",
          "width": 1
         },
         "lon": [
          -118.336837,
          -97.658777
         ],
         "mode": "lines",
         "opacity": 1,
         "type": "scattergeo"
        },
        {
         "hoverinfo": "skip",
         "lat": [
          30.188702,
          37.367609
         ],
         "line": {
          "color": "red",
          "width": 1
         },
         "lon": [
          -97.658777,
          -121.93533
         ],
         "mode": "lines",
         "opacity": 1,
         "type": "scattergeo"
        },
        {
         "hoverinfo": "skip",
         "lat": [
          37.367609,
          33.948704
         ],
         "line": {
          "color": "red",
          "width": 1
         },
         "lon": [
          -121.93533,
          -118.416376
         ],
         "mode": "lines",
         "opacity": 1,
         "type": "scattergeo"
        },
        {
         "hoverinfo": "skip",
         "lat": [
          33.948704,
          53.480386
         ],
         "line": {
          "color": "red",
          "width": 1
         },
         "lon": [
          -118.416376,
          -1.001392
         ],
         "mode": "lines",
         "opacity": 1,
         "type": "scattergeo"
        },
        {
         "hoverinfo": "skip",
         "lat": [
          53.480386,
          48.692219
         ],
         "line": {
          "color": "red",
          "width": 1
         },
         "lon": [
          -1.001392,
          9.230347
         ],
         "mode": "lines",
         "opacity": 1,
         "type": "scattergeo"
        },
        {
         "hoverinfo": "skip",
         "lat": [
          48.692219,
          52.372513
         ],
         "line": {
          "color": "red",
          "width": 1
         },
         "lon": [
          9.230347,
          13.505402
         ],
         "mode": "lines",
         "opacity": 1,
         "type": "scattergeo"
        },
        {
         "hoverinfo": "skip",
         "lat": [
          52.372513,
          52.319036
         ],
         "line": {
          "color": "red",
          "width": 1
         },
         "lon": [
          13.505402,
          10.552917
         ],
         "mode": "lines",
         "opacity": 1,
         "type": "scattergeo"
        },
        {
         "hoverinfo": "skip",
         "lat": [
          52.319036,
          47.453792
         ],
         "line": {
          "color": "red",
          "width": 1
         },
         "lon": [
          10.552917,
          -122.317957
         ],
         "mode": "lines",
         "opacity": 1,
         "type": "scattergeo"
        },
        {
         "hoverinfo": "skip",
         "lat": [
          47.453792,
          33.948708
         ],
         "line": {
          "color": "red",
          "width": 1
         },
         "lon": [
          -122.317957,
          -118.416367
         ],
         "mode": "lines",
         "opacity": 1,
         "type": "scattergeo"
        },
        {
         "hoverinfo": "skip",
         "lat": [
          33.948708,
          47.528973
         ],
         "line": {
          "color": "red",
          "width": 1
         },
         "lon": [
          -118.416367,
          -122.301573
         ],
         "mode": "lines",
         "opacity": 1,
         "type": "scattergeo"
        },
        {
         "hoverinfo": "skip",
         "lat": [
          47.528973,
          47.776178
         ],
         "line": {
          "color": "red",
          "width": 1
         },
         "lon": [
          -122.301573,
          -116.819687
         ],
         "mode": "lines",
         "opacity": 1,
         "type": "scattergeo"
        },
        {
         "hoverinfo": "skip",
         "lat": [
          47.776178,
          33.922726
         ],
         "line": {
          "color": "red",
          "width": 1
         },
         "lon": [
          -116.819687,
          -118.337804
         ],
         "mode": "lines",
         "opacity": 1,
         "type": "scattergeo"
        },
        {
         "hoverinfo": "skip",
         "lat": [
          33.922726,
          30.398472
         ],
         "line": {
          "color": "red",
          "width": 1
         },
         "lon": [
          -118.337804,
          -97.566765
         ],
         "mode": "lines",
         "opacity": 1,
         "type": "scattergeo"
        },
        {
         "hoverinfo": "skip",
         "lat": [
          30.398472,
          37.364176
         ],
         "line": {
          "color": "red",
          "width": 1
         },
         "lon": [
          -97.566765,
          -121.931539
         ],
         "mode": "lines",
         "opacity": 1,
         "type": "scattergeo"
        },
        {
         "hoverinfo": "skip",
         "lat": [
          37.364176,
          33.922779
         ],
         "line": {
          "color": "red",
          "width": 1
         },
         "lon": [
          -121.931539,
          -118.336544
         ],
         "mode": "lines",
         "opacity": 1,
         "type": "scattergeo"
        },
        {
         "hoverinfo": "skip",
         "lat": [
          33.922779,
          30.399662
         ],
         "line": {
          "color": "red",
          "width": 1
         },
         "lon": [
          -118.336544,
          -97.568314
         ],
         "mode": "lines",
         "opacity": 1,
         "type": "scattergeo"
        },
        {
         "hoverinfo": "skip",
         "lat": [
          30.399662,
          37.367512
         ],
         "line": {
          "color": "red",
          "width": 1
         },
         "lon": [
          -97.568314,
          -121.935196
         ],
         "mode": "lines",
         "opacity": 1,
         "type": "scattergeo"
        },
        {
         "hoverinfo": "skip",
         "lat": [
          37.367512,
          34.204788
         ],
         "line": {
          "color": "red",
          "width": 1
         },
         "lon": [
          -121.935196,
          -118.489903
         ],
         "mode": "lines",
         "opacity": 1,
         "type": "scattergeo"
        },
        {
         "hoverinfo": "skip",
         "lat": [
          34.204788,
          33.92279
         ],
         "line": {
          "color": "red",
          "width": 1
         },
         "lon": [
          -118.489903,
          -118.336501
         ],
         "mode": "lines",
         "opacity": 1,
         "type": "scattergeo"
        },
        {
         "hoverinfo": "skip",
         "lat": [
          33.92279,
          30.191082
         ],
         "line": {
          "color": "red",
          "width": 1
         },
         "lon": [
          -118.336501,
          -97.659679
         ],
         "mode": "lines",
         "opacity": 1,
         "type": "scattergeo"
        },
        {
         "hoverinfo": "skip",
         "lat": [
          30.191082,
          31.612656
         ],
         "line": {
          "color": "red",
          "width": 1
         },
         "lon": [
          -97.659679,
          -97.227281
         ],
         "mode": "lines",
         "opacity": 1,
         "type": "scattergeo"
        },
        {
         "hoverinfo": "skip",
         "lat": [
          31.612656,
          33.922779
         ],
         "line": {
          "color": "red",
          "width": 1
         },
         "lon": [
          -97.227281,
          -118.336716
         ],
         "mode": "lines",
         "opacity": 1,
         "type": "scattergeo"
        },
        {
         "hoverinfo": "skip",
         "lat": [
          33.922779,
          28.516888
         ],
         "line": {
          "color": "red",
          "width": 1
         },
         "lon": [
          -118.336716,
          -80.796783
         ],
         "mode": "lines",
         "opacity": 1,
         "type": "scattergeo"
        },
        {
         "hoverinfo": "skip",
         "lat": [
          28.516888,
          37.366802
         ],
         "line": {
          "color": "red",
          "width": 1
         },
         "lon": [
          -80.796783,
          -121.934436
         ],
         "mode": "lines",
         "opacity": 1,
         "type": "scattergeo"
        },
        {
         "hoverinfo": "skip",
         "lat": [
          37.366802,
          33.935921
         ],
         "line": {
          "color": "red",
          "width": 1
         },
         "lon": [
          -121.934436,
          -118.396715
         ],
         "mode": "lines",
         "opacity": 1,
         "type": "scattergeo"
        },
        {
         "hoverinfo": "skip",
         "lat": [
          33.935921,
          28.511977
         ],
         "line": {
          "color": "red",
          "width": 1
         },
         "lon": [
          -118.396715,
          -80.796688
         ],
         "mode": "lines",
         "opacity": 1,
         "type": "scattergeo"
        },
        {
         "hoverinfo": "skip",
         "lat": [
          28.511977,
          25.900875
         ],
         "line": {
          "color": "red",
          "width": 1
         },
         "lon": [
          -80.796688,
          -97.418285
         ],
         "mode": "lines",
         "opacity": 1,
         "type": "scattergeo"
        },
        {
         "hoverinfo": "skip",
         "lat": [
          25.900875,
          33.922623
         ],
         "line": {
          "color": "red",
          "width": 1
         },
         "lon": [
          -97.418285,
          -118.339682
         ],
         "mode": "lines",
         "opacity": 1,
         "type": "scattergeo"
        },
        {
         "hoverinfo": "skip",
         "lat": [
          33.922623,
          25.904097
         ],
         "line": {
          "color": "red",
          "width": 1
         },
         "lon": [
          -118.339682,
          -97.421806
         ],
         "mode": "lines",
         "opacity": 1,
         "type": "scattergeo"
        },
        {
         "hoverinfo": "skip",
         "lat": [
          25.904097,
          37.366081
         ],
         "line": {
          "color": "red",
          "width": 1
         },
         "lon": [
          -97.421806,
          -121.933633
         ],
         "mode": "lines",
         "opacity": 1,
         "type": "scattergeo"
        },
        {
         "hoverinfo": "skip",
         "lat": [
          37.366081,
          33.948418
         ],
         "line": {
          "color": "red",
          "width": 1
         },
         "lon": [
          -121.933633,
          -118.419235
         ],
         "mode": "lines",
         "opacity": 1,
         "type": "scattergeo"
        },
        {
         "hoverinfo": "skip",
         "lat": [
          33.948418,
          30.188719
         ],
         "line": {
          "color": "red",
          "width": 1
         },
         "lon": [
          -118.419235,
          -97.659627
         ],
         "mode": "lines",
         "opacity": 1,
         "type": "scattergeo"
        },
        {
         "hoverinfo": "skip",
         "lat": [
          30.188719,
          37.365712
         ],
         "line": {
          "color": "red",
          "width": 1
         },
         "lon": [
          -97.659627,
          -121.933226
         ],
         "mode": "lines",
         "opacity": 1,
         "type": "scattergeo"
        },
        {
         "hoverinfo": "skip",
         "lat": [
          37.365712,
          33.922686
         ],
         "line": {
          "color": "red",
          "width": 1
         },
         "lon": [
          -121.933226,
          -118.338618
         ],
         "mode": "lines",
         "opacity": 1,
         "type": "scattergeo"
        },
        {
         "hoverinfo": "skip",
         "lat": [
          33.922686,
          30.39661
         ],
         "line": {
          "color": "red",
          "width": 1
         },
         "lon": [
          -118.338618,
          -97.564293
         ],
         "mode": "lines",
         "opacity": 1,
         "type": "scattergeo"
        },
        {
         "hoverinfo": "skip",
         "lat": [
          30.39661,
          33.935871
         ],
         "line": {
          "color": "red",
          "width": 1
         },
         "lon": [
          -97.564293,
          -118.397341
         ],
         "mode": "lines",
         "opacity": 1,
         "type": "scattergeo"
        },
        {
         "hoverinfo": "skip",
         "lat": [
          33.935871,
          37.367155
         ],
         "line": {
          "color": "red",
          "width": 1
         },
         "lon": [
          -118.397341,
          -121.934823
         ],
         "mode": "lines",
         "opacity": 1,
         "type": "scattergeo"
        },
        {
         "hoverinfo": "skip",
         "lat": [
          37.367155,
          33.935813
         ],
         "line": {
          "color": "red",
          "width": 1
         },
         "lon": [
          -121.934823,
          -118.397899
         ],
         "mode": "lines",
         "opacity": 1,
         "type": "scattergeo"
        },
        {
         "hoverinfo": "skip",
         "lat": [
          33.935813,
          30.198521
         ],
         "line": {
          "color": "red",
          "width": 1
         },
         "lon": [
          -118.397899,
          -97.659032
         ],
         "mode": "lines",
         "opacity": 1,
         "type": "scattergeo"
        },
        {
         "hoverinfo": "skip",
         "lat": [
          30.198521,
          52.373258
         ],
         "line": {
          "color": "red",
          "width": 1
         },
         "lon": [
          -97.659032,
          13.508377
         ],
         "mode": "lines",
         "opacity": 1,
         "type": "scattergeo"
        },
        {
         "hoverinfo": "skip",
         "lat": [
          52.373258,
          30.194049
         ],
         "line": {
          "color": "red",
          "width": 1
         },
         "lon": [
          13.508377,
          -97.673483
         ],
         "mode": "lines",
         "opacity": 1,
         "type": "scattergeo"
        },
        {
         "hoverinfo": "skip",
         "lat": [
          30.194049,
          33.922714
         ],
         "line": {
          "color": "red",
          "width": 1
         },
         "lon": [
          -97.673483,
          -118.338154
         ],
         "mode": "lines",
         "opacity": 1,
         "type": "scattergeo"
        },
        {
         "hoverinfo": "skip",
         "lat": [
          33.922714,
          37.366364
         ],
         "line": {
          "color": "red",
          "width": 1
         },
         "lon": [
          -118.338154,
          -121.933927
         ],
         "mode": "lines",
         "opacity": 1,
         "type": "scattergeo"
        },
        {
         "hoverinfo": "skip",
         "lat": [
          37.366364,
          33.922703
         ],
         "line": {
          "color": "red",
          "width": 1
         },
         "lon": [
          -121.933927,
          -118.338168
         ],
         "mode": "lines",
         "opacity": 1,
         "type": "scattergeo"
        },
        {
         "hoverinfo": "skip",
         "lat": [
          33.922703,
          39.906601
         ],
         "line": {
          "color": "red",
          "width": 1
         },
         "lon": [
          -118.338168,
          -105.111873
         ],
         "mode": "lines",
         "opacity": 1,
         "type": "scattergeo"
        },
        {
         "hoverinfo": "skip",
         "lat": [
          39.906601,
          30.194252
         ],
         "line": {
          "color": "red",
          "width": 1
         },
         "lon": [
          -105.111873,
          -97.658952
         ],
         "mode": "lines",
         "opacity": 1,
         "type": "scattergeo"
        },
        {
         "hoverinfo": "skip",
         "lat": [
          30.194252,
          25.904068
         ],
         "line": {
          "color": "red",
          "width": 1
         },
         "lon": [
          -97.658952,
          -97.421731
         ],
         "mode": "lines",
         "opacity": 1,
         "type": "scattergeo"
        },
        {
         "hoverinfo": "skip",
         "lat": [
          25.904068,
          33.922755
         ],
         "line": {
          "color": "red",
          "width": 1
         },
         "lon": [
          -97.421731,
          -118.337045
         ],
         "mode": "lines",
         "opacity": 1,
         "type": "scattergeo"
        },
        {
         "hoverinfo": "skip",
         "lat": [
          33.922755,
          25.903736
         ],
         "line": {
          "color": "red",
          "width": 1
         },
         "lon": [
          -118.337045,
          -97.421394
         ],
         "mode": "lines",
         "opacity": 1,
         "type": "scattergeo"
        },
        {
         "hoverinfo": "skip",
         "lat": [
          25.903736,
          30.191477
         ],
         "line": {
          "color": "red",
          "width": 1
         },
         "lon": [
          -97.421394,
          -97.659695
         ],
         "mode": "lines",
         "opacity": 1,
         "type": "scattergeo"
        },
        {
         "hoverinfo": "skip",
         "lat": [
          30.191477,
          33.922686
         ],
         "line": {
          "color": "red",
          "width": 1
         },
         "lon": [
          -97.659695,
          -118.338718
         ],
         "mode": "lines",
         "opacity": 1,
         "type": "scattergeo"
        },
        {
         "hoverinfo": "skip",
         "lat": [
          33.922686,
          30.194103
         ],
         "line": {
          "color": "red",
          "width": 1
         },
         "lon": [
          -118.338718,
          -97.658911
         ],
         "mode": "lines",
         "opacity": 1,
         "type": "scattergeo"
        },
        {
         "hoverinfo": "skip",
         "lat": [
          30.194103,
          52.373071
         ],
         "line": {
          "color": "red",
          "width": 1
         },
         "lon": [
          -97.658911,
          13.50769
         ],
         "mode": "lines",
         "opacity": 1,
         "type": "scattergeo"
        },
        {
         "hoverinfo": "skip",
         "lat": [
          52.373071,
          37.619643
         ],
         "line": {
          "color": "red",
          "width": 1
         },
         "lon": [
          13.50769,
          -122.377261
         ],
         "mode": "lines",
         "opacity": 1,
         "type": "scattergeo"
        },
        {
         "hoverinfo": "skip",
         "lat": [
          37.619643,
          37.364746
         ],
         "line": {
          "color": "red",
          "width": 1
         },
         "lon": [
          -122.377261,
          -121.932151
         ],
         "mode": "lines",
         "opacity": 1,
         "type": "scattergeo"
        },
        {
         "hoverinfo": "skip",
         "lat": [
          37.364746,
          33.922686
         ],
         "line": {
          "color": "red",
          "width": 1
         },
         "lon": [
          -121.932151,
          -118.338704
         ],
         "mode": "lines",
         "opacity": 1,
         "type": "scattergeo"
        },
        {
         "hoverinfo": "skip",
         "lat": [
          33.922686,
          25.906798
         ],
         "line": {
          "color": "red",
          "width": 1
         },
         "lon": [
          -118.338704,
          -97.424737
         ],
         "mode": "lines",
         "opacity": 1,
         "type": "scattergeo"
        },
        {
         "hoverinfo": "skip",
         "lat": [
          25.906798,
          30.191391
         ],
         "line": {
          "color": "red",
          "width": 1
         },
         "lon": [
          -97.424737,
          -97.657578
         ],
         "mode": "lines",
         "opacity": 1,
         "type": "scattergeo"
        },
        {
         "hoverinfo": "skip",
         "lat": [
          30.191391,
          25.904217
         ],
         "line": {
          "color": "red",
          "width": 1
         },
         "lon": [
          -97.657578,
          -97.421938
         ],
         "mode": "lines",
         "opacity": 1,
         "type": "scattergeo"
        },
        {
         "hoverinfo": "skip",
         "lat": [
          25.904217,
          33.922737
         ],
         "line": {
          "color": "red",
          "width": 1
         },
         "lon": [
          -97.421938,
          -118.337678
         ],
         "mode": "lines",
         "opacity": 1,
         "type": "scattergeo"
        },
        {
         "hoverinfo": "skip",
         "lat": [
          33.922737,
          30.190569
         ],
         "line": {
          "color": "red",
          "width": 1
         },
         "lon": [
          -118.337678,
          -97.657553
         ],
         "mode": "lines",
         "opacity": 1,
         "type": "scattergeo"
        },
        {
         "hoverinfo": "skip",
         "lat": [
          30.190569,
          33.922806
         ],
         "line": {
          "color": "red",
          "width": 1
         },
         "lon": [
          -97.657553,
          -118.336193
         ],
         "mode": "lines",
         "opacity": 1,
         "type": "scattergeo"
        },
        {
         "hoverinfo": "skip",
         "lat": [
          33.922806,
          30.193176
         ],
         "line": {
          "color": "red",
          "width": 1
         },
         "lon": [
          -118.336193,
          -97.657619
         ],
         "mode": "lines",
         "opacity": 1,
         "type": "scattergeo"
        },
        {
         "hoverinfo": "skip",
         "lat": [
          30.193176,
          25.903645
         ],
         "line": {
          "color": "red",
          "width": 1
         },
         "lon": [
          -97.657619,
          -97.421304
         ],
         "mode": "lines",
         "opacity": 1,
         "type": "scattergeo"
        },
        {
         "hoverinfo": "skip",
         "lat": [
          25.903645,
          30.191535
         ],
         "line": {
          "color": "red",
          "width": 1
         },
         "lon": [
          -97.421304,
          -97.657594
         ],
         "mode": "lines",
         "opacity": 1,
         "type": "scattergeo"
        },
        {
         "hoverinfo": "skip",
         "lat": [
          30.191535,
          33.922726
         ],
         "line": {
          "color": "red",
          "width": 1
         },
         "lon": [
          -97.657594,
          -118.337762
         ],
         "mode": "lines",
         "opacity": 1,
         "type": "scattergeo"
        },
        {
         "hoverinfo": "skip",
         "lat": [
          33.922726,
          30.191483
         ],
         "line": {
          "color": "red",
          "width": 1
         },
         "lon": [
          -118.337762,
          -97.657578
         ],
         "mode": "lines",
         "opacity": 1,
         "type": "scattergeo"
        },
        {
         "hoverinfo": "skip",
         "lat": [
          30.191483,
          39.907871
         ],
         "line": {
          "color": "red",
          "width": 1
         },
         "lon": [
          -97.657578,
          -105.114277
         ],
         "mode": "lines",
         "opacity": 1,
         "type": "scattergeo"
        },
        {
         "hoverinfo": "skip",
         "lat": [
          39.907871,
          20.897713
         ],
         "line": {
          "color": "red",
          "width": 1
         },
         "lon": [
          -105.114277,
          -156.431334
         ],
         "mode": "lines",
         "opacity": 1,
         "type": "scattergeo"
        },
        {
         "hoverinfo": "skip",
         "lat": [
          20.897713,
          37.364914
         ],
         "line": {
          "color": "red",
          "width": 1
         },
         "lon": [
          -156.431334,
          -121.932289
         ],
         "mode": "lines",
         "opacity": 1,
         "type": "scattergeo"
        },
        {
         "hoverinfo": "skip",
         "lat": [
          37.364914,
          33.922744
         ],
         "line": {
          "color": "red",
          "width": 1
         },
         "lon": [
          -121.932289,
          -118.337646
         ],
         "mode": "lines",
         "opacity": 1,
         "type": "scattergeo"
        },
        {
         "hoverinfo": "skip",
         "lat": [
          33.922744,
          30.190613
         ],
         "line": {
          "color": "red",
          "width": 1
         },
         "lon": [
          -118.337646,
          -97.657578
         ],
         "mode": "lines",
         "opacity": 1,
         "type": "scattergeo"
        },
        {
         "hoverinfo": "skip",
         "lat": [
          30.190613,
          37.364685
         ],
         "line": {
          "color": "red",
          "width": 1
         },
         "lon": [
          -97.657578,
          -121.932084
         ],
         "mode": "lines",
         "opacity": 1,
         "type": "scattergeo"
        },
        {
         "hoverinfo": "skip",
         "lat": [
          37.364685,
          33.948301
         ],
         "line": {
          "color": "red",
          "width": 1
         },
         "lon": [
          -121.932084,
          -118.420358
         ],
         "mode": "lines",
         "opacity": 1,
         "type": "scattergeo"
        },
        {
         "hoverinfo": "skip",
         "lat": [
          33.948301,
          30.192106
         ],
         "line": {
          "color": "red",
          "width": 1
         },
         "lon": [
          -118.420358,
          -97.657581
         ],
         "mode": "lines",
         "opacity": 1,
         "type": "scattergeo"
        },
        {
         "hoverinfo": "skip",
         "lat": [
          30.192106,
          37.365681
         ],
         "line": {
          "color": "red",
          "width": 1
         },
         "lon": [
          -97.657581,
          -121.933165
         ],
         "mode": "lines",
         "opacity": 1,
         "type": "scattergeo"
        },
        {
         "hoverinfo": "skip",
         "lat": [
          37.365681,
          33.92272
         ],
         "line": {
          "color": "red",
          "width": 1
         },
         "lon": [
          -121.933165,
          -118.337932
         ],
         "mode": "lines",
         "opacity": 1,
         "type": "scattergeo"
        },
        {
         "hoverinfo": "skip",
         "lat": [
          33.92272,
          34.585625
         ],
         "line": {
          "color": "red",
          "width": 1
         },
         "lon": [
          -118.337932,
          -117.384095
         ],
         "mode": "lines",
         "opacity": 1,
         "type": "scattergeo"
        },
        {
         "hoverinfo": "skip",
         "lat": [
          34.585625,
          36.085549
         ],
         "line": {
          "color": "red",
          "width": 1
         },
         "lon": [
          -117.384095,
          -115.164535
         ],
         "mode": "lines",
         "opacity": 1,
         "type": "scattergeo"
        },
        {
         "hoverinfo": "skip",
         "lat": [
          36.085549,
          33.93579
         ],
         "line": {
          "color": "red",
          "width": 1
         },
         "lon": [
          -115.164535,
          -118.398199
         ],
         "mode": "lines",
         "opacity": 1,
         "type": "scattergeo"
        },
        {
         "hoverinfo": "skip",
         "lat": [
          33.93579,
          25.905521
         ],
         "line": {
          "color": "red",
          "width": 1
         },
         "lon": [
          -118.398199,
          -97.423325
         ],
         "mode": "lines",
         "opacity": 1,
         "type": "scattergeo"
        },
        {
         "hoverinfo": "skip",
         "lat": [
          25.905521,
          30.191448
         ],
         "line": {
          "color": "red",
          "width": 1
         },
         "lon": [
          -97.423325,
          -97.657578
         ],
         "mode": "lines",
         "opacity": 1,
         "type": "scattergeo"
        },
        {
         "hoverinfo": "skip",
         "lat": [
          30.191448,
          33.922732
         ],
         "line": {
          "color": "red",
          "width": 1
         },
         "lon": [
          -97.657578,
          -118.337703
         ],
         "mode": "lines",
         "opacity": 1,
         "type": "scattergeo"
        },
        {
         "hoverinfo": "skip",
         "lat": [
          33.922732,
          39.500816
         ],
         "line": {
          "color": "red",
          "width": 1
         },
         "lon": [
          -118.337703,
          -119.766814
         ],
         "mode": "lines",
         "opacity": 1,
         "type": "scattergeo"
        },
        {
         "hoverinfo": "skip",
         "lat": [
          39.500816,
          25.903667
         ],
         "line": {
          "color": "red",
          "width": 1
         },
         "lon": [
          -119.766814,
          -97.421317
         ],
         "mode": "lines",
         "opacity": 1,
         "type": "scattergeo"
        },
        {
         "hoverinfo": "skip",
         "lat": [
          25.903667,
          30.189906
         ],
         "line": {
          "color": "red",
          "width": 1
         },
         "lon": [
          -97.421317,
          -97.657512
         ],
         "mode": "lines",
         "opacity": 1,
         "type": "scattergeo"
        },
        {
         "hoverinfo": "skip",
         "lat": [
          30.189906,
          37.365589
         ],
         "line": {
          "color": "red",
          "width": 1
         },
         "lon": [
          -97.657512,
          -121.933063
         ],
         "mode": "lines",
         "opacity": 1,
         "type": "scattergeo"
        },
        {
         "hoverinfo": "skip",
         "lat": [
          37.365589,
          33.922668
         ],
         "line": {
          "color": "red",
          "width": 1
         },
         "lon": [
          -121.933063,
          -118.338855
         ],
         "mode": "lines",
         "opacity": 1,
         "type": "scattergeo"
        },
        {
         "hoverinfo": "skip",
         "lat": [
          33.922668,
          37.366131
         ],
         "line": {
          "color": "red",
          "width": 1
         },
         "lon": [
          -118.338855,
          -121.933688
         ],
         "mode": "lines",
         "opacity": 1,
         "type": "scattergeo"
        },
        {
         "hoverinfo": "skip",
         "lat": [
          37.366131,
          30.190988
         ],
         "line": {
          "color": "red",
          "width": 1
         },
         "lon": [
          -121.933688,
          -97.657581
         ],
         "mode": "lines",
         "opacity": 1,
         "type": "scattergeo"
        },
        {
         "hoverinfo": "skip",
         "lat": [
          30.190988,
          25.907961
         ],
         "line": {
          "color": "red",
          "width": 1
         },
         "lon": [
          -97.657581,
          -97.429161
         ],
         "mode": "lines",
         "opacity": 1,
         "type": "scattergeo"
        },
        {
         "hoverinfo": "skip",
         "lat": [
          25.907961,
          33.92268
         ],
         "line": {
          "color": "red",
          "width": 1
         },
         "lon": [
          -97.429161,
          -118.338673
         ],
         "mode": "lines",
         "opacity": 1,
         "type": "scattergeo"
        },
        {
         "hoverinfo": "skip",
         "lat": [
          33.92268,
          37.364781
         ],
         "line": {
          "color": "red",
          "width": 1
         },
         "lon": [
          -118.338673,
          -121.932211
         ],
         "mode": "lines",
         "opacity": 1,
         "type": "scattergeo"
        },
        {
         "hoverinfo": "skip",
         "lat": [
          37.364781,
          33.937592
         ],
         "line": {
          "color": "red",
          "width": 1
         },
         "lon": [
          -121.932211,
          -118.402125
         ],
         "mode": "lines",
         "opacity": 1,
         "type": "scattergeo"
        },
        {
         "hoverinfo": "skip",
         "lat": [
          33.937592,
          37.366608
         ],
         "line": {
          "color": "red",
          "width": 1
         },
         "lon": [
          -118.402125,
          -121.934226
         ],
         "mode": "lines",
         "opacity": 1,
         "type": "scattergeo"
        },
        {
         "hoverinfo": "skip",
         "lat": [
          37.366608,
          33.816845
         ],
         "line": {
          "color": "red",
          "width": 1
         },
         "lon": [
          -121.934226,
          -118.150238
         ],
         "mode": "lines",
         "opacity": 1,
         "type": "scattergeo"
        },
        {
         "hoverinfo": "skip",
         "lat": [
          33.816845,
          33.922604
         ],
         "line": {
          "color": "red",
          "width": 1
         },
         "lon": [
          -118.150238,
          -118.339949
         ],
         "mode": "lines",
         "opacity": 1,
         "type": "scattergeo"
        },
        {
         "hoverinfo": "skip",
         "lat": [
          33.922604,
          30.19154
         ],
         "line": {
          "color": "red",
          "width": 1
         },
         "lon": [
          -118.339949,
          -97.657592
         ],
         "mode": "lines",
         "opacity": 1,
         "type": "scattergeo"
        },
        {
         "hoverinfo": "skip",
         "lat": [
          30.19154,
          33.948394
         ],
         "line": {
          "color": "red",
          "width": 1
         },
         "lon": [
          -97.657592,
          -118.419342
         ],
         "mode": "lines",
         "opacity": 1,
         "type": "scattergeo"
        },
        {
         "hoverinfo": "skip",
         "lat": [
          33.948394,
          37.364159
         ],
         "line": {
          "color": "red",
          "width": 1
         },
         "lon": [
          -118.419342,
          -121.9315
         ],
         "mode": "lines",
         "opacity": 1,
         "type": "scattergeo"
        },
        {
         "hoverinfo": "skip",
         "lat": [
          37.364159,
          33.922767
         ],
         "line": {
          "color": "red",
          "width": 1
         },
         "lon": [
          -121.9315,
          -118.337045
         ],
         "mode": "lines",
         "opacity": 1,
         "type": "scattergeo"
        },
        {
         "hoverinfo": "skip",
         "lat": [
          33.922767,
          30.19186
         ],
         "line": {
          "color": "red",
          "width": 1
         },
         "lon": [
          -118.337045,
          -97.657592
         ],
         "mode": "lines",
         "opacity": 1,
         "type": "scattergeo"
        },
        {
         "hoverinfo": "skip",
         "lat": [
          30.19186,
          47.5299
         ],
         "line": {
          "color": "red",
          "width": 1
         },
         "lon": [
          -97.657592,
          -122.302362
         ],
         "mode": "lines",
         "opacity": 1,
         "type": "scattergeo"
        },
        {
         "hoverinfo": "skip",
         "lat": [
          47.5299,
          37.365864
         ],
         "line": {
          "color": "red",
          "width": 1
         },
         "lon": [
          -122.302362,
          -121.933405
         ],
         "mode": "lines",
         "opacity": 1,
         "type": "scattergeo"
        },
        {
         "hoverinfo": "skip",
         "lat": [
          37.365864,
          33.922771
         ],
         "line": {
          "color": "red",
          "width": 1
         },
         "lon": [
          -121.933405,
          -118.336865
         ],
         "mode": "lines",
         "opacity": 1,
         "type": "scattergeo"
        },
        {
         "hoverinfo": "skip",
         "lat": [
          33.922771,
          30.193653
         ],
         "line": {
          "color": "red",
          "width": 1
         },
         "lon": [
          -118.336865,
          -97.657635
         ],
         "mode": "lines",
         "opacity": 1,
         "type": "scattergeo"
        },
        {
         "hoverinfo": "skip",
         "lat": [
          30.193653,
          33.922726
         ],
         "line": {
          "color": "red",
          "width": 1
         },
         "lon": [
          -97.657635,
          -118.337762
         ],
         "mode": "lines",
         "opacity": 1,
         "type": "scattergeo"
        },
        {
         "hoverinfo": "skip",
         "lat": [
          33.922726,
          37.364967
         ],
         "line": {
          "color": "red",
          "width": 1
         },
         "lon": [
          -118.337762,
          -121.932419
         ],
         "mode": "lines",
         "opacity": 1,
         "type": "scattergeo"
        },
        {
         "hoverinfo": "skip",
         "lat": [
          37.364967,
          33.922646
         ],
         "line": {
          "color": "red",
          "width": 1
         },
         "lon": [
          -121.932419,
          -118.339486
         ],
         "mode": "lines",
         "opacity": 1,
         "type": "scattergeo"
        },
        {
         "hoverinfo": "skip",
         "lat": [
          33.922646,
          37.365314
         ],
         "line": {
          "color": "red",
          "width": 1
         },
         "lon": [
          -118.339486,
          -121.932815
         ],
         "mode": "lines",
         "opacity": 1,
         "type": "scattergeo"
        },
        {
         "hoverinfo": "skip",
         "lat": [
          37.365314,
          33.922662
         ],
         "line": {
          "color": "red",
          "width": 1
         },
         "lon": [
          -121.932815,
          -118.339005
         ],
         "mode": "lines",
         "opacity": 1,
         "type": "scattergeo"
        },
        {
         "hoverinfo": "skip",
         "lat": [
          33.922662,
          28.102061
         ],
         "line": {
          "color": "red",
          "width": 1
         },
         "lon": [
          -118.339005,
          -80.645465
         ],
         "mode": "lines",
         "opacity": 1,
         "type": "scattergeo"
        },
        {
         "hoverinfo": "skip",
         "lat": [
          28.102061,
          28.515015
         ],
         "line": {
          "color": "red",
          "width": 1
         },
         "lon": [
          -80.645465,
          -80.796742
         ],
         "mode": "lines",
         "opacity": 1,
         "type": "scattergeo"
        },
        {
         "hoverinfo": "skip",
         "lat": [
          28.515015,
          28.102189
         ],
         "line": {
          "color": "red",
          "width": 1
         },
         "lon": [
          -80.796742,
          -80.642664
         ],
         "mode": "lines",
         "opacity": 1,
         "type": "scattergeo"
        },
        {
         "hoverinfo": "skip",
         "lat": [
          28.102189,
          25.803545
         ],
         "line": {
          "color": "red",
          "width": 1
         },
         "lon": [
          -80.642664,
          -80.286479
         ],
         "mode": "lines",
         "opacity": 1,
         "type": "scattergeo"
        },
        {
         "hoverinfo": "skip",
         "lat": [
          25.803545,
          33.922852
         ],
         "line": {
          "color": "red",
          "width": 1
         },
         "lon": [
          -80.286479,
          -118.335029
         ],
         "mode": "lines",
         "opacity": 1,
         "type": "scattergeo"
        },
        {
         "hoverinfo": "skip",
         "lat": [
          33.922852,
          25.801403
         ],
         "line": {
          "color": "red",
          "width": 1
         },
         "lon": [
          -118.335029,
          -80.28442
         ],
         "mode": "lines",
         "opacity": 1,
         "type": "scattergeo"
        },
        {
         "hoverinfo": "skip",
         "lat": [
          25.801403,
          40.854919
         ],
         "line": {
          "color": "red",
          "width": 1
         },
         "lon": [
          -80.28442,
          -74.05826
         ],
         "mode": "lines",
         "opacity": 1,
         "type": "scattergeo"
        },
        {
         "hoverinfo": "skip",
         "lat": [
          40.854919,
          33.935726
         ],
         "line": {
          "color": "red",
          "width": 1
         },
         "lon": [
          -74.05826,
          -118.398761
         ],
         "mode": "lines",
         "opacity": 1,
         "type": "scattergeo"
        },
        {
         "hoverinfo": "skip",
         "lat": [
          33.935726,
          37.366446
         ],
         "line": {
          "color": "red",
          "width": 1
         },
         "lon": [
          -118.398761,
          -121.934002
         ],
         "mode": "lines",
         "opacity": 1,
         "type": "scattergeo"
        },
        {
         "hoverinfo": "skip",
         "lat": [
          37.366446,
          51.875056
         ],
         "line": {
          "color": "red",
          "width": 1
         },
         "lon": [
          -121.934002,
          -0.366058
         ],
         "mode": "lines",
         "opacity": 1,
         "type": "scattergeo"
        },
        {
         "hoverinfo": "skip",
         "lat": [
          51.875056,
          52.373108
         ],
         "line": {
          "color": "red",
          "width": 1
         },
         "lon": [
          -0.366058,
          13.507996
         ],
         "mode": "lines",
         "opacity": 1,
         "type": "scattergeo"
        },
        {
         "hoverinfo": "skip",
         "lat": [
          52.373108,
          37.617416
         ],
         "line": {
          "color": "red",
          "width": 1
         },
         "lon": [
          13.507996,
          -122.371976
         ],
         "mode": "lines",
         "opacity": 1,
         "type": "scattergeo"
        },
        {
         "hoverinfo": "skip",
         "lat": [
          37.617416,
          33.922732
         ],
         "line": {
          "color": "red",
          "width": 1
         },
         "lon": [
          -122.371976,
          -118.337574
         ],
         "mode": "lines",
         "opacity": 1,
         "type": "scattergeo"
        },
        {
         "hoverinfo": "skip",
         "lat": [
          33.922732,
          37.364967
         ],
         "line": {
          "color": "red",
          "width": 1
         },
         "lon": [
          -118.337574,
          -121.93239
         ],
         "mode": "lines",
         "opacity": 1,
         "type": "scattergeo"
        },
        {
         "hoverinfo": "skip",
         "lat": [
          37.364967,
          33.922744
         ],
         "line": {
          "color": "red",
          "width": 1
         },
         "lon": [
          -121.93239,
          -118.337159
         ],
         "mode": "lines",
         "opacity": 1,
         "type": "scattergeo"
        },
        {
         "hoverinfo": "skip",
         "lat": [
          33.922744,
          37.366027
         ],
         "line": {
          "color": "red",
          "width": 1
         },
         "lon": [
          -118.337159,
          -121.933569
         ],
         "mode": "lines",
         "opacity": 1,
         "type": "scattergeo"
        },
        {
         "hoverinfo": "skip",
         "lat": [
          37.366027,
          33.922714
         ],
         "line": {
          "color": "red",
          "width": 1
         },
         "lon": [
          -121.933569,
          -118.338056
         ],
         "mode": "lines",
         "opacity": 1,
         "type": "scattergeo"
        },
        {
         "hoverinfo": "skip",
         "lat": [
          33.922714,
          30.191431
         ],
         "line": {
          "color": "red",
          "width": 1
         },
         "lon": [
          -118.338056,
          -97.657594
         ],
         "mode": "lines",
         "opacity": 1,
         "type": "scattergeo"
        },
        {
         "hoverinfo": "skip",
         "lat": [
          30.191431,
          37.365177
         ],
         "line": {
          "color": "red",
          "width": 1
         },
         "lon": [
          -97.657594,
          -121.932643
         ],
         "mode": "lines",
         "opacity": 1,
         "type": "scattergeo"
        },
        {
         "hoverinfo": "skip",
         "lat": [
          37.365177,
          33.922794
         ],
         "line": {
          "color": "red",
          "width": 1
         },
         "lon": [
          -121.932643,
          -118.336347
         ],
         "mode": "lines",
         "opacity": 1,
         "type": "scattergeo"
        },
        {
         "hoverinfo": "skip",
         "lat": [
          33.922794,
          37.364781
         ],
         "line": {
          "color": "red",
          "width": 1
         },
         "lon": [
          -118.336347,
          -121.932181
         ],
         "mode": "lines",
         "opacity": 1,
         "type": "scattergeo"
        },
        {
         "hoverinfo": "skip",
         "lat": [
          37.364781,
          33.922714
         ],
         "line": {
          "color": "red",
          "width": 1
         },
         "lon": [
          -121.932181,
          -118.337888
         ],
         "mode": "lines",
         "opacity": 1,
         "type": "scattergeo"
        },
        {
         "hoverinfo": "skip",
         "lat": [
          33.922714,
          37.364351
         ],
         "line": {
          "color": "red",
          "width": 1
         },
         "lon": [
          -118.337888,
          -121.931703
         ],
         "mode": "lines",
         "opacity": 1,
         "type": "scattergeo"
        },
        {
         "hoverinfo": "skip",
         "lat": [
          37.364351,
          33.922817
         ],
         "line": {
          "color": "red",
          "width": 1
         },
         "lon": [
          -121.931703,
          -118.33587
         ],
         "mode": "lines",
         "opacity": 1,
         "type": "scattergeo"
        },
        {
         "hoverinfo": "skip",
         "lat": [
          33.922817,
          30.191185
         ],
         "line": {
          "color": "red",
          "width": 1
         },
         "lon": [
          -118.33587,
          -97.657578
         ],
         "mode": "lines",
         "opacity": 1,
         "type": "scattergeo"
        },
        {
         "hoverinfo": "skip",
         "lat": [
          30.191185,
          33.922806
         ],
         "line": {
          "color": "red",
          "width": 1
         },
         "lon": [
          -97.657578,
          -118.336347
         ],
         "mode": "lines",
         "opacity": 1,
         "type": "scattergeo"
        },
        {
         "hoverinfo": "skip",
         "lat": [
          33.922806,
          37.364719
         ],
         "line": {
          "color": "red",
          "width": 1
         },
         "lon": [
          -118.336347,
          -121.932128
         ],
         "mode": "lines",
         "opacity": 1,
         "type": "scattergeo"
        },
        {
         "hoverinfo": "skip",
         "lat": [
          37.364719,
          30.191
         ],
         "line": {
          "color": "red",
          "width": 1
         },
         "lon": [
          -121.932128,
          -97.657581
         ],
         "mode": "lines",
         "opacity": 1,
         "type": "scattergeo"
        },
        {
         "hoverinfo": "skip",
         "lat": [
          30.191,
          33.935795
         ],
         "line": {
          "color": "red",
          "width": 1
         },
         "lon": [
          -97.657581,
          -118.398075
         ],
         "mode": "lines",
         "opacity": 1,
         "type": "scattergeo"
        },
        {
         "hoverinfo": "skip",
         "lat": [
          33.935795,
          37.364816
         ],
         "line": {
          "color": "red",
          "width": 1
         },
         "lon": [
          -118.398075,
          -121.932225
         ],
         "mode": "lines",
         "opacity": 1,
         "type": "scattergeo"
        },
        {
         "hoverinfo": "skip",
         "lat": [
          37.364816,
          33.922814
         ],
         "line": {
          "color": "red",
          "width": 1
         },
         "lon": [
          -121.932225,
          -118.336
         ],
         "mode": "lines",
         "opacity": 1,
         "type": "scattergeo"
        },
        {
         "hoverinfo": "skip",
         "lat": [
          33.922814,
          37.364914
         ],
         "line": {
          "color": "red",
          "width": 1
         },
         "lon": [
          -118.336,
          -121.932332
         ],
         "mode": "lines",
         "opacity": 1,
         "type": "scattergeo"
        },
        {
         "hoverinfo": "skip",
         "lat": [
          37.364914,
          25.903097
         ],
         "line": {
          "color": "red",
          "width": 1
         },
         "lon": [
          -121.932332,
          -97.420697
         ],
         "mode": "lines",
         "opacity": 1,
         "type": "scattergeo"
        },
        {
         "hoverinfo": "skip",
         "lat": [
          25.903097,
          32.289093
         ],
         "line": {
          "color": "red",
          "width": 1
         },
         "lon": [
          -97.420697,
          -106.918066
         ],
         "mode": "lines",
         "opacity": 1,
         "type": "scattergeo"
        },
        {
         "hoverinfo": "skip",
         "lat": [
          32.289093,
          39.879295
         ],
         "line": {
          "color": "red",
          "width": 1
         },
         "lon": [
          -106.918066,
          -75.231927
         ],
         "mode": "lines",
         "opacity": 1,
         "type": "scattergeo"
        },
        {
         "hoverinfo": "skip",
         "lat": [
          39.879295,
          25.905994
         ],
         "line": {
          "color": "red",
          "width": 1
         },
         "lon": [
          -75.231927,
          -97.423853
         ],
         "mode": "lines",
         "opacity": 1,
         "type": "scattergeo"
        },
        {
         "hoverinfo": "skip",
         "lat": [
          25.905994,
          33.922569
         ],
         "line": {
          "color": "red",
          "width": 1
         },
         "lon": [
          -97.423853,
          -118.34105
         ],
         "mode": "lines",
         "opacity": 1,
         "type": "scattergeo"
        },
        {
         "hoverinfo": "skip",
         "lat": [
          33.922569,
          37.363037
         ],
         "line": {
          "color": "red",
          "width": 1
         },
         "lon": [
          -118.34105,
          -121.930287
         ],
         "mode": "lines",
         "opacity": 1,
         "type": "scattergeo"
        },
        {
         "hoverinfo": "skip",
         "lat": [
          37.363037,
          25.902875
         ],
         "line": {
          "color": "red",
          "width": 1
         },
         "lon": [
          -121.930287,
          -97.420472
         ],
         "mode": "lines",
         "opacity": 1,
         "type": "scattergeo"
        },
        {
         "hoverinfo": "skip",
         "lat": [
          25.902875,
          33.935837
         ],
         "line": {
          "color": "red",
          "width": 1
         },
         "lon": [
          -97.420472,
          -118.397713
         ],
         "mode": "lines",
         "opacity": 1,
         "type": "scattergeo"
        },
        {
         "hoverinfo": "skip",
         "lat": [
          33.935837,
          25.905052
         ],
         "line": {
          "color": "red",
          "width": 1
         },
         "lon": [
          -118.397713,
          -97.422823
         ],
         "mode": "lines",
         "opacity": 1,
         "type": "scattergeo"
        },
        {
         "hoverinfo": "skip",
         "lat": [
          25.905052,
          30.191208
         ],
         "line": {
          "color": "red",
          "width": 1
         },
         "lon": [
          -97.422823,
          -97.659679
         ],
         "mode": "lines",
         "opacity": 1,
         "type": "scattergeo"
        },
        {
         "hoverinfo": "skip",
         "lat": [
          30.191208,
          28.51363
         ],
         "line": {
          "color": "red",
          "width": 1
         },
         "lon": [
          -97.659679,
          -80.796732
         ],
         "mode": "lines",
         "opacity": 1,
         "type": "scattergeo"
        },
        {
         "hoverinfo": "skip",
         "lat": [
          28.51363,
          25.904766
         ],
         "line": {
          "color": "red",
          "width": 1
         },
         "lon": [
          -80.796732,
          -97.422521
         ],
         "mode": "lines",
         "opacity": 1,
         "type": "scattergeo"
        },
        {
         "hoverinfo": "skip",
         "lat": [
          25.904766,
          28.516981
         ],
         "line": {
          "color": "red",
          "width": 1
         },
         "lon": [
          -97.422521,
          -80.796769
         ],
         "mode": "lines",
         "opacity": 1,
         "type": "scattergeo"
        },
        {
         "hoverinfo": "skip",
         "lat": [
          28.516981,
          25.905261
         ],
         "line": {
          "color": "red",
          "width": 1
         },
         "lon": [
          -80.796769,
          -97.42306
         ],
         "mode": "lines",
         "opacity": 1,
         "type": "scattergeo"
        },
        {
         "hoverinfo": "skip",
         "lat": [
          25.905261,
          28.51413
         ],
         "line": {
          "color": "red",
          "width": 1
         },
         "lon": [
          -97.42306,
          -80.796729
         ],
         "mode": "lines",
         "opacity": 1,
         "type": "scattergeo"
        },
        {
         "hoverinfo": "skip",
         "lat": [
          28.51413,
          25.90274
         ],
         "line": {
          "color": "red",
          "width": 1
         },
         "lon": [
          -80.796729,
          -97.420306
         ],
         "mode": "lines",
         "opacity": 1,
         "type": "scattergeo"
        },
        {
         "hoverinfo": "skip",
         "lat": [
          25.90274,
          28.5137
         ],
         "line": {
          "color": "red",
          "width": 1
         },
         "lon": [
          -97.420306,
          -80.795355
         ],
         "mode": "lines",
         "opacity": 1,
         "type": "scattergeo"
        },
        {
         "hoverinfo": "skip",
         "lat": [
          28.5137,
          25.903976
         ],
         "line": {
          "color": "red",
          "width": 1
         },
         "lon": [
          -80.795355,
          -97.421679
         ],
         "mode": "lines",
         "opacity": 1,
         "type": "scattergeo"
        },
        {
         "hoverinfo": "skip",
         "lat": [
          25.903976,
          30.191163
         ],
         "line": {
          "color": "red",
          "width": 1
         },
         "lon": [
          -97.421679,
          -97.657581
         ],
         "mode": "lines",
         "opacity": 1,
         "type": "scattergeo"
        },
        {
         "hoverinfo": "skip",
         "lat": [
          30.191163,
          25.904148
         ],
         "line": {
          "color": "red",
          "width": 1
         },
         "lon": [
          -97.657581,
          -97.421861
         ],
         "mode": "lines",
         "opacity": 1,
         "type": "scattergeo"
        },
        {
         "hoverinfo": "skip",
         "lat": [
          25.904148,
          28.512165
         ],
         "line": {
          "color": "red",
          "width": 1
         },
         "lon": [
          -97.421861,
          -80.796679
         ],
         "mode": "lines",
         "opacity": 1,
         "type": "scattergeo"
        },
        {
         "hoverinfo": "skip",
         "lat": [
          28.512165,
          25.903542
         ],
         "line": {
          "color": "red",
          "width": 1
         },
         "lon": [
          -80.796679,
          -97.421187
         ],
         "mode": "lines",
         "opacity": 1,
         "type": "scattergeo"
        },
        {
         "hoverinfo": "skip",
         "lat": [
          25.903542,
          28.513688
         ],
         "line": {
          "color": "red",
          "width": 1
         },
         "lon": [
          -97.421187,
          -80.796715
         ],
         "mode": "lines",
         "opacity": 1,
         "type": "scattergeo"
        },
        {
         "hoverinfo": "skip",
         "lat": [
          28.513688,
          25.905843
         ],
         "line": {
          "color": "red",
          "width": 1
         },
         "lon": [
          -80.796715,
          -97.423694
         ],
         "mode": "lines",
         "opacity": 1,
         "type": "scattergeo"
        },
        {
         "hoverinfo": "skip",
         "lat": [
          25.905843,
          33.922755
         ],
         "line": {
          "color": "red",
          "width": 1
         },
         "lon": [
          -97.423694,
          -118.337188
         ],
         "mode": "lines",
         "opacity": 1,
         "type": "scattergeo"
        },
        {
         "hoverinfo": "skip",
         "lat": [
          33.922755,
          25.904458
         ],
         "line": {
          "color": "red",
          "width": 1
         },
         "lon": [
          -118.337188,
          -97.422189
         ],
         "mode": "lines",
         "opacity": 1,
         "type": "scattergeo"
        },
        {
         "hoverinfo": "skip",
         "lat": [
          25.904458,
          33.922639
         ],
         "line": {
          "color": "red",
          "width": 1
         },
         "lon": [
          -97.422189,
          -118.339434
         ],
         "mode": "lines",
         "opacity": 1,
         "type": "scattergeo"
        },
        {
         "hoverinfo": "skip",
         "lat": [
          33.922639,
          25.904877
         ],
         "line": {
          "color": "red",
          "width": 1
         },
         "lon": [
          -118.339434,
          -97.422638
         ],
         "mode": "lines",
         "opacity": 1,
         "type": "scattergeo"
        },
        {
         "hoverinfo": "skip",
         "lat": [
          25.904877,
          28.518192
         ],
         "line": {
          "color": "red",
          "width": 1
         },
         "lon": [
          -97.422638,
          -80.796796
         ],
         "mode": "lines",
         "opacity": 1,
         "type": "scattergeo"
        },
        {
         "hoverinfo": "skip",
         "lat": [
          28.518192,
          25.902832
         ],
         "line": {
          "color": "red",
          "width": 1
         },
         "lon": [
          -80.796796,
          -97.420423
         ],
         "mode": "lines",
         "opacity": 1,
         "type": "scattergeo"
        },
        {
         "hoverinfo": "skip",
         "lat": [
          25.902832,
          30.191966
         ],
         "line": {
          "color": "red",
          "width": 1
         },
         "lon": [
          -97.420423,
          -97.657608
         ],
         "mode": "lines",
         "opacity": 1,
         "type": "scattergeo"
        },
        {
         "hoverinfo": "skip",
         "lat": [
          30.191966,
          25.904074
         ],
         "line": {
          "color": "red",
          "width": 1
         },
         "lon": [
          -97.657608,
          -97.42178
         ],
         "mode": "lines",
         "opacity": 1,
         "type": "scattergeo"
        },
        {
         "hoverinfo": "skip",
         "lat": [
          25.904074,
          33.922794
         ],
         "line": {
          "color": "red",
          "width": 1
         },
         "lon": [
          -97.42178,
          -118.336501
         ],
         "mode": "lines",
         "opacity": 1,
         "type": "scattergeo"
        },
        {
         "hoverinfo": "skip",
         "lat": [
          33.922794,
          25.906311
         ],
         "line": {
          "color": "red",
          "width": 1
         },
         "lon": [
          -118.336501,
          -97.424206
         ],
         "mode": "lines",
         "opacity": 1,
         "type": "scattergeo"
        },
        {
         "hoverinfo": "skip",
         "lat": [
          25.906311,
          33.922829
         ],
         "line": {
          "color": "red",
          "width": 1
         },
         "lon": [
          -97.424206,
          -118.335674
         ],
         "mode": "lines",
         "opacity": 1,
         "type": "scattergeo"
        },
        {
         "hoverinfo": "skip",
         "lat": [
          33.922829,
          25.905899
         ],
         "line": {
          "color": "red",
          "width": 1
         },
         "lon": [
          -118.335674,
          -97.423765
         ],
         "mode": "lines",
         "opacity": 1,
         "type": "scattergeo"
        },
        {
         "hoverinfo": "skip",
         "lat": [
          25.905899,
          28.51228
         ],
         "line": {
          "color": "red",
          "width": 1
         },
         "lon": [
          -97.423765,
          -80.796917
         ],
         "mode": "lines",
         "opacity": 1,
         "type": "scattergeo"
        },
        {
         "hoverinfo": "skip",
         "lat": [
          28.51228,
          25.906239
         ],
         "line": {
          "color": "red",
          "width": 1
         },
         "lon": [
          -80.796917,
          -97.424117
         ],
         "mode": "lines",
         "opacity": 1,
         "type": "scattergeo"
        },
        {
         "hoverinfo": "skip",
         "lat": [
          25.906239,
          37.363804
         ],
         "line": {
          "color": "red",
          "width": 1
         },
         "lon": [
          -97.424117,
          -121.931121
         ],
         "mode": "lines",
         "opacity": 1,
         "type": "scattergeo"
        },
        {
         "hoverinfo": "skip",
         "lat": [
          37.363804,
          33.922806
         ],
         "line": {
          "color": "red",
          "width": 1
         },
         "lon": [
          -121.931121,
          -118.336038
         ],
         "mode": "lines",
         "opacity": 1,
         "type": "scattergeo"
        },
        {
         "hoverinfo": "skip",
         "lat": [
          33.922806,
          37.365282
         ],
         "line": {
          "color": "red",
          "width": 1
         },
         "lon": [
          -118.336038,
          -121.932733
         ],
         "mode": "lines",
         "opacity": 1,
         "type": "scattergeo"
        },
        {
         "hoverinfo": "skip",
         "lat": [
          37.365282,
          33.950768
         ],
         "line": {
          "color": "red",
          "width": 1
         },
         "lon": [
          -121.932733,
          -118.415151
         ],
         "mode": "lines",
         "opacity": 1,
         "type": "scattergeo"
        },
        {
         "hoverinfo": "skip",
         "lat": [
          33.950768,
          52.352921
         ],
         "line": {
          "color": "red",
          "width": 1
         },
         "lon": [
          -118.415151,
          13.499908
         ],
         "mode": "lines",
         "opacity": 1,
         "type": "scattergeo"
        },
        {
         "hoverinfo": "skip",
         "lat": [
          52.352921,
          33.922657
         ],
         "line": {
          "color": "red",
          "width": 1
         },
         "lon": [
          13.499908,
          -118.338729
         ],
         "mode": "lines",
         "opacity": 1,
         "type": "scattergeo"
        },
        {
         "hoverinfo": "skip",
         "lat": [
          33.922657,
          25.902958
         ],
         "line": {
          "color": "red",
          "width": 1
         },
         "lon": [
          -118.338729,
          -97.431176
         ],
         "mode": "lines",
         "opacity": 1,
         "type": "scattergeo"
        },
        {
         "hoverinfo": "skip",
         "lat": [
          25.902958,
          37.361847
         ],
         "line": {
          "color": "red",
          "width": 1
         },
         "lon": [
          -97.431176,
          -121.928972
         ],
         "mode": "lines",
         "opacity": 1,
         "type": "scattergeo"
        },
        {
         "hoverinfo": "skip",
         "lat": [
          37.361847,
          33.922806
         ],
         "line": {
          "color": "red",
          "width": 1
         },
         "lon": [
          -121.928972,
          -118.336165
         ],
         "mode": "lines",
         "opacity": 1,
         "type": "scattergeo"
        },
        {
         "hoverinfo": "skip",
         "lat": [
          33.922806,
          25.90383
         ],
         "line": {
          "color": "red",
          "width": 1
         },
         "lon": [
          -118.336165,
          -97.421502
         ],
         "mode": "lines",
         "opacity": 1,
         "type": "scattergeo"
        },
        {
         "hoverinfo": "skip",
         "lat": [
          25.90383,
          30.193748
         ],
         "line": {
          "color": "red",
          "width": 1
         },
         "lon": [
          -97.421502,
          -97.657646
         ],
         "mode": "lines",
         "opacity": 1,
         "type": "scattergeo"
        },
        {
         "hoverinfo": "skip",
         "lat": [
          30.193748,
          33.922668
         ],
         "line": {
          "color": "red",
          "width": 1
         },
         "lon": [
          -97.657646,
          -118.338953
         ],
         "mode": "lines",
         "opacity": 1,
         "type": "scattergeo"
        },
        {
         "hoverinfo": "skip",
         "lat": [
          33.922668,
          37.365049
         ],
         "line": {
          "color": "red",
          "width": 1
         },
         "lon": [
          -118.338953,
          -121.932494
         ],
         "mode": "lines",
         "opacity": 1,
         "type": "scattergeo"
        },
        {
         "hoverinfo": "skip",
         "lat": [
          37.365049,
          33.935806
         ],
         "line": {
          "color": "red",
          "width": 1
         },
         "lon": [
          -121.932494,
          -118.398131
         ],
         "mode": "lines",
         "opacity": 1,
         "type": "scattergeo"
        },
        {
         "hoverinfo": "skip",
         "lat": [
          33.935806,
          30.19242
         ],
         "line": {
          "color": "red",
          "width": 1
         },
         "lon": [
          -118.398131,
          -97.657608
         ],
         "mode": "lines",
         "opacity": 1,
         "type": "scattergeo"
        },
        {
         "hoverinfo": "skip",
         "lat": [
          30.19242,
          33.922703
         ],
         "line": {
          "color": "red",
          "width": 1
         },
         "lon": [
          -97.657608,
          -118.338252
         ],
         "mode": "lines",
         "opacity": 1,
         "type": "scattergeo"
        },
        {
         "hoverinfo": "skip",
         "lat": [
          33.922703,
          30.191288
         ],
         "line": {
          "color": "red",
          "width": 1
         },
         "lon": [
          -118.338252,
          -97.657578
         ],
         "mode": "lines",
         "opacity": 1,
         "type": "scattergeo"
        },
        {
         "hoverinfo": "skip",
         "lat": [
          30.191288,
          25.90383
         ],
         "line": {
          "color": "red",
          "width": 1
         },
         "lon": [
          -97.657578,
          -97.421489
         ],
         "mode": "lines",
         "opacity": 1,
         "type": "scattergeo"
        },
        {
         "hoverinfo": "skip",
         "lat": [
          25.90383,
          40.85024
         ],
         "line": {
          "color": "red",
          "width": 1
         },
         "lon": [
          -97.421489,
          -74.061709
         ],
         "mode": "lines",
         "opacity": 1,
         "type": "scattergeo"
        },
        {
         "hoverinfo": "skip",
         "lat": [
          40.85024,
          25.903388
         ],
         "line": {
          "color": "red",
          "width": 1
         },
         "lon": [
          -74.061709,
          -97.421014
         ],
         "mode": "lines",
         "opacity": 1,
         "type": "scattergeo"
        },
        {
         "hoverinfo": "skip",
         "lat": [
          25.903388,
          40.853604
         ],
         "line": {
          "color": "red",
          "width": 1
         },
         "lon": [
          -97.421014,
          -74.060196
         ],
         "mode": "lines",
         "opacity": 1,
         "type": "scattergeo"
        },
        {
         "hoverinfo": "skip",
         "lat": [
          40.853604,
          25.90291
         ],
         "line": {
          "color": "red",
          "width": 1
         },
         "lon": [
          -74.060196,
          -97.429359
         ],
         "mode": "lines",
         "opacity": 1,
         "type": "scattergeo"
        },
        {
         "hoverinfo": "skip",
         "lat": [
          25.90291,
          28.432326
         ],
         "line": {
          "color": "red",
          "width": 1
         },
         "lon": [
          -97.429359,
          -81.326806
         ],
         "mode": "lines",
         "opacity": 1,
         "type": "scattergeo"
        },
        {
         "hoverinfo": "skip",
         "lat": [
          28.432326,
          25.905017
         ],
         "line": {
          "color": "red",
          "width": 1
         },
         "lon": [
          -81.326806,
          -97.422796
         ],
         "mode": "lines",
         "opacity": 1,
         "type": "scattergeo"
        },
        {
         "hoverinfo": "skip",
         "lat": [
          25.905017,
          30.192292
         ],
         "line": {
          "color": "red",
          "width": 1
         },
         "lon": [
          -97.422796,
          -97.657594
         ],
         "mode": "lines",
         "opacity": 1,
         "type": "scattergeo"
        },
        {
         "hoverinfo": "skip",
         "lat": [
          30.192292,
          33.92276
         ],
         "line": {
          "color": "red",
          "width": 1
         },
         "lon": [
          -97.657594,
          -118.337159
         ],
         "mode": "lines",
         "opacity": 1,
         "type": "scattergeo"
        },
        {
         "hoverinfo": "skip",
         "lat": [
          33.92276,
          37.365372
         ],
         "line": {
          "color": "red",
          "width": 1
         },
         "lon": [
          -118.337159,
          -121.932829
         ],
         "mode": "lines",
         "opacity": 1,
         "type": "scattergeo"
        },
        {
         "hoverinfo": "skip",
         "lat": [
          37.365372,
          30.191597
         ],
         "line": {
          "color": "red",
          "width": 1
         },
         "lon": [
          -121.932829,
          -97.657592
         ],
         "mode": "lines",
         "opacity": 1,
         "type": "scattergeo"
        },
        {
         "hoverinfo": "skip",
         "lat": [
          30.191597,
          25.904915
         ],
         "line": {
          "color": "red",
          "width": 1
         },
         "lon": [
          -97.657592,
          -97.422677
         ],
         "mode": "lines",
         "opacity": 1,
         "type": "scattergeo"
        },
        {
         "hoverinfo": "skip",
         "lat": [
          25.904915,
          30.19202
         ],
         "line": {
          "color": "red",
          "width": 1
         },
         "lon": [
          -97.422677,
          -97.657605
         ],
         "mode": "lines",
         "opacity": 1,
         "type": "scattergeo"
        },
        {
         "hoverinfo": "skip",
         "lat": [
          30.19202,
          25.90646
         ],
         "line": {
          "color": "red",
          "width": 1
         },
         "lon": [
          -97.657605,
          -97.424322
         ],
         "mode": "lines",
         "opacity": 1,
         "type": "scattergeo"
        },
        {
         "hoverinfo": "skip",
         "lat": [
          25.90646,
          30.191757
         ],
         "line": {
          "color": "red",
          "width": 1
         },
         "lon": [
          -97.424322,
          -97.657578
         ],
         "mode": "lines",
         "opacity": 1,
         "type": "scattergeo"
        },
        {
         "hoverinfo": "skip",
         "lat": [
          30.191757,
          52.350552
         ],
         "line": {
          "color": "red",
          "width": 1
         },
         "lon": [
          -97.657578,
          13.48999
         ],
         "mode": "lines",
         "opacity": 1,
         "type": "scattergeo"
        },
        {
         "hoverinfo": "skip",
         "lat": [
          52.350552,
          25.906926
         ],
         "line": {
          "color": "red",
          "width": 1
         },
         "lon": [
          13.48999,
          -97.42487
         ],
         "mode": "lines",
         "opacity": 1,
         "type": "scattergeo"
        },
        {
         "hoverinfo": "skip",
         "lat": [
          25.906926,
          33.922558
         ],
         "line": {
          "color": "red",
          "width": 1
         },
         "lon": [
          -97.42487,
          -118.341365
         ],
         "mode": "lines",
         "opacity": 1,
         "type": "scattergeo"
        },
        {
         "hoverinfo": "skip",
         "lat": [
          33.922558,
          37.365759
         ],
         "line": {
          "color": "red",
          "width": 1
         },
         "lon": [
          -118.341365,
          -121.930076
         ],
         "mode": "lines",
         "opacity": 1,
         "type": "scattergeo"
        },
        {
         "hoverinfo": "skip",
         "lat": [
          37.365759,
          30.191931
         ],
         "line": {
          "color": "red",
          "width": 1
         },
         "lon": [
          -121.930076,
          -97.657594
         ],
         "mode": "lines",
         "opacity": 1,
         "type": "scattergeo"
        },
        {
         "hoverinfo": "skip",
         "lat": [
          30.191931,
          25.904947
         ],
         "line": {
          "color": "red",
          "width": 1
         },
         "lon": [
          -97.657594,
          -97.422704
         ],
         "mode": "lines",
         "opacity": 1,
         "type": "scattergeo"
        },
        {
         "hoverinfo": "skip",
         "lat": [
          25.904947,
          30.191483
         ],
         "line": {
          "color": "red",
          "width": 1
         },
         "lon": [
          -97.422704,
          -97.657605
         ],
         "mode": "lines",
         "opacity": 1,
         "type": "scattergeo"
        },
        {
         "hoverinfo": "skip",
         "lat": [
          30.191483,
          25.906204
         ],
         "line": {
          "color": "red",
          "width": 1
         },
         "lon": [
          -97.657605,
          -97.42409
         ],
         "mode": "lines",
         "opacity": 1,
         "type": "scattergeo"
        },
        {
         "hoverinfo": "skip",
         "lat": [
          25.906204,
          33.951084
         ],
         "line": {
          "color": "red",
          "width": 1
         },
         "lon": [
          -97.42409,
          -118.411682
         ],
         "mode": "lines",
         "opacity": 1,
         "type": "scattergeo"
        },
        {
         "hoverinfo": "skip",
         "lat": [
          33.951084,
          25.905564
         ],
         "line": {
          "color": "red",
          "width": 1
         },
         "lon": [
          -118.411682,
          -97.423391
         ],
         "mode": "lines",
         "opacity": 1,
         "type": "scattergeo"
        },
        {
         "hoverinfo": "skip",
         "lat": [
          25.905564,
          30.192146
         ],
         "line": {
          "color": "red",
          "width": 1
         },
         "lon": [
          -97.423391,
          -97.657605
         ],
         "mode": "lines",
         "opacity": 1,
         "type": "scattergeo"
        },
        {
         "hoverinfo": "skip",
         "lat": [
          30.192146,
          33.819317
         ],
         "line": {
          "color": "red",
          "width": 1
         },
         "lon": [
          -97.657605,
          -118.153209
         ],
         "mode": "lines",
         "opacity": 1,
         "type": "scattergeo"
        },
        {
         "hoverinfo": "skip",
         "lat": [
          33.819317,
          30.192513
         ],
         "line": {
          "color": "red",
          "width": 1
         },
         "lon": [
          -118.153209,
          -97.657608
         ],
         "mode": "lines",
         "opacity": 1,
         "type": "scattergeo"
        },
        {
         "hoverinfo": "skip",
         "lat": [
          30.192513,
          25.903853
         ],
         "line": {
          "color": "red",
          "width": 1
         },
         "lon": [
          -97.657608,
          -97.421529
         ],
         "mode": "lines",
         "opacity": 1,
         "type": "scattergeo"
        },
        {
         "hoverinfo": "skip",
         "lat": [
          25.903853,
          25.985843
         ],
         "line": {
          "color": "red",
          "width": 1
         },
         "lon": [
          -97.421529,
          -97.368773
         ],
         "mode": "lines",
         "opacity": 1,
         "type": "scattergeo"
        },
        {
         "hoverinfo": "skip",
         "lat": [
          25.985843,
          30.190767
         ],
         "line": {
          "color": "red",
          "width": 1
         },
         "lon": [
          -97.368773,
          -97.657539
         ],
         "mode": "lines",
         "opacity": 1,
         "type": "scattergeo"
        },
        {
         "hoverinfo": "skip",
         "lat": [
          30.190767,
          25.905499
         ],
         "line": {
          "color": "red",
          "width": 1
         },
         "lon": [
          -97.657539,
          -97.423325
         ],
         "mode": "lines",
         "opacity": 1,
         "type": "scattergeo"
        },
        {
         "hoverinfo": "skip",
         "lat": [
          25.905499,
          30.188667
         ],
         "line": {
          "color": "red",
          "width": 1
         },
         "lon": [
          -97.423325,
          -97.657511
         ],
         "mode": "lines",
         "opacity": 1,
         "type": "scattergeo"
        },
        {
         "hoverinfo": "skip",
         "lat": [
          30.188667,
          25.902912
         ],
         "line": {
          "color": "red",
          "width": 1
         },
         "lon": [
          -97.657511,
          -97.420513
         ],
         "mode": "lines",
         "opacity": 1,
         "type": "scattergeo"
        },
        {
         "hoverinfo": "skip",
         "lat": [
          25.902912,
          39.881442
         ],
         "line": {
          "color": "red",
          "width": 1
         },
         "lon": [
          -97.420513,
          -75.233017
         ],
         "mode": "lines",
         "opacity": 1,
         "type": "scattergeo"
        },
        {
         "hoverinfo": "skip",
         "lat": [
          39.881442,
          25.903667
         ],
         "line": {
          "color": "red",
          "width": 1
         },
         "lon": [
          -75.233017,
          -97.421329
         ],
         "mode": "lines",
         "opacity": 1,
         "type": "scattergeo"
        },
        {
         "hoverinfo": "skip",
         "lat": [
          25.903667,
          40.850601
         ],
         "line": {
          "color": "red",
          "width": 1
         },
         "lon": [
          -97.421329,
          -74.060944
         ],
         "mode": "lines",
         "opacity": 1,
         "type": "scattergeo"
        },
        {
         "hoverinfo": "skip",
         "lat": [
          40.850601,
          25.906379
         ],
         "line": {
          "color": "red",
          "width": 1
         },
         "lon": [
          -74.060944,
          -97.424262
         ],
         "mode": "lines",
         "opacity": 1,
         "type": "scattergeo"
        },
        {
         "hoverinfo": "skip",
         "lat": [
          25.906379,
          30.192364
         ],
         "line": {
          "color": "red",
          "width": 1
         },
         "lon": [
          -97.424262,
          -97.657605
         ],
         "mode": "lines",
         "opacity": 1,
         "type": "scattergeo"
        },
        {
         "hoverinfo": "skip",
         "lat": [
          30.192364,
          25.909012
         ],
         "line": {
          "color": "red",
          "width": 1
         },
         "lon": [
          -97.657605,
          -97.429116
         ],
         "mode": "lines",
         "opacity": 1,
         "type": "scattergeo"
        },
        {
         "hoverinfo": "skip",
         "lat": [
          25.909012,
          30.19241
         ],
         "line": {
          "color": "red",
          "width": 1
         },
         "lon": [
          -97.429116,
          -97.657605
         ],
         "mode": "lines",
         "opacity": 1,
         "type": "scattergeo"
        },
        {
         "hoverinfo": "skip",
         "lat": [
          30.19241,
          25.909765
         ],
         "line": {
          "color": "red",
          "width": 1
         },
         "lon": [
          -97.657605,
          -97.429082
         ],
         "mode": "lines",
         "opacity": 1,
         "type": "scattergeo"
        },
        {
         "hoverinfo": "skip",
         "lat": [
          25.909765,
          30.192047
         ],
         "line": {
          "color": "red",
          "width": 1
         },
         "lon": [
          -97.429082,
          -97.657594
         ],
         "mode": "lines",
         "opacity": 1,
         "type": "scattergeo"
        },
        {
         "hoverinfo": "skip",
         "lat": [
          30.192047,
          33.922794
         ],
         "line": {
          "color": "red",
          "width": 1
         },
         "lon": [
          -97.657594,
          -118.336417
         ],
         "mode": "lines",
         "opacity": 1,
         "type": "scattergeo"
        },
        {
         "hoverinfo": "skip",
         "lat": [
          33.922794,
          30.192431
         ],
         "line": {
          "color": "red",
          "width": 1
         },
         "lon": [
          -118.336417,
          -97.657608
         ],
         "mode": "lines",
         "opacity": 1,
         "type": "scattergeo"
        },
        {
         "hoverinfo": "skip",
         "lat": [
          30.192431,
          33.922802
         ],
         "line": {
          "color": "red",
          "width": 1
         },
         "lon": [
          -97.657608,
          -118.336158
         ],
         "mode": "lines",
         "opacity": 1,
         "type": "scattergeo"
        },
        {
         "hoverinfo": "skip",
         "lat": [
          33.922802,
          30.191242
         ],
         "line": {
          "color": "red",
          "width": 1
         },
         "lon": [
          -118.336158,
          -97.657551
         ],
         "mode": "lines",
         "opacity": 1,
         "type": "scattergeo"
        },
        {
         "hoverinfo": "skip",
         "lat": [
          30.191242,
          25.80351
         ],
         "line": {
          "color": "red",
          "width": 1
         },
         "lon": [
          -97.657551,
          -80.287335
         ],
         "mode": "lines",
         "opacity": 1,
         "type": "scattergeo"
        },
        {
         "hoverinfo": "skip",
         "lat": [
          25.80351,
          25.90329
         ],
         "line": {
          "color": "red",
          "width": 1
         },
         "lon": [
          -80.287335,
          -97.420902
         ],
         "mode": "lines",
         "opacity": 1,
         "type": "scattergeo"
        },
        {
         "hoverinfo": "skip",
         "lat": [
          25.90329,
          30.191931
         ],
         "line": {
          "color": "red",
          "width": 1
         },
         "lon": [
          -97.420902,
          -97.657608
         ],
         "mode": "lines",
         "opacity": 1,
         "type": "scattergeo"
        },
        {
         "hoverinfo": "skip",
         "lat": [
          30.191931,
          25.904563
         ],
         "line": {
          "color": "red",
          "width": 1
         },
         "lon": [
          -97.657608,
          -97.422295
         ],
         "mode": "lines",
         "opacity": 1,
         "type": "scattergeo"
        },
        {
         "hoverinfo": "skip",
         "lat": [
          25.904563,
          30.192398
         ],
         "line": {
          "color": "red",
          "width": 1
         },
         "lon": [
          -97.422295,
          -97.657592
         ],
         "mode": "lines",
         "opacity": 1,
         "type": "scattergeo"
        },
        {
         "hoverinfo": "skip",
         "lat": [
          30.192398,
          33.92272
         ],
         "line": {
          "color": "red",
          "width": 1
         },
         "lon": [
          -97.657592,
          -118.33806
         ],
         "mode": "lines",
         "opacity": 1,
         "type": "scattergeo"
        },
        {
         "hoverinfo": "skip",
         "lat": [
          33.92272,
          30.191551
         ],
         "line": {
          "color": "red",
          "width": 1
         },
         "lon": [
          -118.33806,
          -97.657592
         ],
         "mode": "lines",
         "opacity": 1,
         "type": "scattergeo"
        },
        {
         "hoverinfo": "skip",
         "lat": [
          30.191551,
          25.905945
         ],
         "line": {
          "color": "red",
          "width": 1
         },
         "lon": [
          -97.657592,
          -97.423791
         ],
         "mode": "lines",
         "opacity": 1,
         "type": "scattergeo"
        },
        {
         "hoverinfo": "skip",
         "lat": [
          25.905945,
          30.192303
         ],
         "line": {
          "color": "red",
          "width": 1
         },
         "lon": [
          -97.423791,
          -97.657622
         ],
         "mode": "lines",
         "opacity": 1,
         "type": "scattergeo"
        },
        {
         "hoverinfo": "skip",
         "lat": [
          30.192303,
          25.90591
         ],
         "line": {
          "color": "red",
          "width": 1
         },
         "lon": [
          -97.657622,
          -97.423778
         ],
         "mode": "lines",
         "opacity": 1,
         "type": "scattergeo"
        },
        {
         "hoverinfo": "skip",
         "lat": [
          25.90591,
          30.191895
         ],
         "line": {
          "color": "red",
          "width": 1
         },
         "lon": [
          -97.423778,
          -97.657578
         ],
         "mode": "lines",
         "opacity": 1,
         "type": "scattergeo"
        },
        {
         "hoverinfo": "skip",
         "lat": [
          30.191895,
          25.903301
         ],
         "line": {
          "color": "red",
          "width": 1
         },
         "lon": [
          -97.657578,
          -97.429349
         ],
         "mode": "lines",
         "opacity": 1,
         "type": "scattergeo"
        },
        {
         "hoverinfo": "skip",
         "lat": [
          25.903301,
          30.191334
         ],
         "line": {
          "color": "red",
          "width": 1
         },
         "lon": [
          -97.429349,
          -97.657578
         ],
         "mode": "lines",
         "opacity": 1,
         "type": "scattergeo"
        },
        {
         "hoverinfo": "skip",
         "lat": [
          30.191334,
          33.922726
         ],
         "line": {
          "color": "red",
          "width": 1
         },
         "lon": [
          -97.657578,
          -118.337888
         ],
         "mode": "lines",
         "opacity": 1,
         "type": "scattergeo"
        },
        {
         "hoverinfo": "skip",
         "lat": [
          33.922726,
          30.19091
         ],
         "line": {
          "color": "red",
          "width": 1
         },
         "lon": [
          -118.337888,
          -97.657551
         ],
         "mode": "lines",
         "opacity": 1,
         "type": "scattergeo"
        },
        {
         "hoverinfo": "skip",
         "lat": [
          30.19091,
          37.364618
         ],
         "line": {
          "color": "red",
          "width": 1
         },
         "lon": [
          -97.657551,
          -121.932031
         ],
         "mode": "lines",
         "opacity": 1,
         "type": "scattergeo"
        },
        {
         "hoverinfo": "skip",
         "lat": [
          37.364618,
          33.922829
         ],
         "line": {
          "color": "red",
          "width": 1
         },
         "lon": [
          -121.932031,
          -118.335772
         ],
         "mode": "lines",
         "opacity": 1,
         "type": "scattergeo"
        },
        {
         "hoverinfo": "skip",
         "lat": [
          33.922829,
          30.190558
         ],
         "line": {
          "color": "red",
          "width": 1
         },
         "lon": [
          -118.335772,
          -97.657539
         ],
         "mode": "lines",
         "opacity": 1,
         "type": "scattergeo"
        },
        {
         "hoverinfo": "skip",
         "lat": [
          30.190558,
          20.898428
         ],
         "line": {
          "color": "red",
          "width": 1
         },
         "lon": [
          -97.657539,
          -156.429457
         ],
         "mode": "lines",
         "opacity": 1,
         "type": "scattergeo"
        },
        {
         "hoverinfo": "skip",
         "lat": [
          20.898428,
          30.192455
         ],
         "line": {
          "color": "red",
          "width": 1
         },
         "lon": [
          -156.429457,
          -97.657605
         ],
         "mode": "lines",
         "opacity": 1,
         "type": "scattergeo"
        },
        {
         "hoverinfo": "skip",
         "lat": [
          30.192455,
          33.922737
         ],
         "line": {
          "color": "red",
          "width": 1
         },
         "lon": [
          -97.657605,
          -118.33765
         ],
         "mode": "lines",
         "opacity": 1,
         "type": "scattergeo"
        },
        {
         "hoverinfo": "skip",
         "lat": [
          33.922737,
          25.905913
         ],
         "line": {
          "color": "red",
          "width": 1
         },
         "lon": [
          -118.33765,
          -97.42376
         ],
         "mode": "lines",
         "opacity": 1,
         "type": "scattergeo"
        },
        {
         "hoverinfo": "skip",
         "lat": [
          25.905913,
          30.191163
         ],
         "line": {
          "color": "red",
          "width": 1
         },
         "lon": [
          -97.42376,
          -97.657581
         ],
         "mode": "lines",
         "opacity": 1,
         "type": "scattergeo"
        },
        {
         "hoverinfo": "skip",
         "lat": [
          30.191163,
          33.922726
         ],
         "line": {
          "color": "red",
          "width": 1
         },
         "lon": [
          -97.657581,
          -118.337776
         ],
         "mode": "lines",
         "opacity": 1,
         "type": "scattergeo"
        },
        {
         "hoverinfo": "skip",
         "lat": [
          33.922726,
          30.190899
         ],
         "line": {
          "color": "red",
          "width": 1
         },
         "lon": [
          -118.337776,
          -97.657592
         ],
         "mode": "lines",
         "opacity": 1,
         "type": "scattergeo"
        },
        {
         "hoverinfo": "skip",
         "lat": [
          30.190899,
          37.363268
         ],
         "line": {
          "color": "red",
          "width": 1
         },
         "lon": [
          -97.657592,
          -121.930539
         ],
         "mode": "lines",
         "opacity": 1,
         "type": "scattergeo"
        },
        {
         "hoverinfo": "skip",
         "lat": [
          37.363268,
          30.191861
         ],
         "line": {
          "color": "red",
          "width": 1
         },
         "lon": [
          -121.930539,
          -97.657594
         ],
         "mode": "lines",
         "opacity": 1,
         "type": "scattergeo"
        },
        {
         "hoverinfo": "skip",
         "lat": [
          30.191861,
          25.898686
         ],
         "line": {
          "color": "red",
          "width": 1
         },
         "lon": [
          -97.657594,
          -97.429716
         ],
         "mode": "lines",
         "opacity": 1,
         "type": "scattergeo"
        },
        {
         "hoverinfo": "skip",
         "lat": [
          25.898686,
          30.192055
         ],
         "line": {
          "color": "red",
          "width": 1
         },
         "lon": [
          -97.429716,
          -97.657592
         ],
         "mode": "lines",
         "opacity": 1,
         "type": "scattergeo"
        },
        {
         "hoverinfo": "skip",
         "lat": [
          30.192055,
          34.211391
         ],
         "line": {
          "color": "red",
          "width": 1
         },
         "lon": [
          -97.657592,
          -118.490548
         ],
         "mode": "lines",
         "opacity": 1,
         "type": "scattergeo"
        },
        {
         "hoverinfo": "skip",
         "lat": [
          34.211391,
          30.189545
         ],
         "line": {
          "color": "red",
          "width": 1
         },
         "lon": [
          -118.490548,
          -97.661275
         ],
         "mode": "lines",
         "opacity": 1,
         "type": "scattergeo"
        },
        {
         "hoverinfo": "skip",
         "lat": [
          30.189545,
          49.187782
         ],
         "line": {
          "color": "red",
          "width": 1
         },
         "lon": [
          -97.661275,
          -123.187585
         ],
         "mode": "lines",
         "opacity": 1,
         "type": "scattergeo"
        },
        {
         "hoverinfo": "skip",
         "lat": [
          49.187782,
          47.529167
         ],
         "line": {
          "color": "red",
          "width": 1
         },
         "lon": [
          -123.187585,
          -122.301744
         ],
         "mode": "lines",
         "opacity": 1,
         "type": "scattergeo"
        },
        {
         "hoverinfo": "skip",
         "lat": [
          47.529167,
          30.190876
         ],
         "line": {
          "color": "red",
          "width": 1
         },
         "lon": [
          -122.301744,
          -97.657605
         ],
         "mode": "lines",
         "opacity": 1,
         "type": "scattergeo"
        },
        {
         "hoverinfo": "skip",
         "lat": [
          30.190876,
          33.923092
         ],
         "line": {
          "color": "red",
          "width": 1
         },
         "lon": [
          -97.657605,
          -118.340312
         ],
         "mode": "lines",
         "opacity": 1,
         "type": "scattergeo"
        },
        {
         "hoverinfo": "skip",
         "lat": [
          33.923092,
          30.1942
         ],
         "line": {
          "color": "red",
          "width": 1
         },
         "lon": [
          -118.340312,
          -97.657635
         ],
         "mode": "lines",
         "opacity": 1,
         "type": "scattergeo"
        },
        {
         "hoverinfo": "skip",
         "lat": [
          30.1942,
          25.9021
         ],
         "line": {
          "color": "red",
          "width": 1
         },
         "lon": [
          -97.657635,
          -97.419606
         ],
         "mode": "lines",
         "opacity": 1,
         "type": "scattergeo"
        },
        {
         "hoverinfo": "skip",
         "lat": [
          25.9021,
          29.640301
         ],
         "line": {
          "color": "red",
          "width": 1
         },
         "lon": [
          -97.419606,
          -95.272883
         ],
         "mode": "lines",
         "opacity": 1,
         "type": "scattergeo"
        },
        {
         "hoverinfo": "skip",
         "lat": [
          29.640301,
          30.19299
         ],
         "line": {
          "color": "red",
          "width": 1
         },
         "lon": [
          -95.272883,
          -97.657622
         ],
         "mode": "lines",
         "opacity": 1,
         "type": "scattergeo"
        },
        {
         "hoverinfo": "skip",
         "lat": [
          30.19299,
          33.922829
         ],
         "line": {
          "color": "red",
          "width": 1
         },
         "lon": [
          -97.657622,
          -118.33573
         ],
         "mode": "lines",
         "opacity": 1,
         "type": "scattergeo"
        },
        {
         "hoverinfo": "skip",
         "lat": [
          33.922829,
          30.190006
         ],
         "line": {
          "color": "red",
          "width": 1
         },
         "lon": [
          -118.33573,
          -97.657551
         ],
         "mode": "lines",
         "opacity": 1,
         "type": "scattergeo"
        },
        {
         "hoverinfo": "skip",
         "lat": [
          30.190006,
          33.922732
         ],
         "line": {
          "color": "red",
          "width": 1
         },
         "lon": [
          -97.657551,
          -118.337145
         ],
         "mode": "lines",
         "opacity": 1,
         "type": "scattergeo"
        },
        {
         "hoverinfo": "skip",
         "lat": [
          33.922732,
          29.639683
         ],
         "line": {
          "color": "red",
          "width": 1
         },
         "lon": [
          -118.337145,
          -95.272157
         ],
         "mode": "lines",
         "opacity": 1,
         "type": "scattergeo"
        },
        {
         "hoverinfo": "skip",
         "lat": [
          29.639683,
          30.190029
         ],
         "line": {
          "color": "red",
          "width": 1
         },
         "lon": [
          -95.272157,
          -97.657525
         ],
         "mode": "lines",
         "opacity": 1,
         "type": "scattergeo"
        },
        {
         "hoverinfo": "skip",
         "lat": [
          30.190029,
          25.906181
         ],
         "line": {
          "color": "red",
          "width": 1
         },
         "lon": [
          -97.657525,
          -97.424064
         ],
         "mode": "lines",
         "opacity": 1,
         "type": "scattergeo"
        },
        {
         "hoverinfo": "skip",
         "lat": [
          25.906181,
          30.192292
         ],
         "line": {
          "color": "red",
          "width": 1
         },
         "lon": [
          -97.424064,
          -97.657608
         ],
         "mode": "lines",
         "opacity": 1,
         "type": "scattergeo"
        },
        {
         "hoverinfo": "skip",
         "lat": [
          30.192292,
          33.922779
         ],
         "line": {
          "color": "red",
          "width": 1
         },
         "lon": [
          -97.657608,
          -118.336916
         ],
         "mode": "lines",
         "opacity": 1,
         "type": "scattergeo"
        },
        {
         "hoverinfo": "skip",
         "lat": [
          33.922779,
          37.365246
         ],
         "line": {
          "color": "red",
          "width": 1
         },
         "lon": [
          -118.336916,
          -121.932698
         ],
         "mode": "lines",
         "opacity": 1,
         "type": "scattergeo"
        },
        {
         "hoverinfo": "skip",
         "lat": [
          37.365246,
          30.192024
         ],
         "line": {
          "color": "red",
          "width": 1
         },
         "lon": [
          -121.932698,
          -97.657608
         ],
         "mode": "lines",
         "opacity": 1,
         "type": "scattergeo"
        },
        {
         "hoverinfo": "skip",
         "lat": [
          30.192024,
          25.906345
         ],
         "line": {
          "color": "red",
          "width": 1
         },
         "lon": [
          -97.657608,
          -97.424231
         ],
         "mode": "lines",
         "opacity": 1,
         "type": "scattergeo"
        },
        {
         "hoverinfo": "skip",
         "lat": [
          25.906345,
          30.19257
         ],
         "line": {
          "color": "red",
          "width": 1
         },
         "lon": [
          -97.424231,
          -97.657605
         ],
         "mode": "lines",
         "opacity": 1,
         "type": "scattergeo"
        },
        {
         "hoverinfo": "skip",
         "lat": [
          30.19257,
          33.922794
         ],
         "line": {
          "color": "red",
          "width": 1
         },
         "lon": [
          -97.657605,
          -118.336417
         ],
         "mode": "lines",
         "opacity": 1,
         "type": "scattergeo"
        },
        {
         "hoverinfo": "skip",
         "lat": [
          33.922794,
          30.192769
         ],
         "line": {
          "color": "red",
          "width": 1
         },
         "lon": [
          -118.336417,
          -97.657594
         ],
         "mode": "lines",
         "opacity": 1,
         "type": "scattergeo"
        },
        {
         "hoverinfo": "skip",
         "lat": [
          30.192769,
          41.795689
         ],
         "line": {
          "color": "red",
          "width": 1
         },
         "lon": [
          -97.657594,
          12.59737
         ],
         "mode": "lines",
         "opacity": 1,
         "type": "scattergeo"
        },
        {
         "hoverinfo": "skip",
         "lat": [
          41.795689,
          45.505976
         ],
         "line": {
          "color": "red",
          "width": 1
         },
         "lon": [
          12.59737,
          12.344647
         ],
         "mode": "lines",
         "opacity": 1,
         "type": "scattergeo"
        },
        {
         "hoverinfo": "skip",
         "lat": [
          45.505976,
          25.906669
         ],
         "line": {
          "color": "red",
          "width": 1
         },
         "lon": [
          12.344647,
          -97.424592
         ],
         "mode": "lines",
         "opacity": 1,
         "type": "scattergeo"
        },
        {
         "hoverinfo": "skip",
         "lat": [
          25.906669,
          30.191849
         ],
         "line": {
          "color": "red",
          "width": 1
         },
         "lon": [
          -97.424592,
          -97.657578
         ],
         "mode": "lines",
         "opacity": 1,
         "type": "scattergeo"
        },
        {
         "hoverinfo": "skip",
         "lat": [
          30.191849,
          33.922817
         ],
         "line": {
          "color": "red",
          "width": 1
         },
         "lon": [
          -97.657578,
          -118.336052
         ],
         "mode": "lines",
         "opacity": 1,
         "type": "scattergeo"
        },
        {
         "hoverinfo": "skip",
         "lat": [
          33.922817,
          30.191256
         ],
         "line": {
          "color": "red",
          "width": 1
         },
         "lon": [
          -118.336052,
          -97.657594
         ],
         "mode": "lines",
         "opacity": 1,
         "type": "scattergeo"
        },
        {
         "hoverinfo": "skip",
         "lat": [
          30.191256,
          25.905797
         ],
         "line": {
          "color": "red",
          "width": 1
         },
         "lon": [
          -97.657594,
          -97.423628
         ],
         "mode": "lines",
         "opacity": 1,
         "type": "scattergeo"
        },
        {
         "hoverinfo": "skip",
         "lat": [
          25.905797,
          37.363536
         ],
         "line": {
          "color": "red",
          "width": 1
         },
         "lon": [
          -97.423628,
          -121.930822
         ],
         "mode": "lines",
         "opacity": 1,
         "type": "scattergeo"
        },
        {
         "hoverinfo": "skip",
         "lat": [
          37.363536,
          33.922744
         ],
         "line": {
          "color": "red",
          "width": 1
         },
         "lon": [
          -121.930822,
          -118.337388
         ],
         "mode": "lines",
         "opacity": 1,
         "type": "scattergeo"
        },
        {
         "hoverinfo": "skip",
         "lat": [
          33.922744,
          30.191105
         ],
         "line": {
          "color": "red",
          "width": 1
         },
         "lon": [
          -118.337388,
          -97.657578
         ],
         "mode": "lines",
         "opacity": 1,
         "type": "scattergeo"
        },
        {
         "hoverinfo": "skip",
         "lat": [
          30.191105,
          33.819065
         ],
         "line": {
          "color": "red",
          "width": 1
         },
         "lon": [
          -97.657578,
          -118.152914
         ],
         "mode": "lines",
         "opacity": 1,
         "type": "scattergeo"
        },
        {
         "hoverinfo": "skip",
         "lat": [
          33.819065,
          25.905888
         ],
         "line": {
          "color": "red",
          "width": 1
         },
         "lon": [
          -118.152914,
          -97.423726
         ],
         "mode": "lines",
         "opacity": 1,
         "type": "scattergeo"
        },
        {
         "hoverinfo": "skip",
         "lat": [
          25.905888,
          30.189629
         ],
         "line": {
          "color": "red",
          "width": 1
         },
         "lon": [
          -97.423726,
          -97.657538
         ],
         "mode": "lines",
         "opacity": 1,
         "type": "scattergeo"
        },
        {
         "hoverinfo": "skip",
         "lat": [
          30.189629,
          37.363745
         ],
         "line": {
          "color": "red",
          "width": 1
         },
         "lon": [
          -97.657538,
          -121.931061
         ],
         "mode": "lines",
         "opacity": 1,
         "type": "scattergeo"
        },
        {
         "hoverinfo": "skip",
         "lat": [
          37.363745,
          30.191998
         ],
         "line": {
          "color": "red",
          "width": 1
         },
         "lon": [
          -121.931061,
          -97.657592
         ],
         "mode": "lines",
         "opacity": 1,
         "type": "scattergeo"
        },
        {
         "hoverinfo": "skip",
         "lat": [
          30.191998,
          25.905693
         ],
         "line": {
          "color": "red",
          "width": 1
         },
         "lon": [
          -97.657592,
          -97.423532
         ],
         "mode": "lines",
         "opacity": 1,
         "type": "scattergeo"
        },
        {
         "hoverinfo": "skip",
         "lat": [
          25.905693,
          30.192012
         ],
         "line": {
          "color": "red",
          "width": 1
         },
         "lon": [
          -97.423532,
          -97.657594
         ],
         "mode": "lines",
         "opacity": 1,
         "type": "scattergeo"
        },
        {
         "hoverinfo": "skip",
         "lat": [
          30.192012,
          25.904652
         ],
         "line": {
          "color": "red",
          "width": 1
         },
         "lon": [
          -97.657594,
          -97.422392
         ],
         "mode": "lines",
         "opacity": 1,
         "type": "scattergeo"
        },
        {
         "hoverinfo": "skip",
         "lat": [
          25.904652,
          33.922691
         ],
         "line": {
          "color": "red",
          "width": 1
         },
         "lon": [
          -97.422392,
          -118.338631
         ],
         "mode": "lines",
         "opacity": 1,
         "type": "scattergeo"
        },
        {
         "hoverinfo": "skip",
         "lat": [
          33.922691,
          37.365875
         ],
         "line": {
          "color": "red",
          "width": 1
         },
         "lon": [
          -118.338631,
          -121.933384
         ],
         "mode": "lines",
         "opacity": 1,
         "type": "scattergeo"
        },
        {
         "hoverinfo": "skip",
         "lat": [
          37.365875,
          30.191221
         ],
         "line": {
          "color": "red",
          "width": 1
         },
         "lon": [
          -121.933384,
          -97.657567
         ],
         "mode": "lines",
         "opacity": 1,
         "type": "scattergeo"
        },
        {
         "hoverinfo": "skip",
         "lat": [
          30.191221,
          25.905866
         ],
         "line": {
          "color": "red",
          "width": 1
         },
         "lon": [
          -97.657567,
          -97.423721
         ],
         "mode": "lines",
         "opacity": 1,
         "type": "scattergeo"
        },
        {
         "hoverinfo": "skip",
         "lat": [
          25.905866,
          37.36548
         ],
         "line": {
          "color": "red",
          "width": 1
         },
         "lon": [
          -97.423721,
          -121.932942
         ],
         "mode": "lines",
         "opacity": 1,
         "type": "scattergeo"
        },
        {
         "hoverinfo": "skip",
         "lat": [
          37.36548,
          25.904434
         ],
         "line": {
          "color": "red",
          "width": 1
         },
         "lon": [
          -121.932942,
          -97.422159
         ],
         "mode": "lines",
         "opacity": 1,
         "type": "scattergeo"
        },
        {
         "hoverinfo": "skip",
         "lat": [
          25.904434,
          30.19202
         ],
         "line": {
          "color": "red",
          "width": 1
         },
         "lon": [
          -97.422159,
          -97.657578
         ],
         "mode": "lines",
         "opacity": 1,
         "type": "scattergeo"
        },
        {
         "hoverinfo": "skip",
         "lat": [
          30.19202,
          25.903027
         ],
         "line": {
          "color": "red",
          "width": 1
         },
         "lon": [
          -97.657578,
          -97.431215
         ],
         "mode": "lines",
         "opacity": 1,
         "type": "scattergeo"
        },
        {
         "hoverinfo": "skip",
         "lat": [
          25.903027,
          40.843106
         ],
         "line": {
          "color": "red",
          "width": 1
         },
         "lon": [
          -97.431215,
          -72.63074
         ],
         "mode": "lines",
         "opacity": 1,
         "type": "scattergeo"
        },
        {
         "hoverinfo": "skip",
         "lat": [
          40.843106,
          30.190498
         ],
         "line": {
          "color": "red",
          "width": 1
         },
         "lon": [
          -72.63074,
          -97.657605
         ],
         "mode": "lines",
         "opacity": 1,
         "type": "scattergeo"
        },
        {
         "hoverinfo": "skip",
         "lat": [
          30.190498,
          37.364582
         ],
         "line": {
          "color": "red",
          "width": 1
         },
         "lon": [
          -97.657605,
          -121.931982
         ],
         "mode": "lines",
         "opacity": 1,
         "type": "scattergeo"
        },
        {
         "hoverinfo": "skip",
         "lat": [
          37.364582,
          33.922714
         ],
         "line": {
          "color": "red",
          "width": 1
         },
         "lon": [
          -121.931982,
          -118.338056
         ],
         "mode": "lines",
         "opacity": 1,
         "type": "scattergeo"
        },
        {
         "hoverinfo": "skip",
         "lat": [
          33.922714,
          25.904789
         ],
         "line": {
          "color": "red",
          "width": 1
         },
         "lon": [
          -118.338056,
          -97.42256
         ],
         "mode": "lines",
         "opacity": 1,
         "type": "scattergeo"
        },
        {
         "hoverinfo": "skip",
         "lat": [
          25.904789,
          30.191597
         ],
         "line": {
          "color": "red",
          "width": 1
         },
         "lon": [
          -97.42256,
          -97.657592
         ],
         "mode": "lines",
         "opacity": 1,
         "type": "scattergeo"
        },
        {
         "hoverinfo": "skip",
         "lat": [
          30.191597,
          33.935806
         ],
         "line": {
          "color": "red",
          "width": 1
         },
         "lon": [
          -97.657592,
          -118.397893
         ],
         "mode": "lines",
         "opacity": 1,
         "type": "scattergeo"
        },
        {
         "hoverinfo": "skip",
         "lat": [
          33.935806,
          58.879005
         ],
         "line": {
          "color": "red",
          "width": 1
         },
         "lon": [
          -118.397893,
          5.637749
         ],
         "mode": "lines",
         "opacity": 1,
         "type": "scattergeo"
        },
        {
         "hoverinfo": "skip",
         "lat": [
          58.879005,
          52.372804
         ],
         "line": {
          "color": "red",
          "width": 1
         },
         "lon": [
          5.637749,
          13.506513
         ],
         "mode": "lines",
         "opacity": 1,
         "type": "scattergeo"
        },
        {
         "hoverinfo": "skip",
         "lat": [
          52.372804,
          33.935813
         ],
         "line": {
          "color": "red",
          "width": 1
         },
         "lon": [
          13.506513,
          -118.398013
         ],
         "mode": "lines",
         "opacity": 1,
         "type": "scattergeo"
        },
        {
         "hoverinfo": "skip",
         "lat": [
          33.935813,
          41.721394
         ],
         "line": {
          "color": "red",
          "width": 1
         },
         "lon": [
          -118.398013,
          -71.428627
         ],
         "mode": "lines",
         "opacity": 1,
         "type": "scattergeo"
        },
        {
         "hoverinfo": "skip",
         "lat": [
          41.721394,
          40.853428
         ],
         "line": {
          "color": "red",
          "width": 1
         },
         "lon": [
          -71.428627,
          -74.05928
         ],
         "mode": "lines",
         "opacity": 1,
         "type": "scattergeo"
        },
        {
         "hoverinfo": "skip",
         "lat": [
          40.853428,
          30.191872
         ],
         "line": {
          "color": "red",
          "width": 1
         },
         "lon": [
          -74.05928,
          -97.657605
         ],
         "mode": "lines",
         "opacity": 1,
         "type": "scattergeo"
        },
        {
         "hoverinfo": "skip",
         "lat": [
          30.191872,
          25.903416
         ],
         "line": {
          "color": "red",
          "width": 1
         },
         "lon": [
          -97.657605,
          -97.421057
         ],
         "mode": "lines",
         "opacity": 1,
         "type": "scattergeo"
        },
        {
         "hoverinfo": "skip",
         "lat": [
          25.903416,
          33.948349
         ],
         "line": {
          "color": "red",
          "width": 1
         },
         "lon": [
          -97.421057,
          -118.419809
         ],
         "mode": "lines",
         "opacity": 1,
         "type": "scattergeo"
        },
        {
         "hoverinfo": "skip",
         "lat": [
          33.948349,
          30.192059
         ],
         "line": {
          "color": "red",
          "width": 1
         },
         "lon": [
          -118.419809,
          -97.657608
         ],
         "mode": "lines",
         "opacity": 1,
         "type": "scattergeo"
        },
        {
         "hoverinfo": "skip",
         "lat": [
          30.192059,
          37.364816
         ],
         "line": {
          "color": "red",
          "width": 1
         },
         "lon": [
          -97.657608,
          -121.93224
         ],
         "mode": "lines",
         "opacity": 1,
         "type": "scattergeo"
        },
        {
         "hoverinfo": "skip",
         "lat": [
          37.364816,
          33.922794
         ],
         "line": {
          "color": "red",
          "width": 1
         },
         "lon": [
          -121.93224,
          -118.336627
         ],
         "mode": "lines",
         "opacity": 1,
         "type": "scattergeo"
        },
        {
         "hoverinfo": "skip",
         "lat": [
          33.922794,
          30.192315
         ],
         "line": {
          "color": "red",
          "width": 1
         },
         "lon": [
          -118.336627,
          -97.657608
         ],
         "mode": "lines",
         "opacity": 1,
         "type": "scattergeo"
        },
        {
         "hoverinfo": "skip",
         "lat": [
          30.192315,
          25.90448
         ],
         "line": {
          "color": "red",
          "width": 1
         },
         "lon": [
          -97.657608,
          -97.422223
         ],
         "mode": "lines",
         "opacity": 1,
         "type": "scattergeo"
        },
        {
         "hoverinfo": "skip",
         "lat": [
          25.90448,
          30.191524
         ],
         "line": {
          "color": "red",
          "width": 1
         },
         "lon": [
          -97.422223,
          -97.657594
         ],
         "mode": "lines",
         "opacity": 1,
         "type": "scattergeo"
        },
        {
         "hoverinfo": "skip",
         "lat": [
          30.191524,
          39.907662
         ],
         "line": {
          "color": "red",
          "width": 1
         },
         "lon": [
          -97.657594,
          -105.113892
         ],
         "mode": "lines",
         "opacity": 1,
         "type": "scattergeo"
        },
        {
         "hoverinfo": "skip",
         "lat": [
          39.907662,
          30.198978
         ],
         "line": {
          "color": "red",
          "width": 1
         },
         "lon": [
          -105.113892,
          -97.678972
         ],
         "mode": "lines",
         "opacity": 1,
         "type": "scattergeo"
        },
        {
         "hoverinfo": "skip",
         "lat": [
          30.198978,
          37.364651
         ],
         "line": {
          "color": "red",
          "width": 1
         },
         "lon": [
          -97.678972,
          -121.93204
         ],
         "mode": "lines",
         "opacity": 1,
         "type": "scattergeo"
        },
        {
         "hoverinfo": "skip",
         "lat": [
          37.364651,
          33.92272
         ],
         "line": {
          "color": "red",
          "width": 1
         },
         "lon": [
          -121.93204,
          -118.338017
         ],
         "mode": "lines",
         "opacity": 1,
         "type": "scattergeo"
        },
        {
         "hoverinfo": "skip",
         "lat": [
          33.92272,
          37.365234
         ],
         "line": {
          "color": "red",
          "width": 1
         },
         "lon": [
          -118.338017,
          -121.932683
         ],
         "mode": "lines",
         "opacity": 1,
         "type": "scattergeo"
        },
        {
         "hoverinfo": "skip",
         "lat": [
          37.365234,
          32.847713
         ],
         "line": {
          "color": "red",
          "width": 1
         },
         "lon": [
          -121.932683,
          -96.845702
         ],
         "mode": "lines",
         "opacity": 1,
         "type": "scattergeo"
        },
        {
         "hoverinfo": "skip",
         "lat": [
          32.847713,
          30.191551
         ],
         "line": {
          "color": "red",
          "width": 1
         },
         "lon": [
          -96.845702,
          -97.657578
         ],
         "mode": "lines",
         "opacity": 1,
         "type": "scattergeo"
        },
        {
         "hoverinfo": "skip",
         "lat": [
          30.191551,
          25.901585
         ],
         "line": {
          "color": "red",
          "width": 1
         },
         "lon": [
          -97.657578,
          -97.419049
         ],
         "mode": "lines",
         "opacity": 1,
         "type": "scattergeo"
        },
        {
         "hoverinfo": "skip",
         "lat": [
          25.901585,
          30.193119
         ],
         "line": {
          "color": "red",
          "width": 1
         },
         "lon": [
          -97.419049,
          -97.657619
         ],
         "mode": "lines",
         "opacity": 1,
         "type": "scattergeo"
        },
        {
         "hoverinfo": "skip",
         "lat": [
          30.193119,
          25.9039
         ],
         "line": {
          "color": "red",
          "width": 1
         },
         "lon": [
          -97.657619,
          -97.421582
         ],
         "mode": "lines",
         "opacity": 1,
         "type": "scattergeo"
        },
        {
         "hoverinfo": "skip",
         "lat": [
          25.9039,
          30.19289
         ],
         "line": {
          "color": "red",
          "width": 1
         },
         "lon": [
          -97.421582,
          -97.657605
         ],
         "mode": "lines",
         "opacity": 1,
         "type": "scattergeo"
        },
        {
         "hoverinfo": "skip",
         "lat": [
          30.19289,
          37.365445
         ],
         "line": {
          "color": "red",
          "width": 1
         },
         "lon": [
          -97.657605,
          -121.932912
         ],
         "mode": "lines",
         "opacity": 1,
         "type": "scattergeo"
        },
        {
         "hoverinfo": "skip",
         "lat": [
          37.365445,
          30.191163
         ],
         "line": {
          "color": "red",
          "width": 1
         },
         "lon": [
          -121.932912,
          -97.657567
         ],
         "mode": "lines",
         "opacity": 1,
         "type": "scattergeo"
        },
        {
         "hoverinfo": "skip",
         "lat": [
          30.191163,
          37.364285
         ],
         "line": {
          "color": "red",
          "width": 1
         },
         "lon": [
          -97.657567,
          -121.93166
         ],
         "mode": "lines",
         "opacity": 1,
         "type": "scattergeo"
        },
        {
         "hoverinfo": "skip",
         "lat": [
          37.364285,
          33.92279
         ],
         "line": {
          "color": "red",
          "width": 1
         },
         "lon": [
          -121.93166,
          -118.336544
         ],
         "mode": "lines",
         "opacity": 1,
         "type": "scattergeo"
        },
        {
         "hoverinfo": "skip",
         "lat": [
          33.92279,
          37.364399
         ],
         "line": {
          "color": "red",
          "width": 1
         },
         "lon": [
          -118.336544,
          -121.931763
         ],
         "mode": "lines",
         "opacity": 1,
         "type": "scattergeo"
        },
        {
         "hoverinfo": "skip",
         "lat": [
          37.364399,
          33.92272
         ],
         "line": {
          "color": "red",
          "width": 1
         },
         "lon": [
          -121.931763,
          -118.337817
         ],
         "mode": "lines",
         "opacity": 1,
         "type": "scattergeo"
        },
        {
         "hoverinfo": "skip",
         "lat": [
          33.92272,
          40.850206
         ],
         "line": {
          "color": "red",
          "width": 1
         },
         "lon": [
          -118.337817,
          -74.060976
         ],
         "mode": "lines",
         "opacity": 1,
         "type": "scattergeo"
        },
        {
         "hoverinfo": "skip",
         "lat": [
          40.850206,
          38.941529
         ],
         "line": {
          "color": "red",
          "width": 1
         },
         "lon": [
          -74.060976,
          -77.436188
         ],
         "mode": "lines",
         "opacity": 1,
         "type": "scattergeo"
        },
        {
         "hoverinfo": "skip",
         "lat": [
          38.941529,
          37.620202
         ],
         "line": {
          "color": "red",
          "width": 1
         },
         "lon": [
          -77.436188,
          -122.373037
         ],
         "mode": "lines",
         "opacity": 1,
         "type": "scattergeo"
        },
        {
         "hoverinfo": "skip",
         "lat": [
          37.620202,
          37.367004
         ],
         "line": {
          "color": "red",
          "width": 1
         },
         "lon": [
          -122.373037,
          -121.931449
         ],
         "mode": "lines",
         "opacity": 1,
         "type": "scattergeo"
        },
        {
         "hoverinfo": "skip",
         "lat": [
          37.367004,
          40.848844
         ],
         "line": {
          "color": "red",
          "width": 1
         },
         "lon": [
          -121.931449,
          -74.061069
         ],
         "mode": "lines",
         "opacity": 1,
         "type": "scattergeo"
        },
        {
         "hoverinfo": "skip",
         "lat": [
          40.848844,
          30.188473
         ],
         "line": {
          "color": "red",
          "width": 1
         },
         "lon": [
          -74.061069,
          -97.657498
         ],
         "mode": "lines",
         "opacity": 1,
         "type": "scattergeo"
        },
        {
         "hoverinfo": "skip",
         "lat": [
          30.188473,
          37.621754
         ],
         "line": {
          "color": "red",
          "width": 1
         },
         "lon": [
          -97.657498,
          -122.376724
         ],
         "mode": "lines",
         "opacity": 1,
         "type": "scattergeo"
        },
        {
         "hoverinfo": "skip",
         "lat": [
          37.621754,
          30.190686
         ],
         "line": {
          "color": "red",
          "width": 1
         },
         "lon": [
          -122.376724,
          -97.657581
         ],
         "mode": "lines",
         "opacity": 1,
         "type": "scattergeo"
        },
        {
         "hoverinfo": "skip",
         "lat": [
          30.190686,
          37.620819
         ],
         "line": {
          "color": "red",
          "width": 1
         },
         "lon": [
          -97.657581,
          -122.374455
         ],
         "mode": "lines",
         "opacity": 1,
         "type": "scattergeo"
        },
        {
         "hoverinfo": "skip",
         "lat": [
          37.620819,
          33.922714
         ],
         "line": {
          "color": "red",
          "width": 1
         },
         "lon": [
          -122.374455,
          -118.337972
         ],
         "mode": "lines",
         "opacity": 1,
         "type": "scattergeo"
        },
        {
         "hoverinfo": "skip",
         "lat": [
          33.922714,
          37.728296
         ],
         "line": {
          "color": "red",
          "width": 1
         },
         "lon": [
          -118.337972,
          -122.215452
         ],
         "mode": "lines",
         "opacity": 1,
         "type": "scattergeo"
        },
        {
         "hoverinfo": "skip",
         "lat": [
          37.728296,
          30.190201
         ],
         "line": {
          "color": "red",
          "width": 1
         },
         "lon": [
          -122.215452,
          -97.657525
         ],
         "mode": "lines",
         "opacity": 1,
         "type": "scattergeo"
        },
        {
         "hoverinfo": "skip",
         "lat": [
          30.190201,
          37.728796
         ],
         "line": {
          "color": "red",
          "width": 1
         },
         "lon": [
          -97.657525,
          -122.217004
         ],
         "mode": "lines",
         "opacity": 1,
         "type": "scattergeo"
        },
        {
         "hoverinfo": "skip",
         "lat": [
          37.728796,
          30.193758
         ],
         "line": {
          "color": "red",
          "width": 1
         },
         "lon": [
          -122.217004,
          -97.657635
         ],
         "mode": "lines",
         "opacity": 1,
         "type": "scattergeo"
        },
        {
         "hoverinfo": "skip",
         "lat": [
          30.193758,
          37.728321
         ],
         "line": {
          "color": "red",
          "width": 1
         },
         "lon": [
          -97.657635,
          -122.215523
         ],
         "mode": "lines",
         "opacity": 1,
         "type": "scattergeo"
        },
        {
         "hoverinfo": "skip",
         "lat": [
          37.728321,
          39.496582
         ],
         "line": {
          "color": "red",
          "width": 1
         },
         "lon": [
          -122.215523,
          -119.769262
         ],
         "mode": "lines",
         "opacity": 1,
         "type": "scattergeo"
        },
        {
         "hoverinfo": "skip",
         "lat": [
          39.496582,
          37.709326
         ],
         "line": {
          "color": "red",
          "width": 1
         },
         "lon": [
          -119.769262,
          -122.22602
         ],
         "mode": "lines",
         "opacity": 1,
         "type": "scattergeo"
        },
        {
         "hoverinfo": "skip",
         "lat": [
          37.709326,
          29.993514
         ],
         "line": {
          "color": "red",
          "width": 1
         },
         "lon": [
          -122.22602,
          -90.268739
         ],
         "mode": "lines",
         "opacity": 1,
         "type": "scattergeo"
        },
        {
         "hoverinfo": "skip",
         "lat": [
          29.993514,
          37.729111
         ],
         "line": {
          "color": "red",
          "width": 1
         },
         "lon": [
          -90.268739,
          -122.218004
         ],
         "mode": "lines",
         "opacity": 1,
         "type": "scattergeo"
        },
        {
         "hoverinfo": "skip",
         "lat": [
          37.729111,
          38.935352
         ],
         "line": {
          "color": "red",
          "width": 1
         },
         "lon": [
          -122.218004,
          -77.436283
         ],
         "mode": "lines",
         "opacity": 1,
         "type": "scattergeo"
        },
        {
         "hoverinfo": "skip",
         "lat": [
          38.935352,
          37.729168
         ],
         "line": {
          "color": "red",
          "width": 1
         },
         "lon": [
          -77.436283,
          -122.218196
         ],
         "mode": "lines",
         "opacity": 1,
         "type": "scattergeo"
        },
        {
         "hoverinfo": "skip",
         "lat": [
          37.729168,
          33.935818
         ],
         "line": {
          "color": "red",
          "width": 1
         },
         "lon": [
          -122.218196,
          -118.397935
         ],
         "mode": "lines",
         "opacity": 1,
         "type": "scattergeo"
        },
        {
         "hoverinfo": "skip",
         "lat": [
          33.935818,
          30.191279
         ],
         "line": {
          "color": "red",
          "width": 1
         },
         "lon": [
          -118.397935,
          -97.657581
         ],
         "mode": "lines",
         "opacity": 1,
         "type": "scattergeo"
        },
        {
         "hoverinfo": "skip",
         "lat": [
          30.191279,
          37.36425
         ],
         "line": {
          "color": "red",
          "width": 1
         },
         "lon": [
          -97.657581,
          -121.931617
         ],
         "mode": "lines",
         "opacity": 1,
         "type": "scattergeo"
        },
        {
         "hoverinfo": "skip",
         "lat": [
          37.36425,
          51.874613
         ],
         "line": {
          "color": "red",
          "width": 1
         },
         "lon": [
          -121.931617,
          -0.368595
         ],
         "mode": "lines",
         "opacity": 1,
         "type": "scattergeo"
        },
        {
         "hoverinfo": "skip",
         "lat": [
          51.874613,
          25.268822
         ],
         "line": {
          "color": "red",
          "width": 1
         },
         "lon": [
          -0.368595,
          51.601527
         ],
         "mode": "lines",
         "opacity": 1,
         "type": "scattergeo"
        },
        {
         "hoverinfo": "skip",
         "lat": [
          25.268822,
          51.873729
         ],
         "line": {
          "color": "red",
          "width": 1
         },
         "lon": [
          51.601527,
          -0.373688
         ],
         "mode": "lines",
         "opacity": 1,
         "type": "scattergeo"
        },
        {
         "hoverinfo": "skip",
         "lat": [
          51.873729,
          30.189686
         ],
         "line": {
          "color": "red",
          "width": 1
         },
         "lon": [
          -0.373688,
          -97.657538
         ],
         "mode": "lines",
         "opacity": 1,
         "type": "scattergeo"
        },
        {
         "hoverinfo": "skip",
         "lat": [
          30.189686,
          37.726776
         ],
         "line": {
          "color": "red",
          "width": 1
         },
         "lon": [
          -97.657538,
          -122.219949
         ],
         "mode": "lines",
         "opacity": 1,
         "type": "scattergeo"
        },
        {
         "hoverinfo": "skip",
         "lat": [
          37.726776,
          38.694466
         ],
         "line": {
          "color": "red",
          "width": 1
         },
         "lon": [
          -122.219949,
          -121.58029
         ],
         "mode": "lines",
         "opacity": 1,
         "type": "scattergeo"
        },
        {
         "hoverinfo": "skip",
         "lat": [
          38.694466,
          33.950151
         ],
         "line": {
          "color": "red",
          "width": 1
         },
         "lon": [
          -121.58029,
          -118.42093
         ],
         "mode": "lines",
         "opacity": 1,
         "type": "scattergeo"
        },
        {
         "hoverinfo": "skip",
         "lat": [
          33.950151,
          38.690998
         ],
         "line": {
          "color": "red",
          "width": 1
         },
         "lon": [
          -118.42093,
          -121.601367
         ],
         "mode": "lines",
         "opacity": 1,
         "type": "scattergeo"
        },
        {
         "hoverinfo": "skip",
         "lat": [
          38.690998,
          39.908764
         ],
         "line": {
          "color": "red",
          "width": 1
         },
         "lon": [
          -121.601367,
          -105.115963
         ],
         "mode": "lines",
         "opacity": 1,
         "type": "scattergeo"
        },
        {
         "hoverinfo": "skip",
         "lat": [
          39.908764,
          30.19154
         ],
         "line": {
          "color": "red",
          "width": 1
         },
         "lon": [
          -105.115963,
          -97.657578
         ],
         "mode": "lines",
         "opacity": 1,
         "type": "scattergeo"
        },
        {
         "hoverinfo": "skip",
         "lat": [
          30.19154,
          38.691948
         ],
         "line": {
          "color": "red",
          "width": 1
         },
         "lon": [
          -97.657578,
          -121.601352
         ],
         "mode": "lines",
         "opacity": 1,
         "type": "scattergeo"
        },
        {
         "hoverinfo": "skip",
         "lat": [
          38.691948,
          30.188463
         ],
         "line": {
          "color": "red",
          "width": 1
         },
         "lon": [
          -121.601352,
          -97.657484
         ],
         "mode": "lines",
         "opacity": 1,
         "type": "scattergeo"
        },
        {
         "hoverinfo": "skip",
         "lat": [
          30.188463,
          33.93576
         ],
         "line": {
          "color": "red",
          "width": 1
         },
         "lon": [
          -97.657484,
          -118.398397
         ],
         "mode": "lines",
         "opacity": 1,
         "type": "scattergeo"
        },
        {
         "hoverinfo": "skip",
         "lat": [
          33.93576,
          33.818851
         ],
         "line": {
          "color": "red",
          "width": 1
         },
         "lon": [
          -118.398397,
          -118.152637
         ],
         "mode": "lines",
         "opacity": 1,
         "type": "scattergeo"
        },
        {
         "hoverinfo": "skip",
         "lat": [
          33.818851,
          33.922806
         ],
         "line": {
          "color": "red",
          "width": 1
         },
         "lon": [
          -118.152637,
          -118.336263
         ],
         "mode": "lines",
         "opacity": 1,
         "type": "scattergeo"
        },
        {
         "hoverinfo": "skip",
         "lat": [
          33.922806,
          30.192822
         ],
         "line": {
          "color": "red",
          "width": 1
         },
         "lon": [
          -118.336263,
          -97.657592
         ],
         "mode": "lines",
         "opacity": 1,
         "type": "scattergeo"
        },
        {
         "hoverinfo": "skip",
         "lat": [
          30.192822,
          37.709358
         ],
         "line": {
          "color": "red",
          "width": 1
         },
         "lon": [
          -97.657592,
          -122.226041
         ],
         "mode": "lines",
         "opacity": 1,
         "type": "scattergeo"
        },
        {
         "hoverinfo": "skip",
         "lat": [
          37.709358,
          30.190953
         ],
         "line": {
          "color": "red",
          "width": 1
         },
         "lon": [
          -122.226041,
          -97.657553
         ],
         "mode": "lines",
         "opacity": 1,
         "type": "scattergeo"
        },
        {
         "hoverinfo": "skip",
         "lat": [
          30.190953,
          37.728075
         ],
         "line": {
          "color": "red",
          "width": 1
         },
         "lon": [
          -97.657553,
          -122.21478
         ],
         "mode": "lines",
         "opacity": 1,
         "type": "scattergeo"
        },
        {
         "hoverinfo": "skip",
         "lat": [
          37.728075,
          30.191943
         ],
         "line": {
          "color": "red",
          "width": 1
         },
         "lon": [
          -122.21478,
          -97.657608
         ],
         "mode": "lines",
         "opacity": 1,
         "type": "scattergeo"
        },
        {
         "hoverinfo": "skip",
         "lat": [
          30.191943,
          37.728343
         ],
         "line": {
          "color": "red",
          "width": 1
         },
         "lon": [
          -97.657608,
          -122.215616
         ],
         "mode": "lines",
         "opacity": 1,
         "type": "scattergeo"
        },
        {
         "hoverinfo": "skip",
         "lat": [
          37.728343,
          34.19775
         ],
         "line": {
          "color": "red",
          "width": 1
         },
         "lon": [
          -122.215616,
          -118.357296
         ],
         "mode": "lines",
         "opacity": 1,
         "type": "scattergeo"
        },
        {
         "hoverinfo": "skip",
         "lat": [
          34.19775,
          41.720352
         ],
         "line": {
          "color": "red",
          "width": 1
         },
         "lon": [
          -118.357296,
          -71.429501
         ],
         "mode": "lines",
         "opacity": 1,
         "type": "scattergeo"
        },
        {
         "hoverinfo": "skip",
         "lat": [
          41.720352,
          37.725992
         ],
         "line": {
          "color": "red",
          "width": 1
         },
         "lon": [
          -71.429501,
          -122.217497
         ],
         "mode": "lines",
         "opacity": 1,
         "type": "scattergeo"
        },
        {
         "hoverinfo": "skip",
         "lat": [
          37.725992,
          39.502167
         ],
         "line": {
          "color": "red",
          "width": 1
         },
         "lon": [
          -122.217497,
          -119.766754
         ],
         "mode": "lines",
         "opacity": 1,
         "type": "scattergeo"
        },
        {
         "hoverinfo": "skip",
         "lat": [
          39.502167,
          37.726248
         ],
         "line": {
          "color": "red",
          "width": 1
         },
         "lon": [
          -119.766754,
          -122.218303
         ],
         "mode": "lines",
         "opacity": 1,
         "type": "scattergeo"
        },
        {
         "hoverinfo": "skip",
         "lat": [
          37.726248,
          38.936062
         ],
         "line": {
          "color": "red",
          "width": 1
         },
         "lon": [
          -122.218303,
          -77.436283
         ],
         "mode": "lines",
         "opacity": 1,
         "type": "scattergeo"
        },
        {
         "hoverinfo": "skip",
         "lat": [
          38.936062,
          37.726678
         ],
         "line": {
          "color": "red",
          "width": 1
         },
         "lon": [
          -77.436283,
          -122.219631
         ],
         "mode": "lines",
         "opacity": 1,
         "type": "scattergeo"
        },
        {
         "hoverinfo": "skip",
         "lat": [
          37.726678,
          30.192284
         ],
         "line": {
          "color": "red",
          "width": 1
         },
         "lon": [
          -122.219631,
          -97.657619
         ],
         "mode": "lines",
         "opacity": 1,
         "type": "scattergeo"
        },
        {
         "hoverinfo": "skip",
         "lat": [
          30.192284,
          25.899582
         ],
         "line": {
          "color": "red",
          "width": 1
         },
         "lon": [
          -97.657619,
          -97.419099
         ],
         "mode": "lines",
         "opacity": 1,
         "type": "scattergeo"
        },
        {
         "hoverinfo": "skip",
         "lat": [
          25.899582,
          37.72861
         ],
         "line": {
          "color": "red",
          "width": 1
         },
         "lon": [
          -97.419099,
          -122.216422
         ],
         "mode": "lines",
         "opacity": 1,
         "type": "scattergeo"
        },
        {
         "hoverinfo": "skip",
         "lat": [
          37.72861,
          30.190178
         ],
         "line": {
          "color": "red",
          "width": 1
         },
         "lon": [
          -122.216422,
          -97.657551
         ],
         "mode": "lines",
         "opacity": 1,
         "type": "scattergeo"
        },
        {
         "hoverinfo": "skip",
         "lat": [
          30.190178,
          37.72776
         ],
         "line": {
          "color": "red",
          "width": 1
         },
         "lon": [
          -97.657551,
          -122.213784
         ],
         "mode": "lines",
         "opacity": 1,
         "type": "scattergeo"
        },
        {
         "hoverinfo": "skip",
         "lat": [
          37.72776,
          33.922749
         ],
         "line": {
          "color": "red",
          "width": 1
         },
         "lon": [
          -122.213784,
          -118.338098
         ],
         "mode": "lines",
         "opacity": 1,
         "type": "scattergeo"
        },
        {
         "hoverinfo": "skip",
         "lat": [
          33.922749,
          37.728343
         ],
         "line": {
          "color": "red",
          "width": 1
         },
         "lon": [
          -118.338098,
          -122.215616
         ],
         "mode": "lines",
         "opacity": 1,
         "type": "scattergeo"
        },
        {
         "hoverinfo": "skip",
         "lat": [
          37.728343,
          33.421923
         ],
         "line": {
          "color": "red",
          "width": 1
         },
         "lon": [
          -122.215616,
          -112.376656
         ],
         "mode": "lines",
         "opacity": 1,
         "type": "scattergeo"
        },
        {
         "hoverinfo": "skip",
         "lat": [
          33.421923,
          37.728587
         ],
         "line": {
          "color": "red",
          "width": 1
         },
         "lon": [
          -112.376656,
          -122.216347
         ],
         "mode": "lines",
         "opacity": 1,
         "type": "scattergeo"
        },
        {
         "hoverinfo": "skip",
         "lat": [
          37.728587,
          30.200834
         ],
         "line": {
          "color": "red",
          "width": 1
         },
         "lon": [
          -122.216347,
          -97.678976
         ],
         "mode": "lines",
         "opacity": 1,
         "type": "scattergeo"
        },
        {
         "hoverinfo": "skip",
         "lat": [
          30.200834,
          37.709667
         ],
         "line": {
          "color": "red",
          "width": 1
         },
         "lon": [
          -97.678976,
          -122.225822
         ],
         "mode": "lines",
         "opacity": 1,
         "type": "scattergeo"
        },
        {
         "hoverinfo": "skip",
         "lat": [
          37.709667,
          30.190968
         ],
         "line": {
          "color": "red",
          "width": 1
         },
         "lon": [
          -122.225822,
          -97.657578
         ],
         "mode": "lines",
         "opacity": 1,
         "type": "scattergeo"
        }
       ],
       "layout": {
        "geo": {
         "countrycolor": "rgb(204, 204, 204)",
         "lakecolor": "rgb(255, 255, 255)",
         "landcolor": "rgb(243, 243, 243)",
         "projection": {
          "type": "natural earth"
         },
         "showlakes": true,
         "showland": true
        },
        "margin": {
         "b": 0,
         "l": 0,
         "r": 0,
         "t": 0
        },
        "showlegend": false,
        "template": {
         "data": {
          "bar": [
           {
            "error_x": {
             "color": "#2a3f5f"
            },
            "error_y": {
             "color": "#2a3f5f"
            },
            "marker": {
             "line": {
              "color": "#E5ECF6",
              "width": 0.5
             },
             "pattern": {
              "fillmode": "overlay",
              "size": 10,
              "solidity": 0.2
             }
            },
            "type": "bar"
           }
          ],
          "barpolar": [
           {
            "marker": {
             "line": {
              "color": "#E5ECF6",
              "width": 0.5
             },
             "pattern": {
              "fillmode": "overlay",
              "size": 10,
              "solidity": 0.2
             }
            },
            "type": "barpolar"
           }
          ],
          "carpet": [
           {
            "aaxis": {
             "endlinecolor": "#2a3f5f",
             "gridcolor": "white",
             "linecolor": "white",
             "minorgridcolor": "white",
             "startlinecolor": "#2a3f5f"
            },
            "baxis": {
             "endlinecolor": "#2a3f5f",
             "gridcolor": "white",
             "linecolor": "white",
             "minorgridcolor": "white",
             "startlinecolor": "#2a3f5f"
            },
            "type": "carpet"
           }
          ],
          "choropleth": [
           {
            "colorbar": {
             "outlinewidth": 0,
             "ticks": ""
            },
            "type": "choropleth"
           }
          ],
          "contour": [
           {
            "colorbar": {
             "outlinewidth": 0,
             "ticks": ""
            },
            "colorscale": [
             [
              0,
              "#0d0887"
             ],
             [
              0.1111111111111111,
              "#46039f"
             ],
             [
              0.2222222222222222,
              "#7201a8"
             ],
             [
              0.3333333333333333,
              "#9c179e"
             ],
             [
              0.4444444444444444,
              "#bd3786"
             ],
             [
              0.5555555555555556,
              "#d8576b"
             ],
             [
              0.6666666666666666,
              "#ed7953"
             ],
             [
              0.7777777777777778,
              "#fb9f3a"
             ],
             [
              0.8888888888888888,
              "#fdca26"
             ],
             [
              1,
              "#f0f921"
             ]
            ],
            "type": "contour"
           }
          ],
          "contourcarpet": [
           {
            "colorbar": {
             "outlinewidth": 0,
             "ticks": ""
            },
            "type": "contourcarpet"
           }
          ],
          "heatmap": [
           {
            "colorbar": {
             "outlinewidth": 0,
             "ticks": ""
            },
            "colorscale": [
             [
              0,
              "#0d0887"
             ],
             [
              0.1111111111111111,
              "#46039f"
             ],
             [
              0.2222222222222222,
              "#7201a8"
             ],
             [
              0.3333333333333333,
              "#9c179e"
             ],
             [
              0.4444444444444444,
              "#bd3786"
             ],
             [
              0.5555555555555556,
              "#d8576b"
             ],
             [
              0.6666666666666666,
              "#ed7953"
             ],
             [
              0.7777777777777778,
              "#fb9f3a"
             ],
             [
              0.8888888888888888,
              "#fdca26"
             ],
             [
              1,
              "#f0f921"
             ]
            ],
            "type": "heatmap"
           }
          ],
          "heatmapgl": [
           {
            "colorbar": {
             "outlinewidth": 0,
             "ticks": ""
            },
            "colorscale": [
             [
              0,
              "#0d0887"
             ],
             [
              0.1111111111111111,
              "#46039f"
             ],
             [
              0.2222222222222222,
              "#7201a8"
             ],
             [
              0.3333333333333333,
              "#9c179e"
             ],
             [
              0.4444444444444444,
              "#bd3786"
             ],
             [
              0.5555555555555556,
              "#d8576b"
             ],
             [
              0.6666666666666666,
              "#ed7953"
             ],
             [
              0.7777777777777778,
              "#fb9f3a"
             ],
             [
              0.8888888888888888,
              "#fdca26"
             ],
             [
              1,
              "#f0f921"
             ]
            ],
            "type": "heatmapgl"
           }
          ],
          "histogram": [
           {
            "marker": {
             "pattern": {
              "fillmode": "overlay",
              "size": 10,
              "solidity": 0.2
             }
            },
            "type": "histogram"
           }
          ],
          "histogram2d": [
           {
            "colorbar": {
             "outlinewidth": 0,
             "ticks": ""
            },
            "colorscale": [
             [
              0,
              "#0d0887"
             ],
             [
              0.1111111111111111,
              "#46039f"
             ],
             [
              0.2222222222222222,
              "#7201a8"
             ],
             [
              0.3333333333333333,
              "#9c179e"
             ],
             [
              0.4444444444444444,
              "#bd3786"
             ],
             [
              0.5555555555555556,
              "#d8576b"
             ],
             [
              0.6666666666666666,
              "#ed7953"
             ],
             [
              0.7777777777777778,
              "#fb9f3a"
             ],
             [
              0.8888888888888888,
              "#fdca26"
             ],
             [
              1,
              "#f0f921"
             ]
            ],
            "type": "histogram2d"
           }
          ],
          "histogram2dcontour": [
           {
            "colorbar": {
             "outlinewidth": 0,
             "ticks": ""
            },
            "colorscale": [
             [
              0,
              "#0d0887"
             ],
             [
              0.1111111111111111,
              "#46039f"
             ],
             [
              0.2222222222222222,
              "#7201a8"
             ],
             [
              0.3333333333333333,
              "#9c179e"
             ],
             [
              0.4444444444444444,
              "#bd3786"
             ],
             [
              0.5555555555555556,
              "#d8576b"
             ],
             [
              0.6666666666666666,
              "#ed7953"
             ],
             [
              0.7777777777777778,
              "#fb9f3a"
             ],
             [
              0.8888888888888888,
              "#fdca26"
             ],
             [
              1,
              "#f0f921"
             ]
            ],
            "type": "histogram2dcontour"
           }
          ],
          "mesh3d": [
           {
            "colorbar": {
             "outlinewidth": 0,
             "ticks": ""
            },
            "type": "mesh3d"
           }
          ],
          "parcoords": [
           {
            "line": {
             "colorbar": {
              "outlinewidth": 0,
              "ticks": ""
             }
            },
            "type": "parcoords"
           }
          ],
          "pie": [
           {
            "automargin": true,
            "type": "pie"
           }
          ],
          "scatter": [
           {
            "fillpattern": {
             "fillmode": "overlay",
             "size": 10,
             "solidity": 0.2
            },
            "type": "scatter"
           }
          ],
          "scatter3d": [
           {
            "line": {
             "colorbar": {
              "outlinewidth": 0,
              "ticks": ""
             }
            },
            "marker": {
             "colorbar": {
              "outlinewidth": 0,
              "ticks": ""
             }
            },
            "type": "scatter3d"
           }
          ],
          "scattercarpet": [
           {
            "marker": {
             "colorbar": {
              "outlinewidth": 0,
              "ticks": ""
             }
            },
            "type": "scattercarpet"
           }
          ],
          "scattergeo": [
           {
            "marker": {
             "colorbar": {
              "outlinewidth": 0,
              "ticks": ""
             }
            },
            "type": "scattergeo"
           }
          ],
          "scattergl": [
           {
            "marker": {
             "colorbar": {
              "outlinewidth": 0,
              "ticks": ""
             }
            },
            "type": "scattergl"
           }
          ],
          "scattermapbox": [
           {
            "marker": {
             "colorbar": {
              "outlinewidth": 0,
              "ticks": ""
             }
            },
            "type": "scattermapbox"
           }
          ],
          "scatterpolar": [
           {
            "marker": {
             "colorbar": {
              "outlinewidth": 0,
              "ticks": ""
             }
            },
            "type": "scatterpolar"
           }
          ],
          "scatterpolargl": [
           {
            "marker": {
             "colorbar": {
              "outlinewidth": 0,
              "ticks": ""
             }
            },
            "type": "scatterpolargl"
           }
          ],
          "scatterternary": [
           {
            "marker": {
             "colorbar": {
              "outlinewidth": 0,
              "ticks": ""
             }
            },
            "type": "scatterternary"
           }
          ],
          "surface": [
           {
            "colorbar": {
             "outlinewidth": 0,
             "ticks": ""
            },
            "colorscale": [
             [
              0,
              "#0d0887"
             ],
             [
              0.1111111111111111,
              "#46039f"
             ],
             [
              0.2222222222222222,
              "#7201a8"
             ],
             [
              0.3333333333333333,
              "#9c179e"
             ],
             [
              0.4444444444444444,
              "#bd3786"
             ],
             [
              0.5555555555555556,
              "#d8576b"
             ],
             [
              0.6666666666666666,
              "#ed7953"
             ],
             [
              0.7777777777777778,
              "#fb9f3a"
             ],
             [
              0.8888888888888888,
              "#fdca26"
             ],
             [
              1,
              "#f0f921"
             ]
            ],
            "type": "surface"
           }
          ],
          "table": [
           {
            "cells": {
             "fill": {
              "color": "#EBF0F8"
             },
             "line": {
              "color": "white"
             }
            },
            "header": {
             "fill": {
              "color": "#C8D4E3"
             },
             "line": {
              "color": "white"
             }
            },
            "type": "table"
           }
          ]
         },
         "layout": {
          "annotationdefaults": {
           "arrowcolor": "#2a3f5f",
           "arrowhead": 0,
           "arrowwidth": 1
          },
          "autotypenumbers": "strict",
          "coloraxis": {
           "colorbar": {
            "outlinewidth": 0,
            "ticks": ""
           }
          },
          "colorscale": {
           "diverging": [
            [
             0,
             "#8e0152"
            ],
            [
             0.1,
             "#c51b7d"
            ],
            [
             0.2,
             "#de77ae"
            ],
            [
             0.3,
             "#f1b6da"
            ],
            [
             0.4,
             "#fde0ef"
            ],
            [
             0.5,
             "#f7f7f7"
            ],
            [
             0.6,
             "#e6f5d0"
            ],
            [
             0.7,
             "#b8e186"
            ],
            [
             0.8,
             "#7fbc41"
            ],
            [
             0.9,
             "#4d9221"
            ],
            [
             1,
             "#276419"
            ]
           ],
           "sequential": [
            [
             0,
             "#0d0887"
            ],
            [
             0.1111111111111111,
             "#46039f"
            ],
            [
             0.2222222222222222,
             "#7201a8"
            ],
            [
             0.3333333333333333,
             "#9c179e"
            ],
            [
             0.4444444444444444,
             "#bd3786"
            ],
            [
             0.5555555555555556,
             "#d8576b"
            ],
            [
             0.6666666666666666,
             "#ed7953"
            ],
            [
             0.7777777777777778,
             "#fb9f3a"
            ],
            [
             0.8888888888888888,
             "#fdca26"
            ],
            [
             1,
             "#f0f921"
            ]
           ],
           "sequentialminus": [
            [
             0,
             "#0d0887"
            ],
            [
             0.1111111111111111,
             "#46039f"
            ],
            [
             0.2222222222222222,
             "#7201a8"
            ],
            [
             0.3333333333333333,
             "#9c179e"
            ],
            [
             0.4444444444444444,
             "#bd3786"
            ],
            [
             0.5555555555555556,
             "#d8576b"
            ],
            [
             0.6666666666666666,
             "#ed7953"
            ],
            [
             0.7777777777777778,
             "#fb9f3a"
            ],
            [
             0.8888888888888888,
             "#fdca26"
            ],
            [
             1,
             "#f0f921"
            ]
           ]
          },
          "colorway": [
           "#636efa",
           "#EF553B",
           "#00cc96",
           "#ab63fa",
           "#FFA15A",
           "#19d3f3",
           "#FF6692",
           "#B6E880",
           "#FF97FF",
           "#FECB52"
          ],
          "font": {
           "color": "#2a3f5f"
          },
          "geo": {
           "bgcolor": "white",
           "lakecolor": "white",
           "landcolor": "#E5ECF6",
           "showlakes": true,
           "showland": true,
           "subunitcolor": "white"
          },
          "hoverlabel": {
           "align": "left"
          },
          "hovermode": "closest",
          "mapbox": {
           "style": "light"
          },
          "paper_bgcolor": "white",
          "plot_bgcolor": "#E5ECF6",
          "polar": {
           "angularaxis": {
            "gridcolor": "white",
            "linecolor": "white",
            "ticks": ""
           },
           "bgcolor": "#E5ECF6",
           "radialaxis": {
            "gridcolor": "white",
            "linecolor": "white",
            "ticks": ""
           }
          },
          "scene": {
           "xaxis": {
            "backgroundcolor": "#E5ECF6",
            "gridcolor": "white",
            "gridwidth": 2,
            "linecolor": "white",
            "showbackground": true,
            "ticks": "",
            "zerolinecolor": "white"
           },
           "yaxis": {
            "backgroundcolor": "#E5ECF6",
            "gridcolor": "white",
            "gridwidth": 2,
            "linecolor": "white",
            "showbackground": true,
            "ticks": "",
            "zerolinecolor": "white"
           },
           "zaxis": {
            "backgroundcolor": "#E5ECF6",
            "gridcolor": "white",
            "gridwidth": 2,
            "linecolor": "white",
            "showbackground": true,
            "ticks": "",
            "zerolinecolor": "white"
           }
          },
          "shapedefaults": {
           "line": {
            "color": "#2a3f5f"
           }
          },
          "ternary": {
           "aaxis": {
            "gridcolor": "white",
            "linecolor": "white",
            "ticks": ""
           },
           "baxis": {
            "gridcolor": "white",
            "linecolor": "white",
            "ticks": ""
           },
           "bgcolor": "#E5ECF6",
           "caxis": {
            "gridcolor": "white",
            "linecolor": "white",
            "ticks": ""
           }
          },
          "title": {
           "x": 0.05
          },
          "xaxis": {
           "automargin": true,
           "gridcolor": "white",
           "linecolor": "white",
           "ticks": "",
           "title": {
            "standoff": 15
           },
           "zerolinecolor": "white",
           "zerolinewidth": 2
          },
          "yaxis": {
           "automargin": true,
           "gridcolor": "white",
           "linecolor": "white",
           "ticks": "",
           "title": {
            "standoff": 15
           },
           "zerolinecolor": "white",
           "zerolinewidth": 2
          }
         }
        }
       }
      }
     },
     "metadata": {},
     "output_type": "display_data"
    }
   ],
   "source": [
    "#Make traces\n",
    "data_trace = {'lat':[], 'lon':[], 'timestamp':[], 'label':[]}\n",
    "\n",
    "for location in destinations_list:\n",
    "    entry = json_data[location[0]]\n",
    "    data_trace['lat'].append(entry[\"lat\"])\n",
    "    data_trace['lon'].append(entry[\"lon\"])\n",
    "    data_trace['timestamp'].append(location[0])\n",
    "    data_trace['label'].append(location[1])\n",
    "\n",
    "#Make marker sizes\n",
    "min_d_s = min(data_unique['data'])\n",
    "max_d_s = max(data_unique['data'])\n",
    "min_p_s = 3.5\n",
    "max_p_s = 15\n",
    "marker_sizes = [(v - min_d_s)/(max_d_s - min_d_s) * (max_p_s - min_p_s) + min_p_s for v in data_unique['data']]\n",
    "\n",
    "fig = go.Figure()\n",
    "fig.add_trace(go.Scattergeo(\n",
    "    locationmode = 'USA-states',\n",
    "    lon = data_unique['lon'],\n",
    "    lat = data_unique['lat'],\n",
    "    hoverinfo = 'text',\n",
    "    text = data_unique['label'],\n",
    "    mode = 'markers',\n",
    "    marker = dict(\n",
    "        size = marker_sizes,\n",
    "        color = 'rgb(0, 0, 255)',\n",
    "        line = dict(\n",
    "            width = 3,\n",
    "            color = 'rgba(68, 68, 68, 0)'\n",
    "        )\n",
    "    )))\n",
    "\n",
    "for i in range(len(data_trace['lon']) - 1):\n",
    "    fig.add_trace(\n",
    "        go.Scattergeo(\n",
    "            # locationmode = 'USA-states',\n",
    "            lon = [data_trace['lon'][i], data_trace['lon'][i + 1]],\n",
    "            lat = [data_trace['lat'][i], data_trace['lat'][i + 1]],\n",
    "            hoverinfo='skip',\n",
    "            mode = 'lines',\n",
    "            line = dict(width = 1,color = 'red'),\n",
    "            opacity = 1#float(df_flight_paths['cnt'][i]) / float(df_flight_paths['cnt'].max()),\n",
    "        )\n",
    "    )\n",
    "\n",
    "fig.update_layout(\n",
    "    margin=dict(l=0, r=0, b=0, t=0),\n",
    "    showlegend = False,\n",
    "    geo = dict(\n",
    "        # scope = 'north america',\n",
    "        projection_type = 'natural earth',\n",
    "\n",
    "        showland = True,\n",
    "        landcolor = 'rgb(243, 243, 243)',\n",
    "        countrycolor = 'rgb(204, 204, 204)',\n",
    "\n",
    "        showlakes = True,\n",
    "        lakecolor = 'rgb(255, 255, 255)'\n",
    "    ),\n",
    ")\n",
    "\n",
    "fig.show()"
   ]
  },
  {
   "cell_type": "code",
   "execution_count": 16,
   "metadata": {},
   "outputs": [],
   "source": [
    "#Save to html\n",
    "fig.write_html('elon_musk_trace.html')"
   ]
  },
  {
   "attachments": {},
   "cell_type": "markdown",
   "metadata": {},
   "source": [
    "<h2>Get stats</h2>\n",
    "\n",
    "- List of places he went sorted by the number of times he went there\n",
    "- Number of time he took his plane per day on a graph\n",
    "- Max number of times he took his plane in a day"
   ]
  },
  {
   "cell_type": "code",
   "execution_count": 12,
   "metadata": {},
   "outputs": [
    {
     "name": "stdout",
     "output_type": "stream",
     "text": [
      "------Top 20 places where Elon Musk went the most------\n",
      "Boring Test Tunnel, Hawthorne, California, United States, 90250          he went 108 times\n",
      "Presidential Boulevard, Austin, Texas, United States, 78719              he went 106 times\n",
      "South Vermillion Avenue, Brownsville, Texas, United States,              he went 67 times\n",
      "Airport Boulevard, San Jose, California, United States, 95110            he went 62 times\n",
      "Sophia Avenue, Los Angeles, California, United States, 91406             he went 20 times\n",
      "Mathew Street, Santa Clara, California, United States, 95053             he went 19 times\n",
      "Sepulveda Boulevard, Los Angeles, California, United States, 90009       he went 16 times\n",
      "Center Lane, Titusville, Florida, United States, 32780                   he went 14 times\n",
      "Earhart Road, Oakland, California, United States, 94614                  he went 11 times\n",
      "SpaceX Starlink Entrance, Hawthorne, California, United States, 90250    he went 6 times\n",
      "West 119th Drive, Broomfield, Colorado, United States, 80020             he went 6 times\n",
      "East Willow Street, Long Beach, California, United States, 90815         he went 6 times\n",
      "Tico Road, Titusville, Florida, United States, 32927                     he went 6 times\n",
      "Malcolm Avenue, Teterboro, New Jersey, United States, 07604              he went 6 times\n",
      "Westchester Parkway, Los Angeles, California, United States, 90293       he went 5 times\n",
      "Melli-Beese-Ring, , Brandenburg, Deutschland, 12529                      he went 5 times\n",
      "Northside Parkway, Los Angeles, California, United States, 90045         he went 4 times\n",
      "Sherman Way, Los Angeles, California, United States, 91406               he went 4 times\n",
      "Airport Road, Waco, Texas, United States, 76708                          he went 4 times\n",
      "Edward White Way, Oakland, California, United States, 94614              he went 4 times\n"
     ]
    }
   ],
   "source": [
    "#Top n list of places\n",
    "n_places = 20\n",
    "\n",
    "unique_locs_sorted = sorted([[v, unique_locs[v][0]] for v in unique_locs], key=lambda x: x[1], reverse=True)\n",
    "\n",
    "print(\"------Top {} places where Elon Musk went the most------\".format(n_places))\n",
    "a = max([len(v[0]) for v in unique_locs_sorted])\n",
    "for i in range(min(n_places, len(unique_locs_sorted))):\n",
    "    place = unique_locs_sorted[i]\n",
    "    b = len(place[0])\n",
    "    print(\"{}{} he went {} times\".format(place[0], \" \"*(a-b), place[1]))"
   ]
  },
  {
   "cell_type": "code",
   "execution_count": 13,
   "metadata": {},
   "outputs": [
    {
     "data": {
      "application/vnd.plotly.v1+json": {
       "config": {
        "plotlyServerURL": "https://plot.ly"
       },
       "data": [
        {
         "mode": "lines",
         "type": "scatter",
         "x": [
          "2020-01-19",
          "2020-01-20",
          "2020-01-21",
          "2020-01-24",
          "2020-01-25",
          "2020-01-26",
          "2020-01-28",
          "2020-01-30",
          "2020-01-31",
          "2020-02-01",
          "2020-02-02",
          "2020-02-03",
          "2020-02-05",
          "2020-02-06",
          "2020-02-07",
          "2020-02-08",
          "2020-02-11",
          "2020-02-14",
          "2020-02-15",
          "2020-02-16",
          "2020-02-17",
          "2020-02-19",
          "2020-02-21",
          "2020-02-22",
          "2020-02-23",
          "2020-02-26",
          "2020-02-27",
          "2020-02-28",
          "2020-02-29",
          "2020-03-01",
          "2020-03-04",
          "2020-03-05",
          "2020-03-06",
          "2020-03-09",
          "2020-03-10",
          "2020-03-11",
          "2020-03-13",
          "2020-03-16",
          "2020-03-17",
          "2020-03-18",
          "2020-03-20",
          "2020-03-21",
          "2020-03-22",
          "2020-03-23",
          "2020-03-24",
          "2020-03-25",
          "2020-03-27",
          "2020-03-28",
          "2020-04-06",
          "2020-05-09",
          "2020-05-12",
          "2020-05-13",
          "2020-05-15",
          "2020-05-17",
          "2020-05-20",
          "2020-05-21",
          "2020-05-26",
          "2020-05-29",
          "2020-05-30",
          "2020-05-31",
          "2020-06-01",
          "2020-06-02",
          "2020-06-03",
          "2020-06-04",
          "2020-06-05",
          "2020-06-06",
          "2020-06-08",
          "2020-06-09",
          "2020-06-10",
          "2020-06-11",
          "2020-06-19",
          "2020-06-20",
          "2020-06-21",
          "2020-07-07",
          "2020-07-08",
          "2020-07-09",
          "2020-07-14",
          "2020-07-16",
          "2020-07-22",
          "2020-07-24",
          "2020-07-25",
          "2020-07-27",
          "2020-07-29",
          "2020-07-30",
          "2020-07-31",
          "2020-08-01",
          "2020-08-02",
          "2020-08-04",
          "2020-08-05",
          "2020-08-06",
          "2020-08-07",
          "2020-08-11",
          "2020-08-13",
          "2020-08-20",
          "2020-08-22",
          "2020-08-26",
          "2020-08-27",
          "2020-08-29",
          "2020-08-30",
          "2020-09-01",
          "2020-09-03",
          "2020-09-04",
          "2020-09-05",
          "2020-09-07",
          "2020-09-14",
          "2020-09-15",
          "2020-09-17",
          "2020-09-19",
          "2020-09-21",
          "2020-09-27",
          "2020-09-28",
          "2020-09-30",
          "2020-10-02",
          "2020-10-05",
          "2020-10-09",
          "2020-10-10",
          "2020-10-12",
          "2020-10-14",
          "2020-10-16",
          "2020-10-19",
          "2020-10-22",
          "2020-10-23",
          "2020-10-26",
          "2020-10-31",
          "2020-11-01",
          "2020-11-02",
          "2020-11-03",
          "2020-11-05",
          "2020-11-10",
          "2020-11-11",
          "2020-11-12",
          "2020-11-15",
          "2020-11-17",
          "2020-11-18",
          "2020-11-21",
          "2020-11-22",
          "2020-11-25",
          "2020-11-26",
          "2020-11-28",
          "2020-11-30",
          "2020-12-04",
          "2020-12-05",
          "2020-12-06",
          "2020-12-09",
          "2020-12-11",
          "2020-12-12",
          "2020-12-14",
          "2020-12-17",
          "2020-12-19",
          "2020-12-24",
          "2020-12-25",
          "2020-12-27",
          "2020-12-29",
          "2020-12-30",
          "2020-12-31",
          "2021-01-05",
          "2021-01-07",
          "2021-01-14",
          "2021-01-21",
          "2021-01-22",
          "2021-01-24",
          "2021-02-02",
          "2021-02-05",
          "2021-02-08",
          "2021-02-11",
          "2021-02-12",
          "2021-02-13",
          "2021-02-19",
          "2021-02-20",
          "2021-02-22",
          "2021-02-28",
          "2021-03-02",
          "2021-03-14",
          "2021-03-15",
          "2021-03-19",
          "2021-03-23",
          "2021-03-31",
          "2021-04-03",
          "2021-04-06",
          "2021-04-07",
          "2021-04-09",
          "2021-04-15",
          "2021-04-17",
          "2021-04-19",
          "2021-04-21",
          "2021-04-22",
          "2021-04-24",
          "2021-04-30",
          "2021-05-01",
          "2021-05-04",
          "2021-05-10",
          "2021-05-11",
          "2021-05-14",
          "2021-05-16",
          "2021-05-20",
          "2021-05-25",
          "2021-05-27",
          "2021-05-29",
          "2021-05-31",
          "2021-06-09",
          "2021-06-10",
          "2021-06-11",
          "2021-06-26",
          "2021-06-27",
          "2021-06-28",
          "2021-06-29",
          "2021-07-02",
          "2021-07-06",
          "2021-07-07",
          "2021-07-08",
          "2021-07-11",
          "2021-07-13",
          "2021-07-19",
          "2021-07-21",
          "2021-07-22",
          "2021-07-23",
          "2021-07-24",
          "2021-07-25",
          "2021-07-26",
          "2021-07-27",
          "2021-07-28",
          "2021-07-29",
          "2021-07-31",
          "2021-08-01",
          "2021-08-02",
          "2021-08-03",
          "2021-08-04",
          "2021-08-05",
          "2021-08-06",
          "2021-08-11",
          "2021-08-15",
          "2021-08-18",
          "2021-08-20",
          "2021-08-24",
          "2021-08-27",
          "2021-08-31",
          "2021-09-01",
          "2021-09-03",
          "2021-09-06",
          "2021-09-08",
          "2021-09-12",
          "2021-09-16",
          "2021-09-19",
          "2021-09-20",
          "2021-09-21",
          "2021-09-26",
          "2021-09-28",
          "2021-09-29",
          "2021-09-30",
          "2021-10-04",
          "2021-10-05",
          "2021-10-06",
          "2021-10-08",
          "2021-10-10",
          "2021-10-16",
          "2021-10-18",
          "2021-10-19",
          "2021-10-21",
          "2021-10-23",
          "2021-10-27",
          "2021-10-30",
          "2021-10-31",
          "2021-11-02",
          "2021-11-05",
          "2021-11-07",
          "2021-11-08",
          "2021-11-11",
          "2021-11-12",
          "2021-11-13",
          "2021-11-14",
          "2021-11-15",
          "2021-11-19",
          "2021-11-20",
          "2021-11-22",
          "2021-11-24",
          "2021-11-25",
          "2021-11-27",
          "2021-11-28",
          "2021-12-02",
          "2021-12-04",
          "2021-12-09",
          "2021-12-15",
          "2021-12-16",
          "2021-12-18",
          "2021-12-21",
          "2021-12-22",
          "2022-01-02",
          "2022-01-04",
          "2022-01-07",
          "2022-01-14",
          "2022-01-16",
          "2022-01-25",
          "2022-02-09",
          "2022-02-11",
          "2022-02-17",
          "2022-02-20",
          "2022-02-24",
          "2022-02-27",
          "2022-02-28",
          "2022-04-11",
          "2022-04-13",
          "2022-04-14",
          "2022-04-15",
          "2022-05-15",
          "2022-05-19",
          "2022-05-21",
          "2022-05-22",
          "2022-05-27",
          "2022-05-30",
          "2022-06-02",
          "2022-06-03",
          "2022-06-06",
          "2022-06-07",
          "2022-06-09",
          "2022-06-14",
          "2022-06-15",
          "2022-06-16",
          "2022-07-01",
          "2022-07-04",
          "2022-07-05",
          "2022-07-12",
          "2022-07-13",
          "2022-07-14",
          "2022-07-15",
          "2022-07-19",
          "2022-07-22",
          "2022-07-24",
          "2022-07-25",
          "2022-07-29",
          "2022-08-05",
          "2022-08-08",
          "2022-08-09",
          "2022-08-11",
          "2022-08-12",
          "2022-08-13",
          "2022-08-15",
          "2022-08-20",
          "2022-08-22",
          "2022-08-23",
          "2022-08-25",
          "2022-08-26",
          "2022-08-27",
          "2022-08-29",
          "2022-08-31",
          "2022-09-01",
          "2022-09-09",
          "2022-09-10",
          "2022-09-13",
          "2022-09-15",
          "2022-09-17",
          "2022-09-22",
          "2022-09-24",
          "2022-09-25",
          "2022-09-27",
          "2022-09-30",
          "2022-10-01",
          "2022-10-02",
          "2022-10-03",
          "2022-10-13",
          "2022-10-15",
          "2022-10-18",
          "2022-10-19",
          "2022-10-26",
          "2022-10-27",
          "2022-10-30",
          "2022-10-31",
          "2022-11-02",
          "2022-11-03",
          "2022-11-04",
          "2022-11-05",
          "2022-11-07",
          "2022-11-12",
          "2022-11-14",
          "2022-11-16",
          "2022-11-18",
          "2022-11-19",
          "2022-11-21",
          "2022-11-24",
          "2022-11-28",
          "2022-12-01",
          "2022-12-02",
          "2022-12-03",
          "2022-12-04",
          "2022-12-05",
          "2022-12-13",
          "2022-12-14",
          "2022-12-16",
          "2022-12-18",
          "2022-12-19",
          "2022-12-20",
          "2022-12-21",
          "2022-12-24",
          "2022-12-25",
          "2022-12-27",
          "2022-12-28",
          "2022-12-29",
          "2023-01-03",
          "2023-01-04",
          "2023-01-08",
          "2023-01-10",
          "2023-01-16",
          "2023-01-22",
          "2023-01-23",
          "2023-01-24",
          "2023-01-25",
          "2023-01-26",
          "2023-01-27",
          "2023-01-28",
          "2023-01-29",
          "2023-01-31",
          "2023-02-04",
          "2023-02-07",
          "2023-02-08",
          "2023-02-09",
          "2023-02-12",
          "2023-02-13",
          "2023-02-19",
          "2023-02-21",
          "2023-02-24"
         ],
         "y": [
          1,
          3,
          1,
          1,
          1,
          1,
          3,
          3,
          1,
          1,
          1,
          1,
          1,
          1,
          2,
          3,
          2,
          3,
          1,
          1,
          3,
          1,
          1,
          2,
          1,
          2,
          1,
          1,
          1,
          1,
          1,
          1,
          4,
          1,
          3,
          1,
          2,
          1,
          1,
          1,
          1,
          1,
          1,
          1,
          2,
          2,
          1,
          1,
          2,
          1,
          2,
          1,
          1,
          3,
          2,
          3,
          2,
          2,
          1,
          1,
          2,
          1,
          1,
          1,
          1,
          2,
          1,
          1,
          1,
          1,
          1,
          2,
          1,
          1,
          1,
          2,
          1,
          1,
          1,
          1,
          1,
          2,
          2,
          2,
          1,
          1,
          1,
          1,
          2,
          1,
          1,
          1,
          1,
          3,
          1,
          1,
          1,
          1,
          1,
          2,
          1,
          2,
          2,
          1,
          1,
          1,
          1,
          1,
          2,
          1,
          1,
          1,
          1,
          1,
          1,
          1,
          1,
          1,
          1,
          1,
          1,
          1,
          1,
          2,
          1,
          3,
          1,
          1,
          1,
          1,
          1,
          2,
          1,
          1,
          1,
          1,
          1,
          1,
          1,
          1,
          2,
          1,
          1,
          2,
          1,
          1,
          2,
          1,
          1,
          2,
          1,
          1,
          1,
          1,
          1,
          1,
          1,
          1,
          1,
          1,
          3,
          2,
          1,
          2,
          2,
          1,
          2,
          1,
          1,
          1,
          1,
          2,
          1,
          1,
          1,
          1,
          1,
          1,
          1,
          1,
          1,
          1,
          1,
          2,
          2,
          2,
          1,
          1,
          2,
          1,
          1,
          1,
          1,
          1,
          2,
          1,
          2,
          1,
          1,
          1,
          1,
          2,
          2,
          1,
          2,
          1,
          1,
          1,
          1,
          2,
          2,
          1,
          1,
          1,
          1,
          1,
          3,
          4,
          4,
          4,
          3,
          4,
          1,
          1,
          1,
          2,
          2,
          3,
          2,
          1,
          1,
          2,
          1,
          1,
          1,
          1,
          1,
          1,
          1,
          3,
          1,
          1,
          1,
          1,
          2,
          1,
          1,
          1,
          1,
          1,
          1,
          2,
          1,
          1,
          1,
          1,
          1,
          1,
          1,
          1,
          1,
          1,
          1,
          1,
          1,
          1,
          3,
          2,
          1,
          3,
          1,
          1,
          1,
          1,
          2,
          1,
          1,
          1,
          2,
          1,
          2,
          1,
          2,
          1,
          1,
          2,
          1,
          1,
          1,
          1,
          2,
          2,
          1,
          2,
          1,
          1,
          2,
          2,
          1,
          1,
          1,
          1,
          1,
          2,
          1,
          3,
          1,
          1,
          2,
          1,
          1,
          1,
          1,
          1,
          1,
          2,
          1,
          2,
          3,
          1,
          1,
          1,
          1,
          1,
          1,
          2,
          1,
          1,
          2,
          1,
          1,
          1,
          2,
          1,
          1,
          1,
          2,
          1,
          1,
          2,
          1,
          1,
          2,
          1,
          3,
          1,
          2,
          1,
          1,
          1,
          2,
          1,
          1,
          1,
          2,
          2,
          1,
          1,
          1,
          1,
          1,
          1,
          2,
          1,
          1,
          1,
          2,
          1,
          1,
          1,
          1,
          1,
          1,
          1,
          1,
          1,
          1,
          1,
          1,
          1,
          2,
          1,
          1,
          1,
          1,
          1,
          1,
          1,
          2,
          1,
          1,
          1,
          3,
          3,
          1,
          2,
          1,
          1,
          1,
          2,
          1,
          1,
          2,
          1,
          1,
          1,
          1,
          1,
          1,
          1,
          1,
          1,
          1,
          1,
          1,
          1,
          1,
          1,
          1
         ]
        }
       ],
       "layout": {
        "margin": {
         "b": 0,
         "l": 0,
         "r": 0,
         "t": 0
        },
        "template": {
         "data": {
          "bar": [
           {
            "error_x": {
             "color": "#2a3f5f"
            },
            "error_y": {
             "color": "#2a3f5f"
            },
            "marker": {
             "line": {
              "color": "#E5ECF6",
              "width": 0.5
             },
             "pattern": {
              "fillmode": "overlay",
              "size": 10,
              "solidity": 0.2
             }
            },
            "type": "bar"
           }
          ],
          "barpolar": [
           {
            "marker": {
             "line": {
              "color": "#E5ECF6",
              "width": 0.5
             },
             "pattern": {
              "fillmode": "overlay",
              "size": 10,
              "solidity": 0.2
             }
            },
            "type": "barpolar"
           }
          ],
          "carpet": [
           {
            "aaxis": {
             "endlinecolor": "#2a3f5f",
             "gridcolor": "white",
             "linecolor": "white",
             "minorgridcolor": "white",
             "startlinecolor": "#2a3f5f"
            },
            "baxis": {
             "endlinecolor": "#2a3f5f",
             "gridcolor": "white",
             "linecolor": "white",
             "minorgridcolor": "white",
             "startlinecolor": "#2a3f5f"
            },
            "type": "carpet"
           }
          ],
          "choropleth": [
           {
            "colorbar": {
             "outlinewidth": 0,
             "ticks": ""
            },
            "type": "choropleth"
           }
          ],
          "contour": [
           {
            "colorbar": {
             "outlinewidth": 0,
             "ticks": ""
            },
            "colorscale": [
             [
              0,
              "#0d0887"
             ],
             [
              0.1111111111111111,
              "#46039f"
             ],
             [
              0.2222222222222222,
              "#7201a8"
             ],
             [
              0.3333333333333333,
              "#9c179e"
             ],
             [
              0.4444444444444444,
              "#bd3786"
             ],
             [
              0.5555555555555556,
              "#d8576b"
             ],
             [
              0.6666666666666666,
              "#ed7953"
             ],
             [
              0.7777777777777778,
              "#fb9f3a"
             ],
             [
              0.8888888888888888,
              "#fdca26"
             ],
             [
              1,
              "#f0f921"
             ]
            ],
            "type": "contour"
           }
          ],
          "contourcarpet": [
           {
            "colorbar": {
             "outlinewidth": 0,
             "ticks": ""
            },
            "type": "contourcarpet"
           }
          ],
          "heatmap": [
           {
            "colorbar": {
             "outlinewidth": 0,
             "ticks": ""
            },
            "colorscale": [
             [
              0,
              "#0d0887"
             ],
             [
              0.1111111111111111,
              "#46039f"
             ],
             [
              0.2222222222222222,
              "#7201a8"
             ],
             [
              0.3333333333333333,
              "#9c179e"
             ],
             [
              0.4444444444444444,
              "#bd3786"
             ],
             [
              0.5555555555555556,
              "#d8576b"
             ],
             [
              0.6666666666666666,
              "#ed7953"
             ],
             [
              0.7777777777777778,
              "#fb9f3a"
             ],
             [
              0.8888888888888888,
              "#fdca26"
             ],
             [
              1,
              "#f0f921"
             ]
            ],
            "type": "heatmap"
           }
          ],
          "heatmapgl": [
           {
            "colorbar": {
             "outlinewidth": 0,
             "ticks": ""
            },
            "colorscale": [
             [
              0,
              "#0d0887"
             ],
             [
              0.1111111111111111,
              "#46039f"
             ],
             [
              0.2222222222222222,
              "#7201a8"
             ],
             [
              0.3333333333333333,
              "#9c179e"
             ],
             [
              0.4444444444444444,
              "#bd3786"
             ],
             [
              0.5555555555555556,
              "#d8576b"
             ],
             [
              0.6666666666666666,
              "#ed7953"
             ],
             [
              0.7777777777777778,
              "#fb9f3a"
             ],
             [
              0.8888888888888888,
              "#fdca26"
             ],
             [
              1,
              "#f0f921"
             ]
            ],
            "type": "heatmapgl"
           }
          ],
          "histogram": [
           {
            "marker": {
             "pattern": {
              "fillmode": "overlay",
              "size": 10,
              "solidity": 0.2
             }
            },
            "type": "histogram"
           }
          ],
          "histogram2d": [
           {
            "colorbar": {
             "outlinewidth": 0,
             "ticks": ""
            },
            "colorscale": [
             [
              0,
              "#0d0887"
             ],
             [
              0.1111111111111111,
              "#46039f"
             ],
             [
              0.2222222222222222,
              "#7201a8"
             ],
             [
              0.3333333333333333,
              "#9c179e"
             ],
             [
              0.4444444444444444,
              "#bd3786"
             ],
             [
              0.5555555555555556,
              "#d8576b"
             ],
             [
              0.6666666666666666,
              "#ed7953"
             ],
             [
              0.7777777777777778,
              "#fb9f3a"
             ],
             [
              0.8888888888888888,
              "#fdca26"
             ],
             [
              1,
              "#f0f921"
             ]
            ],
            "type": "histogram2d"
           }
          ],
          "histogram2dcontour": [
           {
            "colorbar": {
             "outlinewidth": 0,
             "ticks": ""
            },
            "colorscale": [
             [
              0,
              "#0d0887"
             ],
             [
              0.1111111111111111,
              "#46039f"
             ],
             [
              0.2222222222222222,
              "#7201a8"
             ],
             [
              0.3333333333333333,
              "#9c179e"
             ],
             [
              0.4444444444444444,
              "#bd3786"
             ],
             [
              0.5555555555555556,
              "#d8576b"
             ],
             [
              0.6666666666666666,
              "#ed7953"
             ],
             [
              0.7777777777777778,
              "#fb9f3a"
             ],
             [
              0.8888888888888888,
              "#fdca26"
             ],
             [
              1,
              "#f0f921"
             ]
            ],
            "type": "histogram2dcontour"
           }
          ],
          "mesh3d": [
           {
            "colorbar": {
             "outlinewidth": 0,
             "ticks": ""
            },
            "type": "mesh3d"
           }
          ],
          "parcoords": [
           {
            "line": {
             "colorbar": {
              "outlinewidth": 0,
              "ticks": ""
             }
            },
            "type": "parcoords"
           }
          ],
          "pie": [
           {
            "automargin": true,
            "type": "pie"
           }
          ],
          "scatter": [
           {
            "fillpattern": {
             "fillmode": "overlay",
             "size": 10,
             "solidity": 0.2
            },
            "type": "scatter"
           }
          ],
          "scatter3d": [
           {
            "line": {
             "colorbar": {
              "outlinewidth": 0,
              "ticks": ""
             }
            },
            "marker": {
             "colorbar": {
              "outlinewidth": 0,
              "ticks": ""
             }
            },
            "type": "scatter3d"
           }
          ],
          "scattercarpet": [
           {
            "marker": {
             "colorbar": {
              "outlinewidth": 0,
              "ticks": ""
             }
            },
            "type": "scattercarpet"
           }
          ],
          "scattergeo": [
           {
            "marker": {
             "colorbar": {
              "outlinewidth": 0,
              "ticks": ""
             }
            },
            "type": "scattergeo"
           }
          ],
          "scattergl": [
           {
            "marker": {
             "colorbar": {
              "outlinewidth": 0,
              "ticks": ""
             }
            },
            "type": "scattergl"
           }
          ],
          "scattermapbox": [
           {
            "marker": {
             "colorbar": {
              "outlinewidth": 0,
              "ticks": ""
             }
            },
            "type": "scattermapbox"
           }
          ],
          "scatterpolar": [
           {
            "marker": {
             "colorbar": {
              "outlinewidth": 0,
              "ticks": ""
             }
            },
            "type": "scatterpolar"
           }
          ],
          "scatterpolargl": [
           {
            "marker": {
             "colorbar": {
              "outlinewidth": 0,
              "ticks": ""
             }
            },
            "type": "scatterpolargl"
           }
          ],
          "scatterternary": [
           {
            "marker": {
             "colorbar": {
              "outlinewidth": 0,
              "ticks": ""
             }
            },
            "type": "scatterternary"
           }
          ],
          "surface": [
           {
            "colorbar": {
             "outlinewidth": 0,
             "ticks": ""
            },
            "colorscale": [
             [
              0,
              "#0d0887"
             ],
             [
              0.1111111111111111,
              "#46039f"
             ],
             [
              0.2222222222222222,
              "#7201a8"
             ],
             [
              0.3333333333333333,
              "#9c179e"
             ],
             [
              0.4444444444444444,
              "#bd3786"
             ],
             [
              0.5555555555555556,
              "#d8576b"
             ],
             [
              0.6666666666666666,
              "#ed7953"
             ],
             [
              0.7777777777777778,
              "#fb9f3a"
             ],
             [
              0.8888888888888888,
              "#fdca26"
             ],
             [
              1,
              "#f0f921"
             ]
            ],
            "type": "surface"
           }
          ],
          "table": [
           {
            "cells": {
             "fill": {
              "color": "#EBF0F8"
             },
             "line": {
              "color": "white"
             }
            },
            "header": {
             "fill": {
              "color": "#C8D4E3"
             },
             "line": {
              "color": "white"
             }
            },
            "type": "table"
           }
          ]
         },
         "layout": {
          "annotationdefaults": {
           "arrowcolor": "#2a3f5f",
           "arrowhead": 0,
           "arrowwidth": 1
          },
          "autotypenumbers": "strict",
          "coloraxis": {
           "colorbar": {
            "outlinewidth": 0,
            "ticks": ""
           }
          },
          "colorscale": {
           "diverging": [
            [
             0,
             "#8e0152"
            ],
            [
             0.1,
             "#c51b7d"
            ],
            [
             0.2,
             "#de77ae"
            ],
            [
             0.3,
             "#f1b6da"
            ],
            [
             0.4,
             "#fde0ef"
            ],
            [
             0.5,
             "#f7f7f7"
            ],
            [
             0.6,
             "#e6f5d0"
            ],
            [
             0.7,
             "#b8e186"
            ],
            [
             0.8,
             "#7fbc41"
            ],
            [
             0.9,
             "#4d9221"
            ],
            [
             1,
             "#276419"
            ]
           ],
           "sequential": [
            [
             0,
             "#0d0887"
            ],
            [
             0.1111111111111111,
             "#46039f"
            ],
            [
             0.2222222222222222,
             "#7201a8"
            ],
            [
             0.3333333333333333,
             "#9c179e"
            ],
            [
             0.4444444444444444,
             "#bd3786"
            ],
            [
             0.5555555555555556,
             "#d8576b"
            ],
            [
             0.6666666666666666,
             "#ed7953"
            ],
            [
             0.7777777777777778,
             "#fb9f3a"
            ],
            [
             0.8888888888888888,
             "#fdca26"
            ],
            [
             1,
             "#f0f921"
            ]
           ],
           "sequentialminus": [
            [
             0,
             "#0d0887"
            ],
            [
             0.1111111111111111,
             "#46039f"
            ],
            [
             0.2222222222222222,
             "#7201a8"
            ],
            [
             0.3333333333333333,
             "#9c179e"
            ],
            [
             0.4444444444444444,
             "#bd3786"
            ],
            [
             0.5555555555555556,
             "#d8576b"
            ],
            [
             0.6666666666666666,
             "#ed7953"
            ],
            [
             0.7777777777777778,
             "#fb9f3a"
            ],
            [
             0.8888888888888888,
             "#fdca26"
            ],
            [
             1,
             "#f0f921"
            ]
           ]
          },
          "colorway": [
           "#636efa",
           "#EF553B",
           "#00cc96",
           "#ab63fa",
           "#FFA15A",
           "#19d3f3",
           "#FF6692",
           "#B6E880",
           "#FF97FF",
           "#FECB52"
          ],
          "font": {
           "color": "#2a3f5f"
          },
          "geo": {
           "bgcolor": "white",
           "lakecolor": "white",
           "landcolor": "#E5ECF6",
           "showlakes": true,
           "showland": true,
           "subunitcolor": "white"
          },
          "hoverlabel": {
           "align": "left"
          },
          "hovermode": "closest",
          "mapbox": {
           "style": "light"
          },
          "paper_bgcolor": "white",
          "plot_bgcolor": "#E5ECF6",
          "polar": {
           "angularaxis": {
            "gridcolor": "white",
            "linecolor": "white",
            "ticks": ""
           },
           "bgcolor": "#E5ECF6",
           "radialaxis": {
            "gridcolor": "white",
            "linecolor": "white",
            "ticks": ""
           }
          },
          "scene": {
           "xaxis": {
            "backgroundcolor": "#E5ECF6",
            "gridcolor": "white",
            "gridwidth": 2,
            "linecolor": "white",
            "showbackground": true,
            "ticks": "",
            "zerolinecolor": "white"
           },
           "yaxis": {
            "backgroundcolor": "#E5ECF6",
            "gridcolor": "white",
            "gridwidth": 2,
            "linecolor": "white",
            "showbackground": true,
            "ticks": "",
            "zerolinecolor": "white"
           },
           "zaxis": {
            "backgroundcolor": "#E5ECF6",
            "gridcolor": "white",
            "gridwidth": 2,
            "linecolor": "white",
            "showbackground": true,
            "ticks": "",
            "zerolinecolor": "white"
           }
          },
          "shapedefaults": {
           "line": {
            "color": "#2a3f5f"
           }
          },
          "ternary": {
           "aaxis": {
            "gridcolor": "white",
            "linecolor": "white",
            "ticks": ""
           },
           "baxis": {
            "gridcolor": "white",
            "linecolor": "white",
            "ticks": ""
           },
           "bgcolor": "#E5ECF6",
           "caxis": {
            "gridcolor": "white",
            "linecolor": "white",
            "ticks": ""
           }
          },
          "title": {
           "x": 0.05
          },
          "xaxis": {
           "automargin": true,
           "gridcolor": "white",
           "linecolor": "white",
           "ticks": "",
           "title": {
            "standoff": 15
           },
           "zerolinecolor": "white",
           "zerolinewidth": 2
          },
          "yaxis": {
           "automargin": true,
           "gridcolor": "white",
           "linecolor": "white",
           "ticks": "",
           "title": {
            "standoff": 15
           },
           "zerolinecolor": "white",
           "zerolinewidth": 2
          }
         }
        },
        "xaxis": {
         "title": {
          "text": "date"
         }
        },
        "yaxis": {
         "title": {
          "text": "# of flights"
         }
        }
       }
      }
     },
     "metadata": {},
     "output_type": "display_data"
    }
   ],
   "source": [
    "#Display timeline on a graph\n",
    "timeline_dict = {}\n",
    "\n",
    "for data_point in destinations_list:\n",
    "    date_str = data_point[0].split(\" \")[0]\n",
    "\n",
    "    if date_str in timeline_dict:\n",
    "        timeline_dict[date_str] += 1\n",
    "    else:\n",
    "        timeline_dict[date_str] = 1\n",
    "\n",
    "x=[x for x in timeline_dict]\n",
    "y = [timeline_dict[x] for x in timeline_dict]\n",
    "\n",
    "trace = go.Scatter(x=x, y=y, mode='lines')\n",
    "layout = go.Layout(xaxis=dict(title='date'), yaxis=dict(title='# of flights'), margin=dict(l=0, r=0, b=0, t=0))\n",
    "\n",
    "fig = go.Figure(data=trace, layout=layout)\n",
    "fig.show()"
   ]
  },
  {
   "cell_type": "code",
   "execution_count": 42,
   "metadata": {},
   "outputs": [],
   "source": [
    "fig.write_html('elon_musk_flight_rate.html')"
   ]
  },
  {
   "cell_type": "code",
   "execution_count": 17,
   "metadata": {},
   "outputs": [
    {
     "name": "stdout",
     "output_type": "stream",
     "text": [
      "The maximum number of flights observed is 4, on 2020-03-06\n",
      "\n",
      "He went to the following locations (in order):\n",
      "0. Airport Boulevard, San Jose, California, United States, 95110\n",
      "1. Sophia Avenue, Los Angeles, California, United States, 91406\n",
      "2. Boring Test Tunnel, Hawthorne, California, United States, 90250\n",
      "3. Sophia Avenue, Los Angeles, California, United States, 91406\n"
     ]
    }
   ],
   "source": [
    "max_y = y[0]\n",
    "index = 0\n",
    "for i in range(1,len(y)):\n",
    "    if y[i] > max_y:\n",
    "        max_y = y[i]\n",
    "        index = i\n",
    "\n",
    "max_day_dest_list = []\n",
    "for dest in destinations_list:\n",
    "    if dest[0].split(\" \")[0] == x[index]:\n",
    "        max_day_dest_list.append(dest[1])\n",
    "\n",
    "\n",
    "print(\"The maximum number of flights observed is {}, on {}\".format(max_y, x[index]))\n",
    "print(\"\\nHe went to the following locations (in order):\")\n",
    "for i in range(len(max_day_dest_list)):\n",
    "    print(\"{}. {}\".format(i, max_day_dest_list[i]))"
   ]
  },
  {
   "attachments": {},
   "cell_type": "markdown",
   "metadata": {},
   "source": [
    "<h2>Making SQL Databas</h2>\n",
    "\n",
    "1. Format json data to csv file\n",
    "2. Make SQL database from reformated data"
   ]
  },
  {
   "cell_type": "code",
   "execution_count": null,
   "metadata": {},
   "outputs": [],
   "source": [
    "import pandas as pd\n",
    "import sqlite3"
   ]
  },
  {
   "cell_type": "code",
   "execution_count": 19,
   "metadata": {},
   "outputs": [],
   "source": [
    "csv_save_file = \"a835af_tracking_data_2020-01-19_2023-02-26.csv\"\n",
    "\n",
    "with open(csv_save_file, \"w\") as target_file:\n",
    "    target_file.write(\"{}, {}, {}, {}, {}\\n\".format(\"Time\", \"latitude\", \"longitude\", \"barometric altitude\", \"ground speed\"))\n",
    "    for date in json_data:\n",
    "        entry = json_data[date]\n",
    "        target_file.write(\"{}, {}, {}, {}, {}\\n\".format(date, entry[\"lat\"], entry[\"lon\"], entry[\"baro_alt\"], entry[\"grd_speed\"]))\n",
    "        "
   ]
  },
  {
   "cell_type": "code",
   "execution_count": 26,
   "metadata": {},
   "outputs": [],
   "source": [
    "#Load csv\n",
    "csv_trace_path = \"a835af_tracking_data_2020-01-19_2023-02-26.csv\"\n",
    "csv_landing_path = \"landing_locations_a835af_tracking_data_2020-01-19_2023-02-26.csv\"\n",
    "\n",
    "df_csv_trace = pd.read_csv(csv_trace_path, ',')\n",
    "df_csv_landings = pd.read_csv(csv_landing_path, ',')\n",
    "\n",
    "#Make database\n",
    "con =  sqlite3.connect('where_is_elon.db')\n",
    "\n",
    "#Add to database\n",
    "df_csv_trace.to_sql(\"trace\", con=con)\n",
    "df_csv_landings.to_sql(\"landings\", con=con)\n",
    "\n",
    "con.commit() #Just in case\n",
    "con.close()"
   ]
  },
  {
   "attachments": {},
   "cell_type": "markdown",
   "metadata": {},
   "source": [
    "<h2>Test Elements - Ignore</h2>"
   ]
  },
  {
   "cell_type": "code",
   "execution_count": 181,
   "metadata": {},
   "outputs": [
    {
     "name": "stdout",
     "output_type": "stream",
     "text": [
      "{'lat': 32.164948, 'lon': -106.608966, 'baro_alt': 43000, 'grd_speed': 464, 'extra': {'flight_num': 'N628TS  ', 'geom_alt': 44000, 'baro_rate': -64, 'grd_track': 306.5}}\n"
     ]
    }
   ],
   "source": [
    "indices = []\n",
    "for i in range(len(list(data.keys()))):\n",
    "    if(data[list(data.keys())[i]]['extra'] != None):\n",
    "        indices.append(i)\n",
    "\n",
    "print(data[list(data.keys())[indices[100]]])"
   ]
  },
  {
   "cell_type": "code",
   "execution_count": 182,
   "metadata": {},
   "outputs": [
    {
     "name": "stdout",
     "output_type": "stream",
     "text": [
      "['addrtype', 'alt_baro', 'alt_reliable', 'alt_rounded', 'altitude', 'altitudeTime', 'bad_alt', 'bad_altTime', 'baseMarkerKey', 'baseScale', 'bgColorCache', 'category', 'clearTraceAfter', 'country', 'dataSource', 'dbinfoLoaded', 'drawLine', 'elastic_feature', 'fakeHex', 'flag_image', 'flight', 'flightTs', 'fullTrace', 'geom_diff', 'geom_diff_ts', 'gs', 'history_size', 'icao', 'icaoType', 'icaoTypeCache', 'inView', 'interesting', 'ladd', 'last', 'lastTraceTs', 'lastVisible', 'last_info_server', 'last_message_time', 'layer', 'linesDrawn', 'marker', 'markerDrawn', 'markerIcon', 'markerStyle', 'markerStyleKey', 'markerSvgKey', 'messageRate', 'messageRateOld', 'messages', 'military', 'msgs1090', 'msgs978', 'nac_p', 'nac_v', 'name', 'nav_altitude', 'noInfoTime', 'numHex', 'onGround', 'ownOp', 'pia', 'position', 'position_time', 'prev_alt', 'prev_alt_rounded', 'prev_dataSource', 'prev_rot', 'prev_speed', 'prev_time', 'proj', 'psAPIparam', 'psAPIresponse', 'psAPIresponseTS', 'rc', 'recentTrace', 'refreshTR', 'registration', 'request_rotation_from_track', 'rotation', 'rotationCache', 'rssi', 'scale', 'seen', 'seen_pos', 'selectCache', 'selected', 'shape', 'sil', 'sil_type', 'sitedist', 'speed', 'squawk', 'strokeWidth', 'tail_rot', 'tail_track', 'tail_update', 'too_fast', 'tr', 'trCache', 'trace', 'track_linesegs', 'trail_features', 'typeDescription', 'typeLong', 'version', 'vert_rate', 'visible', 'wtc', 'year', 'zIndex']\n",
      "---------------------------------------\n",
      "753\n",
      "[1675828960.18, 37.710932, -122.224318, 'ground', 10.8, 182.8, 0, None, {'type': 'adsb_icao', 'flight': 'N628TS  ', 'track': 182.81, 'true_heading': 182.81, 'squawk': '3203', 'emergency': 'none', 'category': 'A3', 'nic': 8, 'rc': 186, 'version': 2, 'nac_p': 10, 'nac_v': 2, 'sil': 3, 'sil_type': 'perhour', 'sda': 2}, 'adsb_icao', None, None, None, None]\n",
      "\n",
      "[1675830824.96, 36.036925, -120.630292, 33000, 533.4, 138.4, 0, 0, {'type': 'adsb_icao', 'flight': 'N628TS  ', 'alt_geom': 33425, 'ias': 322, 'tas': 514, 'mach': 0.896, 'wd': 276, 'ws': 29, 'oat': -56, 'tat': -22, 'track': 138.42, 'track_rate': 0, 'roll': 0, 'mag_heading': 128.14, 'true_heading': 140.59, 'baro_rate': 0, 'geom_rate': 0, 'squawk': '3203', 'emergency': 'none', 'category': 'A3', 'nav_qnh': 1013.6, 'nav_altitude_mcp': 33024, 'nav_altitude_fms': 33008, 'nav_modes': ['autopilot', 'althold', 'tcas'], 'nic': 8, 'rc': 186, 'version': 2, 'nic_baro': 1, 'nac_p': 10, 'nac_v': 2, 'sil': 3, 'sil_type': 'perhour', 'gva': 2, 'sda': 2, 'alert': 0, 'spi': 0}, 'adsb_icao', 33425, 0, 322, 0]\n"
     ]
    }
   ],
   "source": [
    "print(sorted(list(js_data[0].keys())))\n",
    "print(\"---------------------------------------\")\n",
    "print(len(js_data[0]['fullTrace']['trace']))\n",
    "print(js_data[0]['fullTrace']['trace'][100])\n",
    "print(\"\")\n",
    "print(js_data[0]['fullTrace']['trace'][400])"
   ]
  },
  {
   "cell_type": "code",
   "execution_count": 183,
   "metadata": {},
   "outputs": [
    {
     "name": "stdout",
     "output_type": "stream",
     "text": [
      "2023-02-08 01:48:08\n"
     ]
    }
   ],
   "source": [
    "print(datetime.strptime(\"1970/01/01\", '%Y/%m/%d') + timedelta(seconds=1675820888))"
   ]
  },
  {
   "cell_type": "code",
   "execution_count": 184,
   "metadata": {},
   "outputs": [],
   "source": [
    "# from selenium.webdriver.chrome.service import Service\n",
    "# from time import sleep\n",
    "\n",
    "# chromedriver = \"C:/webdrivers/chromedriver.exe\"\n",
    "\n",
    "# option = webdriver.ChromeOptions()\n",
    "# option.binary_location = \"C:/Program Files/BraveSoftware/Brave-Browser/Application/brave.exe\"\n",
    "\n",
    "# s = Service(chromedriver)\n",
    "\n",
    "# driver = webdriver.Chrome(service=s, options=option)\n",
    "\n",
    "# #Patch Fingerprint leaks\n",
    "# script = \"Object.defineProperty(navigator, 'webdriver', {get: () => false})\"\n",
    "# driver.execute_cdp_cmd(\"Page.addScriptToEvaluateOnNewDocument\", {\"source\": script})\n",
    "\n",
    "# delta = endDate - startDate\n",
    "# for i in range(delta.days + 1):\n",
    "#     driver.get(\"https://globe.adsbexchange.com/?icao={}&lat={}&lon={}&zoom={}&showTrace={}\".format(targetIcao, lat, lon, zoom, startDate + timedelta(days=i)))\n",
    "#     # sleep(10)\n",
    "#     # element = driver.execute_script(\"return selectedPlanes()\")\n",
    "#     # print(element)\n",
    "# # driver.close()"
   ]
  }
 ],
 "metadata": {
  "kernelspec": {
   "display_name": "base",
   "language": "python",
   "name": "python3"
  },
  "language_info": {
   "codemirror_mode": {
    "name": "ipython",
    "version": 3
   },
   "file_extension": ".py",
   "mimetype": "text/x-python",
   "name": "python",
   "nbconvert_exporter": "python",
   "pygments_lexer": "ipython3",
   "version": "3.8.8"
  },
  "orig_nbformat": 4,
  "vscode": {
   "interpreter": {
    "hash": "56c86a9ba7b3d87e8dcf3ce7ca9250367f1d85331f77f621a926d7b96e36aeef"
   }
  }
 },
 "nbformat": 4,
 "nbformat_minor": 2
}
