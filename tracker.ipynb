{
 "cells": [
  {
   "attachments": {},
   "cell_type": "markdown",
   "metadata": {},
   "source": [
    "<center><h1>Where is Elon?!</h1></center>\n",
    "\n",
    "Elon musk's plane tracker, will include:\n",
    "- Data scraping\n",
    "- Data visualization\n",
    "\n",
    "Jet information\n",
    "- Registration: N628TS\n",
    "- ICAO hex number: A835AF\n",
    "- Category: A3 Large (75000 to 300000 lb)\n",
    "- Bought in 2006\n",
    "\n",
    "Source is ADS-B exchange (All proper APIs are priced)\n",
    "- https://globe.adsbexchange.com\n",
    "- https://globe.adsbexchange.com/?icao=a835af&lat=37.731&lon=-122.215&zoom=1.0&showTrace=2023-02-08 Using their replay function for day -> showTrace=YYYY-MM-DD\n",
    "- https://globe.adsbexchange.com/?replay=2023-02-16-11:46&lat=40.560&lon=-73.660&zoom=9.0 (Deprecated) Using their replay function -> replay=YYYY-MM-DD-HH:MM\n",
    "\n",
    "- Beginning of data seems to be on 2020-01-19\n",
    "\n",
    "Settings:\n",
    "- replay=YYYY-MM-DD-HH:MM\n",
    "- icao=a835af\n",
    "- lat=0\n",
    "- lon=0\n",
    "- zoom=2.0\n",
    "\n",
    "Javascript variable:\n",
    "- selectedPlanes\n",
    "    - fullTrace\n",
    "\n",
    "<!-- \n",
    "other info (temporary)\n",
    "ads-b exchange replay function\n",
    "https://globe.adsbexchange.com/?replay=2023-02-16-11:46&lat=40.560&lon=-73.660&zoom=9.0\n",
    "\n",
    "\n",
    "maybe:\n",
    "https://globe.adsbexchange.com/?replay=2023-03-01&icao=a835af\n",
    "\n",
    "\n",
    "https://globe.adsbexchange.com/?icao=a835af&lat=37.731&lon=-122.215&zoom=1.0&showTrace=2023-02-08 <- we got a winner!!!!!\n",
    "\n",
    "console:\n",
    "selectedPlanes()\n",
    "-> fullTrace\n",
    "-> trace -->"
   ]
  },
  {
   "attachments": {},
   "cell_type": "markdown",
   "metadata": {},
   "source": [
    "<h2>Imports and settings</h2>"
   ]
  },
  {
   "cell_type": "code",
   "execution_count": 8,
   "metadata": {},
   "outputs": [],
   "source": [
    "from selenium import webdriver\n",
    "\n",
    "import json\n",
    "import pandas as pd\n",
    "\n",
    "from time import sleep\n",
    "import sys\n",
    "\n",
    "from datetime import datetime, timedelta\n",
    "from math import floor"
   ]
  },
  {
   "cell_type": "code",
   "execution_count": 7,
   "metadata": {},
   "outputs": [],
   "source": [
    "#Scraper settings\n",
    "targetIcao = \"a835af\"\n",
    "startDate = datetime.strptime(\"2020/01/19\", '%Y/%m/%d').date()\n",
    "endDate = datetime.now().date() # datetime.strptime(\"2023/02/08\", '%Y/%m/%d').date()\n",
    "\n",
    "lat = \"0.000\"\n",
    "lon = \"0.000\"\n",
    "zoom = \"2.0\"\n",
    "\n",
    "#Saving settings\n",
    "save_file = \"tracking_data.json\""
   ]
  },
  {
   "cell_type": "code",
   "execution_count": 11,
   "metadata": {},
   "outputs": [],
   "source": [
    "#Other data\n",
    "javaScript_start_time = datetime.strptime(\"1970/01/01\", '%Y/%m/%d') #Time delta in seconds"
   ]
  },
  {
   "attachments": {},
   "cell_type": "markdown",
   "metadata": {},
   "source": [
    "<h2>Scrap data</h2>\n",
    "\n",
    "Data from - Selected Planes() -> showTrace\n",
    "\n",
    "Problem -> Circular reference in javascript object so can't return it </n>\n",
    "Solution -> https://stackoverflow.com/a/10455320/454773 get rid of circular reference + parse to json\n",
    "\n",
    "Trace data as:\n",
    "- list of values + dict\n",
    "    - [<b>time</b> (javscript time), <b>latitude</b>, <b>longitude</b>, <b>altitude/'ground'</b>, <b>ground speed (kt)</b>, ground track, ?, ?, <b>dict</b>, transponder type (I think), geometric altitude, ?, indicated speed, ?]\n",
    "    - dict -> keys depend on ground or air + sometimes no info\n",
    "        - Gonna take: 'flight' (flight number), 'alt_geom' (geometric altitude), 'ias' (indicated speed), 'tas' (true speed), 'mach', 'wd' (wind direction), 'ws' (wind speed), 'track' (ground track), 'mag_heading' (magnetic heading), 'true_heading', 'baro_rate' (barometric climb (ft/min)), 'geom_rate' (rate of climb or decent ft/min)\n",
    "\n",
    "ground track -> aircraft direction above ground (?)\n",
    "geometric altitude -> The geometric GPS derived altitude referenced to WGS84 ellipsoid <!-- (or reference EGM96 when enabled in the settings) -->\n",
    "\n",
    "Data Storage -> Saved in dictionary\n",
    "- key -> date time information\n",
    "- value -> dict {lat, lon, baro_alt, grd_speed, extra : dict2}\n",
    "    - dict2 -> dict {flight_num, geom_alt, geom_rate, baro_rate, indicated_spd, true_spd, mach, wind_dir, wind_spd, grd_track, mag_heading, true_heading} (Not always complete)"
   ]
  },
  {
   "cell_type": "code",
   "execution_count": 12,
   "metadata": {},
   "outputs": [],
   "source": [
    "#Utility functions\n",
    "util_bld_dict2_ins = [\"flight\", \"alt_geom\", \"geom_rate\", \"baro_rate\", \"ias\", \"tas\", \"mach\", \"wd\", \"ws\", \"track\", \"mag_heading\", \"true_heading\"]\n",
    "util_bld_dict2_outs = [\"flight_num\", \"geom_alt\", \"geom_rate\", \"baro_rate\", \"indicated_spd\", \"true_spd\", \"mach\", \"wind_dir\", \"wind_spd\", \"grd_track\", \"mag_heading\", \"true_heading\"]\n",
    "\n",
    "def build_dict(lin):\n",
    "    info = {}\n",
    "    info[\"lat\"] = lin[1] if len(lin) > 1 else None\n",
    "    info[\"lon\"] = lin[2] if len(lin) > 2 else None\n",
    "    info[\"baro_alt\"] = lin[3] if len(lin) > 3 else None\n",
    "    info[\"grd_speed\"] = lin[4] if len(lin) > 4 else None\n",
    "    if len(lin) < 9 or lin[8] == None:\n",
    "        info[\"extra\"] = None\n",
    "    else:\n",
    "        extra = {}\n",
    "        for i in range(len(util_bld_dict2_ins)):\n",
    "            v = lin[8].get(util_bld_dict2_ins[i])\n",
    "            if v != None:\n",
    "                extra[util_bld_dict2_outs[i]] = v\n",
    "        info[\"extra\"] = extra\n",
    "    return info\n",
    "\n",
    "def get_java_time(dt):\n",
    "    return datetime.strptime(\"1970/01/01\", '%Y/%m/%d') + timedelta(seconds=floor(dt))\n",
    "\n",
    "def has_trace(obj):\n",
    "    return len(obj) > 0 and obj[0].get(\"fullTrace\") != None and obj[0][\"fullTrace\"].get(\"trace\") != None"
   ]
  },
  {
   "cell_type": "code",
   "execution_count": 13,
   "metadata": {},
   "outputs": [],
   "source": [
    "import sys\n",
    "\n",
    "def progressbar(p, prefix=\"\", size=60, out=sys.stdout): # Python3.3+\n",
    "    x = int(size*p)\n",
    "    print(\"{}[{}{}] {}%\".format(prefix, \"#\"*x, \".\"*(size-x), int(p*100)), end='\\r', file=out, flush=True)"
   ]
  },
  {
   "cell_type": "code",
   "execution_count": 14,
   "metadata": {},
   "outputs": [
    {
     "ename": "NoSuchWindowException",
     "evalue": "Message: no such window: target window already closed\nfrom unknown error: web view not found\n  (Session info: chrome=110.0.5481.178)\nStacktrace:\nBacktrace:\n\t(No symbol) [0x00B737D3]\n\t(No symbol) [0x00B08B81]\n\t(No symbol) [0x00A0B36D]\n\t(No symbol) [0x009EE5DA]\n\t(No symbol) [0x00A5F0CB]\n\t(No symbol) [0x00A70A56]\n\t(No symbol) [0x00A5B216]\n\t(No symbol) [0x00A30D97]\n\t(No symbol) [0x00A3253D]\n\tGetHandleVerifier [0x00DEABF2+2510930]\n\tGetHandleVerifier [0x00E18EC1+2700065]\n\tGetHandleVerifier [0x00E1C86C+2714828]\n\tGetHandleVerifier [0x00C23480+645344]\n\t(No symbol) [0x00B10FD2]\n\t(No symbol) [0x00B16C68]\n\t(No symbol) [0x00B16D4B]\n\t(No symbol) [0x00B20D6B]\n\tBaseThreadInitThunk [0x75727D69+25]\n\tRtlInitializeExceptionChain [0x7710BB9B+107]\n\tRtlClearBits [0x7710BB1F+191]\n",
     "output_type": "error",
     "traceback": [
      "\u001b[1;31m---------------------------------------------------------------------------\u001b[0m",
      "\u001b[1;31mNoSuchWindowException\u001b[0m                     Traceback (most recent call last)",
      "\u001b[1;32m<ipython-input-14-5cedfb5931ac>\u001b[0m in \u001b[0;36m<module>\u001b[1;34m\u001b[0m\n\u001b[0;32m     29\u001b[0m     \u001b[1;32mwhile\u001b[0m \u001b[1;33m(\u001b[0m\u001b[0mc\u001b[0m \u001b[1;33m<\u001b[0m \u001b[1;36m5\u001b[0m\u001b[1;33m)\u001b[0m\u001b[1;33m:\u001b[0m\u001b[1;33m\u001b[0m\u001b[1;33m\u001b[0m\u001b[0m\n\u001b[0;32m     30\u001b[0m       \u001b[0msleep\u001b[0m\u001b[1;33m(\u001b[0m\u001b[1;36m1\u001b[0m\u001b[1;33m)\u001b[0m\u001b[1;33m\u001b[0m\u001b[1;33m\u001b[0m\u001b[0m\n\u001b[1;32m---> 31\u001b[1;33m       \u001b[0mjs_data\u001b[0m \u001b[1;33m=\u001b[0m \u001b[0mjson\u001b[0m\u001b[1;33m.\u001b[0m\u001b[0mloads\u001b[0m\u001b[1;33m(\u001b[0m\u001b[0mdriver\u001b[0m\u001b[1;33m.\u001b[0m\u001b[0mexecute_script\u001b[0m\u001b[1;33m(\u001b[0m\u001b[0mjss\u001b[0m\u001b[1;33m)\u001b[0m\u001b[1;33m)\u001b[0m\u001b[1;33m\u001b[0m\u001b[1;33m\u001b[0m\u001b[0m\n\u001b[0m\u001b[0;32m     32\u001b[0m       \u001b[0mc\u001b[0m \u001b[1;33m+=\u001b[0m \u001b[1;36m10\u001b[0m \u001b[1;32mif\u001b[0m \u001b[0mhas_trace\u001b[0m\u001b[1;33m(\u001b[0m\u001b[0mjs_data\u001b[0m\u001b[1;33m)\u001b[0m \u001b[1;32melse\u001b[0m \u001b[1;36m1\u001b[0m\u001b[1;33m\u001b[0m\u001b[1;33m\u001b[0m\u001b[0m\n\u001b[0;32m     33\u001b[0m \u001b[1;33m\u001b[0m\u001b[0m\n",
      "\u001b[1;32mc:\\Users\\benoi\\anaconda3\\lib\\site-packages\\selenium\\webdriver\\remote\\webdriver.py\u001b[0m in \u001b[0;36mexecute_script\u001b[1;34m(self, script, *args)\u001b[0m\n\u001b[0;32m    498\u001b[0m         \u001b[0mcommand\u001b[0m \u001b[1;33m=\u001b[0m \u001b[0mCommand\u001b[0m\u001b[1;33m.\u001b[0m\u001b[0mW3C_EXECUTE_SCRIPT\u001b[0m\u001b[1;33m\u001b[0m\u001b[1;33m\u001b[0m\u001b[0m\n\u001b[0;32m    499\u001b[0m \u001b[1;33m\u001b[0m\u001b[0m\n\u001b[1;32m--> 500\u001b[1;33m         \u001b[1;32mreturn\u001b[0m \u001b[0mself\u001b[0m\u001b[1;33m.\u001b[0m\u001b[0mexecute\u001b[0m\u001b[1;33m(\u001b[0m\u001b[0mcommand\u001b[0m\u001b[1;33m,\u001b[0m \u001b[1;33m{\u001b[0m\u001b[1;34m\"script\"\u001b[0m\u001b[1;33m:\u001b[0m \u001b[0mscript\u001b[0m\u001b[1;33m,\u001b[0m \u001b[1;34m\"args\"\u001b[0m\u001b[1;33m:\u001b[0m \u001b[0mconverted_args\u001b[0m\u001b[1;33m}\u001b[0m\u001b[1;33m)\u001b[0m\u001b[1;33m[\u001b[0m\u001b[1;34m\"value\"\u001b[0m\u001b[1;33m]\u001b[0m\u001b[1;33m\u001b[0m\u001b[1;33m\u001b[0m\u001b[0m\n\u001b[0m\u001b[0;32m    501\u001b[0m \u001b[1;33m\u001b[0m\u001b[0m\n\u001b[0;32m    502\u001b[0m     \u001b[1;32mdef\u001b[0m \u001b[0mexecute_async_script\u001b[0m\u001b[1;33m(\u001b[0m\u001b[0mself\u001b[0m\u001b[1;33m,\u001b[0m \u001b[0mscript\u001b[0m\u001b[1;33m:\u001b[0m \u001b[0mstr\u001b[0m\u001b[1;33m,\u001b[0m \u001b[1;33m*\u001b[0m\u001b[0margs\u001b[0m\u001b[1;33m)\u001b[0m\u001b[1;33m:\u001b[0m\u001b[1;33m\u001b[0m\u001b[1;33m\u001b[0m\u001b[0m\n",
      "\u001b[1;32mc:\\Users\\benoi\\anaconda3\\lib\\site-packages\\selenium\\webdriver\\remote\\webdriver.py\u001b[0m in \u001b[0;36mexecute\u001b[1;34m(self, driver_command, params)\u001b[0m\n\u001b[0;32m    438\u001b[0m         \u001b[0mresponse\u001b[0m \u001b[1;33m=\u001b[0m \u001b[0mself\u001b[0m\u001b[1;33m.\u001b[0m\u001b[0mcommand_executor\u001b[0m\u001b[1;33m.\u001b[0m\u001b[0mexecute\u001b[0m\u001b[1;33m(\u001b[0m\u001b[0mdriver_command\u001b[0m\u001b[1;33m,\u001b[0m \u001b[0mparams\u001b[0m\u001b[1;33m)\u001b[0m\u001b[1;33m\u001b[0m\u001b[1;33m\u001b[0m\u001b[0m\n\u001b[0;32m    439\u001b[0m         \u001b[1;32mif\u001b[0m \u001b[0mresponse\u001b[0m\u001b[1;33m:\u001b[0m\u001b[1;33m\u001b[0m\u001b[1;33m\u001b[0m\u001b[0m\n\u001b[1;32m--> 440\u001b[1;33m             \u001b[0mself\u001b[0m\u001b[1;33m.\u001b[0m\u001b[0merror_handler\u001b[0m\u001b[1;33m.\u001b[0m\u001b[0mcheck_response\u001b[0m\u001b[1;33m(\u001b[0m\u001b[0mresponse\u001b[0m\u001b[1;33m)\u001b[0m\u001b[1;33m\u001b[0m\u001b[1;33m\u001b[0m\u001b[0m\n\u001b[0m\u001b[0;32m    441\u001b[0m             \u001b[0mresponse\u001b[0m\u001b[1;33m[\u001b[0m\u001b[1;34m\"value\"\u001b[0m\u001b[1;33m]\u001b[0m \u001b[1;33m=\u001b[0m \u001b[0mself\u001b[0m\u001b[1;33m.\u001b[0m\u001b[0m_unwrap_value\u001b[0m\u001b[1;33m(\u001b[0m\u001b[0mresponse\u001b[0m\u001b[1;33m.\u001b[0m\u001b[0mget\u001b[0m\u001b[1;33m(\u001b[0m\u001b[1;34m\"value\"\u001b[0m\u001b[1;33m,\u001b[0m \u001b[1;32mNone\u001b[0m\u001b[1;33m)\u001b[0m\u001b[1;33m)\u001b[0m\u001b[1;33m\u001b[0m\u001b[1;33m\u001b[0m\u001b[0m\n\u001b[0;32m    442\u001b[0m             \u001b[1;32mreturn\u001b[0m \u001b[0mresponse\u001b[0m\u001b[1;33m\u001b[0m\u001b[1;33m\u001b[0m\u001b[0m\n",
      "\u001b[1;32mc:\\Users\\benoi\\anaconda3\\lib\\site-packages\\selenium\\webdriver\\remote\\errorhandler.py\u001b[0m in \u001b[0;36mcheck_response\u001b[1;34m(self, response)\u001b[0m\n\u001b[0;32m    243\u001b[0m                 \u001b[0malert_text\u001b[0m \u001b[1;33m=\u001b[0m \u001b[0mvalue\u001b[0m\u001b[1;33m[\u001b[0m\u001b[1;34m\"alert\"\u001b[0m\u001b[1;33m]\u001b[0m\u001b[1;33m.\u001b[0m\u001b[0mget\u001b[0m\u001b[1;33m(\u001b[0m\u001b[1;34m\"text\"\u001b[0m\u001b[1;33m)\u001b[0m\u001b[1;33m\u001b[0m\u001b[1;33m\u001b[0m\u001b[0m\n\u001b[0;32m    244\u001b[0m             \u001b[1;32mraise\u001b[0m \u001b[0mexception_class\u001b[0m\u001b[1;33m(\u001b[0m\u001b[0mmessage\u001b[0m\u001b[1;33m,\u001b[0m \u001b[0mscreen\u001b[0m\u001b[1;33m,\u001b[0m \u001b[0mstacktrace\u001b[0m\u001b[1;33m,\u001b[0m \u001b[0malert_text\u001b[0m\u001b[1;33m)\u001b[0m  \u001b[1;31m# type: ignore[call-arg]  # mypy is not smart enough here\u001b[0m\u001b[1;33m\u001b[0m\u001b[1;33m\u001b[0m\u001b[0m\n\u001b[1;32m--> 245\u001b[1;33m         \u001b[1;32mraise\u001b[0m \u001b[0mexception_class\u001b[0m\u001b[1;33m(\u001b[0m\u001b[0mmessage\u001b[0m\u001b[1;33m,\u001b[0m \u001b[0mscreen\u001b[0m\u001b[1;33m,\u001b[0m \u001b[0mstacktrace\u001b[0m\u001b[1;33m)\u001b[0m\u001b[1;33m\u001b[0m\u001b[1;33m\u001b[0m\u001b[0m\n\u001b[0m",
      "\u001b[1;31mNoSuchWindowException\u001b[0m: Message: no such window: target window already closed\nfrom unknown error: web view not found\n  (Session info: chrome=110.0.5481.178)\nStacktrace:\nBacktrace:\n\t(No symbol) [0x00B737D3]\n\t(No symbol) [0x00B08B81]\n\t(No symbol) [0x00A0B36D]\n\t(No symbol) [0x009EE5DA]\n\t(No symbol) [0x00A5F0CB]\n\t(No symbol) [0x00A70A56]\n\t(No symbol) [0x00A5B216]\n\t(No symbol) [0x00A30D97]\n\t(No symbol) [0x00A3253D]\n\tGetHandleVerifier [0x00DEABF2+2510930]\n\tGetHandleVerifier [0x00E18EC1+2700065]\n\tGetHandleVerifier [0x00E1C86C+2714828]\n\tGetHandleVerifier [0x00C23480+645344]\n\t(No symbol) [0x00B10FD2]\n\t(No symbol) [0x00B16C68]\n\t(No symbol) [0x00B16D4B]\n\t(No symbol) [0x00B20D6B]\n\tBaseThreadInitThunk [0x75727D69+25]\n\tRtlInitializeExceptionChain [0x7710BB9B+107]\n\tRtlClearBits [0x7710BB1F+191]\n"
     ]
    }
   ],
   "source": [
    "driver = webdriver.Chrome()\n",
    "\n",
    "jss = '''const getCircularReplacer = () => {\n",
    "  const seen = new WeakSet();\n",
    "  return (key, value) => {\n",
    "    if (typeof value === \"object\" && value !== null) {\n",
    "      if (seen.has(value)) {\n",
    "        return;\n",
    "      }\n",
    "      seen.add(value);\n",
    "    }\n",
    "    return value;\n",
    "  };\n",
    "};\n",
    "\n",
    "return JSON.stringify(selectedPlanes(), getCircularReplacer());\n",
    "'''\n",
    "\n",
    "#Declare data storage\n",
    "data = {}\n",
    "\n",
    "delta = endDate - startDate\n",
    "for i in range(delta.days + 1):\n",
    "    #Get webpage\n",
    "    driver.get(\"https://globe.adsbexchange.com/?icao={}&lat={}&lon={}&zoom={}&showTrace={}\".format(targetIcao, lat, lon, zoom, startDate + timedelta(days=i)))\n",
    "\n",
    "    #Give enough time for javascript execution + information return\n",
    "    c = 0\n",
    "    while (c < 5):\n",
    "      sleep(1)\n",
    "      js_data = json.loads(driver.execute_script(jss))\n",
    "      c += 10 if has_trace(js_data) else 1\n",
    "\n",
    "    if(has_trace(js_data)):\n",
    "\n",
    "        for l in js_data[0]['fullTrace']['trace']:\n",
    "            t = get_java_time(l[0])\n",
    "            data[str(t)] = build_dict(l)\n",
    "    \n",
    "driver.close()"
   ]
  },
  {
   "attachments": {},
   "cell_type": "markdown",
   "metadata": {},
   "source": [
    "<h2>Save data</h2>\n",
    "\n",
    "Data saved in json file"
   ]
  },
  {
   "cell_type": "code",
   "execution_count": null,
   "metadata": {},
   "outputs": [],
   "source": [
    "json_data = json.dumps(data, indent=4)\n",
    " \n",
    "# Writing to sample.json\n",
    "with open(targetIcao + \"_\" + save_file, \"w\") as target_file:\n",
    "    target_file.write(json_data)"
   ]
  },
  {
   "attachments": {},
   "cell_type": "markdown",
   "metadata": {},
   "source": [
    "<h2>Load data</h2>"
   ]
  },
  {
   "cell_type": "code",
   "execution_count": 6,
   "metadata": {},
   "outputs": [],
   "source": [
    "#Parameters\n",
    "load_location = \"./a835af_tracking_data_2020-01-19_2023-02-26.json\""
   ]
  },
  {
   "cell_type": "code",
   "execution_count": 9,
   "metadata": {},
   "outputs": [],
   "source": [
    "with open(load_location, 'r') as f:\n",
    "    json_data = json.load(f)"
   ]
  },
  {
   "attachments": {},
   "cell_type": "markdown",
   "metadata": {},
   "source": [
    "<h2>Clean Data</h2>\n",
    "\n",
    "1. Get succeding locations where plane stopped"
   ]
  },
  {
   "cell_type": "code",
   "execution_count": 60,
   "metadata": {},
   "outputs": [],
   "source": [
    "#Dependencies\n",
    "from geopy.geocoders import Nominatim\n",
    "from geopy.extra.rate_limiter import RateLimiter\n",
    "from math import sin, cos, acos, radians"
   ]
  },
  {
   "cell_type": "code",
   "execution_count": 58,
   "metadata": {},
   "outputs": [],
   "source": [
    "def getDist(p1, p2):\n",
    "    if p1 == None:\n",
    "        return 6371\n",
    "    l1, l2 = radians(p1[0]), radians(p2[0])\n",
    "    return acos(sin(l1) * sin(l2) + cos(l1) * cos(l2) * cos(radians(p2[1]) - radians(p1[1]))) * 6371"
   ]
  },
  {
   "cell_type": "code",
   "execution_count": 89,
   "metadata": {},
   "outputs": [
    {
     "name": "stdout",
     "output_type": "stream",
     "text": [
      "Isolating locations\n",
      "[■■■■■■■■■■■■■■■■■■■■■■■■■■■■■■■■■■■■■■■■] 100%\n",
      "\n",
      "Getting associated addresses - 658 instances to check\n",
      "[■■■■■■■■■■■■■■■■■■■■■■■■■■■■■■■■■■■■■■■■] 100%\n"
     ]
    }
   ],
   "source": [
    "#1. Get locations of plane\n",
    "destinations_list = []\n",
    "\n",
    "# Initialize Nominatim API\n",
    "geolocator = Nominatim(user_agent=\"geoapiExercises\")\n",
    "# reverse_f = RateLimiter(geolocator.reverse)\n",
    "\n",
    "# Initialize progress bar\n",
    "n = len(json_data)\n",
    "c = 0\n",
    "l_c = -1\n",
    "\n",
    "toolbar_width = 40\n",
    "\n",
    "#Run through data\n",
    "print(\"Isolating locations\")\n",
    "\n",
    "last_loc = None\n",
    "\n",
    "for date in json_data:\n",
    "    entry = json_data[date]\n",
    "    \n",
    "    if (entry[\"baro_alt\"] == \"ground\"):\n",
    "        location = (entry[\"lat\"] , entry[\"lon\"])\n",
    "\n",
    "        if getDist(last_loc, location) > 2: #location != last_loc:\n",
    "            destinations_list.append([date, location])\n",
    "            last_loc = location\n",
    "    \n",
    "    if ((c * 100) % n < 100):\n",
    "        a = (c * toolbar_width) // n\n",
    "        print(\"[{}{}] {}%\".format('■'*a, ' '*(toolbar_width - a), (c * 100) // n), end='\\r', file = sys.stdout, flush=True)\n",
    "\n",
    "    c += 1\n",
    "\n",
    "a = (c * toolbar_width) // n\n",
    "print(\"[{}{}] {}%\".format('■'*a, ' '*(toolbar_width - a), (c * 100) // n), end='\\n', file = sys.stdout, flush=True)\n",
    "\n",
    "print(\"\\nGetting associated addresses - {} instances to check\".format(len(destinations_list)))\n",
    "n = len(destinations_list)\n",
    "c = 0\n",
    "\n",
    "hold = []\n",
    "last_loc = None\n",
    "\n",
    "for point in destinations_list:\n",
    "    location = geolocator.reverse( point[1] )\n",
    "    \n",
    "    if(location != None):\n",
    "            location = location.raw['address']\n",
    "            road = location.get('road', '')\n",
    "            city = location.get('city', '')\n",
    "            if (len(city) < 1):\n",
    "                city = location.get('town', '')\n",
    "                if (len(city) < 1):\n",
    "                    city = location.get('village', '')\n",
    "            state = location.get('state', '')\n",
    "            country = location.get('country', '')\n",
    "            postcode = location.get('postcode', '')\n",
    "\n",
    "            \n",
    "            if(len(country) > 0):\n",
    "                location_str = \"{}, {}, {}, {}, {}\".format(road, city, state, country, postcode)\n",
    "\n",
    "                if location_str != last_loc:\n",
    "                    hold.append([point[0], location_str])\n",
    "                    last_loc = location_str\n",
    "            else:\n",
    "                print(location)\n",
    "    \n",
    "    if ((c * 100) % n < 100):\n",
    "        a = (c * toolbar_width) // n\n",
    "        print(\"[{}{}] {}%\".format('■'*a, ' '*(toolbar_width - a), (c * 100) // n), end='\\r', file = sys.stdout, flush=True)\n",
    "\n",
    "    c += 1\n",
    "\n",
    "a = (c * toolbar_width) // n\n",
    "print(\"[{}{}] {}%\".format('■'*a, ' '*(toolbar_width - a), (c * 100) // n), end='\\n', file = sys.stdout, flush=True)\n",
    "\n",
    "destinations_list = hold"
   ]
  },
  {
   "cell_type": "code",
   "execution_count": 90,
   "metadata": {},
   "outputs": [
    {
     "name": "stdout",
     "output_type": "stream",
     "text": [
      "Saved to landing_locations_a835af_tracking_data_2020-01-19_2023-02-26.csv\n"
     ]
    }
   ],
   "source": [
    "#Save landing locations to csv file\n",
    "ext = load_location.split(\"/\")[1].split(\".\")[0]\n",
    "save_path = \"landing_locations_{}.csv\".format(ext)\n",
    "\n",
    "with open(save_path, \"w\") as f:\n",
    "    f.writelines([\"{}, {}\\n\".format(v[0], v[1]) for v in destinations_list])\n",
    "\n",
    "print(\"Saved to {}\".format(save_path))"
   ]
  },
  {
   "cell_type": "code",
   "execution_count": 10,
   "metadata": {},
   "outputs": [],
   "source": [
    "#Load landing data\n",
    "load_path = \"landing_locations_a835af_tracking_data_2020-01-19_2023-02-26.csv\"\n",
    "\n",
    "destinations_list = []\n",
    "with open(load_path, \"r\") as f:\n",
    "    ls = f.readlines()\n",
    "    for l in ls:\n",
    "        l = l.split(\"\\n\")[0]\n",
    "        l = l.split(\",\")\n",
    "        destinations_list.append([l[0], \"{}, {}, {}, {}, {}\".format(l[1], l[2], l[3], l[4], l[5])])"
   ]
  },
  {
   "attachments": {},
   "cell_type": "markdown",
   "metadata": {},
   "source": [
    "<h2>Display data</h2>\n",
    "\n",
    "1. Display trace of plane"
   ]
  },
  {
   "cell_type": "code",
   "execution_count": 11,
   "metadata": {},
   "outputs": [],
   "source": [
    "import plotly.express as px\n",
    "import plotly.graph_objects as go"
   ]
  },
  {
   "cell_type": "code",
   "execution_count": 16,
   "metadata": {},
   "outputs": [
    {
     "ename": "NameError",
     "evalue": "name 'data' is not defined",
     "output_type": "error",
     "traceback": [
      "\u001b[1;31m---------------------------------------------------------------------------\u001b[0m",
      "\u001b[1;31mNameError\u001b[0m                                 Traceback (most recent call last)",
      "\u001b[1;32m<ipython-input-16-3214632fc094>\u001b[0m in \u001b[0;36m<module>\u001b[1;34m\u001b[0m\n\u001b[0;32m     26\u001b[0m     )))\n\u001b[0;32m     27\u001b[0m \u001b[1;33m\u001b[0m\u001b[0m\n\u001b[1;32m---> 28\u001b[1;33m \u001b[1;32mfor\u001b[0m \u001b[0mi\u001b[0m \u001b[1;32min\u001b[0m \u001b[0mrange\u001b[0m\u001b[1;33m(\u001b[0m\u001b[0mlen\u001b[0m\u001b[1;33m(\u001b[0m\u001b[0mdata\u001b[0m\u001b[1;33m[\u001b[0m\u001b[1;34m'lon'\u001b[0m\u001b[1;33m]\u001b[0m\u001b[1;33m)\u001b[0m \u001b[1;33m-\u001b[0m \u001b[1;36m1\u001b[0m\u001b[1;33m)\u001b[0m\u001b[1;33m:\u001b[0m\u001b[1;33m\u001b[0m\u001b[1;33m\u001b[0m\u001b[0m\n\u001b[0m\u001b[0;32m     29\u001b[0m     fig.add_trace(\n\u001b[0;32m     30\u001b[0m         go.Scattergeo(\n",
      "\u001b[1;31mNameError\u001b[0m: name 'data' is not defined"
     ]
    }
   ],
   "source": [
    "#Display trace on screen\n",
    "data_trace = {'lat':[], 'lon':[], 'timestamp':[], 'label':[]}\n",
    "\n",
    "for location in destinations_list:\n",
    "    entry = json_data[location[0]]\n",
    "    data_trace['lat'].append(entry[\"lat\"])\n",
    "    data_trace['lon'].append(entry[\"lon\"])\n",
    "    data_trace['timestamp'].append(location[0])\n",
    "    data_trace['label'].append(location[1])\n",
    "\n",
    "fig = go.Figure()\n",
    "fig.add_trace(go.Scattergeo(\n",
    "    locationmode = 'USA-states',\n",
    "    lon = data_trace['lon'],\n",
    "    lat = data_trace['lat'],\n",
    "    hoverinfo = 'text',\n",
    "    text = data_trace['label'],\n",
    "    mode = 'markers',\n",
    "    marker = dict(\n",
    "        size = 2,\n",
    "        color = 'rgb(255, 0, 0)',\n",
    "        line = dict(\n",
    "            width = 3,\n",
    "            color = 'rgba(68, 68, 68, 0)'\n",
    "        )\n",
    "    )))\n",
    "\n",
    "for i in range(len(data['lon']) - 1):\n",
    "    fig.add_trace(\n",
    "        go.Scattergeo(\n",
    "            locationmode = 'USA-states',\n",
    "            lon = [data_trace['lon'][i], data_trace['lon'][i + 1]],\n",
    "            lat = [data_trace['lat'][i], data_trace['lat'][i + 1]],\n",
    "            mode = 'lines',\n",
    "            line = dict(width = 1,color = 'red'),\n",
    "            opacity = 1#float(df_flight_paths['cnt'][i]) / float(df_flight_paths['cnt'].max()),\n",
    "        )\n",
    "    )\n",
    "\n",
    "fig.update_layout(\n",
    "    showlegend = False,\n",
    "    geo = dict(\n",
    "        # scope = 'north america',\n",
    "        projection_type = 'equirectangular',\n",
    "\n",
    "        showland = True,\n",
    "        landcolor = 'rgb(243, 243, 243)',\n",
    "        countrycolor = 'rgb(204, 204, 204)',\n",
    "\n",
    "        showlakes = True,\n",
    "        lakecolor = 'rgb(255, 255, 255)'\n",
    "    ),\n",
    ")\n",
    "\n",
    "fig.show()"
   ]
  },
  {
   "attachments": {},
   "cell_type": "markdown",
   "metadata": {},
   "source": [
    "2. Display unique location where plane stoped"
   ]
  },
  {
   "cell_type": "code",
   "execution_count": 12,
   "metadata": {},
   "outputs": [],
   "source": [
    "#Get unique locations\n",
    "unique_locs = {}\n",
    "\n",
    "for data_point in destinations_list:\n",
    "    point_str = data_point[1]\n",
    "\n",
    "    if not point_str in unique_locs:\n",
    "        entry = json_data[data_point[0]]\n",
    "        unique_locs[point_str] = [1, [entry[\"lat\"], entry[\"lon\"]]]\n",
    "    else:\n",
    "        unique_locs[point_str][0] += 1"
   ]
  },
  {
   "cell_type": "code",
   "execution_count": 10,
   "metadata": {},
   "outputs": [
    {
     "name": "stdout",
     "output_type": "stream",
     "text": [
      "{' Center Lane,  Titusville,  Florida,  United States,  32780': [14, [28.511867, -80.796692]], ' Sophia Avenue,  Los Angeles,  California,  United States,  91406': [20, [34.212077, -118.490567]], ' SpaceX Starlink Entrance,  Hawthorne,  California,  United States,  90250': [6, [33.922545, -118.341479]], ' Boring Test Tunnel,  Hawthorne,  California,  United States,  90250': [121, [33.922737, -118.337509]], ' Northside Parkway,  Los Angeles,  California,  United States,  90045': [4, [33.95074, -118.415451]], ' ,  Los Angeles,  California,  United States,  90245': [1, [33.93352, -118.40837]], ' International Road,  Los Angeles,  California,  United States,  90045': [2, [33.938381, -118.383052]], ' Airport Boulevard,  San Jose,  California,  United States,  95110': [62, [37.363311, -121.930593]], ' Perimeter Drive,  ,  Florida,  United States,  33142': [1, [25.804673, -80.291946]], ' Presidential Boulevard,  Austin,  Texas,  United States,  78719': [106, [30.18988, -97.657538]], ' Mathew Street,  Santa Clara,  California,  United States,  95053': [19, [37.36576, -121.933267]], ' Sherman Way,  Los Angeles,  California,  United States,  91406': [5, [34.199101, -118.489379]], ' Arminta Street,  Los Angeles,  California,  United States,  91406': [4, [34.217308, -118.492285]], ' Douglas Street,  Los Angeles,  California,  United States,  90009': [5, [33.948085, -118.422233]], ' Imperial Highway,  Los Angeles,  California,  United States,  90245': [8, [33.933391, -118.409691]], ' ,  Los Angeles,  California,  United States,  90009': [1, [33.935615, -118.387827]], ' Aviation Avenue,  San Jose,  California,  United States,  95110': [1, [37.357051, -121.928256]], ' West 119th Drive,  Broomfield,  Colorado,  United States,  80020': [6, [39.907997, -105.114515]], ' ,  Orlando,  Florida,  United States,  32827': [1, [28.43082, -81.282467]], ' Casa Verde Road,  Orlando,  Florida,  United States,  32827': [1, [28.43906, -81.301878]], ' ,  Orlando,  Florida,  United States,  ': [1, [28.437824, -81.324748]], ' FreeZone Street,  Orlando,  Florida,  United States,  32862': [1, [28.415657, -81.329027]], ' East Willow Street,  Long Beach,  California,  United States,  90815': [6, [33.818583, -118.152308]], ' Radar Road,  ,  Virginia,  United States,  20102': [1, [38.956541, -77.459487]], ' Edge Light Road,  ,  Virginia,  United States,  24965': [2, [38.942687, -77.436178]], ' Vortac Road,  Dulles Town Center,  Virginia,  United States,  20166': [1, [38.93407, -77.457404]], ' Sepulveda Boulevard,  Los Angeles,  California,  United States,  90009': [21, [33.935801, -118.397941]], ' Mack Street,  Hayward,  California,  United States,  94545': [1, [37.658817, -122.12274]], ' Wayne Newton Boulevard,  Las Vegas,  Nevada,  United States,  89119': [2, [36.085602, -115.164571]], ' Tico Road,  Titusville,  Florida,  United States,  32927': [6, [28.51609, -80.7952]], ' Tower Access Road,  Melbourne,  Florida,  United States,  32901': [1, [28.102375, -80.640124]], ' Dane Street,  North Hertfordshire,  England,  United Kingdom,  LU2 8PE': [1, [51.876183, -0.359654]], ' Departures,  South San Francisco,  California,  United States,  94128': [3, [37.622269, -122.377951]], ' ,  Waco,  Texas,  United States,  ': [1, [31.61878, -97.225447]], ' North Access Road,  South San Francisco,  California,  United States,  94128': [3, [37.621563, -122.376291]], ' Westchester Parkway,  Los Angeles,  California,  United States,  90293': [5, [33.948406, -118.419385]], ' California Street,  Los Angeles,  California,  United States,  90245': [5, [33.93401, -118.40368]], ' Airport Road,  Waco,  Texas,  United States,  76708': [4, [31.611576, -97.227576]], ' Clear Lake City Boulevard,  Houston,  Texas,  United States,  77062': [1, [29.604384, -95.164086]], ' World Way,  Los Angeles,  California,  United States,  90009': [2, [33.938828, -118.399673]], ' Sterile/Lounges Level 5,  Los Angeles,  California,  United States,  90245': [2, [33.948704, -118.416376]], ' Old Bawtry Road,  Doncaster,  England,  United Kingdom,  DN9 3BT': [1, [53.480386, -1.001392]], ' A 8,  Stuttgart,  Baden-Württemberg,  Deutschland,  70599': [1, [48.692219, 9.230347]], ' Melli-Beese-Ring,  ,  Brandenburg,  Deutschland,  12529': [7, [52.372513, 13.505402]], ' Waggumer Straße,  Braunschweig,  Niedersachsen,  Deutschland,  38110': [1, [52.319036, 10.552917]], ' South 170th Street,  SeaTac,  Washington,  United States,  98148': [1, [47.453792, -122.317957]], ' Perimeter Road South,  Seattle,  Washington,  United States,  98108': [3, [47.528973, -122.301573]], ' ,  ,  Idaho,  United States,  ': [1, [47.776178, -116.819687]], ' Aviation Drive,  Pflugerville,  Texas,  United States,  78660': [3, [30.398472, -97.566765]], ' South Vermillion Avenue,  Brownsville,  Texas,  United States,  ': [67, [25.900875, -97.418285]], ' Concourse Level 4,  Los Angeles,  California,  United States,  90245': [2, [33.948418, -118.419235]], ' Burleson Road,  Austin,  Texas,  United States,  78719': [1, [30.180336, -97.673304]], ' Lanui Circle,  ,  Hawaii,  United States,  96784': [2, [20.897713, -156.431334]], ' Cargo Lane,  Victorville,  California,  United States,  92301': [1, [34.585625, -117.384095]], ' Alert Road,  Victorville,  California,  United States,  92394': [1, [34.597553, -117.367001]], ' South Rock Boulevard,  Reno,  Nevada,  United States,  89510': [2, [39.500816, -119.766814]], ' Bridle Path,  Melbourne,  Florida,  United States,  32935': [2, [28.102061, -80.645465]], ' Northwest 36th Street,  ,  Florida,  United States,  33142': [1, [25.803545, -80.286479]], ' Northwest 57th Avenue,  ,  Florida,  United States,  33142': [2, [25.801403, -80.28442]], ' Fred Wehran Drive,  Teterboro,  New Jersey,  United States,  07608': [1, [40.854919, -74.05826]], ' Provost Way,  Luton,  England,  United Kingdom,  LU2 9LY': [2, [51.875056, -0.366058]], ' Harry Burrell Boulevard,  Las Cruces,  New Mexico,  United States,  ': [1, [32.289093, -106.918066]], ' Hog Island Road,  Philadelphia,  Pennsylvania,  United States,  19153': [1, [39.879295, -75.231927]], ' Golden Knights Boulevard,  Titusville,  Florida,  United States,  32927': [1, [28.5137, -80.795355]], ' Zaunstraße 1,  Rotberg,  Brandenburg,  Deutschland,  12529': [1, [52.352921, 13.499908]], ' South Minnesota Avenue,  Brownsville,  Texas,  United States,  ': [3, [25.902958, -97.431176]], ' Malcolm Avenue,  Teterboro,  New Jersey,  United States,  07604': [6, [40.85024, -74.061709]], ' West Apron Road,  Orlando,  Florida,  United States,  32862': [1, [28.432326, -81.326806]], ' Zaunstraße 1,  Selchow,  Brandenburg,  Deutschland,  12529': [1, [52.350552, 13.48999]], ' Betriebsstraße 25,  Selchow,  Brandenburg,  Deutschland,  12529': [1, [52.353322, 13.487601]], ' Yolanda Del Rio Road,  ,  Texas,  United States,  ': [1, [25.930084, -97.351332]], ' ,  Brownsville,  Texas,  United States,  ': [1, [25.939478, -97.374962]], ' Medford Avenue,  Brownsville,  Texas,  United States,  78521': [1, [25.938302, -97.399665]], ' ,  ,  Texas,  United States,  ': [1, [25.985843, -97.368773]], ' Island Avenue,  Philadelphia,  Pennsylvania,  United States,  19153': [1, [39.881442, -75.233017]], ' Grant McConachie Way,  Richmond,  British Columbia,  Canada,  V7B 1W0': [1, [49.187782, -123.187585]], ' A Avenue,  Houston,  Texas,  United States,  77061': [2, [29.640301, -95.272883]], ' Via Dalmazia,  Ciampino,  Lazio,  Italia,  00043': [1, [41.795689, 12.59737]], ' Partenze,  Venezia,  Veneto,  Italia,  ': [1, [45.505976, 12.344647]], ' Rust Avenue,  Westhampton,  New York,  United States,  11978': [1, [40.843106, -72.63074]], ' Ljosheimvegen,  Sola,  ,  Norge,  4050': [1, [58.879005, 5.637749]], ' Post Road,  ,  Rhode Island,  United States,  02886': [2, [41.721394, -71.428627]], ' Herb Kelleher Way,  Dallas,  Texas,  United States,  75235': [1, [32.847713, -96.845702]], ' North Access Road,  ,  California,  United States,  94128': [2, [37.620202, -122.373037]], ' South Airport Boulevard,  South San Francisco,  California,  United States,  94128': [1, [37.62992, -122.392517]], ' Earhart Road,  Oakland,  California,  United States,  94614': [11, [37.728296, -122.215452]], ' Air Cargo Way,  Oakland,  California,  United States,  94614': [11, [37.711361, -122.224025]], ' Vassar Street,  Reno,  Nevada,  United States,  89510': [1, [39.496582, -119.769262]], ' ,  Oakland,  California,  United States,  ': [2, [37.709326, -122.22602]], ' Ron Cowan Parkway,  Oakland,  California,  United States,  94614': [3, [37.721139, -122.20872]], ' Edward White Way,  Oakland,  California,  United States,  94614': [6, [37.703568, -122.213989]], ' Loyola Drive,  Kenner,  Louisiana,  United States,  70062': [1, [29.993514, -90.268739]], ' Edge Light Road,  Dulles Town Center,  Virginia,  United States,  20166': [2, [38.935352, -77.436283]], ' Saarinen Circle,  Dulles Town Center,  Virginia,  United States,  20166': [1, [38.953308, -77.438552]], ' Takeoff Road,  ,  Virginia,  United States,  20196': [1, [38.935174, -77.439896]], ' خور العديد,  الدوحة,  ,  قطر,  ': [1, [25.268822, 51.601527]], ' Airport Way,  Luton,  England,  United Kingdom,  LU2 9NE': [1, [51.873729, -0.373688]], ' John Glenn Drive,  Oakland,  California,  United States,  94614': [3, [37.708591, -122.221133]], ' Airport Boulevard,  ,  California,  United States,  95837': [1, [38.694466, -121.58029]], ' Flightline Circle,  ,  California,  United States,  95837': [1, [38.683754, -121.598859]], ' ,  ,  California,  United States,  ': [1, [38.702076, -121.59856]], ' Hughes Way,  Los Angeles,  California,  United States,  90245': [1, [33.935115, -118.392906]], ' Reservoir Road,  ,  California,  United States,  95837': [2, [38.690998, -121.601367]], ' Vanowen Street,  Los Angeles,  California,  United States,  91515': [1, [34.19775, -118.357296]], ' South Loop Road,  Alameda,  California,  United States,  94502': [1, [37.720371, -122.239872]], ' Tank Farm Road,  ,  Virginia,  United States,  20196': [1, [38.955036, -77.440716]], ' Golf Road,  ,  Virginia,  United States,  20102': [1, [38.940202, -77.453812]], ' California Road,  Brownsville,  Texas,  United States,  78521': [1, [25.899582, -97.419099]], ' South Bullard Avenue,  Goodyear,  Arizona,  United States,  85395': [1, [33.421923, -112.376656]]}\n"
     ]
    }
   ],
   "source": [
    "print(unique_locs)"
   ]
  },
  {
   "cell_type": "code",
   "execution_count": 23,
   "metadata": {},
   "outputs": [
    {
     "data": {
      "application/vnd.plotly.v1+json": {
       "config": {
        "plotlyServerURL": "https://plot.ly"
       },
       "data": [
        {
         "geo": "geo",
         "hovertemplate": "data=%{marker.size}<br>lat=%{lat}<br>lon=%{lon}<extra></extra>",
         "lat": [
          28.511867,
          34.212077,
          33.922545,
          33.922737,
          33.95074,
          33.93352,
          33.938381,
          37.363311,
          25.804673,
          30.18988,
          37.36576,
          34.199101,
          34.217308,
          33.948085,
          33.933391,
          33.935615,
          37.357051,
          39.907997,
          28.43082,
          28.43906,
          28.437824,
          28.415657,
          33.818583,
          38.956541,
          38.942687,
          38.93407,
          33.935801,
          37.658817,
          36.085602,
          28.51609,
          28.102375,
          51.876183,
          37.622269,
          31.61878,
          37.621563,
          33.948406,
          33.93401,
          31.611576,
          29.604384,
          33.938828,
          33.948704,
          53.480386,
          48.692219,
          52.372513,
          52.319036,
          47.453792,
          47.528973,
          47.776178,
          30.398472,
          25.900875,
          33.948418,
          30.180336,
          20.897713,
          34.585625,
          34.597553,
          39.500816,
          28.102061,
          25.803545,
          25.801403,
          40.854919,
          51.875056,
          32.289093,
          39.879295,
          28.5137,
          52.352921,
          25.902958,
          40.85024,
          28.432326,
          52.350552,
          52.353322,
          25.930084,
          25.939478,
          25.938302,
          25.985843,
          39.881442,
          49.187782,
          29.640301,
          41.795689,
          45.505976,
          40.843106,
          58.879005,
          41.721394,
          32.847713,
          37.620202,
          37.62992,
          37.728296,
          37.711361,
          39.496582,
          37.709326,
          37.721139,
          37.703568,
          29.993514,
          38.935352,
          38.953308,
          38.935174,
          25.268822,
          51.873729,
          37.708591,
          38.694466,
          38.683754,
          38.702076,
          33.935115,
          38.690998,
          34.19775,
          37.720371,
          38.955036,
          38.940202,
          25.899582,
          33.421923
         ],
         "legendgroup": "",
         "lon": [
          -80.796692,
          -118.490567,
          -118.341479,
          -118.337509,
          -118.415451,
          -118.40837,
          -118.383052,
          -121.930593,
          -80.291946,
          -97.657538,
          -121.933267,
          -118.489379,
          -118.492285,
          -118.422233,
          -118.409691,
          -118.387827,
          -121.928256,
          -105.114515,
          -81.282467,
          -81.301878,
          -81.324748,
          -81.329027,
          -118.152308,
          -77.459487,
          -77.436178,
          -77.457404,
          -118.397941,
          -122.12274,
          -115.164571,
          -80.7952,
          -80.640124,
          -0.359654,
          -122.377951,
          -97.225447,
          -122.376291,
          -118.419385,
          -118.40368,
          -97.227576,
          -95.164086,
          -118.399673,
          -118.416376,
          -1.001392,
          9.230347,
          13.505402,
          10.552917,
          -122.317957,
          -122.301573,
          -116.819687,
          -97.566765,
          -97.418285,
          -118.419235,
          -97.673304,
          -156.431334,
          -117.384095,
          -117.367001,
          -119.766814,
          -80.645465,
          -80.286479,
          -80.28442,
          -74.05826,
          -0.366058,
          -106.918066,
          -75.231927,
          -80.795355,
          13.499908,
          -97.431176,
          -74.061709,
          -81.326806,
          13.48999,
          13.487601,
          -97.351332,
          -97.374962,
          -97.399665,
          -97.368773,
          -75.233017,
          -123.187585,
          -95.272883,
          12.59737,
          12.344647,
          -72.63074,
          5.637749,
          -71.428627,
          -96.845702,
          -122.373037,
          -122.392517,
          -122.215452,
          -122.224025,
          -119.769262,
          -122.22602,
          -122.20872,
          -122.213989,
          -90.268739,
          -77.436283,
          -77.438552,
          -77.439896,
          51.601527,
          -0.373688,
          -122.221133,
          -121.58029,
          -121.598859,
          -121.59856,
          -118.392906,
          -121.601367,
          -118.357296,
          -122.239872,
          -77.440716,
          -77.453812,
          -97.419099,
          -112.376656
         ],
         "marker": {
          "color": "#636efa",
          "size": [
           14,
           20,
           6,
           121,
           4,
           1,
           2,
           62,
           1,
           106,
           19,
           5,
           4,
           5,
           8,
           1,
           1,
           6,
           1,
           1,
           1,
           1,
           6,
           1,
           2,
           1,
           21,
           1,
           2,
           6,
           1,
           1,
           3,
           1,
           3,
           5,
           5,
           4,
           1,
           2,
           2,
           1,
           1,
           7,
           1,
           1,
           3,
           1,
           3,
           67,
           2,
           1,
           2,
           1,
           1,
           2,
           2,
           1,
           2,
           1,
           2,
           1,
           1,
           1,
           1,
           3,
           6,
           1,
           1,
           1,
           1,
           1,
           1,
           1,
           1,
           1,
           2,
           1,
           1,
           1,
           1,
           2,
           1,
           2,
           1,
           11,
           11,
           1,
           2,
           3,
           6,
           1,
           2,
           1,
           1,
           1,
           1,
           3,
           1,
           1,
           1,
           1,
           2,
           1,
           1,
           1,
           1,
           1,
           1
          ],
          "sizemode": "area",
          "sizeref": 0.3025,
          "symbol": "circle"
         },
         "mode": "markers",
         "name": "",
         "showlegend": false,
         "type": "scattergeo"
        }
       ],
       "layout": {
        "geo": {
         "center": {},
         "domain": {
          "x": [
           0,
           1
          ],
          "y": [
           0,
           1
          ]
         },
         "projection": {
          "type": "natural earth"
         }
        },
        "legend": {
         "itemsizing": "constant",
         "tracegroupgap": 0
        },
        "margin": {
         "b": 0,
         "l": 0,
         "r": 0,
         "t": 0
        },
        "template": {
         "data": {
          "bar": [
           {
            "error_x": {
             "color": "#2a3f5f"
            },
            "error_y": {
             "color": "#2a3f5f"
            },
            "marker": {
             "line": {
              "color": "#E5ECF6",
              "width": 0.5
             },
             "pattern": {
              "fillmode": "overlay",
              "size": 10,
              "solidity": 0.2
             }
            },
            "type": "bar"
           }
          ],
          "barpolar": [
           {
            "marker": {
             "line": {
              "color": "#E5ECF6",
              "width": 0.5
             },
             "pattern": {
              "fillmode": "overlay",
              "size": 10,
              "solidity": 0.2
             }
            },
            "type": "barpolar"
           }
          ],
          "carpet": [
           {
            "aaxis": {
             "endlinecolor": "#2a3f5f",
             "gridcolor": "white",
             "linecolor": "white",
             "minorgridcolor": "white",
             "startlinecolor": "#2a3f5f"
            },
            "baxis": {
             "endlinecolor": "#2a3f5f",
             "gridcolor": "white",
             "linecolor": "white",
             "minorgridcolor": "white",
             "startlinecolor": "#2a3f5f"
            },
            "type": "carpet"
           }
          ],
          "choropleth": [
           {
            "colorbar": {
             "outlinewidth": 0,
             "ticks": ""
            },
            "type": "choropleth"
           }
          ],
          "contour": [
           {
            "colorbar": {
             "outlinewidth": 0,
             "ticks": ""
            },
            "colorscale": [
             [
              0,
              "#0d0887"
             ],
             [
              0.1111111111111111,
              "#46039f"
             ],
             [
              0.2222222222222222,
              "#7201a8"
             ],
             [
              0.3333333333333333,
              "#9c179e"
             ],
             [
              0.4444444444444444,
              "#bd3786"
             ],
             [
              0.5555555555555556,
              "#d8576b"
             ],
             [
              0.6666666666666666,
              "#ed7953"
             ],
             [
              0.7777777777777778,
              "#fb9f3a"
             ],
             [
              0.8888888888888888,
              "#fdca26"
             ],
             [
              1,
              "#f0f921"
             ]
            ],
            "type": "contour"
           }
          ],
          "contourcarpet": [
           {
            "colorbar": {
             "outlinewidth": 0,
             "ticks": ""
            },
            "type": "contourcarpet"
           }
          ],
          "heatmap": [
           {
            "colorbar": {
             "outlinewidth": 0,
             "ticks": ""
            },
            "colorscale": [
             [
              0,
              "#0d0887"
             ],
             [
              0.1111111111111111,
              "#46039f"
             ],
             [
              0.2222222222222222,
              "#7201a8"
             ],
             [
              0.3333333333333333,
              "#9c179e"
             ],
             [
              0.4444444444444444,
              "#bd3786"
             ],
             [
              0.5555555555555556,
              "#d8576b"
             ],
             [
              0.6666666666666666,
              "#ed7953"
             ],
             [
              0.7777777777777778,
              "#fb9f3a"
             ],
             [
              0.8888888888888888,
              "#fdca26"
             ],
             [
              1,
              "#f0f921"
             ]
            ],
            "type": "heatmap"
           }
          ],
          "heatmapgl": [
           {
            "colorbar": {
             "outlinewidth": 0,
             "ticks": ""
            },
            "colorscale": [
             [
              0,
              "#0d0887"
             ],
             [
              0.1111111111111111,
              "#46039f"
             ],
             [
              0.2222222222222222,
              "#7201a8"
             ],
             [
              0.3333333333333333,
              "#9c179e"
             ],
             [
              0.4444444444444444,
              "#bd3786"
             ],
             [
              0.5555555555555556,
              "#d8576b"
             ],
             [
              0.6666666666666666,
              "#ed7953"
             ],
             [
              0.7777777777777778,
              "#fb9f3a"
             ],
             [
              0.8888888888888888,
              "#fdca26"
             ],
             [
              1,
              "#f0f921"
             ]
            ],
            "type": "heatmapgl"
           }
          ],
          "histogram": [
           {
            "marker": {
             "pattern": {
              "fillmode": "overlay",
              "size": 10,
              "solidity": 0.2
             }
            },
            "type": "histogram"
           }
          ],
          "histogram2d": [
           {
            "colorbar": {
             "outlinewidth": 0,
             "ticks": ""
            },
            "colorscale": [
             [
              0,
              "#0d0887"
             ],
             [
              0.1111111111111111,
              "#46039f"
             ],
             [
              0.2222222222222222,
              "#7201a8"
             ],
             [
              0.3333333333333333,
              "#9c179e"
             ],
             [
              0.4444444444444444,
              "#bd3786"
             ],
             [
              0.5555555555555556,
              "#d8576b"
             ],
             [
              0.6666666666666666,
              "#ed7953"
             ],
             [
              0.7777777777777778,
              "#fb9f3a"
             ],
             [
              0.8888888888888888,
              "#fdca26"
             ],
             [
              1,
              "#f0f921"
             ]
            ],
            "type": "histogram2d"
           }
          ],
          "histogram2dcontour": [
           {
            "colorbar": {
             "outlinewidth": 0,
             "ticks": ""
            },
            "colorscale": [
             [
              0,
              "#0d0887"
             ],
             [
              0.1111111111111111,
              "#46039f"
             ],
             [
              0.2222222222222222,
              "#7201a8"
             ],
             [
              0.3333333333333333,
              "#9c179e"
             ],
             [
              0.4444444444444444,
              "#bd3786"
             ],
             [
              0.5555555555555556,
              "#d8576b"
             ],
             [
              0.6666666666666666,
              "#ed7953"
             ],
             [
              0.7777777777777778,
              "#fb9f3a"
             ],
             [
              0.8888888888888888,
              "#fdca26"
             ],
             [
              1,
              "#f0f921"
             ]
            ],
            "type": "histogram2dcontour"
           }
          ],
          "mesh3d": [
           {
            "colorbar": {
             "outlinewidth": 0,
             "ticks": ""
            },
            "type": "mesh3d"
           }
          ],
          "parcoords": [
           {
            "line": {
             "colorbar": {
              "outlinewidth": 0,
              "ticks": ""
             }
            },
            "type": "parcoords"
           }
          ],
          "pie": [
           {
            "automargin": true,
            "type": "pie"
           }
          ],
          "scatter": [
           {
            "fillpattern": {
             "fillmode": "overlay",
             "size": 10,
             "solidity": 0.2
            },
            "type": "scatter"
           }
          ],
          "scatter3d": [
           {
            "line": {
             "colorbar": {
              "outlinewidth": 0,
              "ticks": ""
             }
            },
            "marker": {
             "colorbar": {
              "outlinewidth": 0,
              "ticks": ""
             }
            },
            "type": "scatter3d"
           }
          ],
          "scattercarpet": [
           {
            "marker": {
             "colorbar": {
              "outlinewidth": 0,
              "ticks": ""
             }
            },
            "type": "scattercarpet"
           }
          ],
          "scattergeo": [
           {
            "marker": {
             "colorbar": {
              "outlinewidth": 0,
              "ticks": ""
             }
            },
            "type": "scattergeo"
           }
          ],
          "scattergl": [
           {
            "marker": {
             "colorbar": {
              "outlinewidth": 0,
              "ticks": ""
             }
            },
            "type": "scattergl"
           }
          ],
          "scattermapbox": [
           {
            "marker": {
             "colorbar": {
              "outlinewidth": 0,
              "ticks": ""
             }
            },
            "type": "scattermapbox"
           }
          ],
          "scatterpolar": [
           {
            "marker": {
             "colorbar": {
              "outlinewidth": 0,
              "ticks": ""
             }
            },
            "type": "scatterpolar"
           }
          ],
          "scatterpolargl": [
           {
            "marker": {
             "colorbar": {
              "outlinewidth": 0,
              "ticks": ""
             }
            },
            "type": "scatterpolargl"
           }
          ],
          "scatterternary": [
           {
            "marker": {
             "colorbar": {
              "outlinewidth": 0,
              "ticks": ""
             }
            },
            "type": "scatterternary"
           }
          ],
          "surface": [
           {
            "colorbar": {
             "outlinewidth": 0,
             "ticks": ""
            },
            "colorscale": [
             [
              0,
              "#0d0887"
             ],
             [
              0.1111111111111111,
              "#46039f"
             ],
             [
              0.2222222222222222,
              "#7201a8"
             ],
             [
              0.3333333333333333,
              "#9c179e"
             ],
             [
              0.4444444444444444,
              "#bd3786"
             ],
             [
              0.5555555555555556,
              "#d8576b"
             ],
             [
              0.6666666666666666,
              "#ed7953"
             ],
             [
              0.7777777777777778,
              "#fb9f3a"
             ],
             [
              0.8888888888888888,
              "#fdca26"
             ],
             [
              1,
              "#f0f921"
             ]
            ],
            "type": "surface"
           }
          ],
          "table": [
           {
            "cells": {
             "fill": {
              "color": "#EBF0F8"
             },
             "line": {
              "color": "white"
             }
            },
            "header": {
             "fill": {
              "color": "#C8D4E3"
             },
             "line": {
              "color": "white"
             }
            },
            "type": "table"
           }
          ]
         },
         "layout": {
          "annotationdefaults": {
           "arrowcolor": "#2a3f5f",
           "arrowhead": 0,
           "arrowwidth": 1
          },
          "autotypenumbers": "strict",
          "coloraxis": {
           "colorbar": {
            "outlinewidth": 0,
            "ticks": ""
           }
          },
          "colorscale": {
           "diverging": [
            [
             0,
             "#8e0152"
            ],
            [
             0.1,
             "#c51b7d"
            ],
            [
             0.2,
             "#de77ae"
            ],
            [
             0.3,
             "#f1b6da"
            ],
            [
             0.4,
             "#fde0ef"
            ],
            [
             0.5,
             "#f7f7f7"
            ],
            [
             0.6,
             "#e6f5d0"
            ],
            [
             0.7,
             "#b8e186"
            ],
            [
             0.8,
             "#7fbc41"
            ],
            [
             0.9,
             "#4d9221"
            ],
            [
             1,
             "#276419"
            ]
           ],
           "sequential": [
            [
             0,
             "#0d0887"
            ],
            [
             0.1111111111111111,
             "#46039f"
            ],
            [
             0.2222222222222222,
             "#7201a8"
            ],
            [
             0.3333333333333333,
             "#9c179e"
            ],
            [
             0.4444444444444444,
             "#bd3786"
            ],
            [
             0.5555555555555556,
             "#d8576b"
            ],
            [
             0.6666666666666666,
             "#ed7953"
            ],
            [
             0.7777777777777778,
             "#fb9f3a"
            ],
            [
             0.8888888888888888,
             "#fdca26"
            ],
            [
             1,
             "#f0f921"
            ]
           ],
           "sequentialminus": [
            [
             0,
             "#0d0887"
            ],
            [
             0.1111111111111111,
             "#46039f"
            ],
            [
             0.2222222222222222,
             "#7201a8"
            ],
            [
             0.3333333333333333,
             "#9c179e"
            ],
            [
             0.4444444444444444,
             "#bd3786"
            ],
            [
             0.5555555555555556,
             "#d8576b"
            ],
            [
             0.6666666666666666,
             "#ed7953"
            ],
            [
             0.7777777777777778,
             "#fb9f3a"
            ],
            [
             0.8888888888888888,
             "#fdca26"
            ],
            [
             1,
             "#f0f921"
            ]
           ]
          },
          "colorway": [
           "#636efa",
           "#EF553B",
           "#00cc96",
           "#ab63fa",
           "#FFA15A",
           "#19d3f3",
           "#FF6692",
           "#B6E880",
           "#FF97FF",
           "#FECB52"
          ],
          "font": {
           "color": "#2a3f5f"
          },
          "geo": {
           "bgcolor": "white",
           "lakecolor": "white",
           "landcolor": "#E5ECF6",
           "showlakes": true,
           "showland": true,
           "subunitcolor": "white"
          },
          "hoverlabel": {
           "align": "left"
          },
          "hovermode": "closest",
          "mapbox": {
           "style": "light"
          },
          "paper_bgcolor": "white",
          "plot_bgcolor": "#E5ECF6",
          "polar": {
           "angularaxis": {
            "gridcolor": "white",
            "linecolor": "white",
            "ticks": ""
           },
           "bgcolor": "#E5ECF6",
           "radialaxis": {
            "gridcolor": "white",
            "linecolor": "white",
            "ticks": ""
           }
          },
          "scene": {
           "xaxis": {
            "backgroundcolor": "#E5ECF6",
            "gridcolor": "white",
            "gridwidth": 2,
            "linecolor": "white",
            "showbackground": true,
            "ticks": "",
            "zerolinecolor": "white"
           },
           "yaxis": {
            "backgroundcolor": "#E5ECF6",
            "gridcolor": "white",
            "gridwidth": 2,
            "linecolor": "white",
            "showbackground": true,
            "ticks": "",
            "zerolinecolor": "white"
           },
           "zaxis": {
            "backgroundcolor": "#E5ECF6",
            "gridcolor": "white",
            "gridwidth": 2,
            "linecolor": "white",
            "showbackground": true,
            "ticks": "",
            "zerolinecolor": "white"
           }
          },
          "shapedefaults": {
           "line": {
            "color": "#2a3f5f"
           }
          },
          "ternary": {
           "aaxis": {
            "gridcolor": "white",
            "linecolor": "white",
            "ticks": ""
           },
           "baxis": {
            "gridcolor": "white",
            "linecolor": "white",
            "ticks": ""
           },
           "bgcolor": "#E5ECF6",
           "caxis": {
            "gridcolor": "white",
            "linecolor": "white",
            "ticks": ""
           }
          },
          "title": {
           "x": 0.05
          },
          "xaxis": {
           "automargin": true,
           "gridcolor": "white",
           "linecolor": "white",
           "ticks": "",
           "title": {
            "standoff": 15
           },
           "zerolinecolor": "white",
           "zerolinewidth": 2
          },
          "yaxis": {
           "automargin": true,
           "gridcolor": "white",
           "linecolor": "white",
           "ticks": "",
           "title": {
            "standoff": 15
           },
           "zerolinecolor": "white",
           "zerolinewidth": 2
          }
         }
        }
       }
      }
     },
     "metadata": {},
     "output_type": "display_data"
    }
   ],
   "source": [
    "#Display locations on screen\n",
    "data_unique = {'lat':[], 'lon':[], 'data':[], 'label':[]}\n",
    "\n",
    "for location in unique_locs:\n",
    "    entry = unique_locs[location]\n",
    "    data_unique['lat'].append(entry[1][0])\n",
    "    data_unique['lon'].append(entry[1][1])\n",
    "    data_unique['data'].append(entry[0])\n",
    "    data_unique['label'].append(location)\n",
    "\n",
    "df = pd.DataFrame(data_unique)\n",
    "\n",
    "# create the scatter plot on a map\n",
    "fig = px.scatter_geo(df, lat='lat', lon='lon', size = 'data', projection=\"natural earth\")\n",
    "\n",
    "fig.update_layout(margin=dict(l=0, r=0, b=0, t=0))\n",
    "\n",
    "# display the plot\n",
    "fig.show()\n"
   ]
  },
  {
   "attachments": {},
   "cell_type": "markdown",
   "metadata": {},
   "source": [
    "3. Combine it all"
   ]
  },
  {
   "cell_type": "code",
   "execution_count": 21,
   "metadata": {},
   "outputs": [
    {
     "data": {
      "application/vnd.plotly.v1+json": {
       "config": {
        "plotlyServerURL": "https://plot.ly"
       },
       "data": [
        {
         "hoverinfo": "text",
         "lat": [
          28.511867,
          34.212077,
          33.922545,
          33.922737,
          33.95074,
          33.93352,
          33.938381,
          37.363311,
          25.804673,
          30.18988,
          37.36576,
          34.199101,
          34.217308,
          33.948085,
          33.933391,
          33.935615,
          37.357051,
          39.907997,
          28.43082,
          28.43906,
          28.437824,
          28.415657,
          33.818583,
          38.956541,
          38.942687,
          38.93407,
          33.935801,
          37.658817,
          36.085602,
          28.51609,
          28.102375,
          51.876183,
          37.622269,
          31.61878,
          37.621563,
          33.948406,
          33.93401,
          31.611576,
          29.604384,
          33.938828,
          33.948704,
          53.480386,
          48.692219,
          52.372513,
          52.319036,
          47.453792,
          47.528973,
          47.776178,
          30.398472,
          25.900875,
          33.948418,
          30.180336,
          20.897713,
          34.585625,
          34.597553,
          39.500816,
          28.102061,
          25.803545,
          25.801403,
          40.854919,
          51.875056,
          32.289093,
          39.879295,
          28.5137,
          52.352921,
          25.902958,
          40.85024,
          28.432326,
          52.350552,
          52.353322,
          25.930084,
          25.939478,
          25.938302,
          25.985843,
          39.881442,
          49.187782,
          29.640301,
          41.795689,
          45.505976,
          40.843106,
          58.879005,
          41.721394,
          32.847713,
          37.620202,
          37.62992,
          37.728296,
          37.711361,
          39.496582,
          37.709326,
          37.721139,
          37.703568,
          29.993514,
          38.935352,
          38.953308,
          38.935174,
          25.268822,
          51.873729,
          37.708591,
          38.694466,
          38.683754,
          38.702076,
          33.935115,
          38.690998,
          34.19775,
          37.720371,
          38.955036,
          38.940202,
          25.899582,
          33.421923
         ],
         "locationmode": "USA-states",
         "lon": [
          -80.796692,
          -118.490567,
          -118.341479,
          -118.337509,
          -118.415451,
          -118.40837,
          -118.383052,
          -121.930593,
          -80.291946,
          -97.657538,
          -121.933267,
          -118.489379,
          -118.492285,
          -118.422233,
          -118.409691,
          -118.387827,
          -121.928256,
          -105.114515,
          -81.282467,
          -81.301878,
          -81.324748,
          -81.329027,
          -118.152308,
          -77.459487,
          -77.436178,
          -77.457404,
          -118.397941,
          -122.12274,
          -115.164571,
          -80.7952,
          -80.640124,
          -0.359654,
          -122.377951,
          -97.225447,
          -122.376291,
          -118.419385,
          -118.40368,
          -97.227576,
          -95.164086,
          -118.399673,
          -118.416376,
          -1.001392,
          9.230347,
          13.505402,
          10.552917,
          -122.317957,
          -122.301573,
          -116.819687,
          -97.566765,
          -97.418285,
          -118.419235,
          -97.673304,
          -156.431334,
          -117.384095,
          -117.367001,
          -119.766814,
          -80.645465,
          -80.286479,
          -80.28442,
          -74.05826,
          -0.366058,
          -106.918066,
          -75.231927,
          -80.795355,
          13.499908,
          -97.431176,
          -74.061709,
          -81.326806,
          13.48999,
          13.487601,
          -97.351332,
          -97.374962,
          -97.399665,
          -97.368773,
          -75.233017,
          -123.187585,
          -95.272883,
          12.59737,
          12.344647,
          -72.63074,
          5.637749,
          -71.428627,
          -96.845702,
          -122.373037,
          -122.392517,
          -122.215452,
          -122.224025,
          -119.769262,
          -122.22602,
          -122.20872,
          -122.213989,
          -90.268739,
          -77.436283,
          -77.438552,
          -77.439896,
          51.601527,
          -0.373688,
          -122.221133,
          -121.58029,
          -121.598859,
          -121.59856,
          -118.392906,
          -121.601367,
          -118.357296,
          -122.239872,
          -77.440716,
          -77.453812,
          -97.419099,
          -112.376656
         ],
         "marker": {
          "color": "rgb(0, 0, 255)",
          "line": {
           "color": "rgba(68, 68, 68, 0)",
           "width": 3
          },
          "size": [
           4.745833333333334,
           5.320833333333333,
           3.9791666666666665,
           15,
           3.7875,
           3.5,
           3.595833333333333,
           9.345833333333333,
           3.5,
           13.5625,
           5.225,
           3.8833333333333333,
           3.7875,
           3.8833333333333333,
           4.170833333333333,
           3.5,
           3.5,
           3.9791666666666665,
           3.5,
           3.5,
           3.5,
           3.5,
           3.9791666666666665,
           3.5,
           3.595833333333333,
           3.5,
           5.416666666666666,
           3.5,
           3.595833333333333,
           3.9791666666666665,
           3.5,
           3.5,
           3.6916666666666664,
           3.5,
           3.6916666666666664,
           3.8833333333333333,
           3.8833333333333333,
           3.7875,
           3.5,
           3.595833333333333,
           3.595833333333333,
           3.5,
           3.5,
           4.075,
           3.5,
           3.5,
           3.6916666666666664,
           3.5,
           3.6916666666666664,
           9.825,
           3.595833333333333,
           3.5,
           3.595833333333333,
           3.5,
           3.5,
           3.595833333333333,
           3.595833333333333,
           3.5,
           3.595833333333333,
           3.5,
           3.595833333333333,
           3.5,
           3.5,
           3.5,
           3.5,
           3.6916666666666664,
           3.9791666666666665,
           3.5,
           3.5,
           3.5,
           3.5,
           3.5,
           3.5,
           3.5,
           3.5,
           3.5,
           3.595833333333333,
           3.5,
           3.5,
           3.5,
           3.5,
           3.595833333333333,
           3.5,
           3.595833333333333,
           3.5,
           4.458333333333333,
           4.458333333333333,
           3.5,
           3.595833333333333,
           3.6916666666666664,
           3.9791666666666665,
           3.5,
           3.595833333333333,
           3.5,
           3.5,
           3.5,
           3.5,
           3.6916666666666664,
           3.5,
           3.5,
           3.5,
           3.5,
           3.595833333333333,
           3.5,
           3.5,
           3.5,
           3.5,
           3.5,
           3.5
          ]
         },
         "mode": "markers",
         "text": [
          " Center Lane,  Titusville,  Florida,  United States,  32780",
          " Sophia Avenue,  Los Angeles,  California,  United States,  91406",
          " SpaceX Starlink Entrance,  Hawthorne,  California,  United States,  90250",
          " Boring Test Tunnel,  Hawthorne,  California,  United States,  90250",
          " Northside Parkway,  Los Angeles,  California,  United States,  90045",
          " ,  Los Angeles,  California,  United States,  90245",
          " International Road,  Los Angeles,  California,  United States,  90045",
          " Airport Boulevard,  San Jose,  California,  United States,  95110",
          " Perimeter Drive,  ,  Florida,  United States,  33142",
          " Presidential Boulevard,  Austin,  Texas,  United States,  78719",
          " Mathew Street,  Santa Clara,  California,  United States,  95053",
          " Sherman Way,  Los Angeles,  California,  United States,  91406",
          " Arminta Street,  Los Angeles,  California,  United States,  91406",
          " Douglas Street,  Los Angeles,  California,  United States,  90009",
          " Imperial Highway,  Los Angeles,  California,  United States,  90245",
          " ,  Los Angeles,  California,  United States,  90009",
          " Aviation Avenue,  San Jose,  California,  United States,  95110",
          " West 119th Drive,  Broomfield,  Colorado,  United States,  80020",
          " ,  Orlando,  Florida,  United States,  32827",
          " Casa Verde Road,  Orlando,  Florida,  United States,  32827",
          " ,  Orlando,  Florida,  United States,  ",
          " FreeZone Street,  Orlando,  Florida,  United States,  32862",
          " East Willow Street,  Long Beach,  California,  United States,  90815",
          " Radar Road,  ,  Virginia,  United States,  20102",
          " Edge Light Road,  ,  Virginia,  United States,  24965",
          " Vortac Road,  Dulles Town Center,  Virginia,  United States,  20166",
          " Sepulveda Boulevard,  Los Angeles,  California,  United States,  90009",
          " Mack Street,  Hayward,  California,  United States,  94545",
          " Wayne Newton Boulevard,  Las Vegas,  Nevada,  United States,  89119",
          " Tico Road,  Titusville,  Florida,  United States,  32927",
          " Tower Access Road,  Melbourne,  Florida,  United States,  32901",
          " Dane Street,  North Hertfordshire,  England,  United Kingdom,  LU2 8PE",
          " Departures,  South San Francisco,  California,  United States,  94128",
          " ,  Waco,  Texas,  United States,  ",
          " North Access Road,  South San Francisco,  California,  United States,  94128",
          " Westchester Parkway,  Los Angeles,  California,  United States,  90293",
          " California Street,  Los Angeles,  California,  United States,  90245",
          " Airport Road,  Waco,  Texas,  United States,  76708",
          " Clear Lake City Boulevard,  Houston,  Texas,  United States,  77062",
          " World Way,  Los Angeles,  California,  United States,  90009",
          " Sterile/Lounges Level 5,  Los Angeles,  California,  United States,  90245",
          " Old Bawtry Road,  Doncaster,  England,  United Kingdom,  DN9 3BT",
          " A 8,  Stuttgart,  Baden-Württemberg,  Deutschland,  70599",
          " Melli-Beese-Ring,  ,  Brandenburg,  Deutschland,  12529",
          " Waggumer Straße,  Braunschweig,  Niedersachsen,  Deutschland,  38110",
          " South 170th Street,  SeaTac,  Washington,  United States,  98148",
          " Perimeter Road South,  Seattle,  Washington,  United States,  98108",
          " ,  ,  Idaho,  United States,  ",
          " Aviation Drive,  Pflugerville,  Texas,  United States,  78660",
          " South Vermillion Avenue,  Brownsville,  Texas,  United States,  ",
          " Concourse Level 4,  Los Angeles,  California,  United States,  90245",
          " Burleson Road,  Austin,  Texas,  United States,  78719",
          " Lanui Circle,  ,  Hawaii,  United States,  96784",
          " Cargo Lane,  Victorville,  California,  United States,  92301",
          " Alert Road,  Victorville,  California,  United States,  92394",
          " South Rock Boulevard,  Reno,  Nevada,  United States,  89510",
          " Bridle Path,  Melbourne,  Florida,  United States,  32935",
          " Northwest 36th Street,  ,  Florida,  United States,  33142",
          " Northwest 57th Avenue,  ,  Florida,  United States,  33142",
          " Fred Wehran Drive,  Teterboro,  New Jersey,  United States,  07608",
          " Provost Way,  Luton,  England,  United Kingdom,  LU2 9LY",
          " Harry Burrell Boulevard,  Las Cruces,  New Mexico,  United States,  ",
          " Hog Island Road,  Philadelphia,  Pennsylvania,  United States,  19153",
          " Golden Knights Boulevard,  Titusville,  Florida,  United States,  32927",
          " Zaunstraße 1,  Rotberg,  Brandenburg,  Deutschland,  12529",
          " South Minnesota Avenue,  Brownsville,  Texas,  United States,  ",
          " Malcolm Avenue,  Teterboro,  New Jersey,  United States,  07604",
          " West Apron Road,  Orlando,  Florida,  United States,  32862",
          " Zaunstraße 1,  Selchow,  Brandenburg,  Deutschland,  12529",
          " Betriebsstraße 25,  Selchow,  Brandenburg,  Deutschland,  12529",
          " Yolanda Del Rio Road,  ,  Texas,  United States,  ",
          " ,  Brownsville,  Texas,  United States,  ",
          " Medford Avenue,  Brownsville,  Texas,  United States,  78521",
          " ,  ,  Texas,  United States,  ",
          " Island Avenue,  Philadelphia,  Pennsylvania,  United States,  19153",
          " Grant McConachie Way,  Richmond,  British Columbia,  Canada,  V7B 1W0",
          " A Avenue,  Houston,  Texas,  United States,  77061",
          " Via Dalmazia,  Ciampino,  Lazio,  Italia,  00043",
          " Partenze,  Venezia,  Veneto,  Italia,  ",
          " Rust Avenue,  Westhampton,  New York,  United States,  11978",
          " Ljosheimvegen,  Sola,  ,  Norge,  4050",
          " Post Road,  ,  Rhode Island,  United States,  02886",
          " Herb Kelleher Way,  Dallas,  Texas,  United States,  75235",
          " North Access Road,  ,  California,  United States,  94128",
          " South Airport Boulevard,  South San Francisco,  California,  United States,  94128",
          " Earhart Road,  Oakland,  California,  United States,  94614",
          " Air Cargo Way,  Oakland,  California,  United States,  94614",
          " Vassar Street,  Reno,  Nevada,  United States,  89510",
          " ,  Oakland,  California,  United States,  ",
          " Ron Cowan Parkway,  Oakland,  California,  United States,  94614",
          " Edward White Way,  Oakland,  California,  United States,  94614",
          " Loyola Drive,  Kenner,  Louisiana,  United States,  70062",
          " Edge Light Road,  Dulles Town Center,  Virginia,  United States,  20166",
          " Saarinen Circle,  Dulles Town Center,  Virginia,  United States,  20166",
          " Takeoff Road,  ,  Virginia,  United States,  20196",
          " خور العديد,  الدوحة,  ,  قطر,  ",
          " Airport Way,  Luton,  England,  United Kingdom,  LU2 9NE",
          " John Glenn Drive,  Oakland,  California,  United States,  94614",
          " Airport Boulevard,  ,  California,  United States,  95837",
          " Flightline Circle,  ,  California,  United States,  95837",
          " ,  ,  California,  United States,  ",
          " Hughes Way,  Los Angeles,  California,  United States,  90245",
          " Reservoir Road,  ,  California,  United States,  95837",
          " Vanowen Street,  Los Angeles,  California,  United States,  91515",
          " South Loop Road,  Alameda,  California,  United States,  94502",
          " Tank Farm Road,  ,  Virginia,  United States,  20196",
          " Golf Road,  ,  Virginia,  United States,  20102",
          " California Road,  Brownsville,  Texas,  United States,  78521",
          " South Bullard Avenue,  Goodyear,  Arizona,  United States,  85395"
         ],
         "type": "scattergeo"
        },
        {
         "hoverinfo": "skip",
         "lat": [
          28.511867,
          34.212077
         ],
         "line": {
          "color": "red",
          "width": 1
         },
         "lon": [
          -80.796692,
          -118.490567
         ],
         "mode": "lines",
         "opacity": 1,
         "type": "scattergeo"
        },
        {
         "hoverinfo": "skip",
         "lat": [
          34.212077,
          33.922545
         ],
         "line": {
          "color": "red",
          "width": 1
         },
         "lon": [
          -118.490567,
          -118.341479
         ],
         "mode": "lines",
         "opacity": 1,
         "type": "scattergeo"
        },
        {
         "hoverinfo": "skip",
         "lat": [
          33.922545,
          28.512198
         ],
         "line": {
          "color": "red",
          "width": 1
         },
         "lon": [
          -118.341479,
          -80.797011
         ],
         "mode": "lines",
         "opacity": 1,
         "type": "scattergeo"
        },
        {
         "hoverinfo": "skip",
         "lat": [
          28.512198,
          33.922737
         ],
         "line": {
          "color": "red",
          "width": 1
         },
         "lon": [
          -80.797011,
          -118.337509
         ],
         "mode": "lines",
         "opacity": 1,
         "type": "scattergeo"
        },
        {
         "hoverinfo": "skip",
         "lat": [
          33.922737,
          28.512428
         ],
         "line": {
          "color": "red",
          "width": 1
         },
         "lon": [
          -118.337509,
          -80.796824
         ],
         "mode": "lines",
         "opacity": 1,
         "type": "scattergeo"
        },
        {
         "hoverinfo": "skip",
         "lat": [
          28.512428,
          34.208632
         ],
         "line": {
          "color": "red",
          "width": 1
         },
         "lon": [
          -80.796824,
          -118.490281
         ],
         "mode": "lines",
         "opacity": 1,
         "type": "scattergeo"
        },
        {
         "hoverinfo": "skip",
         "lat": [
          34.208632,
          33.95074
         ],
         "line": {
          "color": "red",
          "width": 1
         },
         "lon": [
          -118.490281,
          -118.415451
         ],
         "mode": "lines",
         "opacity": 1,
         "type": "scattergeo"
        },
        {
         "hoverinfo": "skip",
         "lat": [
          33.95074,
          33.93352
         ],
         "line": {
          "color": "red",
          "width": 1
         },
         "lon": [
          -118.415451,
          -118.40837
         ],
         "mode": "lines",
         "opacity": 1,
         "type": "scattergeo"
        },
        {
         "hoverinfo": "skip",
         "lat": [
          33.93352,
          33.938381
         ],
         "line": {
          "color": "red",
          "width": 1
         },
         "lon": [
          -118.40837,
          -118.383052
         ],
         "mode": "lines",
         "opacity": 1,
         "type": "scattergeo"
        },
        {
         "hoverinfo": "skip",
         "lat": [
          33.938381,
          33.922714
         ],
         "line": {
          "color": "red",
          "width": 1
         },
         "lon": [
          -118.383052,
          -118.339457
         ],
         "mode": "lines",
         "opacity": 1,
         "type": "scattergeo"
        },
        {
         "hoverinfo": "skip",
         "lat": [
          33.922714,
          34.203117
         ],
         "line": {
          "color": "red",
          "width": 1
         },
         "lon": [
          -118.339457,
          -118.489748
         ],
         "mode": "lines",
         "opacity": 1,
         "type": "scattergeo"
        },
        {
         "hoverinfo": "skip",
         "lat": [
          34.203117,
          37.363311
         ],
         "line": {
          "color": "red",
          "width": 1
         },
         "lon": [
          -118.489748,
          -121.930593
         ],
         "mode": "lines",
         "opacity": 1,
         "type": "scattergeo"
        },
        {
         "hoverinfo": "skip",
         "lat": [
          37.363311,
          33.92272
         ],
         "line": {
          "color": "red",
          "width": 1
         },
         "lon": [
          -121.930593,
          -118.337702
         ],
         "mode": "lines",
         "opacity": 1,
         "type": "scattergeo"
        },
        {
         "hoverinfo": "skip",
         "lat": [
          33.92272,
          37.364822
         ],
         "line": {
          "color": "red",
          "width": 1
         },
         "lon": [
          -118.337702,
          -121.93223
         ],
         "mode": "lines",
         "opacity": 1,
         "type": "scattergeo"
        },
        {
         "hoverinfo": "skip",
         "lat": [
          37.364822,
          34.20671
         ],
         "line": {
          "color": "red",
          "width": 1
         },
         "lon": [
          -121.93223,
          -118.490099
         ],
         "mode": "lines",
         "opacity": 1,
         "type": "scattergeo"
        },
        {
         "hoverinfo": "skip",
         "lat": [
          34.20671,
          33.922771
         ],
         "line": {
          "color": "red",
          "width": 1
         },
         "lon": [
          -118.490099,
          -118.336823
         ],
         "mode": "lines",
         "opacity": 1,
         "type": "scattergeo"
        },
        {
         "hoverinfo": "skip",
         "lat": [
          33.922771,
          34.208911
         ],
         "line": {
          "color": "red",
          "width": 1
         },
         "lon": [
          -118.336823,
          -118.490309
         ],
         "mode": "lines",
         "opacity": 1,
         "type": "scattergeo"
        },
        {
         "hoverinfo": "skip",
         "lat": [
          34.208911,
          33.922782
         ],
         "line": {
          "color": "red",
          "width": 1
         },
         "lon": [
          -118.490309,
          -118.336668
         ],
         "mode": "lines",
         "opacity": 1,
         "type": "scattergeo"
        },
        {
         "hoverinfo": "skip",
         "lat": [
          33.922782,
          25.804673
         ],
         "line": {
          "color": "red",
          "width": 1
         },
         "lon": [
          -118.336668,
          -80.291946
         ],
         "mode": "lines",
         "opacity": 1,
         "type": "scattergeo"
        },
        {
         "hoverinfo": "skip",
         "lat": [
          25.804673,
          33.922657
         ],
         "line": {
          "color": "red",
          "width": 1
         },
         "lon": [
          -80.291946,
          -118.339345
         ],
         "mode": "lines",
         "opacity": 1,
         "type": "scattergeo"
        },
        {
         "hoverinfo": "skip",
         "lat": [
          33.922657,
          30.18988
         ],
         "line": {
          "color": "red",
          "width": 1
         },
         "lon": [
          -118.339345,
          -97.657538
         ],
         "mode": "lines",
         "opacity": 1,
         "type": "scattergeo"
        },
        {
         "hoverinfo": "skip",
         "lat": [
          30.18988,
          33.922522
         ],
         "line": {
          "color": "red",
          "width": 1
         },
         "lon": [
          -97.657538,
          -118.341808
         ],
         "mode": "lines",
         "opacity": 1,
         "type": "scattergeo"
        },
        {
         "hoverinfo": "skip",
         "lat": [
          33.922522,
          37.36576
         ],
         "line": {
          "color": "red",
          "width": 1
         },
         "lon": [
          -118.341808,
          -121.933267
         ],
         "mode": "lines",
         "opacity": 1,
         "type": "scattergeo"
        },
        {
         "hoverinfo": "skip",
         "lat": [
          37.36576,
          33.922714
         ],
         "line": {
          "color": "red",
          "width": 1
         },
         "lon": [
          -121.933267,
          -118.338294
         ],
         "mode": "lines",
         "opacity": 1,
         "type": "scattergeo"
        },
        {
         "hoverinfo": "skip",
         "lat": [
          33.922714,
          37.362663
         ],
         "line": {
          "color": "red",
          "width": 1
         },
         "lon": [
          -118.338294,
          -121.929837
         ],
         "mode": "lines",
         "opacity": 1,
         "type": "scattergeo"
        },
        {
         "hoverinfo": "skip",
         "lat": [
          37.362663,
          34.199101
         ],
         "line": {
          "color": "red",
          "width": 1
         },
         "lon": [
          -121.929837,
          -118.489379
         ],
         "mode": "lines",
         "opacity": 1,
         "type": "scattergeo"
        },
        {
         "hoverinfo": "skip",
         "lat": [
          34.199101,
          34.217308
         ],
         "line": {
          "color": "red",
          "width": 1
         },
         "lon": [
          -118.489379,
          -118.492285
         ],
         "mode": "lines",
         "opacity": 1,
         "type": "scattergeo"
        },
        {
         "hoverinfo": "skip",
         "lat": [
          34.217308,
          33.92258
         ],
         "line": {
          "color": "red",
          "width": 1
         },
         "lon": [
          -118.492285,
          -118.340821
         ],
         "mode": "lines",
         "opacity": 1,
         "type": "scattergeo"
        },
        {
         "hoverinfo": "skip",
         "lat": [
          33.92258,
          33.948085
         ],
         "line": {
          "color": "red",
          "width": 1
         },
         "lon": [
          -118.340821,
          -118.422233
         ],
         "mode": "lines",
         "opacity": 1,
         "type": "scattergeo"
        },
        {
         "hoverinfo": "skip",
         "lat": [
          33.948085,
          33.933391
         ],
         "line": {
          "color": "red",
          "width": 1
         },
         "lon": [
          -118.422233,
          -118.409691
         ],
         "mode": "lines",
         "opacity": 1,
         "type": "scattergeo"
        },
        {
         "hoverinfo": "skip",
         "lat": [
          33.933391,
          33.935615
         ],
         "line": {
          "color": "red",
          "width": 1
         },
         "lon": [
          -118.409691,
          -118.387827
         ],
         "mode": "lines",
         "opacity": 1,
         "type": "scattergeo"
        },
        {
         "hoverinfo": "skip",
         "lat": [
          33.935615,
          37.364192
         ],
         "line": {
          "color": "red",
          "width": 1
         },
         "lon": [
          -118.387827,
          -121.931572
         ],
         "mode": "lines",
         "opacity": 1,
         "type": "scattergeo"
        },
        {
         "hoverinfo": "skip",
         "lat": [
          37.364192,
          33.922828
         ],
         "line": {
          "color": "red",
          "width": 1
         },
         "lon": [
          -121.931572,
          -118.335898
         ],
         "mode": "lines",
         "opacity": 1,
         "type": "scattergeo"
        },
        {
         "hoverinfo": "skip",
         "lat": [
          33.922828,
          37.357051
         ],
         "line": {
          "color": "red",
          "width": 1
         },
         "lon": [
          -118.335898,
          -121.928256
         ],
         "mode": "lines",
         "opacity": 1,
         "type": "scattergeo"
        },
        {
         "hoverinfo": "skip",
         "lat": [
          37.357051,
          34.202615
         ],
         "line": {
          "color": "red",
          "width": 1
         },
         "lon": [
          -121.928256,
          -118.489723
         ],
         "mode": "lines",
         "opacity": 1,
         "type": "scattergeo"
        },
        {
         "hoverinfo": "skip",
         "lat": [
          34.202615,
          33.92286
         ],
         "line": {
          "color": "red",
          "width": 1
         },
         "lon": [
          -118.489723,
          -118.335041
         ],
         "mode": "lines",
         "opacity": 1,
         "type": "scattergeo"
        },
        {
         "hoverinfo": "skip",
         "lat": [
          33.92286,
          34.204994
         ],
         "line": {
          "color": "red",
          "width": 1
         },
         "lon": [
          -118.335041,
          -118.490225
         ],
         "mode": "lines",
         "opacity": 1,
         "type": "scattergeo"
        },
        {
         "hoverinfo": "skip",
         "lat": [
          34.204994,
          39.907997
         ],
         "line": {
          "color": "red",
          "width": 1
         },
         "lon": [
          -118.490225,
          -105.114515
         ],
         "mode": "lines",
         "opacity": 1,
         "type": "scattergeo"
        },
        {
         "hoverinfo": "skip",
         "lat": [
          39.907997,
          34.20235
         ],
         "line": {
          "color": "red",
          "width": 1
         },
         "lon": [
          -105.114515,
          -118.489706
         ],
         "mode": "lines",
         "opacity": 1,
         "type": "scattergeo"
        },
        {
         "hoverinfo": "skip",
         "lat": [
          34.20235,
          33.922557
         ],
         "line": {
          "color": "red",
          "width": 1
         },
         "lon": [
          -118.489706,
          -118.341221
         ],
         "mode": "lines",
         "opacity": 1,
         "type": "scattergeo"
        },
        {
         "hoverinfo": "skip",
         "lat": [
          33.922557,
          34.199111
         ],
         "line": {
          "color": "red",
          "width": 1
         },
         "lon": [
          -118.341221,
          -118.48937
         ],
         "mode": "lines",
         "opacity": 1,
         "type": "scattergeo"
        },
        {
         "hoverinfo": "skip",
         "lat": [
          34.199111,
          34.217035
         ],
         "line": {
          "color": "red",
          "width": 1
         },
         "lon": [
          -118.48937,
          -118.492283
         ],
         "mode": "lines",
         "opacity": 1,
         "type": "scattergeo"
        },
        {
         "hoverinfo": "skip",
         "lat": [
          34.217035,
          34.199066
         ],
         "line": {
          "color": "red",
          "width": 1
         },
         "lon": [
          -118.492283,
          -118.489365
         ],
         "mode": "lines",
         "opacity": 1,
         "type": "scattergeo"
        },
        {
         "hoverinfo": "skip",
         "lat": [
          34.199066,
          34.216918
         ],
         "line": {
          "color": "red",
          "width": 1
         },
         "lon": [
          -118.489365,
          -118.492285
         ],
         "mode": "lines",
         "opacity": 1,
         "type": "scattergeo"
        },
        {
         "hoverinfo": "skip",
         "lat": [
          34.216918,
          33.922702
         ],
         "line": {
          "color": "red",
          "width": 1
         },
         "lon": [
          -118.492285,
          -118.338308
         ],
         "mode": "lines",
         "opacity": 1,
         "type": "scattergeo"
        },
        {
         "hoverinfo": "skip",
         "lat": [
          33.922702,
          34.203243
         ],
         "line": {
          "color": "red",
          "width": 1
         },
         "lon": [
          -118.338308,
          -118.489776
         ],
         "mode": "lines",
         "opacity": 1,
         "type": "scattergeo"
        },
        {
         "hoverinfo": "skip",
         "lat": [
          34.203243,
          33.922565
         ],
         "line": {
          "color": "red",
          "width": 1
         },
         "lon": [
          -118.489776,
          -118.341111
         ],
         "mode": "lines",
         "opacity": 1,
         "type": "scattergeo"
        },
        {
         "hoverinfo": "skip",
         "lat": [
          33.922565,
          34.199077
         ],
         "line": {
          "color": "red",
          "width": 1
         },
         "lon": [
          -118.341111,
          -118.48937
         ],
         "mode": "lines",
         "opacity": 1,
         "type": "scattergeo"
        },
        {
         "hoverinfo": "skip",
         "lat": [
          34.199077,
          34.216988
         ],
         "line": {
          "color": "red",
          "width": 1
         },
         "lon": [
          -118.48937,
          -118.492269
         ],
         "mode": "lines",
         "opacity": 1,
         "type": "scattergeo"
        },
        {
         "hoverinfo": "skip",
         "lat": [
          34.216988,
          33.922766
         ],
         "line": {
          "color": "red",
          "width": 1
         },
         "lon": [
          -118.492269,
          -118.336887
         ],
         "mode": "lines",
         "opacity": 1,
         "type": "scattergeo"
        },
        {
         "hoverinfo": "skip",
         "lat": [
          33.922766,
          37.364398
         ],
         "line": {
          "color": "red",
          "width": 1
         },
         "lon": [
          -118.336887,
          -121.931733
         ],
         "mode": "lines",
         "opacity": 1,
         "type": "scattergeo"
        },
        {
         "hoverinfo": "skip",
         "lat": [
          37.364398,
          33.922771
         ],
         "line": {
          "color": "red",
          "width": 1
         },
         "lon": [
          -121.931733,
          -118.337033
         ],
         "mode": "lines",
         "opacity": 1,
         "type": "scattergeo"
        },
        {
         "hoverinfo": "skip",
         "lat": [
          33.922771,
          37.363952
         ],
         "line": {
          "color": "red",
          "width": 1
         },
         "lon": [
          -118.337033,
          -121.931295
         ],
         "mode": "lines",
         "opacity": 1,
         "type": "scattergeo"
        },
        {
         "hoverinfo": "skip",
         "lat": [
          37.363952,
          28.43082
         ],
         "line": {
          "color": "red",
          "width": 1
         },
         "lon": [
          -121.931295,
          -81.282467
         ],
         "mode": "lines",
         "opacity": 1,
         "type": "scattergeo"
        },
        {
         "hoverinfo": "skip",
         "lat": [
          28.43082,
          28.43906
         ],
         "line": {
          "color": "red",
          "width": 1
         },
         "lon": [
          -81.282467,
          -81.301878
         ],
         "mode": "lines",
         "opacity": 1,
         "type": "scattergeo"
        },
        {
         "hoverinfo": "skip",
         "lat": [
          28.43906,
          28.437824
         ],
         "line": {
          "color": "red",
          "width": 1
         },
         "lon": [
          -81.301878,
          -81.324748
         ],
         "mode": "lines",
         "opacity": 1,
         "type": "scattergeo"
        },
        {
         "hoverinfo": "skip",
         "lat": [
          28.437824,
          28.415657
         ],
         "line": {
          "color": "red",
          "width": 1
         },
         "lon": [
          -81.324748,
          -81.329027
         ],
         "mode": "lines",
         "opacity": 1,
         "type": "scattergeo"
        },
        {
         "hoverinfo": "skip",
         "lat": [
          28.415657,
          33.922588
         ],
         "line": {
          "color": "red",
          "width": 1
         },
         "lon": [
          -81.329027,
          -118.34062
         ],
         "mode": "lines",
         "opacity": 1,
         "type": "scattergeo"
        },
        {
         "hoverinfo": "skip",
         "lat": [
          33.922588,
          33.818583
         ],
         "line": {
          "color": "red",
          "width": 1
         },
         "lon": [
          -118.34062,
          -118.152308
         ],
         "mode": "lines",
         "opacity": 1,
         "type": "scattergeo"
        },
        {
         "hoverinfo": "skip",
         "lat": [
          33.818583,
          37.365956
         ],
         "line": {
          "color": "red",
          "width": 1
         },
         "lon": [
          -118.152308,
          -121.933509
         ],
         "mode": "lines",
         "opacity": 1,
         "type": "scattergeo"
        },
        {
         "hoverinfo": "skip",
         "lat": [
          37.365956,
          33.922851
         ],
         "line": {
          "color": "red",
          "width": 1
         },
         "lon": [
          -121.933509,
          -118.335029
         ],
         "mode": "lines",
         "opacity": 1,
         "type": "scattergeo"
        },
        {
         "hoverinfo": "skip",
         "lat": [
          33.922851,
          37.361545
         ],
         "line": {
          "color": "red",
          "width": 1
         },
         "lon": [
          -118.335029,
          -121.928642
         ],
         "mode": "lines",
         "opacity": 1,
         "type": "scattergeo"
        },
        {
         "hoverinfo": "skip",
         "lat": [
          37.361545,
          34.205758
         ],
         "line": {
          "color": "red",
          "width": 1
         },
         "lon": [
          -121.928642,
          -118.491182
         ],
         "mode": "lines",
         "opacity": 1,
         "type": "scattergeo"
        },
        {
         "hoverinfo": "skip",
         "lat": [
          34.205758,
          33.922805
         ],
         "line": {
          "color": "red",
          "width": 1
         },
         "lon": [
          -118.491182,
          -118.33608
         ],
         "mode": "lines",
         "opacity": 1,
         "type": "scattergeo"
        },
        {
         "hoverinfo": "skip",
         "lat": [
          33.922805,
          34.201606
         ],
         "line": {
          "color": "red",
          "width": 1
         },
         "lon": [
          -118.33608,
          -118.489636
         ],
         "mode": "lines",
         "opacity": 1,
         "type": "scattergeo"
        },
        {
         "hoverinfo": "skip",
         "lat": [
          34.201606,
          38.956541
         ],
         "line": {
          "color": "red",
          "width": 1
         },
         "lon": [
          -118.489636,
          -77.459487
         ],
         "mode": "lines",
         "opacity": 1,
         "type": "scattergeo"
        },
        {
         "hoverinfo": "skip",
         "lat": [
          38.956541,
          33.950744
         ],
         "line": {
          "color": "red",
          "width": 1
         },
         "lon": [
          -77.459487,
          -118.415365
         ],
         "mode": "lines",
         "opacity": 1,
         "type": "scattergeo"
        },
        {
         "hoverinfo": "skip",
         "lat": [
          33.950744,
          33.932636
         ],
         "line": {
          "color": "red",
          "width": 1
         },
         "lon": [
          -118.415365,
          -118.417034
         ],
         "mode": "lines",
         "opacity": 1,
         "type": "scattergeo"
        },
        {
         "hoverinfo": "skip",
         "lat": [
          33.932636,
          38.942687
         ],
         "line": {
          "color": "red",
          "width": 1
         },
         "lon": [
          -118.417034,
          -77.436178
         ],
         "mode": "lines",
         "opacity": 1,
         "type": "scattergeo"
        },
        {
         "hoverinfo": "skip",
         "lat": [
          38.942687,
          38.93407
         ],
         "line": {
          "color": "red",
          "width": 1
         },
         "lon": [
          -77.436178,
          -77.457404
         ],
         "mode": "lines",
         "opacity": 1,
         "type": "scattergeo"
        },
        {
         "hoverinfo": "skip",
         "lat": [
          38.93407,
          30.187786
         ],
         "line": {
          "color": "red",
          "width": 1
         },
         "lon": [
          -77.457404,
          -97.657524
         ],
         "mode": "lines",
         "opacity": 1,
         "type": "scattergeo"
        },
        {
         "hoverinfo": "skip",
         "lat": [
          30.187786,
          34.201091
         ],
         "line": {
          "color": "red",
          "width": 1
         },
         "lon": [
          -97.657524,
          -118.48988
         ],
         "mode": "lines",
         "opacity": 1,
         "type": "scattergeo"
        },
        {
         "hoverinfo": "skip",
         "lat": [
          34.201091,
          33.935801
         ],
         "line": {
          "color": "red",
          "width": 1
         },
         "lon": [
          -118.48988,
          -118.397941
         ],
         "mode": "lines",
         "opacity": 1,
         "type": "scattergeo"
        },
        {
         "hoverinfo": "skip",
         "lat": [
          33.935801,
          34.205886
         ],
         "line": {
          "color": "red",
          "width": 1
         },
         "lon": [
          -118.397941,
          -118.491178
         ],
         "mode": "lines",
         "opacity": 1,
         "type": "scattergeo"
        },
        {
         "hoverinfo": "skip",
         "lat": [
          34.205886,
          33.935789
         ],
         "line": {
          "color": "red",
          "width": 1
         },
         "lon": [
          -118.491178,
          -118.398041
         ],
         "mode": "lines",
         "opacity": 1,
         "type": "scattergeo"
        },
        {
         "hoverinfo": "skip",
         "lat": [
          33.935789,
          33.934649
         ],
         "line": {
          "color": "red",
          "width": 1
         },
         "lon": [
          -118.398041,
          -118.420085
         ],
         "mode": "lines",
         "opacity": 1,
         "type": "scattergeo"
        },
        {
         "hoverinfo": "skip",
         "lat": [
          33.934649,
          37.363265
         ],
         "line": {
          "color": "red",
          "width": 1
         },
         "lon": [
          -118.420085,
          -121.930579
         ],
         "mode": "lines",
         "opacity": 1,
         "type": "scattergeo"
        },
        {
         "hoverinfo": "skip",
         "lat": [
          37.363265,
          34.202705
         ],
         "line": {
          "color": "red",
          "width": 1
         },
         "lon": [
          -121.930579,
          -118.490057
         ],
         "mode": "lines",
         "opacity": 1,
         "type": "scattergeo"
        },
        {
         "hoverinfo": "skip",
         "lat": [
          34.202705,
          28.512361
         ],
         "line": {
          "color": "red",
          "width": 1
         },
         "lon": [
          -118.490057,
          -80.796849
         ],
         "mode": "lines",
         "opacity": 1,
         "type": "scattergeo"
        },
        {
         "hoverinfo": "skip",
         "lat": [
          28.512361,
          33.922782
         ],
         "line": {
          "color": "red",
          "width": 1
         },
         "lon": [
          -80.796849,
          -118.336809
         ],
         "mode": "lines",
         "opacity": 1,
         "type": "scattergeo"
        },
        {
         "hoverinfo": "skip",
         "lat": [
          33.922782,
          28.512233
         ],
         "line": {
          "color": "red",
          "width": 1
         },
         "lon": [
          -118.336809,
          -80.796969
         ],
         "mode": "lines",
         "opacity": 1,
         "type": "scattergeo"
        },
        {
         "hoverinfo": "skip",
         "lat": [
          28.512233,
          34.20606
         ],
         "line": {
          "color": "red",
          "width": 1
         },
         "lon": [
          -80.796969,
          -118.490052
         ],
         "mode": "lines",
         "opacity": 1,
         "type": "scattergeo"
        },
        {
         "hoverinfo": "skip",
         "lat": [
          34.20606,
          37.35909
         ],
         "line": {
          "color": "red",
          "width": 1
         },
         "lon": [
          -118.490052,
          -121.925956
         ],
         "mode": "lines",
         "opacity": 1,
         "type": "scattergeo"
        },
        {
         "hoverinfo": "skip",
         "lat": [
          37.35909,
          34.2033
         ],
         "line": {
          "color": "red",
          "width": 1
         },
         "lon": [
          -121.925956,
          -118.48979
         ],
         "mode": "lines",
         "opacity": 1,
         "type": "scattergeo"
        },
        {
         "hoverinfo": "skip",
         "lat": [
          34.2033,
          33.935755
         ],
         "line": {
          "color": "red",
          "width": 1
         },
         "lon": [
          -118.48979,
          -118.398413
         ],
         "mode": "lines",
         "opacity": 1,
         "type": "scattergeo"
        },
        {
         "hoverinfo": "skip",
         "lat": [
          33.935755,
          28.512245
         ],
         "line": {
          "color": "red",
          "width": 1
         },
         "lon": [
          -118.398413,
          -80.796692
         ],
         "mode": "lines",
         "opacity": 1,
         "type": "scattergeo"
        },
        {
         "hoverinfo": "skip",
         "lat": [
          28.512245,
          34.209285
         ],
         "line": {
          "color": "red",
          "width": 1
         },
         "lon": [
          -80.796692,
          -118.490351
         ],
         "mode": "lines",
         "opacity": 1,
         "type": "scattergeo"
        },
        {
         "hoverinfo": "skip",
         "lat": [
          34.209285,
          33.922691
         ],
         "line": {
          "color": "red",
          "width": 1
         },
         "lon": [
          -118.490351,
          -118.338616
         ],
         "mode": "lines",
         "opacity": 1,
         "type": "scattergeo"
        },
        {
         "hoverinfo": "skip",
         "lat": [
          33.922691,
          34.203826
         ],
         "line": {
          "color": "red",
          "width": 1
         },
         "lon": [
          -118.338616,
          -118.489818
         ],
         "mode": "lines",
         "opacity": 1,
         "type": "scattergeo"
        },
        {
         "hoverinfo": "skip",
         "lat": [
          34.203826,
          33.820632
         ],
         "line": {
          "color": "red",
          "width": 1
         },
         "lon": [
          -118.489818,
          -118.154763
         ],
         "mode": "lines",
         "opacity": 1,
         "type": "scattergeo"
        },
        {
         "hoverinfo": "skip",
         "lat": [
          33.820632,
          33.922771
         ],
         "line": {
          "color": "red",
          "width": 1
         },
         "lon": [
          -118.154763,
          -118.336823
         ],
         "mode": "lines",
         "opacity": 1,
         "type": "scattergeo"
        },
        {
         "hoverinfo": "skip",
         "lat": [
          33.922771,
          37.658817
         ],
         "line": {
          "color": "red",
          "width": 1
         },
         "lon": [
          -118.336823,
          -122.12274
         ],
         "mode": "lines",
         "opacity": 1,
         "type": "scattergeo"
        },
        {
         "hoverinfo": "skip",
         "lat": [
          37.658817,
          33.922709
         ],
         "line": {
          "color": "red",
          "width": 1
         },
         "lon": [
          -122.12274,
          -118.338175
         ],
         "mode": "lines",
         "opacity": 1,
         "type": "scattergeo"
        },
        {
         "hoverinfo": "skip",
         "lat": [
          33.922709,
          37.364711
         ],
         "line": {
          "color": "red",
          "width": 1
         },
         "lon": [
          -118.338175,
          -121.932106
         ],
         "mode": "lines",
         "opacity": 1,
         "type": "scattergeo"
        },
        {
         "hoverinfo": "skip",
         "lat": [
          37.364711,
          33.92272
         ],
         "line": {
          "color": "red",
          "width": 1
         },
         "lon": [
          -121.932106,
          -118.337789
         ],
         "mode": "lines",
         "opacity": 1,
         "type": "scattergeo"
        },
        {
         "hoverinfo": "skip",
         "lat": [
          33.92272,
          37.365292
         ],
         "line": {
          "color": "red",
          "width": 1
         },
         "lon": [
          -118.337789,
          -121.932742
         ],
         "mode": "lines",
         "opacity": 1,
         "type": "scattergeo"
        },
        {
         "hoverinfo": "skip",
         "lat": [
          37.365292,
          39.908375
         ],
         "line": {
          "color": "red",
          "width": 1
         },
         "lon": [
          -121.932742,
          -105.115247
         ],
         "mode": "lines",
         "opacity": 1,
         "type": "scattergeo"
        },
        {
         "hoverinfo": "skip",
         "lat": [
          39.908375,
          30.190865
         ],
         "line": {
          "color": "red",
          "width": 1
         },
         "lon": [
          -105.115247,
          -97.657578
         ],
         "mode": "lines",
         "opacity": 1,
         "type": "scattergeo"
        },
        {
         "hoverinfo": "skip",
         "lat": [
          30.190865,
          36.085602
         ],
         "line": {
          "color": "red",
          "width": 1
         },
         "lon": [
          -97.657578,
          -115.164571
         ],
         "mode": "lines",
         "opacity": 1,
         "type": "scattergeo"
        },
        {
         "hoverinfo": "skip",
         "lat": [
          36.085602,
          37.364754
         ],
         "line": {
          "color": "red",
          "width": 1
         },
         "lon": [
          -115.164571,
          -121.932157
         ],
         "mode": "lines",
         "opacity": 1,
         "type": "scattergeo"
        },
        {
         "hoverinfo": "skip",
         "lat": [
          37.364754,
          33.922674
         ],
         "line": {
          "color": "red",
          "width": 1
         },
         "lon": [
          -121.932157,
          -118.338919
         ],
         "mode": "lines",
         "opacity": 1,
         "type": "scattergeo"
        },
        {
         "hoverinfo": "skip",
         "lat": [
          33.922674,
          37.361616
         ],
         "line": {
          "color": "red",
          "width": 1
         },
         "lon": [
          -118.338919,
          -121.928777
         ],
         "mode": "lines",
         "opacity": 1,
         "type": "scattergeo"
        },
        {
         "hoverinfo": "skip",
         "lat": [
          37.361616,
          33.922657
         ],
         "line": {
          "color": "red",
          "width": 1
         },
         "lon": [
          -121.928777,
          -118.338687
         ],
         "mode": "lines",
         "opacity": 1,
         "type": "scattergeo"
        },
        {
         "hoverinfo": "skip",
         "lat": [
          33.922657,
          28.51609
         ],
         "line": {
          "color": "red",
          "width": 1
         },
         "lon": [
          -118.338687,
          -80.7952
         ],
         "mode": "lines",
         "opacity": 1,
         "type": "scattergeo"
        },
        {
         "hoverinfo": "skip",
         "lat": [
          28.51609,
          33.922657
         ],
         "line": {
          "color": "red",
          "width": 1
         },
         "lon": [
          -80.7952,
          -118.33964
         ],
         "mode": "lines",
         "opacity": 1,
         "type": "scattergeo"
        },
        {
         "hoverinfo": "skip",
         "lat": [
          33.922657,
          28.515804
         ],
         "line": {
          "color": "red",
          "width": 1
         },
         "lon": [
          -118.33964,
          -80.7952
         ],
         "mode": "lines",
         "opacity": 1,
         "type": "scattergeo"
        },
        {
         "hoverinfo": "skip",
         "lat": [
          28.515804,
          33.922726
         ],
         "line": {
          "color": "red",
          "width": 1
         },
         "lon": [
          -80.7952,
          -118.337902
         ],
         "mode": "lines",
         "opacity": 1,
         "type": "scattergeo"
        },
        {
         "hoverinfo": "skip",
         "lat": [
          33.922726,
          28.509716
         ],
         "line": {
          "color": "red",
          "width": 1
         },
         "lon": [
          -118.337902,
          -80.796824
         ],
         "mode": "lines",
         "opacity": 1,
         "type": "scattergeo"
        },
        {
         "hoverinfo": "skip",
         "lat": [
          28.509716,
          28.102375
         ],
         "line": {
          "color": "red",
          "width": 1
         },
         "lon": [
          -80.796824,
          -80.640124
         ],
         "mode": "lines",
         "opacity": 1,
         "type": "scattergeo"
        },
        {
         "hoverinfo": "skip",
         "lat": [
          28.102375,
          33.922829
         ],
         "line": {
          "color": "red",
          "width": 1
         },
         "lon": [
          -80.640124,
          -118.33758
         ],
         "mode": "lines",
         "opacity": 1,
         "type": "scattergeo"
        },
        {
         "hoverinfo": "skip",
         "lat": [
          33.922829,
          28.516842
         ],
         "line": {
          "color": "red",
          "width": 1
         },
         "lon": [
          -118.33758,
          -80.796756
         ],
         "mode": "lines",
         "opacity": 1,
         "type": "scattergeo"
        },
        {
         "hoverinfo": "skip",
         "lat": [
          28.516842,
          33.922779
         ],
         "line": {
          "color": "red",
          "width": 1
         },
         "lon": [
          -80.796756,
          -118.336816
         ],
         "mode": "lines",
         "opacity": 1,
         "type": "scattergeo"
        },
        {
         "hoverinfo": "skip",
         "lat": [
          33.922779,
          51.876183
         ],
         "line": {
          "color": "red",
          "width": 1
         },
         "lon": [
          -118.336816,
          -0.359654
         ],
         "mode": "lines",
         "opacity": 1,
         "type": "scattergeo"
        },
        {
         "hoverinfo": "skip",
         "lat": [
          51.876183,
          37.622269
         ],
         "line": {
          "color": "red",
          "width": 1
         },
         "lon": [
          -0.359654,
          -122.377951
         ],
         "mode": "lines",
         "opacity": 1,
         "type": "scattergeo"
        },
        {
         "hoverinfo": "skip",
         "lat": [
          37.622269,
          33.922767
         ],
         "line": {
          "color": "red",
          "width": 1
         },
         "lon": [
          -122.377951,
          -118.336887
         ],
         "mode": "lines",
         "opacity": 1,
         "type": "scattergeo"
        },
        {
         "hoverinfo": "skip",
         "lat": [
          33.922767,
          37.365212
         ],
         "line": {
          "color": "red",
          "width": 1
         },
         "lon": [
          -118.336887,
          -121.932658
         ],
         "mode": "lines",
         "opacity": 1,
         "type": "scattergeo"
        },
        {
         "hoverinfo": "skip",
         "lat": [
          37.365212,
          33.922767
         ],
         "line": {
          "color": "red",
          "width": 1
         },
         "lon": [
          -121.932658,
          -118.338447
         ],
         "mode": "lines",
         "opacity": 1,
         "type": "scattergeo"
        },
        {
         "hoverinfo": "skip",
         "lat": [
          33.922767,
          31.61878
         ],
         "line": {
          "color": "red",
          "width": 1
         },
         "lon": [
          -118.338447,
          -97.225447
         ],
         "mode": "lines",
         "opacity": 1,
         "type": "scattergeo"
        },
        {
         "hoverinfo": "skip",
         "lat": [
          31.61878,
          33.922779
         ],
         "line": {
          "color": "red",
          "width": 1
         },
         "lon": [
          -97.225447,
          -118.336673
         ],
         "mode": "lines",
         "opacity": 1,
         "type": "scattergeo"
        },
        {
         "hoverinfo": "skip",
         "lat": [
          33.922779,
          37.36584
         ],
         "line": {
          "color": "red",
          "width": 1
         },
         "lon": [
          -118.336673,
          -121.93339
         ],
         "mode": "lines",
         "opacity": 1,
         "type": "scattergeo"
        },
        {
         "hoverinfo": "skip",
         "lat": [
          37.36584,
          33.922767
         ],
         "line": {
          "color": "red",
          "width": 1
         },
         "lon": [
          -121.93339,
          -118.336873
         ],
         "mode": "lines",
         "opacity": 1,
         "type": "scattergeo"
        },
        {
         "hoverinfo": "skip",
         "lat": [
          33.922767,
          37.621563
         ],
         "line": {
          "color": "red",
          "width": 1
         },
         "lon": [
          -118.336873,
          -122.376291
         ],
         "mode": "lines",
         "opacity": 1,
         "type": "scattergeo"
        },
        {
         "hoverinfo": "skip",
         "lat": [
          37.621563,
          34.210774
         ],
         "line": {
          "color": "red",
          "width": 1
         },
         "lon": [
          -122.376291,
          -118.490481
         ],
         "mode": "lines",
         "opacity": 1,
         "type": "scattergeo"
        },
        {
         "hoverinfo": "skip",
         "lat": [
          34.210774,
          37.364365
         ],
         "line": {
          "color": "red",
          "width": 1
         },
         "lon": [
          -118.490481,
          -121.931704
         ],
         "mode": "lines",
         "opacity": 1,
         "type": "scattergeo"
        },
        {
         "hoverinfo": "skip",
         "lat": [
          37.364365,
          33.922737
         ],
         "line": {
          "color": "red",
          "width": 1
         },
         "lon": [
          -121.931704,
          -118.337734
         ],
         "mode": "lines",
         "opacity": 1,
         "type": "scattergeo"
        },
        {
         "hoverinfo": "skip",
         "lat": [
          33.922737,
          37.365945
         ],
         "line": {
          "color": "red",
          "width": 1
         },
         "lon": [
          -118.337734,
          -121.93027
         ],
         "mode": "lines",
         "opacity": 1,
         "type": "scattergeo"
        },
        {
         "hoverinfo": "skip",
         "lat": [
          37.365945,
          33.922794
         ],
         "line": {
          "color": "red",
          "width": 1
         },
         "lon": [
          -121.93027,
          -118.336501
         ],
         "mode": "lines",
         "opacity": 1,
         "type": "scattergeo"
        },
        {
         "hoverinfo": "skip",
         "lat": [
          33.922794,
          37.365805
         ],
         "line": {
          "color": "red",
          "width": 1
         },
         "lon": [
          -118.336501,
          -121.93333
         ],
         "mode": "lines",
         "opacity": 1,
         "type": "scattergeo"
        },
        {
         "hoverinfo": "skip",
         "lat": [
          37.365805,
          33.922546
         ],
         "line": {
          "color": "red",
          "width": 1
         },
         "lon": [
          -121.93333,
          -118.341508
         ],
         "mode": "lines",
         "opacity": 1,
         "type": "scattergeo"
        },
        {
         "hoverinfo": "skip",
         "lat": [
          33.922546,
          37.362442
         ],
         "line": {
          "color": "red",
          "width": 1
         },
         "lon": [
          -118.341508,
          -121.929644
         ],
         "mode": "lines",
         "opacity": 1,
         "type": "scattergeo"
        },
        {
         "hoverinfo": "skip",
         "lat": [
          37.362442,
          33.948406
         ],
         "line": {
          "color": "red",
          "width": 1
         },
         "lon": [
          -121.929644,
          -118.419385
         ],
         "mode": "lines",
         "opacity": 1,
         "type": "scattergeo"
        },
        {
         "hoverinfo": "skip",
         "lat": [
          33.948406,
          33.93401
         ],
         "line": {
          "color": "red",
          "width": 1
         },
         "lon": [
          -118.419385,
          -118.40368
         ],
         "mode": "lines",
         "opacity": 1,
         "type": "scattergeo"
        },
        {
         "hoverinfo": "skip",
         "lat": [
          33.93401,
          33.922814
         ],
         "line": {
          "color": "red",
          "width": 1
         },
         "lon": [
          -118.40368,
          -118.335943
         ],
         "mode": "lines",
         "opacity": 1,
         "type": "scattergeo"
        },
        {
         "hoverinfo": "skip",
         "lat": [
          33.922814,
          37.3652
         ],
         "line": {
          "color": "red",
          "width": 1
         },
         "lon": [
          -118.335943,
          -121.932673
         ],
         "mode": "lines",
         "opacity": 1,
         "type": "scattergeo"
        },
        {
         "hoverinfo": "skip",
         "lat": [
          37.3652,
          33.922418
         ],
         "line": {
          "color": "red",
          "width": 1
         },
         "lon": [
          -121.932673,
          -118.34188
         ],
         "mode": "lines",
         "opacity": 1,
         "type": "scattergeo"
        },
        {
         "hoverinfo": "skip",
         "lat": [
          33.922418,
          30.194026
         ],
         "line": {
          "color": "red",
          "width": 1
         },
         "lon": [
          -118.34188,
          -97.673511
         ],
         "mode": "lines",
         "opacity": 1,
         "type": "scattergeo"
        },
        {
         "hoverinfo": "skip",
         "lat": [
          30.194026,
          33.922668
         ],
         "line": {
          "color": "red",
          "width": 1
         },
         "lon": [
          -97.673511,
          -118.338897
         ],
         "mode": "lines",
         "opacity": 1,
         "type": "scattergeo"
        },
        {
         "hoverinfo": "skip",
         "lat": [
          33.922668,
          31.611576
         ],
         "line": {
          "color": "red",
          "width": 1
         },
         "lon": [
          -118.338897,
          -97.227576
         ],
         "mode": "lines",
         "opacity": 1,
         "type": "scattergeo"
        },
        {
         "hoverinfo": "skip",
         "lat": [
          31.611576,
          37.364937
         ],
         "line": {
          "color": "red",
          "width": 1
         },
         "lon": [
          -97.227576,
          -121.932362
         ],
         "mode": "lines",
         "opacity": 1,
         "type": "scattergeo"
        },
        {
         "hoverinfo": "skip",
         "lat": [
          37.364937,
          33.922783
         ],
         "line": {
          "color": "red",
          "width": 1
         },
         "lon": [
          -121.932362,
          -118.336655
         ],
         "mode": "lines",
         "opacity": 1,
         "type": "scattergeo"
        },
        {
         "hoverinfo": "skip",
         "lat": [
          33.922783,
          37.364113
         ],
         "line": {
          "color": "red",
          "width": 1
         },
         "lon": [
          -118.336655,
          -121.9315
         ],
         "mode": "lines",
         "opacity": 1,
         "type": "scattergeo"
        },
        {
         "hoverinfo": "skip",
         "lat": [
          37.364113,
          33.935886
         ],
         "line": {
          "color": "red",
          "width": 1
         },
         "lon": [
          -121.9315,
          -118.397122
         ],
         "mode": "lines",
         "opacity": 1,
         "type": "scattergeo"
        },
        {
         "hoverinfo": "skip",
         "lat": [
          33.935886,
          31.613299
         ],
         "line": {
          "color": "red",
          "width": 1
         },
         "lon": [
          -118.397122,
          -97.227068
         ],
         "mode": "lines",
         "opacity": 1,
         "type": "scattergeo"
        },
        {
         "hoverinfo": "skip",
         "lat": [
          31.613299,
          33.922755
         ],
         "line": {
          "color": "red",
          "width": 1
         },
         "lon": [
          -97.227068,
          -118.336945
         ],
         "mode": "lines",
         "opacity": 1,
         "type": "scattergeo"
        },
        {
         "hoverinfo": "skip",
         "lat": [
          33.922755,
          29.604384
         ],
         "line": {
          "color": "red",
          "width": 1
         },
         "lon": [
          -118.336945,
          -95.164086
         ],
         "mode": "lines",
         "opacity": 1,
         "type": "scattergeo"
        },
        {
         "hoverinfo": "skip",
         "lat": [
          29.604384,
          31.616627
         ],
         "line": {
          "color": "red",
          "width": 1
         },
         "lon": [
          -95.164086,
          -97.226093
         ],
         "mode": "lines",
         "opacity": 1,
         "type": "scattergeo"
        },
        {
         "hoverinfo": "skip",
         "lat": [
          31.616627,
          37.363536
         ],
         "line": {
          "color": "red",
          "width": 1
         },
         "lon": [
          -97.226093,
          -121.930837
         ],
         "mode": "lines",
         "opacity": 1,
         "type": "scattergeo"
        },
        {
         "hoverinfo": "skip",
         "lat": [
          37.363536,
          33.922668
         ],
         "line": {
          "color": "red",
          "width": 1
         },
         "lon": [
          -121.930837,
          -118.339135
         ],
         "mode": "lines",
         "opacity": 1,
         "type": "scattergeo"
        },
        {
         "hoverinfo": "skip",
         "lat": [
          33.922668,
          37.364362
         ],
         "line": {
          "color": "red",
          "width": 1
         },
         "lon": [
          -118.339135,
          -121.931733
         ],
         "mode": "lines",
         "opacity": 1,
         "type": "scattergeo"
        },
        {
         "hoverinfo": "skip",
         "lat": [
          37.364362,
          33.922814
         ],
         "line": {
          "color": "red",
          "width": 1
         },
         "lon": [
          -121.931733,
          -118.336101
         ],
         "mode": "lines",
         "opacity": 1,
         "type": "scattergeo"
        },
        {
         "hoverinfo": "skip",
         "lat": [
          33.922814,
          37.365955
         ],
         "line": {
          "color": "red",
          "width": 1
         },
         "lon": [
          -118.336101,
          -121.933501
         ],
         "mode": "lines",
         "opacity": 1,
         "type": "scattergeo"
        },
        {
         "hoverinfo": "skip",
         "lat": [
          37.365955,
          33.922783
         ],
         "line": {
          "color": "red",
          "width": 1
         },
         "lon": [
          -121.933501,
          -118.336431
         ],
         "mode": "lines",
         "opacity": 1,
         "type": "scattergeo"
        },
        {
         "hoverinfo": "skip",
         "lat": [
          33.922783,
          37.365084
         ],
         "line": {
          "color": "red",
          "width": 1
         },
         "lon": [
          -118.336431,
          -121.932509
         ],
         "mode": "lines",
         "opacity": 1,
         "type": "scattergeo"
        },
        {
         "hoverinfo": "skip",
         "lat": [
          37.365084,
          33.948394
         ],
         "line": {
          "color": "red",
          "width": 1
         },
         "lon": [
          -121.932509,
          -118.419414
         ],
         "mode": "lines",
         "opacity": 1,
         "type": "scattergeo"
        },
        {
         "hoverinfo": "skip",
         "lat": [
          33.948394,
          33.938828
         ],
         "line": {
          "color": "red",
          "width": 1
         },
         "lon": [
          -118.419414,
          -118.399673
         ],
         "mode": "lines",
         "opacity": 1,
         "type": "scattergeo"
        },
        {
         "hoverinfo": "skip",
         "lat": [
          33.938828,
          37.364723
         ],
         "line": {
          "color": "red",
          "width": 1
         },
         "lon": [
          -118.399673,
          -121.932121
         ],
         "mode": "lines",
         "opacity": 1,
         "type": "scattergeo"
        },
        {
         "hoverinfo": "skip",
         "lat": [
          37.364723,
          33.922771
         ],
         "line": {
          "color": "red",
          "width": 1
         },
         "lon": [
          -121.932121,
          -118.336837
         ],
         "mode": "lines",
         "opacity": 1,
         "type": "scattergeo"
        },
        {
         "hoverinfo": "skip",
         "lat": [
          33.922771,
          30.188702
         ],
         "line": {
          "color": "red",
          "width": 1
         },
         "lon": [
          -118.336837,
          -97.658777
         ],
         "mode": "lines",
         "opacity": 1,
         "type": "scattergeo"
        },
        {
         "hoverinfo": "skip",
         "lat": [
          30.188702,
          37.367609
         ],
         "line": {
          "color": "red",
          "width": 1
         },
         "lon": [
          -97.658777,
          -121.93533
         ],
         "mode": "lines",
         "opacity": 1,
         "type": "scattergeo"
        },
        {
         "hoverinfo": "skip",
         "lat": [
          37.367609,
          33.948704
         ],
         "line": {
          "color": "red",
          "width": 1
         },
         "lon": [
          -121.93533,
          -118.416376
         ],
         "mode": "lines",
         "opacity": 1,
         "type": "scattergeo"
        },
        {
         "hoverinfo": "skip",
         "lat": [
          33.948704,
          33.934021
         ],
         "line": {
          "color": "red",
          "width": 1
         },
         "lon": [
          -118.416376,
          -118.403463
         ],
         "mode": "lines",
         "opacity": 1,
         "type": "scattergeo"
        },
        {
         "hoverinfo": "skip",
         "lat": [
          33.934021,
          33.940544
         ],
         "line": {
          "color": "red",
          "width": 1
         },
         "lon": [
          -118.403463,
          -118.3828
         ],
         "mode": "lines",
         "opacity": 1,
         "type": "scattergeo"
        },
        {
         "hoverinfo": "skip",
         "lat": [
          33.940544,
          53.480386
         ],
         "line": {
          "color": "red",
          "width": 1
         },
         "lon": [
          -118.3828,
          -1.001392
         ],
         "mode": "lines",
         "opacity": 1,
         "type": "scattergeo"
        },
        {
         "hoverinfo": "skip",
         "lat": [
          53.480386,
          48.692219
         ],
         "line": {
          "color": "red",
          "width": 1
         },
         "lon": [
          -1.001392,
          9.230347
         ],
         "mode": "lines",
         "opacity": 1,
         "type": "scattergeo"
        },
        {
         "hoverinfo": "skip",
         "lat": [
          48.692219,
          52.372513
         ],
         "line": {
          "color": "red",
          "width": 1
         },
         "lon": [
          9.230347,
          13.505402
         ],
         "mode": "lines",
         "opacity": 1,
         "type": "scattergeo"
        },
        {
         "hoverinfo": "skip",
         "lat": [
          52.372513,
          52.319036
         ],
         "line": {
          "color": "red",
          "width": 1
         },
         "lon": [
          13.505402,
          10.552917
         ],
         "mode": "lines",
         "opacity": 1,
         "type": "scattergeo"
        },
        {
         "hoverinfo": "skip",
         "lat": [
          52.319036,
          47.453792
         ],
         "line": {
          "color": "red",
          "width": 1
         },
         "lon": [
          10.552917,
          -122.317957
         ],
         "mode": "lines",
         "opacity": 1,
         "type": "scattergeo"
        },
        {
         "hoverinfo": "skip",
         "lat": [
          47.453792,
          33.948708
         ],
         "line": {
          "color": "red",
          "width": 1
         },
         "lon": [
          -122.317957,
          -118.416367
         ],
         "mode": "lines",
         "opacity": 1,
         "type": "scattergeo"
        },
        {
         "hoverinfo": "skip",
         "lat": [
          33.948708,
          33.93401
         ],
         "line": {
          "color": "red",
          "width": 1
         },
         "lon": [
          -118.416367,
          -118.40368
         ],
         "mode": "lines",
         "opacity": 1,
         "type": "scattergeo"
        },
        {
         "hoverinfo": "skip",
         "lat": [
          33.93401,
          33.922691
         ],
         "line": {
          "color": "red",
          "width": 1
         },
         "lon": [
          -118.40368,
          -118.338505
         ],
         "mode": "lines",
         "opacity": 1,
         "type": "scattergeo"
        },
        {
         "hoverinfo": "skip",
         "lat": [
          33.922691,
          47.528973
         ],
         "line": {
          "color": "red",
          "width": 1
         },
         "lon": [
          -118.338505,
          -122.301573
         ],
         "mode": "lines",
         "opacity": 1,
         "type": "scattergeo"
        },
        {
         "hoverinfo": "skip",
         "lat": [
          47.528973,
          47.776178
         ],
         "line": {
          "color": "red",
          "width": 1
         },
         "lon": [
          -122.301573,
          -116.819687
         ],
         "mode": "lines",
         "opacity": 1,
         "type": "scattergeo"
        },
        {
         "hoverinfo": "skip",
         "lat": [
          47.776178,
          33.922726
         ],
         "line": {
          "color": "red",
          "width": 1
         },
         "lon": [
          -116.819687,
          -118.337804
         ],
         "mode": "lines",
         "opacity": 1,
         "type": "scattergeo"
        },
        {
         "hoverinfo": "skip",
         "lat": [
          33.922726,
          30.398472
         ],
         "line": {
          "color": "red",
          "width": 1
         },
         "lon": [
          -118.337804,
          -97.566765
         ],
         "mode": "lines",
         "opacity": 1,
         "type": "scattergeo"
        },
        {
         "hoverinfo": "skip",
         "lat": [
          30.398472,
          37.364176
         ],
         "line": {
          "color": "red",
          "width": 1
         },
         "lon": [
          -97.566765,
          -121.931539
         ],
         "mode": "lines",
         "opacity": 1,
         "type": "scattergeo"
        },
        {
         "hoverinfo": "skip",
         "lat": [
          37.364176,
          33.922779
         ],
         "line": {
          "color": "red",
          "width": 1
         },
         "lon": [
          -121.931539,
          -118.336544
         ],
         "mode": "lines",
         "opacity": 1,
         "type": "scattergeo"
        },
        {
         "hoverinfo": "skip",
         "lat": [
          33.922779,
          30.399662
         ],
         "line": {
          "color": "red",
          "width": 1
         },
         "lon": [
          -118.336544,
          -97.568314
         ],
         "mode": "lines",
         "opacity": 1,
         "type": "scattergeo"
        },
        {
         "hoverinfo": "skip",
         "lat": [
          30.399662,
          37.367512
         ],
         "line": {
          "color": "red",
          "width": 1
         },
         "lon": [
          -97.568314,
          -121.935196
         ],
         "mode": "lines",
         "opacity": 1,
         "type": "scattergeo"
        },
        {
         "hoverinfo": "skip",
         "lat": [
          37.367512,
          34.204788
         ],
         "line": {
          "color": "red",
          "width": 1
         },
         "lon": [
          -121.935196,
          -118.489903
         ],
         "mode": "lines",
         "opacity": 1,
         "type": "scattergeo"
        },
        {
         "hoverinfo": "skip",
         "lat": [
          34.204788,
          33.92279
         ],
         "line": {
          "color": "red",
          "width": 1
         },
         "lon": [
          -118.489903,
          -118.336501
         ],
         "mode": "lines",
         "opacity": 1,
         "type": "scattergeo"
        },
        {
         "hoverinfo": "skip",
         "lat": [
          33.92279,
          30.191082
         ],
         "line": {
          "color": "red",
          "width": 1
         },
         "lon": [
          -118.336501,
          -97.659679
         ],
         "mode": "lines",
         "opacity": 1,
         "type": "scattergeo"
        },
        {
         "hoverinfo": "skip",
         "lat": [
          30.191082,
          31.612656
         ],
         "line": {
          "color": "red",
          "width": 1
         },
         "lon": [
          -97.659679,
          -97.227281
         ],
         "mode": "lines",
         "opacity": 1,
         "type": "scattergeo"
        },
        {
         "hoverinfo": "skip",
         "lat": [
          31.612656,
          33.922779
         ],
         "line": {
          "color": "red",
          "width": 1
         },
         "lon": [
          -97.227281,
          -118.336716
         ],
         "mode": "lines",
         "opacity": 1,
         "type": "scattergeo"
        },
        {
         "hoverinfo": "skip",
         "lat": [
          33.922779,
          28.516888
         ],
         "line": {
          "color": "red",
          "width": 1
         },
         "lon": [
          -118.336716,
          -80.796783
         ],
         "mode": "lines",
         "opacity": 1,
         "type": "scattergeo"
        },
        {
         "hoverinfo": "skip",
         "lat": [
          28.516888,
          37.366802
         ],
         "line": {
          "color": "red",
          "width": 1
         },
         "lon": [
          -80.796783,
          -121.934436
         ],
         "mode": "lines",
         "opacity": 1,
         "type": "scattergeo"
        },
        {
         "hoverinfo": "skip",
         "lat": [
          37.366802,
          33.935921
         ],
         "line": {
          "color": "red",
          "width": 1
         },
         "lon": [
          -121.934436,
          -118.396715
         ],
         "mode": "lines",
         "opacity": 1,
         "type": "scattergeo"
        },
        {
         "hoverinfo": "skip",
         "lat": [
          33.935921,
          33.92276
         ],
         "line": {
          "color": "red",
          "width": 1
         },
         "lon": [
          -118.396715,
          -118.336879
         ],
         "mode": "lines",
         "opacity": 1,
         "type": "scattergeo"
        },
        {
         "hoverinfo": "skip",
         "lat": [
          33.92276,
          28.511977
         ],
         "line": {
          "color": "red",
          "width": 1
         },
         "lon": [
          -118.336879,
          -80.796688
         ],
         "mode": "lines",
         "opacity": 1,
         "type": "scattergeo"
        },
        {
         "hoverinfo": "skip",
         "lat": [
          28.511977,
          25.900875
         ],
         "line": {
          "color": "red",
          "width": 1
         },
         "lon": [
          -80.796688,
          -97.418285
         ],
         "mode": "lines",
         "opacity": 1,
         "type": "scattergeo"
        },
        {
         "hoverinfo": "skip",
         "lat": [
          25.900875,
          33.922623
         ],
         "line": {
          "color": "red",
          "width": 1
         },
         "lon": [
          -97.418285,
          -118.339682
         ],
         "mode": "lines",
         "opacity": 1,
         "type": "scattergeo"
        },
        {
         "hoverinfo": "skip",
         "lat": [
          33.922623,
          25.904097
         ],
         "line": {
          "color": "red",
          "width": 1
         },
         "lon": [
          -118.339682,
          -97.421806
         ],
         "mode": "lines",
         "opacity": 1,
         "type": "scattergeo"
        },
        {
         "hoverinfo": "skip",
         "lat": [
          25.904097,
          37.366081
         ],
         "line": {
          "color": "red",
          "width": 1
         },
         "lon": [
          -97.421806,
          -121.933633
         ],
         "mode": "lines",
         "opacity": 1,
         "type": "scattergeo"
        },
        {
         "hoverinfo": "skip",
         "lat": [
          37.366081,
          33.948418
         ],
         "line": {
          "color": "red",
          "width": 1
         },
         "lon": [
          -121.933633,
          -118.419235
         ],
         "mode": "lines",
         "opacity": 1,
         "type": "scattergeo"
        },
        {
         "hoverinfo": "skip",
         "lat": [
          33.948418,
          33.934044
         ],
         "line": {
          "color": "red",
          "width": 1
         },
         "lon": [
          -118.419235,
          -118.403232
         ],
         "mode": "lines",
         "opacity": 1,
         "type": "scattergeo"
        },
        {
         "hoverinfo": "skip",
         "lat": [
          33.934044,
          33.922674
         ],
         "line": {
          "color": "red",
          "width": 1
         },
         "lon": [
          -118.403232,
          -118.338962
         ],
         "mode": "lines",
         "opacity": 1,
         "type": "scattergeo"
        },
        {
         "hoverinfo": "skip",
         "lat": [
          33.922674,
          30.188719
         ],
         "line": {
          "color": "red",
          "width": 1
         },
         "lon": [
          -118.338962,
          -97.659627
         ],
         "mode": "lines",
         "opacity": 1,
         "type": "scattergeo"
        },
        {
         "hoverinfo": "skip",
         "lat": [
          30.188719,
          37.365712
         ],
         "line": {
          "color": "red",
          "width": 1
         },
         "lon": [
          -97.659627,
          -121.933226
         ],
         "mode": "lines",
         "opacity": 1,
         "type": "scattergeo"
        },
        {
         "hoverinfo": "skip",
         "lat": [
          37.365712,
          33.922686
         ],
         "line": {
          "color": "red",
          "width": 1
         },
         "lon": [
          -121.933226,
          -118.338618
         ],
         "mode": "lines",
         "opacity": 1,
         "type": "scattergeo"
        },
        {
         "hoverinfo": "skip",
         "lat": [
          33.922686,
          30.39661
         ],
         "line": {
          "color": "red",
          "width": 1
         },
         "lon": [
          -118.338618,
          -97.564293
         ],
         "mode": "lines",
         "opacity": 1,
         "type": "scattergeo"
        },
        {
         "hoverinfo": "skip",
         "lat": [
          30.39661,
          33.935871
         ],
         "line": {
          "color": "red",
          "width": 1
         },
         "lon": [
          -97.564293,
          -118.397341
         ],
         "mode": "lines",
         "opacity": 1,
         "type": "scattergeo"
        },
        {
         "hoverinfo": "skip",
         "lat": [
          33.935871,
          37.367155
         ],
         "line": {
          "color": "red",
          "width": 1
         },
         "lon": [
          -118.397341,
          -121.934823
         ],
         "mode": "lines",
         "opacity": 1,
         "type": "scattergeo"
        },
        {
         "hoverinfo": "skip",
         "lat": [
          37.367155,
          33.935813
         ],
         "line": {
          "color": "red",
          "width": 1
         },
         "lon": [
          -121.934823,
          -118.397899
         ],
         "mode": "lines",
         "opacity": 1,
         "type": "scattergeo"
        },
        {
         "hoverinfo": "skip",
         "lat": [
          33.935813,
          33.922714
         ],
         "line": {
          "color": "red",
          "width": 1
         },
         "lon": [
          -118.397899,
          -118.338
         ],
         "mode": "lines",
         "opacity": 1,
         "type": "scattergeo"
        },
        {
         "hoverinfo": "skip",
         "lat": [
          33.922714,
          30.198521
         ],
         "line": {
          "color": "red",
          "width": 1
         },
         "lon": [
          -118.338,
          -97.659032
         ],
         "mode": "lines",
         "opacity": 1,
         "type": "scattergeo"
        },
        {
         "hoverinfo": "skip",
         "lat": [
          30.198521,
          52.373258
         ],
         "line": {
          "color": "red",
          "width": 1
         },
         "lon": [
          -97.659032,
          13.508377
         ],
         "mode": "lines",
         "opacity": 1,
         "type": "scattergeo"
        },
        {
         "hoverinfo": "skip",
         "lat": [
          52.373258,
          30.194049
         ],
         "line": {
          "color": "red",
          "width": 1
         },
         "lon": [
          13.508377,
          -97.673483
         ],
         "mode": "lines",
         "opacity": 1,
         "type": "scattergeo"
        },
        {
         "hoverinfo": "skip",
         "lat": [
          30.194049,
          33.922714
         ],
         "line": {
          "color": "red",
          "width": 1
         },
         "lon": [
          -97.673483,
          -118.338154
         ],
         "mode": "lines",
         "opacity": 1,
         "type": "scattergeo"
        },
        {
         "hoverinfo": "skip",
         "lat": [
          33.922714,
          37.366364
         ],
         "line": {
          "color": "red",
          "width": 1
         },
         "lon": [
          -118.338154,
          -121.933927
         ],
         "mode": "lines",
         "opacity": 1,
         "type": "scattergeo"
        },
        {
         "hoverinfo": "skip",
         "lat": [
          37.366364,
          33.922703
         ],
         "line": {
          "color": "red",
          "width": 1
         },
         "lon": [
          -121.933927,
          -118.338168
         ],
         "mode": "lines",
         "opacity": 1,
         "type": "scattergeo"
        },
        {
         "hoverinfo": "skip",
         "lat": [
          33.922703,
          39.906601
         ],
         "line": {
          "color": "red",
          "width": 1
         },
         "lon": [
          -118.338168,
          -105.111873
         ],
         "mode": "lines",
         "opacity": 1,
         "type": "scattergeo"
        },
        {
         "hoverinfo": "skip",
         "lat": [
          39.906601,
          30.194252
         ],
         "line": {
          "color": "red",
          "width": 1
         },
         "lon": [
          -105.111873,
          -97.658952
         ],
         "mode": "lines",
         "opacity": 1,
         "type": "scattergeo"
        },
        {
         "hoverinfo": "skip",
         "lat": [
          30.194252,
          25.904068
         ],
         "line": {
          "color": "red",
          "width": 1
         },
         "lon": [
          -97.658952,
          -97.421731
         ],
         "mode": "lines",
         "opacity": 1,
         "type": "scattergeo"
        },
        {
         "hoverinfo": "skip",
         "lat": [
          25.904068,
          33.922755
         ],
         "line": {
          "color": "red",
          "width": 1
         },
         "lon": [
          -97.421731,
          -118.337045
         ],
         "mode": "lines",
         "opacity": 1,
         "type": "scattergeo"
        },
        {
         "hoverinfo": "skip",
         "lat": [
          33.922755,
          25.903736
         ],
         "line": {
          "color": "red",
          "width": 1
         },
         "lon": [
          -118.337045,
          -97.421394
         ],
         "mode": "lines",
         "opacity": 1,
         "type": "scattergeo"
        },
        {
         "hoverinfo": "skip",
         "lat": [
          25.903736,
          30.191477
         ],
         "line": {
          "color": "red",
          "width": 1
         },
         "lon": [
          -97.421394,
          -97.659695
         ],
         "mode": "lines",
         "opacity": 1,
         "type": "scattergeo"
        },
        {
         "hoverinfo": "skip",
         "lat": [
          30.191477,
          33.922686
         ],
         "line": {
          "color": "red",
          "width": 1
         },
         "lon": [
          -97.659695,
          -118.338718
         ],
         "mode": "lines",
         "opacity": 1,
         "type": "scattergeo"
        },
        {
         "hoverinfo": "skip",
         "lat": [
          33.922686,
          30.194103
         ],
         "line": {
          "color": "red",
          "width": 1
         },
         "lon": [
          -118.338718,
          -97.658911
         ],
         "mode": "lines",
         "opacity": 1,
         "type": "scattergeo"
        },
        {
         "hoverinfo": "skip",
         "lat": [
          30.194103,
          30.180336
         ],
         "line": {
          "color": "red",
          "width": 1
         },
         "lon": [
          -97.658911,
          -97.673304
         ],
         "mode": "lines",
         "opacity": 1,
         "type": "scattergeo"
        },
        {
         "hoverinfo": "skip",
         "lat": [
          30.180336,
          52.373071
         ],
         "line": {
          "color": "red",
          "width": 1
         },
         "lon": [
          -97.673304,
          13.50769
         ],
         "mode": "lines",
         "opacity": 1,
         "type": "scattergeo"
        },
        {
         "hoverinfo": "skip",
         "lat": [
          52.373071,
          37.619643
         ],
         "line": {
          "color": "red",
          "width": 1
         },
         "lon": [
          13.50769,
          -122.377261
         ],
         "mode": "lines",
         "opacity": 1,
         "type": "scattergeo"
        },
        {
         "hoverinfo": "skip",
         "lat": [
          37.619643,
          37.364746
         ],
         "line": {
          "color": "red",
          "width": 1
         },
         "lon": [
          -122.377261,
          -121.932151
         ],
         "mode": "lines",
         "opacity": 1,
         "type": "scattergeo"
        },
        {
         "hoverinfo": "skip",
         "lat": [
          37.364746,
          33.922686
         ],
         "line": {
          "color": "red",
          "width": 1
         },
         "lon": [
          -121.932151,
          -118.338704
         ],
         "mode": "lines",
         "opacity": 1,
         "type": "scattergeo"
        },
        {
         "hoverinfo": "skip",
         "lat": [
          33.922686,
          25.906798
         ],
         "line": {
          "color": "red",
          "width": 1
         },
         "lon": [
          -118.338704,
          -97.424737
         ],
         "mode": "lines",
         "opacity": 1,
         "type": "scattergeo"
        },
        {
         "hoverinfo": "skip",
         "lat": [
          25.906798,
          30.191391
         ],
         "line": {
          "color": "red",
          "width": 1
         },
         "lon": [
          -97.424737,
          -97.657578
         ],
         "mode": "lines",
         "opacity": 1,
         "type": "scattergeo"
        },
        {
         "hoverinfo": "skip",
         "lat": [
          30.191391,
          25.904217
         ],
         "line": {
          "color": "red",
          "width": 1
         },
         "lon": [
          -97.657578,
          -97.421938
         ],
         "mode": "lines",
         "opacity": 1,
         "type": "scattergeo"
        },
        {
         "hoverinfo": "skip",
         "lat": [
          25.904217,
          33.922737
         ],
         "line": {
          "color": "red",
          "width": 1
         },
         "lon": [
          -97.421938,
          -118.337678
         ],
         "mode": "lines",
         "opacity": 1,
         "type": "scattergeo"
        },
        {
         "hoverinfo": "skip",
         "lat": [
          33.922737,
          30.190569
         ],
         "line": {
          "color": "red",
          "width": 1
         },
         "lon": [
          -118.337678,
          -97.657553
         ],
         "mode": "lines",
         "opacity": 1,
         "type": "scattergeo"
        },
        {
         "hoverinfo": "skip",
         "lat": [
          30.190569,
          33.922806
         ],
         "line": {
          "color": "red",
          "width": 1
         },
         "lon": [
          -97.657553,
          -118.336193
         ],
         "mode": "lines",
         "opacity": 1,
         "type": "scattergeo"
        },
        {
         "hoverinfo": "skip",
         "lat": [
          33.922806,
          30.193176
         ],
         "line": {
          "color": "red",
          "width": 1
         },
         "lon": [
          -118.336193,
          -97.657619
         ],
         "mode": "lines",
         "opacity": 1,
         "type": "scattergeo"
        },
        {
         "hoverinfo": "skip",
         "lat": [
          30.193176,
          25.903645
         ],
         "line": {
          "color": "red",
          "width": 1
         },
         "lon": [
          -97.657619,
          -97.421304
         ],
         "mode": "lines",
         "opacity": 1,
         "type": "scattergeo"
        },
        {
         "hoverinfo": "skip",
         "lat": [
          25.903645,
          30.191535
         ],
         "line": {
          "color": "red",
          "width": 1
         },
         "lon": [
          -97.421304,
          -97.657594
         ],
         "mode": "lines",
         "opacity": 1,
         "type": "scattergeo"
        },
        {
         "hoverinfo": "skip",
         "lat": [
          30.191535,
          33.922726
         ],
         "line": {
          "color": "red",
          "width": 1
         },
         "lon": [
          -97.657594,
          -118.337762
         ],
         "mode": "lines",
         "opacity": 1,
         "type": "scattergeo"
        },
        {
         "hoverinfo": "skip",
         "lat": [
          33.922726,
          33.93565
         ],
         "line": {
          "color": "red",
          "width": 1
         },
         "lon": [
          -118.337762,
          -118.399086
         ],
         "mode": "lines",
         "opacity": 1,
         "type": "scattergeo"
        },
        {
         "hoverinfo": "skip",
         "lat": [
          33.93565,
          30.191483
         ],
         "line": {
          "color": "red",
          "width": 1
         },
         "lon": [
          -118.399086,
          -97.657578
         ],
         "mode": "lines",
         "opacity": 1,
         "type": "scattergeo"
        },
        {
         "hoverinfo": "skip",
         "lat": [
          30.191483,
          39.907871
         ],
         "line": {
          "color": "red",
          "width": 1
         },
         "lon": [
          -97.657578,
          -105.114277
         ],
         "mode": "lines",
         "opacity": 1,
         "type": "scattergeo"
        },
        {
         "hoverinfo": "skip",
         "lat": [
          39.907871,
          20.897713
         ],
         "line": {
          "color": "red",
          "width": 1
         },
         "lon": [
          -105.114277,
          -156.431334
         ],
         "mode": "lines",
         "opacity": 1,
         "type": "scattergeo"
        },
        {
         "hoverinfo": "skip",
         "lat": [
          20.897713,
          37.364914
         ],
         "line": {
          "color": "red",
          "width": 1
         },
         "lon": [
          -156.431334,
          -121.932289
         ],
         "mode": "lines",
         "opacity": 1,
         "type": "scattergeo"
        },
        {
         "hoverinfo": "skip",
         "lat": [
          37.364914,
          33.922744
         ],
         "line": {
          "color": "red",
          "width": 1
         },
         "lon": [
          -121.932289,
          -118.337646
         ],
         "mode": "lines",
         "opacity": 1,
         "type": "scattergeo"
        },
        {
         "hoverinfo": "skip",
         "lat": [
          33.922744,
          30.190613
         ],
         "line": {
          "color": "red",
          "width": 1
         },
         "lon": [
          -118.337646,
          -97.657578
         ],
         "mode": "lines",
         "opacity": 1,
         "type": "scattergeo"
        },
        {
         "hoverinfo": "skip",
         "lat": [
          30.190613,
          37.364685
         ],
         "line": {
          "color": "red",
          "width": 1
         },
         "lon": [
          -97.657578,
          -121.932084
         ],
         "mode": "lines",
         "opacity": 1,
         "type": "scattergeo"
        },
        {
         "hoverinfo": "skip",
         "lat": [
          37.364685,
          33.948301
         ],
         "line": {
          "color": "red",
          "width": 1
         },
         "lon": [
          -121.932084,
          -118.420358
         ],
         "mode": "lines",
         "opacity": 1,
         "type": "scattergeo"
        },
        {
         "hoverinfo": "skip",
         "lat": [
          33.948301,
          33.933792
         ],
         "line": {
          "color": "red",
          "width": 1
         },
         "lon": [
          -118.420358,
          -118.405726
         ],
         "mode": "lines",
         "opacity": 1,
         "type": "scattergeo"
        },
        {
         "hoverinfo": "skip",
         "lat": [
          33.933792,
          33.936035
         ],
         "line": {
          "color": "red",
          "width": 1
         },
         "lon": [
          -118.405726,
          -118.383739
         ],
         "mode": "lines",
         "opacity": 1,
         "type": "scattergeo"
        },
        {
         "hoverinfo": "skip",
         "lat": [
          33.936035,
          33.92279
         ],
         "line": {
          "color": "red",
          "width": 1
         },
         "lon": [
          -118.383739,
          -118.336515
         ],
         "mode": "lines",
         "opacity": 1,
         "type": "scattergeo"
        },
        {
         "hoverinfo": "skip",
         "lat": [
          33.92279,
          30.192106
         ],
         "line": {
          "color": "red",
          "width": 1
         },
         "lon": [
          -118.336515,
          -97.657581
         ],
         "mode": "lines",
         "opacity": 1,
         "type": "scattergeo"
        },
        {
         "hoverinfo": "skip",
         "lat": [
          30.192106,
          37.365681
         ],
         "line": {
          "color": "red",
          "width": 1
         },
         "lon": [
          -97.657581,
          -121.933165
         ],
         "mode": "lines",
         "opacity": 1,
         "type": "scattergeo"
        },
        {
         "hoverinfo": "skip",
         "lat": [
          37.365681,
          33.92272
         ],
         "line": {
          "color": "red",
          "width": 1
         },
         "lon": [
          -121.933165,
          -118.337932
         ],
         "mode": "lines",
         "opacity": 1,
         "type": "scattergeo"
        },
        {
         "hoverinfo": "skip",
         "lat": [
          33.92272,
          33.935783
         ],
         "line": {
          "color": "red",
          "width": 1
         },
         "lon": [
          -118.337932,
          -118.398187
         ],
         "mode": "lines",
         "opacity": 1,
         "type": "scattergeo"
        },
        {
         "hoverinfo": "skip",
         "lat": [
          33.935783,
          34.585625
         ],
         "line": {
          "color": "red",
          "width": 1
         },
         "lon": [
          -118.398187,
          -117.384095
         ],
         "mode": "lines",
         "opacity": 1,
         "type": "scattergeo"
        },
        {
         "hoverinfo": "skip",
         "lat": [
          34.585625,
          34.597553
         ],
         "line": {
          "color": "red",
          "width": 1
         },
         "lon": [
          -117.384095,
          -117.367001
         ],
         "mode": "lines",
         "opacity": 1,
         "type": "scattergeo"
        },
        {
         "hoverinfo": "skip",
         "lat": [
          34.597553,
          36.085549
         ],
         "line": {
          "color": "red",
          "width": 1
         },
         "lon": [
          -117.367001,
          -115.164535
         ],
         "mode": "lines",
         "opacity": 1,
         "type": "scattergeo"
        },
        {
         "hoverinfo": "skip",
         "lat": [
          36.085549,
          33.93579
         ],
         "line": {
          "color": "red",
          "width": 1
         },
         "lon": [
          -115.164535,
          -118.398199
         ],
         "mode": "lines",
         "opacity": 1,
         "type": "scattergeo"
        },
        {
         "hoverinfo": "skip",
         "lat": [
          33.93579,
          33.922709
         ],
         "line": {
          "color": "red",
          "width": 1
         },
         "lon": [
          -118.398199,
          -118.338118
         ],
         "mode": "lines",
         "opacity": 1,
         "type": "scattergeo"
        },
        {
         "hoverinfo": "skip",
         "lat": [
          33.922709,
          25.905521
         ],
         "line": {
          "color": "red",
          "width": 1
         },
         "lon": [
          -118.338118,
          -97.423325
         ],
         "mode": "lines",
         "opacity": 1,
         "type": "scattergeo"
        },
        {
         "hoverinfo": "skip",
         "lat": [
          25.905521,
          30.191448
         ],
         "line": {
          "color": "red",
          "width": 1
         },
         "lon": [
          -97.423325,
          -97.657578
         ],
         "mode": "lines",
         "opacity": 1,
         "type": "scattergeo"
        },
        {
         "hoverinfo": "skip",
         "lat": [
          30.191448,
          33.922732
         ],
         "line": {
          "color": "red",
          "width": 1
         },
         "lon": [
          -97.657578,
          -118.337703
         ],
         "mode": "lines",
         "opacity": 1,
         "type": "scattergeo"
        },
        {
         "hoverinfo": "skip",
         "lat": [
          33.922732,
          39.500816
         ],
         "line": {
          "color": "red",
          "width": 1
         },
         "lon": [
          -118.337703,
          -119.766814
         ],
         "mode": "lines",
         "opacity": 1,
         "type": "scattergeo"
        },
        {
         "hoverinfo": "skip",
         "lat": [
          39.500816,
          25.903667
         ],
         "line": {
          "color": "red",
          "width": 1
         },
         "lon": [
          -119.766814,
          -97.421317
         ],
         "mode": "lines",
         "opacity": 1,
         "type": "scattergeo"
        },
        {
         "hoverinfo": "skip",
         "lat": [
          25.903667,
          30.189906
         ],
         "line": {
          "color": "red",
          "width": 1
         },
         "lon": [
          -97.421317,
          -97.657512
         ],
         "mode": "lines",
         "opacity": 1,
         "type": "scattergeo"
        },
        {
         "hoverinfo": "skip",
         "lat": [
          30.189906,
          37.365589
         ],
         "line": {
          "color": "red",
          "width": 1
         },
         "lon": [
          -97.657512,
          -121.933063
         ],
         "mode": "lines",
         "opacity": 1,
         "type": "scattergeo"
        },
        {
         "hoverinfo": "skip",
         "lat": [
          37.365589,
          33.922668
         ],
         "line": {
          "color": "red",
          "width": 1
         },
         "lon": [
          -121.933063,
          -118.338855
         ],
         "mode": "lines",
         "opacity": 1,
         "type": "scattergeo"
        },
        {
         "hoverinfo": "skip",
         "lat": [
          33.922668,
          37.366131
         ],
         "line": {
          "color": "red",
          "width": 1
         },
         "lon": [
          -118.338855,
          -121.933688
         ],
         "mode": "lines",
         "opacity": 1,
         "type": "scattergeo"
        },
        {
         "hoverinfo": "skip",
         "lat": [
          37.366131,
          30.190988
         ],
         "line": {
          "color": "red",
          "width": 1
         },
         "lon": [
          -121.933688,
          -97.657581
         ],
         "mode": "lines",
         "opacity": 1,
         "type": "scattergeo"
        },
        {
         "hoverinfo": "skip",
         "lat": [
          30.190988,
          25.907961
         ],
         "line": {
          "color": "red",
          "width": 1
         },
         "lon": [
          -97.657581,
          -97.429161
         ],
         "mode": "lines",
         "opacity": 1,
         "type": "scattergeo"
        },
        {
         "hoverinfo": "skip",
         "lat": [
          25.907961,
          33.92268
         ],
         "line": {
          "color": "red",
          "width": 1
         },
         "lon": [
          -97.429161,
          -118.338673
         ],
         "mode": "lines",
         "opacity": 1,
         "type": "scattergeo"
        },
        {
         "hoverinfo": "skip",
         "lat": [
          33.92268,
          37.364781
         ],
         "line": {
          "color": "red",
          "width": 1
         },
         "lon": [
          -118.338673,
          -121.932211
         ],
         "mode": "lines",
         "opacity": 1,
         "type": "scattergeo"
        },
        {
         "hoverinfo": "skip",
         "lat": [
          37.364781,
          33.937592
         ],
         "line": {
          "color": "red",
          "width": 1
         },
         "lon": [
          -121.932211,
          -118.402125
         ],
         "mode": "lines",
         "opacity": 1,
         "type": "scattergeo"
        },
        {
         "hoverinfo": "skip",
         "lat": [
          33.937592,
          37.366608
         ],
         "line": {
          "color": "red",
          "width": 1
         },
         "lon": [
          -118.402125,
          -121.934226
         ],
         "mode": "lines",
         "opacity": 1,
         "type": "scattergeo"
        },
        {
         "hoverinfo": "skip",
         "lat": [
          37.366608,
          33.816845
         ],
         "line": {
          "color": "red",
          "width": 1
         },
         "lon": [
          -121.934226,
          -118.150238
         ],
         "mode": "lines",
         "opacity": 1,
         "type": "scattergeo"
        },
        {
         "hoverinfo": "skip",
         "lat": [
          33.816845,
          33.922604
         ],
         "line": {
          "color": "red",
          "width": 1
         },
         "lon": [
          -118.150238,
          -118.339949
         ],
         "mode": "lines",
         "opacity": 1,
         "type": "scattergeo"
        },
        {
         "hoverinfo": "skip",
         "lat": [
          33.922604,
          30.19154
         ],
         "line": {
          "color": "red",
          "width": 1
         },
         "lon": [
          -118.339949,
          -97.657592
         ],
         "mode": "lines",
         "opacity": 1,
         "type": "scattergeo"
        },
        {
         "hoverinfo": "skip",
         "lat": [
          30.19154,
          33.948394
         ],
         "line": {
          "color": "red",
          "width": 1
         },
         "lon": [
          -97.657592,
          -118.419342
         ],
         "mode": "lines",
         "opacity": 1,
         "type": "scattergeo"
        },
        {
         "hoverinfo": "skip",
         "lat": [
          33.948394,
          33.933788
         ],
         "line": {
          "color": "red",
          "width": 1
         },
         "lon": [
          -118.419342,
          -118.405752
         ],
         "mode": "lines",
         "opacity": 1,
         "type": "scattergeo"
        },
        {
         "hoverinfo": "skip",
         "lat": [
          33.933788,
          33.936023
         ],
         "line": {
          "color": "red",
          "width": 1
         },
         "lon": [
          -118.405752,
          -118.383951
         ],
         "mode": "lines",
         "opacity": 1,
         "type": "scattergeo"
        },
        {
         "hoverinfo": "skip",
         "lat": [
          33.936023,
          33.922668
         ],
         "line": {
          "color": "red",
          "width": 1
         },
         "lon": [
          -118.383951,
          -118.338967
         ],
         "mode": "lines",
         "opacity": 1,
         "type": "scattergeo"
        },
        {
         "hoverinfo": "skip",
         "lat": [
          33.922668,
          37.364159
         ],
         "line": {
          "color": "red",
          "width": 1
         },
         "lon": [
          -118.338967,
          -121.9315
         ],
         "mode": "lines",
         "opacity": 1,
         "type": "scattergeo"
        },
        {
         "hoverinfo": "skip",
         "lat": [
          37.364159,
          33.922767
         ],
         "line": {
          "color": "red",
          "width": 1
         },
         "lon": [
          -121.9315,
          -118.337045
         ],
         "mode": "lines",
         "opacity": 1,
         "type": "scattergeo"
        },
        {
         "hoverinfo": "skip",
         "lat": [
          33.922767,
          30.19186
         ],
         "line": {
          "color": "red",
          "width": 1
         },
         "lon": [
          -118.337045,
          -97.657592
         ],
         "mode": "lines",
         "opacity": 1,
         "type": "scattergeo"
        },
        {
         "hoverinfo": "skip",
         "lat": [
          30.19186,
          47.5299
         ],
         "line": {
          "color": "red",
          "width": 1
         },
         "lon": [
          -97.657592,
          -122.302362
         ],
         "mode": "lines",
         "opacity": 1,
         "type": "scattergeo"
        },
        {
         "hoverinfo": "skip",
         "lat": [
          47.5299,
          37.365864
         ],
         "line": {
          "color": "red",
          "width": 1
         },
         "lon": [
          -122.302362,
          -121.933405
         ],
         "mode": "lines",
         "opacity": 1,
         "type": "scattergeo"
        },
        {
         "hoverinfo": "skip",
         "lat": [
          37.365864,
          33.922771
         ],
         "line": {
          "color": "red",
          "width": 1
         },
         "lon": [
          -121.933405,
          -118.336865
         ],
         "mode": "lines",
         "opacity": 1,
         "type": "scattergeo"
        },
        {
         "hoverinfo": "skip",
         "lat": [
          33.922771,
          30.193653
         ],
         "line": {
          "color": "red",
          "width": 1
         },
         "lon": [
          -118.336865,
          -97.657635
         ],
         "mode": "lines",
         "opacity": 1,
         "type": "scattergeo"
        },
        {
         "hoverinfo": "skip",
         "lat": [
          30.193653,
          33.922726
         ],
         "line": {
          "color": "red",
          "width": 1
         },
         "lon": [
          -97.657635,
          -118.337762
         ],
         "mode": "lines",
         "opacity": 1,
         "type": "scattergeo"
        },
        {
         "hoverinfo": "skip",
         "lat": [
          33.922726,
          37.364967
         ],
         "line": {
          "color": "red",
          "width": 1
         },
         "lon": [
          -118.337762,
          -121.932419
         ],
         "mode": "lines",
         "opacity": 1,
         "type": "scattergeo"
        },
        {
         "hoverinfo": "skip",
         "lat": [
          37.364967,
          33.922646
         ],
         "line": {
          "color": "red",
          "width": 1
         },
         "lon": [
          -121.932419,
          -118.339486
         ],
         "mode": "lines",
         "opacity": 1,
         "type": "scattergeo"
        },
        {
         "hoverinfo": "skip",
         "lat": [
          33.922646,
          37.365314
         ],
         "line": {
          "color": "red",
          "width": 1
         },
         "lon": [
          -118.339486,
          -121.932815
         ],
         "mode": "lines",
         "opacity": 1,
         "type": "scattergeo"
        },
        {
         "hoverinfo": "skip",
         "lat": [
          37.365314,
          33.922662
         ],
         "line": {
          "color": "red",
          "width": 1
         },
         "lon": [
          -121.932815,
          -118.339005
         ],
         "mode": "lines",
         "opacity": 1,
         "type": "scattergeo"
        },
        {
         "hoverinfo": "skip",
         "lat": [
          33.922662,
          28.102061
         ],
         "line": {
          "color": "red",
          "width": 1
         },
         "lon": [
          -118.339005,
          -80.645465
         ],
         "mode": "lines",
         "opacity": 1,
         "type": "scattergeo"
        },
        {
         "hoverinfo": "skip",
         "lat": [
          28.102061,
          28.515015
         ],
         "line": {
          "color": "red",
          "width": 1
         },
         "lon": [
          -80.645465,
          -80.796742
         ],
         "mode": "lines",
         "opacity": 1,
         "type": "scattergeo"
        },
        {
         "hoverinfo": "skip",
         "lat": [
          28.515015,
          28.102189
         ],
         "line": {
          "color": "red",
          "width": 1
         },
         "lon": [
          -80.796742,
          -80.642664
         ],
         "mode": "lines",
         "opacity": 1,
         "type": "scattergeo"
        },
        {
         "hoverinfo": "skip",
         "lat": [
          28.102189,
          25.803545
         ],
         "line": {
          "color": "red",
          "width": 1
         },
         "lon": [
          -80.642664,
          -80.286479
         ],
         "mode": "lines",
         "opacity": 1,
         "type": "scattergeo"
        },
        {
         "hoverinfo": "skip",
         "lat": [
          25.803545,
          33.922852
         ],
         "line": {
          "color": "red",
          "width": 1
         },
         "lon": [
          -80.286479,
          -118.335029
         ],
         "mode": "lines",
         "opacity": 1,
         "type": "scattergeo"
        },
        {
         "hoverinfo": "skip",
         "lat": [
          33.922852,
          25.801403
         ],
         "line": {
          "color": "red",
          "width": 1
         },
         "lon": [
          -118.335029,
          -80.28442
         ],
         "mode": "lines",
         "opacity": 1,
         "type": "scattergeo"
        },
        {
         "hoverinfo": "skip",
         "lat": [
          25.801403,
          40.854919
         ],
         "line": {
          "color": "red",
          "width": 1
         },
         "lon": [
          -80.28442,
          -74.05826
         ],
         "mode": "lines",
         "opacity": 1,
         "type": "scattergeo"
        },
        {
         "hoverinfo": "skip",
         "lat": [
          40.854919,
          33.935726
         ],
         "line": {
          "color": "red",
          "width": 1
         },
         "lon": [
          -74.05826,
          -118.398761
         ],
         "mode": "lines",
         "opacity": 1,
         "type": "scattergeo"
        },
        {
         "hoverinfo": "skip",
         "lat": [
          33.935726,
          33.944469
         ],
         "line": {
          "color": "red",
          "width": 1
         },
         "lon": [
          -118.398761,
          -118.417889
         ],
         "mode": "lines",
         "opacity": 1,
         "type": "scattergeo"
        },
        {
         "hoverinfo": "skip",
         "lat": [
          33.944469,
          33.922767
         ],
         "line": {
          "color": "red",
          "width": 1
         },
         "lon": [
          -118.417889,
          -118.336902
         ],
         "mode": "lines",
         "opacity": 1,
         "type": "scattergeo"
        },
        {
         "hoverinfo": "skip",
         "lat": [
          33.922767,
          37.366446
         ],
         "line": {
          "color": "red",
          "width": 1
         },
         "lon": [
          -118.336902,
          -121.934002
         ],
         "mode": "lines",
         "opacity": 1,
         "type": "scattergeo"
        },
        {
         "hoverinfo": "skip",
         "lat": [
          37.366446,
          51.875056
         ],
         "line": {
          "color": "red",
          "width": 1
         },
         "lon": [
          -121.934002,
          -0.366058
         ],
         "mode": "lines",
         "opacity": 1,
         "type": "scattergeo"
        },
        {
         "hoverinfo": "skip",
         "lat": [
          51.875056,
          52.373108
         ],
         "line": {
          "color": "red",
          "width": 1
         },
         "lon": [
          -0.366058,
          13.507996
         ],
         "mode": "lines",
         "opacity": 1,
         "type": "scattergeo"
        },
        {
         "hoverinfo": "skip",
         "lat": [
          52.373108,
          37.617416
         ],
         "line": {
          "color": "red",
          "width": 1
         },
         "lon": [
          13.507996,
          -122.371976
         ],
         "mode": "lines",
         "opacity": 1,
         "type": "scattergeo"
        },
        {
         "hoverinfo": "skip",
         "lat": [
          37.617416,
          33.922732
         ],
         "line": {
          "color": "red",
          "width": 1
         },
         "lon": [
          -122.371976,
          -118.337574
         ],
         "mode": "lines",
         "opacity": 1,
         "type": "scattergeo"
        },
        {
         "hoverinfo": "skip",
         "lat": [
          33.922732,
          37.364967
         ],
         "line": {
          "color": "red",
          "width": 1
         },
         "lon": [
          -118.337574,
          -121.93239
         ],
         "mode": "lines",
         "opacity": 1,
         "type": "scattergeo"
        },
        {
         "hoverinfo": "skip",
         "lat": [
          37.364967,
          33.922744
         ],
         "line": {
          "color": "red",
          "width": 1
         },
         "lon": [
          -121.93239,
          -118.337159
         ],
         "mode": "lines",
         "opacity": 1,
         "type": "scattergeo"
        },
        {
         "hoverinfo": "skip",
         "lat": [
          33.922744,
          37.366027
         ],
         "line": {
          "color": "red",
          "width": 1
         },
         "lon": [
          -118.337159,
          -121.933569
         ],
         "mode": "lines",
         "opacity": 1,
         "type": "scattergeo"
        },
        {
         "hoverinfo": "skip",
         "lat": [
          37.366027,
          33.922714
         ],
         "line": {
          "color": "red",
          "width": 1
         },
         "lon": [
          -121.933569,
          -118.338056
         ],
         "mode": "lines",
         "opacity": 1,
         "type": "scattergeo"
        },
        {
         "hoverinfo": "skip",
         "lat": [
          33.922714,
          30.191431
         ],
         "line": {
          "color": "red",
          "width": 1
         },
         "lon": [
          -118.338056,
          -97.657594
         ],
         "mode": "lines",
         "opacity": 1,
         "type": "scattergeo"
        },
        {
         "hoverinfo": "skip",
         "lat": [
          30.191431,
          37.365177
         ],
         "line": {
          "color": "red",
          "width": 1
         },
         "lon": [
          -97.657594,
          -121.932643
         ],
         "mode": "lines",
         "opacity": 1,
         "type": "scattergeo"
        },
        {
         "hoverinfo": "skip",
         "lat": [
          37.365177,
          33.922794
         ],
         "line": {
          "color": "red",
          "width": 1
         },
         "lon": [
          -121.932643,
          -118.336347
         ],
         "mode": "lines",
         "opacity": 1,
         "type": "scattergeo"
        },
        {
         "hoverinfo": "skip",
         "lat": [
          33.922794,
          37.364781
         ],
         "line": {
          "color": "red",
          "width": 1
         },
         "lon": [
          -118.336347,
          -121.932181
         ],
         "mode": "lines",
         "opacity": 1,
         "type": "scattergeo"
        },
        {
         "hoverinfo": "skip",
         "lat": [
          37.364781,
          33.922714
         ],
         "line": {
          "color": "red",
          "width": 1
         },
         "lon": [
          -121.932181,
          -118.337888
         ],
         "mode": "lines",
         "opacity": 1,
         "type": "scattergeo"
        },
        {
         "hoverinfo": "skip",
         "lat": [
          33.922714,
          37.364351
         ],
         "line": {
          "color": "red",
          "width": 1
         },
         "lon": [
          -118.337888,
          -121.931703
         ],
         "mode": "lines",
         "opacity": 1,
         "type": "scattergeo"
        },
        {
         "hoverinfo": "skip",
         "lat": [
          37.364351,
          33.922817
         ],
         "line": {
          "color": "red",
          "width": 1
         },
         "lon": [
          -121.931703,
          -118.33587
         ],
         "mode": "lines",
         "opacity": 1,
         "type": "scattergeo"
        },
        {
         "hoverinfo": "skip",
         "lat": [
          33.922817,
          30.191185
         ],
         "line": {
          "color": "red",
          "width": 1
         },
         "lon": [
          -118.33587,
          -97.657578
         ],
         "mode": "lines",
         "opacity": 1,
         "type": "scattergeo"
        },
        {
         "hoverinfo": "skip",
         "lat": [
          30.191185,
          33.922806
         ],
         "line": {
          "color": "red",
          "width": 1
         },
         "lon": [
          -97.657578,
          -118.336347
         ],
         "mode": "lines",
         "opacity": 1,
         "type": "scattergeo"
        },
        {
         "hoverinfo": "skip",
         "lat": [
          33.922806,
          37.364719
         ],
         "line": {
          "color": "red",
          "width": 1
         },
         "lon": [
          -118.336347,
          -121.932128
         ],
         "mode": "lines",
         "opacity": 1,
         "type": "scattergeo"
        },
        {
         "hoverinfo": "skip",
         "lat": [
          37.364719,
          30.191
         ],
         "line": {
          "color": "red",
          "width": 1
         },
         "lon": [
          -121.932128,
          -97.657581
         ],
         "mode": "lines",
         "opacity": 1,
         "type": "scattergeo"
        },
        {
         "hoverinfo": "skip",
         "lat": [
          30.191,
          33.935795
         ],
         "line": {
          "color": "red",
          "width": 1
         },
         "lon": [
          -97.657581,
          -118.398075
         ],
         "mode": "lines",
         "opacity": 1,
         "type": "scattergeo"
        },
        {
         "hoverinfo": "skip",
         "lat": [
          33.935795,
          33.922806
         ],
         "line": {
          "color": "red",
          "width": 1
         },
         "lon": [
          -118.398075,
          -118.336655
         ],
         "mode": "lines",
         "opacity": 1,
         "type": "scattergeo"
        },
        {
         "hoverinfo": "skip",
         "lat": [
          33.922806,
          37.364816
         ],
         "line": {
          "color": "red",
          "width": 1
         },
         "lon": [
          -118.336655,
          -121.932225
         ],
         "mode": "lines",
         "opacity": 1,
         "type": "scattergeo"
        },
        {
         "hoverinfo": "skip",
         "lat": [
          37.364816,
          33.922814
         ],
         "line": {
          "color": "red",
          "width": 1
         },
         "lon": [
          -121.932225,
          -118.336
         ],
         "mode": "lines",
         "opacity": 1,
         "type": "scattergeo"
        },
        {
         "hoverinfo": "skip",
         "lat": [
          33.922814,
          37.364914
         ],
         "line": {
          "color": "red",
          "width": 1
         },
         "lon": [
          -118.336,
          -121.932332
         ],
         "mode": "lines",
         "opacity": 1,
         "type": "scattergeo"
        },
        {
         "hoverinfo": "skip",
         "lat": [
          37.364914,
          25.903097
         ],
         "line": {
          "color": "red",
          "width": 1
         },
         "lon": [
          -121.932332,
          -97.420697
         ],
         "mode": "lines",
         "opacity": 1,
         "type": "scattergeo"
        },
        {
         "hoverinfo": "skip",
         "lat": [
          25.903097,
          32.289093
         ],
         "line": {
          "color": "red",
          "width": 1
         },
         "lon": [
          -97.420697,
          -106.918066
         ],
         "mode": "lines",
         "opacity": 1,
         "type": "scattergeo"
        },
        {
         "hoverinfo": "skip",
         "lat": [
          32.289093,
          39.879295
         ],
         "line": {
          "color": "red",
          "width": 1
         },
         "lon": [
          -106.918066,
          -75.231927
         ],
         "mode": "lines",
         "opacity": 1,
         "type": "scattergeo"
        },
        {
         "hoverinfo": "skip",
         "lat": [
          39.879295,
          25.905994
         ],
         "line": {
          "color": "red",
          "width": 1
         },
         "lon": [
          -75.231927,
          -97.423853
         ],
         "mode": "lines",
         "opacity": 1,
         "type": "scattergeo"
        },
        {
         "hoverinfo": "skip",
         "lat": [
          25.905994,
          33.922569
         ],
         "line": {
          "color": "red",
          "width": 1
         },
         "lon": [
          -97.423853,
          -118.34105
         ],
         "mode": "lines",
         "opacity": 1,
         "type": "scattergeo"
        },
        {
         "hoverinfo": "skip",
         "lat": [
          33.922569,
          37.363037
         ],
         "line": {
          "color": "red",
          "width": 1
         },
         "lon": [
          -118.34105,
          -121.930287
         ],
         "mode": "lines",
         "opacity": 1,
         "type": "scattergeo"
        },
        {
         "hoverinfo": "skip",
         "lat": [
          37.363037,
          25.902875
         ],
         "line": {
          "color": "red",
          "width": 1
         },
         "lon": [
          -121.930287,
          -97.420472
         ],
         "mode": "lines",
         "opacity": 1,
         "type": "scattergeo"
        },
        {
         "hoverinfo": "skip",
         "lat": [
          25.902875,
          33.935837
         ],
         "line": {
          "color": "red",
          "width": 1
         },
         "lon": [
          -97.420472,
          -118.397713
         ],
         "mode": "lines",
         "opacity": 1,
         "type": "scattergeo"
        },
        {
         "hoverinfo": "skip",
         "lat": [
          33.935837,
          25.905052
         ],
         "line": {
          "color": "red",
          "width": 1
         },
         "lon": [
          -118.397713,
          -97.422823
         ],
         "mode": "lines",
         "opacity": 1,
         "type": "scattergeo"
        },
        {
         "hoverinfo": "skip",
         "lat": [
          25.905052,
          30.191208
         ],
         "line": {
          "color": "red",
          "width": 1
         },
         "lon": [
          -97.422823,
          -97.659679
         ],
         "mode": "lines",
         "opacity": 1,
         "type": "scattergeo"
        },
        {
         "hoverinfo": "skip",
         "lat": [
          30.191208,
          28.51363
         ],
         "line": {
          "color": "red",
          "width": 1
         },
         "lon": [
          -97.659679,
          -80.796732
         ],
         "mode": "lines",
         "opacity": 1,
         "type": "scattergeo"
        },
        {
         "hoverinfo": "skip",
         "lat": [
          28.51363,
          25.904766
         ],
         "line": {
          "color": "red",
          "width": 1
         },
         "lon": [
          -80.796732,
          -97.422521
         ],
         "mode": "lines",
         "opacity": 1,
         "type": "scattergeo"
        },
        {
         "hoverinfo": "skip",
         "lat": [
          25.904766,
          28.516981
         ],
         "line": {
          "color": "red",
          "width": 1
         },
         "lon": [
          -97.422521,
          -80.796769
         ],
         "mode": "lines",
         "opacity": 1,
         "type": "scattergeo"
        },
        {
         "hoverinfo": "skip",
         "lat": [
          28.516981,
          25.905261
         ],
         "line": {
          "color": "red",
          "width": 1
         },
         "lon": [
          -80.796769,
          -97.42306
         ],
         "mode": "lines",
         "opacity": 1,
         "type": "scattergeo"
        },
        {
         "hoverinfo": "skip",
         "lat": [
          25.905261,
          28.51413
         ],
         "line": {
          "color": "red",
          "width": 1
         },
         "lon": [
          -97.42306,
          -80.796729
         ],
         "mode": "lines",
         "opacity": 1,
         "type": "scattergeo"
        },
        {
         "hoverinfo": "skip",
         "lat": [
          28.51413,
          25.90274
         ],
         "line": {
          "color": "red",
          "width": 1
         },
         "lon": [
          -80.796729,
          -97.420306
         ],
         "mode": "lines",
         "opacity": 1,
         "type": "scattergeo"
        },
        {
         "hoverinfo": "skip",
         "lat": [
          25.90274,
          28.5137
         ],
         "line": {
          "color": "red",
          "width": 1
         },
         "lon": [
          -97.420306,
          -80.795355
         ],
         "mode": "lines",
         "opacity": 1,
         "type": "scattergeo"
        },
        {
         "hoverinfo": "skip",
         "lat": [
          28.5137,
          25.903976
         ],
         "line": {
          "color": "red",
          "width": 1
         },
         "lon": [
          -80.795355,
          -97.421679
         ],
         "mode": "lines",
         "opacity": 1,
         "type": "scattergeo"
        },
        {
         "hoverinfo": "skip",
         "lat": [
          25.903976,
          30.191163
         ],
         "line": {
          "color": "red",
          "width": 1
         },
         "lon": [
          -97.421679,
          -97.657581
         ],
         "mode": "lines",
         "opacity": 1,
         "type": "scattergeo"
        },
        {
         "hoverinfo": "skip",
         "lat": [
          30.191163,
          25.904148
         ],
         "line": {
          "color": "red",
          "width": 1
         },
         "lon": [
          -97.657581,
          -97.421861
         ],
         "mode": "lines",
         "opacity": 1,
         "type": "scattergeo"
        },
        {
         "hoverinfo": "skip",
         "lat": [
          25.904148,
          28.512165
         ],
         "line": {
          "color": "red",
          "width": 1
         },
         "lon": [
          -97.421861,
          -80.796679
         ],
         "mode": "lines",
         "opacity": 1,
         "type": "scattergeo"
        },
        {
         "hoverinfo": "skip",
         "lat": [
          28.512165,
          25.903542
         ],
         "line": {
          "color": "red",
          "width": 1
         },
         "lon": [
          -80.796679,
          -97.421187
         ],
         "mode": "lines",
         "opacity": 1,
         "type": "scattergeo"
        },
        {
         "hoverinfo": "skip",
         "lat": [
          25.903542,
          28.513688
         ],
         "line": {
          "color": "red",
          "width": 1
         },
         "lon": [
          -97.421187,
          -80.796715
         ],
         "mode": "lines",
         "opacity": 1,
         "type": "scattergeo"
        },
        {
         "hoverinfo": "skip",
         "lat": [
          28.513688,
          25.905843
         ],
         "line": {
          "color": "red",
          "width": 1
         },
         "lon": [
          -80.796715,
          -97.423694
         ],
         "mode": "lines",
         "opacity": 1,
         "type": "scattergeo"
        },
        {
         "hoverinfo": "skip",
         "lat": [
          25.905843,
          33.922755
         ],
         "line": {
          "color": "red",
          "width": 1
         },
         "lon": [
          -97.423694,
          -118.337188
         ],
         "mode": "lines",
         "opacity": 1,
         "type": "scattergeo"
        },
        {
         "hoverinfo": "skip",
         "lat": [
          33.922755,
          25.904458
         ],
         "line": {
          "color": "red",
          "width": 1
         },
         "lon": [
          -118.337188,
          -97.422189
         ],
         "mode": "lines",
         "opacity": 1,
         "type": "scattergeo"
        },
        {
         "hoverinfo": "skip",
         "lat": [
          25.904458,
          33.922639
         ],
         "line": {
          "color": "red",
          "width": 1
         },
         "lon": [
          -97.422189,
          -118.339434
         ],
         "mode": "lines",
         "opacity": 1,
         "type": "scattergeo"
        },
        {
         "hoverinfo": "skip",
         "lat": [
          33.922639,
          25.904877
         ],
         "line": {
          "color": "red",
          "width": 1
         },
         "lon": [
          -118.339434,
          -97.422638
         ],
         "mode": "lines",
         "opacity": 1,
         "type": "scattergeo"
        },
        {
         "hoverinfo": "skip",
         "lat": [
          25.904877,
          28.518192
         ],
         "line": {
          "color": "red",
          "width": 1
         },
         "lon": [
          -97.422638,
          -80.796796
         ],
         "mode": "lines",
         "opacity": 1,
         "type": "scattergeo"
        },
        {
         "hoverinfo": "skip",
         "lat": [
          28.518192,
          25.902832
         ],
         "line": {
          "color": "red",
          "width": 1
         },
         "lon": [
          -80.796796,
          -97.420423
         ],
         "mode": "lines",
         "opacity": 1,
         "type": "scattergeo"
        },
        {
         "hoverinfo": "skip",
         "lat": [
          25.902832,
          30.191966
         ],
         "line": {
          "color": "red",
          "width": 1
         },
         "lon": [
          -97.420423,
          -97.657608
         ],
         "mode": "lines",
         "opacity": 1,
         "type": "scattergeo"
        },
        {
         "hoverinfo": "skip",
         "lat": [
          30.191966,
          25.904074
         ],
         "line": {
          "color": "red",
          "width": 1
         },
         "lon": [
          -97.657608,
          -97.42178
         ],
         "mode": "lines",
         "opacity": 1,
         "type": "scattergeo"
        },
        {
         "hoverinfo": "skip",
         "lat": [
          25.904074,
          33.922794
         ],
         "line": {
          "color": "red",
          "width": 1
         },
         "lon": [
          -97.42178,
          -118.336501
         ],
         "mode": "lines",
         "opacity": 1,
         "type": "scattergeo"
        },
        {
         "hoverinfo": "skip",
         "lat": [
          33.922794,
          25.906311
         ],
         "line": {
          "color": "red",
          "width": 1
         },
         "lon": [
          -118.336501,
          -97.424206
         ],
         "mode": "lines",
         "opacity": 1,
         "type": "scattergeo"
        },
        {
         "hoverinfo": "skip",
         "lat": [
          25.906311,
          33.922829
         ],
         "line": {
          "color": "red",
          "width": 1
         },
         "lon": [
          -97.424206,
          -118.335674
         ],
         "mode": "lines",
         "opacity": 1,
         "type": "scattergeo"
        },
        {
         "hoverinfo": "skip",
         "lat": [
          33.922829,
          25.905899
         ],
         "line": {
          "color": "red",
          "width": 1
         },
         "lon": [
          -118.335674,
          -97.423765
         ],
         "mode": "lines",
         "opacity": 1,
         "type": "scattergeo"
        },
        {
         "hoverinfo": "skip",
         "lat": [
          25.905899,
          28.51228
         ],
         "line": {
          "color": "red",
          "width": 1
         },
         "lon": [
          -97.423765,
          -80.796917
         ],
         "mode": "lines",
         "opacity": 1,
         "type": "scattergeo"
        },
        {
         "hoverinfo": "skip",
         "lat": [
          28.51228,
          25.906239
         ],
         "line": {
          "color": "red",
          "width": 1
         },
         "lon": [
          -80.796917,
          -97.424117
         ],
         "mode": "lines",
         "opacity": 1,
         "type": "scattergeo"
        },
        {
         "hoverinfo": "skip",
         "lat": [
          25.906239,
          37.363804
         ],
         "line": {
          "color": "red",
          "width": 1
         },
         "lon": [
          -97.424117,
          -121.931121
         ],
         "mode": "lines",
         "opacity": 1,
         "type": "scattergeo"
        },
        {
         "hoverinfo": "skip",
         "lat": [
          37.363804,
          33.922806
         ],
         "line": {
          "color": "red",
          "width": 1
         },
         "lon": [
          -121.931121,
          -118.336038
         ],
         "mode": "lines",
         "opacity": 1,
         "type": "scattergeo"
        },
        {
         "hoverinfo": "skip",
         "lat": [
          33.922806,
          37.365282
         ],
         "line": {
          "color": "red",
          "width": 1
         },
         "lon": [
          -118.336038,
          -121.932733
         ],
         "mode": "lines",
         "opacity": 1,
         "type": "scattergeo"
        },
        {
         "hoverinfo": "skip",
         "lat": [
          37.365282,
          33.950768
         ],
         "line": {
          "color": "red",
          "width": 1
         },
         "lon": [
          -121.932733,
          -118.415151
         ],
         "mode": "lines",
         "opacity": 1,
         "type": "scattergeo"
        },
        {
         "hoverinfo": "skip",
         "lat": [
          33.950768,
          33.932831
         ],
         "line": {
          "color": "red",
          "width": 1
         },
         "lon": [
          -118.415151,
          -118.418029
         ],
         "mode": "lines",
         "opacity": 1,
         "type": "scattergeo"
        },
        {
         "hoverinfo": "skip",
         "lat": [
          33.932831,
          33.934824
         ],
         "line": {
          "color": "red",
          "width": 1
         },
         "lon": [
          -118.418029,
          -118.395581
         ],
         "mode": "lines",
         "opacity": 1,
         "type": "scattergeo"
        },
        {
         "hoverinfo": "skip",
         "lat": [
          33.934824,
          52.352921
         ],
         "line": {
          "color": "red",
          "width": 1
         },
         "lon": [
          -118.395581,
          13.499908
         ],
         "mode": "lines",
         "opacity": 1,
         "type": "scattergeo"
        },
        {
         "hoverinfo": "skip",
         "lat": [
          52.352921,
          52.370674
         ],
         "line": {
          "color": "red",
          "width": 1
         },
         "lon": [
          13.499908,
          13.511594
         ],
         "mode": "lines",
         "opacity": 1,
         "type": "scattergeo"
        },
        {
         "hoverinfo": "skip",
         "lat": [
          52.370674,
          33.922657
         ],
         "line": {
          "color": "red",
          "width": 1
         },
         "lon": [
          13.511594,
          -118.338729
         ],
         "mode": "lines",
         "opacity": 1,
         "type": "scattergeo"
        },
        {
         "hoverinfo": "skip",
         "lat": [
          33.922657,
          25.902958
         ],
         "line": {
          "color": "red",
          "width": 1
         },
         "lon": [
          -118.338729,
          -97.431176
         ],
         "mode": "lines",
         "opacity": 1,
         "type": "scattergeo"
        },
        {
         "hoverinfo": "skip",
         "lat": [
          25.902958,
          37.361847
         ],
         "line": {
          "color": "red",
          "width": 1
         },
         "lon": [
          -97.431176,
          -121.928972
         ],
         "mode": "lines",
         "opacity": 1,
         "type": "scattergeo"
        },
        {
         "hoverinfo": "skip",
         "lat": [
          37.361847,
          33.922806
         ],
         "line": {
          "color": "red",
          "width": 1
         },
         "lon": [
          -121.928972,
          -118.336165
         ],
         "mode": "lines",
         "opacity": 1,
         "type": "scattergeo"
        },
        {
         "hoverinfo": "skip",
         "lat": [
          33.922806,
          33.935966
         ],
         "line": {
          "color": "red",
          "width": 1
         },
         "lon": [
          -118.336165,
          -118.396337
         ],
         "mode": "lines",
         "opacity": 1,
         "type": "scattergeo"
        },
        {
         "hoverinfo": "skip",
         "lat": [
          33.935966,
          25.90383
         ],
         "line": {
          "color": "red",
          "width": 1
         },
         "lon": [
          -118.396337,
          -97.421502
         ],
         "mode": "lines",
         "opacity": 1,
         "type": "scattergeo"
        },
        {
         "hoverinfo": "skip",
         "lat": [
          25.90383,
          30.193748
         ],
         "line": {
          "color": "red",
          "width": 1
         },
         "lon": [
          -97.421502,
          -97.657646
         ],
         "mode": "lines",
         "opacity": 1,
         "type": "scattergeo"
        },
        {
         "hoverinfo": "skip",
         "lat": [
          30.193748,
          33.922668
         ],
         "line": {
          "color": "red",
          "width": 1
         },
         "lon": [
          -97.657646,
          -118.338953
         ],
         "mode": "lines",
         "opacity": 1,
         "type": "scattergeo"
        },
        {
         "hoverinfo": "skip",
         "lat": [
          33.922668,
          37.365049
         ],
         "line": {
          "color": "red",
          "width": 1
         },
         "lon": [
          -118.338953,
          -121.932494
         ],
         "mode": "lines",
         "opacity": 1,
         "type": "scattergeo"
        },
        {
         "hoverinfo": "skip",
         "lat": [
          37.365049,
          33.935806
         ],
         "line": {
          "color": "red",
          "width": 1
         },
         "lon": [
          -121.932494,
          -118.398131
         ],
         "mode": "lines",
         "opacity": 1,
         "type": "scattergeo"
        },
        {
         "hoverinfo": "skip",
         "lat": [
          33.935806,
          33.92276
         ],
         "line": {
          "color": "red",
          "width": 1
         },
         "lon": [
          -118.398131,
          -118.336991
         ],
         "mode": "lines",
         "opacity": 1,
         "type": "scattergeo"
        },
        {
         "hoverinfo": "skip",
         "lat": [
          33.92276,
          30.19242
         ],
         "line": {
          "color": "red",
          "width": 1
         },
         "lon": [
          -118.336991,
          -97.657608
         ],
         "mode": "lines",
         "opacity": 1,
         "type": "scattergeo"
        },
        {
         "hoverinfo": "skip",
         "lat": [
          30.19242,
          33.922703
         ],
         "line": {
          "color": "red",
          "width": 1
         },
         "lon": [
          -97.657608,
          -118.338252
         ],
         "mode": "lines",
         "opacity": 1,
         "type": "scattergeo"
        },
        {
         "hoverinfo": "skip",
         "lat": [
          33.922703,
          30.191288
         ],
         "line": {
          "color": "red",
          "width": 1
         },
         "lon": [
          -118.338252,
          -97.657578
         ],
         "mode": "lines",
         "opacity": 1,
         "type": "scattergeo"
        },
        {
         "hoverinfo": "skip",
         "lat": [
          30.191288,
          25.90383
         ],
         "line": {
          "color": "red",
          "width": 1
         },
         "lon": [
          -97.657578,
          -97.421489
         ],
         "mode": "lines",
         "opacity": 1,
         "type": "scattergeo"
        },
        {
         "hoverinfo": "skip",
         "lat": [
          25.90383,
          40.85024
         ],
         "line": {
          "color": "red",
          "width": 1
         },
         "lon": [
          -97.421489,
          -74.061709
         ],
         "mode": "lines",
         "opacity": 1,
         "type": "scattergeo"
        },
        {
         "hoverinfo": "skip",
         "lat": [
          40.85024,
          25.903388
         ],
         "line": {
          "color": "red",
          "width": 1
         },
         "lon": [
          -74.061709,
          -97.421014
         ],
         "mode": "lines",
         "opacity": 1,
         "type": "scattergeo"
        },
        {
         "hoverinfo": "skip",
         "lat": [
          25.903388,
          40.853604
         ],
         "line": {
          "color": "red",
          "width": 1
         },
         "lon": [
          -97.421014,
          -74.060196
         ],
         "mode": "lines",
         "opacity": 1,
         "type": "scattergeo"
        },
        {
         "hoverinfo": "skip",
         "lat": [
          40.853604,
          25.90291
         ],
         "line": {
          "color": "red",
          "width": 1
         },
         "lon": [
          -74.060196,
          -97.429359
         ],
         "mode": "lines",
         "opacity": 1,
         "type": "scattergeo"
        },
        {
         "hoverinfo": "skip",
         "lat": [
          25.90291,
          28.432326
         ],
         "line": {
          "color": "red",
          "width": 1
         },
         "lon": [
          -97.429359,
          -81.326806
         ],
         "mode": "lines",
         "opacity": 1,
         "type": "scattergeo"
        },
        {
         "hoverinfo": "skip",
         "lat": [
          28.432326,
          25.905017
         ],
         "line": {
          "color": "red",
          "width": 1
         },
         "lon": [
          -81.326806,
          -97.422796
         ],
         "mode": "lines",
         "opacity": 1,
         "type": "scattergeo"
        },
        {
         "hoverinfo": "skip",
         "lat": [
          25.905017,
          30.192292
         ],
         "line": {
          "color": "red",
          "width": 1
         },
         "lon": [
          -97.422796,
          -97.657594
         ],
         "mode": "lines",
         "opacity": 1,
         "type": "scattergeo"
        },
        {
         "hoverinfo": "skip",
         "lat": [
          30.192292,
          33.92276
         ],
         "line": {
          "color": "red",
          "width": 1
         },
         "lon": [
          -97.657594,
          -118.337159
         ],
         "mode": "lines",
         "opacity": 1,
         "type": "scattergeo"
        },
        {
         "hoverinfo": "skip",
         "lat": [
          33.92276,
          37.365372
         ],
         "line": {
          "color": "red",
          "width": 1
         },
         "lon": [
          -118.337159,
          -121.932829
         ],
         "mode": "lines",
         "opacity": 1,
         "type": "scattergeo"
        },
        {
         "hoverinfo": "skip",
         "lat": [
          37.365372,
          30.191597
         ],
         "line": {
          "color": "red",
          "width": 1
         },
         "lon": [
          -121.932829,
          -97.657592
         ],
         "mode": "lines",
         "opacity": 1,
         "type": "scattergeo"
        },
        {
         "hoverinfo": "skip",
         "lat": [
          30.191597,
          25.904915
         ],
         "line": {
          "color": "red",
          "width": 1
         },
         "lon": [
          -97.657592,
          -97.422677
         ],
         "mode": "lines",
         "opacity": 1,
         "type": "scattergeo"
        },
        {
         "hoverinfo": "skip",
         "lat": [
          25.904915,
          30.19202
         ],
         "line": {
          "color": "red",
          "width": 1
         },
         "lon": [
          -97.422677,
          -97.657605
         ],
         "mode": "lines",
         "opacity": 1,
         "type": "scattergeo"
        },
        {
         "hoverinfo": "skip",
         "lat": [
          30.19202,
          25.90646
         ],
         "line": {
          "color": "red",
          "width": 1
         },
         "lon": [
          -97.657605,
          -97.424322
         ],
         "mode": "lines",
         "opacity": 1,
         "type": "scattergeo"
        },
        {
         "hoverinfo": "skip",
         "lat": [
          25.90646,
          30.191757
         ],
         "line": {
          "color": "red",
          "width": 1
         },
         "lon": [
          -97.424322,
          -97.657578
         ],
         "mode": "lines",
         "opacity": 1,
         "type": "scattergeo"
        },
        {
         "hoverinfo": "skip",
         "lat": [
          30.191757,
          52.350552
         ],
         "line": {
          "color": "red",
          "width": 1
         },
         "lon": [
          -97.657578,
          13.48999
         ],
         "mode": "lines",
         "opacity": 1,
         "type": "scattergeo"
        },
        {
         "hoverinfo": "skip",
         "lat": [
          52.350552,
          52.368672
         ],
         "line": {
          "color": "red",
          "width": 1
         },
         "lon": [
          13.48999,
          13.503178
         ],
         "mode": "lines",
         "opacity": 1,
         "type": "scattergeo"
        },
        {
         "hoverinfo": "skip",
         "lat": [
          52.368672,
          52.353322
         ],
         "line": {
          "color": "red",
          "width": 1
         },
         "lon": [
          13.503178,
          13.487601
         ],
         "mode": "lines",
         "opacity": 1,
         "type": "scattergeo"
        },
        {
         "hoverinfo": "skip",
         "lat": [
          52.353322,
          25.906926
         ],
         "line": {
          "color": "red",
          "width": 1
         },
         "lon": [
          13.487601,
          -97.42487
         ],
         "mode": "lines",
         "opacity": 1,
         "type": "scattergeo"
        },
        {
         "hoverinfo": "skip",
         "lat": [
          25.906926,
          33.922558
         ],
         "line": {
          "color": "red",
          "width": 1
         },
         "lon": [
          -97.42487,
          -118.341365
         ],
         "mode": "lines",
         "opacity": 1,
         "type": "scattergeo"
        },
        {
         "hoverinfo": "skip",
         "lat": [
          33.922558,
          37.365759
         ],
         "line": {
          "color": "red",
          "width": 1
         },
         "lon": [
          -118.341365,
          -121.930076
         ],
         "mode": "lines",
         "opacity": 1,
         "type": "scattergeo"
        },
        {
         "hoverinfo": "skip",
         "lat": [
          37.365759,
          30.191931
         ],
         "line": {
          "color": "red",
          "width": 1
         },
         "lon": [
          -121.930076,
          -97.657594
         ],
         "mode": "lines",
         "opacity": 1,
         "type": "scattergeo"
        },
        {
         "hoverinfo": "skip",
         "lat": [
          30.191931,
          25.904947
         ],
         "line": {
          "color": "red",
          "width": 1
         },
         "lon": [
          -97.657594,
          -97.422704
         ],
         "mode": "lines",
         "opacity": 1,
         "type": "scattergeo"
        },
        {
         "hoverinfo": "skip",
         "lat": [
          25.904947,
          30.191483
         ],
         "line": {
          "color": "red",
          "width": 1
         },
         "lon": [
          -97.422704,
          -97.657605
         ],
         "mode": "lines",
         "opacity": 1,
         "type": "scattergeo"
        },
        {
         "hoverinfo": "skip",
         "lat": [
          30.191483,
          25.906204
         ],
         "line": {
          "color": "red",
          "width": 1
         },
         "lon": [
          -97.657605,
          -97.42409
         ],
         "mode": "lines",
         "opacity": 1,
         "type": "scattergeo"
        },
        {
         "hoverinfo": "skip",
         "lat": [
          25.906204,
          33.951084
         ],
         "line": {
          "color": "red",
          "width": 1
         },
         "lon": [
          -97.42409,
          -118.411682
         ],
         "mode": "lines",
         "opacity": 1,
         "type": "scattergeo"
        },
        {
         "hoverinfo": "skip",
         "lat": [
          33.951084,
          33.933872
         ],
         "line": {
          "color": "red",
          "width": 1
         },
         "lon": [
          -118.411682,
          -118.404997
         ],
         "mode": "lines",
         "opacity": 1,
         "type": "scattergeo"
        },
        {
         "hoverinfo": "skip",
         "lat": [
          33.933872,
          33.936069
         ],
         "line": {
          "color": "red",
          "width": 1
         },
         "lon": [
          -118.404997,
          -118.383379
         ],
         "mode": "lines",
         "opacity": 1,
         "type": "scattergeo"
        },
        {
         "hoverinfo": "skip",
         "lat": [
          33.936069,
          33.922668
         ],
         "line": {
          "color": "red",
          "width": 1
         },
         "lon": [
          -118.383379,
          -118.338981
         ],
         "mode": "lines",
         "opacity": 1,
         "type": "scattergeo"
        },
        {
         "hoverinfo": "skip",
         "lat": [
          33.922668,
          25.905564
         ],
         "line": {
          "color": "red",
          "width": 1
         },
         "lon": [
          -118.338981,
          -97.423391
         ],
         "mode": "lines",
         "opacity": 1,
         "type": "scattergeo"
        },
        {
         "hoverinfo": "skip",
         "lat": [
          25.905564,
          30.192146
         ],
         "line": {
          "color": "red",
          "width": 1
         },
         "lon": [
          -97.423391,
          -97.657605
         ],
         "mode": "lines",
         "opacity": 1,
         "type": "scattergeo"
        },
        {
         "hoverinfo": "skip",
         "lat": [
          30.192146,
          33.819317
         ],
         "line": {
          "color": "red",
          "width": 1
         },
         "lon": [
          -97.657605,
          -118.153209
         ],
         "mode": "lines",
         "opacity": 1,
         "type": "scattergeo"
        },
        {
         "hoverinfo": "skip",
         "lat": [
          33.819317,
          30.192513
         ],
         "line": {
          "color": "red",
          "width": 1
         },
         "lon": [
          -118.153209,
          -97.657608
         ],
         "mode": "lines",
         "opacity": 1,
         "type": "scattergeo"
        },
        {
         "hoverinfo": "skip",
         "lat": [
          30.192513,
          25.903853
         ],
         "line": {
          "color": "red",
          "width": 1
         },
         "lon": [
          -97.657608,
          -97.421529
         ],
         "mode": "lines",
         "opacity": 1,
         "type": "scattergeo"
        },
        {
         "hoverinfo": "skip",
         "lat": [
          25.903853,
          25.930084
         ],
         "line": {
          "color": "red",
          "width": 1
         },
         "lon": [
          -97.421529,
          -97.351332
         ],
         "mode": "lines",
         "opacity": 1,
         "type": "scattergeo"
        },
        {
         "hoverinfo": "skip",
         "lat": [
          25.930084,
          25.939478
         ],
         "line": {
          "color": "red",
          "width": 1
         },
         "lon": [
          -97.351332,
          -97.374962
         ],
         "mode": "lines",
         "opacity": 1,
         "type": "scattergeo"
        },
        {
         "hoverinfo": "skip",
         "lat": [
          25.939478,
          25.938302
         ],
         "line": {
          "color": "red",
          "width": 1
         },
         "lon": [
          -97.374962,
          -97.399665
         ],
         "mode": "lines",
         "opacity": 1,
         "type": "scattergeo"
        },
        {
         "hoverinfo": "skip",
         "lat": [
          25.938302,
          25.985843
         ],
         "line": {
          "color": "red",
          "width": 1
         },
         "lon": [
          -97.399665,
          -97.368773
         ],
         "mode": "lines",
         "opacity": 1,
         "type": "scattergeo"
        },
        {
         "hoverinfo": "skip",
         "lat": [
          25.985843,
          30.190767
         ],
         "line": {
          "color": "red",
          "width": 1
         },
         "lon": [
          -97.368773,
          -97.657539
         ],
         "mode": "lines",
         "opacity": 1,
         "type": "scattergeo"
        },
        {
         "hoverinfo": "skip",
         "lat": [
          30.190767,
          25.905499
         ],
         "line": {
          "color": "red",
          "width": 1
         },
         "lon": [
          -97.657539,
          -97.423325
         ],
         "mode": "lines",
         "opacity": 1,
         "type": "scattergeo"
        },
        {
         "hoverinfo": "skip",
         "lat": [
          25.905499,
          30.188667
         ],
         "line": {
          "color": "red",
          "width": 1
         },
         "lon": [
          -97.423325,
          -97.657511
         ],
         "mode": "lines",
         "opacity": 1,
         "type": "scattergeo"
        },
        {
         "hoverinfo": "skip",
         "lat": [
          30.188667,
          25.902912
         ],
         "line": {
          "color": "red",
          "width": 1
         },
         "lon": [
          -97.657511,
          -97.420513
         ],
         "mode": "lines",
         "opacity": 1,
         "type": "scattergeo"
        },
        {
         "hoverinfo": "skip",
         "lat": [
          25.902912,
          39.881442
         ],
         "line": {
          "color": "red",
          "width": 1
         },
         "lon": [
          -97.420513,
          -75.233017
         ],
         "mode": "lines",
         "opacity": 1,
         "type": "scattergeo"
        },
        {
         "hoverinfo": "skip",
         "lat": [
          39.881442,
          25.903667
         ],
         "line": {
          "color": "red",
          "width": 1
         },
         "lon": [
          -75.233017,
          -97.421329
         ],
         "mode": "lines",
         "opacity": 1,
         "type": "scattergeo"
        },
        {
         "hoverinfo": "skip",
         "lat": [
          25.903667,
          40.850601
         ],
         "line": {
          "color": "red",
          "width": 1
         },
         "lon": [
          -97.421329,
          -74.060944
         ],
         "mode": "lines",
         "opacity": 1,
         "type": "scattergeo"
        },
        {
         "hoverinfo": "skip",
         "lat": [
          40.850601,
          25.906379
         ],
         "line": {
          "color": "red",
          "width": 1
         },
         "lon": [
          -74.060944,
          -97.424262
         ],
         "mode": "lines",
         "opacity": 1,
         "type": "scattergeo"
        },
        {
         "hoverinfo": "skip",
         "lat": [
          25.906379,
          30.192364
         ],
         "line": {
          "color": "red",
          "width": 1
         },
         "lon": [
          -97.424262,
          -97.657605
         ],
         "mode": "lines",
         "opacity": 1,
         "type": "scattergeo"
        },
        {
         "hoverinfo": "skip",
         "lat": [
          30.192364,
          25.909012
         ],
         "line": {
          "color": "red",
          "width": 1
         },
         "lon": [
          -97.657605,
          -97.429116
         ],
         "mode": "lines",
         "opacity": 1,
         "type": "scattergeo"
        },
        {
         "hoverinfo": "skip",
         "lat": [
          25.909012,
          30.19241
         ],
         "line": {
          "color": "red",
          "width": 1
         },
         "lon": [
          -97.429116,
          -97.657605
         ],
         "mode": "lines",
         "opacity": 1,
         "type": "scattergeo"
        },
        {
         "hoverinfo": "skip",
         "lat": [
          30.19241,
          25.909765
         ],
         "line": {
          "color": "red",
          "width": 1
         },
         "lon": [
          -97.657605,
          -97.429082
         ],
         "mode": "lines",
         "opacity": 1,
         "type": "scattergeo"
        },
        {
         "hoverinfo": "skip",
         "lat": [
          25.909765,
          30.192047
         ],
         "line": {
          "color": "red",
          "width": 1
         },
         "lon": [
          -97.429082,
          -97.657594
         ],
         "mode": "lines",
         "opacity": 1,
         "type": "scattergeo"
        },
        {
         "hoverinfo": "skip",
         "lat": [
          30.192047,
          33.922794
         ],
         "line": {
          "color": "red",
          "width": 1
         },
         "lon": [
          -97.657594,
          -118.336417
         ],
         "mode": "lines",
         "opacity": 1,
         "type": "scattergeo"
        },
        {
         "hoverinfo": "skip",
         "lat": [
          33.922794,
          30.192431
         ],
         "line": {
          "color": "red",
          "width": 1
         },
         "lon": [
          -118.336417,
          -97.657608
         ],
         "mode": "lines",
         "opacity": 1,
         "type": "scattergeo"
        },
        {
         "hoverinfo": "skip",
         "lat": [
          30.192431,
          33.922802
         ],
         "line": {
          "color": "red",
          "width": 1
         },
         "lon": [
          -97.657608,
          -118.336158
         ],
         "mode": "lines",
         "opacity": 1,
         "type": "scattergeo"
        },
        {
         "hoverinfo": "skip",
         "lat": [
          33.922802,
          30.191242
         ],
         "line": {
          "color": "red",
          "width": 1
         },
         "lon": [
          -118.336158,
          -97.657551
         ],
         "mode": "lines",
         "opacity": 1,
         "type": "scattergeo"
        },
        {
         "hoverinfo": "skip",
         "lat": [
          30.191242,
          25.80351
         ],
         "line": {
          "color": "red",
          "width": 1
         },
         "lon": [
          -97.657551,
          -80.287335
         ],
         "mode": "lines",
         "opacity": 1,
         "type": "scattergeo"
        },
        {
         "hoverinfo": "skip",
         "lat": [
          25.80351,
          25.90329
         ],
         "line": {
          "color": "red",
          "width": 1
         },
         "lon": [
          -80.287335,
          -97.420902
         ],
         "mode": "lines",
         "opacity": 1,
         "type": "scattergeo"
        },
        {
         "hoverinfo": "skip",
         "lat": [
          25.90329,
          30.191931
         ],
         "line": {
          "color": "red",
          "width": 1
         },
         "lon": [
          -97.420902,
          -97.657608
         ],
         "mode": "lines",
         "opacity": 1,
         "type": "scattergeo"
        },
        {
         "hoverinfo": "skip",
         "lat": [
          30.191931,
          25.904563
         ],
         "line": {
          "color": "red",
          "width": 1
         },
         "lon": [
          -97.657608,
          -97.422295
         ],
         "mode": "lines",
         "opacity": 1,
         "type": "scattergeo"
        },
        {
         "hoverinfo": "skip",
         "lat": [
          25.904563,
          30.192398
         ],
         "line": {
          "color": "red",
          "width": 1
         },
         "lon": [
          -97.422295,
          -97.657592
         ],
         "mode": "lines",
         "opacity": 1,
         "type": "scattergeo"
        },
        {
         "hoverinfo": "skip",
         "lat": [
          30.192398,
          33.92272
         ],
         "line": {
          "color": "red",
          "width": 1
         },
         "lon": [
          -97.657592,
          -118.33806
         ],
         "mode": "lines",
         "opacity": 1,
         "type": "scattergeo"
        },
        {
         "hoverinfo": "skip",
         "lat": [
          33.92272,
          30.191551
         ],
         "line": {
          "color": "red",
          "width": 1
         },
         "lon": [
          -118.33806,
          -97.657592
         ],
         "mode": "lines",
         "opacity": 1,
         "type": "scattergeo"
        },
        {
         "hoverinfo": "skip",
         "lat": [
          30.191551,
          25.905945
         ],
         "line": {
          "color": "red",
          "width": 1
         },
         "lon": [
          -97.657592,
          -97.423791
         ],
         "mode": "lines",
         "opacity": 1,
         "type": "scattergeo"
        },
        {
         "hoverinfo": "skip",
         "lat": [
          25.905945,
          30.192303
         ],
         "line": {
          "color": "red",
          "width": 1
         },
         "lon": [
          -97.423791,
          -97.657622
         ],
         "mode": "lines",
         "opacity": 1,
         "type": "scattergeo"
        },
        {
         "hoverinfo": "skip",
         "lat": [
          30.192303,
          25.90591
         ],
         "line": {
          "color": "red",
          "width": 1
         },
         "lon": [
          -97.657622,
          -97.423778
         ],
         "mode": "lines",
         "opacity": 1,
         "type": "scattergeo"
        },
        {
         "hoverinfo": "skip",
         "lat": [
          25.90591,
          30.191895
         ],
         "line": {
          "color": "red",
          "width": 1
         },
         "lon": [
          -97.423778,
          -97.657578
         ],
         "mode": "lines",
         "opacity": 1,
         "type": "scattergeo"
        },
        {
         "hoverinfo": "skip",
         "lat": [
          30.191895,
          25.903301
         ],
         "line": {
          "color": "red",
          "width": 1
         },
         "lon": [
          -97.657578,
          -97.429349
         ],
         "mode": "lines",
         "opacity": 1,
         "type": "scattergeo"
        },
        {
         "hoverinfo": "skip",
         "lat": [
          25.903301,
          30.191334
         ],
         "line": {
          "color": "red",
          "width": 1
         },
         "lon": [
          -97.429349,
          -97.657578
         ],
         "mode": "lines",
         "opacity": 1,
         "type": "scattergeo"
        },
        {
         "hoverinfo": "skip",
         "lat": [
          30.191334,
          33.922726
         ],
         "line": {
          "color": "red",
          "width": 1
         },
         "lon": [
          -97.657578,
          -118.337888
         ],
         "mode": "lines",
         "opacity": 1,
         "type": "scattergeo"
        },
        {
         "hoverinfo": "skip",
         "lat": [
          33.922726,
          30.19091
         ],
         "line": {
          "color": "red",
          "width": 1
         },
         "lon": [
          -118.337888,
          -97.657551
         ],
         "mode": "lines",
         "opacity": 1,
         "type": "scattergeo"
        },
        {
         "hoverinfo": "skip",
         "lat": [
          30.19091,
          37.364618
         ],
         "line": {
          "color": "red",
          "width": 1
         },
         "lon": [
          -97.657551,
          -121.932031
         ],
         "mode": "lines",
         "opacity": 1,
         "type": "scattergeo"
        },
        {
         "hoverinfo": "skip",
         "lat": [
          37.364618,
          33.922829
         ],
         "line": {
          "color": "red",
          "width": 1
         },
         "lon": [
          -121.932031,
          -118.335772
         ],
         "mode": "lines",
         "opacity": 1,
         "type": "scattergeo"
        },
        {
         "hoverinfo": "skip",
         "lat": [
          33.922829,
          30.190558
         ],
         "line": {
          "color": "red",
          "width": 1
         },
         "lon": [
          -118.335772,
          -97.657539
         ],
         "mode": "lines",
         "opacity": 1,
         "type": "scattergeo"
        },
        {
         "hoverinfo": "skip",
         "lat": [
          30.190558,
          20.898428
         ],
         "line": {
          "color": "red",
          "width": 1
         },
         "lon": [
          -97.657539,
          -156.429457
         ],
         "mode": "lines",
         "opacity": 1,
         "type": "scattergeo"
        },
        {
         "hoverinfo": "skip",
         "lat": [
          20.898428,
          30.192455
         ],
         "line": {
          "color": "red",
          "width": 1
         },
         "lon": [
          -156.429457,
          -97.657605
         ],
         "mode": "lines",
         "opacity": 1,
         "type": "scattergeo"
        },
        {
         "hoverinfo": "skip",
         "lat": [
          30.192455,
          33.922737
         ],
         "line": {
          "color": "red",
          "width": 1
         },
         "lon": [
          -97.657605,
          -118.33765
         ],
         "mode": "lines",
         "opacity": 1,
         "type": "scattergeo"
        },
        {
         "hoverinfo": "skip",
         "lat": [
          33.922737,
          25.905913
         ],
         "line": {
          "color": "red",
          "width": 1
         },
         "lon": [
          -118.33765,
          -97.42376
         ],
         "mode": "lines",
         "opacity": 1,
         "type": "scattergeo"
        },
        {
         "hoverinfo": "skip",
         "lat": [
          25.905913,
          30.191163
         ],
         "line": {
          "color": "red",
          "width": 1
         },
         "lon": [
          -97.42376,
          -97.657581
         ],
         "mode": "lines",
         "opacity": 1,
         "type": "scattergeo"
        },
        {
         "hoverinfo": "skip",
         "lat": [
          30.191163,
          33.922726
         ],
         "line": {
          "color": "red",
          "width": 1
         },
         "lon": [
          -97.657581,
          -118.337776
         ],
         "mode": "lines",
         "opacity": 1,
         "type": "scattergeo"
        },
        {
         "hoverinfo": "skip",
         "lat": [
          33.922726,
          30.190899
         ],
         "line": {
          "color": "red",
          "width": 1
         },
         "lon": [
          -118.337776,
          -97.657592
         ],
         "mode": "lines",
         "opacity": 1,
         "type": "scattergeo"
        },
        {
         "hoverinfo": "skip",
         "lat": [
          30.190899,
          37.363268
         ],
         "line": {
          "color": "red",
          "width": 1
         },
         "lon": [
          -97.657592,
          -121.930539
         ],
         "mode": "lines",
         "opacity": 1,
         "type": "scattergeo"
        },
        {
         "hoverinfo": "skip",
         "lat": [
          37.363268,
          30.191861
         ],
         "line": {
          "color": "red",
          "width": 1
         },
         "lon": [
          -121.930539,
          -97.657594
         ],
         "mode": "lines",
         "opacity": 1,
         "type": "scattergeo"
        },
        {
         "hoverinfo": "skip",
         "lat": [
          30.191861,
          25.898686
         ],
         "line": {
          "color": "red",
          "width": 1
         },
         "lon": [
          -97.657594,
          -97.429716
         ],
         "mode": "lines",
         "opacity": 1,
         "type": "scattergeo"
        },
        {
         "hoverinfo": "skip",
         "lat": [
          25.898686,
          30.192055
         ],
         "line": {
          "color": "red",
          "width": 1
         },
         "lon": [
          -97.429716,
          -97.657592
         ],
         "mode": "lines",
         "opacity": 1,
         "type": "scattergeo"
        },
        {
         "hoverinfo": "skip",
         "lat": [
          30.192055,
          34.211391
         ],
         "line": {
          "color": "red",
          "width": 1
         },
         "lon": [
          -97.657592,
          -118.490548
         ],
         "mode": "lines",
         "opacity": 1,
         "type": "scattergeo"
        },
        {
         "hoverinfo": "skip",
         "lat": [
          34.211391,
          30.189545
         ],
         "line": {
          "color": "red",
          "width": 1
         },
         "lon": [
          -118.490548,
          -97.661275
         ],
         "mode": "lines",
         "opacity": 1,
         "type": "scattergeo"
        },
        {
         "hoverinfo": "skip",
         "lat": [
          30.189545,
          49.187782
         ],
         "line": {
          "color": "red",
          "width": 1
         },
         "lon": [
          -97.661275,
          -123.187585
         ],
         "mode": "lines",
         "opacity": 1,
         "type": "scattergeo"
        },
        {
         "hoverinfo": "skip",
         "lat": [
          49.187782,
          47.529167
         ],
         "line": {
          "color": "red",
          "width": 1
         },
         "lon": [
          -123.187585,
          -122.301744
         ],
         "mode": "lines",
         "opacity": 1,
         "type": "scattergeo"
        },
        {
         "hoverinfo": "skip",
         "lat": [
          47.529167,
          30.190876
         ],
         "line": {
          "color": "red",
          "width": 1
         },
         "lon": [
          -122.301744,
          -97.657605
         ],
         "mode": "lines",
         "opacity": 1,
         "type": "scattergeo"
        },
        {
         "hoverinfo": "skip",
         "lat": [
          30.190876,
          33.923092
         ],
         "line": {
          "color": "red",
          "width": 1
         },
         "lon": [
          -97.657605,
          -118.340312
         ],
         "mode": "lines",
         "opacity": 1,
         "type": "scattergeo"
        },
        {
         "hoverinfo": "skip",
         "lat": [
          33.923092,
          30.1942
         ],
         "line": {
          "color": "red",
          "width": 1
         },
         "lon": [
          -118.340312,
          -97.657635
         ],
         "mode": "lines",
         "opacity": 1,
         "type": "scattergeo"
        },
        {
         "hoverinfo": "skip",
         "lat": [
          30.1942,
          25.9021
         ],
         "line": {
          "color": "red",
          "width": 1
         },
         "lon": [
          -97.657635,
          -97.419606
         ],
         "mode": "lines",
         "opacity": 1,
         "type": "scattergeo"
        },
        {
         "hoverinfo": "skip",
         "lat": [
          25.9021,
          29.640301
         ],
         "line": {
          "color": "red",
          "width": 1
         },
         "lon": [
          -97.419606,
          -95.272883
         ],
         "mode": "lines",
         "opacity": 1,
         "type": "scattergeo"
        },
        {
         "hoverinfo": "skip",
         "lat": [
          29.640301,
          30.19299
         ],
         "line": {
          "color": "red",
          "width": 1
         },
         "lon": [
          -95.272883,
          -97.657622
         ],
         "mode": "lines",
         "opacity": 1,
         "type": "scattergeo"
        },
        {
         "hoverinfo": "skip",
         "lat": [
          30.19299,
          33.922829
         ],
         "line": {
          "color": "red",
          "width": 1
         },
         "lon": [
          -97.657622,
          -118.33573
         ],
         "mode": "lines",
         "opacity": 1,
         "type": "scattergeo"
        },
        {
         "hoverinfo": "skip",
         "lat": [
          33.922829,
          30.190006
         ],
         "line": {
          "color": "red",
          "width": 1
         },
         "lon": [
          -118.33573,
          -97.657551
         ],
         "mode": "lines",
         "opacity": 1,
         "type": "scattergeo"
        },
        {
         "hoverinfo": "skip",
         "lat": [
          30.190006,
          33.922732
         ],
         "line": {
          "color": "red",
          "width": 1
         },
         "lon": [
          -97.657551,
          -118.337145
         ],
         "mode": "lines",
         "opacity": 1,
         "type": "scattergeo"
        },
        {
         "hoverinfo": "skip",
         "lat": [
          33.922732,
          33.935715
         ],
         "line": {
          "color": "red",
          "width": 1
         },
         "lon": [
          -118.337145,
          -118.398845
         ],
         "mode": "lines",
         "opacity": 1,
         "type": "scattergeo"
        },
        {
         "hoverinfo": "skip",
         "lat": [
          33.935715,
          29.639683
         ],
         "line": {
          "color": "red",
          "width": 1
         },
         "lon": [
          -118.398845,
          -95.272157
         ],
         "mode": "lines",
         "opacity": 1,
         "type": "scattergeo"
        },
        {
         "hoverinfo": "skip",
         "lat": [
          29.639683,
          30.190029
         ],
         "line": {
          "color": "red",
          "width": 1
         },
         "lon": [
          -95.272157,
          -97.657525
         ],
         "mode": "lines",
         "opacity": 1,
         "type": "scattergeo"
        },
        {
         "hoverinfo": "skip",
         "lat": [
          30.190029,
          25.906181
         ],
         "line": {
          "color": "red",
          "width": 1
         },
         "lon": [
          -97.657525,
          -97.424064
         ],
         "mode": "lines",
         "opacity": 1,
         "type": "scattergeo"
        },
        {
         "hoverinfo": "skip",
         "lat": [
          25.906181,
          30.192292
         ],
         "line": {
          "color": "red",
          "width": 1
         },
         "lon": [
          -97.424064,
          -97.657608
         ],
         "mode": "lines",
         "opacity": 1,
         "type": "scattergeo"
        },
        {
         "hoverinfo": "skip",
         "lat": [
          30.192292,
          33.922779
         ],
         "line": {
          "color": "red",
          "width": 1
         },
         "lon": [
          -97.657608,
          -118.336916
         ],
         "mode": "lines",
         "opacity": 1,
         "type": "scattergeo"
        },
        {
         "hoverinfo": "skip",
         "lat": [
          33.922779,
          37.365246
         ],
         "line": {
          "color": "red",
          "width": 1
         },
         "lon": [
          -118.336916,
          -121.932698
         ],
         "mode": "lines",
         "opacity": 1,
         "type": "scattergeo"
        },
        {
         "hoverinfo": "skip",
         "lat": [
          37.365246,
          30.192024
         ],
         "line": {
          "color": "red",
          "width": 1
         },
         "lon": [
          -121.932698,
          -97.657608
         ],
         "mode": "lines",
         "opacity": 1,
         "type": "scattergeo"
        },
        {
         "hoverinfo": "skip",
         "lat": [
          30.192024,
          25.906345
         ],
         "line": {
          "color": "red",
          "width": 1
         },
         "lon": [
          -97.657608,
          -97.424231
         ],
         "mode": "lines",
         "opacity": 1,
         "type": "scattergeo"
        },
        {
         "hoverinfo": "skip",
         "lat": [
          25.906345,
          30.19257
         ],
         "line": {
          "color": "red",
          "width": 1
         },
         "lon": [
          -97.424231,
          -97.657605
         ],
         "mode": "lines",
         "opacity": 1,
         "type": "scattergeo"
        },
        {
         "hoverinfo": "skip",
         "lat": [
          30.19257,
          33.922794
         ],
         "line": {
          "color": "red",
          "width": 1
         },
         "lon": [
          -97.657605,
          -118.336417
         ],
         "mode": "lines",
         "opacity": 1,
         "type": "scattergeo"
        },
        {
         "hoverinfo": "skip",
         "lat": [
          33.922794,
          30.192769
         ],
         "line": {
          "color": "red",
          "width": 1
         },
         "lon": [
          -118.336417,
          -97.657594
         ],
         "mode": "lines",
         "opacity": 1,
         "type": "scattergeo"
        },
        {
         "hoverinfo": "skip",
         "lat": [
          30.192769,
          41.795689
         ],
         "line": {
          "color": "red",
          "width": 1
         },
         "lon": [
          -97.657594,
          12.59737
         ],
         "mode": "lines",
         "opacity": 1,
         "type": "scattergeo"
        },
        {
         "hoverinfo": "skip",
         "lat": [
          41.795689,
          45.505976
         ],
         "line": {
          "color": "red",
          "width": 1
         },
         "lon": [
          12.59737,
          12.344647
         ],
         "mode": "lines",
         "opacity": 1,
         "type": "scattergeo"
        },
        {
         "hoverinfo": "skip",
         "lat": [
          45.505976,
          25.906669
         ],
         "line": {
          "color": "red",
          "width": 1
         },
         "lon": [
          12.344647,
          -97.424592
         ],
         "mode": "lines",
         "opacity": 1,
         "type": "scattergeo"
        },
        {
         "hoverinfo": "skip",
         "lat": [
          25.906669,
          30.191849
         ],
         "line": {
          "color": "red",
          "width": 1
         },
         "lon": [
          -97.424592,
          -97.657578
         ],
         "mode": "lines",
         "opacity": 1,
         "type": "scattergeo"
        },
        {
         "hoverinfo": "skip",
         "lat": [
          30.191849,
          33.922817
         ],
         "line": {
          "color": "red",
          "width": 1
         },
         "lon": [
          -97.657578,
          -118.336052
         ],
         "mode": "lines",
         "opacity": 1,
         "type": "scattergeo"
        },
        {
         "hoverinfo": "skip",
         "lat": [
          33.922817,
          30.191256
         ],
         "line": {
          "color": "red",
          "width": 1
         },
         "lon": [
          -118.336052,
          -97.657594
         ],
         "mode": "lines",
         "opacity": 1,
         "type": "scattergeo"
        },
        {
         "hoverinfo": "skip",
         "lat": [
          30.191256,
          25.905797
         ],
         "line": {
          "color": "red",
          "width": 1
         },
         "lon": [
          -97.657594,
          -97.423628
         ],
         "mode": "lines",
         "opacity": 1,
         "type": "scattergeo"
        },
        {
         "hoverinfo": "skip",
         "lat": [
          25.905797,
          37.363536
         ],
         "line": {
          "color": "red",
          "width": 1
         },
         "lon": [
          -97.423628,
          -121.930822
         ],
         "mode": "lines",
         "opacity": 1,
         "type": "scattergeo"
        },
        {
         "hoverinfo": "skip",
         "lat": [
          37.363536,
          33.922744
         ],
         "line": {
          "color": "red",
          "width": 1
         },
         "lon": [
          -121.930822,
          -118.337388
         ],
         "mode": "lines",
         "opacity": 1,
         "type": "scattergeo"
        },
        {
         "hoverinfo": "skip",
         "lat": [
          33.922744,
          30.191105
         ],
         "line": {
          "color": "red",
          "width": 1
         },
         "lon": [
          -118.337388,
          -97.657578
         ],
         "mode": "lines",
         "opacity": 1,
         "type": "scattergeo"
        },
        {
         "hoverinfo": "skip",
         "lat": [
          30.191105,
          33.819065
         ],
         "line": {
          "color": "red",
          "width": 1
         },
         "lon": [
          -97.657578,
          -118.152914
         ],
         "mode": "lines",
         "opacity": 1,
         "type": "scattergeo"
        },
        {
         "hoverinfo": "skip",
         "lat": [
          33.819065,
          25.905888
         ],
         "line": {
          "color": "red",
          "width": 1
         },
         "lon": [
          -118.152914,
          -97.423726
         ],
         "mode": "lines",
         "opacity": 1,
         "type": "scattergeo"
        },
        {
         "hoverinfo": "skip",
         "lat": [
          25.905888,
          30.189629
         ],
         "line": {
          "color": "red",
          "width": 1
         },
         "lon": [
          -97.423726,
          -97.657538
         ],
         "mode": "lines",
         "opacity": 1,
         "type": "scattergeo"
        },
        {
         "hoverinfo": "skip",
         "lat": [
          30.189629,
          37.363745
         ],
         "line": {
          "color": "red",
          "width": 1
         },
         "lon": [
          -97.657538,
          -121.931061
         ],
         "mode": "lines",
         "opacity": 1,
         "type": "scattergeo"
        },
        {
         "hoverinfo": "skip",
         "lat": [
          37.363745,
          30.191998
         ],
         "line": {
          "color": "red",
          "width": 1
         },
         "lon": [
          -121.931061,
          -97.657592
         ],
         "mode": "lines",
         "opacity": 1,
         "type": "scattergeo"
        },
        {
         "hoverinfo": "skip",
         "lat": [
          30.191998,
          25.905693
         ],
         "line": {
          "color": "red",
          "width": 1
         },
         "lon": [
          -97.657592,
          -97.423532
         ],
         "mode": "lines",
         "opacity": 1,
         "type": "scattergeo"
        },
        {
         "hoverinfo": "skip",
         "lat": [
          25.905693,
          30.192012
         ],
         "line": {
          "color": "red",
          "width": 1
         },
         "lon": [
          -97.423532,
          -97.657594
         ],
         "mode": "lines",
         "opacity": 1,
         "type": "scattergeo"
        },
        {
         "hoverinfo": "skip",
         "lat": [
          30.192012,
          25.904652
         ],
         "line": {
          "color": "red",
          "width": 1
         },
         "lon": [
          -97.657594,
          -97.422392
         ],
         "mode": "lines",
         "opacity": 1,
         "type": "scattergeo"
        },
        {
         "hoverinfo": "skip",
         "lat": [
          25.904652,
          33.922691
         ],
         "line": {
          "color": "red",
          "width": 1
         },
         "lon": [
          -97.422392,
          -118.338631
         ],
         "mode": "lines",
         "opacity": 1,
         "type": "scattergeo"
        },
        {
         "hoverinfo": "skip",
         "lat": [
          33.922691,
          37.365875
         ],
         "line": {
          "color": "red",
          "width": 1
         },
         "lon": [
          -118.338631,
          -121.933384
         ],
         "mode": "lines",
         "opacity": 1,
         "type": "scattergeo"
        },
        {
         "hoverinfo": "skip",
         "lat": [
          37.365875,
          30.191221
         ],
         "line": {
          "color": "red",
          "width": 1
         },
         "lon": [
          -121.933384,
          -97.657567
         ],
         "mode": "lines",
         "opacity": 1,
         "type": "scattergeo"
        },
        {
         "hoverinfo": "skip",
         "lat": [
          30.191221,
          25.905866
         ],
         "line": {
          "color": "red",
          "width": 1
         },
         "lon": [
          -97.657567,
          -97.423721
         ],
         "mode": "lines",
         "opacity": 1,
         "type": "scattergeo"
        },
        {
         "hoverinfo": "skip",
         "lat": [
          25.905866,
          37.36548
         ],
         "line": {
          "color": "red",
          "width": 1
         },
         "lon": [
          -97.423721,
          -121.932942
         ],
         "mode": "lines",
         "opacity": 1,
         "type": "scattergeo"
        },
        {
         "hoverinfo": "skip",
         "lat": [
          37.36548,
          25.904434
         ],
         "line": {
          "color": "red",
          "width": 1
         },
         "lon": [
          -121.932942,
          -97.422159
         ],
         "mode": "lines",
         "opacity": 1,
         "type": "scattergeo"
        },
        {
         "hoverinfo": "skip",
         "lat": [
          25.904434,
          30.19202
         ],
         "line": {
          "color": "red",
          "width": 1
         },
         "lon": [
          -97.422159,
          -97.657578
         ],
         "mode": "lines",
         "opacity": 1,
         "type": "scattergeo"
        },
        {
         "hoverinfo": "skip",
         "lat": [
          30.19202,
          25.903027
         ],
         "line": {
          "color": "red",
          "width": 1
         },
         "lon": [
          -97.657578,
          -97.431215
         ],
         "mode": "lines",
         "opacity": 1,
         "type": "scattergeo"
        },
        {
         "hoverinfo": "skip",
         "lat": [
          25.903027,
          40.843106
         ],
         "line": {
          "color": "red",
          "width": 1
         },
         "lon": [
          -97.431215,
          -72.63074
         ],
         "mode": "lines",
         "opacity": 1,
         "type": "scattergeo"
        },
        {
         "hoverinfo": "skip",
         "lat": [
          40.843106,
          30.190498
         ],
         "line": {
          "color": "red",
          "width": 1
         },
         "lon": [
          -72.63074,
          -97.657605
         ],
         "mode": "lines",
         "opacity": 1,
         "type": "scattergeo"
        },
        {
         "hoverinfo": "skip",
         "lat": [
          30.190498,
          37.364582
         ],
         "line": {
          "color": "red",
          "width": 1
         },
         "lon": [
          -97.657605,
          -121.931982
         ],
         "mode": "lines",
         "opacity": 1,
         "type": "scattergeo"
        },
        {
         "hoverinfo": "skip",
         "lat": [
          37.364582,
          33.922714
         ],
         "line": {
          "color": "red",
          "width": 1
         },
         "lon": [
          -121.931982,
          -118.338056
         ],
         "mode": "lines",
         "opacity": 1,
         "type": "scattergeo"
        },
        {
         "hoverinfo": "skip",
         "lat": [
          33.922714,
          25.904789
         ],
         "line": {
          "color": "red",
          "width": 1
         },
         "lon": [
          -118.338056,
          -97.42256
         ],
         "mode": "lines",
         "opacity": 1,
         "type": "scattergeo"
        },
        {
         "hoverinfo": "skip",
         "lat": [
          25.904789,
          30.191597
         ],
         "line": {
          "color": "red",
          "width": 1
         },
         "lon": [
          -97.42256,
          -97.657592
         ],
         "mode": "lines",
         "opacity": 1,
         "type": "scattergeo"
        },
        {
         "hoverinfo": "skip",
         "lat": [
          30.191597,
          33.935806
         ],
         "line": {
          "color": "red",
          "width": 1
         },
         "lon": [
          -97.657592,
          -118.397893
         ],
         "mode": "lines",
         "opacity": 1,
         "type": "scattergeo"
        },
        {
         "hoverinfo": "skip",
         "lat": [
          33.935806,
          58.879005
         ],
         "line": {
          "color": "red",
          "width": 1
         },
         "lon": [
          -118.397893,
          5.637749
         ],
         "mode": "lines",
         "opacity": 1,
         "type": "scattergeo"
        },
        {
         "hoverinfo": "skip",
         "lat": [
          58.879005,
          52.372804
         ],
         "line": {
          "color": "red",
          "width": 1
         },
         "lon": [
          5.637749,
          13.506513
         ],
         "mode": "lines",
         "opacity": 1,
         "type": "scattergeo"
        },
        {
         "hoverinfo": "skip",
         "lat": [
          52.372804,
          33.935813
         ],
         "line": {
          "color": "red",
          "width": 1
         },
         "lon": [
          13.506513,
          -118.398013
         ],
         "mode": "lines",
         "opacity": 1,
         "type": "scattergeo"
        },
        {
         "hoverinfo": "skip",
         "lat": [
          33.935813,
          41.721394
         ],
         "line": {
          "color": "red",
          "width": 1
         },
         "lon": [
          -118.398013,
          -71.428627
         ],
         "mode": "lines",
         "opacity": 1,
         "type": "scattergeo"
        },
        {
         "hoverinfo": "skip",
         "lat": [
          41.721394,
          40.853428
         ],
         "line": {
          "color": "red",
          "width": 1
         },
         "lon": [
          -71.428627,
          -74.05928
         ],
         "mode": "lines",
         "opacity": 1,
         "type": "scattergeo"
        },
        {
         "hoverinfo": "skip",
         "lat": [
          40.853428,
          30.191872
         ],
         "line": {
          "color": "red",
          "width": 1
         },
         "lon": [
          -74.05928,
          -97.657605
         ],
         "mode": "lines",
         "opacity": 1,
         "type": "scattergeo"
        },
        {
         "hoverinfo": "skip",
         "lat": [
          30.191872,
          25.903416
         ],
         "line": {
          "color": "red",
          "width": 1
         },
         "lon": [
          -97.657605,
          -97.421057
         ],
         "mode": "lines",
         "opacity": 1,
         "type": "scattergeo"
        },
        {
         "hoverinfo": "skip",
         "lat": [
          25.903416,
          33.948349
         ],
         "line": {
          "color": "red",
          "width": 1
         },
         "lon": [
          -97.421057,
          -118.419809
         ],
         "mode": "lines",
         "opacity": 1,
         "type": "scattergeo"
        },
        {
         "hoverinfo": "skip",
         "lat": [
          33.948349,
          33.933643
         ],
         "line": {
          "color": "red",
          "width": 1
         },
         "lon": [
          -118.419809,
          -118.407169
         ],
         "mode": "lines",
         "opacity": 1,
         "type": "scattergeo"
        },
        {
         "hoverinfo": "skip",
         "lat": [
          33.933643,
          30.192059
         ],
         "line": {
          "color": "red",
          "width": 1
         },
         "lon": [
          -118.407169,
          -97.657608
         ],
         "mode": "lines",
         "opacity": 1,
         "type": "scattergeo"
        },
        {
         "hoverinfo": "skip",
         "lat": [
          30.192059,
          37.364816
         ],
         "line": {
          "color": "red",
          "width": 1
         },
         "lon": [
          -97.657608,
          -121.93224
         ],
         "mode": "lines",
         "opacity": 1,
         "type": "scattergeo"
        },
        {
         "hoverinfo": "skip",
         "lat": [
          37.364816,
          33.922794
         ],
         "line": {
          "color": "red",
          "width": 1
         },
         "lon": [
          -121.93224,
          -118.336627
         ],
         "mode": "lines",
         "opacity": 1,
         "type": "scattergeo"
        },
        {
         "hoverinfo": "skip",
         "lat": [
          33.922794,
          30.192315
         ],
         "line": {
          "color": "red",
          "width": 1
         },
         "lon": [
          -118.336627,
          -97.657608
         ],
         "mode": "lines",
         "opacity": 1,
         "type": "scattergeo"
        },
        {
         "hoverinfo": "skip",
         "lat": [
          30.192315,
          25.90448
         ],
         "line": {
          "color": "red",
          "width": 1
         },
         "lon": [
          -97.657608,
          -97.422223
         ],
         "mode": "lines",
         "opacity": 1,
         "type": "scattergeo"
        },
        {
         "hoverinfo": "skip",
         "lat": [
          25.90448,
          30.191524
         ],
         "line": {
          "color": "red",
          "width": 1
         },
         "lon": [
          -97.422223,
          -97.657594
         ],
         "mode": "lines",
         "opacity": 1,
         "type": "scattergeo"
        },
        {
         "hoverinfo": "skip",
         "lat": [
          30.191524,
          39.907662
         ],
         "line": {
          "color": "red",
          "width": 1
         },
         "lon": [
          -97.657594,
          -105.113892
         ],
         "mode": "lines",
         "opacity": 1,
         "type": "scattergeo"
        },
        {
         "hoverinfo": "skip",
         "lat": [
          39.907662,
          30.198978
         ],
         "line": {
          "color": "red",
          "width": 1
         },
         "lon": [
          -105.113892,
          -97.678972
         ],
         "mode": "lines",
         "opacity": 1,
         "type": "scattergeo"
        },
        {
         "hoverinfo": "skip",
         "lat": [
          30.198978,
          37.364651
         ],
         "line": {
          "color": "red",
          "width": 1
         },
         "lon": [
          -97.678972,
          -121.93204
         ],
         "mode": "lines",
         "opacity": 1,
         "type": "scattergeo"
        },
        {
         "hoverinfo": "skip",
         "lat": [
          37.364651,
          33.92272
         ],
         "line": {
          "color": "red",
          "width": 1
         },
         "lon": [
          -121.93204,
          -118.338017
         ],
         "mode": "lines",
         "opacity": 1,
         "type": "scattergeo"
        },
        {
         "hoverinfo": "skip",
         "lat": [
          33.92272,
          37.365234
         ],
         "line": {
          "color": "red",
          "width": 1
         },
         "lon": [
          -118.338017,
          -121.932683
         ],
         "mode": "lines",
         "opacity": 1,
         "type": "scattergeo"
        },
        {
         "hoverinfo": "skip",
         "lat": [
          37.365234,
          32.847713
         ],
         "line": {
          "color": "red",
          "width": 1
         },
         "lon": [
          -121.932683,
          -96.845702
         ],
         "mode": "lines",
         "opacity": 1,
         "type": "scattergeo"
        },
        {
         "hoverinfo": "skip",
         "lat": [
          32.847713,
          30.191551
         ],
         "line": {
          "color": "red",
          "width": 1
         },
         "lon": [
          -96.845702,
          -97.657578
         ],
         "mode": "lines",
         "opacity": 1,
         "type": "scattergeo"
        },
        {
         "hoverinfo": "skip",
         "lat": [
          30.191551,
          25.901585
         ],
         "line": {
          "color": "red",
          "width": 1
         },
         "lon": [
          -97.657578,
          -97.419049
         ],
         "mode": "lines",
         "opacity": 1,
         "type": "scattergeo"
        },
        {
         "hoverinfo": "skip",
         "lat": [
          25.901585,
          30.193119
         ],
         "line": {
          "color": "red",
          "width": 1
         },
         "lon": [
          -97.419049,
          -97.657619
         ],
         "mode": "lines",
         "opacity": 1,
         "type": "scattergeo"
        },
        {
         "hoverinfo": "skip",
         "lat": [
          30.193119,
          25.9039
         ],
         "line": {
          "color": "red",
          "width": 1
         },
         "lon": [
          -97.657619,
          -97.421582
         ],
         "mode": "lines",
         "opacity": 1,
         "type": "scattergeo"
        },
        {
         "hoverinfo": "skip",
         "lat": [
          25.9039,
          30.19289
         ],
         "line": {
          "color": "red",
          "width": 1
         },
         "lon": [
          -97.421582,
          -97.657605
         ],
         "mode": "lines",
         "opacity": 1,
         "type": "scattergeo"
        },
        {
         "hoverinfo": "skip",
         "lat": [
          30.19289,
          37.365445
         ],
         "line": {
          "color": "red",
          "width": 1
         },
         "lon": [
          -97.657605,
          -121.932912
         ],
         "mode": "lines",
         "opacity": 1,
         "type": "scattergeo"
        },
        {
         "hoverinfo": "skip",
         "lat": [
          37.365445,
          30.191163
         ],
         "line": {
          "color": "red",
          "width": 1
         },
         "lon": [
          -121.932912,
          -97.657567
         ],
         "mode": "lines",
         "opacity": 1,
         "type": "scattergeo"
        },
        {
         "hoverinfo": "skip",
         "lat": [
          30.191163,
          37.364285
         ],
         "line": {
          "color": "red",
          "width": 1
         },
         "lon": [
          -97.657567,
          -121.93166
         ],
         "mode": "lines",
         "opacity": 1,
         "type": "scattergeo"
        },
        {
         "hoverinfo": "skip",
         "lat": [
          37.364285,
          33.92279
         ],
         "line": {
          "color": "red",
          "width": 1
         },
         "lon": [
          -121.93166,
          -118.336544
         ],
         "mode": "lines",
         "opacity": 1,
         "type": "scattergeo"
        },
        {
         "hoverinfo": "skip",
         "lat": [
          33.92279,
          37.364399
         ],
         "line": {
          "color": "red",
          "width": 1
         },
         "lon": [
          -118.336544,
          -121.931763
         ],
         "mode": "lines",
         "opacity": 1,
         "type": "scattergeo"
        },
        {
         "hoverinfo": "skip",
         "lat": [
          37.364399,
          33.92272
         ],
         "line": {
          "color": "red",
          "width": 1
         },
         "lon": [
          -121.931763,
          -118.337817
         ],
         "mode": "lines",
         "opacity": 1,
         "type": "scattergeo"
        },
        {
         "hoverinfo": "skip",
         "lat": [
          33.92272,
          40.850206
         ],
         "line": {
          "color": "red",
          "width": 1
         },
         "lon": [
          -118.337817,
          -74.060976
         ],
         "mode": "lines",
         "opacity": 1,
         "type": "scattergeo"
        },
        {
         "hoverinfo": "skip",
         "lat": [
          40.850206,
          38.941529
         ],
         "line": {
          "color": "red",
          "width": 1
         },
         "lon": [
          -74.060976,
          -77.436188
         ],
         "mode": "lines",
         "opacity": 1,
         "type": "scattergeo"
        },
        {
         "hoverinfo": "skip",
         "lat": [
          38.941529,
          37.620202
         ],
         "line": {
          "color": "red",
          "width": 1
         },
         "lon": [
          -77.436188,
          -122.373037
         ],
         "mode": "lines",
         "opacity": 1,
         "type": "scattergeo"
        },
        {
         "hoverinfo": "skip",
         "lat": [
          37.620202,
          37.62992
         ],
         "line": {
          "color": "red",
          "width": 1
         },
         "lon": [
          -122.373037,
          -122.392517
         ],
         "mode": "lines",
         "opacity": 1,
         "type": "scattergeo"
        },
        {
         "hoverinfo": "skip",
         "lat": [
          37.62992,
          37.614848
         ],
         "line": {
          "color": "red",
          "width": 1
         },
         "lon": [
          -122.392517,
          -122.379903
         ],
         "mode": "lines",
         "opacity": 1,
         "type": "scattergeo"
        },
        {
         "hoverinfo": "skip",
         "lat": [
          37.614848,
          37.367004
         ],
         "line": {
          "color": "red",
          "width": 1
         },
         "lon": [
          -122.379903,
          -121.931449
         ],
         "mode": "lines",
         "opacity": 1,
         "type": "scattergeo"
        },
        {
         "hoverinfo": "skip",
         "lat": [
          37.367004,
          40.848844
         ],
         "line": {
          "color": "red",
          "width": 1
         },
         "lon": [
          -121.931449,
          -74.061069
         ],
         "mode": "lines",
         "opacity": 1,
         "type": "scattergeo"
        },
        {
         "hoverinfo": "skip",
         "lat": [
          40.848844,
          30.188473
         ],
         "line": {
          "color": "red",
          "width": 1
         },
         "lon": [
          -74.061069,
          -97.657498
         ],
         "mode": "lines",
         "opacity": 1,
         "type": "scattergeo"
        },
        {
         "hoverinfo": "skip",
         "lat": [
          30.188473,
          37.621754
         ],
         "line": {
          "color": "red",
          "width": 1
         },
         "lon": [
          -97.657498,
          -122.376724
         ],
         "mode": "lines",
         "opacity": 1,
         "type": "scattergeo"
        },
        {
         "hoverinfo": "skip",
         "lat": [
          37.621754,
          30.190686
         ],
         "line": {
          "color": "red",
          "width": 1
         },
         "lon": [
          -122.376724,
          -97.657581
         ],
         "mode": "lines",
         "opacity": 1,
         "type": "scattergeo"
        },
        {
         "hoverinfo": "skip",
         "lat": [
          30.190686,
          37.620819
         ],
         "line": {
          "color": "red",
          "width": 1
         },
         "lon": [
          -97.657581,
          -122.374455
         ],
         "mode": "lines",
         "opacity": 1,
         "type": "scattergeo"
        },
        {
         "hoverinfo": "skip",
         "lat": [
          37.620819,
          33.922714
         ],
         "line": {
          "color": "red",
          "width": 1
         },
         "lon": [
          -122.374455,
          -118.337972
         ],
         "mode": "lines",
         "opacity": 1,
         "type": "scattergeo"
        },
        {
         "hoverinfo": "skip",
         "lat": [
          33.922714,
          37.728296
         ],
         "line": {
          "color": "red",
          "width": 1
         },
         "lon": [
          -118.337972,
          -122.215452
         ],
         "mode": "lines",
         "opacity": 1,
         "type": "scattergeo"
        },
        {
         "hoverinfo": "skip",
         "lat": [
          37.728296,
          37.711361
         ],
         "line": {
          "color": "red",
          "width": 1
         },
         "lon": [
          -122.215452,
          -122.224025
         ],
         "mode": "lines",
         "opacity": 1,
         "type": "scattergeo"
        },
        {
         "hoverinfo": "skip",
         "lat": [
          37.711361,
          30.190201
         ],
         "line": {
          "color": "red",
          "width": 1
         },
         "lon": [
          -122.224025,
          -97.657525
         ],
         "mode": "lines",
         "opacity": 1,
         "type": "scattergeo"
        },
        {
         "hoverinfo": "skip",
         "lat": [
          30.190201,
          37.728796
         ],
         "line": {
          "color": "red",
          "width": 1
         },
         "lon": [
          -97.657525,
          -122.217004
         ],
         "mode": "lines",
         "opacity": 1,
         "type": "scattergeo"
        },
        {
         "hoverinfo": "skip",
         "lat": [
          37.728796,
          30.193758
         ],
         "line": {
          "color": "red",
          "width": 1
         },
         "lon": [
          -122.217004,
          -97.657635
         ],
         "mode": "lines",
         "opacity": 1,
         "type": "scattergeo"
        },
        {
         "hoverinfo": "skip",
         "lat": [
          30.193758,
          37.728321
         ],
         "line": {
          "color": "red",
          "width": 1
         },
         "lon": [
          -97.657635,
          -122.215523
         ],
         "mode": "lines",
         "opacity": 1,
         "type": "scattergeo"
        },
        {
         "hoverinfo": "skip",
         "lat": [
          37.728321,
          37.711246
         ],
         "line": {
          "color": "red",
          "width": 1
         },
         "lon": [
          -122.215523,
          -122.224169
         ],
         "mode": "lines",
         "opacity": 1,
         "type": "scattergeo"
        },
        {
         "hoverinfo": "skip",
         "lat": [
          37.711246,
          39.496582
         ],
         "line": {
          "color": "red",
          "width": 1
         },
         "lon": [
          -122.224169,
          -119.769262
         ],
         "mode": "lines",
         "opacity": 1,
         "type": "scattergeo"
        },
        {
         "hoverinfo": "skip",
         "lat": [
          39.496582,
          37.709326
         ],
         "line": {
          "color": "red",
          "width": 1
         },
         "lon": [
          -119.769262,
          -122.22602
         ],
         "mode": "lines",
         "opacity": 1,
         "type": "scattergeo"
        },
        {
         "hoverinfo": "skip",
         "lat": [
          37.709326,
          37.721139
         ],
         "line": {
          "color": "red",
          "width": 1
         },
         "lon": [
          -122.22602,
          -122.20872
         ],
         "mode": "lines",
         "opacity": 1,
         "type": "scattergeo"
        },
        {
         "hoverinfo": "skip",
         "lat": [
          37.721139,
          37.703568
         ],
         "line": {
          "color": "red",
          "width": 1
         },
         "lon": [
          -122.20872,
          -122.213989
         ],
         "mode": "lines",
         "opacity": 1,
         "type": "scattergeo"
        },
        {
         "hoverinfo": "skip",
         "lat": [
          37.703568,
          29.993514
         ],
         "line": {
          "color": "red",
          "width": 1
         },
         "lon": [
          -122.213989,
          -90.268739
         ],
         "mode": "lines",
         "opacity": 1,
         "type": "scattergeo"
        },
        {
         "hoverinfo": "skip",
         "lat": [
          29.993514,
          37.729111
         ],
         "line": {
          "color": "red",
          "width": 1
         },
         "lon": [
          -90.268739,
          -122.218004
         ],
         "mode": "lines",
         "opacity": 1,
         "type": "scattergeo"
        },
        {
         "hoverinfo": "skip",
         "lat": [
          37.729111,
          37.71167
         ],
         "line": {
          "color": "red",
          "width": 1
         },
         "lon": [
          -122.218004,
          -122.223719
         ],
         "mode": "lines",
         "opacity": 1,
         "type": "scattergeo"
        },
        {
         "hoverinfo": "skip",
         "lat": [
          37.71167,
          38.935352
         ],
         "line": {
          "color": "red",
          "width": 1
         },
         "lon": [
          -122.223719,
          -77.436283
         ],
         "mode": "lines",
         "opacity": 1,
         "type": "scattergeo"
        },
        {
         "hoverinfo": "skip",
         "lat": [
          38.935352,
          38.953308
         ],
         "line": {
          "color": "red",
          "width": 1
         },
         "lon": [
          -77.436283,
          -77.438552
         ],
         "mode": "lines",
         "opacity": 1,
         "type": "scattergeo"
        },
        {
         "hoverinfo": "skip",
         "lat": [
          38.953308,
          38.935174
         ],
         "line": {
          "color": "red",
          "width": 1
         },
         "lon": [
          -77.438552,
          -77.439896
         ],
         "mode": "lines",
         "opacity": 1,
         "type": "scattergeo"
        },
        {
         "hoverinfo": "skip",
         "lat": [
          38.935174,
          37.729168
         ],
         "line": {
          "color": "red",
          "width": 1
         },
         "lon": [
          -77.439896,
          -122.218196
         ],
         "mode": "lines",
         "opacity": 1,
         "type": "scattergeo"
        },
        {
         "hoverinfo": "skip",
         "lat": [
          37.729168,
          37.71151
         ],
         "line": {
          "color": "red",
          "width": 1
         },
         "lon": [
          -122.218196,
          -122.223908
         ],
         "mode": "lines",
         "opacity": 1,
         "type": "scattergeo"
        },
        {
         "hoverinfo": "skip",
         "lat": [
          37.71151,
          33.935818
         ],
         "line": {
          "color": "red",
          "width": 1
         },
         "lon": [
          -122.223908,
          -118.397935
         ],
         "mode": "lines",
         "opacity": 1,
         "type": "scattergeo"
        },
        {
         "hoverinfo": "skip",
         "lat": [
          33.935818,
          30.191279
         ],
         "line": {
          "color": "red",
          "width": 1
         },
         "lon": [
          -118.397935,
          -97.657581
         ],
         "mode": "lines",
         "opacity": 1,
         "type": "scattergeo"
        },
        {
         "hoverinfo": "skip",
         "lat": [
          30.191279,
          37.36425
         ],
         "line": {
          "color": "red",
          "width": 1
         },
         "lon": [
          -97.657581,
          -121.931617
         ],
         "mode": "lines",
         "opacity": 1,
         "type": "scattergeo"
        },
        {
         "hoverinfo": "skip",
         "lat": [
          37.36425,
          51.874613
         ],
         "line": {
          "color": "red",
          "width": 1
         },
         "lon": [
          -121.931617,
          -0.368595
         ],
         "mode": "lines",
         "opacity": 1,
         "type": "scattergeo"
        },
        {
         "hoverinfo": "skip",
         "lat": [
          51.874613,
          25.268822
         ],
         "line": {
          "color": "red",
          "width": 1
         },
         "lon": [
          -0.368595,
          51.601527
         ],
         "mode": "lines",
         "opacity": 1,
         "type": "scattergeo"
        },
        {
         "hoverinfo": "skip",
         "lat": [
          25.268822,
          51.873729
         ],
         "line": {
          "color": "red",
          "width": 1
         },
         "lon": [
          51.601527,
          -0.373688
         ],
         "mode": "lines",
         "opacity": 1,
         "type": "scattergeo"
        },
        {
         "hoverinfo": "skip",
         "lat": [
          51.873729,
          30.189686
         ],
         "line": {
          "color": "red",
          "width": 1
         },
         "lon": [
          -0.373688,
          -97.657538
         ],
         "mode": "lines",
         "opacity": 1,
         "type": "scattergeo"
        },
        {
         "hoverinfo": "skip",
         "lat": [
          30.189686,
          37.726776
         ],
         "line": {
          "color": "red",
          "width": 1
         },
         "lon": [
          -97.657538,
          -122.219949
         ],
         "mode": "lines",
         "opacity": 1,
         "type": "scattergeo"
        },
        {
         "hoverinfo": "skip",
         "lat": [
          37.726776,
          37.708591
         ],
         "line": {
          "color": "red",
          "width": 1
         },
         "lon": [
          -122.219949,
          -122.221133
         ],
         "mode": "lines",
         "opacity": 1,
         "type": "scattergeo"
        },
        {
         "hoverinfo": "skip",
         "lat": [
          37.708591,
          38.694466
         ],
         "line": {
          "color": "red",
          "width": 1
         },
         "lon": [
          -122.221133,
          -121.58029
         ],
         "mode": "lines",
         "opacity": 1,
         "type": "scattergeo"
        },
        {
         "hoverinfo": "skip",
         "lat": [
          38.694466,
          38.683754
         ],
         "line": {
          "color": "red",
          "width": 1
         },
         "lon": [
          -121.58029,
          -121.598859
         ],
         "mode": "lines",
         "opacity": 1,
         "type": "scattergeo"
        },
        {
         "hoverinfo": "skip",
         "lat": [
          38.683754,
          38.702076
         ],
         "line": {
          "color": "red",
          "width": 1
         },
         "lon": [
          -121.598859,
          -121.59856
         ],
         "mode": "lines",
         "opacity": 1,
         "type": "scattergeo"
        },
        {
         "hoverinfo": "skip",
         "lat": [
          38.702076,
          33.950151
         ],
         "line": {
          "color": "red",
          "width": 1
         },
         "lon": [
          -121.59856,
          -118.42093
         ],
         "mode": "lines",
         "opacity": 1,
         "type": "scattergeo"
        },
        {
         "hoverinfo": "skip",
         "lat": [
          33.950151,
          33.932892
         ],
         "line": {
          "color": "red",
          "width": 1
         },
         "lon": [
          -118.42093,
          -118.41455
         ],
         "mode": "lines",
         "opacity": 1,
         "type": "scattergeo"
        },
        {
         "hoverinfo": "skip",
         "lat": [
          33.932892,
          33.935115
         ],
         "line": {
          "color": "red",
          "width": 1
         },
         "lon": [
          -118.41455,
          -118.392906
         ],
         "mode": "lines",
         "opacity": 1,
         "type": "scattergeo"
        },
        {
         "hoverinfo": "skip",
         "lat": [
          33.935115,
          38.690998
         ],
         "line": {
          "color": "red",
          "width": 1
         },
         "lon": [
          -118.392906,
          -121.601367
         ],
         "mode": "lines",
         "opacity": 1,
         "type": "scattergeo"
        },
        {
         "hoverinfo": "skip",
         "lat": [
          38.690998,
          39.908764
         ],
         "line": {
          "color": "red",
          "width": 1
         },
         "lon": [
          -121.601367,
          -105.115963
         ],
         "mode": "lines",
         "opacity": 1,
         "type": "scattergeo"
        },
        {
         "hoverinfo": "skip",
         "lat": [
          39.908764,
          30.19154
         ],
         "line": {
          "color": "red",
          "width": 1
         },
         "lon": [
          -105.115963,
          -97.657578
         ],
         "mode": "lines",
         "opacity": 1,
         "type": "scattergeo"
        },
        {
         "hoverinfo": "skip",
         "lat": [
          30.19154,
          38.691948
         ],
         "line": {
          "color": "red",
          "width": 1
         },
         "lon": [
          -97.657578,
          -121.601352
         ],
         "mode": "lines",
         "opacity": 1,
         "type": "scattergeo"
        },
        {
         "hoverinfo": "skip",
         "lat": [
          38.691948,
          30.188463
         ],
         "line": {
          "color": "red",
          "width": 1
         },
         "lon": [
          -121.601352,
          -97.657484
         ],
         "mode": "lines",
         "opacity": 1,
         "type": "scattergeo"
        },
        {
         "hoverinfo": "skip",
         "lat": [
          30.188463,
          33.93576
         ],
         "line": {
          "color": "red",
          "width": 1
         },
         "lon": [
          -97.657484,
          -118.398397
         ],
         "mode": "lines",
         "opacity": 1,
         "type": "scattergeo"
        },
        {
         "hoverinfo": "skip",
         "lat": [
          33.93576,
          33.818851
         ],
         "line": {
          "color": "red",
          "width": 1
         },
         "lon": [
          -118.398397,
          -118.152637
         ],
         "mode": "lines",
         "opacity": 1,
         "type": "scattergeo"
        },
        {
         "hoverinfo": "skip",
         "lat": [
          33.818851,
          33.922806
         ],
         "line": {
          "color": "red",
          "width": 1
         },
         "lon": [
          -118.152637,
          -118.336263
         ],
         "mode": "lines",
         "opacity": 1,
         "type": "scattergeo"
        },
        {
         "hoverinfo": "skip",
         "lat": [
          33.922806,
          30.192822
         ],
         "line": {
          "color": "red",
          "width": 1
         },
         "lon": [
          -118.336263,
          -97.657592
         ],
         "mode": "lines",
         "opacity": 1,
         "type": "scattergeo"
        },
        {
         "hoverinfo": "skip",
         "lat": [
          30.192822,
          37.709358
         ],
         "line": {
          "color": "red",
          "width": 1
         },
         "lon": [
          -97.657592,
          -122.226041
         ],
         "mode": "lines",
         "opacity": 1,
         "type": "scattergeo"
        },
        {
         "hoverinfo": "skip",
         "lat": [
          37.709358,
          37.721162
         ],
         "line": {
          "color": "red",
          "width": 1
         },
         "lon": [
          -122.226041,
          -122.20863
         ],
         "mode": "lines",
         "opacity": 1,
         "type": "scattergeo"
        },
        {
         "hoverinfo": "skip",
         "lat": [
          37.721162,
          30.190953
         ],
         "line": {
          "color": "red",
          "width": 1
         },
         "lon": [
          -122.20863,
          -97.657553
         ],
         "mode": "lines",
         "opacity": 1,
         "type": "scattergeo"
        },
        {
         "hoverinfo": "skip",
         "lat": [
          30.190953,
          37.728075
         ],
         "line": {
          "color": "red",
          "width": 1
         },
         "lon": [
          -97.657553,
          -122.21478
         ],
         "mode": "lines",
         "opacity": 1,
         "type": "scattergeo"
        },
        {
         "hoverinfo": "skip",
         "lat": [
          37.728075,
          37.711479
         ],
         "line": {
          "color": "red",
          "width": 1
         },
         "lon": [
          -122.21478,
          -122.223915
         ],
         "mode": "lines",
         "opacity": 1,
         "type": "scattergeo"
        },
        {
         "hoverinfo": "skip",
         "lat": [
          37.711479,
          30.191943
         ],
         "line": {
          "color": "red",
          "width": 1
         },
         "lon": [
          -122.223915,
          -97.657608
         ],
         "mode": "lines",
         "opacity": 1,
         "type": "scattergeo"
        },
        {
         "hoverinfo": "skip",
         "lat": [
          30.191943,
          37.728343
         ],
         "line": {
          "color": "red",
          "width": 1
         },
         "lon": [
          -97.657608,
          -122.215616
         ],
         "mode": "lines",
         "opacity": 1,
         "type": "scattergeo"
        },
        {
         "hoverinfo": "skip",
         "lat": [
          37.728343,
          37.71127
         ],
         "line": {
          "color": "red",
          "width": 1
         },
         "lon": [
          -122.215616,
          -122.224124
         ],
         "mode": "lines",
         "opacity": 1,
         "type": "scattergeo"
        },
        {
         "hoverinfo": "skip",
         "lat": [
          37.71127,
          34.19775
         ],
         "line": {
          "color": "red",
          "width": 1
         },
         "lon": [
          -122.224124,
          -118.357296
         ],
         "mode": "lines",
         "opacity": 1,
         "type": "scattergeo"
        },
        {
         "hoverinfo": "skip",
         "lat": [
          34.19775,
          41.720352
         ],
         "line": {
          "color": "red",
          "width": 1
         },
         "lon": [
          -118.357296,
          -71.429501
         ],
         "mode": "lines",
         "opacity": 1,
         "type": "scattergeo"
        },
        {
         "hoverinfo": "skip",
         "lat": [
          41.720352,
          37.725992
         ],
         "line": {
          "color": "red",
          "width": 1
         },
         "lon": [
          -71.429501,
          -122.217497
         ],
         "mode": "lines",
         "opacity": 1,
         "type": "scattergeo"
        },
        {
         "hoverinfo": "skip",
         "lat": [
          37.725992,
          37.707953
         ],
         "line": {
          "color": "red",
          "width": 1
         },
         "lon": [
          -122.217497,
          -122.220199
         ],
         "mode": "lines",
         "opacity": 1,
         "type": "scattergeo"
        },
        {
         "hoverinfo": "skip",
         "lat": [
          37.707953,
          39.502167
         ],
         "line": {
          "color": "red",
          "width": 1
         },
         "lon": [
          -122.220199,
          -119.766754
         ],
         "mode": "lines",
         "opacity": 1,
         "type": "scattergeo"
        },
        {
         "hoverinfo": "skip",
         "lat": [
          39.502167,
          37.726248
         ],
         "line": {
          "color": "red",
          "width": 1
         },
         "lon": [
          -119.766754,
          -122.218303
         ],
         "mode": "lines",
         "opacity": 1,
         "type": "scattergeo"
        },
        {
         "hoverinfo": "skip",
         "lat": [
          37.726248,
          37.720371
         ],
         "line": {
          "color": "red",
          "width": 1
         },
         "lon": [
          -122.218303,
          -122.239872
         ],
         "mode": "lines",
         "opacity": 1,
         "type": "scattergeo"
        },
        {
         "hoverinfo": "skip",
         "lat": [
          37.720371,
          38.936062
         ],
         "line": {
          "color": "red",
          "width": 1
         },
         "lon": [
          -122.239872,
          -77.436283
         ],
         "mode": "lines",
         "opacity": 1,
         "type": "scattergeo"
        },
        {
         "hoverinfo": "skip",
         "lat": [
          38.936062,
          38.955036
         ],
         "line": {
          "color": "red",
          "width": 1
         },
         "lon": [
          -77.436283,
          -77.440716
         ],
         "mode": "lines",
         "opacity": 1,
         "type": "scattergeo"
        },
        {
         "hoverinfo": "skip",
         "lat": [
          38.955036,
          38.940202
         ],
         "line": {
          "color": "red",
          "width": 1
         },
         "lon": [
          -77.440716,
          -77.453812
         ],
         "mode": "lines",
         "opacity": 1,
         "type": "scattergeo"
        },
        {
         "hoverinfo": "skip",
         "lat": [
          38.940202,
          37.726678
         ],
         "line": {
          "color": "red",
          "width": 1
         },
         "lon": [
          -77.453812,
          -122.219631
         ],
         "mode": "lines",
         "opacity": 1,
         "type": "scattergeo"
        },
        {
         "hoverinfo": "skip",
         "lat": [
          37.726678,
          37.708581
         ],
         "line": {
          "color": "red",
          "width": 1
         },
         "lon": [
          -122.219631,
          -122.221124
         ],
         "mode": "lines",
         "opacity": 1,
         "type": "scattergeo"
        },
        {
         "hoverinfo": "skip",
         "lat": [
          37.708581,
          30.192284
         ],
         "line": {
          "color": "red",
          "width": 1
         },
         "lon": [
          -122.221124,
          -97.657619
         ],
         "mode": "lines",
         "opacity": 1,
         "type": "scattergeo"
        },
        {
         "hoverinfo": "skip",
         "lat": [
          30.192284,
          25.899582
         ],
         "line": {
          "color": "red",
          "width": 1
         },
         "lon": [
          -97.657619,
          -97.419099
         ],
         "mode": "lines",
         "opacity": 1,
         "type": "scattergeo"
        },
        {
         "hoverinfo": "skip",
         "lat": [
          25.899582,
          37.72861
         ],
         "line": {
          "color": "red",
          "width": 1
         },
         "lon": [
          -97.419099,
          -122.216422
         ],
         "mode": "lines",
         "opacity": 1,
         "type": "scattergeo"
        },
        {
         "hoverinfo": "skip",
         "lat": [
          37.72861,
          37.711374
         ],
         "line": {
          "color": "red",
          "width": 1
         },
         "lon": [
          -122.216422,
          -122.22405
         ],
         "mode": "lines",
         "opacity": 1,
         "type": "scattergeo"
        },
        {
         "hoverinfo": "skip",
         "lat": [
          37.711374,
          30.190178
         ],
         "line": {
          "color": "red",
          "width": 1
         },
         "lon": [
          -122.22405,
          -97.657551
         ],
         "mode": "lines",
         "opacity": 1,
         "type": "scattergeo"
        },
        {
         "hoverinfo": "skip",
         "lat": [
          30.190178,
          37.72776
         ],
         "line": {
          "color": "red",
          "width": 1
         },
         "lon": [
          -97.657551,
          -122.213784
         ],
         "mode": "lines",
         "opacity": 1,
         "type": "scattergeo"
        },
        {
         "hoverinfo": "skip",
         "lat": [
          37.72776,
          37.711304
         ],
         "line": {
          "color": "red",
          "width": 1
         },
         "lon": [
          -122.213784,
          -122.224109
         ],
         "mode": "lines",
         "opacity": 1,
         "type": "scattergeo"
        },
        {
         "hoverinfo": "skip",
         "lat": [
          37.711304,
          33.922749
         ],
         "line": {
          "color": "red",
          "width": 1
         },
         "lon": [
          -122.224109,
          -118.338098
         ],
         "mode": "lines",
         "opacity": 1,
         "type": "scattergeo"
        },
        {
         "hoverinfo": "skip",
         "lat": [
          33.922749,
          37.728343
         ],
         "line": {
          "color": "red",
          "width": 1
         },
         "lon": [
          -118.338098,
          -122.215616
         ],
         "mode": "lines",
         "opacity": 1,
         "type": "scattergeo"
        },
        {
         "hoverinfo": "skip",
         "lat": [
          37.728343,
          37.711386
         ],
         "line": {
          "color": "red",
          "width": 1
         },
         "lon": [
          -122.215616,
          -122.224035
         ],
         "mode": "lines",
         "opacity": 1,
         "type": "scattergeo"
        },
        {
         "hoverinfo": "skip",
         "lat": [
          37.711386,
          33.421923
         ],
         "line": {
          "color": "red",
          "width": 1
         },
         "lon": [
          -122.224035,
          -112.376656
         ],
         "mode": "lines",
         "opacity": 1,
         "type": "scattergeo"
        },
        {
         "hoverinfo": "skip",
         "lat": [
          33.421923,
          37.728587
         ],
         "line": {
          "color": "red",
          "width": 1
         },
         "lon": [
          -112.376656,
          -122.216347
         ],
         "mode": "lines",
         "opacity": 1,
         "type": "scattergeo"
        },
        {
         "hoverinfo": "skip",
         "lat": [
          37.728587,
          37.711549
         ],
         "line": {
          "color": "red",
          "width": 1
         },
         "lon": [
          -122.216347,
          -122.223856
         ],
         "mode": "lines",
         "opacity": 1,
         "type": "scattergeo"
        },
        {
         "hoverinfo": "skip",
         "lat": [
          37.711549,
          30.200834
         ],
         "line": {
          "color": "red",
          "width": 1
         },
         "lon": [
          -122.223856,
          -97.678976
         ],
         "mode": "lines",
         "opacity": 1,
         "type": "scattergeo"
        },
        {
         "hoverinfo": "skip",
         "lat": [
          30.200834,
          37.709667
         ],
         "line": {
          "color": "red",
          "width": 1
         },
         "lon": [
          -97.678976,
          -122.225822
         ],
         "mode": "lines",
         "opacity": 1,
         "type": "scattergeo"
        },
        {
         "hoverinfo": "skip",
         "lat": [
          37.709667,
          37.721283
         ],
         "line": {
          "color": "red",
          "width": 1
         },
         "lon": [
          -122.225822,
          -122.208247
         ],
         "mode": "lines",
         "opacity": 1,
         "type": "scattergeo"
        },
        {
         "hoverinfo": "skip",
         "lat": [
          37.721283,
          37.703888
         ],
         "line": {
          "color": "red",
          "width": 1
         },
         "lon": [
          -122.208247,
          -122.214149
         ],
         "mode": "lines",
         "opacity": 1,
         "type": "scattergeo"
        },
        {
         "hoverinfo": "skip",
         "lat": [
          37.703888,
          30.190968
         ],
         "line": {
          "color": "red",
          "width": 1
         },
         "lon": [
          -122.214149,
          -97.657578
         ],
         "mode": "lines",
         "opacity": 1,
         "type": "scattergeo"
        }
       ],
       "layout": {
        "geo": {
         "countrycolor": "rgb(204, 204, 204)",
         "lakecolor": "rgb(255, 255, 255)",
         "landcolor": "rgb(243, 243, 243)",
         "projection": {
          "type": "equirectangular"
         },
         "showlakes": true,
         "showland": true
        },
        "height": 1000,
        "margin": {
         "b": 0,
         "l": 0,
         "r": 0,
         "t": 0
        },
        "showlegend": false,
        "template": {
         "data": {
          "bar": [
           {
            "error_x": {
             "color": "#2a3f5f"
            },
            "error_y": {
             "color": "#2a3f5f"
            },
            "marker": {
             "line": {
              "color": "#E5ECF6",
              "width": 0.5
             },
             "pattern": {
              "fillmode": "overlay",
              "size": 10,
              "solidity": 0.2
             }
            },
            "type": "bar"
           }
          ],
          "barpolar": [
           {
            "marker": {
             "line": {
              "color": "#E5ECF6",
              "width": 0.5
             },
             "pattern": {
              "fillmode": "overlay",
              "size": 10,
              "solidity": 0.2
             }
            },
            "type": "barpolar"
           }
          ],
          "carpet": [
           {
            "aaxis": {
             "endlinecolor": "#2a3f5f",
             "gridcolor": "white",
             "linecolor": "white",
             "minorgridcolor": "white",
             "startlinecolor": "#2a3f5f"
            },
            "baxis": {
             "endlinecolor": "#2a3f5f",
             "gridcolor": "white",
             "linecolor": "white",
             "minorgridcolor": "white",
             "startlinecolor": "#2a3f5f"
            },
            "type": "carpet"
           }
          ],
          "choropleth": [
           {
            "colorbar": {
             "outlinewidth": 0,
             "ticks": ""
            },
            "type": "choropleth"
           }
          ],
          "contour": [
           {
            "colorbar": {
             "outlinewidth": 0,
             "ticks": ""
            },
            "colorscale": [
             [
              0,
              "#0d0887"
             ],
             [
              0.1111111111111111,
              "#46039f"
             ],
             [
              0.2222222222222222,
              "#7201a8"
             ],
             [
              0.3333333333333333,
              "#9c179e"
             ],
             [
              0.4444444444444444,
              "#bd3786"
             ],
             [
              0.5555555555555556,
              "#d8576b"
             ],
             [
              0.6666666666666666,
              "#ed7953"
             ],
             [
              0.7777777777777778,
              "#fb9f3a"
             ],
             [
              0.8888888888888888,
              "#fdca26"
             ],
             [
              1,
              "#f0f921"
             ]
            ],
            "type": "contour"
           }
          ],
          "contourcarpet": [
           {
            "colorbar": {
             "outlinewidth": 0,
             "ticks": ""
            },
            "type": "contourcarpet"
           }
          ],
          "heatmap": [
           {
            "colorbar": {
             "outlinewidth": 0,
             "ticks": ""
            },
            "colorscale": [
             [
              0,
              "#0d0887"
             ],
             [
              0.1111111111111111,
              "#46039f"
             ],
             [
              0.2222222222222222,
              "#7201a8"
             ],
             [
              0.3333333333333333,
              "#9c179e"
             ],
             [
              0.4444444444444444,
              "#bd3786"
             ],
             [
              0.5555555555555556,
              "#d8576b"
             ],
             [
              0.6666666666666666,
              "#ed7953"
             ],
             [
              0.7777777777777778,
              "#fb9f3a"
             ],
             [
              0.8888888888888888,
              "#fdca26"
             ],
             [
              1,
              "#f0f921"
             ]
            ],
            "type": "heatmap"
           }
          ],
          "heatmapgl": [
           {
            "colorbar": {
             "outlinewidth": 0,
             "ticks": ""
            },
            "colorscale": [
             [
              0,
              "#0d0887"
             ],
             [
              0.1111111111111111,
              "#46039f"
             ],
             [
              0.2222222222222222,
              "#7201a8"
             ],
             [
              0.3333333333333333,
              "#9c179e"
             ],
             [
              0.4444444444444444,
              "#bd3786"
             ],
             [
              0.5555555555555556,
              "#d8576b"
             ],
             [
              0.6666666666666666,
              "#ed7953"
             ],
             [
              0.7777777777777778,
              "#fb9f3a"
             ],
             [
              0.8888888888888888,
              "#fdca26"
             ],
             [
              1,
              "#f0f921"
             ]
            ],
            "type": "heatmapgl"
           }
          ],
          "histogram": [
           {
            "marker": {
             "pattern": {
              "fillmode": "overlay",
              "size": 10,
              "solidity": 0.2
             }
            },
            "type": "histogram"
           }
          ],
          "histogram2d": [
           {
            "colorbar": {
             "outlinewidth": 0,
             "ticks": ""
            },
            "colorscale": [
             [
              0,
              "#0d0887"
             ],
             [
              0.1111111111111111,
              "#46039f"
             ],
             [
              0.2222222222222222,
              "#7201a8"
             ],
             [
              0.3333333333333333,
              "#9c179e"
             ],
             [
              0.4444444444444444,
              "#bd3786"
             ],
             [
              0.5555555555555556,
              "#d8576b"
             ],
             [
              0.6666666666666666,
              "#ed7953"
             ],
             [
              0.7777777777777778,
              "#fb9f3a"
             ],
             [
              0.8888888888888888,
              "#fdca26"
             ],
             [
              1,
              "#f0f921"
             ]
            ],
            "type": "histogram2d"
           }
          ],
          "histogram2dcontour": [
           {
            "colorbar": {
             "outlinewidth": 0,
             "ticks": ""
            },
            "colorscale": [
             [
              0,
              "#0d0887"
             ],
             [
              0.1111111111111111,
              "#46039f"
             ],
             [
              0.2222222222222222,
              "#7201a8"
             ],
             [
              0.3333333333333333,
              "#9c179e"
             ],
             [
              0.4444444444444444,
              "#bd3786"
             ],
             [
              0.5555555555555556,
              "#d8576b"
             ],
             [
              0.6666666666666666,
              "#ed7953"
             ],
             [
              0.7777777777777778,
              "#fb9f3a"
             ],
             [
              0.8888888888888888,
              "#fdca26"
             ],
             [
              1,
              "#f0f921"
             ]
            ],
            "type": "histogram2dcontour"
           }
          ],
          "mesh3d": [
           {
            "colorbar": {
             "outlinewidth": 0,
             "ticks": ""
            },
            "type": "mesh3d"
           }
          ],
          "parcoords": [
           {
            "line": {
             "colorbar": {
              "outlinewidth": 0,
              "ticks": ""
             }
            },
            "type": "parcoords"
           }
          ],
          "pie": [
           {
            "automargin": true,
            "type": "pie"
           }
          ],
          "scatter": [
           {
            "fillpattern": {
             "fillmode": "overlay",
             "size": 10,
             "solidity": 0.2
            },
            "type": "scatter"
           }
          ],
          "scatter3d": [
           {
            "line": {
             "colorbar": {
              "outlinewidth": 0,
              "ticks": ""
             }
            },
            "marker": {
             "colorbar": {
              "outlinewidth": 0,
              "ticks": ""
             }
            },
            "type": "scatter3d"
           }
          ],
          "scattercarpet": [
           {
            "marker": {
             "colorbar": {
              "outlinewidth": 0,
              "ticks": ""
             }
            },
            "type": "scattercarpet"
           }
          ],
          "scattergeo": [
           {
            "marker": {
             "colorbar": {
              "outlinewidth": 0,
              "ticks": ""
             }
            },
            "type": "scattergeo"
           }
          ],
          "scattergl": [
           {
            "marker": {
             "colorbar": {
              "outlinewidth": 0,
              "ticks": ""
             }
            },
            "type": "scattergl"
           }
          ],
          "scattermapbox": [
           {
            "marker": {
             "colorbar": {
              "outlinewidth": 0,
              "ticks": ""
             }
            },
            "type": "scattermapbox"
           }
          ],
          "scatterpolar": [
           {
            "marker": {
             "colorbar": {
              "outlinewidth": 0,
              "ticks": ""
             }
            },
            "type": "scatterpolar"
           }
          ],
          "scatterpolargl": [
           {
            "marker": {
             "colorbar": {
              "outlinewidth": 0,
              "ticks": ""
             }
            },
            "type": "scatterpolargl"
           }
          ],
          "scatterternary": [
           {
            "marker": {
             "colorbar": {
              "outlinewidth": 0,
              "ticks": ""
             }
            },
            "type": "scatterternary"
           }
          ],
          "surface": [
           {
            "colorbar": {
             "outlinewidth": 0,
             "ticks": ""
            },
            "colorscale": [
             [
              0,
              "#0d0887"
             ],
             [
              0.1111111111111111,
              "#46039f"
             ],
             [
              0.2222222222222222,
              "#7201a8"
             ],
             [
              0.3333333333333333,
              "#9c179e"
             ],
             [
              0.4444444444444444,
              "#bd3786"
             ],
             [
              0.5555555555555556,
              "#d8576b"
             ],
             [
              0.6666666666666666,
              "#ed7953"
             ],
             [
              0.7777777777777778,
              "#fb9f3a"
             ],
             [
              0.8888888888888888,
              "#fdca26"
             ],
             [
              1,
              "#f0f921"
             ]
            ],
            "type": "surface"
           }
          ],
          "table": [
           {
            "cells": {
             "fill": {
              "color": "#EBF0F8"
             },
             "line": {
              "color": "white"
             }
            },
            "header": {
             "fill": {
              "color": "#C8D4E3"
             },
             "line": {
              "color": "white"
             }
            },
            "type": "table"
           }
          ]
         },
         "layout": {
          "annotationdefaults": {
           "arrowcolor": "#2a3f5f",
           "arrowhead": 0,
           "arrowwidth": 1
          },
          "autotypenumbers": "strict",
          "coloraxis": {
           "colorbar": {
            "outlinewidth": 0,
            "ticks": ""
           }
          },
          "colorscale": {
           "diverging": [
            [
             0,
             "#8e0152"
            ],
            [
             0.1,
             "#c51b7d"
            ],
            [
             0.2,
             "#de77ae"
            ],
            [
             0.3,
             "#f1b6da"
            ],
            [
             0.4,
             "#fde0ef"
            ],
            [
             0.5,
             "#f7f7f7"
            ],
            [
             0.6,
             "#e6f5d0"
            ],
            [
             0.7,
             "#b8e186"
            ],
            [
             0.8,
             "#7fbc41"
            ],
            [
             0.9,
             "#4d9221"
            ],
            [
             1,
             "#276419"
            ]
           ],
           "sequential": [
            [
             0,
             "#0d0887"
            ],
            [
             0.1111111111111111,
             "#46039f"
            ],
            [
             0.2222222222222222,
             "#7201a8"
            ],
            [
             0.3333333333333333,
             "#9c179e"
            ],
            [
             0.4444444444444444,
             "#bd3786"
            ],
            [
             0.5555555555555556,
             "#d8576b"
            ],
            [
             0.6666666666666666,
             "#ed7953"
            ],
            [
             0.7777777777777778,
             "#fb9f3a"
            ],
            [
             0.8888888888888888,
             "#fdca26"
            ],
            [
             1,
             "#f0f921"
            ]
           ],
           "sequentialminus": [
            [
             0,
             "#0d0887"
            ],
            [
             0.1111111111111111,
             "#46039f"
            ],
            [
             0.2222222222222222,
             "#7201a8"
            ],
            [
             0.3333333333333333,
             "#9c179e"
            ],
            [
             0.4444444444444444,
             "#bd3786"
            ],
            [
             0.5555555555555556,
             "#d8576b"
            ],
            [
             0.6666666666666666,
             "#ed7953"
            ],
            [
             0.7777777777777778,
             "#fb9f3a"
            ],
            [
             0.8888888888888888,
             "#fdca26"
            ],
            [
             1,
             "#f0f921"
            ]
           ]
          },
          "colorway": [
           "#636efa",
           "#EF553B",
           "#00cc96",
           "#ab63fa",
           "#FFA15A",
           "#19d3f3",
           "#FF6692",
           "#B6E880",
           "#FF97FF",
           "#FECB52"
          ],
          "font": {
           "color": "#2a3f5f"
          },
          "geo": {
           "bgcolor": "white",
           "lakecolor": "white",
           "landcolor": "#E5ECF6",
           "showlakes": true,
           "showland": true,
           "subunitcolor": "white"
          },
          "hoverlabel": {
           "align": "left"
          },
          "hovermode": "closest",
          "mapbox": {
           "style": "light"
          },
          "paper_bgcolor": "white",
          "plot_bgcolor": "#E5ECF6",
          "polar": {
           "angularaxis": {
            "gridcolor": "white",
            "linecolor": "white",
            "ticks": ""
           },
           "bgcolor": "#E5ECF6",
           "radialaxis": {
            "gridcolor": "white",
            "linecolor": "white",
            "ticks": ""
           }
          },
          "scene": {
           "xaxis": {
            "backgroundcolor": "#E5ECF6",
            "gridcolor": "white",
            "gridwidth": 2,
            "linecolor": "white",
            "showbackground": true,
            "ticks": "",
            "zerolinecolor": "white"
           },
           "yaxis": {
            "backgroundcolor": "#E5ECF6",
            "gridcolor": "white",
            "gridwidth": 2,
            "linecolor": "white",
            "showbackground": true,
            "ticks": "",
            "zerolinecolor": "white"
           },
           "zaxis": {
            "backgroundcolor": "#E5ECF6",
            "gridcolor": "white",
            "gridwidth": 2,
            "linecolor": "white",
            "showbackground": true,
            "ticks": "",
            "zerolinecolor": "white"
           }
          },
          "shapedefaults": {
           "line": {
            "color": "#2a3f5f"
           }
          },
          "ternary": {
           "aaxis": {
            "gridcolor": "white",
            "linecolor": "white",
            "ticks": ""
           },
           "baxis": {
            "gridcolor": "white",
            "linecolor": "white",
            "ticks": ""
           },
           "bgcolor": "#E5ECF6",
           "caxis": {
            "gridcolor": "white",
            "linecolor": "white",
            "ticks": ""
           }
          },
          "title": {
           "x": 0.05
          },
          "xaxis": {
           "automargin": true,
           "gridcolor": "white",
           "linecolor": "white",
           "ticks": "",
           "title": {
            "standoff": 15
           },
           "zerolinecolor": "white",
           "zerolinewidth": 2
          },
          "yaxis": {
           "automargin": true,
           "gridcolor": "white",
           "linecolor": "white",
           "ticks": "",
           "title": {
            "standoff": 15
           },
           "zerolinecolor": "white",
           "zerolinewidth": 2
          }
         }
        }
       }
      }
     },
     "metadata": {},
     "output_type": "display_data"
    }
   ],
   "source": [
    "#Make traces\n",
    "data_trace = {'lat':[], 'lon':[], 'timestamp':[], 'label':[]}\n",
    "\n",
    "for location in destinations_list:\n",
    "    entry = json_data[location[0]]\n",
    "    data_trace['lat'].append(entry[\"lat\"])\n",
    "    data_trace['lon'].append(entry[\"lon\"])\n",
    "    data_trace['timestamp'].append(location[0])\n",
    "    data_trace['label'].append(location[1])\n",
    "\n",
    "#Make marker sizes\n",
    "min_d_s = min(data_unique['data'])\n",
    "max_d_s = max(data_unique['data'])\n",
    "min_p_s = 3.5\n",
    "max_p_s = 15\n",
    "marker_sizes = [(v - min_d_s)/(max_d_s - min_d_s) * (max_p_s - min_p_s) + min_p_s for v in data_unique['data']]\n",
    "\n",
    "fig = go.Figure()\n",
    "fig.add_trace(go.Scattergeo(\n",
    "    locationmode = 'USA-states',\n",
    "    lon = data_unique['lon'],\n",
    "    lat = data_unique['lat'],\n",
    "    hoverinfo = 'text',\n",
    "    text = data_unique['label'],\n",
    "    mode = 'markers',\n",
    "    marker = dict(\n",
    "        size = marker_sizes,\n",
    "        color = 'rgb(0, 0, 255)',\n",
    "        line = dict(\n",
    "            width = 3,\n",
    "            color = 'rgba(68, 68, 68, 0)'\n",
    "        )\n",
    "    )))\n",
    "\n",
    "for i in range(len(data_trace['lon']) - 1):\n",
    "    fig.add_trace(\n",
    "        go.Scattergeo(\n",
    "            # locationmode = 'USA-states',\n",
    "            lon = [data_trace['lon'][i], data_trace['lon'][i + 1]],\n",
    "            lat = [data_trace['lat'][i], data_trace['lat'][i + 1]],\n",
    "            hoverinfo='skip',\n",
    "            mode = 'lines',\n",
    "            line = dict(width = 1,color = 'red'),\n",
    "            opacity = 1#float(df_flight_paths['cnt'][i]) / float(df_flight_paths['cnt'].max()),\n",
    "        )\n",
    "    )\n",
    "\n",
    "fig.update_layout(\n",
    "    margin=dict(l=0, r=0, b=0, t=0),\n",
    "    showlegend = False,\n",
    "    geo = dict(\n",
    "        # scope = 'north america',\n",
    "        projection_type = 'equirectangular',\n",
    "\n",
    "        showland = True,\n",
    "        landcolor = 'rgb(243, 243, 243)',\n",
    "        countrycolor = 'rgb(204, 204, 204)',\n",
    "\n",
    "        showlakes = True,\n",
    "        lakecolor = 'rgb(255, 255, 255)'\n",
    "    ),\n",
    ")\n",
    "\n",
    "fig.show()"
   ]
  },
  {
   "attachments": {},
   "cell_type": "markdown",
   "metadata": {},
   "source": [
    "<h2>Making SQL Databas</h2>\n",
    "\n",
    "1. Format json data to csv file\n",
    "2. Make SQL database from reformated data"
   ]
  },
  {
   "cell_type": "code",
   "execution_count": 19,
   "metadata": {},
   "outputs": [],
   "source": [
    "csv_save_file = \"a835af_tracking_data_2020-01-19_2023-02-26.csv\"\n",
    "\n",
    "with open(csv_save_file, \"w\") as target_file:\n",
    "    target_file.write(\"{}, {}, {}, {}, {}\\n\".format(\"Time\", \"latitude\", \"longitude\", \"barometric altitude\", \"ground speed\"))\n",
    "    for date in json_data:\n",
    "        entry = json_data[date]\n",
    "        target_file.write(\"{}, {}, {}, {}, {}\\n\".format(date, entry[\"lat\"], entry[\"lon\"], entry[\"baro_alt\"], entry[\"grd_speed\"]))\n",
    "        "
   ]
  },
  {
   "cell_type": "code",
   "execution_count": 26,
   "metadata": {},
   "outputs": [],
   "source": [
    "#Load csv\n",
    "import pandas as pd\n",
    "\n",
    "csv_trace_path = \"a835af_tracking_data_2020-01-19_2023-02-26.csv\"\n",
    "csv_landing_path = \"landing_locations_a835af_tracking_data_2020-01-19_2023-02-26.csv\"\n",
    "\n",
    "df_csv_trace = pd.read_csv(csv_trace_path, ',')\n",
    "df_csv_landings = pd.read_csv(csv_landing_path, ',')\n",
    "\n",
    "#Make database\n",
    "import sqlite3\n",
    "\n",
    "con =  sqlite3.connect('where_is_elon.db')\n",
    "\n",
    "#Add to database\n",
    "df_csv_trace.to_sql(\"trace\", con=con)\n",
    "df_csv_landings.to_sql(\"landings\", con=con)\n",
    "\n",
    "con.commit() #Just in case\n",
    "con.close()"
   ]
  },
  {
   "attachments": {},
   "cell_type": "markdown",
   "metadata": {},
   "source": [
    "<h2>Test Elements - Ignore</h2>"
   ]
  },
  {
   "cell_type": "code",
   "execution_count": 181,
   "metadata": {},
   "outputs": [
    {
     "name": "stdout",
     "output_type": "stream",
     "text": [
      "{'lat': 32.164948, 'lon': -106.608966, 'baro_alt': 43000, 'grd_speed': 464, 'extra': {'flight_num': 'N628TS  ', 'geom_alt': 44000, 'baro_rate': -64, 'grd_track': 306.5}}\n"
     ]
    }
   ],
   "source": [
    "indices = []\n",
    "for i in range(len(list(data.keys()))):\n",
    "    if(data[list(data.keys())[i]]['extra'] != None):\n",
    "        indices.append(i)\n",
    "\n",
    "print(data[list(data.keys())[indices[100]]])"
   ]
  },
  {
   "cell_type": "code",
   "execution_count": 182,
   "metadata": {},
   "outputs": [
    {
     "name": "stdout",
     "output_type": "stream",
     "text": [
      "['addrtype', 'alt_baro', 'alt_reliable', 'alt_rounded', 'altitude', 'altitudeTime', 'bad_alt', 'bad_altTime', 'baseMarkerKey', 'baseScale', 'bgColorCache', 'category', 'clearTraceAfter', 'country', 'dataSource', 'dbinfoLoaded', 'drawLine', 'elastic_feature', 'fakeHex', 'flag_image', 'flight', 'flightTs', 'fullTrace', 'geom_diff', 'geom_diff_ts', 'gs', 'history_size', 'icao', 'icaoType', 'icaoTypeCache', 'inView', 'interesting', 'ladd', 'last', 'lastTraceTs', 'lastVisible', 'last_info_server', 'last_message_time', 'layer', 'linesDrawn', 'marker', 'markerDrawn', 'markerIcon', 'markerStyle', 'markerStyleKey', 'markerSvgKey', 'messageRate', 'messageRateOld', 'messages', 'military', 'msgs1090', 'msgs978', 'nac_p', 'nac_v', 'name', 'nav_altitude', 'noInfoTime', 'numHex', 'onGround', 'ownOp', 'pia', 'position', 'position_time', 'prev_alt', 'prev_alt_rounded', 'prev_dataSource', 'prev_rot', 'prev_speed', 'prev_time', 'proj', 'psAPIparam', 'psAPIresponse', 'psAPIresponseTS', 'rc', 'recentTrace', 'refreshTR', 'registration', 'request_rotation_from_track', 'rotation', 'rotationCache', 'rssi', 'scale', 'seen', 'seen_pos', 'selectCache', 'selected', 'shape', 'sil', 'sil_type', 'sitedist', 'speed', 'squawk', 'strokeWidth', 'tail_rot', 'tail_track', 'tail_update', 'too_fast', 'tr', 'trCache', 'trace', 'track_linesegs', 'trail_features', 'typeDescription', 'typeLong', 'version', 'vert_rate', 'visible', 'wtc', 'year', 'zIndex']\n",
      "---------------------------------------\n",
      "753\n",
      "[1675828960.18, 37.710932, -122.224318, 'ground', 10.8, 182.8, 0, None, {'type': 'adsb_icao', 'flight': 'N628TS  ', 'track': 182.81, 'true_heading': 182.81, 'squawk': '3203', 'emergency': 'none', 'category': 'A3', 'nic': 8, 'rc': 186, 'version': 2, 'nac_p': 10, 'nac_v': 2, 'sil': 3, 'sil_type': 'perhour', 'sda': 2}, 'adsb_icao', None, None, None, None]\n",
      "\n",
      "[1675830824.96, 36.036925, -120.630292, 33000, 533.4, 138.4, 0, 0, {'type': 'adsb_icao', 'flight': 'N628TS  ', 'alt_geom': 33425, 'ias': 322, 'tas': 514, 'mach': 0.896, 'wd': 276, 'ws': 29, 'oat': -56, 'tat': -22, 'track': 138.42, 'track_rate': 0, 'roll': 0, 'mag_heading': 128.14, 'true_heading': 140.59, 'baro_rate': 0, 'geom_rate': 0, 'squawk': '3203', 'emergency': 'none', 'category': 'A3', 'nav_qnh': 1013.6, 'nav_altitude_mcp': 33024, 'nav_altitude_fms': 33008, 'nav_modes': ['autopilot', 'althold', 'tcas'], 'nic': 8, 'rc': 186, 'version': 2, 'nic_baro': 1, 'nac_p': 10, 'nac_v': 2, 'sil': 3, 'sil_type': 'perhour', 'gva': 2, 'sda': 2, 'alert': 0, 'spi': 0}, 'adsb_icao', 33425, 0, 322, 0]\n"
     ]
    }
   ],
   "source": [
    "print(sorted(list(js_data[0].keys())))\n",
    "print(\"---------------------------------------\")\n",
    "print(len(js_data[0]['fullTrace']['trace']))\n",
    "print(js_data[0]['fullTrace']['trace'][100])\n",
    "print(\"\")\n",
    "print(js_data[0]['fullTrace']['trace'][400])"
   ]
  },
  {
   "cell_type": "code",
   "execution_count": 183,
   "metadata": {},
   "outputs": [
    {
     "name": "stdout",
     "output_type": "stream",
     "text": [
      "2023-02-08 01:48:08\n"
     ]
    }
   ],
   "source": [
    "print(datetime.strptime(\"1970/01/01\", '%Y/%m/%d') + timedelta(seconds=1675820888))"
   ]
  },
  {
   "cell_type": "code",
   "execution_count": 184,
   "metadata": {},
   "outputs": [],
   "source": [
    "# from selenium.webdriver.chrome.service import Service\n",
    "# from time import sleep\n",
    "\n",
    "# chromedriver = \"C:/webdrivers/chromedriver.exe\"\n",
    "\n",
    "# option = webdriver.ChromeOptions()\n",
    "# option.binary_location = \"C:/Program Files/BraveSoftware/Brave-Browser/Application/brave.exe\"\n",
    "\n",
    "# s = Service(chromedriver)\n",
    "\n",
    "# driver = webdriver.Chrome(service=s, options=option)\n",
    "\n",
    "# #Patch Fingerprint leaks\n",
    "# script = \"Object.defineProperty(navigator, 'webdriver', {get: () => false})\"\n",
    "# driver.execute_cdp_cmd(\"Page.addScriptToEvaluateOnNewDocument\", {\"source\": script})\n",
    "\n",
    "# delta = endDate - startDate\n",
    "# for i in range(delta.days + 1):\n",
    "#     driver.get(\"https://globe.adsbexchange.com/?icao={}&lat={}&lon={}&zoom={}&showTrace={}\".format(targetIcao, lat, lon, zoom, startDate + timedelta(days=i)))\n",
    "#     # sleep(10)\n",
    "#     # element = driver.execute_script(\"return selectedPlanes()\")\n",
    "#     # print(element)\n",
    "# # driver.close()"
   ]
  }
 ],
 "metadata": {
  "kernelspec": {
   "display_name": "base",
   "language": "python",
   "name": "python3"
  },
  "language_info": {
   "codemirror_mode": {
    "name": "ipython",
    "version": 3
   },
   "file_extension": ".py",
   "mimetype": "text/x-python",
   "name": "python",
   "nbconvert_exporter": "python",
   "pygments_lexer": "ipython3",
   "version": "3.8.8"
  },
  "orig_nbformat": 4,
  "vscode": {
   "interpreter": {
    "hash": "56c86a9ba7b3d87e8dcf3ce7ca9250367f1d85331f77f621a926d7b96e36aeef"
   }
  }
 },
 "nbformat": 4,
 "nbformat_minor": 2
}
