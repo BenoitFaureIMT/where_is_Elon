{
 "cells": [
  {
   "attachments": {},
   "cell_type": "markdown",
   "metadata": {},
   "source": [
    "<center><h1>Where is Elon?!</h1></center>\n",
    "\n",
    "Elon musk's plane tracker, will include:\n",
    "- Data scraping\n",
    "- Data visualization\n",
    "\n",
    "Jet information\n",
    "- Registration: N628TS\n",
    "- ICON hex number: A835AF\n",
    "- Category: A3 Large (75000 to 300000 lb)\n",
    "\n",
    "Source is ADS-B exchange (All proper APIs are priced)\n",
    "- https://globe.adsbexchange.com\n",
    "- https://globe.adsbexchange.com/?icao=a835af&lat=37.731&lon=-122.215&zoom=1.0&showTrace=2023-02-08 Using their replay function for day -> showTrace=YYYY-MM-DD\n",
    "- https://globe.adsbexchange.com/?replay=2023-02-16-11:46&lat=40.560&lon=-73.660&zoom=9.0 (Deprecated) Using their replay function -> replay=YYYY-MM-DD-HH:MM\n",
    "\n",
    "Settings:\n",
    "- replay=YYYY-MM-DD-HH:MM\n",
    "- icao=a835af\n",
    "- lat=0\n",
    "- lon=0\n",
    "- zoom=2.0\n",
    "\n",
    "Javascript variable:\n",
    "- selectedPlanes\n",
    "    - fullTrace\n",
    "\n",
    "<!-- \n",
    "other info (temporary)\n",
    "ads-b exchange replay function\n",
    "https://globe.adsbexchange.com/?replay=2023-02-16-11:46&lat=40.560&lon=-73.660&zoom=9.0\n",
    "\n",
    "\n",
    "maybe:\n",
    "https://globe.adsbexchange.com/?replay=2023-03-01&icao=a835af\n",
    "\n",
    "\n",
    "https://globe.adsbexchange.com/?icao=a835af&lat=37.731&lon=-122.215&zoom=1.0&showTrace=2023-02-08 <- we got a winner!!!!!\n",
    "\n",
    "console:\n",
    "selectedPlanes()\n",
    "-> fullTrace\n",
    "-> trace -->"
   ]
  },
  {
   "attachments": {},
   "cell_type": "markdown",
   "metadata": {},
   "source": [
    "<h2>Imports and settings</h2>"
   ]
  },
  {
   "cell_type": "code",
   "execution_count": 192,
   "metadata": {},
   "outputs": [],
   "source": [
    "from selenium import webdriver\n",
    "\n",
    "import json\n",
    "\n",
    "from time import sleep\n",
    "\n",
    "from datetime import datetime, timedelta\n",
    "from math import floor"
   ]
  },
  {
   "cell_type": "code",
   "execution_count": 174,
   "metadata": {},
   "outputs": [],
   "source": [
    "#Scraper settings\n",
    "targetIcao = \"a835af\"\n",
    "startDate = datetime.strptime(\"2023/02/01\", '%Y/%m/%d').date()\n",
    "endDate = datetime.strptime(\"2023/02/08\", '%Y/%m/%d').date() #datetime.now().date()\n",
    "\n",
    "lat = \"0.000\"\n",
    "lon = \"0.000\"\n",
    "zoom = \"2.0\"\n",
    "\n",
    "#Saving settings\n",
    "save_file = \"tracking_data.json\""
   ]
  },
  {
   "cell_type": "code",
   "execution_count": 175,
   "metadata": {},
   "outputs": [],
   "source": [
    "#Other data\n",
    "javaScript_start_time = datetime.strptime(\"1970/01/01\", '%Y/%m/%d') #Time delta in seconds"
   ]
  },
  {
   "attachments": {},
   "cell_type": "markdown",
   "metadata": {},
   "source": [
    "<h2>Scrap data</h2>\n",
    "\n",
    "Data from - Selected Planes() -> showTrace\n",
    "\n",
    "Problem -> Circular reference in javascript object so can't return it </n>\n",
    "Solution -> https://stackoverflow.com/a/10455320/454773 get rid of circular reference + parse to json\n",
    "\n",
    "Trace data as:\n",
    "- list of values + dict\n",
    "    - [<b>time</b> (javscript time), <b>latitude</b>, <b>longitude</b>, <b>altitude/'ground'</b>, <b>ground speed (kt)</b>, ground track, ?, ?, <b>dict</b>, transponder type (I think), geometric altitude, ?, indicated speed, ?]\n",
    "    - dict -> keys depend on ground or air + sometimes no info\n",
    "        - Gonna take: 'flight' (flight number), 'alt_geom' (geometric altitude), 'ias' (indicated speed), 'tas' (true speed), 'mach', 'wd' (wind direction), 'ws' (wind speed), 'track' (ground track), 'mag_heading' (magnetic heading), 'true_heading', 'baro_rate' (barometric climb (ft/min)), 'geom_rate' (rate of climb or decent ft/min)\n",
    "\n",
    "ground track -> aircraft direction above ground (?)\n",
    "geometric altitude -> The geometric GPS derived altitude referenced to WGS84 ellipsoid <!-- (or reference EGM96 when enabled in the settings) -->\n",
    "\n",
    "Data Storage -> Saved in dictionary\n",
    "- key -> date time information\n",
    "- value -> dict {lat, lon, baro_alt, grd_speed, extra : dict2}\n",
    "    - dict2 -> dict {flight_num, geom_alt, geom_rate, baro_rate, indicated_spd, true_spd, mach, wind_dir, wind_spd, grd_track, mag_heading, true_heading} (Not always complete)"
   ]
  },
  {
   "cell_type": "code",
   "execution_count": 176,
   "metadata": {},
   "outputs": [],
   "source": [
    "#Utility functions\n",
    "util_bld_dict2_ins = [\"flight\", \"alt_geom\", \"geom_rate\", \"baro_rate\", \"ias\", \"tas\", \"mach\", \"wd\", \"ws\", \"track\", \"mag_heading\", \"true_heading\"]\n",
    "util_bld_dict2_outs = [\"flight_num\", \"geom_alt\", \"geom_rate\", \"baro_rate\", \"indicated_spd\", \"true_spd\", \"mach\", \"wind_dir\", \"wind_spd\", \"grd_track\", \"mag_heading\", \"true_heading\"]\n",
    "\n",
    "def build_dict(lin):\n",
    "    info = {}\n",
    "    info[\"lat\"] = lin[1]\n",
    "    info[\"lon\"] = lin[2]\n",
    "    info[\"baro_alt\"] = lin[3]\n",
    "    info[\"grd_speed\"] = lin[4]\n",
    "    if lin[8] == None:\n",
    "        info[\"extra\"] = None\n",
    "    else:\n",
    "        extra = {}\n",
    "        for i in range(len(util_bld_dict2_ins)):\n",
    "            v = lin[8].get(util_bld_dict2_ins[i])\n",
    "            if v != None:\n",
    "                extra[util_bld_dict2_outs[i]] = v\n",
    "        info[\"extra\"] = extra\n",
    "    return info\n",
    "\n",
    "def get_java_time(dt):\n",
    "    return datetime.strptime(\"1970/01/01\", '%Y/%m/%d') + timedelta(seconds=floor(dt))\n",
    "\n",
    "def has_trace(obj):\n",
    "    return len(obj) > 0 and obj[0].get(\"fullTrace\") != None and obj[0][\"fullTrace\"].get(\"trace\") != None"
   ]
  },
  {
   "cell_type": "code",
   "execution_count": 189,
   "metadata": {},
   "outputs": [],
   "source": [
    "driver = webdriver.Chrome()\n",
    "\n",
    "jss = '''const getCircularReplacer = () => {\n",
    "  const seen = new WeakSet();\n",
    "  return (key, value) => {\n",
    "    if (typeof value === \"object\" && value !== null) {\n",
    "      if (seen.has(value)) {\n",
    "        return;\n",
    "      }\n",
    "      seen.add(value);\n",
    "    }\n",
    "    return value;\n",
    "  };\n",
    "};\n",
    "\n",
    "return JSON.stringify(selectedPlanes(), getCircularReplacer());\n",
    "'''\n",
    "\n",
    "#Declare data storage\n",
    "data = {}\n",
    "\n",
    "delta = endDate - startDate\n",
    "for i in range(delta.days + 1):\n",
    "    #Get webpage\n",
    "    driver.get(\"https://globe.adsbexchange.com/?icao={}&lat={}&lon={}&zoom={}&showTrace={}\".format(targetIcao, lat, lon, zoom, startDate + timedelta(days=i)))\n",
    "\n",
    "    #Give enough time for javascript execution + information return\n",
    "    c = 0\n",
    "    while (c < 5):\n",
    "      sleep(1)\n",
    "      js_data = json.loads(driver.execute_script(jss))\n",
    "      c += 10 if has_trace(js_data) else 1\n",
    "\n",
    "    if(has_trace(js_data)):\n",
    "\n",
    "        for l in js_data[0]['fullTrace']['trace']:\n",
    "            t = get_java_time(l[0])\n",
    "            data[str(t)] = build_dict(l)\n",
    "    \n",
    "driver.close()"
   ]
  },
  {
   "attachments": {},
   "cell_type": "markdown",
   "metadata": {},
   "source": [
    "<h2>Save data</h2>\n",
    "\n",
    "Data saved in json file"
   ]
  },
  {
   "cell_type": "code",
   "execution_count": 190,
   "metadata": {},
   "outputs": [],
   "source": [
    "json_data = json.dumps(data, indent=4)\n",
    " \n",
    "# Writing to sample.json\n",
    "with open(targetIcao + \"_\" + save_file, \"w\") as target_file:\n",
    "    target_file.write(json_data)"
   ]
  },
  {
   "attachments": {},
   "cell_type": "markdown",
   "metadata": {},
   "source": [
    "<h2>Test Elements - Ignore</h2>"
   ]
  },
  {
   "cell_type": "code",
   "execution_count": 181,
   "metadata": {},
   "outputs": [
    {
     "name": "stdout",
     "output_type": "stream",
     "text": [
      "{'lat': 32.164948, 'lon': -106.608966, 'baro_alt': 43000, 'grd_speed': 464, 'extra': {'flight_num': 'N628TS  ', 'geom_alt': 44000, 'baro_rate': -64, 'grd_track': 306.5}}\n"
     ]
    }
   ],
   "source": [
    "indices = []\n",
    "for i in range(len(list(data.keys()))):\n",
    "    if(data[list(data.keys())[i]]['extra'] != None):\n",
    "        indices.append(i)\n",
    "\n",
    "print(data[list(data.keys())[indices[100]]])"
   ]
  },
  {
   "cell_type": "code",
   "execution_count": 182,
   "metadata": {},
   "outputs": [
    {
     "name": "stdout",
     "output_type": "stream",
     "text": [
      "['addrtype', 'alt_baro', 'alt_reliable', 'alt_rounded', 'altitude', 'altitudeTime', 'bad_alt', 'bad_altTime', 'baseMarkerKey', 'baseScale', 'bgColorCache', 'category', 'clearTraceAfter', 'country', 'dataSource', 'dbinfoLoaded', 'drawLine', 'elastic_feature', 'fakeHex', 'flag_image', 'flight', 'flightTs', 'fullTrace', 'geom_diff', 'geom_diff_ts', 'gs', 'history_size', 'icao', 'icaoType', 'icaoTypeCache', 'inView', 'interesting', 'ladd', 'last', 'lastTraceTs', 'lastVisible', 'last_info_server', 'last_message_time', 'layer', 'linesDrawn', 'marker', 'markerDrawn', 'markerIcon', 'markerStyle', 'markerStyleKey', 'markerSvgKey', 'messageRate', 'messageRateOld', 'messages', 'military', 'msgs1090', 'msgs978', 'nac_p', 'nac_v', 'name', 'nav_altitude', 'noInfoTime', 'numHex', 'onGround', 'ownOp', 'pia', 'position', 'position_time', 'prev_alt', 'prev_alt_rounded', 'prev_dataSource', 'prev_rot', 'prev_speed', 'prev_time', 'proj', 'psAPIparam', 'psAPIresponse', 'psAPIresponseTS', 'rc', 'recentTrace', 'refreshTR', 'registration', 'request_rotation_from_track', 'rotation', 'rotationCache', 'rssi', 'scale', 'seen', 'seen_pos', 'selectCache', 'selected', 'shape', 'sil', 'sil_type', 'sitedist', 'speed', 'squawk', 'strokeWidth', 'tail_rot', 'tail_track', 'tail_update', 'too_fast', 'tr', 'trCache', 'trace', 'track_linesegs', 'trail_features', 'typeDescription', 'typeLong', 'version', 'vert_rate', 'visible', 'wtc', 'year', 'zIndex']\n",
      "---------------------------------------\n",
      "753\n",
      "[1675828960.18, 37.710932, -122.224318, 'ground', 10.8, 182.8, 0, None, {'type': 'adsb_icao', 'flight': 'N628TS  ', 'track': 182.81, 'true_heading': 182.81, 'squawk': '3203', 'emergency': 'none', 'category': 'A3', 'nic': 8, 'rc': 186, 'version': 2, 'nac_p': 10, 'nac_v': 2, 'sil': 3, 'sil_type': 'perhour', 'sda': 2}, 'adsb_icao', None, None, None, None]\n",
      "\n",
      "[1675830824.96, 36.036925, -120.630292, 33000, 533.4, 138.4, 0, 0, {'type': 'adsb_icao', 'flight': 'N628TS  ', 'alt_geom': 33425, 'ias': 322, 'tas': 514, 'mach': 0.896, 'wd': 276, 'ws': 29, 'oat': -56, 'tat': -22, 'track': 138.42, 'track_rate': 0, 'roll': 0, 'mag_heading': 128.14, 'true_heading': 140.59, 'baro_rate': 0, 'geom_rate': 0, 'squawk': '3203', 'emergency': 'none', 'category': 'A3', 'nav_qnh': 1013.6, 'nav_altitude_mcp': 33024, 'nav_altitude_fms': 33008, 'nav_modes': ['autopilot', 'althold', 'tcas'], 'nic': 8, 'rc': 186, 'version': 2, 'nic_baro': 1, 'nac_p': 10, 'nac_v': 2, 'sil': 3, 'sil_type': 'perhour', 'gva': 2, 'sda': 2, 'alert': 0, 'spi': 0}, 'adsb_icao', 33425, 0, 322, 0]\n"
     ]
    }
   ],
   "source": [
    "print(sorted(list(js_data[0].keys())))\n",
    "print(\"---------------------------------------\")\n",
    "print(len(js_data[0]['fullTrace']['trace']))\n",
    "print(js_data[0]['fullTrace']['trace'][100])\n",
    "print(\"\")\n",
    "print(js_data[0]['fullTrace']['trace'][400])"
   ]
  },
  {
   "cell_type": "code",
   "execution_count": 183,
   "metadata": {},
   "outputs": [
    {
     "name": "stdout",
     "output_type": "stream",
     "text": [
      "2023-02-08 01:48:08\n"
     ]
    }
   ],
   "source": [
    "print(datetime.strptime(\"1970/01/01\", '%Y/%m/%d') + timedelta(seconds=1675820888))"
   ]
  },
  {
   "cell_type": "code",
   "execution_count": 184,
   "metadata": {},
   "outputs": [],
   "source": [
    "# from selenium.webdriver.chrome.service import Service\n",
    "# from time import sleep\n",
    "\n",
    "# chromedriver = \"C:/webdrivers/chromedriver.exe\"\n",
    "\n",
    "# option = webdriver.ChromeOptions()\n",
    "# option.binary_location = \"C:/Program Files/BraveSoftware/Brave-Browser/Application/brave.exe\"\n",
    "\n",
    "# s = Service(chromedriver)\n",
    "\n",
    "# driver = webdriver.Chrome(service=s, options=option)\n",
    "\n",
    "# #Patch Fingerprint leaks\n",
    "# script = \"Object.defineProperty(navigator, 'webdriver', {get: () => false})\"\n",
    "# driver.execute_cdp_cmd(\"Page.addScriptToEvaluateOnNewDocument\", {\"source\": script})\n",
    "\n",
    "# delta = endDate - startDate\n",
    "# for i in range(delta.days + 1):\n",
    "#     driver.get(\"https://globe.adsbexchange.com/?icao={}&lat={}&lon={}&zoom={}&showTrace={}\".format(targetIcao, lat, lon, zoom, startDate + timedelta(days=i)))\n",
    "#     # sleep(10)\n",
    "#     # element = driver.execute_script(\"return selectedPlanes()\")\n",
    "#     # print(element)\n",
    "# # driver.close()"
   ]
  }
 ],
 "metadata": {
  "kernelspec": {
   "display_name": "base",
   "language": "python",
   "name": "python3"
  },
  "language_info": {
   "codemirror_mode": {
    "name": "ipython",
    "version": 3
   },
   "file_extension": ".py",
   "mimetype": "text/x-python",
   "name": "python",
   "nbconvert_exporter": "python",
   "pygments_lexer": "ipython3",
   "version": "3.8.8"
  },
  "orig_nbformat": 4,
  "vscode": {
   "interpreter": {
    "hash": "56c86a9ba7b3d87e8dcf3ce7ca9250367f1d85331f77f621a926d7b96e36aeef"
   }
  }
 },
 "nbformat": 4,
 "nbformat_minor": 2
}
